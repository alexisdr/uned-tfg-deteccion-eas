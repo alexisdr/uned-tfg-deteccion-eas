{
  "nbformat": 4,
  "nbformat_minor": 0,
  "metadata": {
    "colab": {
      "provenance": [],
      "include_colab_link": true
    },
    "kernelspec": {
      "name": "python3",
      "display_name": "Python 3"
    },
    "language_info": {
      "name": "python"
    },
    "widgets": {
      "application/vnd.jupyter.widget-state+json": {
        "b5fef63b8dce42e785b088c9b0bf324a": {
          "model_module": "@jupyter-widgets/controls",
          "model_name": "HBoxModel",
          "model_module_version": "1.5.0",
          "state": {
            "_dom_classes": [],
            "_model_module": "@jupyter-widgets/controls",
            "_model_module_version": "1.5.0",
            "_model_name": "HBoxModel",
            "_view_count": null,
            "_view_module": "@jupyter-widgets/controls",
            "_view_module_version": "1.5.0",
            "_view_name": "HBoxView",
            "box_style": "",
            "children": [
              "IPY_MODEL_aacd6f45dc0a4a9596f27c91493fd0e1",
              "IPY_MODEL_6552421816774378a69d4619c028d5f6",
              "IPY_MODEL_25aec859a8e241219f1c91a096be0068"
            ],
            "layout": "IPY_MODEL_2436152f004b4b588f41130c9ae4f121"
          }
        },
        "aacd6f45dc0a4a9596f27c91493fd0e1": {
          "model_module": "@jupyter-widgets/controls",
          "model_name": "HTMLModel",
          "model_module_version": "1.5.0",
          "state": {
            "_dom_classes": [],
            "_model_module": "@jupyter-widgets/controls",
            "_model_module_version": "1.5.0",
            "_model_name": "HTMLModel",
            "_view_count": null,
            "_view_module": "@jupyter-widgets/controls",
            "_view_module_version": "1.5.0",
            "_view_name": "HTMLView",
            "description": "",
            "description_tooltip": null,
            "layout": "IPY_MODEL_6596c2a97ab347979f776988c3b4fe66",
            "placeholder": "​",
            "style": "IPY_MODEL_d56c2a93cc98455b99cbe5c9b28cedb1",
            "value": "Casting the dataset:   0%"
          }
        },
        "6552421816774378a69d4619c028d5f6": {
          "model_module": "@jupyter-widgets/controls",
          "model_name": "FloatProgressModel",
          "model_module_version": "1.5.0",
          "state": {
            "_dom_classes": [],
            "_model_module": "@jupyter-widgets/controls",
            "_model_module_version": "1.5.0",
            "_model_name": "FloatProgressModel",
            "_view_count": null,
            "_view_module": "@jupyter-widgets/controls",
            "_view_module_version": "1.5.0",
            "_view_name": "ProgressView",
            "bar_style": "",
            "description": "",
            "description_tooltip": null,
            "layout": "IPY_MODEL_109b677f15cd4f399f46c93dda584710",
            "max": 811,
            "min": 0,
            "orientation": "horizontal",
            "style": "IPY_MODEL_8cfb3d0ff50942128c7b5e895c88f7a8",
            "value": 811
          }
        },
        "25aec859a8e241219f1c91a096be0068": {
          "model_module": "@jupyter-widgets/controls",
          "model_name": "HTMLModel",
          "model_module_version": "1.5.0",
          "state": {
            "_dom_classes": [],
            "_model_module": "@jupyter-widgets/controls",
            "_model_module_version": "1.5.0",
            "_model_name": "HTMLModel",
            "_view_count": null,
            "_view_module": "@jupyter-widgets/controls",
            "_view_module_version": "1.5.0",
            "_view_name": "HTMLView",
            "description": "",
            "description_tooltip": null,
            "layout": "IPY_MODEL_4d3c85f2c9b942a0877a75efe9c95efb",
            "placeholder": "​",
            "style": "IPY_MODEL_3b2c5989ba57460794f2d802a7f1329b",
            "value": " 0/811 [00:00&lt;?, ? examples/s]"
          }
        },
        "2436152f004b4b588f41130c9ae4f121": {
          "model_module": "@jupyter-widgets/base",
          "model_name": "LayoutModel",
          "model_module_version": "1.2.0",
          "state": {
            "_model_module": "@jupyter-widgets/base",
            "_model_module_version": "1.2.0",
            "_model_name": "LayoutModel",
            "_view_count": null,
            "_view_module": "@jupyter-widgets/base",
            "_view_module_version": "1.2.0",
            "_view_name": "LayoutView",
            "align_content": null,
            "align_items": null,
            "align_self": null,
            "border": null,
            "bottom": null,
            "display": null,
            "flex": null,
            "flex_flow": null,
            "grid_area": null,
            "grid_auto_columns": null,
            "grid_auto_flow": null,
            "grid_auto_rows": null,
            "grid_column": null,
            "grid_gap": null,
            "grid_row": null,
            "grid_template_areas": null,
            "grid_template_columns": null,
            "grid_template_rows": null,
            "height": null,
            "justify_content": null,
            "justify_items": null,
            "left": null,
            "margin": null,
            "max_height": null,
            "max_width": null,
            "min_height": null,
            "min_width": null,
            "object_fit": null,
            "object_position": null,
            "order": null,
            "overflow": null,
            "overflow_x": null,
            "overflow_y": null,
            "padding": null,
            "right": null,
            "top": null,
            "visibility": "hidden",
            "width": null
          }
        },
        "6596c2a97ab347979f776988c3b4fe66": {
          "model_module": "@jupyter-widgets/base",
          "model_name": "LayoutModel",
          "model_module_version": "1.2.0",
          "state": {
            "_model_module": "@jupyter-widgets/base",
            "_model_module_version": "1.2.0",
            "_model_name": "LayoutModel",
            "_view_count": null,
            "_view_module": "@jupyter-widgets/base",
            "_view_module_version": "1.2.0",
            "_view_name": "LayoutView",
            "align_content": null,
            "align_items": null,
            "align_self": null,
            "border": null,
            "bottom": null,
            "display": null,
            "flex": null,
            "flex_flow": null,
            "grid_area": null,
            "grid_auto_columns": null,
            "grid_auto_flow": null,
            "grid_auto_rows": null,
            "grid_column": null,
            "grid_gap": null,
            "grid_row": null,
            "grid_template_areas": null,
            "grid_template_columns": null,
            "grid_template_rows": null,
            "height": null,
            "justify_content": null,
            "justify_items": null,
            "left": null,
            "margin": null,
            "max_height": null,
            "max_width": null,
            "min_height": null,
            "min_width": null,
            "object_fit": null,
            "object_position": null,
            "order": null,
            "overflow": null,
            "overflow_x": null,
            "overflow_y": null,
            "padding": null,
            "right": null,
            "top": null,
            "visibility": null,
            "width": null
          }
        },
        "d56c2a93cc98455b99cbe5c9b28cedb1": {
          "model_module": "@jupyter-widgets/controls",
          "model_name": "DescriptionStyleModel",
          "model_module_version": "1.5.0",
          "state": {
            "_model_module": "@jupyter-widgets/controls",
            "_model_module_version": "1.5.0",
            "_model_name": "DescriptionStyleModel",
            "_view_count": null,
            "_view_module": "@jupyter-widgets/base",
            "_view_module_version": "1.2.0",
            "_view_name": "StyleView",
            "description_width": ""
          }
        },
        "109b677f15cd4f399f46c93dda584710": {
          "model_module": "@jupyter-widgets/base",
          "model_name": "LayoutModel",
          "model_module_version": "1.2.0",
          "state": {
            "_model_module": "@jupyter-widgets/base",
            "_model_module_version": "1.2.0",
            "_model_name": "LayoutModel",
            "_view_count": null,
            "_view_module": "@jupyter-widgets/base",
            "_view_module_version": "1.2.0",
            "_view_name": "LayoutView",
            "align_content": null,
            "align_items": null,
            "align_self": null,
            "border": null,
            "bottom": null,
            "display": null,
            "flex": null,
            "flex_flow": null,
            "grid_area": null,
            "grid_auto_columns": null,
            "grid_auto_flow": null,
            "grid_auto_rows": null,
            "grid_column": null,
            "grid_gap": null,
            "grid_row": null,
            "grid_template_areas": null,
            "grid_template_columns": null,
            "grid_template_rows": null,
            "height": null,
            "justify_content": null,
            "justify_items": null,
            "left": null,
            "margin": null,
            "max_height": null,
            "max_width": null,
            "min_height": null,
            "min_width": null,
            "object_fit": null,
            "object_position": null,
            "order": null,
            "overflow": null,
            "overflow_x": null,
            "overflow_y": null,
            "padding": null,
            "right": null,
            "top": null,
            "visibility": null,
            "width": null
          }
        },
        "8cfb3d0ff50942128c7b5e895c88f7a8": {
          "model_module": "@jupyter-widgets/controls",
          "model_name": "ProgressStyleModel",
          "model_module_version": "1.5.0",
          "state": {
            "_model_module": "@jupyter-widgets/controls",
            "_model_module_version": "1.5.0",
            "_model_name": "ProgressStyleModel",
            "_view_count": null,
            "_view_module": "@jupyter-widgets/base",
            "_view_module_version": "1.2.0",
            "_view_name": "StyleView",
            "bar_color": null,
            "description_width": ""
          }
        },
        "4d3c85f2c9b942a0877a75efe9c95efb": {
          "model_module": "@jupyter-widgets/base",
          "model_name": "LayoutModel",
          "model_module_version": "1.2.0",
          "state": {
            "_model_module": "@jupyter-widgets/base",
            "_model_module_version": "1.2.0",
            "_model_name": "LayoutModel",
            "_view_count": null,
            "_view_module": "@jupyter-widgets/base",
            "_view_module_version": "1.2.0",
            "_view_name": "LayoutView",
            "align_content": null,
            "align_items": null,
            "align_self": null,
            "border": null,
            "bottom": null,
            "display": null,
            "flex": null,
            "flex_flow": null,
            "grid_area": null,
            "grid_auto_columns": null,
            "grid_auto_flow": null,
            "grid_auto_rows": null,
            "grid_column": null,
            "grid_gap": null,
            "grid_row": null,
            "grid_template_areas": null,
            "grid_template_columns": null,
            "grid_template_rows": null,
            "height": null,
            "justify_content": null,
            "justify_items": null,
            "left": null,
            "margin": null,
            "max_height": null,
            "max_width": null,
            "min_height": null,
            "min_width": null,
            "object_fit": null,
            "object_position": null,
            "order": null,
            "overflow": null,
            "overflow_x": null,
            "overflow_y": null,
            "padding": null,
            "right": null,
            "top": null,
            "visibility": null,
            "width": null
          }
        },
        "3b2c5989ba57460794f2d802a7f1329b": {
          "model_module": "@jupyter-widgets/controls",
          "model_name": "DescriptionStyleModel",
          "model_module_version": "1.5.0",
          "state": {
            "_model_module": "@jupyter-widgets/controls",
            "_model_module_version": "1.5.0",
            "_model_name": "DescriptionStyleModel",
            "_view_count": null,
            "_view_module": "@jupyter-widgets/base",
            "_view_module_version": "1.2.0",
            "_view_name": "StyleView",
            "description_width": ""
          }
        },
        "6202d9623feb400888cc28120073d4e6": {
          "model_module": "@jupyter-widgets/controls",
          "model_name": "HBoxModel",
          "model_module_version": "1.5.0",
          "state": {
            "_dom_classes": [],
            "_model_module": "@jupyter-widgets/controls",
            "_model_module_version": "1.5.0",
            "_model_name": "HBoxModel",
            "_view_count": null,
            "_view_module": "@jupyter-widgets/controls",
            "_view_module_version": "1.5.0",
            "_view_name": "HBoxView",
            "box_style": "",
            "children": [
              "IPY_MODEL_0f4b73853f6e472ab7b7e0dcf158218f",
              "IPY_MODEL_08e2f3f5f8b8482eb11b538c1b256102",
              "IPY_MODEL_33407ff74b2a4902a3ca79e7b50dabbf"
            ],
            "layout": "IPY_MODEL_9eb92bd0daf8485897d71ee27efa4ec9"
          }
        },
        "0f4b73853f6e472ab7b7e0dcf158218f": {
          "model_module": "@jupyter-widgets/controls",
          "model_name": "HTMLModel",
          "model_module_version": "1.5.0",
          "state": {
            "_dom_classes": [],
            "_model_module": "@jupyter-widgets/controls",
            "_model_module_version": "1.5.0",
            "_model_name": "HTMLModel",
            "_view_count": null,
            "_view_module": "@jupyter-widgets/controls",
            "_view_module_version": "1.5.0",
            "_view_name": "HTMLView",
            "description": "",
            "description_tooltip": null,
            "layout": "IPY_MODEL_261826c654ed4292a67cd058b81c5d2a",
            "placeholder": "​",
            "style": "IPY_MODEL_67e489c7677d4177bac910f49dec988a",
            "value": "Flattening the indices:   0%"
          }
        },
        "08e2f3f5f8b8482eb11b538c1b256102": {
          "model_module": "@jupyter-widgets/controls",
          "model_name": "FloatProgressModel",
          "model_module_version": "1.5.0",
          "state": {
            "_dom_classes": [],
            "_model_module": "@jupyter-widgets/controls",
            "_model_module_version": "1.5.0",
            "_model_name": "FloatProgressModel",
            "_view_count": null,
            "_view_module": "@jupyter-widgets/controls",
            "_view_module_version": "1.5.0",
            "_view_name": "ProgressView",
            "bar_style": "",
            "description": "",
            "description_tooltip": null,
            "layout": "IPY_MODEL_b5e07293e6e34ec28b4d0bd181280e3c",
            "max": 729,
            "min": 0,
            "orientation": "horizontal",
            "style": "IPY_MODEL_68d3ff053d2e4886ab07f5ae7b2e4b33",
            "value": 729
          }
        },
        "33407ff74b2a4902a3ca79e7b50dabbf": {
          "model_module": "@jupyter-widgets/controls",
          "model_name": "HTMLModel",
          "model_module_version": "1.5.0",
          "state": {
            "_dom_classes": [],
            "_model_module": "@jupyter-widgets/controls",
            "_model_module_version": "1.5.0",
            "_model_name": "HTMLModel",
            "_view_count": null,
            "_view_module": "@jupyter-widgets/controls",
            "_view_module_version": "1.5.0",
            "_view_name": "HTMLView",
            "description": "",
            "description_tooltip": null,
            "layout": "IPY_MODEL_5f7d99d814174505b26f56ae649c1df0",
            "placeholder": "​",
            "style": "IPY_MODEL_d3a59e26432d489c8b1e99bcbfa12490",
            "value": " 0/729 [00:00&lt;?, ? examples/s]"
          }
        },
        "9eb92bd0daf8485897d71ee27efa4ec9": {
          "model_module": "@jupyter-widgets/base",
          "model_name": "LayoutModel",
          "model_module_version": "1.2.0",
          "state": {
            "_model_module": "@jupyter-widgets/base",
            "_model_module_version": "1.2.0",
            "_model_name": "LayoutModel",
            "_view_count": null,
            "_view_module": "@jupyter-widgets/base",
            "_view_module_version": "1.2.0",
            "_view_name": "LayoutView",
            "align_content": null,
            "align_items": null,
            "align_self": null,
            "border": null,
            "bottom": null,
            "display": null,
            "flex": null,
            "flex_flow": null,
            "grid_area": null,
            "grid_auto_columns": null,
            "grid_auto_flow": null,
            "grid_auto_rows": null,
            "grid_column": null,
            "grid_gap": null,
            "grid_row": null,
            "grid_template_areas": null,
            "grid_template_columns": null,
            "grid_template_rows": null,
            "height": null,
            "justify_content": null,
            "justify_items": null,
            "left": null,
            "margin": null,
            "max_height": null,
            "max_width": null,
            "min_height": null,
            "min_width": null,
            "object_fit": null,
            "object_position": null,
            "order": null,
            "overflow": null,
            "overflow_x": null,
            "overflow_y": null,
            "padding": null,
            "right": null,
            "top": null,
            "visibility": "hidden",
            "width": null
          }
        },
        "261826c654ed4292a67cd058b81c5d2a": {
          "model_module": "@jupyter-widgets/base",
          "model_name": "LayoutModel",
          "model_module_version": "1.2.0",
          "state": {
            "_model_module": "@jupyter-widgets/base",
            "_model_module_version": "1.2.0",
            "_model_name": "LayoutModel",
            "_view_count": null,
            "_view_module": "@jupyter-widgets/base",
            "_view_module_version": "1.2.0",
            "_view_name": "LayoutView",
            "align_content": null,
            "align_items": null,
            "align_self": null,
            "border": null,
            "bottom": null,
            "display": null,
            "flex": null,
            "flex_flow": null,
            "grid_area": null,
            "grid_auto_columns": null,
            "grid_auto_flow": null,
            "grid_auto_rows": null,
            "grid_column": null,
            "grid_gap": null,
            "grid_row": null,
            "grid_template_areas": null,
            "grid_template_columns": null,
            "grid_template_rows": null,
            "height": null,
            "justify_content": null,
            "justify_items": null,
            "left": null,
            "margin": null,
            "max_height": null,
            "max_width": null,
            "min_height": null,
            "min_width": null,
            "object_fit": null,
            "object_position": null,
            "order": null,
            "overflow": null,
            "overflow_x": null,
            "overflow_y": null,
            "padding": null,
            "right": null,
            "top": null,
            "visibility": null,
            "width": null
          }
        },
        "67e489c7677d4177bac910f49dec988a": {
          "model_module": "@jupyter-widgets/controls",
          "model_name": "DescriptionStyleModel",
          "model_module_version": "1.5.0",
          "state": {
            "_model_module": "@jupyter-widgets/controls",
            "_model_module_version": "1.5.0",
            "_model_name": "DescriptionStyleModel",
            "_view_count": null,
            "_view_module": "@jupyter-widgets/base",
            "_view_module_version": "1.2.0",
            "_view_name": "StyleView",
            "description_width": ""
          }
        },
        "b5e07293e6e34ec28b4d0bd181280e3c": {
          "model_module": "@jupyter-widgets/base",
          "model_name": "LayoutModel",
          "model_module_version": "1.2.0",
          "state": {
            "_model_module": "@jupyter-widgets/base",
            "_model_module_version": "1.2.0",
            "_model_name": "LayoutModel",
            "_view_count": null,
            "_view_module": "@jupyter-widgets/base",
            "_view_module_version": "1.2.0",
            "_view_name": "LayoutView",
            "align_content": null,
            "align_items": null,
            "align_self": null,
            "border": null,
            "bottom": null,
            "display": null,
            "flex": null,
            "flex_flow": null,
            "grid_area": null,
            "grid_auto_columns": null,
            "grid_auto_flow": null,
            "grid_auto_rows": null,
            "grid_column": null,
            "grid_gap": null,
            "grid_row": null,
            "grid_template_areas": null,
            "grid_template_columns": null,
            "grid_template_rows": null,
            "height": null,
            "justify_content": null,
            "justify_items": null,
            "left": null,
            "margin": null,
            "max_height": null,
            "max_width": null,
            "min_height": null,
            "min_width": null,
            "object_fit": null,
            "object_position": null,
            "order": null,
            "overflow": null,
            "overflow_x": null,
            "overflow_y": null,
            "padding": null,
            "right": null,
            "top": null,
            "visibility": null,
            "width": null
          }
        },
        "68d3ff053d2e4886ab07f5ae7b2e4b33": {
          "model_module": "@jupyter-widgets/controls",
          "model_name": "ProgressStyleModel",
          "model_module_version": "1.5.0",
          "state": {
            "_model_module": "@jupyter-widgets/controls",
            "_model_module_version": "1.5.0",
            "_model_name": "ProgressStyleModel",
            "_view_count": null,
            "_view_module": "@jupyter-widgets/base",
            "_view_module_version": "1.2.0",
            "_view_name": "StyleView",
            "bar_color": null,
            "description_width": ""
          }
        },
        "5f7d99d814174505b26f56ae649c1df0": {
          "model_module": "@jupyter-widgets/base",
          "model_name": "LayoutModel",
          "model_module_version": "1.2.0",
          "state": {
            "_model_module": "@jupyter-widgets/base",
            "_model_module_version": "1.2.0",
            "_model_name": "LayoutModel",
            "_view_count": null,
            "_view_module": "@jupyter-widgets/base",
            "_view_module_version": "1.2.0",
            "_view_name": "LayoutView",
            "align_content": null,
            "align_items": null,
            "align_self": null,
            "border": null,
            "bottom": null,
            "display": null,
            "flex": null,
            "flex_flow": null,
            "grid_area": null,
            "grid_auto_columns": null,
            "grid_auto_flow": null,
            "grid_auto_rows": null,
            "grid_column": null,
            "grid_gap": null,
            "grid_row": null,
            "grid_template_areas": null,
            "grid_template_columns": null,
            "grid_template_rows": null,
            "height": null,
            "justify_content": null,
            "justify_items": null,
            "left": null,
            "margin": null,
            "max_height": null,
            "max_width": null,
            "min_height": null,
            "min_width": null,
            "object_fit": null,
            "object_position": null,
            "order": null,
            "overflow": null,
            "overflow_x": null,
            "overflow_y": null,
            "padding": null,
            "right": null,
            "top": null,
            "visibility": null,
            "width": null
          }
        },
        "d3a59e26432d489c8b1e99bcbfa12490": {
          "model_module": "@jupyter-widgets/controls",
          "model_name": "DescriptionStyleModel",
          "model_module_version": "1.5.0",
          "state": {
            "_model_module": "@jupyter-widgets/controls",
            "_model_module_version": "1.5.0",
            "_model_name": "DescriptionStyleModel",
            "_view_count": null,
            "_view_module": "@jupyter-widgets/base",
            "_view_module_version": "1.2.0",
            "_view_name": "StyleView",
            "description_width": ""
          }
        },
        "f73df4fddc9c4db9a3444f1d0478bb71": {
          "model_module": "@jupyter-widgets/controls",
          "model_name": "HBoxModel",
          "model_module_version": "1.5.0",
          "state": {
            "_dom_classes": [],
            "_model_module": "@jupyter-widgets/controls",
            "_model_module_version": "1.5.0",
            "_model_name": "HBoxModel",
            "_view_count": null,
            "_view_module": "@jupyter-widgets/controls",
            "_view_module_version": "1.5.0",
            "_view_name": "HBoxView",
            "box_style": "",
            "children": [
              "IPY_MODEL_603c51f93d204c63be9095da060f18be",
              "IPY_MODEL_9f53db0b1a0040f9b59ed7b3ad1385ef",
              "IPY_MODEL_9d257ac0d8804f558a7b40a54aaedbe0"
            ],
            "layout": "IPY_MODEL_fc75d226279c4315ab4430682b820ccc"
          }
        },
        "603c51f93d204c63be9095da060f18be": {
          "model_module": "@jupyter-widgets/controls",
          "model_name": "HTMLModel",
          "model_module_version": "1.5.0",
          "state": {
            "_dom_classes": [],
            "_model_module": "@jupyter-widgets/controls",
            "_model_module_version": "1.5.0",
            "_model_name": "HTMLModel",
            "_view_count": null,
            "_view_module": "@jupyter-widgets/controls",
            "_view_module_version": "1.5.0",
            "_view_name": "HTMLView",
            "description": "",
            "description_tooltip": null,
            "layout": "IPY_MODEL_738aec84683d4881aa1c0f41a8a9107c",
            "placeholder": "​",
            "style": "IPY_MODEL_0a0d7f528a8e48b6b8c49c43c10e5dab",
            "value": "Saving the dataset (1/1 shards): 100%"
          }
        },
        "9f53db0b1a0040f9b59ed7b3ad1385ef": {
          "model_module": "@jupyter-widgets/controls",
          "model_name": "FloatProgressModel",
          "model_module_version": "1.5.0",
          "state": {
            "_dom_classes": [],
            "_model_module": "@jupyter-widgets/controls",
            "_model_module_version": "1.5.0",
            "_model_name": "FloatProgressModel",
            "_view_count": null,
            "_view_module": "@jupyter-widgets/controls",
            "_view_module_version": "1.5.0",
            "_view_name": "ProgressView",
            "bar_style": "",
            "description": "",
            "description_tooltip": null,
            "layout": "IPY_MODEL_3a083a3c3f37455b96adbdd6d89a5328",
            "max": 729,
            "min": 0,
            "orientation": "horizontal",
            "style": "IPY_MODEL_478520ac8d2a46a3978ddb7423c62fa0",
            "value": 729
          }
        },
        "9d257ac0d8804f558a7b40a54aaedbe0": {
          "model_module": "@jupyter-widgets/controls",
          "model_name": "HTMLModel",
          "model_module_version": "1.5.0",
          "state": {
            "_dom_classes": [],
            "_model_module": "@jupyter-widgets/controls",
            "_model_module_version": "1.5.0",
            "_model_name": "HTMLModel",
            "_view_count": null,
            "_view_module": "@jupyter-widgets/controls",
            "_view_module_version": "1.5.0",
            "_view_name": "HTMLView",
            "description": "",
            "description_tooltip": null,
            "layout": "IPY_MODEL_5823288c5dcd4241abdd08b80e1565c1",
            "placeholder": "​",
            "style": "IPY_MODEL_4e12075fbb014928a6ffad9b130c3c98",
            "value": " 729/729 [00:00&lt;00:00, 11550.41 examples/s]"
          }
        },
        "fc75d226279c4315ab4430682b820ccc": {
          "model_module": "@jupyter-widgets/base",
          "model_name": "LayoutModel",
          "model_module_version": "1.2.0",
          "state": {
            "_model_module": "@jupyter-widgets/base",
            "_model_module_version": "1.2.0",
            "_model_name": "LayoutModel",
            "_view_count": null,
            "_view_module": "@jupyter-widgets/base",
            "_view_module_version": "1.2.0",
            "_view_name": "LayoutView",
            "align_content": null,
            "align_items": null,
            "align_self": null,
            "border": null,
            "bottom": null,
            "display": null,
            "flex": null,
            "flex_flow": null,
            "grid_area": null,
            "grid_auto_columns": null,
            "grid_auto_flow": null,
            "grid_auto_rows": null,
            "grid_column": null,
            "grid_gap": null,
            "grid_row": null,
            "grid_template_areas": null,
            "grid_template_columns": null,
            "grid_template_rows": null,
            "height": null,
            "justify_content": null,
            "justify_items": null,
            "left": null,
            "margin": null,
            "max_height": null,
            "max_width": null,
            "min_height": null,
            "min_width": null,
            "object_fit": null,
            "object_position": null,
            "order": null,
            "overflow": null,
            "overflow_x": null,
            "overflow_y": null,
            "padding": null,
            "right": null,
            "top": null,
            "visibility": "hidden",
            "width": null
          }
        },
        "738aec84683d4881aa1c0f41a8a9107c": {
          "model_module": "@jupyter-widgets/base",
          "model_name": "LayoutModel",
          "model_module_version": "1.2.0",
          "state": {
            "_model_module": "@jupyter-widgets/base",
            "_model_module_version": "1.2.0",
            "_model_name": "LayoutModel",
            "_view_count": null,
            "_view_module": "@jupyter-widgets/base",
            "_view_module_version": "1.2.0",
            "_view_name": "LayoutView",
            "align_content": null,
            "align_items": null,
            "align_self": null,
            "border": null,
            "bottom": null,
            "display": null,
            "flex": null,
            "flex_flow": null,
            "grid_area": null,
            "grid_auto_columns": null,
            "grid_auto_flow": null,
            "grid_auto_rows": null,
            "grid_column": null,
            "grid_gap": null,
            "grid_row": null,
            "grid_template_areas": null,
            "grid_template_columns": null,
            "grid_template_rows": null,
            "height": null,
            "justify_content": null,
            "justify_items": null,
            "left": null,
            "margin": null,
            "max_height": null,
            "max_width": null,
            "min_height": null,
            "min_width": null,
            "object_fit": null,
            "object_position": null,
            "order": null,
            "overflow": null,
            "overflow_x": null,
            "overflow_y": null,
            "padding": null,
            "right": null,
            "top": null,
            "visibility": null,
            "width": null
          }
        },
        "0a0d7f528a8e48b6b8c49c43c10e5dab": {
          "model_module": "@jupyter-widgets/controls",
          "model_name": "DescriptionStyleModel",
          "model_module_version": "1.5.0",
          "state": {
            "_model_module": "@jupyter-widgets/controls",
            "_model_module_version": "1.5.0",
            "_model_name": "DescriptionStyleModel",
            "_view_count": null,
            "_view_module": "@jupyter-widgets/base",
            "_view_module_version": "1.2.0",
            "_view_name": "StyleView",
            "description_width": ""
          }
        },
        "3a083a3c3f37455b96adbdd6d89a5328": {
          "model_module": "@jupyter-widgets/base",
          "model_name": "LayoutModel",
          "model_module_version": "1.2.0",
          "state": {
            "_model_module": "@jupyter-widgets/base",
            "_model_module_version": "1.2.0",
            "_model_name": "LayoutModel",
            "_view_count": null,
            "_view_module": "@jupyter-widgets/base",
            "_view_module_version": "1.2.0",
            "_view_name": "LayoutView",
            "align_content": null,
            "align_items": null,
            "align_self": null,
            "border": null,
            "bottom": null,
            "display": null,
            "flex": null,
            "flex_flow": null,
            "grid_area": null,
            "grid_auto_columns": null,
            "grid_auto_flow": null,
            "grid_auto_rows": null,
            "grid_column": null,
            "grid_gap": null,
            "grid_row": null,
            "grid_template_areas": null,
            "grid_template_columns": null,
            "grid_template_rows": null,
            "height": null,
            "justify_content": null,
            "justify_items": null,
            "left": null,
            "margin": null,
            "max_height": null,
            "max_width": null,
            "min_height": null,
            "min_width": null,
            "object_fit": null,
            "object_position": null,
            "order": null,
            "overflow": null,
            "overflow_x": null,
            "overflow_y": null,
            "padding": null,
            "right": null,
            "top": null,
            "visibility": null,
            "width": null
          }
        },
        "478520ac8d2a46a3978ddb7423c62fa0": {
          "model_module": "@jupyter-widgets/controls",
          "model_name": "ProgressStyleModel",
          "model_module_version": "1.5.0",
          "state": {
            "_model_module": "@jupyter-widgets/controls",
            "_model_module_version": "1.5.0",
            "_model_name": "ProgressStyleModel",
            "_view_count": null,
            "_view_module": "@jupyter-widgets/base",
            "_view_module_version": "1.2.0",
            "_view_name": "StyleView",
            "bar_color": null,
            "description_width": ""
          }
        },
        "5823288c5dcd4241abdd08b80e1565c1": {
          "model_module": "@jupyter-widgets/base",
          "model_name": "LayoutModel",
          "model_module_version": "1.2.0",
          "state": {
            "_model_module": "@jupyter-widgets/base",
            "_model_module_version": "1.2.0",
            "_model_name": "LayoutModel",
            "_view_count": null,
            "_view_module": "@jupyter-widgets/base",
            "_view_module_version": "1.2.0",
            "_view_name": "LayoutView",
            "align_content": null,
            "align_items": null,
            "align_self": null,
            "border": null,
            "bottom": null,
            "display": null,
            "flex": null,
            "flex_flow": null,
            "grid_area": null,
            "grid_auto_columns": null,
            "grid_auto_flow": null,
            "grid_auto_rows": null,
            "grid_column": null,
            "grid_gap": null,
            "grid_row": null,
            "grid_template_areas": null,
            "grid_template_columns": null,
            "grid_template_rows": null,
            "height": null,
            "justify_content": null,
            "justify_items": null,
            "left": null,
            "margin": null,
            "max_height": null,
            "max_width": null,
            "min_height": null,
            "min_width": null,
            "object_fit": null,
            "object_position": null,
            "order": null,
            "overflow": null,
            "overflow_x": null,
            "overflow_y": null,
            "padding": null,
            "right": null,
            "top": null,
            "visibility": null,
            "width": null
          }
        },
        "4e12075fbb014928a6ffad9b130c3c98": {
          "model_module": "@jupyter-widgets/controls",
          "model_name": "DescriptionStyleModel",
          "model_module_version": "1.5.0",
          "state": {
            "_model_module": "@jupyter-widgets/controls",
            "_model_module_version": "1.5.0",
            "_model_name": "DescriptionStyleModel",
            "_view_count": null,
            "_view_module": "@jupyter-widgets/base",
            "_view_module_version": "1.2.0",
            "_view_name": "StyleView",
            "description_width": ""
          }
        },
        "0877c7697394402fa74d7f8e6561cf0c": {
          "model_module": "@jupyter-widgets/controls",
          "model_name": "HBoxModel",
          "model_module_version": "1.5.0",
          "state": {
            "_dom_classes": [],
            "_model_module": "@jupyter-widgets/controls",
            "_model_module_version": "1.5.0",
            "_model_name": "HBoxModel",
            "_view_count": null,
            "_view_module": "@jupyter-widgets/controls",
            "_view_module_version": "1.5.0",
            "_view_name": "HBoxView",
            "box_style": "",
            "children": [
              "IPY_MODEL_4394a639d6364e21acceab234be54c47",
              "IPY_MODEL_8c50452018124271b850d5a3e69e7635",
              "IPY_MODEL_6972d61132ef44b590b28b2896f5eec4"
            ],
            "layout": "IPY_MODEL_e791ace5823c43079bdfb7a2f35013bf"
          }
        },
        "4394a639d6364e21acceab234be54c47": {
          "model_module": "@jupyter-widgets/controls",
          "model_name": "HTMLModel",
          "model_module_version": "1.5.0",
          "state": {
            "_dom_classes": [],
            "_model_module": "@jupyter-widgets/controls",
            "_model_module_version": "1.5.0",
            "_model_name": "HTMLModel",
            "_view_count": null,
            "_view_module": "@jupyter-widgets/controls",
            "_view_module_version": "1.5.0",
            "_view_name": "HTMLView",
            "description": "",
            "description_tooltip": null,
            "layout": "IPY_MODEL_24980986b5dd48e0a7662aff306aee13",
            "placeholder": "​",
            "style": "IPY_MODEL_f8810d7f727f4800bd5b7394df42382b",
            "value": "Flattening the indices:   0%"
          }
        },
        "8c50452018124271b850d5a3e69e7635": {
          "model_module": "@jupyter-widgets/controls",
          "model_name": "FloatProgressModel",
          "model_module_version": "1.5.0",
          "state": {
            "_dom_classes": [],
            "_model_module": "@jupyter-widgets/controls",
            "_model_module_version": "1.5.0",
            "_model_name": "FloatProgressModel",
            "_view_count": null,
            "_view_module": "@jupyter-widgets/controls",
            "_view_module_version": "1.5.0",
            "_view_name": "ProgressView",
            "bar_style": "",
            "description": "",
            "description_tooltip": null,
            "layout": "IPY_MODEL_60758c0bb2874fb6b60f2043d7a0c96a",
            "max": 82,
            "min": 0,
            "orientation": "horizontal",
            "style": "IPY_MODEL_e6dc94a0828042f586ab82bc4e2750be",
            "value": 82
          }
        },
        "6972d61132ef44b590b28b2896f5eec4": {
          "model_module": "@jupyter-widgets/controls",
          "model_name": "HTMLModel",
          "model_module_version": "1.5.0",
          "state": {
            "_dom_classes": [],
            "_model_module": "@jupyter-widgets/controls",
            "_model_module_version": "1.5.0",
            "_model_name": "HTMLModel",
            "_view_count": null,
            "_view_module": "@jupyter-widgets/controls",
            "_view_module_version": "1.5.0",
            "_view_name": "HTMLView",
            "description": "",
            "description_tooltip": null,
            "layout": "IPY_MODEL_5bc552cbd67e4039a4a16079f00ac3e9",
            "placeholder": "​",
            "style": "IPY_MODEL_1287b177df1844328eb6ec03f90d31c4",
            "value": " 0/82 [00:00&lt;?, ? examples/s]"
          }
        },
        "e791ace5823c43079bdfb7a2f35013bf": {
          "model_module": "@jupyter-widgets/base",
          "model_name": "LayoutModel",
          "model_module_version": "1.2.0",
          "state": {
            "_model_module": "@jupyter-widgets/base",
            "_model_module_version": "1.2.0",
            "_model_name": "LayoutModel",
            "_view_count": null,
            "_view_module": "@jupyter-widgets/base",
            "_view_module_version": "1.2.0",
            "_view_name": "LayoutView",
            "align_content": null,
            "align_items": null,
            "align_self": null,
            "border": null,
            "bottom": null,
            "display": null,
            "flex": null,
            "flex_flow": null,
            "grid_area": null,
            "grid_auto_columns": null,
            "grid_auto_flow": null,
            "grid_auto_rows": null,
            "grid_column": null,
            "grid_gap": null,
            "grid_row": null,
            "grid_template_areas": null,
            "grid_template_columns": null,
            "grid_template_rows": null,
            "height": null,
            "justify_content": null,
            "justify_items": null,
            "left": null,
            "margin": null,
            "max_height": null,
            "max_width": null,
            "min_height": null,
            "min_width": null,
            "object_fit": null,
            "object_position": null,
            "order": null,
            "overflow": null,
            "overflow_x": null,
            "overflow_y": null,
            "padding": null,
            "right": null,
            "top": null,
            "visibility": "hidden",
            "width": null
          }
        },
        "24980986b5dd48e0a7662aff306aee13": {
          "model_module": "@jupyter-widgets/base",
          "model_name": "LayoutModel",
          "model_module_version": "1.2.0",
          "state": {
            "_model_module": "@jupyter-widgets/base",
            "_model_module_version": "1.2.0",
            "_model_name": "LayoutModel",
            "_view_count": null,
            "_view_module": "@jupyter-widgets/base",
            "_view_module_version": "1.2.0",
            "_view_name": "LayoutView",
            "align_content": null,
            "align_items": null,
            "align_self": null,
            "border": null,
            "bottom": null,
            "display": null,
            "flex": null,
            "flex_flow": null,
            "grid_area": null,
            "grid_auto_columns": null,
            "grid_auto_flow": null,
            "grid_auto_rows": null,
            "grid_column": null,
            "grid_gap": null,
            "grid_row": null,
            "grid_template_areas": null,
            "grid_template_columns": null,
            "grid_template_rows": null,
            "height": null,
            "justify_content": null,
            "justify_items": null,
            "left": null,
            "margin": null,
            "max_height": null,
            "max_width": null,
            "min_height": null,
            "min_width": null,
            "object_fit": null,
            "object_position": null,
            "order": null,
            "overflow": null,
            "overflow_x": null,
            "overflow_y": null,
            "padding": null,
            "right": null,
            "top": null,
            "visibility": null,
            "width": null
          }
        },
        "f8810d7f727f4800bd5b7394df42382b": {
          "model_module": "@jupyter-widgets/controls",
          "model_name": "DescriptionStyleModel",
          "model_module_version": "1.5.0",
          "state": {
            "_model_module": "@jupyter-widgets/controls",
            "_model_module_version": "1.5.0",
            "_model_name": "DescriptionStyleModel",
            "_view_count": null,
            "_view_module": "@jupyter-widgets/base",
            "_view_module_version": "1.2.0",
            "_view_name": "StyleView",
            "description_width": ""
          }
        },
        "60758c0bb2874fb6b60f2043d7a0c96a": {
          "model_module": "@jupyter-widgets/base",
          "model_name": "LayoutModel",
          "model_module_version": "1.2.0",
          "state": {
            "_model_module": "@jupyter-widgets/base",
            "_model_module_version": "1.2.0",
            "_model_name": "LayoutModel",
            "_view_count": null,
            "_view_module": "@jupyter-widgets/base",
            "_view_module_version": "1.2.0",
            "_view_name": "LayoutView",
            "align_content": null,
            "align_items": null,
            "align_self": null,
            "border": null,
            "bottom": null,
            "display": null,
            "flex": null,
            "flex_flow": null,
            "grid_area": null,
            "grid_auto_columns": null,
            "grid_auto_flow": null,
            "grid_auto_rows": null,
            "grid_column": null,
            "grid_gap": null,
            "grid_row": null,
            "grid_template_areas": null,
            "grid_template_columns": null,
            "grid_template_rows": null,
            "height": null,
            "justify_content": null,
            "justify_items": null,
            "left": null,
            "margin": null,
            "max_height": null,
            "max_width": null,
            "min_height": null,
            "min_width": null,
            "object_fit": null,
            "object_position": null,
            "order": null,
            "overflow": null,
            "overflow_x": null,
            "overflow_y": null,
            "padding": null,
            "right": null,
            "top": null,
            "visibility": null,
            "width": null
          }
        },
        "e6dc94a0828042f586ab82bc4e2750be": {
          "model_module": "@jupyter-widgets/controls",
          "model_name": "ProgressStyleModel",
          "model_module_version": "1.5.0",
          "state": {
            "_model_module": "@jupyter-widgets/controls",
            "_model_module_version": "1.5.0",
            "_model_name": "ProgressStyleModel",
            "_view_count": null,
            "_view_module": "@jupyter-widgets/base",
            "_view_module_version": "1.2.0",
            "_view_name": "StyleView",
            "bar_color": null,
            "description_width": ""
          }
        },
        "5bc552cbd67e4039a4a16079f00ac3e9": {
          "model_module": "@jupyter-widgets/base",
          "model_name": "LayoutModel",
          "model_module_version": "1.2.0",
          "state": {
            "_model_module": "@jupyter-widgets/base",
            "_model_module_version": "1.2.0",
            "_model_name": "LayoutModel",
            "_view_count": null,
            "_view_module": "@jupyter-widgets/base",
            "_view_module_version": "1.2.0",
            "_view_name": "LayoutView",
            "align_content": null,
            "align_items": null,
            "align_self": null,
            "border": null,
            "bottom": null,
            "display": null,
            "flex": null,
            "flex_flow": null,
            "grid_area": null,
            "grid_auto_columns": null,
            "grid_auto_flow": null,
            "grid_auto_rows": null,
            "grid_column": null,
            "grid_gap": null,
            "grid_row": null,
            "grid_template_areas": null,
            "grid_template_columns": null,
            "grid_template_rows": null,
            "height": null,
            "justify_content": null,
            "justify_items": null,
            "left": null,
            "margin": null,
            "max_height": null,
            "max_width": null,
            "min_height": null,
            "min_width": null,
            "object_fit": null,
            "object_position": null,
            "order": null,
            "overflow": null,
            "overflow_x": null,
            "overflow_y": null,
            "padding": null,
            "right": null,
            "top": null,
            "visibility": null,
            "width": null
          }
        },
        "1287b177df1844328eb6ec03f90d31c4": {
          "model_module": "@jupyter-widgets/controls",
          "model_name": "DescriptionStyleModel",
          "model_module_version": "1.5.0",
          "state": {
            "_model_module": "@jupyter-widgets/controls",
            "_model_module_version": "1.5.0",
            "_model_name": "DescriptionStyleModel",
            "_view_count": null,
            "_view_module": "@jupyter-widgets/base",
            "_view_module_version": "1.2.0",
            "_view_name": "StyleView",
            "description_width": ""
          }
        },
        "5ec5436a46cb477ebac95803f924f03e": {
          "model_module": "@jupyter-widgets/controls",
          "model_name": "HBoxModel",
          "model_module_version": "1.5.0",
          "state": {
            "_dom_classes": [],
            "_model_module": "@jupyter-widgets/controls",
            "_model_module_version": "1.5.0",
            "_model_name": "HBoxModel",
            "_view_count": null,
            "_view_module": "@jupyter-widgets/controls",
            "_view_module_version": "1.5.0",
            "_view_name": "HBoxView",
            "box_style": "",
            "children": [
              "IPY_MODEL_73b3e40ddd0d4c34b744d15360c4f723",
              "IPY_MODEL_8ed253139f0c430689075f405a76229d",
              "IPY_MODEL_fbe4076f5c9041f0a78b5e33846318dc"
            ],
            "layout": "IPY_MODEL_13e0221f9f0440e29b81ac78138d3200"
          }
        },
        "73b3e40ddd0d4c34b744d15360c4f723": {
          "model_module": "@jupyter-widgets/controls",
          "model_name": "HTMLModel",
          "model_module_version": "1.5.0",
          "state": {
            "_dom_classes": [],
            "_model_module": "@jupyter-widgets/controls",
            "_model_module_version": "1.5.0",
            "_model_name": "HTMLModel",
            "_view_count": null,
            "_view_module": "@jupyter-widgets/controls",
            "_view_module_version": "1.5.0",
            "_view_name": "HTMLView",
            "description": "",
            "description_tooltip": null,
            "layout": "IPY_MODEL_b731731982304caaac08a296a928802a",
            "placeholder": "​",
            "style": "IPY_MODEL_ff88232b28184fccb07ab780048e3f83",
            "value": "Saving the dataset (1/1 shards): 100%"
          }
        },
        "8ed253139f0c430689075f405a76229d": {
          "model_module": "@jupyter-widgets/controls",
          "model_name": "FloatProgressModel",
          "model_module_version": "1.5.0",
          "state": {
            "_dom_classes": [],
            "_model_module": "@jupyter-widgets/controls",
            "_model_module_version": "1.5.0",
            "_model_name": "FloatProgressModel",
            "_view_count": null,
            "_view_module": "@jupyter-widgets/controls",
            "_view_module_version": "1.5.0",
            "_view_name": "ProgressView",
            "bar_style": "",
            "description": "",
            "description_tooltip": null,
            "layout": "IPY_MODEL_a07d5f6c2b6043a2b29273b7970d17e0",
            "max": 82,
            "min": 0,
            "orientation": "horizontal",
            "style": "IPY_MODEL_56cd89d4b7444adeb7398aeeb2c7d589",
            "value": 82
          }
        },
        "fbe4076f5c9041f0a78b5e33846318dc": {
          "model_module": "@jupyter-widgets/controls",
          "model_name": "HTMLModel",
          "model_module_version": "1.5.0",
          "state": {
            "_dom_classes": [],
            "_model_module": "@jupyter-widgets/controls",
            "_model_module_version": "1.5.0",
            "_model_name": "HTMLModel",
            "_view_count": null,
            "_view_module": "@jupyter-widgets/controls",
            "_view_module_version": "1.5.0",
            "_view_name": "HTMLView",
            "description": "",
            "description_tooltip": null,
            "layout": "IPY_MODEL_d74b801b09c34832a2b64ff1a395c421",
            "placeholder": "​",
            "style": "IPY_MODEL_645b2abe74cd42b988b8f28eb49a5540",
            "value": " 82/82 [00:00&lt;00:00, 2329.76 examples/s]"
          }
        },
        "13e0221f9f0440e29b81ac78138d3200": {
          "model_module": "@jupyter-widgets/base",
          "model_name": "LayoutModel",
          "model_module_version": "1.2.0",
          "state": {
            "_model_module": "@jupyter-widgets/base",
            "_model_module_version": "1.2.0",
            "_model_name": "LayoutModel",
            "_view_count": null,
            "_view_module": "@jupyter-widgets/base",
            "_view_module_version": "1.2.0",
            "_view_name": "LayoutView",
            "align_content": null,
            "align_items": null,
            "align_self": null,
            "border": null,
            "bottom": null,
            "display": null,
            "flex": null,
            "flex_flow": null,
            "grid_area": null,
            "grid_auto_columns": null,
            "grid_auto_flow": null,
            "grid_auto_rows": null,
            "grid_column": null,
            "grid_gap": null,
            "grid_row": null,
            "grid_template_areas": null,
            "grid_template_columns": null,
            "grid_template_rows": null,
            "height": null,
            "justify_content": null,
            "justify_items": null,
            "left": null,
            "margin": null,
            "max_height": null,
            "max_width": null,
            "min_height": null,
            "min_width": null,
            "object_fit": null,
            "object_position": null,
            "order": null,
            "overflow": null,
            "overflow_x": null,
            "overflow_y": null,
            "padding": null,
            "right": null,
            "top": null,
            "visibility": "hidden",
            "width": null
          }
        },
        "b731731982304caaac08a296a928802a": {
          "model_module": "@jupyter-widgets/base",
          "model_name": "LayoutModel",
          "model_module_version": "1.2.0",
          "state": {
            "_model_module": "@jupyter-widgets/base",
            "_model_module_version": "1.2.0",
            "_model_name": "LayoutModel",
            "_view_count": null,
            "_view_module": "@jupyter-widgets/base",
            "_view_module_version": "1.2.0",
            "_view_name": "LayoutView",
            "align_content": null,
            "align_items": null,
            "align_self": null,
            "border": null,
            "bottom": null,
            "display": null,
            "flex": null,
            "flex_flow": null,
            "grid_area": null,
            "grid_auto_columns": null,
            "grid_auto_flow": null,
            "grid_auto_rows": null,
            "grid_column": null,
            "grid_gap": null,
            "grid_row": null,
            "grid_template_areas": null,
            "grid_template_columns": null,
            "grid_template_rows": null,
            "height": null,
            "justify_content": null,
            "justify_items": null,
            "left": null,
            "margin": null,
            "max_height": null,
            "max_width": null,
            "min_height": null,
            "min_width": null,
            "object_fit": null,
            "object_position": null,
            "order": null,
            "overflow": null,
            "overflow_x": null,
            "overflow_y": null,
            "padding": null,
            "right": null,
            "top": null,
            "visibility": null,
            "width": null
          }
        },
        "ff88232b28184fccb07ab780048e3f83": {
          "model_module": "@jupyter-widgets/controls",
          "model_name": "DescriptionStyleModel",
          "model_module_version": "1.5.0",
          "state": {
            "_model_module": "@jupyter-widgets/controls",
            "_model_module_version": "1.5.0",
            "_model_name": "DescriptionStyleModel",
            "_view_count": null,
            "_view_module": "@jupyter-widgets/base",
            "_view_module_version": "1.2.0",
            "_view_name": "StyleView",
            "description_width": ""
          }
        },
        "a07d5f6c2b6043a2b29273b7970d17e0": {
          "model_module": "@jupyter-widgets/base",
          "model_name": "LayoutModel",
          "model_module_version": "1.2.0",
          "state": {
            "_model_module": "@jupyter-widgets/base",
            "_model_module_version": "1.2.0",
            "_model_name": "LayoutModel",
            "_view_count": null,
            "_view_module": "@jupyter-widgets/base",
            "_view_module_version": "1.2.0",
            "_view_name": "LayoutView",
            "align_content": null,
            "align_items": null,
            "align_self": null,
            "border": null,
            "bottom": null,
            "display": null,
            "flex": null,
            "flex_flow": null,
            "grid_area": null,
            "grid_auto_columns": null,
            "grid_auto_flow": null,
            "grid_auto_rows": null,
            "grid_column": null,
            "grid_gap": null,
            "grid_row": null,
            "grid_template_areas": null,
            "grid_template_columns": null,
            "grid_template_rows": null,
            "height": null,
            "justify_content": null,
            "justify_items": null,
            "left": null,
            "margin": null,
            "max_height": null,
            "max_width": null,
            "min_height": null,
            "min_width": null,
            "object_fit": null,
            "object_position": null,
            "order": null,
            "overflow": null,
            "overflow_x": null,
            "overflow_y": null,
            "padding": null,
            "right": null,
            "top": null,
            "visibility": null,
            "width": null
          }
        },
        "56cd89d4b7444adeb7398aeeb2c7d589": {
          "model_module": "@jupyter-widgets/controls",
          "model_name": "ProgressStyleModel",
          "model_module_version": "1.5.0",
          "state": {
            "_model_module": "@jupyter-widgets/controls",
            "_model_module_version": "1.5.0",
            "_model_name": "ProgressStyleModel",
            "_view_count": null,
            "_view_module": "@jupyter-widgets/base",
            "_view_module_version": "1.2.0",
            "_view_name": "StyleView",
            "bar_color": null,
            "description_width": ""
          }
        },
        "d74b801b09c34832a2b64ff1a395c421": {
          "model_module": "@jupyter-widgets/base",
          "model_name": "LayoutModel",
          "model_module_version": "1.2.0",
          "state": {
            "_model_module": "@jupyter-widgets/base",
            "_model_module_version": "1.2.0",
            "_model_name": "LayoutModel",
            "_view_count": null,
            "_view_module": "@jupyter-widgets/base",
            "_view_module_version": "1.2.0",
            "_view_name": "LayoutView",
            "align_content": null,
            "align_items": null,
            "align_self": null,
            "border": null,
            "bottom": null,
            "display": null,
            "flex": null,
            "flex_flow": null,
            "grid_area": null,
            "grid_auto_columns": null,
            "grid_auto_flow": null,
            "grid_auto_rows": null,
            "grid_column": null,
            "grid_gap": null,
            "grid_row": null,
            "grid_template_areas": null,
            "grid_template_columns": null,
            "grid_template_rows": null,
            "height": null,
            "justify_content": null,
            "justify_items": null,
            "left": null,
            "margin": null,
            "max_height": null,
            "max_width": null,
            "min_height": null,
            "min_width": null,
            "object_fit": null,
            "object_position": null,
            "order": null,
            "overflow": null,
            "overflow_x": null,
            "overflow_y": null,
            "padding": null,
            "right": null,
            "top": null,
            "visibility": null,
            "width": null
          }
        },
        "645b2abe74cd42b988b8f28eb49a5540": {
          "model_module": "@jupyter-widgets/controls",
          "model_name": "DescriptionStyleModel",
          "model_module_version": "1.5.0",
          "state": {
            "_model_module": "@jupyter-widgets/controls",
            "_model_module_version": "1.5.0",
            "_model_name": "DescriptionStyleModel",
            "_view_count": null,
            "_view_module": "@jupyter-widgets/base",
            "_view_module_version": "1.2.0",
            "_view_name": "StyleView",
            "description_width": ""
          }
        }
      }
    },
    "gpuClass": "premium"
  },
  "cells": [
    {
      "cell_type": "markdown",
      "metadata": {
        "id": "view-in-github",
        "colab_type": "text"
      },
      "source": [
        "<a href=\"https://colab.research.google.com/github/alexisdr/uned-tfg/blob/main/UNED-TFG-2-data-set-tiny.ipynb\" target=\"_parent\"><img src=\"https://colab.research.google.com/assets/colab-badge.svg\" alt=\"Open In Colab\"/></a>"
      ]
    },
    {
      "cell_type": "markdown",
      "source": [
        "# Creación del Dataset\n",
        "\n",
        "Durante este proceso se crea un dataset con lo datos procesados y listos para el entrenamiento del modelo."
      ],
      "metadata": {
        "id": "hg_U-n05Iwo9"
      }
    },
    {
      "cell_type": "markdown",
      "source": [
        "# Parametros\n",
        "\n",
        "*  GoldStandardTrainingEAs.txt: contiene una relación de IDS de actos clínicos seguidos de una lista de uno o varios códigos EAs, en caso de que sean aplicables, o NONE en caso de no se haya idetnificado ningún código de efecto adverso. Todos los valores están separados por espacios. Ejemplos:\n",
        "```\n",
        "24866017 T50.2X5A\n",
        "27448436 T83.021A T83.511A T83.091A Y84.6\n",
        "25205191 NONE\n",
        "```\n",
        "*  GoldStandardTestEAs.txt: equivalente al anterior pero con los datos del conjunto de pruebas.\n",
        "*  Training: carpeta que contiene todos los informes médicos del conjunto de entrenamiento. El nombre del archivo está compuesto por el acto clínico y el identificador del informe. Ejemplo: 23062488-158483734.txt\n",
        "*  Training: equivalente a training pero con el conjunto de pruebas.\n",
        "* dataset_path: ruta en el que se almacenará el dataset\n",
        "* labels_file: ruta en la que se almacenará la lista de etiquetas"
      ],
      "metadata": {
        "id": "H7uHO0xNibAs"
      }
    },
    {
      "cell_type": "code",
      "source": [
        "base_path = '/drive/My Drive/CorpusPFG/'\n",
        "\n",
        "#Datos de origen\n",
        "tiny_GoldStandardTrainingEA_data_location = base_path + 'Tiny-GoldStandardTrainingEAs.txt'\n",
        "training_files_location = base_path + 'Training/'\n",
        "\n",
        "#Dataset procesado\n",
        "dataset_path = base_path + 'Tiny-Dataset'\n",
        "labels_file = dataset_path + '/labels.txt'"
      ],
      "metadata": {
        "id": "rhtVG5QtiYkr"
      },
      "execution_count": 12,
      "outputs": []
    },
    {
      "cell_type": "code",
      "source": [
        "!pip install -q datasets"
      ],
      "metadata": {
        "id": "2LNboFxnxK--"
      },
      "execution_count": 13,
      "outputs": []
    },
    {
      "cell_type": "markdown",
      "source": [
        "Se realiza el montaje de la unidad de Google Drive para acceder a los ficheros"
      ],
      "metadata": {
        "id": "UujvKjusiVfn"
      }
    },
    {
      "cell_type": "code",
      "source": [
        "from google.colab import drive\n",
        "\n",
        "drive.mount('/drive')"
      ],
      "metadata": {
        "colab": {
          "base_uri": "https://localhost:8080/"
        },
        "id": "UisW21-kiQqd",
        "outputId": "82d8cf1b-727f-43a2-ca66-513b443d8656"
      },
      "execution_count": 14,
      "outputs": [
        {
          "output_type": "stream",
          "name": "stdout",
          "text": [
            "Drive already mounted at /drive; to attempt to forcibly remount, call drive.mount(\"/drive\", force_remount=True).\n"
          ]
        }
      ]
    },
    {
      "cell_type": "markdown",
      "source": [
        "#Creación del dataset\n",
        "\n",
        "\n"
      ],
      "metadata": {
        "id": "tLnGIsdcWM5j"
      }
    },
    {
      "cell_type": "markdown",
      "source": [
        "Procedemos a unir en un dataset etiquetado con los EAs la sección de juicio clínico de los informes que componen el acto clínico. Para esto, del fichero GoldStandardTrainingEAs.txt se toman las líneas en la que los actos clínicos tienen un EA asociado (diferentes de NONE). Por cada fichero que compone el acto clínico se extrae el juicio clínico. El resultado serán 2 columnas:\n",
        "\n",
        "label: Primer EA\n",
        "text: Frases del juicio clínico, escaped using double quotes (\"), and any internal double quote is escaped by 2 double quotes (\"\"). New lines are escaped by a backslash followed with an \"n\" character, that is \"\\n\"."
      ],
      "metadata": {
        "id": "LG7diu-qdXWA"
      }
    },
    {
      "cell_type": "markdown",
      "source": [
        "Carga del archivo de texto GoldStandardTrainingEAs.txt en un data set"
      ],
      "metadata": {
        "id": "mPSAH1ivWyCJ"
      }
    },
    {
      "cell_type": "code",
      "source": [
        "import pandas as pd\n",
        "\n",
        "column_names = [\"Acto\", \"TieneEA_EA1\", \n",
        "                \"EA2\", \"EA3\", \"EA4\", \"EA5\", \"EA6\", \"EA7\", \"EA8\", \"EA9\", \"EA10\"]\n",
        "df_goldStandardTrainingEAs = pd.read_csv(\n",
        "    tiny_GoldStandardTrainingEA_data_location, sep=' ', header=None, names=column_names)"
      ],
      "metadata": {
        "id": "LGJmlQxKWxgU"
      },
      "execution_count": 17,
      "outputs": []
    },
    {
      "cell_type": "markdown",
      "source": [
        "Procedemos a unir en un dataset etiquetado con los EAs la sección de juicio clínico de los informes que componen el acto clínico.\n",
        "Para esto, del fichero GoldStandardTrainingEAs.txt se toman las líneas en la que los actos clínicos tienen un EA asociado (diferentes de NONE). Por cada fichero que compone el acto clínico se extrae el juicio clínico. El resultado serán 2 columnas: \n",
        "*   label: Primer EA\n",
        "*   text: Frases del juicio clínico, escaped using double quotes (\"), and any internal double quote is escaped by 2 double quotes (\"\"). New lines are escaped by a backslash followed with an \"n\" character, that is \"\\n\".\n",
        "\n"
      ],
      "metadata": {
        "id": "hBman9U6cN5C"
      }
    },
    {
      "cell_type": "markdown",
      "source": [
        "Generación de las etiquetas"
      ],
      "metadata": {
        "id": "ePcPhmt4XlUG"
      }
    },
    {
      "cell_type": "code",
      "source": [
        "df_goldStandardTrainingEAs.TieneEA_EA1.unique()"
      ],
      "metadata": {
        "colab": {
          "base_uri": "https://localhost:8080/"
        },
        "id": "mFJQpMvvXHDx",
        "outputId": "a3c3baaf-43e0-4ed8-9248-07db85ce80c1"
      },
      "execution_count": 19,
      "outputs": [
        {
          "output_type": "execute_result",
          "data": {
            "text/plain": [
              "array(['NONE', 'T38.0X5A', 'T45.515A', 'T50.2X5A', 'Y95', 'P01.1',\n",
              "       'T81.4XXA', 'T45.1X5A', 'Y83.1'], dtype=object)"
            ]
          },
          "metadata": {},
          "execution_count": 19
        }
      ]
    },
    {
      "cell_type": "code",
      "source": [
        "import os\n",
        "from os import path\n",
        "\n",
        "if (not path.exists(dataset_path)):\n",
        "  os.mkdir(dataset_path)"
      ],
      "metadata": {
        "id": "zy3kzeKfWJHL"
      },
      "execution_count": 20,
      "outputs": []
    },
    {
      "cell_type": "code",
      "source": [
        "from datasets import ClassLabel\n",
        "\n",
        "def generate_label_list():\n",
        "  df_labels = df_goldStandardTrainingEAs\n",
        "   \n",
        "  label_list = list(df_labels.TieneEA_EA1.unique())\n",
        "  save_label_list(label_list)\n",
        "  return ClassLabel(num_classes=len(label_list), names=label_list), label_list\n",
        "\n",
        "def save_label_list(label_list):\n",
        "  print(labels_file)\n",
        "  with open(labels_file,'w') as tfile:\n",
        "\t  tfile.write('\\n'.join(label_list))\n",
        "\n",
        "def read_label_list():\n",
        "  label_list = [line.strip() for line in open(labels_file, 'r')]\n",
        "  return ClassLabel(num_classes=len(label_list), names=label_list), label_list\n",
        "\n",
        "class2label, label_list = generate_label_list()"
      ],
      "metadata": {
        "id": "HBxYDPUOZEmQ",
        "colab": {
          "base_uri": "https://localhost:8080/"
        },
        "outputId": "01fb66de-bc3c-424d-d988-0b8a8be307b2"
      },
      "execution_count": 21,
      "outputs": [
        {
          "output_type": "stream",
          "name": "stdout",
          "text": [
            "/drive/My Drive/CorpusPFG/Tiny-Dataset/labels.txt\n"
          ]
        }
      ]
    },
    {
      "cell_type": "markdown",
      "source": [
        "Precesamiento del texto de los informes"
      ],
      "metadata": {
        "id": "ewkIXOVjK2Wn"
      }
    },
    {
      "cell_type": "code",
      "source": [
        "import os\n",
        "\n",
        "JUICIO_CLINICO = 'Juicio Clínico'\n",
        "TRATAMIENTO = 'Tratamiento'\n",
        "FIRMADO_XXX = '_FIRMADO_XXXX_'\n",
        "\n",
        "TRAINING = 0\n",
        "VALIDATION = 1\n",
        "\n",
        "def es_linea_comienzo_seleccion (linea):\n",
        "  return True #linea.strip() == JUICIO_CLINICO\n",
        "\n",
        "def es_linea_fin_seleccion (linea):\n",
        "  return FIRMADO_XXX in linea.strip()\n",
        "\n",
        "def es_linea_adecuada (linea):\n",
        "  return linea.strip() != '' #and linea.strip() != JUICIO_CLINICO\n",
        "\n",
        "def tratar_linea_texto (linea):\n",
        "  return linea.replace (\"- \", \"\").replace(\"\\n\", \"\").replace('\"', '\"\"')\n",
        "\n",
        "def obtener_texto (acto, label_list, lista_nombres_informes_medicos, files_location):\n",
        "  #print(f\"Acto: {acto} EA: {ea} Archivo: {lista_nombres_informes_medicos}\")\n",
        "  text = ''\n",
        "  for nombre_informe in lista_nombres_informes_medicos:\n",
        "    with open (files_location + nombre_informe, 'rt') as informe_medico: \n",
        "      seleccionar = False\n",
        "      for lineaTexto in informe_medico:\n",
        "        if (es_linea_comienzo_seleccion(lineaTexto)):\n",
        "          seleccionar = True\n",
        "        if (es_linea_fin_seleccion(lineaTexto)):\n",
        "          seleccionar = False\n",
        "        if (seleccionar and es_linea_adecuada(lineaTexto)):\n",
        "          text = text + tratar_linea_texto(lineaTexto) + \"\\n\"\n",
        "      return [acto,\n",
        "              class2label.str2int(label_list[0].strip()), \n",
        "              label_list[0].strip(), \n",
        "              label_list, \n",
        "              lista_nombres_informes_medicos, text]\n",
        "\n",
        "\n",
        "def get_label_list(row):\n",
        "  label_list = list()\n",
        "  for col in column_names:\n",
        "    if (col == column_names[0]):\n",
        "      continue\n",
        "    if (type(row[col]) == str):\n",
        "      label_list.append(row[col])\n",
        "  return label_list\n",
        "\n",
        "def generate_labeled_array (dataframe, file_list, files_location): \n",
        "  dataframe_SinNone = dataframe.reset_index()  \n",
        "  ds_resultado = []\n",
        "  for index, row in dataframe_SinNone.iterrows():\n",
        "    texto_filtro = str(row['Acto']) + '-'\n",
        "    archivos_acto = filter(lambda x: texto_filtro in x, file_list)       \n",
        "    ds_resultado.append(obtener_texto(row['Acto'], get_label_list(row), \n",
        "                                      list(archivos_acto), files_location))\n",
        "  return ds_resultado\n",
        "\n",
        "def save_labeled_dataset (labeled_array):\n",
        "  ds = pd.DataFrame(labeled_array, columns=['acto', 'label', 'label_str', 'labels_str', 'informes', 'text'])\n",
        "  #ds.to_csv(labeled_dataset_name)\n",
        "  return ds\n",
        "\n",
        "def generate_labeled_arrays ():\n",
        "  training_files = [f for f in os.listdir(training_files_location) \n",
        "                      if os.path.isfile(os.path.join(training_files_location, f))]\n",
        "  labeled_array_training = generate_labeled_array (\n",
        "      df_goldStandardTrainingEAs, training_files, training_files_location)\n",
        "  ds_labeled_training = save_labeled_dataset (labeled_array_training)\n",
        "\n",
        "  return ds_labeled_training\n",
        "\n",
        "datasets = generate_labeled_arrays()"
      ],
      "metadata": {
        "id": "O2JQJ4nrqldV"
      },
      "execution_count": 23,
      "outputs": []
    },
    {
      "cell_type": "markdown",
      "source": [
        "Composición del dataset"
      ],
      "metadata": {
        "id": "5fZ0ssT9LGAd"
      }
    },
    {
      "cell_type": "code",
      "source": [
        "from datasets import Dataset, Value, DatasetDict\n",
        "\n",
        "train_dataset = Dataset.from_pandas(datasets)\n",
        "\n",
        "def set_dataset_features (dataset):\n",
        "  new_features = dataset.features.copy()\n",
        "  new_features[\"label\"] = class2label\n",
        "  return dataset.cast(new_features)\n",
        "  \n",
        "train_dataset = set_dataset_features (train_dataset)\n",
        "train_val_dataset = train_dataset.train_test_split(test_size=0.1)\n",
        "\n",
        "dataset_complete = DatasetDict(\n",
        "    {\n",
        "        \"train\": train_val_dataset[\"train\"],\n",
        "        \"validation\": train_val_dataset[\"test\"]\n",
        "    })\n",
        "\n",
        "dataset_complete"
      ],
      "metadata": {
        "colab": {
          "base_uri": "https://localhost:8080/",
          "height": 197,
          "referenced_widgets": [
            "b5fef63b8dce42e785b088c9b0bf324a",
            "aacd6f45dc0a4a9596f27c91493fd0e1",
            "6552421816774378a69d4619c028d5f6",
            "25aec859a8e241219f1c91a096be0068",
            "2436152f004b4b588f41130c9ae4f121",
            "6596c2a97ab347979f776988c3b4fe66",
            "d56c2a93cc98455b99cbe5c9b28cedb1",
            "109b677f15cd4f399f46c93dda584710",
            "8cfb3d0ff50942128c7b5e895c88f7a8",
            "4d3c85f2c9b942a0877a75efe9c95efb",
            "3b2c5989ba57460794f2d802a7f1329b"
          ]
        },
        "id": "S1m3uZ4bJyJ3",
        "outputId": "b0383665-4a75-49d2-9132-2b67327226fe"
      },
      "execution_count": 24,
      "outputs": [
        {
          "output_type": "display_data",
          "data": {
            "text/plain": [
              "Casting the dataset:   0%|          | 0/811 [00:00<?, ? examples/s]"
            ],
            "application/vnd.jupyter.widget-view+json": {
              "version_major": 2,
              "version_minor": 0,
              "model_id": "b5fef63b8dce42e785b088c9b0bf324a"
            }
          },
          "metadata": {}
        },
        {
          "output_type": "execute_result",
          "data": {
            "text/plain": [
              "DatasetDict({\n",
              "    train: Dataset({\n",
              "        features: ['acto', 'label', 'label_str', 'labels_str', 'informes', 'text'],\n",
              "        num_rows: 729\n",
              "    })\n",
              "    validation: Dataset({\n",
              "        features: ['acto', 'label', 'label_str', 'labels_str', 'informes', 'text'],\n",
              "        num_rows: 82\n",
              "    })\n",
              "})"
            ]
          },
          "metadata": {},
          "execution_count": 24
        }
      ]
    },
    {
      "cell_type": "code",
      "source": [
        "dataset_complete[\"train\"][4]"
      ],
      "metadata": {
        "colab": {
          "base_uri": "https://localhost:8080/"
        },
        "id": "OulBy6X92p0h",
        "outputId": "31864079-70d8-4cf5-d46e-f28a5d73c421"
      },
      "execution_count": 25,
      "outputs": [
        {
          "output_type": "execute_result",
          "data": {
            "text/plain": [
              "{'acto': 24866006,\n",
              " 'label': 0,\n",
              " 'label_str': 'NONE',\n",
              " 'labels_str': ['NONE'],\n",
              " 'informes': ['24866006-163505016.txt'],\n",
              " 'text': ' _CABECERA_XXXX_  \\nSexo :Hombre\\n\\tINFORME ALTA DE CIRUGÍA GENERAL Y DEL APARATO DIGESTIVO\\n\\tNIF/ _DATA_XXXX_ \\n\\t _DATA_XXXX_ \\n\\t _DATA_XXXX_ \\n\\t _DATA_XXXX_ \\n\\t_NOMBRE_XXXX_  \\n\\tTeléfono:  _DATA_XXXX_ \\n\\tTeléfono Móvil:  _DATA_XXXX_ \\n\\tFecha ingreso:  _FECHA_XXXX_   _HORA_XXXX_ \\nFecha alta:        _FECHA_XXXX_ \\n\\tTipo de Ingreso: Desde urgencias\\n\\tMotivo de Ingreso COLECISTITIS AGUDA\\nMotivo de Alta\\n _APELLIDO_XXXX_ \\nVarón de 65 años, sin alergias medicamentosas conocidas.\\nDM tipo 2 en tratamiento con Insulina+ADO. HTA. Dislipemia.\\nIngreso en Octure/2014 por ITU febril y deterioro de función renal por E.Coli multirresistente, tratada con ertapenem. Hernia discal L4-L5.\\nCirugía bariátrica por obesidad mórbida hace 1 año: by-pass laparoscòpico con pié de asa a 150 cm; con pérdida de 27 kg de peso.\\nTratamiento actual: Tresiba 44-0-0. Metformina 1000 1-0-1. Adiro 100 0-1-0. Enalapril 10 0-0-1. Omnic ocas 4 0-1-0. Cardyl 10 0-0-1. Omeprazol 1-0-0. Eperzan 50 1 inyecciòn semanal.\\nConsulta por dolor en epigastrio e hipcondrio derecho irradiado a espalda desde hace 2 días, no ha tenido fiebre, ni diarrea, ni otros síntomas. Ha seguido tratamiento con Nolotil y Buscapina con alivio parcial.\\nExploraciones Complementarias\\n _FECHA_XXXX_  Ecografía  abdominopélvica  CONCLUSIÓN:  Hallazgos  compatibles  con  colecistitis  aguda.  Cambios  inflamatorios  secundarios  en  la  grasa  perivesicular  de  HCD.  Mínima  cantidad  de  líquido  libre  periesplénico  y  entre  asas,  con  presencia  de  algun  asa  de  ID  dilatada  en  flanco  izquierdo,  en  probable  relación  con  ileo  reactivo\\nJuicio Clínico\\nColecistitis aguda gangrenosa\\nCirugía metabólica\\nLos previos: DM, HTA, Dislipemia\\nTratamiento\\n _FECHA_XXXX_  Tratamiento quirúrgico urgente (  _NOMBRE_XXXX_ )\\nHallazgos: Colecistitis aguda gangrenosa con liquido turbio en parietohepatico\\nTécnica: Colecistectomía laparoscópica con colocación de Hemolck en cístico y clipaje de arteria. Hemostasia y lavado\\nRecomendaciones\\nAnalgesia habitual si dolor\\nAmoxicilina-clavulancio 875/125mg 1 comp/8h durante 5 días\\nRetirada de grapas en unos 10 días desde la intervención en su centro de salud\\nControl por MAP\\nAcudir a consultas de Cirugía previo aviso en unos dos meses\\nSi fiebre o empeoramiento acudir a Urgencias\\n\\tEn cumplimiento del artículo 5 de la LOPD  _FECHA_XXXX_ , se informa que sus datos identificativos y de salud serán objeto de tratamiento e incorporados a los ficheros de datos sanitarios, cuya titularidad corresponde al  _HOSPITAL_XXXX_ . Los datos únicamente serán utilizados con fines asociados a la atención y gestión sanitaria, docencia y seguimiento asistencial, estando prevista su comunicación a los organismos públicos con competencia en materia sanitaria. \\nEl órgano ante el que podrá ejercer los derechos de acceso, cancelación, rectificación y oposición de datos es el Servicio de Atención al Usuario del  _HOSPITAL_XXXX_ ,   _DIRECCION_XXXX_ \\n'}"
            ]
          },
          "metadata": {},
          "execution_count": 25
        }
      ]
    },
    {
      "cell_type": "code",
      "source": [
        "dataset_complete.save_to_disk(dataset_path)"
      ],
      "metadata": {
        "colab": {
          "base_uri": "https://localhost:8080/",
          "height": 17,
          "referenced_widgets": [
            "6202d9623feb400888cc28120073d4e6",
            "0f4b73853f6e472ab7b7e0dcf158218f",
            "08e2f3f5f8b8482eb11b538c1b256102",
            "33407ff74b2a4902a3ca79e7b50dabbf",
            "9eb92bd0daf8485897d71ee27efa4ec9",
            "261826c654ed4292a67cd058b81c5d2a",
            "67e489c7677d4177bac910f49dec988a",
            "b5e07293e6e34ec28b4d0bd181280e3c",
            "68d3ff053d2e4886ab07f5ae7b2e4b33",
            "5f7d99d814174505b26f56ae649c1df0",
            "d3a59e26432d489c8b1e99bcbfa12490",
            "f73df4fddc9c4db9a3444f1d0478bb71",
            "603c51f93d204c63be9095da060f18be",
            "9f53db0b1a0040f9b59ed7b3ad1385ef",
            "9d257ac0d8804f558a7b40a54aaedbe0",
            "fc75d226279c4315ab4430682b820ccc",
            "738aec84683d4881aa1c0f41a8a9107c",
            "0a0d7f528a8e48b6b8c49c43c10e5dab",
            "3a083a3c3f37455b96adbdd6d89a5328",
            "478520ac8d2a46a3978ddb7423c62fa0",
            "5823288c5dcd4241abdd08b80e1565c1",
            "4e12075fbb014928a6ffad9b130c3c98",
            "0877c7697394402fa74d7f8e6561cf0c",
            "4394a639d6364e21acceab234be54c47",
            "8c50452018124271b850d5a3e69e7635",
            "6972d61132ef44b590b28b2896f5eec4",
            "e791ace5823c43079bdfb7a2f35013bf",
            "24980986b5dd48e0a7662aff306aee13",
            "f8810d7f727f4800bd5b7394df42382b",
            "60758c0bb2874fb6b60f2043d7a0c96a",
            "e6dc94a0828042f586ab82bc4e2750be",
            "5bc552cbd67e4039a4a16079f00ac3e9",
            "1287b177df1844328eb6ec03f90d31c4",
            "5ec5436a46cb477ebac95803f924f03e",
            "73b3e40ddd0d4c34b744d15360c4f723",
            "8ed253139f0c430689075f405a76229d",
            "fbe4076f5c9041f0a78b5e33846318dc",
            "13e0221f9f0440e29b81ac78138d3200",
            "b731731982304caaac08a296a928802a",
            "ff88232b28184fccb07ab780048e3f83",
            "a07d5f6c2b6043a2b29273b7970d17e0",
            "56cd89d4b7444adeb7398aeeb2c7d589",
            "d74b801b09c34832a2b64ff1a395c421",
            "645b2abe74cd42b988b8f28eb49a5540"
          ]
        },
        "id": "ky-xm5BIQu7A",
        "outputId": "947a6ec5-6e92-4115-c574-82c055ae8bb7"
      },
      "execution_count": 26,
      "outputs": [
        {
          "output_type": "display_data",
          "data": {
            "text/plain": [
              "Flattening the indices:   0%|          | 0/729 [00:00<?, ? examples/s]"
            ],
            "application/vnd.jupyter.widget-view+json": {
              "version_major": 2,
              "version_minor": 0,
              "model_id": "6202d9623feb400888cc28120073d4e6"
            }
          },
          "metadata": {}
        },
        {
          "output_type": "display_data",
          "data": {
            "text/plain": [
              "Saving the dataset (0/1 shards):   0%|          | 0/729 [00:00<?, ? examples/s]"
            ],
            "application/vnd.jupyter.widget-view+json": {
              "version_major": 2,
              "version_minor": 0,
              "model_id": "f73df4fddc9c4db9a3444f1d0478bb71"
            }
          },
          "metadata": {}
        },
        {
          "output_type": "display_data",
          "data": {
            "text/plain": [
              "Flattening the indices:   0%|          | 0/82 [00:00<?, ? examples/s]"
            ],
            "application/vnd.jupyter.widget-view+json": {
              "version_major": 2,
              "version_minor": 0,
              "model_id": "0877c7697394402fa74d7f8e6561cf0c"
            }
          },
          "metadata": {}
        },
        {
          "output_type": "display_data",
          "data": {
            "text/plain": [
              "Saving the dataset (0/1 shards):   0%|          | 0/82 [00:00<?, ? examples/s]"
            ],
            "application/vnd.jupyter.widget-view+json": {
              "version_major": 2,
              "version_minor": 0,
              "model_id": "5ec5436a46cb477ebac95803f924f03e"
            }
          },
          "metadata": {}
        }
      ]
    }
  ]
}
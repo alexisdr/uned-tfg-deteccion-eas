{
  "nbformat": 4,
  "nbformat_minor": 0,
  "metadata": {
    "colab": {
      "provenance": []
    },
    "kernelspec": {
      "name": "python3",
      "display_name": "Python 3"
    },
    "language_info": {
      "name": "python"
    },
    "gpuClass": "premium"
  },
  "cells": [
    {
      "cell_type": "markdown",
      "source": [
        "# Análisis de los datos\n",
        "\n",
        "Se analizan los datos del Corpus PFG entregados."
      ],
      "metadata": {
        "id": "Dtw7kXV4e-HQ"
      }
    },
    {
      "cell_type": "markdown",
      "source": [
        "# Parameters\n",
        "\n",
        "*  GoldStandardTrainingEAs.txt: contiene una relación de IDS de actos clínicos seguidos de una lista de uno o varios códigos EAs, en caso de que sean aplicables, o NONE en caso de no se haya idetnificado ningún código de efecto adverso. Todos los valores están separados por espacios. Ejemplos:\n",
        "```\n",
        "24866017 T50.2X5A\n",
        "27448436 T83.021A T83.511A T83.091A Y84.6\n",
        "25205191 NONE\n",
        "```\n",
        "*  GoldStandardTestEAs.txt: equivalente al anterior pero con los datos del conjunto de pruebas.\n",
        "*  EAs.txt: listado de todos los códigos de efectos adversos del CIE10 y su tipo. Ejemplo: \n",
        "```\n",
        "D61.810 - PROC\n",
        "D61.811 - MED\n",
        "```\n",
        "*  CIE-10.tsv: definición del CIE10 completo.\n",
        "*  Training: carpeta que contiene todos los informes médicos del conjunto de entrenamiento. El nombre del archivo está compuesto por el acto clínico y el identificador del informe. Ejemplo: 23062488-158483734.txt\n",
        "*  Training: equivalente a training pero con el conjunto de pruebas.\n",
        "\n"
      ],
      "metadata": {
        "id": "H7uHO0xNibAs"
      }
    },
    {
      "cell_type": "code",
      "source": [
        "base_path = '/drive/My Drive/CorpusPFG/'\n",
        "\n",
        "#Datos de origen\n",
        "GoldStandardTrainingEA_data_location = base_path + 'GoldStandardTrainingEAs.txt'\n",
        "GoldStandardTestEA_data_location = base_path + 'GoldStandardTestEAs.txt'\n",
        "EAs_data_location = base_path + 'EAs.txt'\n",
        "CIE10_data_location = base_path + 'CIE-10.tsv'\n",
        "training_files_location = base_path + 'Training/'\n",
        "test_files_location = base_path + 'Test/'\n",
        "\n",
        "#Punto intermedio en el que se almacenan los datos de los datasets\n",
        "eas_dataset_training_file = base_path + 'eas-dataset-training.csv'\n",
        "eas_dataset_test_file = base_path + 'eas-dataset-test.csv'"
      ],
      "metadata": {
        "id": "rhtVG5QtiYkr"
      },
      "execution_count": 1,
      "outputs": []
    },
    {
      "cell_type": "markdown",
      "source": [
        "Se realiza el montaje de la unidad de Google Drive para acceder a los ficheros"
      ],
      "metadata": {
        "id": "UujvKjusiVfn"
      }
    },
    {
      "cell_type": "code",
      "source": [
        "from google.colab import drive\n",
        "\n",
        "drive.mount('/drive')"
      ],
      "metadata": {
        "colab": {
          "base_uri": "https://localhost:8080/"
        },
        "id": "UisW21-kiQqd",
        "outputId": "cba8a697-5d3f-4607-9edc-2a7872d13f6c"
      },
      "execution_count": 2,
      "outputs": [
        {
          "output_type": "stream",
          "name": "stdout",
          "text": [
            "Mounted at /drive\n"
          ]
        }
      ]
    },
    {
      "cell_type": "markdown",
      "source": [
        "Carga del archivo de texto GoldStandardTrainingEAs.txt en un data set"
      ],
      "metadata": {
        "id": "mPSAH1ivWyCJ"
      }
    },
    {
      "cell_type": "code",
      "source": [
        "import pandas as pd\n",
        "\n",
        "column_names = [\"Acto\", \"TieneEA_EA1\", \"EA2\", \"EA3\", \"EA4\", \"EA5\", \"EA6\", \"EA7\", \"EA8\", \"EA9\", \"EA10\"]\n",
        "df_goldStandardTrainingEAs = pd.read_csv(GoldStandardTrainingEA_data_location, sep=' ', header=None, names=[column_names])\n",
        "df_goldStandardTestEAs = pd.read_csv(GoldStandardTestEA_data_location, sep=' ', header=None, names=[column_names])"
      ],
      "metadata": {
        "id": "LGJmlQxKWxgU",
        "colab": {
          "base_uri": "https://localhost:8080/",
          "height": 378
        },
        "outputId": "577b67a4-5633-42fd-90df-554b623ab726"
      },
      "execution_count": 3,
      "outputs": [
        {
          "output_type": "error",
          "ename": "TypeError",
          "evalue": "ignored",
          "traceback": [
            "\u001b[0;31m---------------------------------------------------------------------------\u001b[0m",
            "\u001b[0;31mTypeError\u001b[0m                                 Traceback (most recent call last)",
            "\u001b[0;32m<ipython-input-3-19ab1034f050>\u001b[0m in \u001b[0;36m<module>\u001b[0;34m\u001b[0m\n\u001b[1;32m      2\u001b[0m \u001b[0;34m\u001b[0m\u001b[0m\n\u001b[1;32m      3\u001b[0m \u001b[0mcolumn_names\u001b[0m \u001b[0;34m=\u001b[0m \u001b[0;34m[\u001b[0m\u001b[0;34m\"Acto\"\u001b[0m\u001b[0;34m,\u001b[0m \u001b[0;34m\"TieneEA_EA1\"\u001b[0m\u001b[0;34m,\u001b[0m \u001b[0;34m\"EA2\"\u001b[0m\u001b[0;34m,\u001b[0m \u001b[0;34m\"EA3\"\u001b[0m\u001b[0;34m,\u001b[0m \u001b[0;34m\"EA4\"\u001b[0m\u001b[0;34m,\u001b[0m \u001b[0;34m\"EA5\"\u001b[0m\u001b[0;34m,\u001b[0m \u001b[0;34m\"EA6\"\u001b[0m\u001b[0;34m,\u001b[0m \u001b[0;34m\"EA7\"\u001b[0m\u001b[0;34m,\u001b[0m \u001b[0;34m\"EA8\"\u001b[0m\u001b[0;34m,\u001b[0m \u001b[0;34m\"EA9\"\u001b[0m\u001b[0;34m,\u001b[0m \u001b[0;34m\"EA10\"\u001b[0m\u001b[0;34m]\u001b[0m\u001b[0;34m\u001b[0m\u001b[0;34m\u001b[0m\u001b[0m\n\u001b[0;32m----> 4\u001b[0;31m \u001b[0mdf_goldStandardTrainingEAs\u001b[0m \u001b[0;34m=\u001b[0m \u001b[0mpd\u001b[0m\u001b[0;34m.\u001b[0m\u001b[0mread_csv\u001b[0m\u001b[0;34m(\u001b[0m\u001b[0mGoldStandardTrainingEA_data_location\u001b[0m\u001b[0;34m,\u001b[0m \u001b[0msep\u001b[0m\u001b[0;34m=\u001b[0m\u001b[0;34m' '\u001b[0m\u001b[0;34m,\u001b[0m \u001b[0mheader\u001b[0m\u001b[0;34m=\u001b[0m\u001b[0;32mNone\u001b[0m\u001b[0;34m,\u001b[0m \u001b[0mnames\u001b[0m\u001b[0;34m=\u001b[0m\u001b[0;34m[\u001b[0m\u001b[0mcolumn_names\u001b[0m\u001b[0;34m]\u001b[0m\u001b[0;34m)\u001b[0m\u001b[0;34m\u001b[0m\u001b[0;34m\u001b[0m\u001b[0m\n\u001b[0m\u001b[1;32m      5\u001b[0m \u001b[0mdf_goldStandardTestEAs\u001b[0m \u001b[0;34m=\u001b[0m \u001b[0mpd\u001b[0m\u001b[0;34m.\u001b[0m\u001b[0mread_csv\u001b[0m\u001b[0;34m(\u001b[0m\u001b[0mGoldStandardTestEA_data_location\u001b[0m\u001b[0;34m,\u001b[0m \u001b[0msep\u001b[0m\u001b[0;34m=\u001b[0m\u001b[0;34m' '\u001b[0m\u001b[0;34m,\u001b[0m \u001b[0mheader\u001b[0m\u001b[0;34m=\u001b[0m\u001b[0;32mNone\u001b[0m\u001b[0;34m,\u001b[0m \u001b[0mnames\u001b[0m\u001b[0;34m=\u001b[0m\u001b[0;34m[\u001b[0m\u001b[0mcolumn_names\u001b[0m\u001b[0;34m]\u001b[0m\u001b[0;34m)\u001b[0m\u001b[0;34m\u001b[0m\u001b[0;34m\u001b[0m\u001b[0m\n",
            "\u001b[0;32m/usr/local/lib/python3.9/dist-packages/pandas/util/_decorators.py\u001b[0m in \u001b[0;36mwrapper\u001b[0;34m(*args, **kwargs)\u001b[0m\n\u001b[1;32m    309\u001b[0m                     \u001b[0mstacklevel\u001b[0m\u001b[0;34m=\u001b[0m\u001b[0mstacklevel\u001b[0m\u001b[0;34m,\u001b[0m\u001b[0;34m\u001b[0m\u001b[0;34m\u001b[0m\u001b[0m\n\u001b[1;32m    310\u001b[0m                 )\n\u001b[0;32m--> 311\u001b[0;31m             \u001b[0;32mreturn\u001b[0m \u001b[0mfunc\u001b[0m\u001b[0;34m(\u001b[0m\u001b[0;34m*\u001b[0m\u001b[0margs\u001b[0m\u001b[0;34m,\u001b[0m \u001b[0;34m**\u001b[0m\u001b[0mkwargs\u001b[0m\u001b[0;34m)\u001b[0m\u001b[0;34m\u001b[0m\u001b[0;34m\u001b[0m\u001b[0m\n\u001b[0m\u001b[1;32m    312\u001b[0m \u001b[0;34m\u001b[0m\u001b[0m\n\u001b[1;32m    313\u001b[0m         \u001b[0;32mreturn\u001b[0m \u001b[0mwrapper\u001b[0m\u001b[0;34m\u001b[0m\u001b[0;34m\u001b[0m\u001b[0m\n",
            "\u001b[0;32m/usr/local/lib/python3.9/dist-packages/pandas/io/parsers/readers.py\u001b[0m in \u001b[0;36mread_csv\u001b[0;34m(filepath_or_buffer, sep, delimiter, header, names, index_col, usecols, squeeze, prefix, mangle_dupe_cols, dtype, engine, converters, true_values, false_values, skipinitialspace, skiprows, skipfooter, nrows, na_values, keep_default_na, na_filter, verbose, skip_blank_lines, parse_dates, infer_datetime_format, keep_date_col, date_parser, dayfirst, cache_dates, iterator, chunksize, compression, thousands, decimal, lineterminator, quotechar, quoting, doublequote, escapechar, comment, encoding, encoding_errors, dialect, error_bad_lines, warn_bad_lines, on_bad_lines, delim_whitespace, low_memory, memory_map, float_precision, storage_options)\u001b[0m\n\u001b[1;32m    676\u001b[0m     \u001b[0mkwds\u001b[0m\u001b[0;34m.\u001b[0m\u001b[0mupdate\u001b[0m\u001b[0;34m(\u001b[0m\u001b[0mkwds_defaults\u001b[0m\u001b[0;34m)\u001b[0m\u001b[0;34m\u001b[0m\u001b[0;34m\u001b[0m\u001b[0m\n\u001b[1;32m    677\u001b[0m \u001b[0;34m\u001b[0m\u001b[0m\n\u001b[0;32m--> 678\u001b[0;31m     \u001b[0;32mreturn\u001b[0m \u001b[0m_read\u001b[0m\u001b[0;34m(\u001b[0m\u001b[0mfilepath_or_buffer\u001b[0m\u001b[0;34m,\u001b[0m \u001b[0mkwds\u001b[0m\u001b[0;34m)\u001b[0m\u001b[0;34m\u001b[0m\u001b[0;34m\u001b[0m\u001b[0m\n\u001b[0m\u001b[1;32m    679\u001b[0m \u001b[0;34m\u001b[0m\u001b[0m\n\u001b[1;32m    680\u001b[0m \u001b[0;34m\u001b[0m\u001b[0m\n",
            "\u001b[0;32m/usr/local/lib/python3.9/dist-packages/pandas/io/parsers/readers.py\u001b[0m in \u001b[0;36m_read\u001b[0;34m(filepath_or_buffer, kwds)\u001b[0m\n\u001b[1;32m    570\u001b[0m \u001b[0;34m\u001b[0m\u001b[0m\n\u001b[1;32m    571\u001b[0m     \u001b[0;31m# Check for duplicates in names.\u001b[0m\u001b[0;34m\u001b[0m\u001b[0;34m\u001b[0m\u001b[0m\n\u001b[0;32m--> 572\u001b[0;31m     \u001b[0m_validate_names\u001b[0m\u001b[0;34m(\u001b[0m\u001b[0mkwds\u001b[0m\u001b[0;34m.\u001b[0m\u001b[0mget\u001b[0m\u001b[0;34m(\u001b[0m\u001b[0;34m\"names\"\u001b[0m\u001b[0;34m,\u001b[0m \u001b[0;32mNone\u001b[0m\u001b[0;34m)\u001b[0m\u001b[0;34m)\u001b[0m\u001b[0;34m\u001b[0m\u001b[0;34m\u001b[0m\u001b[0m\n\u001b[0m\u001b[1;32m    573\u001b[0m \u001b[0;34m\u001b[0m\u001b[0m\n\u001b[1;32m    574\u001b[0m     \u001b[0;31m# Create the parser.\u001b[0m\u001b[0;34m\u001b[0m\u001b[0;34m\u001b[0m\u001b[0m\n",
            "\u001b[0;32m/usr/local/lib/python3.9/dist-packages/pandas/io/parsers/readers.py\u001b[0m in \u001b[0;36m_validate_names\u001b[0;34m(names)\u001b[0m\n\u001b[1;32m    529\u001b[0m     \"\"\"\n\u001b[1;32m    530\u001b[0m     \u001b[0;32mif\u001b[0m \u001b[0mnames\u001b[0m \u001b[0;32mis\u001b[0m \u001b[0;32mnot\u001b[0m \u001b[0;32mNone\u001b[0m\u001b[0;34m:\u001b[0m\u001b[0;34m\u001b[0m\u001b[0;34m\u001b[0m\u001b[0m\n\u001b[0;32m--> 531\u001b[0;31m         \u001b[0;32mif\u001b[0m \u001b[0mlen\u001b[0m\u001b[0;34m(\u001b[0m\u001b[0mnames\u001b[0m\u001b[0;34m)\u001b[0m \u001b[0;34m!=\u001b[0m \u001b[0mlen\u001b[0m\u001b[0;34m(\u001b[0m\u001b[0mset\u001b[0m\u001b[0;34m(\u001b[0m\u001b[0mnames\u001b[0m\u001b[0;34m)\u001b[0m\u001b[0;34m)\u001b[0m\u001b[0;34m:\u001b[0m\u001b[0;34m\u001b[0m\u001b[0;34m\u001b[0m\u001b[0m\n\u001b[0m\u001b[1;32m    532\u001b[0m             \u001b[0;32mraise\u001b[0m \u001b[0mValueError\u001b[0m\u001b[0;34m(\u001b[0m\u001b[0;34m\"Duplicate names are not allowed.\"\u001b[0m\u001b[0;34m)\u001b[0m\u001b[0;34m\u001b[0m\u001b[0;34m\u001b[0m\u001b[0m\n\u001b[1;32m    533\u001b[0m         if not (\n",
            "\u001b[0;31mTypeError\u001b[0m: unhashable type: 'list'"
          ]
        }
      ]
    },
    {
      "cell_type": "markdown",
      "source": [
        "Consulta la cantidad de datos\n",
        "\n"
      ],
      "metadata": {
        "id": "6pV4nJY1ZWQf"
      }
    },
    {
      "cell_type": "code",
      "source": [
        "df_goldStandardTrainingEAs.count()"
      ],
      "metadata": {
        "id": "icn1UDPpai1l"
      },
      "execution_count": null,
      "outputs": []
    },
    {
      "cell_type": "markdown",
      "source": [
        "Consulta de las primeras filas del data set"
      ],
      "metadata": {
        "id": "CVA7JJTeatsV"
      }
    },
    {
      "cell_type": "code",
      "source": [
        "df_goldStandardTrainingEAs.head()"
      ],
      "metadata": {
        "id": "-Apsww1VZKVD"
      },
      "execution_count": null,
      "outputs": []
    },
    {
      "cell_type": "markdown",
      "source": [],
      "metadata": {
        "id": "wE3XzC2RY3xw"
      }
    },
    {
      "cell_type": "code",
      "source": [
        "ds_cantidad_TieneEA_EA1 = df_goldStandardTrainingEAs.TieneEA_EA1.value_counts(dropna=True, sort=True)\n",
        "ds_cantidad_EA2 = df_goldStandardTrainingEAs.EA2.value_counts(dropna=True, sort=True)\n",
        "ds_all = ds_cantidad_TieneEA_EA1.append(ds_cantidad_EA2)\n",
        "ds_cantidad_EA3 = df_goldStandardTrainingEAs.EA3.value_counts(dropna=True, sort=True)\n",
        "ds_all = ds_all.append(ds_cantidad_EA3)\n",
        "ds_cantidad_EA4 = df_goldStandardTrainingEAs.EA4.value_counts(dropna=True, sort=True)\n",
        "ds_all = ds_all.append(ds_cantidad_EA4)\n",
        "ds_cantidad_EA5 = df_goldStandardTrainingEAs.EA5.value_counts(dropna=True, sort=True)\n",
        "ds_all = ds_all.append(ds_cantidad_EA5)\n",
        "ds_cantidad_EA6 = df_goldStandardTrainingEAs.EA6.value_counts(dropna=True, sort=True)\n",
        "ds_all = ds_all.append(ds_cantidad_EA6)\n",
        "ds_cantidad_EA7 = df_goldStandardTrainingEAs.EA7.value_counts(dropna=True, sort=True)\n",
        "ds_all = ds_all.append(ds_cantidad_EA7)\n",
        "ds_cantidad_EA8 = df_goldStandardTrainingEAs.EA8.value_counts(dropna=True, sort=True)\n",
        "ds_all = ds_all.append(ds_cantidad_EA8)\n",
        "ds_cantidad_EA9 = df_goldStandardTrainingEAs.EA9.value_counts(dropna=True, sort=True)\n",
        "ds_all = ds_all.append(ds_cantidad_EA9)\n",
        "\n",
        "df_cantidad = pd.DataFrame(ds_all)\n",
        "df_cantidad = df_cantidad.reset_index()\n",
        "df_cantidad.columns = ['eas', 'counts'] \n",
        "df_cantidad.count()"
      ],
      "metadata": {
        "id": "LuVG5pqOcutf"
      },
      "execution_count": null,
      "outputs": []
    },
    {
      "cell_type": "code",
      "source": [
        "df_cantidad.plot(x='eas', y='counts', kind='line')\t"
      ],
      "metadata": {
        "id": "sG2y6n_mmTrU"
      },
      "execution_count": null,
      "outputs": []
    },
    {
      "cell_type": "code",
      "source": [
        "df_cantidad_con_EAs = df_cantidad.query(\"eas != 'NONE'\")\n",
        "df_cantidad_con_EAs.plot(x='eas', y='counts', kind='line')\t"
      ],
      "metadata": {
        "id": "g-uruv8VenZa"
      },
      "execution_count": null,
      "outputs": []
    },
    {
      "cell_type": "markdown",
      "source": [
        "**Estadísticas de EAs**"
      ],
      "metadata": {
        "id": "Al1Os1_ZgX1l"
      }
    },
    {
      "cell_type": "code",
      "source": [
        "df_cantidad.query(\"eas != 'NONE'\").value_counts()"
      ],
      "metadata": {
        "id": "1IO1A9FcmI4d"
      },
      "execution_count": null,
      "outputs": []
    },
    {
      "cell_type": "code",
      "source": [
        "num_actos_clinicos = df_goldStandardTrainingEAs.Acto.count()\n",
        "num_actos_clinicos_sin_EA = df_goldStandardTrainingEAs.query(\"TieneEA_EA1 == 'NONE'\").TieneEA_EA1.count()\n",
        "num_actos_clinicos_con_EA = num_actos_clinicos - num_actos_clinicos_sin_EA\n",
        "num_eas_con_caso_clinico = df_cantidad.query(\"eas != 'NONE'\")[\"eas\"].nunique()\n",
        "\n",
        "print(\"Actos clínicos: %s\" % num_actos_clinicos)\n",
        "print(\"Número de actos clínicos sin EA: %s, un %s%%\" % (num_actos_clinicos_sin_EA, round(num_actos_clinicos_sin_EA/num_actos_clinicos*100, 0)))\n",
        "print(\"Número de actos clínicos con EA: %s, un %s%%\" % (num_actos_clinicos_con_EA, round(num_actos_clinicos_con_EA/num_actos_clinicos*100, 0)))\n",
        "print(\"EAs diferentes encontrados en los actos clínicos: %s\" % num_eas_con_caso_clinico)\n",
        "print(\"\")\n",
        "print(\"Los 10 códigos CIE más populares:\")\n",
        "\n",
        "df_cantidad.query(\"eas != 'NONE'\").head(10)"
      ],
      "metadata": {
        "id": "QWD8ctz7q65u"
      },
      "execution_count": null,
      "outputs": []
    },
    {
      "cell_type": "markdown",
      "source": [
        "#EAs disponibles\n",
        "\n",
        "Se han identificado 4 tipos:\n",
        "* *MED*: efectos adversos a medicamentos, vacunas o similar.\n",
        "* *PROC*: complicaciones en procedimientos (por ej. cirugías).\n",
        "* *DISP*: fallos en dispositivos médicos.\n",
        "* *INF*: infecciones, ya sean nosocomiales o durante un tratamiento médico."
      ],
      "metadata": {
        "id": "Mo55AcVTh31L"
      }
    },
    {
      "cell_type": "markdown",
      "source": [
        "Carga del archivo de texto EAs.txt en un data set"
      ],
      "metadata": {
        "id": "-Zm27TYxiyb7"
      }
    },
    {
      "cell_type": "code",
      "source": [
        "df_EAs = pd.read_csv(EAs_data_location, sep='-', header=None, names=[\"Code\", \"Tipo\"])\n",
        "df_EAs['Code'] = df_EAs['Code'].str.strip()"
      ],
      "metadata": {
        "id": "ODOROT2yiI0j"
      },
      "execution_count": null,
      "outputs": []
    },
    {
      "cell_type": "markdown",
      "source": [
        "Consulta la cantidad de datos"
      ],
      "metadata": {
        "id": "bEF_aG3ei1Tb"
      }
    },
    {
      "cell_type": "code",
      "source": [
        "df_EAs.count()"
      ],
      "metadata": {
        "id": "sT9gcpAZi7J_"
      },
      "execution_count": null,
      "outputs": []
    },
    {
      "cell_type": "markdown",
      "source": [
        "Consulta de las primeras filas del data set"
      ],
      "metadata": {
        "id": "ntYIcxXOjJrH"
      }
    },
    {
      "cell_type": "code",
      "source": [
        "df_EAs.head()"
      ],
      "metadata": {
        "id": "LYgG477_jNBR"
      },
      "execution_count": null,
      "outputs": []
    },
    {
      "cell_type": "markdown",
      "source": [
        "Cantidad de EAs por tipo"
      ],
      "metadata": {
        "id": "uUpS_RWPlxMs"
      }
    },
    {
      "cell_type": "code",
      "source": [
        "df_EAs.Tipo.value_counts()"
      ],
      "metadata": {
        "id": "0AGbE0-GlCq6"
      },
      "execution_count": null,
      "outputs": []
    },
    {
      "cell_type": "markdown",
      "source": [
        "Relación entre EAs totales frente a los EAs con ejemplos disponibles"
      ],
      "metadata": {
        "id": "lLdqHX-LuoAT"
      }
    },
    {
      "cell_type": "code",
      "source": [
        "num_eas_totales = df_EAs[\"Code\"].nunique()\n",
        "rel_eas = round(num_eas_con_caso_clinico/num_eas_totales*100,2)\n",
        "print(\"EAs totales: %s\" % num_eas_totales)\n",
        "print(\"EAs con representanción en caso clínico: %s\" % num_eas_con_caso_clinico)\n",
        "print(\"El %s%% de los EAs se dan en al menos un caso clínico.\" % rel_eas)"
      ],
      "metadata": {
        "id": "H4Y65Qzgu22P"
      },
      "execution_count": null,
      "outputs": []
    },
    {
      "cell_type": "markdown",
      "source": [
        "#Definición del CIE10"
      ],
      "metadata": {
        "id": "i5RmDtlxzrCu"
      }
    },
    {
      "cell_type": "markdown",
      "source": [
        "Carga del archivo de texto CIE-10.tsv en un data set"
      ],
      "metadata": {
        "id": "Max0fzdW3KrT"
      }
    },
    {
      "cell_type": "code",
      "source": [
        "df_CIE10 = pd.read_csv(CIE10_data_location, sep='\\t', header=(0), low_memory=False)\n",
        "df_CIE10.info()"
      ],
      "metadata": {
        "id": "afwHjwJ31UqY"
      },
      "execution_count": null,
      "outputs": []
    },
    {
      "cell_type": "markdown",
      "source": [
        "Consulta de las primeras filas del data set"
      ],
      "metadata": {
        "id": "L8yuxVLr3TUV"
      }
    },
    {
      "cell_type": "code",
      "source": [
        "df_CIE10.head()"
      ],
      "metadata": {
        "id": "YsuLO4F53UEB"
      },
      "execution_count": null,
      "outputs": []
    },
    {
      "cell_type": "markdown",
      "source": [
        "Conteo de los datos del dataset."
      ],
      "metadata": {
        "id": "-lU893jD7RbX"
      }
    },
    {
      "cell_type": "code",
      "source": [
        "df_CIE10.count()"
      ],
      "metadata": {
        "id": "xLv5D8ZtDNIa"
      },
      "execution_count": null,
      "outputs": []
    },
    {
      "cell_type": "markdown",
      "source": [
        "Tomamos el fichero de códigos EAs y buscamos los registros en el fichero del CIE 10 que coincidan con su código."
      ],
      "metadata": {
        "id": "g3ZI1sMf7Y69"
      }
    },
    {
      "cell_type": "code",
      "source": [
        "listaCodigosEAs = list(df_EAs.Code.values)\n",
        "df_CIE10_EAs_Parcial = df_CIE10[df_CIE10['Code'].isin(listaCodigosEAs)]\n",
        "df_CIE10_EAs_Parcial.head()"
      ],
      "metadata": {
        "id": "69KlU8TvAAYN"
      },
      "execution_count": null,
      "outputs": []
    },
    {
      "cell_type": "markdown",
      "source": [
        "Contamos los registros encontrados en el fichero CIE10. El número coincide con el número de dato del fichero EAs."
      ],
      "metadata": {
        "id": "-Fb5MPxb7zOn"
      }
    },
    {
      "cell_type": "code",
      "source": [
        "df_CIE10_EAs_Parcial.count()"
      ],
      "metadata": {
        "id": "hbncvn_bDgpq"
      },
      "execution_count": null,
      "outputs": []
    },
    {
      "cell_type": "markdown",
      "source": [
        "De los datos encontrados en el fichero CIE10, se determinan cuántos de los códigos son finales y los que no lo son."
      ],
      "metadata": {
        "id": "LEcJZch-Guh2"
      }
    },
    {
      "cell_type": "code",
      "source": [
        "df_CIE10_EAs_Parcial.Final.value_counts()"
      ],
      "metadata": {
        "id": "2GPyOoBbGoys"
      },
      "execution_count": null,
      "outputs": []
    },
    {
      "cell_type": "markdown",
      "source": [
        "Se crea una lista con los códigos no finales, por cada uno de ellos se buscan los que continúan la jerarquía. Por ejemplo, para el código \"D70\" que no es final, se buscan los códigos \"D70.0\", \"D70.1\", \"D70.2\", ... que sí lo son. Además, se a la lista de códigos EA completa los códigos finales."
      ],
      "metadata": {
        "id": "omSIhCYj9VjC"
      }
    },
    {
      "cell_type": "code",
      "source": [
        "listaCodigosEAsCompleta=[]\n",
        "listaCodigosEAsNoFinal = list(df_CIE10_EAs_Parcial[df_CIE10_EAs_Parcial.Final == 0].Code.values)\n",
        "for ea in listaCodigosEAsNoFinal:\n",
        "  listaCodigosEAsCompleta.extend(list(df_CIE10[df_CIE10['Code'].str.startswith(ea)].Code))\n",
        "listaCodigosEAsCompleta.extend(list(df_CIE10_EAs_Parcial[df_CIE10_EAs_Parcial.Final == 1].Code.values))"
      ],
      "metadata": {
        "id": "ImzAazCiPN5x"
      },
      "execution_count": null,
      "outputs": []
    },
    {
      "cell_type": "markdown",
      "source": [
        "Se toma la lista de códigos completa y se busca sobre el fichero CIE10, obteniendo con ello el subconjunto de códigos CIE10 que se correspoden con EAs."
      ],
      "metadata": {
        "id": "KO6pjmlV-Vez"
      }
    },
    {
      "cell_type": "code",
      "source": [
        "df_CIE10_EAs_Completa = df_CIE10[df_CIE10['Code'].isin(listaCodigosEAsCompleta)]\n"
      ],
      "metadata": {
        "id": "J2NVuh6LSvCR"
      },
      "execution_count": null,
      "outputs": []
    },
    {
      "cell_type": "code",
      "source": [
        "df_CIE10_EAs_Completa.count()"
      ],
      "metadata": {
        "id": "JgtU2v0oc0Nw"
      },
      "execution_count": null,
      "outputs": []
    },
    {
      "cell_type": "code",
      "source": [
        "num_eas_totales = df_CIE10_EAs_Completa[\"Code\"].nunique()\n",
        "rel_eas = round(num_eas_con_caso_clinico/num_eas_totales*100,2)\n",
        "print(\"EAs totales (considerando la lista completa): %s\" % num_eas_totales)\n",
        "print(\"EAs con representanción en caso clínico: %s\" % num_eas_con_caso_clinico)\n",
        "print(\"El %s%% de los EAs se dan en al menos un caso clínico.\" % rel_eas)"
      ],
      "metadata": {
        "id": "M4-QOlo2AHd9"
      },
      "execution_count": null,
      "outputs": []
    },
    {
      "cell_type": "code",
      "source": [
        "#df_CIE10_EAs_Completa.to_csv(base_path + 'df_CIE10_EAs_Completa.csv')"
      ],
      "metadata": {
        "id": "kLDCLHTZdtEl"
      },
      "execution_count": null,
      "outputs": []
    },
    {
      "cell_type": "markdown",
      "source": [
        "# Detección de datos más prometedores\n",
        "Obtener las casos clínicos con más EAs más repetidos para crear un dataset \n",
        "balanceado y hacer pruebas."
      ],
      "metadata": {
        "id": "KWVHApoVcGqQ"
      }
    },
    {
      "cell_type": "code",
      "source": [
        "df_cantidad.query(\"eas != 'NONE'\").head(10)"
      ],
      "metadata": {
        "id": "-4rIZ2s4eXCA"
      },
      "execution_count": null,
      "outputs": []
    }
  ]
}
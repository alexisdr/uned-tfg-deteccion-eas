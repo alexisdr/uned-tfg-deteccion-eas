{
  "cells": [
    {
      "cell_type": "markdown",
      "metadata": {
        "id": "view-in-github",
        "colab_type": "text"
      },
      "source": [
        "<a href=\"https://colab.research.google.com/github/alexisdr/uned-tfg-deteccion-eas/blob/main/UNED-TFG-4-inferencia.ipynb\" target=\"_parent\"><img src=\"https://colab.research.google.com/assets/colab-badge.svg\" alt=\"Open In Colab\"/></a>"
      ]
    },
    {
      "cell_type": "markdown",
      "id": "XkA6mcW_QT37",
      "metadata": {
        "id": "XkA6mcW_QT37"
      },
      "source": [
        "# Uso del modelo\n",
        "\n",
        "Este cuaderno permite usar el modelo para efectuar una clasificación de texto\n",
        "\n",
        "# Parámetros\n",
        "* ruta_base: ruta en la que se encuentran los datos del corpus\n",
        "* ruta_dataset: ruta en el que se almacenará el dataset\n",
        "* usar_subconjunto_datos_codigos_mas_frecuentes: se usarán los actos clínicos que implican los códigos más frecuentes\n",
        "* umbral: valor de corte que deberán superar las predicciones para tomarlas como ciertas"
      ]
    },
    {
      "cell_type": "code",
      "execution_count": 70,
      "id": "7ee544b5",
      "metadata": {
        "id": "7ee544b5"
      },
      "outputs": [],
      "source": [
        "ruta_base = '/drive/My Drive/CorpusPFG/'\n",
        "\n",
        "#Datasets procesados\n",
        "ruta_dataset = ruta_base + 'Dataset-sin-apartados'\n",
        "modelo_base = \"alexisdr/uned-tfg-08.78\"\n",
        "usar_subconjunto_datos_codigos_mas_frecuentes = False\n",
        "umbral = 0.9"
      ]
    },
    {
      "cell_type": "markdown",
      "id": "IgQiz-czQn5E",
      "metadata": {
        "id": "IgQiz-czQn5E"
      },
      "source": [
        "Instalación de depndencias necesarias"
      ]
    },
    {
      "cell_type": "code",
      "execution_count": 2,
      "id": "MtqLGKFGQuV2",
      "metadata": {
        "id": "MtqLGKFGQuV2",
        "colab": {
          "base_uri": "https://localhost:8080/"
        },
        "outputId": "f9d44215-ba29-4083-8724-19429b233551"
      },
      "outputs": [
        {
          "output_type": "stream",
          "name": "stdout",
          "text": [
            "Looking in indexes: https://pypi.org/simple, https://us-python.pkg.dev/colab-wheels/public/simple/\n",
            "Requirement already satisfied: datasets in /usr/local/lib/python3.10/dist-packages (2.12.0)\n",
            "Requirement already satisfied: transformers[sentencepiece] in /usr/local/lib/python3.10/dist-packages (4.29.2)\n",
            "Requirement already satisfied: numpy>=1.17 in /usr/local/lib/python3.10/dist-packages (from datasets) (1.22.4)\n",
            "Requirement already satisfied: pyarrow>=8.0.0 in /usr/local/lib/python3.10/dist-packages (from datasets) (9.0.0)\n",
            "Requirement already satisfied: dill<0.3.7,>=0.3.0 in /usr/local/lib/python3.10/dist-packages (from datasets) (0.3.6)\n",
            "Requirement already satisfied: pandas in /usr/local/lib/python3.10/dist-packages (from datasets) (1.5.3)\n",
            "Requirement already satisfied: requests>=2.19.0 in /usr/local/lib/python3.10/dist-packages (from datasets) (2.27.1)\n",
            "Requirement already satisfied: tqdm>=4.62.1 in /usr/local/lib/python3.10/dist-packages (from datasets) (4.65.0)\n",
            "Requirement already satisfied: xxhash in /usr/local/lib/python3.10/dist-packages (from datasets) (3.2.0)\n",
            "Requirement already satisfied: multiprocess in /usr/local/lib/python3.10/dist-packages (from datasets) (0.70.14)\n",
            "Requirement already satisfied: fsspec[http]>=2021.11.1 in /usr/local/lib/python3.10/dist-packages (from datasets) (2023.4.0)\n",
            "Requirement already satisfied: aiohttp in /usr/local/lib/python3.10/dist-packages (from datasets) (3.8.4)\n",
            "Requirement already satisfied: huggingface-hub<1.0.0,>=0.11.0 in /usr/local/lib/python3.10/dist-packages (from datasets) (0.15.1)\n",
            "Requirement already satisfied: packaging in /usr/local/lib/python3.10/dist-packages (from datasets) (23.1)\n",
            "Requirement already satisfied: responses<0.19 in /usr/local/lib/python3.10/dist-packages (from datasets) (0.18.0)\n",
            "Requirement already satisfied: pyyaml>=5.1 in /usr/local/lib/python3.10/dist-packages (from datasets) (6.0)\n",
            "Requirement already satisfied: filelock in /usr/local/lib/python3.10/dist-packages (from transformers[sentencepiece]) (3.12.0)\n",
            "Requirement already satisfied: regex!=2019.12.17 in /usr/local/lib/python3.10/dist-packages (from transformers[sentencepiece]) (2022.10.31)\n",
            "Requirement already satisfied: tokenizers!=0.11.3,<0.14,>=0.11.1 in /usr/local/lib/python3.10/dist-packages (from transformers[sentencepiece]) (0.13.3)\n",
            "Requirement already satisfied: sentencepiece!=0.1.92,>=0.1.91 in /usr/local/lib/python3.10/dist-packages (from transformers[sentencepiece]) (0.1.99)\n",
            "Requirement already satisfied: protobuf<=3.20.2 in /usr/local/lib/python3.10/dist-packages (from transformers[sentencepiece]) (3.20.2)\n",
            "Requirement already satisfied: attrs>=17.3.0 in /usr/local/lib/python3.10/dist-packages (from aiohttp->datasets) (23.1.0)\n",
            "Requirement already satisfied: charset-normalizer<4.0,>=2.0 in /usr/local/lib/python3.10/dist-packages (from aiohttp->datasets) (2.0.12)\n",
            "Requirement already satisfied: multidict<7.0,>=4.5 in /usr/local/lib/python3.10/dist-packages (from aiohttp->datasets) (6.0.4)\n",
            "Requirement already satisfied: async-timeout<5.0,>=4.0.0a3 in /usr/local/lib/python3.10/dist-packages (from aiohttp->datasets) (4.0.2)\n",
            "Requirement already satisfied: yarl<2.0,>=1.0 in /usr/local/lib/python3.10/dist-packages (from aiohttp->datasets) (1.9.2)\n",
            "Requirement already satisfied: frozenlist>=1.1.1 in /usr/local/lib/python3.10/dist-packages (from aiohttp->datasets) (1.3.3)\n",
            "Requirement already satisfied: aiosignal>=1.1.2 in /usr/local/lib/python3.10/dist-packages (from aiohttp->datasets) (1.3.1)\n",
            "Requirement already satisfied: typing-extensions>=3.7.4.3 in /usr/local/lib/python3.10/dist-packages (from huggingface-hub<1.0.0,>=0.11.0->datasets) (4.5.0)\n",
            "Requirement already satisfied: urllib3<1.27,>=1.21.1 in /usr/local/lib/python3.10/dist-packages (from requests>=2.19.0->datasets) (1.26.15)\n",
            "Requirement already satisfied: certifi>=2017.4.17 in /usr/local/lib/python3.10/dist-packages (from requests>=2.19.0->datasets) (2022.12.7)\n",
            "Requirement already satisfied: idna<4,>=2.5 in /usr/local/lib/python3.10/dist-packages (from requests>=2.19.0->datasets) (3.4)\n",
            "Requirement already satisfied: python-dateutil>=2.8.1 in /usr/local/lib/python3.10/dist-packages (from pandas->datasets) (2.8.2)\n",
            "Requirement already satisfied: pytz>=2020.1 in /usr/local/lib/python3.10/dist-packages (from pandas->datasets) (2022.7.1)\n",
            "Requirement already satisfied: six>=1.5 in /usr/local/lib/python3.10/dist-packages (from python-dateutil>=2.8.1->pandas->datasets) (1.16.0)\n"
          ]
        }
      ],
      "source": [
        "!pip install datasets transformers[sentencepiece] "
      ]
    },
    {
      "cell_type": "markdown",
      "id": "kUQ5y227Qyr-",
      "metadata": {
        "id": "kUQ5y227Qyr-"
      },
      "source": [
        "# Carga de datos del dataset"
      ]
    },
    {
      "cell_type": "code",
      "execution_count": 3,
      "id": "Sx-7OWoaQ1UG",
      "metadata": {
        "colab": {
          "base_uri": "https://localhost:8080/"
        },
        "id": "Sx-7OWoaQ1UG",
        "outputId": "e66ac96f-0592-45ba-c722-844c04de77fc"
      },
      "outputs": [
        {
          "output_type": "stream",
          "name": "stdout",
          "text": [
            "Mounted at /drive\n"
          ]
        }
      ],
      "source": [
        "from google.colab import drive\n",
        "\n",
        "drive.mount('/drive')"
      ]
    },
    {
      "cell_type": "code",
      "execution_count": 71,
      "id": "DdO7S73OQ2ts",
      "metadata": {
        "id": "DdO7S73OQ2ts",
        "outputId": "e6b189cf-e1cf-474d-fb24-8fadded12dfa",
        "colab": {
          "base_uri": "https://localhost:8080/"
        }
      },
      "outputs": [
        {
          "output_type": "execute_result",
          "data": {
            "text/plain": [
              "DatasetDict({\n",
              "    train: Dataset({\n",
              "        features: ['acto', 'label', 'label_str', 'label_list', 'label_list_str', 'informes', 'text', 'json'],\n",
              "        num_rows: 2218\n",
              "    })\n",
              "    validation: Dataset({\n",
              "        features: ['acto', 'label', 'label_str', 'label_list', 'label_list_str', 'informes', 'text', 'json'],\n",
              "        num_rows: 247\n",
              "    })\n",
              "    test: Dataset({\n",
              "        features: ['acto', 'label', 'label_str', 'label_list', 'label_list_str', 'informes', 'text', 'json'],\n",
              "        num_rows: 3425\n",
              "    })\n",
              "    trainMasFrecuentes: Dataset({\n",
              "        features: ['acto', 'label', 'label_str', 'label_list', 'label_list_str', 'informes', 'text', 'json'],\n",
              "        num_rows: 634\n",
              "    })\n",
              "    validationMasFrecuentes: Dataset({\n",
              "        features: ['acto', 'label', 'label_str', 'label_list', 'label_list_str', 'informes', 'text', 'json'],\n",
              "        num_rows: 71\n",
              "    })\n",
              "    testMasFrecuentes: Dataset({\n",
              "        features: ['acto', 'label', 'label_str', 'label_list', 'label_list_str', 'informes', 'text', 'json'],\n",
              "        num_rows: 173\n",
              "    })\n",
              "})"
            ]
          },
          "metadata": {},
          "execution_count": 71
        }
      ],
      "source": [
        "from datasets import DatasetDict\n",
        "\n",
        "dataset = DatasetDict.load_from_disk(ruta_dataset)\n",
        "\n",
        "dataset  "
      ]
    },
    {
      "cell_type": "code",
      "execution_count": 72,
      "id": "XxLqviFAQ3z5",
      "metadata": {
        "id": "XxLqviFAQ3z5"
      },
      "outputs": [],
      "source": [
        "train = \"train\"\n",
        "validation = \"validation\"\n",
        "test = \"test\"\n",
        "\n",
        "if (usar_subconjunto_datos_codigos_mas_frecuentes):\n",
        "  train = \"trainMasFrecuentes\"\n",
        "  validation = \"validationMasFrecuentes\"\n",
        "  test = \"testMasFrecuentes\""
      ]
    },
    {
      "cell_type": "code",
      "execution_count": 73,
      "id": "071ce90d",
      "metadata": {
        "colab": {
          "base_uri": "https://localhost:8080/"
        },
        "id": "071ce90d",
        "outputId": "74363080-d25f-42b4-cf41-4093e89a2a08"
      },
      "outputs": [
        {
          "output_type": "stream",
          "name": "stdout",
          "text": [
            "ClassLabel(names=['T50.2X5A', 'O90.0', 'T46.5X5A', 'E89.0', 'H59.022', 'Y84.2', 'T83.021A', 'K94.23', 'T50.8X5A', 'Y95', 'T50.905A', 'T50.0X5A', 'L27.0', 'T85.398A', 'T38.0X5A', 'T85.79XA', 'P39.1', 'T84.498A', 'T84.82XA', 'K91.841', 'I97.618', 'T80.1XXA', 'T84.89XA', 'T40.605A', 'R50.82', 'T81.4XXA', 'T38.3X5A', 'G97.1', 'O75.2', 'N99.820', 'T45.1X5A', 'T39.1X5A', 'T85.71XA', 'L76.02', 'K66.0', 'Y83.1', 'T82.120A', 'K12.31', 'P01.1', 'G25.1', 'G89.18', 'T38.0X5D', 'L76.31', 'M96.830', 'G97.41', 'T47.4X5A', 'N99.821', 'T45.515A', 'T80.211A', 'T46.2X5S', 'P36.9', 'T36.0X5A', 'T84.84XA', 'G62.0', 'D70.1', 'T82.868A', 'T79.6XXA', 'T40.2X5A', 'T39.395A', 'T41.5X5A', 'T84.223A', 'T45.1X5D', 'T83.498A', 'L76.22', 'T43.295A', 'K94.12', 'P39.8', 'O86.29', 'K91.71', 'T84.021A', 'M96.840', 'Y83.2', 'T87.81', 'I97.130', 'T46.0X5A', 'T84.51XA', 'P03.4', 'Y64.0', 'J95.811', 'T39.2X5A', 'G97.51', 'T48.6X5A', 'T45.615A', 'H59.021', 'T82.7XXA', 'T82.330A', 'T83.29XA', 'K94.29', 'E89.2', 'E36.01', 'T36.95XA', 'T83.51XA', 'L27.1', 'T84.060A', 'G97.82', 'K95.81', 'T85.29XA', 'T82.190A', 'N99.89', 'T86.19', 'T81.89XA', 'T39.95XA', 'P01.5', 'T42.4X5A', 'G89.28', 'M1A.20X0', 'M96.1', 'K91.72', 'T81.83XA', 'K94.21', 'T37.95XA', 'T83.83XA', 'T85.611A', 'T84.54XA', 'E09.65', 'T36.1X5A', 'T82.857A', 'O86.12', 'T86.11', 'T80.92XA', 'Y84.0', 'T36.5X5A', 'Y83.5', 'K85.30', 'P13.4', 'T38.895A', 'I97.710', 'T43.595A', 'Y84.6', 'Y83.8', 'D61.1', 'T79.A3XA', 'J95.830', 'T37.1X5S', 'Y84.8', 'P01.2', 'T50.995A', 'T80.89XA', 'T46.2X5A', 'T50.2X5D', 'N99.528', 'T50.Z15A', 'T84.59XA', 'T45.1X5S', 'T84.011A', 'T37.1X5A', 'T84.226A', 'N98.1', 'T44.7X5A', 'T88.7XXA', 'T46.6X5A', 'I97.2', 'T85.598A', 'Y65.8', 'D70.2', 'K91.89', 'T83.89XA', 'I95.2', 'K91.840', 'T85.85XA', 'T82.855A', 'K59.03', 'P02.5', 'T43.595S', 'O90.81', 'T45.8X5A', 'T36.8X5A', 'M96.89', 'K12.32', 'T86.01', 'K91.61', 'T39.315A', 'P02.69', 'D64.81', 'G97.49', 'I97.89', 'T80.219A', 'T84.033A', 'T81.31XA', 'T83.511A', 'O04.5', 'T42.75XA', 'T38.0X5S', 'T82.898A', 'T82.838A', 'T84.63XA', 'T39.015A', 'T82.858A', 'T37.2X5A', 'Y83.3', 'N99.532', 'Y83.6', 'T88.59XA', 'O90.89', 'J95.3', 'T84.030A', 'T82.538A', 'M96.0', 'K91.1', 'T81.32XA', 'K91.3', 'T39.395S', 'O85', 'K94.13', 'K94.09', 'E89.89', 'T82.594A', 'T84.490A', 'T83.198A', 'N99.522', 'G97.52', 'T46.4X5A', 'Y83.0', 'J95.61', 'T48.4X5A', 'T47.1X5A', 'T86.12', 'L76.21', 'K91.2', 'T38.4X5A', 'T42.8X5A', 'T44.995D', 'H95.01', 'T85.828A', 'T85.698A', 'M96.810', 'T50.4X5A', 'G72.0', 'G21.11', 'Y84.1', 'D61.810', 'T82.858S', 'T84.194A', 'N14.2', 'T87.40', 'L76.32', 'T84.9XXA', 'I97.190', 'T43.205A', 'I97.790', 'G21.19', 'N99.72', 'T43.505A', 'P03.3', 'P12.81', 'T85.86XA', 'D61.811', 'P02.7', 'T88.8XXA', 'T87.89', 'T37.5X5A', 'T82.818A', 'T88.0XXA', 'G24.01', 'T81.72XA', 'T84.020A', 'T80.218A', 'T49.0X5A', 'J95.851', 'T43.95XA', 'T50.8X5S', 'T84.091A', 'T36.3X5A', 'T40.4X5A', 'T83.59XA', 'T83.098A', 'N52.34', 'N99.521', 'T42.1X5A', 'I97.610', 'P04.1', 'G25.71', 'T38.2X5S', 'T85.89XA', 'T45.525A', 'N99.511', 'T79.7XXA', 'T43.225A', 'N99.71', 'T84.032A', 'T41.45XA', 'T84.038A', 'T88.6XXA', 'N99.530', 'T81.12XA', 'T84.216A', 'T50.1X5A', 'I95.81', 'T45.625A', 'T84.029A', 'T83.091A', 'M96.842', 'T84.69XA', 'T84.50XA', 'T82.9XXA', 'T82.119A', 'T82.6XXA', 'T82.856A', 'T83.9XXA', 'T82.897A', 'T82.09XD', 'I97.191', 'T39.4X5A', 'T84.620A', 'T38.1X5A', 'I97.418', 'I97.51', 'N99.114', 'T82.848A', 'T83.191A', 'T84.090A', 'T82.199A', 'K91.850', 'O08.1', 'T82.110A', 'T82.223D', 'J95.03', 'T85.122A', 'T85.898A', 'N99.61', 'N99.113', 'T84.049A', 'I97.638', 'T81.4XXS', 'T46.2X5D', 'T80.212A', 'L76.82', 'T84.124A', 'P38.9', 'T84.021D', 'T82.320A', 'T88.8XXS', 'K94.22', 'T84.7XXA', 'J95.89', 'T82.120D', 'N99.112', 'T86.09', 'T37.8X5A', 'N99.111', 'T81.718A', 'P36.8', 'N99.110', 'P39.3', 'T84.022A', 'P02.1', 'P02.8', 'O75.1', 'T85.520A', 'T43.225D', 'E09.9', 'T84.52XA', 'T43.595D', 'T81.599A', 'Y84.9', 'T82.867A', 'T85.09XA', 'T84.53XA', 'T84.013A', 'T85.22XA', 'T84.048A', 'T83.028A', 'P01.8', 'T43.505D', 'N52.37', 'N99.841', 'T80.29XA', 'T50.8X5D', 'T43.025A', 'T45.4X5A', 'T84.114A', 'T80.818A', 'N99.0', 'O90.2', 'N99.3', 'P14.1', 'T83.420A', 'O74.8', 'T84.040A', 'N99.83', 'I97.611', 'T83.728S', 'H21.81', 'T85.590A', 'T44.8X5A', 'P12.89', 'T83.6XXA', 'O86.4', 'P36.2', 'Y84.5', 'T50.3X5A', 'T45.7X5A', 'M96.69', 'P03.810', 'T41.3X5A', 'E89.3', 'T84.031A', 'O91.12', 'E89.6', 'T82.03XD', 'NONE', 'T81.9XXS', 'T36.7X5A', 'T82.03XA', 'P03.2', 'T87.53', 'T87.43', 'K95.89', 'I97.410', 'T83.128A', 'T85.84XA', 'E24.2', 'T46.1X5A', 'T39.8X5A', 'T79.A21A', 'Y83.9', 'L25.1', 'M96.661', 'P01.7', 'E89.1', 'O75.89', 'T84.228A', 'T50.905D', 'D75.82', 'T82.857D', 'T84.041A', 'E09.11', 'J95.09', 'O86.20', 'I97.88', 'I97.52', 'T82.897D', 'L76.34', 'P01.3', 'T84.296A', 'J95.88', 'G97.32', 'T37.3X5A', 'T80.62XA', 'R50.2', 'T84.84XD', 'N14.1', 'Y83.4', 'T84.293A', 'P02.3', 'I97.711', 'T46.3X5A', 'T83.84XA', 'T85.49XA', 'E27.3', 'Y65.4', 'Y84.4', 'P03.0', 'T84.318A', 'P39.9', 'T87.44', 'T88.9XXS', 'T43.215A', 'I97.630', 'T82.598A', 'E66.1', 'I97.62', 'Y84.3', 'T82.339A', 'T82.398A', 'T82.228D', 'T84.190A', 'T81.82XA', 'T86.10', 'J95.821', 'T37.5X5S', 'I97.820', 'T39.395D', 'T84.60XA', 'P03.1', 'T36.5X5S', 'T86.13', 'T84.218A', 'K94.19', 'T87.41', 'E09.22', 'T83.83XD', 'I97.131', 'T45.0X5A', 'T82.222A'], id=None)\n"
          ]
        }
      ],
      "source": [
        "from datasets import ClassLabel\n",
        "\n",
        "class2label = dataset[train].features[\"label\"]\n",
        "print(class2label)"
      ]
    },
    {
      "cell_type": "code",
      "execution_count": 74,
      "id": "d0a658b7",
      "metadata": {
        "id": "d0a658b7",
        "outputId": "c2022d9f-fb96-4b5f-a6de-10a6218d6886",
        "colab": {
          "base_uri": "https://localhost:8080/"
        }
      },
      "outputs": [
        {
          "output_type": "execute_result",
          "data": {
            "text/plain": [
              "485"
            ]
          },
          "metadata": {},
          "execution_count": 74
        }
      ],
      "source": [
        "class2label.num_classes"
      ]
    },
    {
      "cell_type": "markdown",
      "id": "33Y-jblpRHbS",
      "metadata": {
        "id": "33Y-jblpRHbS"
      },
      "source": [
        "# Preprocesado de los datos\n",
        "\n",
        "El modelo no puede recibir texto como entrada, se ha de convertir a tokens."
      ]
    },
    {
      "cell_type": "code",
      "execution_count": 75,
      "id": "936861c0",
      "metadata": {
        "colab": {
          "base_uri": "https://localhost:8080/",
          "height": 145,
          "referenced_widgets": [
            "bcdca79525c84d29b5e5993696332906",
            "3b552385619a471aba743ec6d1245027",
            "9a3290819eff4206bd74efbea942dbb9",
            "b44375cc793740ee81f45e52ab7ab45d",
            "bc97c2dff0084e899ab06059eb534c57",
            "2243ee2274bf45b49de342b9e61c8259",
            "df066006ad7a4ceab631ca2666636208",
            "e21cd6e3dbde416bbd7902172da2fe9c",
            "c3d6fe0598df480294c9ceb5f2ef5dfe",
            "0eac12cb760f4981b56124805f742bb7",
            "3fd848aa65904ee0bbce5561befa4ea0",
            "4f141469373c4ee79318b953d798ddf1",
            "fd03a775ce1e4bad9032a36984d74b45",
            "093e39983298454c9888c07a79979144",
            "fdce67d940e94f9685d224ace5ccd22d",
            "392d3cbc8b5a47f589365c4d6893d0a3",
            "9cdc75db4c5344ee91ee897bf8cf68b1",
            "7772327f47304fd283c5a9990e130900",
            "f20448d877ac4240bd6c0f43e1636203",
            "59177e0e9ff54a91b6f23538031f4ec0",
            "454f814a23204c5c889e905378026e8d",
            "347b3cb8542447f58f83f5faac72c2aa",
            "63ea149740894058a3558d95777e2d88",
            "a556965dd2a9482182a19f7e80797a4c",
            "9e9673cc6b284414b8b0f5a46a73eee7",
            "979fdbf1eade442d8702ce8b05ffa882",
            "9b12d5cb62e543df84876c31b00778a0",
            "6125daec426e4b4e805ebaf20a444e7c",
            "0f58978988804b32a50e3ef0321ab793",
            "0a6dc0030e1d485282f3180a3b6eb8ca",
            "496b61e7cbad4c2781293d315b50b89c",
            "bba21b744180493a868747e98f0eb4ac",
            "4d38df8d1b0845309397b075b225fb3d",
            "6f12d81ce10440539572a64842475c3e",
            "f233b708172b440da75d47b02a906889",
            "df7aa26cda874f759653aec7324a00d6",
            "1a2362b7ea4946e18f752b94e0513bce",
            "51e008c2aad74baebd22429b590cd46b",
            "aabfdba5da234eb6af7ac0ef10151071",
            "2d4675ea67684e1daaf8b49bc3c3aaa4",
            "0cad50b8497c445a808f4246d4900b6a",
            "bcaf7c6b1bd64f658fb149afdb8e9b87",
            "3863f36d3904492cb22ae73b26ea68f9",
            "0cd6b2c294ea44fe9f3d857c337c6f29"
          ]
        },
        "id": "936861c0",
        "outputId": "960f2837-b7ce-454f-8b81-1991ccb55d93"
      },
      "outputs": [
        {
          "output_type": "display_data",
          "data": {
            "text/plain": [
              "Downloading (…)okenizer_config.json:   0%|          | 0.00/1.33k [00:00<?, ?B/s]"
            ],
            "application/vnd.jupyter.widget-view+json": {
              "version_major": 2,
              "version_minor": 0,
              "model_id": "bcdca79525c84d29b5e5993696332906"
            }
          },
          "metadata": {}
        },
        {
          "output_type": "display_data",
          "data": {
            "text/plain": [
              "Downloading (…)olve/main/vocab.json:   0%|          | 0.00/1.07M [00:00<?, ?B/s]"
            ],
            "application/vnd.jupyter.widget-view+json": {
              "version_major": 2,
              "version_minor": 0,
              "model_id": "4f141469373c4ee79318b953d798ddf1"
            }
          },
          "metadata": {}
        },
        {
          "output_type": "display_data",
          "data": {
            "text/plain": [
              "Downloading (…)olve/main/merges.txt:   0%|          | 0.00/523k [00:00<?, ?B/s]"
            ],
            "application/vnd.jupyter.widget-view+json": {
              "version_major": 2,
              "version_minor": 0,
              "model_id": "63ea149740894058a3558d95777e2d88"
            }
          },
          "metadata": {}
        },
        {
          "output_type": "display_data",
          "data": {
            "text/plain": [
              "Downloading (…)cial_tokens_map.json:   0%|          | 0.00/957 [00:00<?, ?B/s]"
            ],
            "application/vnd.jupyter.widget-view+json": {
              "version_major": 2,
              "version_minor": 0,
              "model_id": "6f12d81ce10440539572a64842475c3e"
            }
          },
          "metadata": {}
        }
      ],
      "source": [
        "from transformers import AutoTokenizer\n",
        "\n",
        "\n",
        "tokenizer = AutoTokenizer.from_pretrained(modelo_base)\n",
        "\n",
        "def preprocess_data(examples):\n",
        "  return tokenizer(examples[\"text\"], padding=\"max_length\", truncation=True, return_tensors=\"pt\")"
      ]
    },
    {
      "cell_type": "markdown",
      "id": "5c5f5402",
      "metadata": {
        "id": "5c5f5402"
      },
      "source": [
        "# Cálculo de la métrica S"
      ]
    },
    {
      "cell_type": "code",
      "execution_count": 76,
      "id": "fe531962",
      "metadata": {
        "id": "fe531962"
      },
      "outputs": [],
      "source": [
        "#Calcula el prefico comun entre 2 códigos\n",
        "def calculo_lcs(codigo_i, codigo_j):\n",
        "  if codigo_i is None or codigo_j is None:\n",
        "    return \"\"\n",
        "\n",
        "  #Se omiten los puntos existenten en los códigos\n",
        "  codigo_i = codigo_i.replace(\".\", \"\")\n",
        "  codigo_j = codigo_j.replace(\".\", \"\")\n",
        "\n",
        "  #Tomamos el tamaño mínimo\n",
        "  size = min(len(codigo_i), len(codigo_j)) \n",
        "\n",
        "  lcs_i_j = ''\n",
        "  for i in range(size):\n",
        "    if codigo_i[i] == codigo_j[i]:\n",
        "      lcs_i_j = lcs_i_j + codigo_i[i]\n",
        "    else:\n",
        "      return lcs_i_j\n",
        "  \n",
        "  return lcs_i_j\n",
        "\n",
        "\n",
        "#Devuelve la longitud de la cadena de caracteres C\n",
        "#si esta vale al menos 3, y devuelve 0 si dicha longitud es menor que 3. \n",
        "#Esto se debe a que los códigos CIE-10 más cortos contienen al menos 3 caracteres.\n",
        "def calculo_ic(codigo):\n",
        "  #Se omiten los puntos existenten en los códigos\n",
        "  codigo = codigo.replace(\".\", \"\")\n",
        "\n",
        "  tamanyo = len(codigo)\n",
        "  if (tamanyo < 3):\n",
        "    return 0\n",
        "  else:\n",
        "    return tamanyo\n",
        "\n",
        "#similitud entre 2 códigos CIE-10 𝑖 y 𝑗:\n",
        "def calculo_c(codigo_i, codigo_j):\n",
        "  divisor = calculo_ic(codigo_i) + calculo_ic(codigo_j)\n",
        "  if (divisor == 0):\n",
        "    return 0\n",
        "  dividendo = 2 * calculo_ic(calculo_lcs(codigo_i, codigo_j))\n",
        "  c_i_j = dividendo / divisor\n",
        "  return round(c_i_j, 6)\n",
        "\n",
        "def metrica_s(lista_codigos_i, lista_codigos_j): \n",
        "  #las listas deben tener valores \n",
        "  if (len(lista_codigos_i) == 0 or len(lista_codigos_j) == 0):\n",
        "    return 0\n",
        "\n",
        "  #max (Ng, Ns)\n",
        "  divisor = max(len(lista_codigos_i), len(lista_codigos_j)) \n",
        "  if (divisor == 0):\n",
        "    return 0\n",
        "  \n",
        "  max_c_i_j = 0\n",
        "  for codigo_j in lista_codigos_j:\n",
        "    max_local_c_i_j = 0\n",
        "    for codigo_i in lista_codigos_i:\n",
        "      c_i_j = calculo_c(codigo_i, codigo_j)\n",
        "      if (c_i_j > max_local_c_i_j):\n",
        "        max_local_c_i_j = c_i_j\n",
        "    max_c_i_j += max_local_c_i_j\n",
        "\n",
        "  s = max_c_i_j / divisor\n",
        "  return round(s, 6)\n",
        "\n",
        "def metrica_s_train (y_true, y_pred):     \n",
        "    y_true_labels = []\n",
        "    true_labels = [class2label.int2str([idx])for idx, label in enumerate(y_true) if label == 1.0]\n",
        "    for label in true_labels:\n",
        "      y_true_labels.append(label[0])\n",
        "\n",
        "    y_pred_labels = []\n",
        "    pred_labels = [class2label.int2str([idx])for idx, label in enumerate(y_pred) if label == 1.0]\n",
        "    for label in pred_labels:\n",
        "      y_pred_labels.append(label[0])\n",
        "\n",
        "    return metrica_s(y_true_labels, y_pred_labels)"
      ]
    },
    {
      "cell_type": "markdown",
      "id": "1hSIaTFlRhUw",
      "metadata": {
        "id": "1hSIaTFlRhUw"
      },
      "source": [
        "# Inferencia\n",
        "\n",
        "Se ejecuta el modelo contra datos de test"
      ]
    },
    {
      "cell_type": "markdown",
      "source": [
        "**Cálculo de predicciones**\n",
        "\n",
        "Solo asignar NONE si su probabilidad es mayor que la del resto de códigos y en caso contrario asignar sólo los códigos con mayor probabilidad que NONE"
      ],
      "metadata": {
        "id": "cpjZ2l6LmNUE"
      },
      "id": "cpjZ2l6LmNUE"
    },
    {
      "cell_type": "code",
      "source": [
        "dataset[test]"
      ],
      "metadata": {
        "id": "gIg8LpihVDPo",
        "outputId": "1be657c3-290c-48e8-8a89-08aaba1ac6f7",
        "colab": {
          "base_uri": "https://localhost:8080/"
        }
      },
      "id": "gIg8LpihVDPo",
      "execution_count": 77,
      "outputs": [
        {
          "output_type": "execute_result",
          "data": {
            "text/plain": [
              "Dataset({\n",
              "    features: ['acto', 'label', 'label_str', 'label_list', 'label_list_str', 'informes', 'text', 'json'],\n",
              "    num_rows: 3425\n",
              "})"
            ]
          },
          "metadata": {},
          "execution_count": 77
        }
      ]
    },
    {
      "cell_type": "code",
      "source": [
        "codigo_NONE = 'NONE'\n",
        "\n",
        "def calcular_predicciones(probs, threshold=umbral):\n",
        "  predictions = np.zeros(probs.shape)\n",
        "  predictions[np.where(probs > threshold)] = 1\n",
        "  return predictions\n",
        "\n",
        "def calcular_predicciones_NONE_mas_probable(probs, threshold=umbral):\n",
        "  predictions = calcular_predicciones(probs, threshold)\n",
        "\n",
        "  try:\n",
        "    probabilidad_NONE = probs[class2label.str2int(codigo_NONE)]\n",
        "    #Se ha encontrado NONE entre las predicciones\n",
        "    if (probabilidad_NONE > 0):\n",
        "      predictions_mayor_que_prob_NONE = np.zeros(probs.shape)\n",
        "      predictions_mayor_que_prob_NONE[np.where(probs > probabilidad_NONE)] = 1\n",
        "      # Si hay labels con mejor probabilidad que none nos la quedamos\n",
        "      if (1 in predictions_mayor_que_prob_NONE):\n",
        "        predictions = predictions_mayor_que_prob_NONE\n",
        "      else: #Si no las hay nos quedamos solo con NONE\n",
        "        predictions[:] = 0\n",
        "        predictions[class2label.str2int(codigo_NONE)] = 1\n",
        "  except ValueError:\n",
        "    pass      \n",
        "    \n",
        "  return predictions\n",
        "    \n",
        "#Solo asignar NONE si existe y tiene una probabilidad que supere el umbral\n",
        "def calcular_predicciones_existe_NONE(probs, threshold=umbral):\n",
        "  predictions = calcular_predicciones(probs, threshold)\n",
        "\n",
        "  try:\n",
        "    probabilidad_NONE = probs[class2label.str2int(codigo_NONE)]\n",
        "    #Se ha encontrado NONE entre las predicciones, nos la quedamos de forma exclusiva\n",
        "    if (probabilidad_NONE > threshold):\n",
        "        predictions[:] = 0\n",
        "        predictions[class2label.str2int(codigo_NONE)] = 1\n",
        "  except ValueError:\n",
        "    pass\n",
        "\n",
        "  return predictions"
      ],
      "metadata": {
        "id": "EeI6jM4luiQ3"
      },
      "id": "EeI6jM4luiQ3",
      "execution_count": 78,
      "outputs": []
    },
    {
      "cell_type": "code",
      "source": [
        "# obtienen los nombres de las etiquetas predichas\n",
        "def obtener_lables_predichas (y_pred):\n",
        "  predicted_labels = [class2label.int2str([idx])for idx, label in enumerate(y_pred) if label == 1.0]\n",
        "  y_pred_labels = []\n",
        "  for label in predicted_labels:\n",
        "      y_pred_labels.append(label[0])\n",
        "  return y_pred_labels\n",
        "\n",
        "# obtienen el vector y_true a partir de los labels \n",
        "def obtener_y_true (labels):\n",
        "  # crea una matriz del tamaño del texto y las clases a entrenar\n",
        "  labels_matrix = np.zeros(class2label.num_classes)\n",
        "  for clase in labels:\n",
        "    try:\n",
        "      indice_clase = class2label.str2int(clase)\n",
        "      labels_matrix[indice_clase] = 1\n",
        "    except:\n",
        "      print(\"La clase %s no está entre las clases de entrenamiento\" % clase)\n",
        "  return labels_matrix.tolist()"
      ],
      "metadata": {
        "id": "phF30P-VwdiM"
      },
      "id": "phF30P-VwdiM",
      "execution_count": 79,
      "outputs": []
    },
    {
      "cell_type": "code",
      "source": [
        "data = dataset[test][0]\n",
        "data"
      ],
      "metadata": {
        "colab": {
          "base_uri": "https://localhost:8080/"
        },
        "id": "u4Gno9L_-kl3",
        "outputId": "911fc431-689d-41f0-930f-2836e632bc75"
      },
      "id": "u4Gno9L_-kl3",
      "execution_count": 80,
      "outputs": [
        {
          "output_type": "execute_result",
          "data": {
            "text/plain": [
              "{'acto': 28196090,\n",
              " 'label': 0,\n",
              " 'label_str': 'NONE',\n",
              " 'label_list': [0],\n",
              " 'label_list_str': ['NONE'],\n",
              " 'informes': ['28196090-173056617.txt'],\n",
              " 'text': 'mujer.   coxartrosis derecha avanzada.cie . ',\n",
              " 'json': '[{\"apartado\": \"sexo\", \"texto\": \"mujer.\"}, {\"apartado\": \"juicio clinico\", \"texto\": \" juicio clinico coxartrosis derecha avanzada.cie .\"}]'}"
            ]
          },
          "metadata": {},
          "execution_count": 80
        }
      ]
    },
    {
      "cell_type": "code",
      "execution_count": 81,
      "id": "476cd70e",
      "metadata": {
        "id": "476cd70e",
        "outputId": "a04c999a-7a0c-4a03-f228-19acd85d9641",
        "colab": {
          "base_uri": "https://localhost:8080/",
          "height": 81,
          "referenced_widgets": [
            "74dab3a15feb4bb7aeafa2918ee8ee9a",
            "f536f8ed4254498092aecfa69a35626e",
            "e54994350cd34a208313cad9dae748c5",
            "936f5067bae542e6875c7170597c368c",
            "390b0412d5c84220b4221016f01660b4",
            "e9ed6fac4ac34d8c9d6dcbb7ff0beac4",
            "2cb1ae900ff64a69a3f72274a036623c",
            "6d347eb17dad492fbe2c14fd8347b8d5",
            "045dd13faf4242b398c4d57831b46e65",
            "7b33bfe10ff949b28cfbae3484234cbc",
            "21fd530ca9834af2a68fa5b0c70c6cc8",
            "7ebc149418364e8dbf5de9d066c4930d",
            "f252264617fc418098ea38cd8a6c6abb",
            "e9890c5bbcf74e768f5b7e7e35be5999",
            "5ac0e1c507c54192bdccddaaf3b733e2",
            "13b6168ee430416295436b74f9df55e8",
            "186be771b3f64097a4aff2be5ad9be11",
            "79c8ec0cbbd94b7baf761333e946fdf0",
            "3d009f2877e349f9b6d78c9a3e9e0c8e",
            "de666e5226f94b4c8c7069cc5ddd4858",
            "351d8efc82894cf59667e602409673a5",
            "4d8c244da03041c9b44785afb162ca55"
          ]
        }
      },
      "outputs": [
        {
          "output_type": "display_data",
          "data": {
            "text/plain": [
              "Downloading (…)lve/main/config.json:   0%|          | 0.00/20.9k [00:00<?, ?B/s]"
            ],
            "application/vnd.jupyter.widget-view+json": {
              "version_major": 2,
              "version_minor": 0,
              "model_id": "74dab3a15feb4bb7aeafa2918ee8ee9a"
            }
          },
          "metadata": {}
        },
        {
          "output_type": "display_data",
          "data": {
            "text/plain": [
              "Downloading pytorch_model.bin:   0%|          | 0.00/500M [00:00<?, ?B/s]"
            ],
            "application/vnd.jupyter.widget-view+json": {
              "version_major": 2,
              "version_minor": 0,
              "model_id": "7ebc149418364e8dbf5de9d066c4930d"
            }
          },
          "metadata": {}
        }
      ],
      "source": [
        "from transformers import AutoModelForSequenceClassification\n",
        "import torch\n",
        "import numpy as np\n",
        "\n",
        "#obtiene el modelo\n",
        "model = AutoModelForSequenceClassification.from_pretrained(\n",
        "    modelo_base, \n",
        "    num_labels=class2label.num_classes, \n",
        "    problem_type = \"multi_label_classification\")\n",
        "\n",
        "#procesa los datos\n",
        "inputs = preprocess_data(data)\n",
        "outputs = model(**inputs)\n",
        "\n",
        "#obtiene las prediccciones y las probabilidades\n",
        "logits = outputs.logits\n",
        "sigmoid = torch.nn.Sigmoid()\n",
        "probs = sigmoid(logits.squeeze().cpu())\n",
        "\n",
        "y_pred = calcular_predicciones(probs)\n",
        "y_pred_labels = obtener_lables_predichas(y_pred)\n",
        "\n",
        "y_true = obtener_y_true(data['label_list_str'])\n",
        "y_true_labels = data['label_list_str']"
      ]
    },
    {
      "cell_type": "markdown",
      "source": [
        "# Interpretación de los datos\n"
      ],
      "metadata": {
        "id": "FNHjAugI_ngK"
      },
      "id": "FNHjAugI_ngK"
    },
    {
      "cell_type": "code",
      "source": [
        "from sklearn.metrics import f1_score, roc_auc_score, accuracy_score, precision_score, recall_score\n",
        "\n",
        "def calculo_metricas_multi_label(y_pred, y_true, threshold=umbral):    \n",
        "    metric_average = \"micro\"\n",
        "    precision_score_value = precision_score(y_true, y_pred, average=metric_average)\n",
        "    recall_score_value = recall_score(y_true, y_pred, average=metric_average)\n",
        "    f1_micro_average = f1_score(y_true=y_true, y_pred=y_pred, average=metric_average)\n",
        "    roc_auc = roc_auc_score(y_true, y_pred, average=metric_average)\n",
        "    accuracy = accuracy_score(y_true, y_pred)\n",
        "    metrica_s_value = metrica_s_train(y_true, y_pred)\n",
        "    \n",
        "    metrics = {\n",
        "      'Métrica-s': round(metrica_s_value, 4), \n",
        "      'Precisión': round(precision_score_value, 2),\n",
        "      'Recall': round(recall_score_value, 2),\n",
        "      'F1': round(f1_micro_average, 2),\n",
        "      'Accuracy': round(accuracy, 2)}\n",
        "\n",
        "    return metrics"
      ],
      "metadata": {
        "id": "sPn2btA3uLal"
      },
      "id": "sPn2btA3uLal",
      "execution_count": 82,
      "outputs": []
    },
    {
      "cell_type": "code",
      "source": [
        "print('y_true_labels', y_true_labels)\n",
        "print('y_pred_labels', y_pred_labels)\n",
        "print('metricas', calculo_metricas_multi_label(y_pred, y_true))"
      ],
      "metadata": {
        "id": "ool1GlcR_LDd",
        "outputId": "33073b43-f8ce-46e7-bf1a-c0ed7e78c344",
        "colab": {
          "base_uri": "https://localhost:8080/"
        }
      },
      "id": "ool1GlcR_LDd",
      "execution_count": 83,
      "outputs": [
        {
          "output_type": "stream",
          "name": "stdout",
          "text": [
            "y_true_labels ['NONE']\n",
            "y_pred_labels ['T50.2X5A', 'O90.0', 'H59.022', 'T83.021A', 'T50.905A', 'T50.0X5A', 'T85.79XA', 'T84.89XA', 'T38.3X5A', 'N99.820', 'T39.1X5A', 'Y83.1', 'T82.120A', 'G25.1', 'T80.211A', 'T84.84XA', 'T82.868A', 'T87.81', 'Y64.0', 'T36.5X5A', 'Y83.8', 'D61.1', 'P01.2', 'T83.89XA', 'G97.49', 'T88.59XA']\n",
            "metricas {'Métrica-s': 0.0, 'Precisión': 0.94, 'Recall': 0.94, 'F1': 0.94, 'Accuracy': 0.94}\n"
          ]
        }
      ]
    },
    {
      "cell_type": "code",
      "source": [
        "from sklearn.metrics import confusion_matrix, ConfusionMatrixDisplay\n",
        "cm = confusion_matrix(y_true, y_pred)\n",
        "ConfusionMatrixDisplay(cm).plot()"
      ],
      "metadata": {
        "id": "z2-4yc7K_MTB",
        "outputId": "a38c4af3-ef1c-4f84-abe3-84847e6501f2",
        "colab": {
          "base_uri": "https://localhost:8080/",
          "height": 466
        }
      },
      "id": "z2-4yc7K_MTB",
      "execution_count": 84,
      "outputs": [
        {
          "output_type": "execute_result",
          "data": {
            "text/plain": [
              "<sklearn.metrics._plot.confusion_matrix.ConfusionMatrixDisplay at 0x7f65030a7820>"
            ]
          },
          "metadata": {},
          "execution_count": 84
        },
        {
          "output_type": "display_data",
          "data": {
            "text/plain": [
              "<Figure size 640x480 with 2 Axes>"
            ],
            "image/png": "[encoded data removed]"
          },
          "metadata": {}
        }
      ]
    },
    {
      "cell_type": "code",
      "source": [
        "from sklearn.metrics import classification_report\n",
        "print(classification_report(y_true, y_pred))"
      ],
      "metadata": {
        "id": "b_wXds5e_N-x",
        "outputId": "f419ec50-2438-49ed-e67a-81509b0fa22c",
        "colab": {
          "base_uri": "https://localhost:8080/"
        }
      },
      "id": "b_wXds5e_N-x",
      "execution_count": 85,
      "outputs": [
        {
          "output_type": "stream",
          "name": "stdout",
          "text": [
            "              precision    recall  f1-score   support\n",
            "\n",
            "         0.0       1.00      0.95      0.97       484\n",
            "         1.0       0.00      0.00      0.00         1\n",
            "\n",
            "    accuracy                           0.94       485\n",
            "   macro avg       0.50      0.47      0.49       485\n",
            "weighted avg       1.00      0.94      0.97       485\n",
            "\n"
          ]
        }
      ]
    }
  ],
  "metadata": {
    "colab": {
      "provenance": [],
      "include_colab_link": true
    },
    "kernelspec": {
      "display_name": "Python 3 (ipykernel)",
      "language": "python",
      "name": "python3"
    },
    "language_info": {
      "codemirror_mode": {
        "name": "ipython",
        "version": 3
      },
      "file_extension": ".py",
      "mimetype": "text/x-python",
      "name": "python",
      "nbconvert_exporter": "python",
      "pygments_lexer": "ipython3",
      "version": "3.9.12"
    },
    "widgets": {
      "application/vnd.jupyter.widget-state+json": {
        "bcdca79525c84d29b5e5993696332906": {
          "model_module": "@jupyter-widgets/controls",
          "model_name": "HBoxModel",
          "model_module_version": "1.5.0",
          "state": {
            "_dom_classes": [],
            "_model_module": "@jupyter-widgets/controls",
            "_model_module_version": "1.5.0",
            "_model_name": "HBoxModel",
            "_view_count": null,
            "_view_module": "@jupyter-widgets/controls",
            "_view_module_version": "1.5.0",
            "_view_name": "HBoxView",
            "box_style": "",
            "children": [
              "IPY_MODEL_3b552385619a471aba743ec6d1245027",
              "IPY_MODEL_9a3290819eff4206bd74efbea942dbb9",
              "IPY_MODEL_b44375cc793740ee81f45e52ab7ab45d"
            ],
            "layout": "IPY_MODEL_bc97c2dff0084e899ab06059eb534c57"
          }
        },
        "3b552385619a471aba743ec6d1245027": {
          "model_module": "@jupyter-widgets/controls",
          "model_name": "HTMLModel",
          "model_module_version": "1.5.0",
          "state": {
            "_dom_classes": [],
            "_model_module": "@jupyter-widgets/controls",
            "_model_module_version": "1.5.0",
            "_model_name": "HTMLModel",
            "_view_count": null,
            "_view_module": "@jupyter-widgets/controls",
            "_view_module_version": "1.5.0",
            "_view_name": "HTMLView",
            "description": "",
            "description_tooltip": null,
            "layout": "IPY_MODEL_2243ee2274bf45b49de342b9e61c8259",
            "placeholder": "​",
            "style": "IPY_MODEL_df066006ad7a4ceab631ca2666636208",
            "value": "Downloading (…)okenizer_config.json: 100%"
          }
        },
        "9a3290819eff4206bd74efbea942dbb9": {
          "model_module": "@jupyter-widgets/controls",
          "model_name": "FloatProgressModel",
          "model_module_version": "1.5.0",
          "state": {
            "_dom_classes": [],
            "_model_module": "@jupyter-widgets/controls",
            "_model_module_version": "1.5.0",
            "_model_name": "FloatProgressModel",
            "_view_count": null,
            "_view_module": "@jupyter-widgets/controls",
            "_view_module_version": "1.5.0",
            "_view_name": "ProgressView",
            "bar_style": "success",
            "description": "",
            "description_tooltip": null,
            "layout": "IPY_MODEL_e21cd6e3dbde416bbd7902172da2fe9c",
            "max": 1330,
            "min": 0,
            "orientation": "horizontal",
            "style": "IPY_MODEL_c3d6fe0598df480294c9ceb5f2ef5dfe",
            "value": 1330
          }
        },
        "b44375cc793740ee81f45e52ab7ab45d": {
          "model_module": "@jupyter-widgets/controls",
          "model_name": "HTMLModel",
          "model_module_version": "1.5.0",
          "state": {
            "_dom_classes": [],
            "_model_module": "@jupyter-widgets/controls",
            "_model_module_version": "1.5.0",
            "_model_name": "HTMLModel",
            "_view_count": null,
            "_view_module": "@jupyter-widgets/controls",
            "_view_module_version": "1.5.0",
            "_view_name": "HTMLView",
            "description": "",
            "description_tooltip": null,
            "layout": "IPY_MODEL_0eac12cb760f4981b56124805f742bb7",
            "placeholder": "​",
            "style": "IPY_MODEL_3fd848aa65904ee0bbce5561befa4ea0",
            "value": " 1.33k/1.33k [00:00&lt;00:00, 29.8kB/s]"
          }
        },
        "bc97c2dff0084e899ab06059eb534c57": {
          "model_module": "@jupyter-widgets/base",
          "model_name": "LayoutModel",
          "model_module_version": "1.2.0",
          "state": {
            "_model_module": "@jupyter-widgets/base",
            "_model_module_version": "1.2.0",
            "_model_name": "LayoutModel",
            "_view_count": null,
            "_view_module": "@jupyter-widgets/base",
            "_view_module_version": "1.2.0",
            "_view_name": "LayoutView",
            "align_content": null,
            "align_items": null,
            "align_self": null,
            "border": null,
            "bottom": null,
            "display": null,
            "flex": null,
            "flex_flow": null,
            "grid_area": null,
            "grid_auto_columns": null,
            "grid_auto_flow": null,
            "grid_auto_rows": null,
            "grid_column": null,
            "grid_gap": null,
            "grid_row": null,
            "grid_template_areas": null,
            "grid_template_columns": null,
            "grid_template_rows": null,
            "height": null,
            "justify_content": null,
            "justify_items": null,
            "left": null,
            "margin": null,
            "max_height": null,
            "max_width": null,
            "min_height": null,
            "min_width": null,
            "object_fit": null,
            "object_position": null,
            "order": null,
            "overflow": null,
            "overflow_x": null,
            "overflow_y": null,
            "padding": null,
            "right": null,
            "top": null,
            "visibility": null,
            "width": null
          }
        },
        "2243ee2274bf45b49de342b9e61c8259": {
          "model_module": "@jupyter-widgets/base",
          "model_name": "LayoutModel",
          "model_module_version": "1.2.0",
          "state": {
            "_model_module": "@jupyter-widgets/base",
            "_model_module_version": "1.2.0",
            "_model_name": "LayoutModel",
            "_view_count": null,
            "_view_module": "@jupyter-widgets/base",
            "_view_module_version": "1.2.0",
            "_view_name": "LayoutView",
            "align_content": null,
            "align_items": null,
            "align_self": null,
            "border": null,
            "bottom": null,
            "display": null,
            "flex": null,
            "flex_flow": null,
            "grid_area": null,
            "grid_auto_columns": null,
            "grid_auto_flow": null,
            "grid_auto_rows": null,
            "grid_column": null,
            "grid_gap": null,
            "grid_row": null,
            "grid_template_areas": null,
            "grid_template_columns": null,
            "grid_template_rows": null,
            "height": null,
            "justify_content": null,
            "justify_items": null,
            "left": null,
            "margin": null,
            "max_height": null,
            "max_width": null,
            "min_height": null,
            "min_width": null,
            "object_fit": null,
            "object_position": null,
            "order": null,
            "overflow": null,
            "overflow_x": null,
            "overflow_y": null,
            "padding": null,
            "right": null,
            "top": null,
            "visibility": null,
            "width": null
          }
        },
        "df066006ad7a4ceab631ca2666636208": {
          "model_module": "@jupyter-widgets/controls",
          "model_name": "DescriptionStyleModel",
          "model_module_version": "1.5.0",
          "state": {
            "_model_module": "@jupyter-widgets/controls",
            "_model_module_version": "1.5.0",
            "_model_name": "DescriptionStyleModel",
            "_view_count": null,
            "_view_module": "@jupyter-widgets/base",
            "_view_module_version": "1.2.0",
            "_view_name": "StyleView",
            "description_width": ""
          }
        },
        "e21cd6e3dbde416bbd7902172da2fe9c": {
          "model_module": "@jupyter-widgets/base",
          "model_name": "LayoutModel",
          "model_module_version": "1.2.0",
          "state": {
            "_model_module": "@jupyter-widgets/base",
            "_model_module_version": "1.2.0",
            "_model_name": "LayoutModel",
            "_view_count": null,
            "_view_module": "@jupyter-widgets/base",
            "_view_module_version": "1.2.0",
            "_view_name": "LayoutView",
            "align_content": null,
            "align_items": null,
            "align_self": null,
            "border": null,
            "bottom": null,
            "display": null,
            "flex": null,
            "flex_flow": null,
            "grid_area": null,
            "grid_auto_columns": null,
            "grid_auto_flow": null,
            "grid_auto_rows": null,
            "grid_column": null,
            "grid_gap": null,
            "grid_row": null,
            "grid_template_areas": null,
            "grid_template_columns": null,
            "grid_template_rows": null,
            "height": null,
            "justify_content": null,
            "justify_items": null,
            "left": null,
            "margin": null,
            "max_height": null,
            "max_width": null,
            "min_height": null,
            "min_width": null,
            "object_fit": null,
            "object_position": null,
            "order": null,
            "overflow": null,
            "overflow_x": null,
            "overflow_y": null,
            "padding": null,
            "right": null,
            "top": null,
            "visibility": null,
            "width": null
          }
        },
        "c3d6fe0598df480294c9ceb5f2ef5dfe": {
          "model_module": "@jupyter-widgets/controls",
          "model_name": "ProgressStyleModel",
          "model_module_version": "1.5.0",
          "state": {
            "_model_module": "@jupyter-widgets/controls",
            "_model_module_version": "1.5.0",
            "_model_name": "ProgressStyleModel",
            "_view_count": null,
            "_view_module": "@jupyter-widgets/base",
            "_view_module_version": "1.2.0",
            "_view_name": "StyleView",
            "bar_color": null,
            "description_width": ""
          }
        },
        "0eac12cb760f4981b56124805f742bb7": {
          "model_module": "@jupyter-widgets/base",
          "model_name": "LayoutModel",
          "model_module_version": "1.2.0",
          "state": {
            "_model_module": "@jupyter-widgets/base",
            "_model_module_version": "1.2.0",
            "_model_name": "LayoutModel",
            "_view_count": null,
            "_view_module": "@jupyter-widgets/base",
            "_view_module_version": "1.2.0",
            "_view_name": "LayoutView",
            "align_content": null,
            "align_items": null,
            "align_self": null,
            "border": null,
            "bottom": null,
            "display": null,
            "flex": null,
            "flex_flow": null,
            "grid_area": null,
            "grid_auto_columns": null,
            "grid_auto_flow": null,
            "grid_auto_rows": null,
            "grid_column": null,
            "grid_gap": null,
            "grid_row": null,
            "grid_template_areas": null,
            "grid_template_columns": null,
            "grid_template_rows": null,
            "height": null,
            "justify_content": null,
            "justify_items": null,
            "left": null,
            "margin": null,
            "max_height": null,
            "max_width": null,
            "min_height": null,
            "min_width": null,
            "object_fit": null,
            "object_position": null,
            "order": null,
            "overflow": null,
            "overflow_x": null,
            "overflow_y": null,
            "padding": null,
            "right": null,
            "top": null,
            "visibility": null,
            "width": null
          }
        },
        "3fd848aa65904ee0bbce5561befa4ea0": {
          "model_module": "@jupyter-widgets/controls",
          "model_name": "DescriptionStyleModel",
          "model_module_version": "1.5.0",
          "state": {
            "_model_module": "@jupyter-widgets/controls",
            "_model_module_version": "1.5.0",
            "_model_name": "DescriptionStyleModel",
            "_view_count": null,
            "_view_module": "@jupyter-widgets/base",
            "_view_module_version": "1.2.0",
            "_view_name": "StyleView",
            "description_width": ""
          }
        },
        "4f141469373c4ee79318b953d798ddf1": {
          "model_module": "@jupyter-widgets/controls",
          "model_name": "HBoxModel",
          "model_module_version": "1.5.0",
          "state": {
            "_dom_classes": [],
            "_model_module": "@jupyter-widgets/controls",
            "_model_module_version": "1.5.0",
            "_model_name": "HBoxModel",
            "_view_count": null,
            "_view_module": "@jupyter-widgets/controls",
            "_view_module_version": "1.5.0",
            "_view_name": "HBoxView",
            "box_style": "",
            "children": [
              "IPY_MODEL_fd03a775ce1e4bad9032a36984d74b45",
              "IPY_MODEL_093e39983298454c9888c07a79979144",
              "IPY_MODEL_fdce67d940e94f9685d224ace5ccd22d"
            ],
            "layout": "IPY_MODEL_392d3cbc8b5a47f589365c4d6893d0a3"
          }
        },
        "fd03a775ce1e4bad9032a36984d74b45": {
          "model_module": "@jupyter-widgets/controls",
          "model_name": "HTMLModel",
          "model_module_version": "1.5.0",
          "state": {
            "_dom_classes": [],
            "_model_module": "@jupyter-widgets/controls",
            "_model_module_version": "1.5.0",
            "_model_name": "HTMLModel",
            "_view_count": null,
            "_view_module": "@jupyter-widgets/controls",
            "_view_module_version": "1.5.0",
            "_view_name": "HTMLView",
            "description": "",
            "description_tooltip": null,
            "layout": "IPY_MODEL_9cdc75db4c5344ee91ee897bf8cf68b1",
            "placeholder": "​",
            "style": "IPY_MODEL_7772327f47304fd283c5a9990e130900",
            "value": "Downloading (…)olve/main/vocab.json: 100%"
          }
        },
        "093e39983298454c9888c07a79979144": {
          "model_module": "@jupyter-widgets/controls",
          "model_name": "FloatProgressModel",
          "model_module_version": "1.5.0",
          "state": {
            "_dom_classes": [],
            "_model_module": "@jupyter-widgets/controls",
            "_model_module_version": "1.5.0",
            "_model_name": "FloatProgressModel",
            "_view_count": null,
            "_view_module": "@jupyter-widgets/controls",
            "_view_module_version": "1.5.0",
            "_view_name": "ProgressView",
            "bar_style": "success",
            "description": "",
            "description_tooltip": null,
            "layout": "IPY_MODEL_f20448d877ac4240bd6c0f43e1636203",
            "max": 1065265,
            "min": 0,
            "orientation": "horizontal",
            "style": "IPY_MODEL_59177e0e9ff54a91b6f23538031f4ec0",
            "value": 1065265
          }
        },
        "fdce67d940e94f9685d224ace5ccd22d": {
          "model_module": "@jupyter-widgets/controls",
          "model_name": "HTMLModel",
          "model_module_version": "1.5.0",
          "state": {
            "_dom_classes": [],
            "_model_module": "@jupyter-widgets/controls",
            "_model_module_version": "1.5.0",
            "_model_name": "HTMLModel",
            "_view_count": null,
            "_view_module": "@jupyter-widgets/controls",
            "_view_module_version": "1.5.0",
            "_view_name": "HTMLView",
            "description": "",
            "description_tooltip": null,
            "layout": "IPY_MODEL_454f814a23204c5c889e905378026e8d",
            "placeholder": "​",
            "style": "IPY_MODEL_347b3cb8542447f58f83f5faac72c2aa",
            "value": " 1.07M/1.07M [00:00&lt;00:00, 3.95MB/s]"
          }
        },
        "392d3cbc8b5a47f589365c4d6893d0a3": {
          "model_module": "@jupyter-widgets/base",
          "model_name": "LayoutModel",
          "model_module_version": "1.2.0",
          "state": {
            "_model_module": "@jupyter-widgets/base",
            "_model_module_version": "1.2.0",
            "_model_name": "LayoutModel",
            "_view_count": null,
            "_view_module": "@jupyter-widgets/base",
            "_view_module_version": "1.2.0",
            "_view_name": "LayoutView",
            "align_content": null,
            "align_items": null,
            "align_self": null,
            "border": null,
            "bottom": null,
            "display": null,
            "flex": null,
            "flex_flow": null,
            "grid_area": null,
            "grid_auto_columns": null,
            "grid_auto_flow": null,
            "grid_auto_rows": null,
            "grid_column": null,
            "grid_gap": null,
            "grid_row": null,
            "grid_template_areas": null,
            "grid_template_columns": null,
            "grid_template_rows": null,
            "height": null,
            "justify_content": null,
            "justify_items": null,
            "left": null,
            "margin": null,
            "max_height": null,
            "max_width": null,
            "min_height": null,
            "min_width": null,
            "object_fit": null,
            "object_position": null,
            "order": null,
            "overflow": null,
            "overflow_x": null,
            "overflow_y": null,
            "padding": null,
            "right": null,
            "top": null,
            "visibility": null,
            "width": null
          }
        },
        "9cdc75db4c5344ee91ee897bf8cf68b1": {
          "model_module": "@jupyter-widgets/base",
          "model_name": "LayoutModel",
          "model_module_version": "1.2.0",
          "state": {
            "_model_module": "@jupyter-widgets/base",
            "_model_module_version": "1.2.0",
            "_model_name": "LayoutModel",
            "_view_count": null,
            "_view_module": "@jupyter-widgets/base",
            "_view_module_version": "1.2.0",
            "_view_name": "LayoutView",
            "align_content": null,
            "align_items": null,
            "align_self": null,
            "border": null,
            "bottom": null,
            "display": null,
            "flex": null,
            "flex_flow": null,
            "grid_area": null,
            "grid_auto_columns": null,
            "grid_auto_flow": null,
            "grid_auto_rows": null,
            "grid_column": null,
            "grid_gap": null,
            "grid_row": null,
            "grid_template_areas": null,
            "grid_template_columns": null,
            "grid_template_rows": null,
            "height": null,
            "justify_content": null,
            "justify_items": null,
            "left": null,
            "margin": null,
            "max_height": null,
            "max_width": null,
            "min_height": null,
            "min_width": null,
            "object_fit": null,
            "object_position": null,
            "order": null,
            "overflow": null,
            "overflow_x": null,
            "overflow_y": null,
            "padding": null,
            "right": null,
            "top": null,
            "visibility": null,
            "width": null
          }
        },
        "7772327f47304fd283c5a9990e130900": {
          "model_module": "@jupyter-widgets/controls",
          "model_name": "DescriptionStyleModel",
          "model_module_version": "1.5.0",
          "state": {
            "_model_module": "@jupyter-widgets/controls",
            "_model_module_version": "1.5.0",
            "_model_name": "DescriptionStyleModel",
            "_view_count": null,
            "_view_module": "@jupyter-widgets/base",
            "_view_module_version": "1.2.0",
            "_view_name": "StyleView",
            "description_width": ""
          }
        },
        "f20448d877ac4240bd6c0f43e1636203": {
          "model_module": "@jupyter-widgets/base",
          "model_name": "LayoutModel",
          "model_module_version": "1.2.0",
          "state": {
            "_model_module": "@jupyter-widgets/base",
            "_model_module_version": "1.2.0",
            "_model_name": "LayoutModel",
            "_view_count": null,
            "_view_module": "@jupyter-widgets/base",
            "_view_module_version": "1.2.0",
            "_view_name": "LayoutView",
            "align_content": null,
            "align_items": null,
            "align_self": null,
            "border": null,
            "bottom": null,
            "display": null,
            "flex": null,
            "flex_flow": null,
            "grid_area": null,
            "grid_auto_columns": null,
            "grid_auto_flow": null,
            "grid_auto_rows": null,
            "grid_column": null,
            "grid_gap": null,
            "grid_row": null,
            "grid_template_areas": null,
            "grid_template_columns": null,
            "grid_template_rows": null,
            "height": null,
            "justify_content": null,
            "justify_items": null,
            "left": null,
            "margin": null,
            "max_height": null,
            "max_width": null,
            "min_height": null,
            "min_width": null,
            "object_fit": null,
            "object_position": null,
            "order": null,
            "overflow": null,
            "overflow_x": null,
            "overflow_y": null,
            "padding": null,
            "right": null,
            "top": null,
            "visibility": null,
            "width": null
          }
        },
        "59177e0e9ff54a91b6f23538031f4ec0": {
          "model_module": "@jupyter-widgets/controls",
          "model_name": "ProgressStyleModel",
          "model_module_version": "1.5.0",
          "state": {
            "_model_module": "@jupyter-widgets/controls",
            "_model_module_version": "1.5.0",
            "_model_name": "ProgressStyleModel",
            "_view_count": null,
            "_view_module": "@jupyter-widgets/base",
            "_view_module_version": "1.2.0",
            "_view_name": "StyleView",
            "bar_color": null,
            "description_width": ""
          }
        },
        "454f814a23204c5c889e905378026e8d": {
          "model_module": "@jupyter-widgets/base",
          "model_name": "LayoutModel",
          "model_module_version": "1.2.0",
          "state": {
            "_model_module": "@jupyter-widgets/base",
            "_model_module_version": "1.2.0",
            "_model_name": "LayoutModel",
            "_view_count": null,
            "_view_module": "@jupyter-widgets/base",
            "_view_module_version": "1.2.0",
            "_view_name": "LayoutView",
            "align_content": null,
            "align_items": null,
            "align_self": null,
            "border": null,
            "bottom": null,
            "display": null,
            "flex": null,
            "flex_flow": null,
            "grid_area": null,
            "grid_auto_columns": null,
            "grid_auto_flow": null,
            "grid_auto_rows": null,
            "grid_column": null,
            "grid_gap": null,
            "grid_row": null,
            "grid_template_areas": null,
            "grid_template_columns": null,
            "grid_template_rows": null,
            "height": null,
            "justify_content": null,
            "justify_items": null,
            "left": null,
            "margin": null,
            "max_height": null,
            "max_width": null,
            "min_height": null,
            "min_width": null,
            "object_fit": null,
            "object_position": null,
            "order": null,
            "overflow": null,
            "overflow_x": null,
            "overflow_y": null,
            "padding": null,
            "right": null,
            "top": null,
            "visibility": null,
            "width": null
          }
        },
        "347b3cb8542447f58f83f5faac72c2aa": {
          "model_module": "@jupyter-widgets/controls",
          "model_name": "DescriptionStyleModel",
          "model_module_version": "1.5.0",
          "state": {
            "_model_module": "@jupyter-widgets/controls",
            "_model_module_version": "1.5.0",
            "_model_name": "DescriptionStyleModel",
            "_view_count": null,
            "_view_module": "@jupyter-widgets/base",
            "_view_module_version": "1.2.0",
            "_view_name": "StyleView",
            "description_width": ""
          }
        },
        "63ea149740894058a3558d95777e2d88": {
          "model_module": "@jupyter-widgets/controls",
          "model_name": "HBoxModel",
          "model_module_version": "1.5.0",
          "state": {
            "_dom_classes": [],
            "_model_module": "@jupyter-widgets/controls",
            "_model_module_version": "1.5.0",
            "_model_name": "HBoxModel",
            "_view_count": null,
            "_view_module": "@jupyter-widgets/controls",
            "_view_module_version": "1.5.0",
            "_view_name": "HBoxView",
            "box_style": "",
            "children": [
              "IPY_MODEL_a556965dd2a9482182a19f7e80797a4c",
              "IPY_MODEL_9e9673cc6b284414b8b0f5a46a73eee7",
              "IPY_MODEL_979fdbf1eade442d8702ce8b05ffa882"
            ],
            "layout": "IPY_MODEL_9b12d5cb62e543df84876c31b00778a0"
          }
        },
        "a556965dd2a9482182a19f7e80797a4c": {
          "model_module": "@jupyter-widgets/controls",
          "model_name": "HTMLModel",
          "model_module_version": "1.5.0",
          "state": {
            "_dom_classes": [],
            "_model_module": "@jupyter-widgets/controls",
            "_model_module_version": "1.5.0",
            "_model_name": "HTMLModel",
            "_view_count": null,
            "_view_module": "@jupyter-widgets/controls",
            "_view_module_version": "1.5.0",
            "_view_name": "HTMLView",
            "description": "",
            "description_tooltip": null,
            "layout": "IPY_MODEL_6125daec426e4b4e805ebaf20a444e7c",
            "placeholder": "​",
            "style": "IPY_MODEL_0f58978988804b32a50e3ef0321ab793",
            "value": "Downloading (…)olve/main/merges.txt: 100%"
          }
        },
        "9e9673cc6b284414b8b0f5a46a73eee7": {
          "model_module": "@jupyter-widgets/controls",
          "model_name": "FloatProgressModel",
          "model_module_version": "1.5.0",
          "state": {
            "_dom_classes": [],
            "_model_module": "@jupyter-widgets/controls",
            "_model_module_version": "1.5.0",
            "_model_name": "FloatProgressModel",
            "_view_count": null,
            "_view_module": "@jupyter-widgets/controls",
            "_view_module_version": "1.5.0",
            "_view_name": "ProgressView",
            "bar_style": "success",
            "description": "",
            "description_tooltip": null,
            "layout": "IPY_MODEL_0a6dc0030e1d485282f3180a3b6eb8ca",
            "max": 522504,
            "min": 0,
            "orientation": "horizontal",
            "style": "IPY_MODEL_496b61e7cbad4c2781293d315b50b89c",
            "value": 522504
          }
        },
        "979fdbf1eade442d8702ce8b05ffa882": {
          "model_module": "@jupyter-widgets/controls",
          "model_name": "HTMLModel",
          "model_module_version": "1.5.0",
          "state": {
            "_dom_classes": [],
            "_model_module": "@jupyter-widgets/controls",
            "_model_module_version": "1.5.0",
            "_model_name": "HTMLModel",
            "_view_count": null,
            "_view_module": "@jupyter-widgets/controls",
            "_view_module_version": "1.5.0",
            "_view_name": "HTMLView",
            "description": "",
            "description_tooltip": null,
            "layout": "IPY_MODEL_bba21b744180493a868747e98f0eb4ac",
            "placeholder": "​",
            "style": "IPY_MODEL_4d38df8d1b0845309397b075b225fb3d",
            "value": " 523k/523k [00:00&lt;00:00, 2.64MB/s]"
          }
        },
        "9b12d5cb62e543df84876c31b00778a0": {
          "model_module": "@jupyter-widgets/base",
          "model_name": "LayoutModel",
          "model_module_version": "1.2.0",
          "state": {
            "_model_module": "@jupyter-widgets/base",
            "_model_module_version": "1.2.0",
            "_model_name": "LayoutModel",
            "_view_count": null,
            "_view_module": "@jupyter-widgets/base",
            "_view_module_version": "1.2.0",
            "_view_name": "LayoutView",
            "align_content": null,
            "align_items": null,
            "align_self": null,
            "border": null,
            "bottom": null,
            "display": null,
            "flex": null,
            "flex_flow": null,
            "grid_area": null,
            "grid_auto_columns": null,
            "grid_auto_flow": null,
            "grid_auto_rows": null,
            "grid_column": null,
            "grid_gap": null,
            "grid_row": null,
            "grid_template_areas": null,
            "grid_template_columns": null,
            "grid_template_rows": null,
            "height": null,
            "justify_content": null,
            "justify_items": null,
            "left": null,
            "margin": null,
            "max_height": null,
            "max_width": null,
            "min_height": null,
            "min_width": null,
            "object_fit": null,
            "object_position": null,
            "order": null,
            "overflow": null,
            "overflow_x": null,
            "overflow_y": null,
            "padding": null,
            "right": null,
            "top": null,
            "visibility": null,
            "width": null
          }
        },
        "6125daec426e4b4e805ebaf20a444e7c": {
          "model_module": "@jupyter-widgets/base",
          "model_name": "LayoutModel",
          "model_module_version": "1.2.0",
          "state": {
            "_model_module": "@jupyter-widgets/base",
            "_model_module_version": "1.2.0",
            "_model_name": "LayoutModel",
            "_view_count": null,
            "_view_module": "@jupyter-widgets/base",
            "_view_module_version": "1.2.0",
            "_view_name": "LayoutView",
            "align_content": null,
            "align_items": null,
            "align_self": null,
            "border": null,
            "bottom": null,
            "display": null,
            "flex": null,
            "flex_flow": null,
            "grid_area": null,
            "grid_auto_columns": null,
            "grid_auto_flow": null,
            "grid_auto_rows": null,
            "grid_column": null,
            "grid_gap": null,
            "grid_row": null,
            "grid_template_areas": null,
            "grid_template_columns": null,
            "grid_template_rows": null,
            "height": null,
            "justify_content": null,
            "justify_items": null,
            "left": null,
            "margin": null,
            "max_height": null,
            "max_width": null,
            "min_height": null,
            "min_width": null,
            "object_fit": null,
            "object_position": null,
            "order": null,
            "overflow": null,
            "overflow_x": null,
            "overflow_y": null,
            "padding": null,
            "right": null,
            "top": null,
            "visibility": null,
            "width": null
          }
        },
        "0f58978988804b32a50e3ef0321ab793": {
          "model_module": "@jupyter-widgets/controls",
          "model_name": "DescriptionStyleModel",
          "model_module_version": "1.5.0",
          "state": {
            "_model_module": "@jupyter-widgets/controls",
            "_model_module_version": "1.5.0",
            "_model_name": "DescriptionStyleModel",
            "_view_count": null,
            "_view_module": "@jupyter-widgets/base",
            "_view_module_version": "1.2.0",
            "_view_name": "StyleView",
            "description_width": ""
          }
        },
        "0a6dc0030e1d485282f3180a3b6eb8ca": {
          "model_module": "@jupyter-widgets/base",
          "model_name": "LayoutModel",
          "model_module_version": "1.2.0",
          "state": {
            "_model_module": "@jupyter-widgets/base",
            "_model_module_version": "1.2.0",
            "_model_name": "LayoutModel",
            "_view_count": null,
            "_view_module": "@jupyter-widgets/base",
            "_view_module_version": "1.2.0",
            "_view_name": "LayoutView",
            "align_content": null,
            "align_items": null,
            "align_self": null,
            "border": null,
            "bottom": null,
            "display": null,
            "flex": null,
            "flex_flow": null,
            "grid_area": null,
            "grid_auto_columns": null,
            "grid_auto_flow": null,
            "grid_auto_rows": null,
            "grid_column": null,
            "grid_gap": null,
            "grid_row": null,
            "grid_template_areas": null,
            "grid_template_columns": null,
            "grid_template_rows": null,
            "height": null,
            "justify_content": null,
            "justify_items": null,
            "left": null,
            "margin": null,
            "max_height": null,
            "max_width": null,
            "min_height": null,
            "min_width": null,
            "object_fit": null,
            "object_position": null,
            "order": null,
            "overflow": null,
            "overflow_x": null,
            "overflow_y": null,
            "padding": null,
            "right": null,
            "top": null,
            "visibility": null,
            "width": null
          }
        },
        "496b61e7cbad4c2781293d315b50b89c": {
          "model_module": "@jupyter-widgets/controls",
          "model_name": "ProgressStyleModel",
          "model_module_version": "1.5.0",
          "state": {
            "_model_module": "@jupyter-widgets/controls",
            "_model_module_version": "1.5.0",
            "_model_name": "ProgressStyleModel",
            "_view_count": null,
            "_view_module": "@jupyter-widgets/base",
            "_view_module_version": "1.2.0",
            "_view_name": "StyleView",
            "bar_color": null,
            "description_width": ""
          }
        },
        "bba21b744180493a868747e98f0eb4ac": {
          "model_module": "@jupyter-widgets/base",
          "model_name": "LayoutModel",
          "model_module_version": "1.2.0",
          "state": {
            "_model_module": "@jupyter-widgets/base",
            "_model_module_version": "1.2.0",
            "_model_name": "LayoutModel",
            "_view_count": null,
            "_view_module": "@jupyter-widgets/base",
            "_view_module_version": "1.2.0",
            "_view_name": "LayoutView",
            "align_content": null,
            "align_items": null,
            "align_self": null,
            "border": null,
            "bottom": null,
            "display": null,
            "flex": null,
            "flex_flow": null,
            "grid_area": null,
            "grid_auto_columns": null,
            "grid_auto_flow": null,
            "grid_auto_rows": null,
            "grid_column": null,
            "grid_gap": null,
            "grid_row": null,
            "grid_template_areas": null,
            "grid_template_columns": null,
            "grid_template_rows": null,
            "height": null,
            "justify_content": null,
            "justify_items": null,
            "left": null,
            "margin": null,
            "max_height": null,
            "max_width": null,
            "min_height": null,
            "min_width": null,
            "object_fit": null,
            "object_position": null,
            "order": null,
            "overflow": null,
            "overflow_x": null,
            "overflow_y": null,
            "padding": null,
            "right": null,
            "top": null,
            "visibility": null,
            "width": null
          }
        },
        "4d38df8d1b0845309397b075b225fb3d": {
          "model_module": "@jupyter-widgets/controls",
          "model_name": "DescriptionStyleModel",
          "model_module_version": "1.5.0",
          "state": {
            "_model_module": "@jupyter-widgets/controls",
            "_model_module_version": "1.5.0",
            "_model_name": "DescriptionStyleModel",
            "_view_count": null,
            "_view_module": "@jupyter-widgets/base",
            "_view_module_version": "1.2.0",
            "_view_name": "StyleView",
            "description_width": ""
          }
        },
        "6f12d81ce10440539572a64842475c3e": {
          "model_module": "@jupyter-widgets/controls",
          "model_name": "HBoxModel",
          "model_module_version": "1.5.0",
          "state": {
            "_dom_classes": [],
            "_model_module": "@jupyter-widgets/controls",
            "_model_module_version": "1.5.0",
            "_model_name": "HBoxModel",
            "_view_count": null,
            "_view_module": "@jupyter-widgets/controls",
            "_view_module_version": "1.5.0",
            "_view_name": "HBoxView",
            "box_style": "",
            "children": [
              "IPY_MODEL_f233b708172b440da75d47b02a906889",
              "IPY_MODEL_df7aa26cda874f759653aec7324a00d6",
              "IPY_MODEL_1a2362b7ea4946e18f752b94e0513bce"
            ],
            "layout": "IPY_MODEL_51e008c2aad74baebd22429b590cd46b"
          }
        },
        "f233b708172b440da75d47b02a906889": {
          "model_module": "@jupyter-widgets/controls",
          "model_name": "HTMLModel",
          "model_module_version": "1.5.0",
          "state": {
            "_dom_classes": [],
            "_model_module": "@jupyter-widgets/controls",
            "_model_module_version": "1.5.0",
            "_model_name": "HTMLModel",
            "_view_count": null,
            "_view_module": "@jupyter-widgets/controls",
            "_view_module_version": "1.5.0",
            "_view_name": "HTMLView",
            "description": "",
            "description_tooltip": null,
            "layout": "IPY_MODEL_aabfdba5da234eb6af7ac0ef10151071",
            "placeholder": "​",
            "style": "IPY_MODEL_2d4675ea67684e1daaf8b49bc3c3aaa4",
            "value": "Downloading (…)cial_tokens_map.json: 100%"
          }
        },
        "df7aa26cda874f759653aec7324a00d6": {
          "model_module": "@jupyter-widgets/controls",
          "model_name": "FloatProgressModel",
          "model_module_version": "1.5.0",
          "state": {
            "_dom_classes": [],
            "_model_module": "@jupyter-widgets/controls",
            "_model_module_version": "1.5.0",
            "_model_name": "FloatProgressModel",
            "_view_count": null,
            "_view_module": "@jupyter-widgets/controls",
            "_view_module_version": "1.5.0",
            "_view_name": "ProgressView",
            "bar_style": "success",
            "description": "",
            "description_tooltip": null,
            "layout": "IPY_MODEL_0cad50b8497c445a808f4246d4900b6a",
            "max": 957,
            "min": 0,
            "orientation": "horizontal",
            "style": "IPY_MODEL_bcaf7c6b1bd64f658fb149afdb8e9b87",
            "value": 957
          }
        },
        "1a2362b7ea4946e18f752b94e0513bce": {
          "model_module": "@jupyter-widgets/controls",
          "model_name": "HTMLModel",
          "model_module_version": "1.5.0",
          "state": {
            "_dom_classes": [],
            "_model_module": "@jupyter-widgets/controls",
            "_model_module_version": "1.5.0",
            "_model_name": "HTMLModel",
            "_view_count": null,
            "_view_module": "@jupyter-widgets/controls",
            "_view_module_version": "1.5.0",
            "_view_name": "HTMLView",
            "description": "",
            "description_tooltip": null,
            "layout": "IPY_MODEL_3863f36d3904492cb22ae73b26ea68f9",
            "placeholder": "​",
            "style": "IPY_MODEL_0cd6b2c294ea44fe9f3d857c337c6f29",
            "value": " 957/957 [00:00&lt;00:00, 15.2kB/s]"
          }
        },
        "51e008c2aad74baebd22429b590cd46b": {
          "model_module": "@jupyter-widgets/base",
          "model_name": "LayoutModel",
          "model_module_version": "1.2.0",
          "state": {
            "_model_module": "@jupyter-widgets/base",
            "_model_module_version": "1.2.0",
            "_model_name": "LayoutModel",
            "_view_count": null,
            "_view_module": "@jupyter-widgets/base",
            "_view_module_version": "1.2.0",
            "_view_name": "LayoutView",
            "align_content": null,
            "align_items": null,
            "align_self": null,
            "border": null,
            "bottom": null,
            "display": null,
            "flex": null,
            "flex_flow": null,
            "grid_area": null,
            "grid_auto_columns": null,
            "grid_auto_flow": null,
            "grid_auto_rows": null,
            "grid_column": null,
            "grid_gap": null,
            "grid_row": null,
            "grid_template_areas": null,
            "grid_template_columns": null,
            "grid_template_rows": null,
            "height": null,
            "justify_content": null,
            "justify_items": null,
            "left": null,
            "margin": null,
            "max_height": null,
            "max_width": null,
            "min_height": null,
            "min_width": null,
            "object_fit": null,
            "object_position": null,
            "order": null,
            "overflow": null,
            "overflow_x": null,
            "overflow_y": null,
            "padding": null,
            "right": null,
            "top": null,
            "visibility": null,
            "width": null
          }
        },
        "aabfdba5da234eb6af7ac0ef10151071": {
          "model_module": "@jupyter-widgets/base",
          "model_name": "LayoutModel",
          "model_module_version": "1.2.0",
          "state": {
            "_model_module": "@jupyter-widgets/base",
            "_model_module_version": "1.2.0",
            "_model_name": "LayoutModel",
            "_view_count": null,
            "_view_module": "@jupyter-widgets/base",
            "_view_module_version": "1.2.0",
            "_view_name": "LayoutView",
            "align_content": null,
            "align_items": null,
            "align_self": null,
            "border": null,
            "bottom": null,
            "display": null,
            "flex": null,
            "flex_flow": null,
            "grid_area": null,
            "grid_auto_columns": null,
            "grid_auto_flow": null,
            "grid_auto_rows": null,
            "grid_column": null,
            "grid_gap": null,
            "grid_row": null,
            "grid_template_areas": null,
            "grid_template_columns": null,
            "grid_template_rows": null,
            "height": null,
            "justify_content": null,
            "justify_items": null,
            "left": null,
            "margin": null,
            "max_height": null,
            "max_width": null,
            "min_height": null,
            "min_width": null,
            "object_fit": null,
            "object_position": null,
            "order": null,
            "overflow": null,
            "overflow_x": null,
            "overflow_y": null,
            "padding": null,
            "right": null,
            "top": null,
            "visibility": null,
            "width": null
          }
        },
        "2d4675ea67684e1daaf8b49bc3c3aaa4": {
          "model_module": "@jupyter-widgets/controls",
          "model_name": "DescriptionStyleModel",
          "model_module_version": "1.5.0",
          "state": {
            "_model_module": "@jupyter-widgets/controls",
            "_model_module_version": "1.5.0",
            "_model_name": "DescriptionStyleModel",
            "_view_count": null,
            "_view_module": "@jupyter-widgets/base",
            "_view_module_version": "1.2.0",
            "_view_name": "StyleView",
            "description_width": ""
          }
        },
        "0cad50b8497c445a808f4246d4900b6a": {
          "model_module": "@jupyter-widgets/base",
          "model_name": "LayoutModel",
          "model_module_version": "1.2.0",
          "state": {
            "_model_module": "@jupyter-widgets/base",
            "_model_module_version": "1.2.0",
            "_model_name": "LayoutModel",
            "_view_count": null,
            "_view_module": "@jupyter-widgets/base",
            "_view_module_version": "1.2.0",
            "_view_name": "LayoutView",
            "align_content": null,
            "align_items": null,
            "align_self": null,
            "border": null,
            "bottom": null,
            "display": null,
            "flex": null,
            "flex_flow": null,
            "grid_area": null,
            "grid_auto_columns": null,
            "grid_auto_flow": null,
            "grid_auto_rows": null,
            "grid_column": null,
            "grid_gap": null,
            "grid_row": null,
            "grid_template_areas": null,
            "grid_template_columns": null,
            "grid_template_rows": null,
            "height": null,
            "justify_content": null,
            "justify_items": null,
            "left": null,
            "margin": null,
            "max_height": null,
            "max_width": null,
            "min_height": null,
            "min_width": null,
            "object_fit": null,
            "object_position": null,
            "order": null,
            "overflow": null,
            "overflow_x": null,
            "overflow_y": null,
            "padding": null,
            "right": null,
            "top": null,
            "visibility": null,
            "width": null
          }
        },
        "bcaf7c6b1bd64f658fb149afdb8e9b87": {
          "model_module": "@jupyter-widgets/controls",
          "model_name": "ProgressStyleModel",
          "model_module_version": "1.5.0",
          "state": {
            "_model_module": "@jupyter-widgets/controls",
            "_model_module_version": "1.5.0",
            "_model_name": "ProgressStyleModel",
            "_view_count": null,
            "_view_module": "@jupyter-widgets/base",
            "_view_module_version": "1.2.0",
            "_view_name": "StyleView",
            "bar_color": null,
            "description_width": ""
          }
        },
        "3863f36d3904492cb22ae73b26ea68f9": {
          "model_module": "@jupyter-widgets/base",
          "model_name": "LayoutModel",
          "model_module_version": "1.2.0",
          "state": {
            "_model_module": "@jupyter-widgets/base",
            "_model_module_version": "1.2.0",
            "_model_name": "LayoutModel",
            "_view_count": null,
            "_view_module": "@jupyter-widgets/base",
            "_view_module_version": "1.2.0",
            "_view_name": "LayoutView",
            "align_content": null,
            "align_items": null,
            "align_self": null,
            "border": null,
            "bottom": null,
            "display": null,
            "flex": null,
            "flex_flow": null,
            "grid_area": null,
            "grid_auto_columns": null,
            "grid_auto_flow": null,
            "grid_auto_rows": null,
            "grid_column": null,
            "grid_gap": null,
            "grid_row": null,
            "grid_template_areas": null,
            "grid_template_columns": null,
            "grid_template_rows": null,
            "height": null,
            "justify_content": null,
            "justify_items": null,
            "left": null,
            "margin": null,
            "max_height": null,
            "max_width": null,
            "min_height": null,
            "min_width": null,
            "object_fit": null,
            "object_position": null,
            "order": null,
            "overflow": null,
            "overflow_x": null,
            "overflow_y": null,
            "padding": null,
            "right": null,
            "top": null,
            "visibility": null,
            "width": null
          }
        },
        "0cd6b2c294ea44fe9f3d857c337c6f29": {
          "model_module": "@jupyter-widgets/controls",
          "model_name": "DescriptionStyleModel",
          "model_module_version": "1.5.0",
          "state": {
            "_model_module": "@jupyter-widgets/controls",
            "_model_module_version": "1.5.0",
            "_model_name": "DescriptionStyleModel",
            "_view_count": null,
            "_view_module": "@jupyter-widgets/base",
            "_view_module_version": "1.2.0",
            "_view_name": "StyleView",
            "description_width": ""
          }
        },
        "74dab3a15feb4bb7aeafa2918ee8ee9a": {
          "model_module": "@jupyter-widgets/controls",
          "model_name": "HBoxModel",
          "model_module_version": "1.5.0",
          "state": {
            "_dom_classes": [],
            "_model_module": "@jupyter-widgets/controls",
            "_model_module_version": "1.5.0",
            "_model_name": "HBoxModel",
            "_view_count": null,
            "_view_module": "@jupyter-widgets/controls",
            "_view_module_version": "1.5.0",
            "_view_name": "HBoxView",
            "box_style": "",
            "children": [
              "IPY_MODEL_f536f8ed4254498092aecfa69a35626e",
              "IPY_MODEL_e54994350cd34a208313cad9dae748c5",
              "IPY_MODEL_936f5067bae542e6875c7170597c368c"
            ],
            "layout": "IPY_MODEL_390b0412d5c84220b4221016f01660b4"
          }
        },
        "f536f8ed4254498092aecfa69a35626e": {
          "model_module": "@jupyter-widgets/controls",
          "model_name": "HTMLModel",
          "model_module_version": "1.5.0",
          "state": {
            "_dom_classes": [],
            "_model_module": "@jupyter-widgets/controls",
            "_model_module_version": "1.5.0",
            "_model_name": "HTMLModel",
            "_view_count": null,
            "_view_module": "@jupyter-widgets/controls",
            "_view_module_version": "1.5.0",
            "_view_name": "HTMLView",
            "description": "",
            "description_tooltip": null,
            "layout": "IPY_MODEL_e9ed6fac4ac34d8c9d6dcbb7ff0beac4",
            "placeholder": "​",
            "style": "IPY_MODEL_2cb1ae900ff64a69a3f72274a036623c",
            "value": "Downloading (…)lve/main/config.json: 100%"
          }
        },
        "e54994350cd34a208313cad9dae748c5": {
          "model_module": "@jupyter-widgets/controls",
          "model_name": "FloatProgressModel",
          "model_module_version": "1.5.0",
          "state": {
            "_dom_classes": [],
            "_model_module": "@jupyter-widgets/controls",
            "_model_module_version": "1.5.0",
            "_model_name": "FloatProgressModel",
            "_view_count": null,
            "_view_module": "@jupyter-widgets/controls",
            "_view_module_version": "1.5.0",
            "_view_name": "ProgressView",
            "bar_style": "success",
            "description": "",
            "description_tooltip": null,
            "layout": "IPY_MODEL_6d347eb17dad492fbe2c14fd8347b8d5",
            "max": 20917,
            "min": 0,
            "orientation": "horizontal",
            "style": "IPY_MODEL_045dd13faf4242b398c4d57831b46e65",
            "value": 20917
          }
        },
        "936f5067bae542e6875c7170597c368c": {
          "model_module": "@jupyter-widgets/controls",
          "model_name": "HTMLModel",
          "model_module_version": "1.5.0",
          "state": {
            "_dom_classes": [],
            "_model_module": "@jupyter-widgets/controls",
            "_model_module_version": "1.5.0",
            "_model_name": "HTMLModel",
            "_view_count": null,
            "_view_module": "@jupyter-widgets/controls",
            "_view_module_version": "1.5.0",
            "_view_name": "HTMLView",
            "description": "",
            "description_tooltip": null,
            "layout": "IPY_MODEL_7b33bfe10ff949b28cfbae3484234cbc",
            "placeholder": "​",
            "style": "IPY_MODEL_21fd530ca9834af2a68fa5b0c70c6cc8",
            "value": " 20.9k/20.9k [00:00&lt;00:00, 899kB/s]"
          }
        },
        "390b0412d5c84220b4221016f01660b4": {
          "model_module": "@jupyter-widgets/base",
          "model_name": "LayoutModel",
          "model_module_version": "1.2.0",
          "state": {
            "_model_module": "@jupyter-widgets/base",
            "_model_module_version": "1.2.0",
            "_model_name": "LayoutModel",
            "_view_count": null,
            "_view_module": "@jupyter-widgets/base",
            "_view_module_version": "1.2.0",
            "_view_name": "LayoutView",
            "align_content": null,
            "align_items": null,
            "align_self": null,
            "border": null,
            "bottom": null,
            "display": null,
            "flex": null,
            "flex_flow": null,
            "grid_area": null,
            "grid_auto_columns": null,
            "grid_auto_flow": null,
            "grid_auto_rows": null,
            "grid_column": null,
            "grid_gap": null,
            "grid_row": null,
            "grid_template_areas": null,
            "grid_template_columns": null,
            "grid_template_rows": null,
            "height": null,
            "justify_content": null,
            "justify_items": null,
            "left": null,
            "margin": null,
            "max_height": null,
            "max_width": null,
            "min_height": null,
            "min_width": null,
            "object_fit": null,
            "object_position": null,
            "order": null,
            "overflow": null,
            "overflow_x": null,
            "overflow_y": null,
            "padding": null,
            "right": null,
            "top": null,
            "visibility": null,
            "width": null
          }
        },
        "e9ed6fac4ac34d8c9d6dcbb7ff0beac4": {
          "model_module": "@jupyter-widgets/base",
          "model_name": "LayoutModel",
          "model_module_version": "1.2.0",
          "state": {
            "_model_module": "@jupyter-widgets/base",
            "_model_module_version": "1.2.0",
            "_model_name": "LayoutModel",
            "_view_count": null,
            "_view_module": "@jupyter-widgets/base",
            "_view_module_version": "1.2.0",
            "_view_name": "LayoutView",
            "align_content": null,
            "align_items": null,
            "align_self": null,
            "border": null,
            "bottom": null,
            "display": null,
            "flex": null,
            "flex_flow": null,
            "grid_area": null,
            "grid_auto_columns": null,
            "grid_auto_flow": null,
            "grid_auto_rows": null,
            "grid_column": null,
            "grid_gap": null,
            "grid_row": null,
            "grid_template_areas": null,
            "grid_template_columns": null,
            "grid_template_rows": null,
            "height": null,
            "justify_content": null,
            "justify_items": null,
            "left": null,
            "margin": null,
            "max_height": null,
            "max_width": null,
            "min_height": null,
            "min_width": null,
            "object_fit": null,
            "object_position": null,
            "order": null,
            "overflow": null,
            "overflow_x": null,
            "overflow_y": null,
            "padding": null,
            "right": null,
            "top": null,
            "visibility": null,
            "width": null
          }
        },
        "2cb1ae900ff64a69a3f72274a036623c": {
          "model_module": "@jupyter-widgets/controls",
          "model_name": "DescriptionStyleModel",
          "model_module_version": "1.5.0",
          "state": {
            "_model_module": "@jupyter-widgets/controls",
            "_model_module_version": "1.5.0",
            "_model_name": "DescriptionStyleModel",
            "_view_count": null,
            "_view_module": "@jupyter-widgets/base",
            "_view_module_version": "1.2.0",
            "_view_name": "StyleView",
            "description_width": ""
          }
        },
        "6d347eb17dad492fbe2c14fd8347b8d5": {
          "model_module": "@jupyter-widgets/base",
          "model_name": "LayoutModel",
          "model_module_version": "1.2.0",
          "state": {
            "_model_module": "@jupyter-widgets/base",
            "_model_module_version": "1.2.0",
            "_model_name": "LayoutModel",
            "_view_count": null,
            "_view_module": "@jupyter-widgets/base",
            "_view_module_version": "1.2.0",
            "_view_name": "LayoutView",
            "align_content": null,
            "align_items": null,
            "align_self": null,
            "border": null,
            "bottom": null,
            "display": null,
            "flex": null,
            "flex_flow": null,
            "grid_area": null,
            "grid_auto_columns": null,
            "grid_auto_flow": null,
            "grid_auto_rows": null,
            "grid_column": null,
            "grid_gap": null,
            "grid_row": null,
            "grid_template_areas": null,
            "grid_template_columns": null,
            "grid_template_rows": null,
            "height": null,
            "justify_content": null,
            "justify_items": null,
            "left": null,
            "margin": null,
            "max_height": null,
            "max_width": null,
            "min_height": null,
            "min_width": null,
            "object_fit": null,
            "object_position": null,
            "order": null,
            "overflow": null,
            "overflow_x": null,
            "overflow_y": null,
            "padding": null,
            "right": null,
            "top": null,
            "visibility": null,
            "width": null
          }
        },
        "045dd13faf4242b398c4d57831b46e65": {
          "model_module": "@jupyter-widgets/controls",
          "model_name": "ProgressStyleModel",
          "model_module_version": "1.5.0",
          "state": {
            "_model_module": "@jupyter-widgets/controls",
            "_model_module_version": "1.5.0",
            "_model_name": "ProgressStyleModel",
            "_view_count": null,
            "_view_module": "@jupyter-widgets/base",
            "_view_module_version": "1.2.0",
            "_view_name": "StyleView",
            "bar_color": null,
            "description_width": ""
          }
        },
        "7b33bfe10ff949b28cfbae3484234cbc": {
          "model_module": "@jupyter-widgets/base",
          "model_name": "LayoutModel",
          "model_module_version": "1.2.0",
          "state": {
            "_model_module": "@jupyter-widgets/base",
            "_model_module_version": "1.2.0",
            "_model_name": "LayoutModel",
            "_view_count": null,
            "_view_module": "@jupyter-widgets/base",
            "_view_module_version": "1.2.0",
            "_view_name": "LayoutView",
            "align_content": null,
            "align_items": null,
            "align_self": null,
            "border": null,
            "bottom": null,
            "display": null,
            "flex": null,
            "flex_flow": null,
            "grid_area": null,
            "grid_auto_columns": null,
            "grid_auto_flow": null,
            "grid_auto_rows": null,
            "grid_column": null,
            "grid_gap": null,
            "grid_row": null,
            "grid_template_areas": null,
            "grid_template_columns": null,
            "grid_template_rows": null,
            "height": null,
            "justify_content": null,
            "justify_items": null,
            "left": null,
            "margin": null,
            "max_height": null,
            "max_width": null,
            "min_height": null,
            "min_width": null,
            "object_fit": null,
            "object_position": null,
            "order": null,
            "overflow": null,
            "overflow_x": null,
            "overflow_y": null,
            "padding": null,
            "right": null,
            "top": null,
            "visibility": null,
            "width": null
          }
        },
        "21fd530ca9834af2a68fa5b0c70c6cc8": {
          "model_module": "@jupyter-widgets/controls",
          "model_name": "DescriptionStyleModel",
          "model_module_version": "1.5.0",
          "state": {
            "_model_module": "@jupyter-widgets/controls",
            "_model_module_version": "1.5.0",
            "_model_name": "DescriptionStyleModel",
            "_view_count": null,
            "_view_module": "@jupyter-widgets/base",
            "_view_module_version": "1.2.0",
            "_view_name": "StyleView",
            "description_width": ""
          }
        },
        "7ebc149418364e8dbf5de9d066c4930d": {
          "model_module": "@jupyter-widgets/controls",
          "model_name": "HBoxModel",
          "model_module_version": "1.5.0",
          "state": {
            "_dom_classes": [],
            "_model_module": "@jupyter-widgets/controls",
            "_model_module_version": "1.5.0",
            "_model_name": "HBoxModel",
            "_view_count": null,
            "_view_module": "@jupyter-widgets/controls",
            "_view_module_version": "1.5.0",
            "_view_name": "HBoxView",
            "box_style": "",
            "children": [
              "IPY_MODEL_f252264617fc418098ea38cd8a6c6abb",
              "IPY_MODEL_e9890c5bbcf74e768f5b7e7e35be5999",
              "IPY_MODEL_5ac0e1c507c54192bdccddaaf3b733e2"
            ],
            "layout": "IPY_MODEL_13b6168ee430416295436b74f9df55e8"
          }
        },
        "f252264617fc418098ea38cd8a6c6abb": {
          "model_module": "@jupyter-widgets/controls",
          "model_name": "HTMLModel",
          "model_module_version": "1.5.0",
          "state": {
            "_dom_classes": [],
            "_model_module": "@jupyter-widgets/controls",
            "_model_module_version": "1.5.0",
            "_model_name": "HTMLModel",
            "_view_count": null,
            "_view_module": "@jupyter-widgets/controls",
            "_view_module_version": "1.5.0",
            "_view_name": "HTMLView",
            "description": "",
            "description_tooltip": null,
            "layout": "IPY_MODEL_186be771b3f64097a4aff2be5ad9be11",
            "placeholder": "​",
            "style": "IPY_MODEL_79c8ec0cbbd94b7baf761333e946fdf0",
            "value": "Downloading pytorch_model.bin: 100%"
          }
        },
        "e9890c5bbcf74e768f5b7e7e35be5999": {
          "model_module": "@jupyter-widgets/controls",
          "model_name": "FloatProgressModel",
          "model_module_version": "1.5.0",
          "state": {
            "_dom_classes": [],
            "_model_module": "@jupyter-widgets/controls",
            "_model_module_version": "1.5.0",
            "_model_name": "FloatProgressModel",
            "_view_count": null,
            "_view_module": "@jupyter-widgets/controls",
            "_view_module_version": "1.5.0",
            "_view_name": "ProgressView",
            "bar_style": "success",
            "description": "",
            "description_tooltip": null,
            "layout": "IPY_MODEL_3d009f2877e349f9b6d78c9a3e9e0c8e",
            "max": 500138613,
            "min": 0,
            "orientation": "horizontal",
            "style": "IPY_MODEL_de666e5226f94b4c8c7069cc5ddd4858",
            "value": 500138613
          }
        },
        "5ac0e1c507c54192bdccddaaf3b733e2": {
          "model_module": "@jupyter-widgets/controls",
          "model_name": "HTMLModel",
          "model_module_version": "1.5.0",
          "state": {
            "_dom_classes": [],
            "_model_module": "@jupyter-widgets/controls",
            "_model_module_version": "1.5.0",
            "_model_name": "HTMLModel",
            "_view_count": null,
            "_view_module": "@jupyter-widgets/controls",
            "_view_module_version": "1.5.0",
            "_view_name": "HTMLView",
            "description": "",
            "description_tooltip": null,
            "layout": "IPY_MODEL_351d8efc82894cf59667e602409673a5",
            "placeholder": "​",
            "style": "IPY_MODEL_4d8c244da03041c9b44785afb162ca55",
            "value": " 500M/500M [00:08&lt;00:00, 63.3MB/s]"
          }
        },
        "13b6168ee430416295436b74f9df55e8": {
          "model_module": "@jupyter-widgets/base",
          "model_name": "LayoutModel",
          "model_module_version": "1.2.0",
          "state": {
            "_model_module": "@jupyter-widgets/base",
            "_model_module_version": "1.2.0",
            "_model_name": "LayoutModel",
            "_view_count": null,
            "_view_module": "@jupyter-widgets/base",
            "_view_module_version": "1.2.0",
            "_view_name": "LayoutView",
            "align_content": null,
            "align_items": null,
            "align_self": null,
            "border": null,
            "bottom": null,
            "display": null,
            "flex": null,
            "flex_flow": null,
            "grid_area": null,
            "grid_auto_columns": null,
            "grid_auto_flow": null,
            "grid_auto_rows": null,
            "grid_column": null,
            "grid_gap": null,
            "grid_row": null,
            "grid_template_areas": null,
            "grid_template_columns": null,
            "grid_template_rows": null,
            "height": null,
            "justify_content": null,
            "justify_items": null,
            "left": null,
            "margin": null,
            "max_height": null,
            "max_width": null,
            "min_height": null,
            "min_width": null,
            "object_fit": null,
            "object_position": null,
            "order": null,
            "overflow": null,
            "overflow_x": null,
            "overflow_y": null,
            "padding": null,
            "right": null,
            "top": null,
            "visibility": null,
            "width": null
          }
        },
        "186be771b3f64097a4aff2be5ad9be11": {
          "model_module": "@jupyter-widgets/base",
          "model_name": "LayoutModel",
          "model_module_version": "1.2.0",
          "state": {
            "_model_module": "@jupyter-widgets/base",
            "_model_module_version": "1.2.0",
            "_model_name": "LayoutModel",
            "_view_count": null,
            "_view_module": "@jupyter-widgets/base",
            "_view_module_version": "1.2.0",
            "_view_name": "LayoutView",
            "align_content": null,
            "align_items": null,
            "align_self": null,
            "border": null,
            "bottom": null,
            "display": null,
            "flex": null,
            "flex_flow": null,
            "grid_area": null,
            "grid_auto_columns": null,
            "grid_auto_flow": null,
            "grid_auto_rows": null,
            "grid_column": null,
            "grid_gap": null,
            "grid_row": null,
            "grid_template_areas": null,
            "grid_template_columns": null,
            "grid_template_rows": null,
            "height": null,
            "justify_content": null,
            "justify_items": null,
            "left": null,
            "margin": null,
            "max_height": null,
            "max_width": null,
            "min_height": null,
            "min_width": null,
            "object_fit": null,
            "object_position": null,
            "order": null,
            "overflow": null,
            "overflow_x": null,
            "overflow_y": null,
            "padding": null,
            "right": null,
            "top": null,
            "visibility": null,
            "width": null
          }
        },
        "79c8ec0cbbd94b7baf761333e946fdf0": {
          "model_module": "@jupyter-widgets/controls",
          "model_name": "DescriptionStyleModel",
          "model_module_version": "1.5.0",
          "state": {
            "_model_module": "@jupyter-widgets/controls",
            "_model_module_version": "1.5.0",
            "_model_name": "DescriptionStyleModel",
            "_view_count": null,
            "_view_module": "@jupyter-widgets/base",
            "_view_module_version": "1.2.0",
            "_view_name": "StyleView",
            "description_width": ""
          }
        },
        "3d009f2877e349f9b6d78c9a3e9e0c8e": {
          "model_module": "@jupyter-widgets/base",
          "model_name": "LayoutModel",
          "model_module_version": "1.2.0",
          "state": {
            "_model_module": "@jupyter-widgets/base",
            "_model_module_version": "1.2.0",
            "_model_name": "LayoutModel",
            "_view_count": null,
            "_view_module": "@jupyter-widgets/base",
            "_view_module_version": "1.2.0",
            "_view_name": "LayoutView",
            "align_content": null,
            "align_items": null,
            "align_self": null,
            "border": null,
            "bottom": null,
            "display": null,
            "flex": null,
            "flex_flow": null,
            "grid_area": null,
            "grid_auto_columns": null,
            "grid_auto_flow": null,
            "grid_auto_rows": null,
            "grid_column": null,
            "grid_gap": null,
            "grid_row": null,
            "grid_template_areas": null,
            "grid_template_columns": null,
            "grid_template_rows": null,
            "height": null,
            "justify_content": null,
            "justify_items": null,
            "left": null,
            "margin": null,
            "max_height": null,
            "max_width": null,
            "min_height": null,
            "min_width": null,
            "object_fit": null,
            "object_position": null,
            "order": null,
            "overflow": null,
            "overflow_x": null,
            "overflow_y": null,
            "padding": null,
            "right": null,
            "top": null,
            "visibility": null,
            "width": null
          }
        },
        "de666e5226f94b4c8c7069cc5ddd4858": {
          "model_module": "@jupyter-widgets/controls",
          "model_name": "ProgressStyleModel",
          "model_module_version": "1.5.0",
          "state": {
            "_model_module": "@jupyter-widgets/controls",
            "_model_module_version": "1.5.0",
            "_model_name": "ProgressStyleModel",
            "_view_count": null,
            "_view_module": "@jupyter-widgets/base",
            "_view_module_version": "1.2.0",
            "_view_name": "StyleView",
            "bar_color": null,
            "description_width": ""
          }
        },
        "351d8efc82894cf59667e602409673a5": {
          "model_module": "@jupyter-widgets/base",
          "model_name": "LayoutModel",
          "model_module_version": "1.2.0",
          "state": {
            "_model_module": "@jupyter-widgets/base",
            "_model_module_version": "1.2.0",
            "_model_name": "LayoutModel",
            "_view_count": null,
            "_view_module": "@jupyter-widgets/base",
            "_view_module_version": "1.2.0",
            "_view_name": "LayoutView",
            "align_content": null,
            "align_items": null,
            "align_self": null,
            "border": null,
            "bottom": null,
            "display": null,
            "flex": null,
            "flex_flow": null,
            "grid_area": null,
            "grid_auto_columns": null,
            "grid_auto_flow": null,
            "grid_auto_rows": null,
            "grid_column": null,
            "grid_gap": null,
            "grid_row": null,
            "grid_template_areas": null,
            "grid_template_columns": null,
            "grid_template_rows": null,
            "height": null,
            "justify_content": null,
            "justify_items": null,
            "left": null,
            "margin": null,
            "max_height": null,
            "max_width": null,
            "min_height": null,
            "min_width": null,
            "object_fit": null,
            "object_position": null,
            "order": null,
            "overflow": null,
            "overflow_x": null,
            "overflow_y": null,
            "padding": null,
            "right": null,
            "top": null,
            "visibility": null,
            "width": null
          }
        },
        "4d8c244da03041c9b44785afb162ca55": {
          "model_module": "@jupyter-widgets/controls",
          "model_name": "DescriptionStyleModel",
          "model_module_version": "1.5.0",
          "state": {
            "_model_module": "@jupyter-widgets/controls",
            "_model_module_version": "1.5.0",
            "_model_name": "DescriptionStyleModel",
            "_view_count": null,
            "_view_module": "@jupyter-widgets/base",
            "_view_module_version": "1.2.0",
            "_view_name": "StyleView",
            "description_width": ""
          }
        }
      }
    }
  },
  "nbformat": 4,
  "nbformat_minor": 5
}
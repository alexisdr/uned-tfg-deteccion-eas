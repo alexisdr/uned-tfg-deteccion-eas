{
  "cells": [
    {
      "cell_type": "markdown",
      "metadata": {
        "id": "view-in-github",
        "colab_type": "text"
      },
      "source": [
        "<a href=\"https://colab.research.google.com/github/alexisdr/uned-tfg-deteccion-eas/blob/main/UNED-TFG-5-metrica-s-test.ipynb\" target=\"_parent\"><img src=\"https://colab.research.google.com/assets/colab-badge.svg\" alt=\"Open In Colab\"/></a>"
      ]
    },
    {
      "cell_type": "markdown",
      "id": "XkA6mcW_QT37",
      "metadata": {
        "id": "XkA6mcW_QT37"
      },
      "source": [
        "# Metricas S\n",
        "\n",
        "Calcual el valor de las métricas S mediante los datos de test\n",
        "\n",
        "# Parámetros\n",
        "* ruta_base: ruta en la que se encuentran los datos del corpus\n",
        "* ruta_dataset: ruta en el que se almacenará el dataset\n",
        "* usar_subconjunto_datos_codigos_mas_frecuentes: se usarán los actos clínicos que implican los códigos más frecuentes"
      ]
    },
    {
      "cell_type": "code",
      "execution_count": 30,
      "id": "7ee544b5",
      "metadata": {
        "id": "7ee544b5"
      },
      "outputs": [],
      "source": [
        "ruta_base = '/drive/My Drive/CorpusPFG/'\n",
        "\n",
        "#Datasets procesados\n",
        "ruta_dataset = ruta_base + 'Dataset-200-none'\n",
        "modelo_base = \"alexisdr/uned-tfg-08.74\"\n",
        "usar_subconjunto_datos_codigos_mas_frecuentes = False\n",
        "umbral = 0.9"
      ]
    },
    {
      "cell_type": "markdown",
      "id": "IgQiz-czQn5E",
      "metadata": {
        "id": "IgQiz-czQn5E"
      },
      "source": [
        "Instalación de depndencias necesarias"
      ]
    },
    {
      "cell_type": "code",
      "execution_count": 20,
      "id": "MtqLGKFGQuV2",
      "metadata": {
        "id": "MtqLGKFGQuV2"
      },
      "outputs": [],
      "source": [
        "!pip install -q datasets transformers[sentencepiece]"
      ]
    },
    {
      "cell_type": "markdown",
      "id": "kUQ5y227Qyr-",
      "metadata": {
        "id": "kUQ5y227Qyr-"
      },
      "source": [
        "# Carga de datos del dataset"
      ]
    },
    {
      "cell_type": "code",
      "execution_count": 21,
      "id": "Sx-7OWoaQ1UG",
      "metadata": {
        "colab": {
          "base_uri": "https://localhost:8080/"
        },
        "id": "Sx-7OWoaQ1UG",
        "outputId": "5c36b538-5d05-42bf-f382-a3a6ec51e6fd"
      },
      "outputs": [
        {
          "output_type": "stream",
          "name": "stdout",
          "text": [
            "Drive already mounted at /drive; to attempt to forcibly remount, call drive.mount(\"/drive\", force_remount=True).\n"
          ]
        }
      ],
      "source": [
        "from google.colab import drive\n",
        "\n",
        "drive.mount('/drive')"
      ]
    },
    {
      "cell_type": "code",
      "execution_count": 22,
      "id": "DdO7S73OQ2ts",
      "metadata": {
        "id": "DdO7S73OQ2ts",
        "outputId": "5c8c1bd0-e1d9-4001-dd72-a338d49f820c",
        "colab": {
          "base_uri": "https://localhost:8080/"
        }
      },
      "outputs": [
        {
          "output_type": "execute_result",
          "data": {
            "text/plain": [
              "DatasetDict({\n",
              "    train: Dataset({\n",
              "        features: ['acto', 'label', 'label_str', 'label_list', 'label_list_str', 'informes', 'text', 'json'],\n",
              "        num_rows: 2256\n",
              "    })\n",
              "    validation: Dataset({\n",
              "        features: ['acto', 'label', 'label_str', 'label_list', 'label_list_str', 'informes', 'text', 'json'],\n",
              "        num_rows: 251\n",
              "    })\n",
              "    test: Dataset({\n",
              "        features: ['acto', 'label', 'label_str', 'label_list', 'label_list_str', 'informes', 'text', 'json'],\n",
              "        num_rows: 3572\n",
              "    })\n",
              "    trainMasFrecuentes: Dataset({\n",
              "        features: ['acto', 'label', 'label_str', 'label_list', 'label_list_str', 'informes', 'text', 'json'],\n",
              "        num_rows: 637\n",
              "    })\n",
              "    validationMasFrecuentes: Dataset({\n",
              "        features: ['acto', 'label', 'label_str', 'label_list', 'label_list_str', 'informes', 'text', 'json'],\n",
              "        num_rows: 71\n",
              "    })\n",
              "    testMasFrecuentes: Dataset({\n",
              "        features: ['acto', 'label', 'label_str', 'label_list', 'label_list_str', 'informes', 'text', 'json'],\n",
              "        num_rows: 175\n",
              "    })\n",
              "})"
            ]
          },
          "metadata": {},
          "execution_count": 22
        }
      ],
      "source": [
        "from datasets import DatasetDict\n",
        "\n",
        "dataset = DatasetDict.load_from_disk(ruta_dataset)\n",
        "\n",
        "dataset"
      ]
    },
    {
      "cell_type": "code",
      "execution_count": 23,
      "id": "XxLqviFAQ3z5",
      "metadata": {
        "id": "XxLqviFAQ3z5"
      },
      "outputs": [],
      "source": [
        "train = \"train\"\n",
        "validation = \"validation\"\n",
        "test = \"test\"\n",
        "\n",
        "if (usar_subconjunto_datos_codigos_mas_frecuentes):\n",
        "  train = \"trainMasFrecuentes\"\n",
        "  validation = \"validationMasFrecuentes\"\n",
        "  test = \"testMasFrecuentes\""
      ]
    },
    {
      "cell_type": "code",
      "execution_count": 24,
      "id": "071ce90d",
      "metadata": {
        "colab": {
          "base_uri": "https://localhost:8080/"
        },
        "id": "071ce90d",
        "outputId": "262416fb-f4ef-4b87-9bfc-82ebf32b5c63"
      },
      "outputs": [
        {
          "output_type": "stream",
          "name": "stdout",
          "text": [
            "ClassLabel(names=['T50.2X5A', 'O90.0', 'T46.5X5A', 'E89.0', 'H59.022', 'Y84.2', 'T83.021A', 'K94.23', 'T50.8X5A', 'Y95', 'T50.905A', 'T50.0X5A', 'L27.0', 'T85.398A', 'T38.0X5A', 'T85.79XA', 'P39.1', 'T84.498A', 'T84.82XA', 'K91.841', 'I97.618', 'T80.1XXA', 'T84.89XA', 'T40.605A', 'R50.82', 'T81.4XXA', 'T38.3X5A', 'G97.1', 'O75.2', 'N99.820', 'T45.1X5A', 'T39.1X5A', 'T85.71XA', 'L76.02', 'K66.0', 'Y83.1', 'T82.120A', 'K12.31', 'P01.1', 'G25.1', 'G89.18', 'T38.0X5D', 'L76.31', 'M96.830', 'G97.41', 'T47.4X5A', 'N99.821', 'T45.515A', 'T80.211A', 'T46.2X5S', 'P36.9', 'T36.0X5A', 'T84.84XA', 'G62.0', 'D70.1', 'T82.868A', 'T79.6XXA', 'T40.2X5A', 'T39.395A', 'T41.5X5A', 'T84.223A', 'T45.1X5D', 'T83.498A', 'L76.22', 'T43.295A', 'K94.12', 'P39.8', 'O86.29', 'K91.71', 'T84.021A', 'M96.840', 'Y83.2', 'T87.81', 'I97.130', 'T46.0X5A', 'T84.51XA', 'P03.4', 'Y64.0', 'J95.811', 'T39.2X5A', 'G97.51', 'T48.6X5A', 'T45.615A', 'H59.021', 'T82.7XXA', 'T82.330A', 'T83.29XA', 'K94.29', 'E89.2', 'E36.01', 'T36.95XA', 'T83.51XA', 'L27.1', 'T84.060A', 'G97.82', 'K95.81', 'T85.29XA', 'T82.190A', 'N99.89', 'T86.19', 'T81.89XA', 'T39.95XA', 'P01.5', 'T42.4X5A', 'G89.28', 'M1A.20X0', 'M96.1', 'K91.72', 'T81.83XA', 'K94.21', 'T37.95XA', 'T83.83XA', 'T85.611A', 'T84.54XA', 'E09.65', 'T36.1X5A', 'T82.857A', 'O86.12', 'T86.11', 'T80.92XA', 'Y84.0', 'T36.5X5A', 'Y83.5', 'K85.30', 'P13.4', 'T38.895A', 'I97.710', 'T43.595A', 'Y84.6', 'Y83.8', 'D61.1', 'T79.A3XA', 'J95.830', 'T37.1X5S', 'Y84.8', 'P01.2', 'T50.995A', 'T80.89XA', 'T46.2X5A', 'T50.2X5D', 'N99.528', 'T50.Z15A', 'T84.59XA', 'T45.1X5S', 'T84.011A', 'T37.1X5A', 'T84.226A', 'N98.1', 'T44.7X5A', 'T88.7XXA', 'T46.6X5A', 'I97.2', 'T85.598A', 'Y65.8', 'D70.2', 'K91.89', 'T83.89XA', 'I95.2', 'K91.840', 'T85.85XA', 'T82.855A', 'K59.03', 'P02.5', 'T43.595S', 'O90.81', 'T45.8X5A', 'T36.8X5A', 'M96.89', 'K12.32', 'T86.01', 'K91.61', 'T39.315A', 'P02.69', 'D64.81', 'G97.49', 'I97.89', 'T80.219A', 'T84.033A', 'T81.31XA', 'T83.511A', 'O04.5', 'T42.75XA', 'T38.0X5S', 'T82.898A', 'T82.838A', 'T84.63XA', 'T39.015A', 'T82.858A', 'T37.2X5A', 'Y83.3', 'N99.532', 'Y83.6', 'T88.59XA', 'O90.89', 'J95.3', 'T84.030A', 'T82.538A', 'M96.0', 'K91.1', 'T81.32XA', 'K91.3', 'T39.395S', 'O85', 'K94.13', 'K94.09', 'E89.89', 'T82.594A', 'T84.490A', 'T83.198A', 'N99.522', 'G97.52', 'T46.4X5A', 'Y83.0', 'J95.61', 'T48.4X5A', 'T47.1X5A', 'T86.12', 'L76.21', 'K91.2', 'T38.4X5A', 'T42.8X5A', 'T44.995D', 'H95.01', 'T85.828A', 'T85.698A', 'M96.810', 'T50.4X5A', 'G72.0', 'G21.11', 'Y84.1', 'D61.810', 'T82.858S', 'T84.194A', 'N14.2', 'T87.40', 'L76.32', 'T84.9XXA', 'I97.190', 'T43.205A', 'I97.790', 'G21.19', 'N99.72', 'T43.505A', 'P03.3', 'P12.81', 'T85.86XA', 'D61.811', 'P02.7', 'T88.8XXA', 'T87.89', 'T37.5X5A', 'T82.818A', 'T88.0XXA', 'G24.01', 'T81.72XA', 'T84.020A', 'T80.218A', 'T49.0X5A', 'J95.851', 'T43.95XA', 'T50.8X5S', 'T84.091A', 'T36.3X5A', 'T40.4X5A', 'T83.59XA', 'T83.098A', 'N52.34', 'N99.521', 'T42.1X5A', 'I97.610', 'P04.1', 'G25.71', 'T38.2X5S', 'T85.89XA', 'T45.525A', 'N99.511', 'T79.7XXA', 'T43.225A', 'N99.71', 'T84.032A', 'T41.45XA', 'T84.038A', 'T88.6XXA', 'N99.530', 'T81.12XA', 'T84.216A', 'T50.1X5A', 'I95.81', 'T45.625A', 'T84.029A', 'T83.091A', 'M96.842', 'T84.69XA', 'T84.50XA', 'T82.9XXA', 'T82.119A', 'T82.6XXA', 'T82.856A', 'T83.9XXA', 'T82.897A', 'T82.09XD', 'I97.191', 'T39.4X5A', 'T84.620A', 'T38.1X5A', 'I97.418', 'I97.51', 'N99.114', 'T82.848A', 'T83.191A', 'T84.090A', 'T82.199A', 'K91.850', 'O08.1', 'T82.110A', 'T82.223D', 'J95.03', 'T85.122A', 'T85.898A', 'N99.61', 'N99.113', 'T84.049A', 'I97.638', 'T81.4XXS', 'T46.2X5D', 'T80.212A', 'L76.82', 'T84.124A', 'P38.9', 'T84.021D', 'T82.320A', 'T88.8XXS', 'K94.22', 'T84.7XXA', 'J95.89', 'T82.120D', 'N99.112', 'T86.09', 'T37.8X5A', 'N99.111', 'T81.718A', 'P36.8', 'N99.110', 'P39.3', 'T84.022A', 'P02.1', 'P02.8', 'O75.1', 'T85.520A', 'T43.225D', 'E09.9', 'T84.52XA', 'T43.595D', 'T81.599A', 'Y84.9', 'T82.867A', 'T85.09XA', 'T84.53XA', 'T84.013A', 'T85.22XA', 'T84.048A', 'T83.028A', 'P01.8', 'T43.505D', 'N52.37', 'N99.841', 'T80.29XA', 'T50.8X5D', 'T43.025A', 'T45.4X5A', 'T84.114A', 'T80.818A', 'N99.0', 'O90.2', 'N99.3', 'P14.1', 'T83.420A', 'O74.8', 'T84.040A', 'N99.83', 'I97.611', 'T83.728S', 'H21.81', 'T85.590A', 'T44.8X5A', 'P12.89', 'T83.6XXA', 'O86.4', 'P36.2', 'Y84.5', 'T50.3X5A', 'T45.7X5A', 'M96.69', 'P03.810', 'T41.3X5A', 'E89.3', 'T84.031A', 'O91.12', 'E89.6', 'T82.03XD', 'NONE', 'T81.9XXS', 'T36.7X5A', 'T82.03XA', 'P03.2', 'T87.53', 'T87.43', 'K95.89', 'I97.410', 'T83.128A', 'T85.84XA', 'E24.2', 'T46.1X5A', 'T39.8X5A', 'T79.A21A', 'Y83.9', 'L25.1', 'M96.661', 'P01.7', 'E89.1', 'O75.89', 'T84.228A', 'T50.905D', 'D75.82', 'T82.857D', 'T84.041A', 'E09.11', 'J95.09', 'O86.20', 'I97.88', 'I97.52', 'T82.897D', 'L76.34', 'P01.3', 'T84.296A', 'J95.88', 'G97.32', 'T37.3X5A', 'T80.62XA', 'R50.2', 'T84.84XD', 'N14.1', 'Y83.4', 'T84.293A', 'P02.3', 'I97.711', 'T46.3X5A', 'T83.84XA', 'T85.49XA', 'E27.3', 'Y65.4', 'Y84.4', 'P03.0', 'T84.318A', 'P39.9', 'T87.44', 'T88.9XXS', 'T43.215A', 'I97.630', 'T82.598A', 'E66.1', 'I97.62', 'Y84.3', 'T82.339A', 'T82.398A', 'T82.228D', 'T84.190A', 'T81.82XA', 'T86.10', 'J95.821', 'T37.5X5S', 'I97.820', 'T39.395D', 'T84.60XA', 'P03.1', 'T36.5X5S', 'T86.13', 'T84.218A', 'K94.19', 'T87.41', 'E09.22', 'T83.83XD', 'I97.131', 'T45.0X5A', 'T82.222A'], id=None)\n"
          ]
        }
      ],
      "source": [
        "from datasets import ClassLabel\n",
        "\n",
        "class2label = dataset[train].features[\"label\"]\n",
        "print(class2label)"
      ]
    },
    {
      "cell_type": "code",
      "execution_count": 25,
      "id": "KAXA1ZLq_-0D",
      "metadata": {
        "colab": {
          "base_uri": "https://localhost:8080/"
        },
        "id": "KAXA1ZLq_-0D",
        "outputId": "2e50a07a-1d07-4ecf-9e62-00102775c8a3"
      },
      "outputs": [
        {
          "output_type": "execute_result",
          "data": {
            "text/plain": [
              "485"
            ]
          },
          "metadata": {},
          "execution_count": 25
        }
      ],
      "source": [
        "class2label.num_classes"
      ]
    },
    {
      "cell_type": "markdown",
      "id": "33Y-jblpRHbS",
      "metadata": {
        "id": "33Y-jblpRHbS"
      },
      "source": [
        "# Preprocesado de los datos"
      ]
    },
    {
      "cell_type": "code",
      "execution_count": 26,
      "id": "936861c0",
      "metadata": {
        "id": "936861c0"
      },
      "outputs": [],
      "source": [
        "from transformers import AutoTokenizer\n",
        "\n",
        "tokenizer = AutoTokenizer.from_pretrained(modelo_base)\n",
        "\n",
        "def preprocess_data(examples):\n",
        "  return tokenizer(examples[\"text\"], padding=\"max_length\", truncation=True, return_tensors=\"pt\")"
      ]
    },
    {
      "cell_type": "markdown",
      "id": "go9KsGPAlNBf",
      "metadata": {
        "id": "go9KsGPAlNBf"
      },
      "source": [
        "# Cálculo de la métrica S"
      ]
    },
    {
      "cell_type": "code",
      "execution_count": 27,
      "id": "3z28_GcTlKDX",
      "metadata": {
        "id": "3z28_GcTlKDX"
      },
      "outputs": [],
      "source": [
        "#Calcula el prefico comun entre 2 códigos\n",
        "def calculo_lcs(codigo_i, codigo_j):\n",
        "  if codigo_i is None or codigo_j is None:\n",
        "    return \"\"\n",
        "\n",
        "  #Se omiten los puntos existenten en los códigos\n",
        "  codigo_i = codigo_i.replace(\".\", \"\")\n",
        "  codigo_j = codigo_j.replace(\".\", \"\")\n",
        "\n",
        "  #Tomamos el tamaño mínimo\n",
        "  size = min(len(codigo_i), len(codigo_j))\n",
        "\n",
        "  lcs_i_j = ''\n",
        "  for i in range(size):\n",
        "    if codigo_i[i] == codigo_j[i]:\n",
        "      lcs_i_j = lcs_i_j + codigo_i[i]\n",
        "    else:\n",
        "      return lcs_i_j\n",
        "\n",
        "  return lcs_i_j\n",
        "\n",
        "\n",
        "#Devuelve la longitud de la cadena de caracteres C\n",
        "#si esta vale al menos 3, y devuelve 0 si dicha longitud es menor que 3.\n",
        "#Esto se debe a que los códigos CIE-10 más cortos contienen al menos 3 caracteres.\n",
        "def calculo_ic(codigo):\n",
        "  #Se omiten los puntos existenten en los códigos\n",
        "  codigo = codigo.replace(\".\", \"\")\n",
        "\n",
        "  tamanyo = len(codigo)\n",
        "  if (tamanyo < 3):\n",
        "    return 0\n",
        "  else:\n",
        "    return tamanyo\n",
        "\n",
        "#similitud entre 2 códigos CIE-10 𝑖 y 𝑗:\n",
        "def calculo_c(codigo_i, codigo_j):\n",
        "  divisor = calculo_ic(codigo_i) + calculo_ic(codigo_j)\n",
        "  if (divisor == 0):\n",
        "    return 0\n",
        "  dividendo = 2 * calculo_ic(calculo_lcs(codigo_i, codigo_j))\n",
        "  c_i_j = dividendo / divisor\n",
        "  return round(c_i_j, 6)\n",
        "\n",
        "def metrica_s(lista_codigos_i, lista_codigos_j):\n",
        "  #las listas deben tener valores\n",
        "  if (len(lista_codigos_i) == 0 or len(lista_codigos_j) == 0):\n",
        "    return 0\n",
        "\n",
        "  #max (Ng, Ns)\n",
        "  divisor = max(len(lista_codigos_i), len(lista_codigos_j))\n",
        "  if (divisor == 0):\n",
        "    return 0\n",
        "\n",
        "  max_c_i_j = 0\n",
        "  for codigo_j in lista_codigos_j:\n",
        "    max_local_c_i_j = 0\n",
        "    for codigo_i in lista_codigos_i:\n",
        "      c_i_j = calculo_c(codigo_i, codigo_j)\n",
        "      if (c_i_j > max_local_c_i_j):\n",
        "        max_local_c_i_j = c_i_j\n",
        "    max_c_i_j += max_local_c_i_j\n",
        "\n",
        "  s = max_c_i_j / divisor\n",
        "  return round(s, 6)\n",
        "\n",
        "def metrica_s_train (y_true, y_pred):\n",
        "    y_true_labels = []\n",
        "    true_labels = [class2label.int2str([idx])for idx, label in enumerate(y_true) if label == 1.0]\n",
        "    for label in true_labels:\n",
        "      y_true_labels.append(label[0])\n",
        "\n",
        "    y_pred_labels = []\n",
        "    pred_labels = [class2label.int2str([idx])for idx, label in enumerate(y_pred) if label == 1.0]\n",
        "    for label in pred_labels:\n",
        "      y_pred_labels.append(label[0])\n",
        "\n",
        "    return metrica_s(y_true_labels, y_pred_labels)"
      ]
    },
    {
      "cell_type": "markdown",
      "id": "1hSIaTFlRhUw",
      "metadata": {
        "id": "1hSIaTFlRhUw"
      },
      "source": [
        "# Inferencia\n",
        "\n",
        "Se ejecuta el modelo contra datos de test y se calcula la métrica S"
      ]
    },
    {
      "cell_type": "code",
      "execution_count": 28,
      "id": "476cd70e",
      "metadata": {
        "id": "476cd70e"
      },
      "outputs": [],
      "source": [
        "from transformers import AutoModelForSequenceClassification\n",
        "import torch\n",
        "\n",
        "model = AutoModelForSequenceClassification.from_pretrained(\n",
        "    modelo_base,\n",
        "    num_labels=class2label.num_classes,\n",
        "    problem_type = \"multi_label_classification\")"
      ]
    },
    {
      "cell_type": "code",
      "source": [
        "codigo_NONE = 'NONE'\n",
        "\n",
        "def calcular_predicciones(probs, threshold=umbral):\n",
        "  predictions = np.zeros(probs.shape)\n",
        "  predictions[np.where(probs > threshold)] = 1\n",
        "  return predictions\n",
        "\n",
        "def calcular_predicciones_NONE_mas_probable(probs, threshold=umbral):\n",
        "  predictions = calcular_predicciones(probs, threshold)\n",
        "\n",
        "  try:\n",
        "    probabilidad_NONE = probs[class2label.str2int(codigo_NONE)]\n",
        "    #Se ha encontrado NONE entre las predicciones\n",
        "    if (probabilidad_NONE > 0):\n",
        "      predictions_mayor_que_prob_NONE = np.zeros(probs.shape)\n",
        "      predictions_mayor_que_prob_NONE[np.where(probs > probabilidad_NONE)] = 1\n",
        "      # Si hay labels con mejor probabilidad que none nos la quedamos\n",
        "      if (1 in predictions_mayor_que_prob_NONE):\n",
        "        predictions = predictions_mayor_que_prob_NONE\n",
        "      else: #Si no las hay nos quedamos solo con NONE\n",
        "        predictions[:] = 0\n",
        "        predictions[class2label.str2int(codigo_NONE)] = 1\n",
        "  except ValueError:\n",
        "    pass\n",
        "\n",
        "  return predictions\n",
        "\n",
        "#Solo asignar NONE si existe y tiene una probabilidad que supere el umbral\n",
        "def calcular_predicciones_existe_NONE(probs, threshold=umbral):\n",
        "  predictions = calcular_predicciones(probs, threshold)\n",
        "\n",
        "  try:\n",
        "    probabilidad_NONE = probs[class2label.str2int(codigo_NONE)]\n",
        "    #Se ha encontrado NONE entre las predicciones, nos la quedamos de forma exclusiva\n",
        "    if (probabilidad_NONE > threshold):\n",
        "        predictions[:] = 0\n",
        "        predictions[class2label.str2int(codigo_NONE)] = 1\n",
        "  except ValueError:\n",
        "    pass\n",
        "\n",
        "  return predictions"
      ],
      "metadata": {
        "id": "szcKVn3qHHsG"
      },
      "id": "szcKVn3qHHsG",
      "execution_count": 31,
      "outputs": []
    },
    {
      "cell_type": "code",
      "source": [
        "# obtienen los nombres de las etiquetas predichas\n",
        "def obtener_lables_predichas (y_pred):\n",
        "  predicted_labels = [class2label.int2str([idx])for idx, label in enumerate(y_pred) if label == 1.0]\n",
        "  y_pred_labels = []\n",
        "  for label in predicted_labels:\n",
        "      y_pred_labels.append(label[0])\n",
        "  return y_pred_labels\n",
        "\n",
        "# obtienen el vector y_true a partir de los labels\n",
        "def obtener_y_true (labels):\n",
        "  # crea una matriz del tamaño del texto y las clases a entrenar\n",
        "  labels_matrix = np.zeros(class2label.num_classes)\n",
        "  for clase in labels:\n",
        "    try:\n",
        "      indice_clase = class2label.str2int(clase)\n",
        "      labels_matrix[indice_clase] = 1\n",
        "    except:\n",
        "      print(\"La clase %s no está entre las clases de entrenamiento\" % clase)\n",
        "  return labels_matrix.tolist()"
      ],
      "metadata": {
        "id": "oAy3s6zfzVkC"
      },
      "id": "oAy3s6zfzVkC",
      "execution_count": 32,
      "outputs": []
    },
    {
      "cell_type": "code",
      "execution_count": 35,
      "id": "-4JoYzSCnkva",
      "metadata": {
        "id": "-4JoYzSCnkva",
        "outputId": "3f57ed28-264d-4581-8961-6bc857583cf4",
        "colab": {
          "base_uri": "https://localhost:8080/",
          "height": 778,
          "referenced_widgets": [
            "06a16885eaea40c1a7f0b6862320c291",
            "139fe712444345bbb1bed9444368a535",
            "ad455941ecbf4e4790c9b9b3af62baca",
            "d0452f70efd64c13886708e00da73e68",
            "1d94ff672e424184a6f04958c0491e29",
            "1d6166ec282e4d019b169f278e177a96",
            "f5893b4e9eac43cfb80110e6b29adfbd",
            "84b4e6f8ee8242e69c65e8c67bece6e8",
            "a2b732f9c6ea4500a3f022917f938bb5",
            "679be08ed9ea47589192f3c5829e0394",
            "68fc966961ae414993d1b67c6e94e3cf"
          ]
        }
      },
      "outputs": [
        {
          "output_type": "display_data",
          "data": {
            "text/plain": [
              "  0%|          | 0/3572 [00:00<?, ?it/s]"
            ],
            "application/vnd.jupyter.widget-view+json": {
              "version_major": 2,
              "version_minor": 0,
              "model_id": "06a16885eaea40c1a7f0b6862320c291"
            }
          },
          "metadata": {}
        },
        {
          "output_type": "stream",
          "name": "stdout",
          "text": [
            "La clase T84.197A no está entre las clases de entrenamiento\n",
            "La clase T84.196A no está entre las clases de entrenamiento\n",
            "La clase O91.22 no está entre las clases de entrenamiento\n",
            "La clase T86.5 no está entre las clases de entrenamiento\n",
            "La clase M96.662 no está entre las clases de entrenamiento\n",
            "La clase O75.82 no está entre las clases de entrenamiento\n",
            "La clase I97.121 no está entre las clases de entrenamiento\n",
            "La clase P03.89 no está entre las clases de entrenamiento\n",
            "La clase T84.428A no está entre las clases de entrenamiento\n",
            "La clase T37.0X5A no está entre las clases de entrenamiento\n",
            "La clase E16.0 no está entre las clases de entrenamiento\n",
            "La clase T82.524A no está entre las clases de entrenamiento\n",
            "La clase T82.855D no está entre las clases de entrenamiento\n",
            "La clase P15.8 no está entre las clases de entrenamiento\n",
            "La clase N99.512 no está entre las clases de entrenamiento\n",
            "La clase T40.3X5A no está entre las clases de entrenamiento\n",
            "La clase T81.83XD no está entre las clases de entrenamiento\n",
            "La clase T44.995A no está entre las clases de entrenamiento\n",
            "La clase G24.09 no está entre las clases de entrenamiento\n",
            "La clase T42.6X5A no está entre las clases de entrenamiento\n",
            "La clase T82.310A no está entre las clases de entrenamiento\n",
            "La clase O89.4 no está entre las clases de entrenamiento\n",
            "La clase P12.0 no está entre las clases de entrenamiento\n",
            "La clase P39.4 no está entre las clases de entrenamiento\n",
            "La clase Y69 no está entre las clases de entrenamiento\n",
            "La clase T43.505S no está entre las clases de entrenamiento\n",
            "La clase G25.79 no está entre las clases de entrenamiento\n",
            "La clase T86.40 no está entre las clases de entrenamiento\n",
            "La clase T50.6X5D no está entre las clases de entrenamiento\n",
            "La clase T81.19XA no está entre las clases de entrenamiento\n",
            "La clase T84.093A no está entre las clases de entrenamiento\n",
            "La clase T86.831 no está entre las clases de entrenamiento\n",
            "La clase I97.121 no está entre las clases de entrenamiento\n",
            "La clase T84.098A no está entre las clases de entrenamiento\n",
            "La clase K91.81 no está entre las clases de entrenamiento\n",
            "La clase T81.507A no está entre las clases de entrenamiento\n",
            "La clase P13.2 no está entre las clases de entrenamiento\n",
            "La clase K91.62 no está entre las clases de entrenamiento\n",
            "La clase P36.19 no está entre las clases de entrenamiento\n",
            "La clase P03.89 no está entre las clases de entrenamiento\n",
            "La clase T82.09XA no está entre las clases de entrenamiento\n",
            "La clase T85.44XA no está entre las clases de entrenamiento\n"
          ]
        }
      ],
      "source": [
        "from sklearn.metrics import f1_score, roc_auc_score, accuracy_score, precision_score, recall_score\n",
        "import numpy as np\n",
        "import pandas as pd\n",
        "from tqdm.notebook import tqdm\n",
        "import warnings\n",
        "warnings.simplefilter(action='ignore', category=FutureWarning)\n",
        "\n",
        "df_resultados = pd.DataFrame(columns=[\"y_true\", \"y_pred\", \"metrica_s\", \"precision\", \"recall\", \"f1\", \"accuracy\"])\n",
        "\n",
        "def calculo_metricas_multi_label(y_pred, y_true, threshold=umbral):\n",
        "    metric_average = \"micro\"\n",
        "    precision_score_value = precision_score(y_true, y_pred, average=metric_average)\n",
        "    recall_score_value = recall_score(y_true, y_pred, average=metric_average)\n",
        "    f1_micro_average = f1_score(y_true=y_true, y_pred=y_pred, average=metric_average)\n",
        "    #roc_auc = roc_auc_score(y_true, y_pred, average=metric_average)\n",
        "    accuracy = accuracy_score(y_true, y_pred)\n",
        "    metrica_s_value = metrica_s_train(y_true, y_pred)\n",
        "\n",
        "    return metrica_s_value, precision_score_value, recall_score_value, f1_micro_average, accuracy\n",
        "\n",
        "for i in tqdm(range(dataset[test].num_rows)):\n",
        "  data = dataset[test][i]\n",
        "  inputs = preprocess_data(data)\n",
        "  outputs = model(**inputs)\n",
        "\n",
        "  logits = outputs.logits\n",
        "  # apply sigmoid + threshold\n",
        "  sigmoid = torch.nn.Sigmoid()\n",
        "  probs = sigmoid(logits.squeeze().cpu())\n",
        "\n",
        "  y_pred = calcular_predicciones_NONE_mas_probable(probs)\n",
        "  y_pred_labels = obtener_lables_predichas(y_pred)\n",
        "\n",
        "  y_true = obtener_y_true(data['label_list_str'])\n",
        "  y_true_labels = data['label_list_str']\n",
        "\n",
        "  metricas = calculo_metricas_multi_label(y_pred, y_true)\n",
        "\n",
        "  resultados = ({\n",
        "      'y_true':y_true_labels,\n",
        "      'y_pred' :y_pred_labels,\n",
        "      'metrica_s':metricas[0],\n",
        "      'precision':metricas[1],\n",
        "      'recall':metricas[2],\n",
        "      'f1':metricas[3],\n",
        "      'accuracy':metricas[4]})\n",
        "\n",
        "  df_resultados = df_resultados.append(resultados, ignore_index=True)\n"
      ]
    },
    {
      "cell_type": "markdown",
      "source": [
        "#Macro-average\n",
        "\n",
        "La métrica S macro-average se calcula como la media aritmética de la métrica S sobre todos los actos clínicos del conjunto de pruebas"
      ],
      "metadata": {
        "id": "HGgfDUcnc51E"
      },
      "id": "HGgfDUcnc51E"
    },
    {
      "cell_type": "code",
      "execution_count": 36,
      "id": "G7POj0JiyDiY",
      "metadata": {
        "id": "G7POj0JiyDiY",
        "outputId": "d346b21e-6d28-4a9a-f589-ec04e78b3b06",
        "colab": {
          "base_uri": "https://localhost:8080/"
        }
      },
      "outputs": [
        {
          "output_type": "stream",
          "name": "stdout",
          "text": [
            "metrica_s 0.004198\n",
            "precision 0.882331\n",
            "recall 0.882331\n",
            "f1 0.882331\n",
            "accuracy 0.882331\n"
          ]
        }
      ],
      "source": [
        "def calcular_media (metrica_nombre):\n",
        "  suma = df_resultados[metrica_nombre].sum()\n",
        "  media = round(suma / dataset[test].num_rows, 6)\n",
        "  print(metrica_nombre, media)\n",
        "\n",
        "\n",
        "calcular_media ('metrica_s')\n",
        "calcular_media ('precision')\n",
        "calcular_media ('recall')\n",
        "calcular_media ('f1')\n",
        "calcular_media ('accuracy')"
      ]
    },
    {
      "cell_type": "code",
      "execution_count": 37,
      "id": "-I9BH3BN_Ltl",
      "metadata": {
        "id": "-I9BH3BN_Ltl",
        "outputId": "9979109a-4791-44d8-ff03-21781a179919",
        "colab": {
          "base_uri": "https://localhost:8080/",
          "height": 423
        }
      },
      "outputs": [
        {
          "output_type": "execute_result",
          "data": {
            "text/plain": [
              "          y_true                                             y_pred  \\\n",
              "0         [NONE]  [T50.2X5A, T46.5X5A, E89.0, K94.23, T50.8X5A, ...   \n",
              "1         [NONE]  [T50.2X5A, T46.5X5A, E89.0, K94.23, T50.8X5A, ...   \n",
              "2         [NONE]  [T50.2X5A, T46.5X5A, E89.0, K94.23, T50.8X5A, ...   \n",
              "3         [NONE]  [T50.2X5A, T46.5X5A, E89.0, K94.23, T50.8X5A, ...   \n",
              "4         [NONE]  [T50.2X5A, T46.5X5A, E89.0, K94.23, T50.8X5A, ...   \n",
              "...          ...                                                ...   \n",
              "3567  [T45.515A]  [T50.2X5A, T46.5X5A, E89.0, K94.23, T50.8X5A, ...   \n",
              "3568      [NONE]  [T50.2X5A, T46.5X5A, E89.0, K94.23, T50.8X5A, ...   \n",
              "3569      [NONE]  [T50.2X5A, T46.5X5A, E89.0, K94.23, T50.8X5A, ...   \n",
              "3570      [NONE]  [T50.2X5A, T46.5X5A, E89.0, K94.23, T50.8X5A, ...   \n",
              "3571      [NONE]  [T50.2X5A, T46.5X5A, E89.0, K94.23, T50.8X5A, ...   \n",
              "\n",
              "      metrica_s  precision    recall        f1  accuracy  \n",
              "0      0.000000   0.880412  0.880412  0.880412  0.880412  \n",
              "1      0.000000   0.882474  0.882474  0.882474  0.882474  \n",
              "2      0.000000   0.884536  0.884536  0.884536  0.884536  \n",
              "3      0.000000   0.882474  0.882474  0.882474  0.882474  \n",
              "4      0.000000   0.884536  0.884536  0.884536  0.884536  \n",
              "...         ...        ...       ...       ...       ...  \n",
              "3567   0.007519   0.880412  0.880412  0.880412  0.880412  \n",
              "3568   0.000000   0.884536  0.884536  0.884536  0.884536  \n",
              "3569   0.000000   0.882474  0.882474  0.882474  0.882474  \n",
              "3570   0.000000   0.882474  0.882474  0.882474  0.882474  \n",
              "3571   0.000000   0.880412  0.880412  0.880412  0.880412  \n",
              "\n",
              "[3572 rows x 7 columns]"
            ],
            "text/html": [
              "\n",
              "  <div id=\"df-0a6cb944-801d-4d6e-ba32-db61f908bc1d\">\n",
              "    <div class=\"colab-df-container\">\n",
              "      <div>\n",
              "<style scoped>\n",
              "    .dataframe tbody tr th:only-of-type {\n",
              "        vertical-align: middle;\n",
              "    }\n",
              "\n",
              "    .dataframe tbody tr th {\n",
              "        vertical-align: top;\n",
              "    }\n",
              "\n",
              "    .dataframe thead th {\n",
              "        text-align: right;\n",
              "    }\n",
              "</style>\n",
              "<table border=\"1\" class=\"dataframe\">\n",
              "  <thead>\n",
              "    <tr style=\"text-align: right;\">\n",
              "      <th></th>\n",
              "      <th>y_true</th>\n",
              "      <th>y_pred</th>\n",
              "      <th>metrica_s</th>\n",
              "      <th>precision</th>\n",
              "      <th>recall</th>\n",
              "      <th>f1</th>\n",
              "      <th>accuracy</th>\n",
              "    </tr>\n",
              "  </thead>\n",
              "  <tbody>\n",
              "    <tr>\n",
              "      <th>0</th>\n",
              "      <td>[NONE]</td>\n",
              "      <td>[T50.2X5A, T46.5X5A, E89.0, K94.23, T50.8X5A, ...</td>\n",
              "      <td>0.000000</td>\n",
              "      <td>0.880412</td>\n",
              "      <td>0.880412</td>\n",
              "      <td>0.880412</td>\n",
              "      <td>0.880412</td>\n",
              "    </tr>\n",
              "    <tr>\n",
              "      <th>1</th>\n",
              "      <td>[NONE]</td>\n",
              "      <td>[T50.2X5A, T46.5X5A, E89.0, K94.23, T50.8X5A, ...</td>\n",
              "      <td>0.000000</td>\n",
              "      <td>0.882474</td>\n",
              "      <td>0.882474</td>\n",
              "      <td>0.882474</td>\n",
              "      <td>0.882474</td>\n",
              "    </tr>\n",
              "    <tr>\n",
              "      <th>2</th>\n",
              "      <td>[NONE]</td>\n",
              "      <td>[T50.2X5A, T46.5X5A, E89.0, K94.23, T50.8X5A, ...</td>\n",
              "      <td>0.000000</td>\n",
              "      <td>0.884536</td>\n",
              "      <td>0.884536</td>\n",
              "      <td>0.884536</td>\n",
              "      <td>0.884536</td>\n",
              "    </tr>\n",
              "    <tr>\n",
              "      <th>3</th>\n",
              "      <td>[NONE]</td>\n",
              "      <td>[T50.2X5A, T46.5X5A, E89.0, K94.23, T50.8X5A, ...</td>\n",
              "      <td>0.000000</td>\n",
              "      <td>0.882474</td>\n",
              "      <td>0.882474</td>\n",
              "      <td>0.882474</td>\n",
              "      <td>0.882474</td>\n",
              "    </tr>\n",
              "    <tr>\n",
              "      <th>4</th>\n",
              "      <td>[NONE]</td>\n",
              "      <td>[T50.2X5A, T46.5X5A, E89.0, K94.23, T50.8X5A, ...</td>\n",
              "      <td>0.000000</td>\n",
              "      <td>0.884536</td>\n",
              "      <td>0.884536</td>\n",
              "      <td>0.884536</td>\n",
              "      <td>0.884536</td>\n",
              "    </tr>\n",
              "    <tr>\n",
              "      <th>...</th>\n",
              "      <td>...</td>\n",
              "      <td>...</td>\n",
              "      <td>...</td>\n",
              "      <td>...</td>\n",
              "      <td>...</td>\n",
              "      <td>...</td>\n",
              "      <td>...</td>\n",
              "    </tr>\n",
              "    <tr>\n",
              "      <th>3567</th>\n",
              "      <td>[T45.515A]</td>\n",
              "      <td>[T50.2X5A, T46.5X5A, E89.0, K94.23, T50.8X5A, ...</td>\n",
              "      <td>0.007519</td>\n",
              "      <td>0.880412</td>\n",
              "      <td>0.880412</td>\n",
              "      <td>0.880412</td>\n",
              "      <td>0.880412</td>\n",
              "    </tr>\n",
              "    <tr>\n",
              "      <th>3568</th>\n",
              "      <td>[NONE]</td>\n",
              "      <td>[T50.2X5A, T46.5X5A, E89.0, K94.23, T50.8X5A, ...</td>\n",
              "      <td>0.000000</td>\n",
              "      <td>0.884536</td>\n",
              "      <td>0.884536</td>\n",
              "      <td>0.884536</td>\n",
              "      <td>0.884536</td>\n",
              "    </tr>\n",
              "    <tr>\n",
              "      <th>3569</th>\n",
              "      <td>[NONE]</td>\n",
              "      <td>[T50.2X5A, T46.5X5A, E89.0, K94.23, T50.8X5A, ...</td>\n",
              "      <td>0.000000</td>\n",
              "      <td>0.882474</td>\n",
              "      <td>0.882474</td>\n",
              "      <td>0.882474</td>\n",
              "      <td>0.882474</td>\n",
              "    </tr>\n",
              "    <tr>\n",
              "      <th>3570</th>\n",
              "      <td>[NONE]</td>\n",
              "      <td>[T50.2X5A, T46.5X5A, E89.0, K94.23, T50.8X5A, ...</td>\n",
              "      <td>0.000000</td>\n",
              "      <td>0.882474</td>\n",
              "      <td>0.882474</td>\n",
              "      <td>0.882474</td>\n",
              "      <td>0.882474</td>\n",
              "    </tr>\n",
              "    <tr>\n",
              "      <th>3571</th>\n",
              "      <td>[NONE]</td>\n",
              "      <td>[T50.2X5A, T46.5X5A, E89.0, K94.23, T50.8X5A, ...</td>\n",
              "      <td>0.000000</td>\n",
              "      <td>0.880412</td>\n",
              "      <td>0.880412</td>\n",
              "      <td>0.880412</td>\n",
              "      <td>0.880412</td>\n",
              "    </tr>\n",
              "  </tbody>\n",
              "</table>\n",
              "<p>3572 rows × 7 columns</p>\n",
              "</div>\n",
              "      <button class=\"colab-df-convert\" onclick=\"convertToInteractive('df-0a6cb944-801d-4d6e-ba32-db61f908bc1d')\"\n",
              "              title=\"Convert this dataframe to an interactive table.\"\n",
              "              style=\"display:none;\">\n",
              "        \n",
              "  <svg xmlns=\"http://www.w3.org/2000/svg\" height=\"24px\"viewBox=\"0 0 24 24\"\n",
              "       width=\"24px\">\n",
              "    <path d=\"M0 0h24v24H0V0z\" fill=\"none\"/>\n",
              "    <path d=\"M18.56 5.44l.94 2.06.94-2.06 2.06-.94-2.06-.94-.94-2.06-.94 2.06-2.06.94zm-11 1L8.5 8.5l.94-2.06 2.06-.94-2.06-.94L8.5 2.5l-.94 2.06-2.06.94zm10 10l.94 2.06.94-2.06 2.06-.94-2.06-.94-.94-2.06-.94 2.06-2.06.94z\"/><path d=\"M17.41 7.96l-1.37-1.37c-.4-.4-.92-.59-1.43-.59-.52 0-1.04.2-1.43.59L10.3 9.45l-7.72 7.72c-.78.78-.78 2.05 0 2.83L4 21.41c.39.39.9.59 1.41.59.51 0 1.02-.2 1.41-.59l7.78-7.78 2.81-2.81c.8-.78.8-2.07 0-2.86zM5.41 20L4 18.59l7.72-7.72 1.47 1.35L5.41 20z\"/>\n",
              "  </svg>\n",
              "      </button>\n",
              "      \n",
              "  <style>\n",
              "    .colab-df-container {\n",
              "      display:flex;\n",
              "      flex-wrap:wrap;\n",
              "      gap: 12px;\n",
              "    }\n",
              "\n",
              "    .colab-df-convert {\n",
              "      background-color: #E8F0FE;\n",
              "      border: none;\n",
              "      border-radius: 50%;\n",
              "      cursor: pointer;\n",
              "      display: none;\n",
              "      fill: #1967D2;\n",
              "      height: 32px;\n",
              "      padding: 0 0 0 0;\n",
              "      width: 32px;\n",
              "    }\n",
              "\n",
              "    .colab-df-convert:hover {\n",
              "      background-color: #E2EBFA;\n",
              "      box-shadow: 0px 1px 2px rgba(60, 64, 67, 0.3), 0px 1px 3px 1px rgba(60, 64, 67, 0.15);\n",
              "      fill: #174EA6;\n",
              "    }\n",
              "\n",
              "    [theme=dark] .colab-df-convert {\n",
              "      background-color: #3B4455;\n",
              "      fill: #D2E3FC;\n",
              "    }\n",
              "\n",
              "    [theme=dark] .colab-df-convert:hover {\n",
              "      background-color: #434B5C;\n",
              "      box-shadow: 0px 1px 3px 1px rgba(0, 0, 0, 0.15);\n",
              "      filter: drop-shadow(0px 1px 2px rgba(0, 0, 0, 0.3));\n",
              "      fill: #FFFFFF;\n",
              "    }\n",
              "  </style>\n",
              "\n",
              "      <script>\n",
              "        const buttonEl =\n",
              "          document.querySelector('#df-0a6cb944-801d-4d6e-ba32-db61f908bc1d button.colab-df-convert');\n",
              "        buttonEl.style.display =\n",
              "          google.colab.kernel.accessAllowed ? 'block' : 'none';\n",
              "\n",
              "        async function convertToInteractive(key) {\n",
              "          const element = document.querySelector('#df-0a6cb944-801d-4d6e-ba32-db61f908bc1d');\n",
              "          const dataTable =\n",
              "            await google.colab.kernel.invokeFunction('convertToInteractive',\n",
              "                                                     [key], {});\n",
              "          if (!dataTable) return;\n",
              "\n",
              "          const docLinkHtml = 'Like what you see? Visit the ' +\n",
              "            '<a target=\"_blank\" href=https://colab.research.google.com/notebooks/data_table.ipynb>data table notebook</a>'\n",
              "            + ' to learn more about interactive tables.';\n",
              "          element.innerHTML = '';\n",
              "          dataTable['output_type'] = 'display_data';\n",
              "          await google.colab.output.renderOutput(dataTable, element);\n",
              "          const docLink = document.createElement('div');\n",
              "          docLink.innerHTML = docLinkHtml;\n",
              "          element.appendChild(docLink);\n",
              "        }\n",
              "      </script>\n",
              "    </div>\n",
              "  </div>\n",
              "  "
            ]
          },
          "metadata": {},
          "execution_count": 37
        }
      ],
      "source": [
        "df_resultados"
      ]
    },
    {
      "cell_type": "markdown",
      "source": [
        "#Micro-average\n",
        "\n",
        "El cálculo de la métrica S micro-average sobre un conjunto de códigos seleccionado se realiza de la siguiente manera: se calcula la medida S de cada código sobre todos los actos clínicos en los que aparece en el Gold Standard y posteriormente se divide por el número de códigos del conjunto de códigos que se quiere evaluar. Nótese que para ello, en la evaluación sólo se tiene en cuenta los códigos del conjunto, de manera que el resto deben obviarse."
      ],
      "metadata": {
        "id": "2m8yziyUchJQ"
      },
      "id": "2m8yziyUchJQ"
    },
    {
      "cell_type": "code",
      "source": [
        "codigo_busqueda = \"T38.0X5A\"\n",
        "suma_metrica_s_micro = 0\n",
        "indice = 0\n",
        "for row in df_resultados['y_true']:\n",
        "  for codigo in row:\n",
        "    if (codigo == codigo_busqueda):\n",
        "      suma_metrica_s_micro += df_resultados['metrica_s'][indice]\n",
        "      break\n",
        "  indice += 1\n",
        "suma_metrica_s_micro\n",
        "\n",
        "micro_average = round(suma_metrica_s_micro / class2label.num_classes, 6)\n",
        "print(micro_average)"
      ],
      "metadata": {
        "id": "pOEvjJGhciyH",
        "outputId": "0ad74196-eadf-41ae-9beb-46e8fd79f42c",
        "colab": {
          "base_uri": "https://localhost:8080/"
        }
      },
      "id": "pOEvjJGhciyH",
      "execution_count": null,
      "outputs": [
        {
          "output_type": "stream",
          "name": "stdout",
          "text": [
            "0.569196\n"
          ]
        }
      ]
    }
  ],
  "metadata": {
    "accelerator": "GPU",
    "colab": {
      "collapsed_sections": [
        "go9KsGPAlNBf"
      ],
      "gpuType": "V100",
      "provenance": [],
      "machine_shape": "hm",
      "include_colab_link": true
    },
    "kernelspec": {
      "display_name": "Python 3",
      "name": "python3"
    },
    "language_info": {
      "codemirror_mode": {
        "name": "ipython",
        "version": 3
      },
      "file_extension": ".py",
      "mimetype": "text/x-python",
      "name": "python",
      "nbconvert_exporter": "python",
      "pygments_lexer": "ipython3",
      "version": "3.9.12"
    },
    "widgets": {
      "application/vnd.jupyter.widget-state+json": {
        "06a16885eaea40c1a7f0b6862320c291": {
          "model_module": "@jupyter-widgets/controls",
          "model_name": "HBoxModel",
          "model_module_version": "1.5.0",
          "state": {
            "_dom_classes": [],
            "_model_module": "@jupyter-widgets/controls",
            "_model_module_version": "1.5.0",
            "_model_name": "HBoxModel",
            "_view_count": null,
            "_view_module": "@jupyter-widgets/controls",
            "_view_module_version": "1.5.0",
            "_view_name": "HBoxView",
            "box_style": "",
            "children": [
              "IPY_MODEL_139fe712444345bbb1bed9444368a535",
              "IPY_MODEL_ad455941ecbf4e4790c9b9b3af62baca",
              "IPY_MODEL_d0452f70efd64c13886708e00da73e68"
            ],
            "layout": "IPY_MODEL_1d94ff672e424184a6f04958c0491e29"
          }
        },
        "139fe712444345bbb1bed9444368a535": {
          "model_module": "@jupyter-widgets/controls",
          "model_name": "HTMLModel",
          "model_module_version": "1.5.0",
          "state": {
            "_dom_classes": [],
            "_model_module": "@jupyter-widgets/controls",
            "_model_module_version": "1.5.0",
            "_model_name": "HTMLModel",
            "_view_count": null,
            "_view_module": "@jupyter-widgets/controls",
            "_view_module_version": "1.5.0",
            "_view_name": "HTMLView",
            "description": "",
            "description_tooltip": null,
            "layout": "IPY_MODEL_1d6166ec282e4d019b169f278e177a96",
            "placeholder": "​",
            "style": "IPY_MODEL_f5893b4e9eac43cfb80110e6b29adfbd",
            "value": "100%"
          }
        },
        "ad455941ecbf4e4790c9b9b3af62baca": {
          "model_module": "@jupyter-widgets/controls",
          "model_name": "FloatProgressModel",
          "model_module_version": "1.5.0",
          "state": {
            "_dom_classes": [],
            "_model_module": "@jupyter-widgets/controls",
            "_model_module_version": "1.5.0",
            "_model_name": "FloatProgressModel",
            "_view_count": null,
            "_view_module": "@jupyter-widgets/controls",
            "_view_module_version": "1.5.0",
            "_view_name": "ProgressView",
            "bar_style": "success",
            "description": "",
            "description_tooltip": null,
            "layout": "IPY_MODEL_84b4e6f8ee8242e69c65e8c67bece6e8",
            "max": 3572,
            "min": 0,
            "orientation": "horizontal",
            "style": "IPY_MODEL_a2b732f9c6ea4500a3f022917f938bb5",
            "value": 3572
          }
        },
        "d0452f70efd64c13886708e00da73e68": {
          "model_module": "@jupyter-widgets/controls",
          "model_name": "HTMLModel",
          "model_module_version": "1.5.0",
          "state": {
            "_dom_classes": [],
            "_model_module": "@jupyter-widgets/controls",
            "_model_module_version": "1.5.0",
            "_model_name": "HTMLModel",
            "_view_count": null,
            "_view_module": "@jupyter-widgets/controls",
            "_view_module_version": "1.5.0",
            "_view_name": "HTMLView",
            "description": "",
            "description_tooltip": null,
            "layout": "IPY_MODEL_679be08ed9ea47589192f3c5829e0394",
            "placeholder": "​",
            "style": "IPY_MODEL_68fc966961ae414993d1b67c6e94e3cf",
            "value": " 3572/3572 [38:23&lt;00:00,  1.74it/s]"
          }
        },
        "1d94ff672e424184a6f04958c0491e29": {
          "model_module": "@jupyter-widgets/base",
          "model_name": "LayoutModel",
          "model_module_version": "1.2.0",
          "state": {
            "_model_module": "@jupyter-widgets/base",
            "_model_module_version": "1.2.0",
            "_model_name": "LayoutModel",
            "_view_count": null,
            "_view_module": "@jupyter-widgets/base",
            "_view_module_version": "1.2.0",
            "_view_name": "LayoutView",
            "align_content": null,
            "align_items": null,
            "align_self": null,
            "border": null,
            "bottom": null,
            "display": null,
            "flex": null,
            "flex_flow": null,
            "grid_area": null,
            "grid_auto_columns": null,
            "grid_auto_flow": null,
            "grid_auto_rows": null,
            "grid_column": null,
            "grid_gap": null,
            "grid_row": null,
            "grid_template_areas": null,
            "grid_template_columns": null,
            "grid_template_rows": null,
            "height": null,
            "justify_content": null,
            "justify_items": null,
            "left": null,
            "margin": null,
            "max_height": null,
            "max_width": null,
            "min_height": null,
            "min_width": null,
            "object_fit": null,
            "object_position": null,
            "order": null,
            "overflow": null,
            "overflow_x": null,
            "overflow_y": null,
            "padding": null,
            "right": null,
            "top": null,
            "visibility": null,
            "width": null
          }
        },
        "1d6166ec282e4d019b169f278e177a96": {
          "model_module": "@jupyter-widgets/base",
          "model_name": "LayoutModel",
          "model_module_version": "1.2.0",
          "state": {
            "_model_module": "@jupyter-widgets/base",
            "_model_module_version": "1.2.0",
            "_model_name": "LayoutModel",
            "_view_count": null,
            "_view_module": "@jupyter-widgets/base",
            "_view_module_version": "1.2.0",
            "_view_name": "LayoutView",
            "align_content": null,
            "align_items": null,
            "align_self": null,
            "border": null,
            "bottom": null,
            "display": null,
            "flex": null,
            "flex_flow": null,
            "grid_area": null,
            "grid_auto_columns": null,
            "grid_auto_flow": null,
            "grid_auto_rows": null,
            "grid_column": null,
            "grid_gap": null,
            "grid_row": null,
            "grid_template_areas": null,
            "grid_template_columns": null,
            "grid_template_rows": null,
            "height": null,
            "justify_content": null,
            "justify_items": null,
            "left": null,
            "margin": null,
            "max_height": null,
            "max_width": null,
            "min_height": null,
            "min_width": null,
            "object_fit": null,
            "object_position": null,
            "order": null,
            "overflow": null,
            "overflow_x": null,
            "overflow_y": null,
            "padding": null,
            "right": null,
            "top": null,
            "visibility": null,
            "width": null
          }
        },
        "f5893b4e9eac43cfb80110e6b29adfbd": {
          "model_module": "@jupyter-widgets/controls",
          "model_name": "DescriptionStyleModel",
          "model_module_version": "1.5.0",
          "state": {
            "_model_module": "@jupyter-widgets/controls",
            "_model_module_version": "1.5.0",
            "_model_name": "DescriptionStyleModel",
            "_view_count": null,
            "_view_module": "@jupyter-widgets/base",
            "_view_module_version": "1.2.0",
            "_view_name": "StyleView",
            "description_width": ""
          }
        },
        "84b4e6f8ee8242e69c65e8c67bece6e8": {
          "model_module": "@jupyter-widgets/base",
          "model_name": "LayoutModel",
          "model_module_version": "1.2.0",
          "state": {
            "_model_module": "@jupyter-widgets/base",
            "_model_module_version": "1.2.0",
            "_model_name": "LayoutModel",
            "_view_count": null,
            "_view_module": "@jupyter-widgets/base",
            "_view_module_version": "1.2.0",
            "_view_name": "LayoutView",
            "align_content": null,
            "align_items": null,
            "align_self": null,
            "border": null,
            "bottom": null,
            "display": null,
            "flex": null,
            "flex_flow": null,
            "grid_area": null,
            "grid_auto_columns": null,
            "grid_auto_flow": null,
            "grid_auto_rows": null,
            "grid_column": null,
            "grid_gap": null,
            "grid_row": null,
            "grid_template_areas": null,
            "grid_template_columns": null,
            "grid_template_rows": null,
            "height": null,
            "justify_content": null,
            "justify_items": null,
            "left": null,
            "margin": null,
            "max_height": null,
            "max_width": null,
            "min_height": null,
            "min_width": null,
            "object_fit": null,
            "object_position": null,
            "order": null,
            "overflow": null,
            "overflow_x": null,
            "overflow_y": null,
            "padding": null,
            "right": null,
            "top": null,
            "visibility": null,
            "width": null
          }
        },
        "a2b732f9c6ea4500a3f022917f938bb5": {
          "model_module": "@jupyter-widgets/controls",
          "model_name": "ProgressStyleModel",
          "model_module_version": "1.5.0",
          "state": {
            "_model_module": "@jupyter-widgets/controls",
            "_model_module_version": "1.5.0",
            "_model_name": "ProgressStyleModel",
            "_view_count": null,
            "_view_module": "@jupyter-widgets/base",
            "_view_module_version": "1.2.0",
            "_view_name": "StyleView",
            "bar_color": null,
            "description_width": ""
          }
        },
        "679be08ed9ea47589192f3c5829e0394": {
          "model_module": "@jupyter-widgets/base",
          "model_name": "LayoutModel",
          "model_module_version": "1.2.0",
          "state": {
            "_model_module": "@jupyter-widgets/base",
            "_model_module_version": "1.2.0",
            "_model_name": "LayoutModel",
            "_view_count": null,
            "_view_module": "@jupyter-widgets/base",
            "_view_module_version": "1.2.0",
            "_view_name": "LayoutView",
            "align_content": null,
            "align_items": null,
            "align_self": null,
            "border": null,
            "bottom": null,
            "display": null,
            "flex": null,
            "flex_flow": null,
            "grid_area": null,
            "grid_auto_columns": null,
            "grid_auto_flow": null,
            "grid_auto_rows": null,
            "grid_column": null,
            "grid_gap": null,
            "grid_row": null,
            "grid_template_areas": null,
            "grid_template_columns": null,
            "grid_template_rows": null,
            "height": null,
            "justify_content": null,
            "justify_items": null,
            "left": null,
            "margin": null,
            "max_height": null,
            "max_width": null,
            "min_height": null,
            "min_width": null,
            "object_fit": null,
            "object_position": null,
            "order": null,
            "overflow": null,
            "overflow_x": null,
            "overflow_y": null,
            "padding": null,
            "right": null,
            "top": null,
            "visibility": null,
            "width": null
          }
        },
        "68fc966961ae414993d1b67c6e94e3cf": {
          "model_module": "@jupyter-widgets/controls",
          "model_name": "DescriptionStyleModel",
          "model_module_version": "1.5.0",
          "state": {
            "_model_module": "@jupyter-widgets/controls",
            "_model_module_version": "1.5.0",
            "_model_name": "DescriptionStyleModel",
            "_view_count": null,
            "_view_module": "@jupyter-widgets/base",
            "_view_module_version": "1.2.0",
            "_view_name": "StyleView",
            "description_width": ""
          }
        }
      }
    }
  },
  "nbformat": 4,
  "nbformat_minor": 5
}
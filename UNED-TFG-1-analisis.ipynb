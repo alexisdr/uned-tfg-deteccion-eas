{
  "nbformat": 4,
  "nbformat_minor": 0,
  "metadata": {
    "colab": {
      "provenance": []
    },
    "kernelspec": {
      "name": "python3",
      "display_name": "Python 3"
    },
    "language_info": {
      "name": "python"
    },
    "gpuClass": "premium"
  },
  "cells": [
    {
      "cell_type": "markdown",
      "source": [
        "# Análisis de los datos\n",
        "\n",
        "Se analizan los datos del Corpus PFG."
      ],
      "metadata": {
        "id": "Dtw7kXV4e-HQ"
      }
    },
    {
      "cell_type": "markdown",
      "source": [
        "# Parameters\n",
        "\n",
        "*  GoldStandardTrainingEAs.txt: contiene una relación de IDS de actos clínicos seguidos de una lista de uno o varios códigos EAs, en caso de que sean aplicables, o NONE en caso de no se haya idetnificado ningún código de efecto adverso. Todos los valores están separados por espacios. Ejemplos:\n",
        "```\n",
        "24866017 T50.2X5A\n",
        "27448436 T83.021A T83.511A T83.091A Y84.6\n",
        "25205191 NONE\n",
        "```\n",
        "*  GoldStandardTestEAs.txt: equivalente al anterior pero con los datos del conjunto de pruebas.\n",
        "*  EAs.txt: listado de todos los códigos de efectos adversos del CIE10 y su tipo. Ejemplo: \n",
        "```\n",
        "D61.810 - PROC\n",
        "D61.811 - MED\n",
        "```\n",
        "*  CIE-10.tsv: definición del CIE10 completo.\n",
        "*  Training: carpeta que contiene todos los informes médicos del conjunto de entrenamiento. El nombre del archivo está compuesto por el acto clínico y el identificador del informe. Ejemplo: 23062488-158483734.txt\n",
        "*  Training: equivalente a training pero con el conjunto de pruebas.\n",
        "\n"
      ],
      "metadata": {
        "id": "H7uHO0xNibAs"
      }
    },
    {
      "cell_type": "code",
      "source": [
        "base_path = '/drive/My Drive/CorpusPFG/'\n",
        "\n",
        "#Archivos y rutas de los datos del CORPUS\n",
        "GoldStandardTrainingEA_data_location = base_path + 'GoldStandardTrainingEAs.txt'\n",
        "GoldStandardTestEA_data_location = base_path + 'GoldStandardTestEAs.txt'\n",
        "EAs_data_location = base_path + 'EAs.txt'\n",
        "CIE10_data_location = base_path + 'CIE-10.tsv'\n",
        "training_files_location = base_path + 'Training/'\n",
        "test_files_location = base_path + 'Test/'\n",
        "\n",
        "#Archivos y rutas del subconjunto de pruebas\n",
        "tiny_training_files_location = base_path + 'Tiny-Training/'\n",
        "tiny_test_files_location = base_path + 'Tiny-Test/'"
      ],
      "metadata": {
        "id": "rhtVG5QtiYkr"
      },
      "execution_count": 110,
      "outputs": []
    },
    {
      "cell_type": "markdown",
      "source": [
        "Se realiza el montaje de la unidad de Google Drive para acceder a los ficheros"
      ],
      "metadata": {
        "id": "UujvKjusiVfn"
      }
    },
    {
      "cell_type": "code",
      "source": [
        "from google.colab import drive\n",
        "\n",
        "drive.mount('/drive')"
      ],
      "metadata": {
        "colab": {
          "base_uri": "https://localhost:8080/"
        },
        "id": "UisW21-kiQqd",
        "outputId": "0e975641-28f1-466c-c59b-6307809ca727"
      },
      "execution_count": 9,
      "outputs": [
        {
          "output_type": "stream",
          "name": "stdout",
          "text": [
            "Drive already mounted at /drive; to attempt to forcibly remount, call drive.mount(\"/drive\", force_remount=True).\n"
          ]
        }
      ]
    },
    {
      "cell_type": "markdown",
      "source": [
        "# EAs disponibles en los casos clínicos\n",
        "\n",
        "Carga del archivo de texto GoldStandardTrainingEAs.txt y GoldStandardTestEAs.txt en un data set"
      ],
      "metadata": {
        "id": "mPSAH1ivWyCJ"
      }
    },
    {
      "cell_type": "code",
      "source": [
        "import pandas as pd\n",
        "\n",
        "column_names = [\"Acto\", \"TieneEA_EA1\", \"EA2\", \"EA3\", \"EA4\", \"EA5\", \"EA6\", \"EA7\", \"EA8\", \"EA9\", \"EA10\"]\n",
        "df_goldStandardTrainingEAs = pd.read_csv(GoldStandardTrainingEA_data_location, sep=' ', header=None, names=column_names)\n",
        "df_goldStandardTestEAs = pd.read_csv(GoldStandardTestEA_data_location, sep=' ', header=None, names=column_names)"
      ],
      "metadata": {
        "id": "LGJmlQxKWxgU"
      },
      "execution_count": 10,
      "outputs": []
    },
    {
      "cell_type": "markdown",
      "source": [
        "Consulta la cantidad de datos\n",
        "\n"
      ],
      "metadata": {
        "id": "6pV4nJY1ZWQf"
      }
    },
    {
      "cell_type": "code",
      "source": [
        "df_goldStandardTrainingEAs.count()"
      ],
      "metadata": {
        "colab": {
          "base_uri": "https://localhost:8080/"
        },
        "id": "icn1UDPpai1l",
        "outputId": "a0b75f92-5ff0-4370-eac2-6044b6d507eb"
      },
      "execution_count": 11,
      "outputs": [
        {
          "output_type": "execute_result",
          "data": {
            "text/plain": [
              "Acto           14502\n",
              "TieneEA_EA1    14502\n",
              "EA2              925\n",
              "EA3              240\n",
              "EA4               78\n",
              "EA5               21\n",
              "EA6                8\n",
              "EA7                5\n",
              "EA8                3\n",
              "EA9                2\n",
              "EA10               0\n",
              "dtype: int64"
            ]
          },
          "metadata": {},
          "execution_count": 11
        }
      ]
    },
    {
      "cell_type": "markdown",
      "source": [
        "Consulta de las primeras filas del data set"
      ],
      "metadata": {
        "id": "CVA7JJTeatsV"
      }
    },
    {
      "cell_type": "code",
      "source": [
        "df_goldStandardTrainingEAs.head()"
      ],
      "metadata": {
        "colab": {
          "base_uri": "https://localhost:8080/",
          "height": 206
        },
        "id": "-Apsww1VZKVD",
        "outputId": "ff214643-806c-4cdb-a21a-9ff321a33837"
      },
      "execution_count": 12,
      "outputs": [
        {
          "output_type": "execute_result",
          "data": {
            "text/plain": [
              "       Acto TieneEA_EA1  EA2  EA3  EA4  EA5  EA6  EA7  EA8  EA9  EA10\n",
              "0  27690409    T50.2X5A  NaN  NaN  NaN  NaN  NaN  NaN  NaN  NaN   NaN\n",
              "1  24626366        NONE  NaN  NaN  NaN  NaN  NaN  NaN  NaN  NaN   NaN\n",
              "2  27967924       O90.0  NaN  NaN  NaN  NaN  NaN  NaN  NaN  NaN   NaN\n",
              "3  25774939        NONE  NaN  NaN  NaN  NaN  NaN  NaN  NaN  NaN   NaN\n",
              "4  24878023        NONE  NaN  NaN  NaN  NaN  NaN  NaN  NaN  NaN   NaN"
            ],
            "text/html": [
              "\n",
              "  <div id=\"df-5060e2b3-a3a2-4039-beed-907c52036938\">\n",
              "    <div class=\"colab-df-container\">\n",
              "      <div>\n",
              "<style scoped>\n",
              "    .dataframe tbody tr th:only-of-type {\n",
              "        vertical-align: middle;\n",
              "    }\n",
              "\n",
              "    .dataframe tbody tr th {\n",
              "        vertical-align: top;\n",
              "    }\n",
              "\n",
              "    .dataframe thead th {\n",
              "        text-align: right;\n",
              "    }\n",
              "</style>\n",
              "<table border=\"1\" class=\"dataframe\">\n",
              "  <thead>\n",
              "    <tr style=\"text-align: right;\">\n",
              "      <th></th>\n",
              "      <th>Acto</th>\n",
              "      <th>TieneEA_EA1</th>\n",
              "      <th>EA2</th>\n",
              "      <th>EA3</th>\n",
              "      <th>EA4</th>\n",
              "      <th>EA5</th>\n",
              "      <th>EA6</th>\n",
              "      <th>EA7</th>\n",
              "      <th>EA8</th>\n",
              "      <th>EA9</th>\n",
              "      <th>EA10</th>\n",
              "    </tr>\n",
              "  </thead>\n",
              "  <tbody>\n",
              "    <tr>\n",
              "      <th>0</th>\n",
              "      <td>27690409</td>\n",
              "      <td>T50.2X5A</td>\n",
              "      <td>NaN</td>\n",
              "      <td>NaN</td>\n",
              "      <td>NaN</td>\n",
              "      <td>NaN</td>\n",
              "      <td>NaN</td>\n",
              "      <td>NaN</td>\n",
              "      <td>NaN</td>\n",
              "      <td>NaN</td>\n",
              "      <td>NaN</td>\n",
              "    </tr>\n",
              "    <tr>\n",
              "      <th>1</th>\n",
              "      <td>24626366</td>\n",
              "      <td>NONE</td>\n",
              "      <td>NaN</td>\n",
              "      <td>NaN</td>\n",
              "      <td>NaN</td>\n",
              "      <td>NaN</td>\n",
              "      <td>NaN</td>\n",
              "      <td>NaN</td>\n",
              "      <td>NaN</td>\n",
              "      <td>NaN</td>\n",
              "      <td>NaN</td>\n",
              "    </tr>\n",
              "    <tr>\n",
              "      <th>2</th>\n",
              "      <td>27967924</td>\n",
              "      <td>O90.0</td>\n",
              "      <td>NaN</td>\n",
              "      <td>NaN</td>\n",
              "      <td>NaN</td>\n",
              "      <td>NaN</td>\n",
              "      <td>NaN</td>\n",
              "      <td>NaN</td>\n",
              "      <td>NaN</td>\n",
              "      <td>NaN</td>\n",
              "      <td>NaN</td>\n",
              "    </tr>\n",
              "    <tr>\n",
              "      <th>3</th>\n",
              "      <td>25774939</td>\n",
              "      <td>NONE</td>\n",
              "      <td>NaN</td>\n",
              "      <td>NaN</td>\n",
              "      <td>NaN</td>\n",
              "      <td>NaN</td>\n",
              "      <td>NaN</td>\n",
              "      <td>NaN</td>\n",
              "      <td>NaN</td>\n",
              "      <td>NaN</td>\n",
              "      <td>NaN</td>\n",
              "    </tr>\n",
              "    <tr>\n",
              "      <th>4</th>\n",
              "      <td>24878023</td>\n",
              "      <td>NONE</td>\n",
              "      <td>NaN</td>\n",
              "      <td>NaN</td>\n",
              "      <td>NaN</td>\n",
              "      <td>NaN</td>\n",
              "      <td>NaN</td>\n",
              "      <td>NaN</td>\n",
              "      <td>NaN</td>\n",
              "      <td>NaN</td>\n",
              "      <td>NaN</td>\n",
              "    </tr>\n",
              "  </tbody>\n",
              "</table>\n",
              "</div>\n",
              "      <button class=\"colab-df-convert\" onclick=\"convertToInteractive('df-5060e2b3-a3a2-4039-beed-907c52036938')\"\n",
              "              title=\"Convert this dataframe to an interactive table.\"\n",
              "              style=\"display:none;\">\n",
              "        \n",
              "  <svg xmlns=\"http://www.w3.org/2000/svg\" height=\"24px\"viewBox=\"0 0 24 24\"\n",
              "       width=\"24px\">\n",
              "    <path d=\"M0 0h24v24H0V0z\" fill=\"none\"/>\n",
              "    <path d=\"M18.56 5.44l.94 2.06.94-2.06 2.06-.94-2.06-.94-.94-2.06-.94 2.06-2.06.94zm-11 1L8.5 8.5l.94-2.06 2.06-.94-2.06-.94L8.5 2.5l-.94 2.06-2.06.94zm10 10l.94 2.06.94-2.06 2.06-.94-2.06-.94-.94-2.06-.94 2.06-2.06.94z\"/><path d=\"M17.41 7.96l-1.37-1.37c-.4-.4-.92-.59-1.43-.59-.52 0-1.04.2-1.43.59L10.3 9.45l-7.72 7.72c-.78.78-.78 2.05 0 2.83L4 21.41c.39.39.9.59 1.41.59.51 0 1.02-.2 1.41-.59l7.78-7.78 2.81-2.81c.8-.78.8-2.07 0-2.86zM5.41 20L4 18.59l7.72-7.72 1.47 1.35L5.41 20z\"/>\n",
              "  </svg>\n",
              "      </button>\n",
              "      \n",
              "  <style>\n",
              "    .colab-df-container {\n",
              "      display:flex;\n",
              "      flex-wrap:wrap;\n",
              "      gap: 12px;\n",
              "    }\n",
              "\n",
              "    .colab-df-convert {\n",
              "      background-color: #E8F0FE;\n",
              "      border: none;\n",
              "      border-radius: 50%;\n",
              "      cursor: pointer;\n",
              "      display: none;\n",
              "      fill: #1967D2;\n",
              "      height: 32px;\n",
              "      padding: 0 0 0 0;\n",
              "      width: 32px;\n",
              "    }\n",
              "\n",
              "    .colab-df-convert:hover {\n",
              "      background-color: #E2EBFA;\n",
              "      box-shadow: 0px 1px 2px rgba(60, 64, 67, 0.3), 0px 1px 3px 1px rgba(60, 64, 67, 0.15);\n",
              "      fill: #174EA6;\n",
              "    }\n",
              "\n",
              "    [theme=dark] .colab-df-convert {\n",
              "      background-color: #3B4455;\n",
              "      fill: #D2E3FC;\n",
              "    }\n",
              "\n",
              "    [theme=dark] .colab-df-convert:hover {\n",
              "      background-color: #434B5C;\n",
              "      box-shadow: 0px 1px 3px 1px rgba(0, 0, 0, 0.15);\n",
              "      filter: drop-shadow(0px 1px 2px rgba(0, 0, 0, 0.3));\n",
              "      fill: #FFFFFF;\n",
              "    }\n",
              "  </style>\n",
              "\n",
              "      <script>\n",
              "        const buttonEl =\n",
              "          document.querySelector('#df-5060e2b3-a3a2-4039-beed-907c52036938 button.colab-df-convert');\n",
              "        buttonEl.style.display =\n",
              "          google.colab.kernel.accessAllowed ? 'block' : 'none';\n",
              "\n",
              "        async function convertToInteractive(key) {\n",
              "          const element = document.querySelector('#df-5060e2b3-a3a2-4039-beed-907c52036938');\n",
              "          const dataTable =\n",
              "            await google.colab.kernel.invokeFunction('convertToInteractive',\n",
              "                                                     [key], {});\n",
              "          if (!dataTable) return;\n",
              "\n",
              "          const docLinkHtml = 'Like what you see? Visit the ' +\n",
              "            '<a target=\"_blank\" href=https://colab.research.google.com/notebooks/data_table.ipynb>data table notebook</a>'\n",
              "            + ' to learn more about interactive tables.';\n",
              "          element.innerHTML = '';\n",
              "          dataTable['output_type'] = 'display_data';\n",
              "          await google.colab.output.renderOutput(dataTable, element);\n",
              "          const docLink = document.createElement('div');\n",
              "          docLink.innerHTML = docLinkHtml;\n",
              "          element.appendChild(docLink);\n",
              "        }\n",
              "      </script>\n",
              "    </div>\n",
              "  </div>\n",
              "  "
            ]
          },
          "metadata": {},
          "execution_count": 12
        }
      ]
    },
    {
      "cell_type": "markdown",
      "source": [
        "Se unen todos los códigos EAs de todas las columnas para conocer cuántos códigos EAs hay representados en los casos clínicos."
      ],
      "metadata": {
        "id": "wE3XzC2RY3xw"
      }
    },
    {
      "cell_type": "code",
      "source": [
        "ds_cantidad_TieneEA_EA1 = df_goldStandardTrainingEAs.TieneEA_EA1.value_counts(dropna=True, sort=True)\n",
        "ds_cantidad_EA2 = df_goldStandardTrainingEAs.EA2.value_counts(dropna=True, sort=True)\n",
        "ds_all = ds_cantidad_TieneEA_EA1.append(ds_cantidad_EA2)\n",
        "ds_cantidad_EA3 = df_goldStandardTrainingEAs.EA3.value_counts(dropna=True, sort=True)\n",
        "ds_all = ds_all.append(ds_cantidad_EA3)\n",
        "ds_cantidad_EA4 = df_goldStandardTrainingEAs.EA4.value_counts(dropna=True, sort=True)\n",
        "ds_all = ds_all.append(ds_cantidad_EA4)\n",
        "ds_cantidad_EA5 = df_goldStandardTrainingEAs.EA5.value_counts(dropna=True, sort=True)\n",
        "ds_all = ds_all.append(ds_cantidad_EA5)\n",
        "ds_cantidad_EA6 = df_goldStandardTrainingEAs.EA6.value_counts(dropna=True, sort=True)\n",
        "ds_all = ds_all.append(ds_cantidad_EA6)\n",
        "ds_cantidad_EA7 = df_goldStandardTrainingEAs.EA7.value_counts(dropna=True, sort=True)\n",
        "ds_all = ds_all.append(ds_cantidad_EA7)\n",
        "ds_cantidad_EA8 = df_goldStandardTrainingEAs.EA8.value_counts(dropna=True, sort=True)\n",
        "ds_all = ds_all.append(ds_cantidad_EA8)\n",
        "ds_cantidad_EA9 = df_goldStandardTrainingEAs.EA9.value_counts(dropna=True, sort=True)\n",
        "ds_all = ds_all.append(ds_cantidad_EA9)\n",
        "\n",
        "df_cantidad = pd.DataFrame(ds_all)\n",
        "df_cantidad = df_cantidad.reset_index()\n",
        "df_cantidad.columns = ['eas', 'counts'] \n",
        "df_cantidad.count()"
      ],
      "metadata": {
        "colab": {
          "base_uri": "https://localhost:8080/"
        },
        "id": "LuVG5pqOcutf",
        "outputId": "4cebb7af-36f0-4714-aa2d-111092f51c04"
      },
      "execution_count": 13,
      "outputs": [
        {
          "output_type": "stream",
          "name": "stderr",
          "text": [
            "<ipython-input-13-ffaff8709537>:3: FutureWarning: The series.append method is deprecated and will be removed from pandas in a future version. Use pandas.concat instead.\n",
            "  ds_all = ds_cantidad_TieneEA_EA1.append(ds_cantidad_EA2)\n",
            "<ipython-input-13-ffaff8709537>:5: FutureWarning: The series.append method is deprecated and will be removed from pandas in a future version. Use pandas.concat instead.\n",
            "  ds_all = ds_all.append(ds_cantidad_EA3)\n",
            "<ipython-input-13-ffaff8709537>:7: FutureWarning: The series.append method is deprecated and will be removed from pandas in a future version. Use pandas.concat instead.\n",
            "  ds_all = ds_all.append(ds_cantidad_EA4)\n",
            "<ipython-input-13-ffaff8709537>:9: FutureWarning: The series.append method is deprecated and will be removed from pandas in a future version. Use pandas.concat instead.\n",
            "  ds_all = ds_all.append(ds_cantidad_EA5)\n",
            "<ipython-input-13-ffaff8709537>:11: FutureWarning: The series.append method is deprecated and will be removed from pandas in a future version. Use pandas.concat instead.\n",
            "  ds_all = ds_all.append(ds_cantidad_EA6)\n",
            "<ipython-input-13-ffaff8709537>:13: FutureWarning: The series.append method is deprecated and will be removed from pandas in a future version. Use pandas.concat instead.\n",
            "  ds_all = ds_all.append(ds_cantidad_EA7)\n",
            "<ipython-input-13-ffaff8709537>:15: FutureWarning: The series.append method is deprecated and will be removed from pandas in a future version. Use pandas.concat instead.\n",
            "  ds_all = ds_all.append(ds_cantidad_EA8)\n",
            "<ipython-input-13-ffaff8709537>:17: FutureWarning: The series.append method is deprecated and will be removed from pandas in a future version. Use pandas.concat instead.\n",
            "  ds_all = ds_all.append(ds_cantidad_EA9)\n"
          ]
        },
        {
          "output_type": "execute_result",
          "data": {
            "text/plain": [
              "eas       789\n",
              "counts    789\n",
              "dtype: int64"
            ]
          },
          "metadata": {},
          "execution_count": 13
        }
      ]
    },
    {
      "cell_type": "code",
      "source": [
        "df_cantidad.plot(x='eas', y='counts', kind='line')\t"
      ],
      "metadata": {
        "colab": {
          "base_uri": "https://localhost:8080/",
          "height": 297
        },
        "id": "sG2y6n_mmTrU",
        "outputId": "b5f341f9-c765-4224-b546-f6751f6bcecd"
      },
      "execution_count": 14,
      "outputs": [
        {
          "output_type": "execute_result",
          "data": {
            "text/plain": [
              "<Axes: xlabel='eas'>"
            ]
          },
          "metadata": {},
          "execution_count": 14
        },
        {
          "output_type": "display_data",
          "data": {
            "text/plain": [
              "<Figure size 432x288 with 1 Axes>"
            ],
            "image/png": "[encoded data removed]"
          },
          "metadata": {
            "needs_background": "light"
          }
        }
      ]
    },
    {
      "cell_type": "code",
      "source": [
        "df_cantidad_con_EAs = df_cantidad.query(\"eas != 'NONE'\")\n",
        "df_cantidad_con_EAs.plot(x='eas', y='counts', kind='line')\t"
      ],
      "metadata": {
        "colab": {
          "base_uri": "https://localhost:8080/",
          "height": 297
        },
        "id": "g-uruv8VenZa",
        "outputId": "fa0f546c-3514-4e20-fab3-653df71515a3"
      },
      "execution_count": 15,
      "outputs": [
        {
          "output_type": "execute_result",
          "data": {
            "text/plain": [
              "<Axes: xlabel='eas'>"
            ]
          },
          "metadata": {},
          "execution_count": 15
        },
        {
          "output_type": "display_data",
          "data": {
            "text/plain": [
              "<Figure size 432x288 with 1 Axes>"
            ],
            "image/png": "[encoded data removed]"
          },
          "metadata": {
            "needs_background": "light"
          }
        }
      ]
    },
    {
      "cell_type": "markdown",
      "source": [
        "**Estadísticas de EAs**"
      ],
      "metadata": {
        "id": "Al1Os1_ZgX1l"
      }
    },
    {
      "cell_type": "code",
      "source": [
        "num_actos_clinicos = df_goldStandardTrainingEAs.Acto.count()\n",
        "num_actos_clinicos_sin_EA = df_goldStandardTrainingEAs.query(\"TieneEA_EA1 == 'NONE'\").TieneEA_EA1.count()\n",
        "num_actos_clinicos_con_EA = num_actos_clinicos - num_actos_clinicos_sin_EA\n",
        "num_eas_con_caso_clinico = df_cantidad.query(\"eas != 'NONE'\")[\"eas\"].nunique()\n",
        "\n",
        "print(\"Actos clínicos: %s\" % num_actos_clinicos)\n",
        "print(\"Número de actos clínicos sin EA: %s, un %s%%\" % (num_actos_clinicos_sin_EA, round(num_actos_clinicos_sin_EA/num_actos_clinicos*100, 0)))\n",
        "print(\"Número de actos clínicos con EA: %s, un %s%%\" % (num_actos_clinicos_con_EA, round(num_actos_clinicos_con_EA/num_actos_clinicos*100, 0)))\n",
        "print(\"EAs diferentes encontrados en los actos clínicos: %s\" % num_eas_con_caso_clinico)\n",
        "print(\"\")\n",
        "print(\"Los 10 códigos CIE más populares:\")\n",
        "\n",
        "df_cantidad.query(\"eas != 'NONE'\").head(10)"
      ],
      "metadata": {
        "colab": {
          "base_uri": "https://localhost:8080/",
          "height": 470
        },
        "id": "QWD8ctz7q65u",
        "outputId": "f70e4551-cb1e-439c-ac55-97187615977f"
      },
      "execution_count": 17,
      "outputs": [
        {
          "output_type": "stream",
          "name": "stdout",
          "text": [
            "Actos clínicos: 14502\n",
            "Número de actos clínicos sin EA: 12181, un 84.0%\n",
            "Número de actos clínicos con EA: 2321, un 16.0%\n",
            "EAs diferentes encontrados en los actos clínicos: 484\n",
            "\n",
            "Los 10 códigos CIE más populares:\n"
          ]
        },
        {
          "output_type": "execute_result",
          "data": {
            "text/plain": [
              "         eas  counts\n",
              "1   T38.0X5A     104\n",
              "2   T45.515A      98\n",
              "3   T50.2X5A      96\n",
              "4        Y95      91\n",
              "5      P01.1      90\n",
              "6   T81.4XXA      89\n",
              "7   T45.1X5A      72\n",
              "8      Y83.1      71\n",
              "9      O75.2      52\n",
              "10     E89.0      49"
            ],
            "text/html": [
              "\n",
              "  <div id=\"df-d468ab13-ab45-41b2-829e-4fddbc9e46da\">\n",
              "    <div class=\"colab-df-container\">\n",
              "      <div>\n",
              "<style scoped>\n",
              "    .dataframe tbody tr th:only-of-type {\n",
              "        vertical-align: middle;\n",
              "    }\n",
              "\n",
              "    .dataframe tbody tr th {\n",
              "        vertical-align: top;\n",
              "    }\n",
              "\n",
              "    .dataframe thead th {\n",
              "        text-align: right;\n",
              "    }\n",
              "</style>\n",
              "<table border=\"1\" class=\"dataframe\">\n",
              "  <thead>\n",
              "    <tr style=\"text-align: right;\">\n",
              "      <th></th>\n",
              "      <th>eas</th>\n",
              "      <th>counts</th>\n",
              "    </tr>\n",
              "  </thead>\n",
              "  <tbody>\n",
              "    <tr>\n",
              "      <th>1</th>\n",
              "      <td>T38.0X5A</td>\n",
              "      <td>104</td>\n",
              "    </tr>\n",
              "    <tr>\n",
              "      <th>2</th>\n",
              "      <td>T45.515A</td>\n",
              "      <td>98</td>\n",
              "    </tr>\n",
              "    <tr>\n",
              "      <th>3</th>\n",
              "      <td>T50.2X5A</td>\n",
              "      <td>96</td>\n",
              "    </tr>\n",
              "    <tr>\n",
              "      <th>4</th>\n",
              "      <td>Y95</td>\n",
              "      <td>91</td>\n",
              "    </tr>\n",
              "    <tr>\n",
              "      <th>5</th>\n",
              "      <td>P01.1</td>\n",
              "      <td>90</td>\n",
              "    </tr>\n",
              "    <tr>\n",
              "      <th>6</th>\n",
              "      <td>T81.4XXA</td>\n",
              "      <td>89</td>\n",
              "    </tr>\n",
              "    <tr>\n",
              "      <th>7</th>\n",
              "      <td>T45.1X5A</td>\n",
              "      <td>72</td>\n",
              "    </tr>\n",
              "    <tr>\n",
              "      <th>8</th>\n",
              "      <td>Y83.1</td>\n",
              "      <td>71</td>\n",
              "    </tr>\n",
              "    <tr>\n",
              "      <th>9</th>\n",
              "      <td>O75.2</td>\n",
              "      <td>52</td>\n",
              "    </tr>\n",
              "    <tr>\n",
              "      <th>10</th>\n",
              "      <td>E89.0</td>\n",
              "      <td>49</td>\n",
              "    </tr>\n",
              "  </tbody>\n",
              "</table>\n",
              "</div>\n",
              "      <button class=\"colab-df-convert\" onclick=\"convertToInteractive('df-d468ab13-ab45-41b2-829e-4fddbc9e46da')\"\n",
              "              title=\"Convert this dataframe to an interactive table.\"\n",
              "              style=\"display:none;\">\n",
              "        \n",
              "  <svg xmlns=\"http://www.w3.org/2000/svg\" height=\"24px\"viewBox=\"0 0 24 24\"\n",
              "       width=\"24px\">\n",
              "    <path d=\"M0 0h24v24H0V0z\" fill=\"none\"/>\n",
              "    <path d=\"M18.56 5.44l.94 2.06.94-2.06 2.06-.94-2.06-.94-.94-2.06-.94 2.06-2.06.94zm-11 1L8.5 8.5l.94-2.06 2.06-.94-2.06-.94L8.5 2.5l-.94 2.06-2.06.94zm10 10l.94 2.06.94-2.06 2.06-.94-2.06-.94-.94-2.06-.94 2.06-2.06.94z\"/><path d=\"M17.41 7.96l-1.37-1.37c-.4-.4-.92-.59-1.43-.59-.52 0-1.04.2-1.43.59L10.3 9.45l-7.72 7.72c-.78.78-.78 2.05 0 2.83L4 21.41c.39.39.9.59 1.41.59.51 0 1.02-.2 1.41-.59l7.78-7.78 2.81-2.81c.8-.78.8-2.07 0-2.86zM5.41 20L4 18.59l7.72-7.72 1.47 1.35L5.41 20z\"/>\n",
              "  </svg>\n",
              "      </button>\n",
              "      \n",
              "  <style>\n",
              "    .colab-df-container {\n",
              "      display:flex;\n",
              "      flex-wrap:wrap;\n",
              "      gap: 12px;\n",
              "    }\n",
              "\n",
              "    .colab-df-convert {\n",
              "      background-color: #E8F0FE;\n",
              "      border: none;\n",
              "      border-radius: 50%;\n",
              "      cursor: pointer;\n",
              "      display: none;\n",
              "      fill: #1967D2;\n",
              "      height: 32px;\n",
              "      padding: 0 0 0 0;\n",
              "      width: 32px;\n",
              "    }\n",
              "\n",
              "    .colab-df-convert:hover {\n",
              "      background-color: #E2EBFA;\n",
              "      box-shadow: 0px 1px 2px rgba(60, 64, 67, 0.3), 0px 1px 3px 1px rgba(60, 64, 67, 0.15);\n",
              "      fill: #174EA6;\n",
              "    }\n",
              "\n",
              "    [theme=dark] .colab-df-convert {\n",
              "      background-color: #3B4455;\n",
              "      fill: #D2E3FC;\n",
              "    }\n",
              "\n",
              "    [theme=dark] .colab-df-convert:hover {\n",
              "      background-color: #434B5C;\n",
              "      box-shadow: 0px 1px 3px 1px rgba(0, 0, 0, 0.15);\n",
              "      filter: drop-shadow(0px 1px 2px rgba(0, 0, 0, 0.3));\n",
              "      fill: #FFFFFF;\n",
              "    }\n",
              "  </style>\n",
              "\n",
              "      <script>\n",
              "        const buttonEl =\n",
              "          document.querySelector('#df-d468ab13-ab45-41b2-829e-4fddbc9e46da button.colab-df-convert');\n",
              "        buttonEl.style.display =\n",
              "          google.colab.kernel.accessAllowed ? 'block' : 'none';\n",
              "\n",
              "        async function convertToInteractive(key) {\n",
              "          const element = document.querySelector('#df-d468ab13-ab45-41b2-829e-4fddbc9e46da');\n",
              "          const dataTable =\n",
              "            await google.colab.kernel.invokeFunction('convertToInteractive',\n",
              "                                                     [key], {});\n",
              "          if (!dataTable) return;\n",
              "\n",
              "          const docLinkHtml = 'Like what you see? Visit the ' +\n",
              "            '<a target=\"_blank\" href=https://colab.research.google.com/notebooks/data_table.ipynb>data table notebook</a>'\n",
              "            + ' to learn more about interactive tables.';\n",
              "          element.innerHTML = '';\n",
              "          dataTable['output_type'] = 'display_data';\n",
              "          await google.colab.output.renderOutput(dataTable, element);\n",
              "          const docLink = document.createElement('div');\n",
              "          docLink.innerHTML = docLinkHtml;\n",
              "          element.appendChild(docLink);\n",
              "        }\n",
              "      </script>\n",
              "    </div>\n",
              "  </div>\n",
              "  "
            ]
          },
          "metadata": {},
          "execution_count": 17
        }
      ]
    },
    {
      "cell_type": "markdown",
      "source": [
        "#EAs disponibles\n",
        "\n",
        "Se han identificado 4 tipos:\n",
        "* *MED*: efectos adversos a medicamentos, vacunas o similar.\n",
        "* *PROC*: complicaciones en procedimientos (por ej. cirugías).\n",
        "* *DISP*: fallos en dispositivos médicos.\n",
        "* *INF*: infecciones, ya sean nosocomiales o durante un tratamiento médico."
      ],
      "metadata": {
        "id": "Mo55AcVTh31L"
      }
    },
    {
      "cell_type": "markdown",
      "source": [
        "Carga del archivo de texto EAs.txt en un data set"
      ],
      "metadata": {
        "id": "-Zm27TYxiyb7"
      }
    },
    {
      "cell_type": "code",
      "source": [
        "df_EAs = pd.read_csv(EAs_data_location, sep='-', header=None, names=[\"Code\", \"Tipo\"])\n",
        "df_EAs['Code'] = df_EAs['Code'].str.strip()"
      ],
      "metadata": {
        "id": "ODOROT2yiI0j"
      },
      "execution_count": 18,
      "outputs": []
    },
    {
      "cell_type": "markdown",
      "source": [
        "Consulta la cantidad de datos"
      ],
      "metadata": {
        "id": "bEF_aG3ei1Tb"
      }
    },
    {
      "cell_type": "code",
      "source": [
        "df_EAs.count()"
      ],
      "metadata": {
        "colab": {
          "base_uri": "https://localhost:8080/"
        },
        "id": "sT9gcpAZi7J_",
        "outputId": "65ba828b-84c3-4ada-9e62-c89448d42d01"
      },
      "execution_count": 19,
      "outputs": [
        {
          "output_type": "execute_result",
          "data": {
            "text/plain": [
              "Code    594\n",
              "Tipo    594\n",
              "dtype: int64"
            ]
          },
          "metadata": {},
          "execution_count": 19
        }
      ]
    },
    {
      "cell_type": "markdown",
      "source": [
        "Consulta de las primeras filas del data set"
      ],
      "metadata": {
        "id": "ntYIcxXOjJrH"
      }
    },
    {
      "cell_type": "code",
      "source": [
        "df_EAs.head()"
      ],
      "metadata": {
        "colab": {
          "base_uri": "https://localhost:8080/",
          "height": 206
        },
        "id": "LYgG477_jNBR",
        "outputId": "11e8b02f-1899-4642-a846-7212b01add45"
      },
      "execution_count": 20,
      "outputs": [
        {
          "output_type": "execute_result",
          "data": {
            "text/plain": [
              "    Code  Tipo\n",
              "0  A80.0   MED\n",
              "1  D52.1   MED\n",
              "2  D59.0   MED\n",
              "3  D59.2   MED\n",
              "4  D61.1   MED"
            ],
            "text/html": [
              "\n",
              "  <div id=\"df-6d288543-9194-44ff-b9ac-f20e9b81c2ef\">\n",
              "    <div class=\"colab-df-container\">\n",
              "      <div>\n",
              "<style scoped>\n",
              "    .dataframe tbody tr th:only-of-type {\n",
              "        vertical-align: middle;\n",
              "    }\n",
              "\n",
              "    .dataframe tbody tr th {\n",
              "        vertical-align: top;\n",
              "    }\n",
              "\n",
              "    .dataframe thead th {\n",
              "        text-align: right;\n",
              "    }\n",
              "</style>\n",
              "<table border=\"1\" class=\"dataframe\">\n",
              "  <thead>\n",
              "    <tr style=\"text-align: right;\">\n",
              "      <th></th>\n",
              "      <th>Code</th>\n",
              "      <th>Tipo</th>\n",
              "    </tr>\n",
              "  </thead>\n",
              "  <tbody>\n",
              "    <tr>\n",
              "      <th>0</th>\n",
              "      <td>A80.0</td>\n",
              "      <td>MED</td>\n",
              "    </tr>\n",
              "    <tr>\n",
              "      <th>1</th>\n",
              "      <td>D52.1</td>\n",
              "      <td>MED</td>\n",
              "    </tr>\n",
              "    <tr>\n",
              "      <th>2</th>\n",
              "      <td>D59.0</td>\n",
              "      <td>MED</td>\n",
              "    </tr>\n",
              "    <tr>\n",
              "      <th>3</th>\n",
              "      <td>D59.2</td>\n",
              "      <td>MED</td>\n",
              "    </tr>\n",
              "    <tr>\n",
              "      <th>4</th>\n",
              "      <td>D61.1</td>\n",
              "      <td>MED</td>\n",
              "    </tr>\n",
              "  </tbody>\n",
              "</table>\n",
              "</div>\n",
              "      <button class=\"colab-df-convert\" onclick=\"convertToInteractive('df-6d288543-9194-44ff-b9ac-f20e9b81c2ef')\"\n",
              "              title=\"Convert this dataframe to an interactive table.\"\n",
              "              style=\"display:none;\">\n",
              "        \n",
              "  <svg xmlns=\"http://www.w3.org/2000/svg\" height=\"24px\"viewBox=\"0 0 24 24\"\n",
              "       width=\"24px\">\n",
              "    <path d=\"M0 0h24v24H0V0z\" fill=\"none\"/>\n",
              "    <path d=\"M18.56 5.44l.94 2.06.94-2.06 2.06-.94-2.06-.94-.94-2.06-.94 2.06-2.06.94zm-11 1L8.5 8.5l.94-2.06 2.06-.94-2.06-.94L8.5 2.5l-.94 2.06-2.06.94zm10 10l.94 2.06.94-2.06 2.06-.94-2.06-.94-.94-2.06-.94 2.06-2.06.94z\"/><path d=\"M17.41 7.96l-1.37-1.37c-.4-.4-.92-.59-1.43-.59-.52 0-1.04.2-1.43.59L10.3 9.45l-7.72 7.72c-.78.78-.78 2.05 0 2.83L4 21.41c.39.39.9.59 1.41.59.51 0 1.02-.2 1.41-.59l7.78-7.78 2.81-2.81c.8-.78.8-2.07 0-2.86zM5.41 20L4 18.59l7.72-7.72 1.47 1.35L5.41 20z\"/>\n",
              "  </svg>\n",
              "      </button>\n",
              "      \n",
              "  <style>\n",
              "    .colab-df-container {\n",
              "      display:flex;\n",
              "      flex-wrap:wrap;\n",
              "      gap: 12px;\n",
              "    }\n",
              "\n",
              "    .colab-df-convert {\n",
              "      background-color: #E8F0FE;\n",
              "      border: none;\n",
              "      border-radius: 50%;\n",
              "      cursor: pointer;\n",
              "      display: none;\n",
              "      fill: #1967D2;\n",
              "      height: 32px;\n",
              "      padding: 0 0 0 0;\n",
              "      width: 32px;\n",
              "    }\n",
              "\n",
              "    .colab-df-convert:hover {\n",
              "      background-color: #E2EBFA;\n",
              "      box-shadow: 0px 1px 2px rgba(60, 64, 67, 0.3), 0px 1px 3px 1px rgba(60, 64, 67, 0.15);\n",
              "      fill: #174EA6;\n",
              "    }\n",
              "\n",
              "    [theme=dark] .colab-df-convert {\n",
              "      background-color: #3B4455;\n",
              "      fill: #D2E3FC;\n",
              "    }\n",
              "\n",
              "    [theme=dark] .colab-df-convert:hover {\n",
              "      background-color: #434B5C;\n",
              "      box-shadow: 0px 1px 3px 1px rgba(0, 0, 0, 0.15);\n",
              "      filter: drop-shadow(0px 1px 2px rgba(0, 0, 0, 0.3));\n",
              "      fill: #FFFFFF;\n",
              "    }\n",
              "  </style>\n",
              "\n",
              "      <script>\n",
              "        const buttonEl =\n",
              "          document.querySelector('#df-6d288543-9194-44ff-b9ac-f20e9b81c2ef button.colab-df-convert');\n",
              "        buttonEl.style.display =\n",
              "          google.colab.kernel.accessAllowed ? 'block' : 'none';\n",
              "\n",
              "        async function convertToInteractive(key) {\n",
              "          const element = document.querySelector('#df-6d288543-9194-44ff-b9ac-f20e9b81c2ef');\n",
              "          const dataTable =\n",
              "            await google.colab.kernel.invokeFunction('convertToInteractive',\n",
              "                                                     [key], {});\n",
              "          if (!dataTable) return;\n",
              "\n",
              "          const docLinkHtml = 'Like what you see? Visit the ' +\n",
              "            '<a target=\"_blank\" href=https://colab.research.google.com/notebooks/data_table.ipynb>data table notebook</a>'\n",
              "            + ' to learn more about interactive tables.';\n",
              "          element.innerHTML = '';\n",
              "          dataTable['output_type'] = 'display_data';\n",
              "          await google.colab.output.renderOutput(dataTable, element);\n",
              "          const docLink = document.createElement('div');\n",
              "          docLink.innerHTML = docLinkHtml;\n",
              "          element.appendChild(docLink);\n",
              "        }\n",
              "      </script>\n",
              "    </div>\n",
              "  </div>\n",
              "  "
            ]
          },
          "metadata": {},
          "execution_count": 20
        }
      ]
    },
    {
      "cell_type": "markdown",
      "source": [
        "Cantidad de EAs por tipo"
      ],
      "metadata": {
        "id": "uUpS_RWPlxMs"
      }
    },
    {
      "cell_type": "code",
      "source": [
        "df_EAs.Tipo.value_counts()"
      ],
      "metadata": {
        "colab": {
          "base_uri": "https://localhost:8080/"
        },
        "id": "0AGbE0-GlCq6",
        "outputId": "6572a387-f8f8-4e7a-9e02-5847e0e518e6"
      },
      "execution_count": 21,
      "outputs": [
        {
          "output_type": "execute_result",
          "data": {
            "text/plain": [
              " MED              238\n",
              " PROC             225\n",
              " PROC DISP         60\n",
              " PROC INF          47\n",
              " PROC MED          11\n",
              " PROC DISP INF      9\n",
              " MED PROC           2\n",
              " PROC MED INF       1\n",
              " INF                1\n",
              "Name: Tipo, dtype: int64"
            ]
          },
          "metadata": {},
          "execution_count": 21
        }
      ]
    },
    {
      "cell_type": "markdown",
      "source": [
        "Relación entre EAs totales frente a los EAs con ejemplos disponibles"
      ],
      "metadata": {
        "id": "lLdqHX-LuoAT"
      }
    },
    {
      "cell_type": "code",
      "source": [
        "num_eas_totales = df_EAs[\"Code\"].nunique()\n",
        "rel_eas = round(num_eas_con_caso_clinico/num_eas_totales*100,2)\n",
        "print(\"EAs totales: %s\" % num_eas_totales)\n",
        "print(\"EAs con representanción en caso clínico: %s\" % num_eas_con_caso_clinico)\n",
        "print(\"El %s%% de los EAs se dan en al menos un caso clínico.\" % rel_eas)"
      ],
      "metadata": {
        "colab": {
          "base_uri": "https://localhost:8080/"
        },
        "id": "H4Y65Qzgu22P",
        "outputId": "f6bb0fe6-c1b8-4649-fb9f-02bd16db9636"
      },
      "execution_count": 22,
      "outputs": [
        {
          "output_type": "stream",
          "name": "stdout",
          "text": [
            "EAs totales: 594\n",
            "EAs con representanción en caso clínico: 484\n",
            "El 81.48% de los EAs se dan en al menos un caso clínico.\n"
          ]
        }
      ]
    },
    {
      "cell_type": "markdown",
      "source": [
        "#Definición del CIE10"
      ],
      "metadata": {
        "id": "i5RmDtlxzrCu"
      }
    },
    {
      "cell_type": "markdown",
      "source": [
        "Carga del archivo de texto CIE-10.tsv en un data set"
      ],
      "metadata": {
        "id": "Max0fzdW3KrT"
      }
    },
    {
      "cell_type": "code",
      "source": [
        "df_CIE10 = pd.read_csv(CIE10_data_location, sep='\\t', header=(0), low_memory=False)\n",
        "df_CIE10.info()"
      ],
      "metadata": {
        "colab": {
          "base_uri": "https://localhost:8080/"
        },
        "id": "afwHjwJ31UqY",
        "outputId": "790f52e2-ed52-4eb3-ba56-5b05e89c9560"
      },
      "execution_count": 23,
      "outputs": [
        {
          "output_type": "stream",
          "name": "stdout",
          "text": [
            "<class 'pandas.core.frame.DataFrame'>\n",
            "RangeIndex: 164656 entries, 0 to 164655\n",
            "Data columns (total 23 columns):\n",
            " #   Column              Non-Null Count   Dtype \n",
            "---  ------              --------------   ----- \n",
            " 0   Tipo                164656 non-null  object\n",
            " 1   Code                164656 non-null  object\n",
            " 2   Final               164656 non-null  int64 \n",
            " 3   Length              164656 non-null  int64 \n",
            " 4   Description         164656 non-null  object\n",
            " 5   Add7                571 non-null     object\n",
            " 6   Other description   23422 non-null   object\n",
            " 7   First               293 non-null     object\n",
            " 8   Also                146 non-null     object\n",
            " 9   Additional          679 non-null     object\n",
            " 10  Include             377 non-null     object\n",
            " 11  Exclude 1           2534 non-null    object\n",
            " 12  Exclude 2           899 non-null     object\n",
            " 13  Note                53 non-null      object\n",
            " 14  Parent Description  80343 non-null   object\n",
            " 15  Parent Add7         54165 non-null   object\n",
            " 16  Parent First        5624 non-null    object\n",
            " 17  Parent Also         16218 non-null   object\n",
            " 18  Parent Additional   9550 non-null    object\n",
            " 19  Parent Include      18506 non-null   object\n",
            " 20  Parent Exclude 1    43587 non-null   object\n",
            " 21  Parent Exclude 2    43150 non-null   object\n",
            " 22  Parent Note         16181 non-null   object\n",
            "dtypes: int64(2), object(21)\n",
            "memory usage: 28.9+ MB\n"
          ]
        }
      ]
    },
    {
      "cell_type": "markdown",
      "source": [
        "Consulta de las primeras filas del data set"
      ],
      "metadata": {
        "id": "L8yuxVLr3TUV"
      }
    },
    {
      "cell_type": "code",
      "source": [
        "df_CIE10.head()"
      ],
      "metadata": {
        "colab": {
          "base_uri": "https://localhost:8080/",
          "height": 577
        },
        "id": "YsuLO4F53UEB",
        "outputId": "3c422ed9-a6c9-4ee4-81d6-2b79cfaee757"
      },
      "execution_count": 24,
      "outputs": [
        {
          "output_type": "execute_result",
          "data": {
            "text/plain": [
              "          Tipo   Code  Final  Length  \\\n",
              "0  diagnóstico    A00      0       3   \n",
              "1  diagnóstico  A00.0      1       4   \n",
              "2  diagnóstico  A00.1      1       4   \n",
              "3  diagnóstico  A00.9      1       4   \n",
              "4  diagnóstico    A01      0       3   \n",
              "\n",
              "                                         Description Add7  \\\n",
              "0                                             Cólera  NaN   \n",
              "1  Cólera debido a Vibrio cholerae 01, biotipo ch...  NaN   \n",
              "2  Cólera debido a Vibrio cholerae 01, biotipo El...  NaN   \n",
              "3                            Cólera, no especificado  NaN   \n",
              "4                    Fiebres tifoidea y paratifoidea  NaN   \n",
              "\n",
              "                                   Other description First Also Additional  \\\n",
              "0                                                NaN   NaN  NaN        NaN   \n",
              "1  Cólera, clásica  / Cólera, debida a Vibrio cho...   NaN  NaN        NaN   \n",
              "2  Cólera, debida a Vibrio cholerae, biovar eltor...   NaN  NaN        NaN   \n",
              "3  Cólera (Asiática) (epidémica) (maligna) / Cóle...   NaN  NaN        NaN   \n",
              "4                                                NaN   NaN  NaN        NaN   \n",
              "\n",
              "   ... Note Parent Description Parent Add7 Parent First Parent Also  \\\n",
              "0  ...  NaN                NaN         NaN          NaN         NaN   \n",
              "1  ...  NaN             Cólera         NaN          NaN         NaN   \n",
              "2  ...  NaN             Cólera         NaN          NaN         NaN   \n",
              "3  ...  NaN             Cólera         NaN          NaN         NaN   \n",
              "4  ...  NaN                NaN         NaN          NaN         NaN   \n",
              "\n",
              "  Parent Additional Parent Include Parent Exclude 1 Parent Exclude 2  \\\n",
              "0               NaN            NaN              NaN              NaN   \n",
              "1               NaN            NaN              NaN              NaN   \n",
              "2               NaN            NaN              NaN              NaN   \n",
              "3               NaN            NaN              NaN              NaN   \n",
              "4               NaN            NaN              NaN              NaN   \n",
              "\n",
              "  Parent Note  \n",
              "0         NaN  \n",
              "1         NaN  \n",
              "2         NaN  \n",
              "3         NaN  \n",
              "4         NaN  \n",
              "\n",
              "[5 rows x 23 columns]"
            ],
            "text/html": [
              "\n",
              "  <div id=\"df-b9a05178-e014-4a66-a321-8126bd12da47\">\n",
              "    <div class=\"colab-df-container\">\n",
              "      <div>\n",
              "<style scoped>\n",
              "    .dataframe tbody tr th:only-of-type {\n",
              "        vertical-align: middle;\n",
              "    }\n",
              "\n",
              "    .dataframe tbody tr th {\n",
              "        vertical-align: top;\n",
              "    }\n",
              "\n",
              "    .dataframe thead th {\n",
              "        text-align: right;\n",
              "    }\n",
              "</style>\n",
              "<table border=\"1\" class=\"dataframe\">\n",
              "  <thead>\n",
              "    <tr style=\"text-align: right;\">\n",
              "      <th></th>\n",
              "      <th>Tipo</th>\n",
              "      <th>Code</th>\n",
              "      <th>Final</th>\n",
              "      <th>Length</th>\n",
              "      <th>Description</th>\n",
              "      <th>Add7</th>\n",
              "      <th>Other description</th>\n",
              "      <th>First</th>\n",
              "      <th>Also</th>\n",
              "      <th>Additional</th>\n",
              "      <th>...</th>\n",
              "      <th>Note</th>\n",
              "      <th>Parent Description</th>\n",
              "      <th>Parent Add7</th>\n",
              "      <th>Parent First</th>\n",
              "      <th>Parent Also</th>\n",
              "      <th>Parent Additional</th>\n",
              "      <th>Parent Include</th>\n",
              "      <th>Parent Exclude 1</th>\n",
              "      <th>Parent Exclude 2</th>\n",
              "      <th>Parent Note</th>\n",
              "    </tr>\n",
              "  </thead>\n",
              "  <tbody>\n",
              "    <tr>\n",
              "      <th>0</th>\n",
              "      <td>diagnóstico</td>\n",
              "      <td>A00</td>\n",
              "      <td>0</td>\n",
              "      <td>3</td>\n",
              "      <td>Cólera</td>\n",
              "      <td>NaN</td>\n",
              "      <td>NaN</td>\n",
              "      <td>NaN</td>\n",
              "      <td>NaN</td>\n",
              "      <td>NaN</td>\n",
              "      <td>...</td>\n",
              "      <td>NaN</td>\n",
              "      <td>NaN</td>\n",
              "      <td>NaN</td>\n",
              "      <td>NaN</td>\n",
              "      <td>NaN</td>\n",
              "      <td>NaN</td>\n",
              "      <td>NaN</td>\n",
              "      <td>NaN</td>\n",
              "      <td>NaN</td>\n",
              "      <td>NaN</td>\n",
              "    </tr>\n",
              "    <tr>\n",
              "      <th>1</th>\n",
              "      <td>diagnóstico</td>\n",
              "      <td>A00.0</td>\n",
              "      <td>1</td>\n",
              "      <td>4</td>\n",
              "      <td>Cólera debido a Vibrio cholerae 01, biotipo ch...</td>\n",
              "      <td>NaN</td>\n",
              "      <td>Cólera, clásica  / Cólera, debida a Vibrio cho...</td>\n",
              "      <td>NaN</td>\n",
              "      <td>NaN</td>\n",
              "      <td>NaN</td>\n",
              "      <td>...</td>\n",
              "      <td>NaN</td>\n",
              "      <td>Cólera</td>\n",
              "      <td>NaN</td>\n",
              "      <td>NaN</td>\n",
              "      <td>NaN</td>\n",
              "      <td>NaN</td>\n",
              "      <td>NaN</td>\n",
              "      <td>NaN</td>\n",
              "      <td>NaN</td>\n",
              "      <td>NaN</td>\n",
              "    </tr>\n",
              "    <tr>\n",
              "      <th>2</th>\n",
              "      <td>diagnóstico</td>\n",
              "      <td>A00.1</td>\n",
              "      <td>1</td>\n",
              "      <td>4</td>\n",
              "      <td>Cólera debido a Vibrio cholerae 01, biotipo El...</td>\n",
              "      <td>NaN</td>\n",
              "      <td>Cólera, debida a Vibrio cholerae, biovar eltor...</td>\n",
              "      <td>NaN</td>\n",
              "      <td>NaN</td>\n",
              "      <td>NaN</td>\n",
              "      <td>...</td>\n",
              "      <td>NaN</td>\n",
              "      <td>Cólera</td>\n",
              "      <td>NaN</td>\n",
              "      <td>NaN</td>\n",
              "      <td>NaN</td>\n",
              "      <td>NaN</td>\n",
              "      <td>NaN</td>\n",
              "      <td>NaN</td>\n",
              "      <td>NaN</td>\n",
              "      <td>NaN</td>\n",
              "    </tr>\n",
              "    <tr>\n",
              "      <th>3</th>\n",
              "      <td>diagnóstico</td>\n",
              "      <td>A00.9</td>\n",
              "      <td>1</td>\n",
              "      <td>4</td>\n",
              "      <td>Cólera, no especificado</td>\n",
              "      <td>NaN</td>\n",
              "      <td>Cólera (Asiática) (epidémica) (maligna) / Cóle...</td>\n",
              "      <td>NaN</td>\n",
              "      <td>NaN</td>\n",
              "      <td>NaN</td>\n",
              "      <td>...</td>\n",
              "      <td>NaN</td>\n",
              "      <td>Cólera</td>\n",
              "      <td>NaN</td>\n",
              "      <td>NaN</td>\n",
              "      <td>NaN</td>\n",
              "      <td>NaN</td>\n",
              "      <td>NaN</td>\n",
              "      <td>NaN</td>\n",
              "      <td>NaN</td>\n",
              "      <td>NaN</td>\n",
              "    </tr>\n",
              "    <tr>\n",
              "      <th>4</th>\n",
              "      <td>diagnóstico</td>\n",
              "      <td>A01</td>\n",
              "      <td>0</td>\n",
              "      <td>3</td>\n",
              "      <td>Fiebres tifoidea y paratifoidea</td>\n",
              "      <td>NaN</td>\n",
              "      <td>NaN</td>\n",
              "      <td>NaN</td>\n",
              "      <td>NaN</td>\n",
              "      <td>NaN</td>\n",
              "      <td>...</td>\n",
              "      <td>NaN</td>\n",
              "      <td>NaN</td>\n",
              "      <td>NaN</td>\n",
              "      <td>NaN</td>\n",
              "      <td>NaN</td>\n",
              "      <td>NaN</td>\n",
              "      <td>NaN</td>\n",
              "      <td>NaN</td>\n",
              "      <td>NaN</td>\n",
              "      <td>NaN</td>\n",
              "    </tr>\n",
              "  </tbody>\n",
              "</table>\n",
              "<p>5 rows × 23 columns</p>\n",
              "</div>\n",
              "      <button class=\"colab-df-convert\" onclick=\"convertToInteractive('df-b9a05178-e014-4a66-a321-8126bd12da47')\"\n",
              "              title=\"Convert this dataframe to an interactive table.\"\n",
              "              style=\"display:none;\">\n",
              "        \n",
              "  <svg xmlns=\"http://www.w3.org/2000/svg\" height=\"24px\"viewBox=\"0 0 24 24\"\n",
              "       width=\"24px\">\n",
              "    <path d=\"M0 0h24v24H0V0z\" fill=\"none\"/>\n",
              "    <path d=\"M18.56 5.44l.94 2.06.94-2.06 2.06-.94-2.06-.94-.94-2.06-.94 2.06-2.06.94zm-11 1L8.5 8.5l.94-2.06 2.06-.94-2.06-.94L8.5 2.5l-.94 2.06-2.06.94zm10 10l.94 2.06.94-2.06 2.06-.94-2.06-.94-.94-2.06-.94 2.06-2.06.94z\"/><path d=\"M17.41 7.96l-1.37-1.37c-.4-.4-.92-.59-1.43-.59-.52 0-1.04.2-1.43.59L10.3 9.45l-7.72 7.72c-.78.78-.78 2.05 0 2.83L4 21.41c.39.39.9.59 1.41.59.51 0 1.02-.2 1.41-.59l7.78-7.78 2.81-2.81c.8-.78.8-2.07 0-2.86zM5.41 20L4 18.59l7.72-7.72 1.47 1.35L5.41 20z\"/>\n",
              "  </svg>\n",
              "      </button>\n",
              "      \n",
              "  <style>\n",
              "    .colab-df-container {\n",
              "      display:flex;\n",
              "      flex-wrap:wrap;\n",
              "      gap: 12px;\n",
              "    }\n",
              "\n",
              "    .colab-df-convert {\n",
              "      background-color: #E8F0FE;\n",
              "      border: none;\n",
              "      border-radius: 50%;\n",
              "      cursor: pointer;\n",
              "      display: none;\n",
              "      fill: #1967D2;\n",
              "      height: 32px;\n",
              "      padding: 0 0 0 0;\n",
              "      width: 32px;\n",
              "    }\n",
              "\n",
              "    .colab-df-convert:hover {\n",
              "      background-color: #E2EBFA;\n",
              "      box-shadow: 0px 1px 2px rgba(60, 64, 67, 0.3), 0px 1px 3px 1px rgba(60, 64, 67, 0.15);\n",
              "      fill: #174EA6;\n",
              "    }\n",
              "\n",
              "    [theme=dark] .colab-df-convert {\n",
              "      background-color: #3B4455;\n",
              "      fill: #D2E3FC;\n",
              "    }\n",
              "\n",
              "    [theme=dark] .colab-df-convert:hover {\n",
              "      background-color: #434B5C;\n",
              "      box-shadow: 0px 1px 3px 1px rgba(0, 0, 0, 0.15);\n",
              "      filter: drop-shadow(0px 1px 2px rgba(0, 0, 0, 0.3));\n",
              "      fill: #FFFFFF;\n",
              "    }\n",
              "  </style>\n",
              "\n",
              "      <script>\n",
              "        const buttonEl =\n",
              "          document.querySelector('#df-b9a05178-e014-4a66-a321-8126bd12da47 button.colab-df-convert');\n",
              "        buttonEl.style.display =\n",
              "          google.colab.kernel.accessAllowed ? 'block' : 'none';\n",
              "\n",
              "        async function convertToInteractive(key) {\n",
              "          const element = document.querySelector('#df-b9a05178-e014-4a66-a321-8126bd12da47');\n",
              "          const dataTable =\n",
              "            await google.colab.kernel.invokeFunction('convertToInteractive',\n",
              "                                                     [key], {});\n",
              "          if (!dataTable) return;\n",
              "\n",
              "          const docLinkHtml = 'Like what you see? Visit the ' +\n",
              "            '<a target=\"_blank\" href=https://colab.research.google.com/notebooks/data_table.ipynb>data table notebook</a>'\n",
              "            + ' to learn more about interactive tables.';\n",
              "          element.innerHTML = '';\n",
              "          dataTable['output_type'] = 'display_data';\n",
              "          await google.colab.output.renderOutput(dataTable, element);\n",
              "          const docLink = document.createElement('div');\n",
              "          docLink.innerHTML = docLinkHtml;\n",
              "          element.appendChild(docLink);\n",
              "        }\n",
              "      </script>\n",
              "    </div>\n",
              "  </div>\n",
              "  "
            ]
          },
          "metadata": {},
          "execution_count": 24
        }
      ]
    },
    {
      "cell_type": "markdown",
      "source": [
        "Conteo de los datos del dataset."
      ],
      "metadata": {
        "id": "-lU893jD7RbX"
      }
    },
    {
      "cell_type": "code",
      "source": [
        "df_CIE10.count()"
      ],
      "metadata": {
        "colab": {
          "base_uri": "https://localhost:8080/"
        },
        "id": "xLv5D8ZtDNIa",
        "outputId": "dc6d58bb-9f49-4f9d-ae9c-95b3e71572de"
      },
      "execution_count": 25,
      "outputs": [
        {
          "output_type": "execute_result",
          "data": {
            "text/plain": [
              "Tipo                  164656\n",
              "Code                  164656\n",
              "Final                 164656\n",
              "Length                164656\n",
              "Description           164656\n",
              "Add7                     571\n",
              "Other description      23422\n",
              "First                    293\n",
              "Also                     146\n",
              "Additional               679\n",
              "Include                  377\n",
              "Exclude 1               2534\n",
              "Exclude 2                899\n",
              "Note                      53\n",
              "Parent Description     80343\n",
              "Parent Add7            54165\n",
              "Parent First            5624\n",
              "Parent Also            16218\n",
              "Parent Additional       9550\n",
              "Parent Include         18506\n",
              "Parent Exclude 1       43587\n",
              "Parent Exclude 2       43150\n",
              "Parent Note            16181\n",
              "dtype: int64"
            ]
          },
          "metadata": {},
          "execution_count": 25
        }
      ]
    },
    {
      "cell_type": "markdown",
      "source": [
        "Tomamos el fichero de códigos EAs y buscamos los registros en el fichero del CIE 10 que coincidan con su código."
      ],
      "metadata": {
        "id": "g3ZI1sMf7Y69"
      }
    },
    {
      "cell_type": "code",
      "source": [
        "listaCodigosEAs = list(df_EAs.Code.values)\n",
        "df_CIE10_EAs_Parcial = df_CIE10[df_CIE10['Code'].isin(listaCodigosEAs)]\n",
        "df_CIE10_EAs_Parcial.head()"
      ],
      "metadata": {
        "colab": {
          "base_uri": "https://localhost:8080/",
          "height": 733
        },
        "outputId": "7a4ee313-b484-4689-951c-e690853409cf",
        "id": "69KlU8TvAAYN"
      },
      "execution_count": 26,
      "outputs": [
        {
          "output_type": "execute_result",
          "data": {
            "text/plain": [
              "             Tipo   Code  Final  Length  \\\n",
              "592   diagnóstico  A80.0      1       4   \n",
              "3346  diagnóstico  D52.1      1       4   \n",
              "3403  diagnóstico  D59.0      1       4   \n",
              "3405  diagnóstico  D59.2      1       4   \n",
              "3421  diagnóstico  D61.1      1       4   \n",
              "\n",
              "                                            Description Add7  \\\n",
              "592   Poliomielitis paralítica aguda, asociada a vacuna  NaN   \n",
              "3346  Anemia por carencia de ácido fólico inducida p...  NaN   \n",
              "3403  Anemia hemolítica autoinmune inducida por fárm...  NaN   \n",
              "3405  Anemia hemolítica no autoimmune inducida por f...  NaN   \n",
              "3421              Anemia aplásica inducida por fármacos  NaN   \n",
              "\n",
              "                                      Other description First Also  \\\n",
              "592     Poliomielitis, paralítica, asociada a la vacuna   NaN  NaN   \n",
              "3346  Anemia, debida a, deficiencia, folato, inducid...   NaN  NaN   \n",
              "3403  Anemia, hemolítica, autoinmune, inducido por f...   NaN  NaN   \n",
              "3405  Anemia, deficiencia, enzima, inducido por fárm...   NaN  NaN   \n",
              "3421  Anemia, aplásica, debida a, drogas  / Anemia, ...   NaN  NaN   \n",
              "\n",
              "                                             Additional  ... Note  \\\n",
              "592                                                 NaN  ...  NaN   \n",
              "3346  Utilice código adicional de efecto adverso, si...  ...  NaN   \n",
              "3403                                                NaN  ...  NaN   \n",
              "3405  Utilice código adicional de efecto adverso, si...  ...  NaN   \n",
              "3421  Utilice código adicional de efecto adverso, si...  ...  NaN   \n",
              "\n",
              "                                     Parent Description Parent Add7  \\\n",
              "592                                 Poliomielitis aguda         NaN   \n",
              "3346                Anemia por carencia de ácido fólico         NaN   \n",
              "3403                        Anemia hemolítica adquirida         NaN   \n",
              "3405                        Anemia hemolítica adquirida         NaN   \n",
              "3421  Otras anemias aplásicas y síndromes de insufic...         NaN   \n",
              "\n",
              "     Parent First Parent Also Parent Additional Parent Include  \\\n",
              "592           NaN         NaN               NaN            NaN   \n",
              "3346          NaN         NaN               NaN            NaN   \n",
              "3403          NaN         NaN               NaN            NaN   \n",
              "3405          NaN         NaN               NaN            NaN   \n",
              "3421          NaN         NaN               NaN            NaN   \n",
              "\n",
              "                                 Parent Exclude 1 Parent Exclude 2 Parent Note  \n",
              "592                                           NaN              NaN         NaN  \n",
              "3346  carencia de ácido fólico sin anemia (E53.8)              NaN         NaN  \n",
              "3403                                          NaN              NaN         NaN  \n",
              "3405                                          NaN              NaN         NaN  \n",
              "3421                          neutropenia (D70.-)              NaN         NaN  \n",
              "\n",
              "[5 rows x 23 columns]"
            ],
            "text/html": [
              "\n",
              "  <div id=\"df-15dc06e3-e82f-4df3-b449-e5c0d5075526\">\n",
              "    <div class=\"colab-df-container\">\n",
              "      <div>\n",
              "<style scoped>\n",
              "    .dataframe tbody tr th:only-of-type {\n",
              "        vertical-align: middle;\n",
              "    }\n",
              "\n",
              "    .dataframe tbody tr th {\n",
              "        vertical-align: top;\n",
              "    }\n",
              "\n",
              "    .dataframe thead th {\n",
              "        text-align: right;\n",
              "    }\n",
              "</style>\n",
              "<table border=\"1\" class=\"dataframe\">\n",
              "  <thead>\n",
              "    <tr style=\"text-align: right;\">\n",
              "      <th></th>\n",
              "      <th>Tipo</th>\n",
              "      <th>Code</th>\n",
              "      <th>Final</th>\n",
              "      <th>Length</th>\n",
              "      <th>Description</th>\n",
              "      <th>Add7</th>\n",
              "      <th>Other description</th>\n",
              "      <th>First</th>\n",
              "      <th>Also</th>\n",
              "      <th>Additional</th>\n",
              "      <th>...</th>\n",
              "      <th>Note</th>\n",
              "      <th>Parent Description</th>\n",
              "      <th>Parent Add7</th>\n",
              "      <th>Parent First</th>\n",
              "      <th>Parent Also</th>\n",
              "      <th>Parent Additional</th>\n",
              "      <th>Parent Include</th>\n",
              "      <th>Parent Exclude 1</th>\n",
              "      <th>Parent Exclude 2</th>\n",
              "      <th>Parent Note</th>\n",
              "    </tr>\n",
              "  </thead>\n",
              "  <tbody>\n",
              "    <tr>\n",
              "      <th>592</th>\n",
              "      <td>diagnóstico</td>\n",
              "      <td>A80.0</td>\n",
              "      <td>1</td>\n",
              "      <td>4</td>\n",
              "      <td>Poliomielitis paralítica aguda, asociada a vacuna</td>\n",
              "      <td>NaN</td>\n",
              "      <td>Poliomielitis, paralítica, asociada a la vacuna</td>\n",
              "      <td>NaN</td>\n",
              "      <td>NaN</td>\n",
              "      <td>NaN</td>\n",
              "      <td>...</td>\n",
              "      <td>NaN</td>\n",
              "      <td>Poliomielitis aguda</td>\n",
              "      <td>NaN</td>\n",
              "      <td>NaN</td>\n",
              "      <td>NaN</td>\n",
              "      <td>NaN</td>\n",
              "      <td>NaN</td>\n",
              "      <td>NaN</td>\n",
              "      <td>NaN</td>\n",
              "      <td>NaN</td>\n",
              "    </tr>\n",
              "    <tr>\n",
              "      <th>3346</th>\n",
              "      <td>diagnóstico</td>\n",
              "      <td>D52.1</td>\n",
              "      <td>1</td>\n",
              "      <td>4</td>\n",
              "      <td>Anemia por carencia de ácido fólico inducida p...</td>\n",
              "      <td>NaN</td>\n",
              "      <td>Anemia, debida a, deficiencia, folato, inducid...</td>\n",
              "      <td>NaN</td>\n",
              "      <td>NaN</td>\n",
              "      <td>Utilice código adicional de efecto adverso, si...</td>\n",
              "      <td>...</td>\n",
              "      <td>NaN</td>\n",
              "      <td>Anemia por carencia de ácido fólico</td>\n",
              "      <td>NaN</td>\n",
              "      <td>NaN</td>\n",
              "      <td>NaN</td>\n",
              "      <td>NaN</td>\n",
              "      <td>NaN</td>\n",
              "      <td>carencia de ácido fólico sin anemia (E53.8)</td>\n",
              "      <td>NaN</td>\n",
              "      <td>NaN</td>\n",
              "    </tr>\n",
              "    <tr>\n",
              "      <th>3403</th>\n",
              "      <td>diagnóstico</td>\n",
              "      <td>D59.0</td>\n",
              "      <td>1</td>\n",
              "      <td>4</td>\n",
              "      <td>Anemia hemolítica autoinmune inducida por fárm...</td>\n",
              "      <td>NaN</td>\n",
              "      <td>Anemia, hemolítica, autoinmune, inducido por f...</td>\n",
              "      <td>NaN</td>\n",
              "      <td>NaN</td>\n",
              "      <td>NaN</td>\n",
              "      <td>...</td>\n",
              "      <td>NaN</td>\n",
              "      <td>Anemia hemolítica adquirida</td>\n",
              "      <td>NaN</td>\n",
              "      <td>NaN</td>\n",
              "      <td>NaN</td>\n",
              "      <td>NaN</td>\n",
              "      <td>NaN</td>\n",
              "      <td>NaN</td>\n",
              "      <td>NaN</td>\n",
              "      <td>NaN</td>\n",
              "    </tr>\n",
              "    <tr>\n",
              "      <th>3405</th>\n",
              "      <td>diagnóstico</td>\n",
              "      <td>D59.2</td>\n",
              "      <td>1</td>\n",
              "      <td>4</td>\n",
              "      <td>Anemia hemolítica no autoimmune inducida por f...</td>\n",
              "      <td>NaN</td>\n",
              "      <td>Anemia, deficiencia, enzima, inducido por fárm...</td>\n",
              "      <td>NaN</td>\n",
              "      <td>NaN</td>\n",
              "      <td>Utilice código adicional de efecto adverso, si...</td>\n",
              "      <td>...</td>\n",
              "      <td>NaN</td>\n",
              "      <td>Anemia hemolítica adquirida</td>\n",
              "      <td>NaN</td>\n",
              "      <td>NaN</td>\n",
              "      <td>NaN</td>\n",
              "      <td>NaN</td>\n",
              "      <td>NaN</td>\n",
              "      <td>NaN</td>\n",
              "      <td>NaN</td>\n",
              "      <td>NaN</td>\n",
              "    </tr>\n",
              "    <tr>\n",
              "      <th>3421</th>\n",
              "      <td>diagnóstico</td>\n",
              "      <td>D61.1</td>\n",
              "      <td>1</td>\n",
              "      <td>4</td>\n",
              "      <td>Anemia aplásica inducida por fármacos</td>\n",
              "      <td>NaN</td>\n",
              "      <td>Anemia, aplásica, debida a, drogas  / Anemia, ...</td>\n",
              "      <td>NaN</td>\n",
              "      <td>NaN</td>\n",
              "      <td>Utilice código adicional de efecto adverso, si...</td>\n",
              "      <td>...</td>\n",
              "      <td>NaN</td>\n",
              "      <td>Otras anemias aplásicas y síndromes de insufic...</td>\n",
              "      <td>NaN</td>\n",
              "      <td>NaN</td>\n",
              "      <td>NaN</td>\n",
              "      <td>NaN</td>\n",
              "      <td>NaN</td>\n",
              "      <td>neutropenia (D70.-)</td>\n",
              "      <td>NaN</td>\n",
              "      <td>NaN</td>\n",
              "    </tr>\n",
              "  </tbody>\n",
              "</table>\n",
              "<p>5 rows × 23 columns</p>\n",
              "</div>\n",
              "      <button class=\"colab-df-convert\" onclick=\"convertToInteractive('df-15dc06e3-e82f-4df3-b449-e5c0d5075526')\"\n",
              "              title=\"Convert this dataframe to an interactive table.\"\n",
              "              style=\"display:none;\">\n",
              "        \n",
              "  <svg xmlns=\"http://www.w3.org/2000/svg\" height=\"24px\"viewBox=\"0 0 24 24\"\n",
              "       width=\"24px\">\n",
              "    <path d=\"M0 0h24v24H0V0z\" fill=\"none\"/>\n",
              "    <path d=\"M18.56 5.44l.94 2.06.94-2.06 2.06-.94-2.06-.94-.94-2.06-.94 2.06-2.06.94zm-11 1L8.5 8.5l.94-2.06 2.06-.94-2.06-.94L8.5 2.5l-.94 2.06-2.06.94zm10 10l.94 2.06.94-2.06 2.06-.94-2.06-.94-.94-2.06-.94 2.06-2.06.94z\"/><path d=\"M17.41 7.96l-1.37-1.37c-.4-.4-.92-.59-1.43-.59-.52 0-1.04.2-1.43.59L10.3 9.45l-7.72 7.72c-.78.78-.78 2.05 0 2.83L4 21.41c.39.39.9.59 1.41.59.51 0 1.02-.2 1.41-.59l7.78-7.78 2.81-2.81c.8-.78.8-2.07 0-2.86zM5.41 20L4 18.59l7.72-7.72 1.47 1.35L5.41 20z\"/>\n",
              "  </svg>\n",
              "      </button>\n",
              "      \n",
              "  <style>\n",
              "    .colab-df-container {\n",
              "      display:flex;\n",
              "      flex-wrap:wrap;\n",
              "      gap: 12px;\n",
              "    }\n",
              "\n",
              "    .colab-df-convert {\n",
              "      background-color: #E8F0FE;\n",
              "      border: none;\n",
              "      border-radius: 50%;\n",
              "      cursor: pointer;\n",
              "      display: none;\n",
              "      fill: #1967D2;\n",
              "      height: 32px;\n",
              "      padding: 0 0 0 0;\n",
              "      width: 32px;\n",
              "    }\n",
              "\n",
              "    .colab-df-convert:hover {\n",
              "      background-color: #E2EBFA;\n",
              "      box-shadow: 0px 1px 2px rgba(60, 64, 67, 0.3), 0px 1px 3px 1px rgba(60, 64, 67, 0.15);\n",
              "      fill: #174EA6;\n",
              "    }\n",
              "\n",
              "    [theme=dark] .colab-df-convert {\n",
              "      background-color: #3B4455;\n",
              "      fill: #D2E3FC;\n",
              "    }\n",
              "\n",
              "    [theme=dark] .colab-df-convert:hover {\n",
              "      background-color: #434B5C;\n",
              "      box-shadow: 0px 1px 3px 1px rgba(0, 0, 0, 0.15);\n",
              "      filter: drop-shadow(0px 1px 2px rgba(0, 0, 0, 0.3));\n",
              "      fill: #FFFFFF;\n",
              "    }\n",
              "  </style>\n",
              "\n",
              "      <script>\n",
              "        const buttonEl =\n",
              "          document.querySelector('#df-15dc06e3-e82f-4df3-b449-e5c0d5075526 button.colab-df-convert');\n",
              "        buttonEl.style.display =\n",
              "          google.colab.kernel.accessAllowed ? 'block' : 'none';\n",
              "\n",
              "        async function convertToInteractive(key) {\n",
              "          const element = document.querySelector('#df-15dc06e3-e82f-4df3-b449-e5c0d5075526');\n",
              "          const dataTable =\n",
              "            await google.colab.kernel.invokeFunction('convertToInteractive',\n",
              "                                                     [key], {});\n",
              "          if (!dataTable) return;\n",
              "\n",
              "          const docLinkHtml = 'Like what you see? Visit the ' +\n",
              "            '<a target=\"_blank\" href=https://colab.research.google.com/notebooks/data_table.ipynb>data table notebook</a>'\n",
              "            + ' to learn more about interactive tables.';\n",
              "          element.innerHTML = '';\n",
              "          dataTable['output_type'] = 'display_data';\n",
              "          await google.colab.output.renderOutput(dataTable, element);\n",
              "          const docLink = document.createElement('div');\n",
              "          docLink.innerHTML = docLinkHtml;\n",
              "          element.appendChild(docLink);\n",
              "        }\n",
              "      </script>\n",
              "    </div>\n",
              "  </div>\n",
              "  "
            ]
          },
          "metadata": {},
          "execution_count": 26
        }
      ]
    },
    {
      "cell_type": "markdown",
      "source": [
        "Contamos los registros encontrados en el fichero CIE10. El número coincide con el número de dato del fichero EAs."
      ],
      "metadata": {
        "id": "-Fb5MPxb7zOn"
      }
    },
    {
      "cell_type": "code",
      "source": [
        "df_CIE10_EAs_Parcial.count()"
      ],
      "metadata": {
        "colab": {
          "base_uri": "https://localhost:8080/"
        },
        "id": "hbncvn_bDgpq",
        "outputId": "4561b085-f2cc-4ecc-b8db-2a213f1421f1"
      },
      "execution_count": 27,
      "outputs": [
        {
          "output_type": "execute_result",
          "data": {
            "text/plain": [
              "Tipo                  594\n",
              "Code                  594\n",
              "Final                 594\n",
              "Length                594\n",
              "Description           594\n",
              "Add7                    2\n",
              "Other description     468\n",
              "First                   4\n",
              "Also                    1\n",
              "Additional             99\n",
              "Include                 5\n",
              "Exclude 1              41\n",
              "Exclude 2              37\n",
              "Note                    0\n",
              "Parent Description    546\n",
              "Parent Add7           242\n",
              "Parent First           16\n",
              "Parent Also             6\n",
              "Parent Additional      93\n",
              "Parent Include         45\n",
              "Parent Exclude 1      160\n",
              "Parent Exclude 2      246\n",
              "Parent Note             0\n",
              "dtype: int64"
            ]
          },
          "metadata": {},
          "execution_count": 27
        }
      ]
    },
    {
      "cell_type": "markdown",
      "source": [
        "De los datos encontrados en el fichero CIE10, se determinan cuántos de los códigos son finales y los que no lo son."
      ],
      "metadata": {
        "id": "LEcJZch-Guh2"
      }
    },
    {
      "cell_type": "code",
      "source": [
        "df_CIE10_EAs_Parcial.Final.value_counts()"
      ],
      "metadata": {
        "colab": {
          "base_uri": "https://localhost:8080/"
        },
        "id": "2GPyOoBbGoys",
        "outputId": "c4c49862-d0f6-474f-a83e-d6a6f3fe18a1"
      },
      "execution_count": 28,
      "outputs": [
        {
          "output_type": "execute_result",
          "data": {
            "text/plain": [
              "0    330\n",
              "1    264\n",
              "Name: Final, dtype: int64"
            ]
          },
          "metadata": {},
          "execution_count": 28
        }
      ]
    },
    {
      "cell_type": "markdown",
      "source": [
        "Se crea una lista con los códigos no finales, por cada uno de ellos se buscan los que continúan la jerarquía. Por ejemplo, para el código \"D70\" que no es final, se buscan los códigos \"D70.0\", \"D70.1\", \"D70.2\", ... que sí lo son. Además, se a la lista de códigos EA completa los códigos finales."
      ],
      "metadata": {
        "id": "omSIhCYj9VjC"
      }
    },
    {
      "cell_type": "code",
      "source": [
        "listaCodigosEAsCompleta=[]\n",
        "listaCodigosEAsNoFinal = list(df_CIE10_EAs_Parcial[df_CIE10_EAs_Parcial.Final == 0].Code.values)\n",
        "for ea in listaCodigosEAsNoFinal:\n",
        "  listaCodigosEAsCompleta.extend(list(df_CIE10[df_CIE10['Code'].str.startswith(ea)].Code))\n",
        "listaCodigosEAsCompleta.extend(list(df_CIE10_EAs_Parcial[df_CIE10_EAs_Parcial.Final == 1].Code.values))"
      ],
      "metadata": {
        "id": "ImzAazCiPN5x"
      },
      "execution_count": 29,
      "outputs": []
    },
    {
      "cell_type": "markdown",
      "source": [
        "Se toma la lista de códigos completa y se busca sobre el fichero CIE10, obteniendo con ello el subconjunto de códigos CIE10 que se correspoden con EAs."
      ],
      "metadata": {
        "id": "KO6pjmlV-Vez"
      }
    },
    {
      "cell_type": "code",
      "source": [
        "df_CIE10_EAs_Completa = df_CIE10[df_CIE10['Code'].isin(listaCodigosEAsCompleta)]\n"
      ],
      "metadata": {
        "id": "J2NVuh6LSvCR"
      },
      "execution_count": 30,
      "outputs": []
    },
    {
      "cell_type": "code",
      "source": [
        "df_CIE10_EAs_Completa.count()"
      ],
      "metadata": {
        "colab": {
          "base_uri": "https://localhost:8080/"
        },
        "id": "JgtU2v0oc0Nw",
        "outputId": "9b7e9110-6e22-408f-bf45-cc54172baa21"
      },
      "execution_count": 31,
      "outputs": [
        {
          "output_type": "execute_result",
          "data": {
            "text/plain": [
              "Tipo                  4176\n",
              "Code                  4176\n",
              "Final                 4176\n",
              "Length                4176\n",
              "Description           4176\n",
              "Add7                    11\n",
              "Other description     1491\n",
              "First                    5\n",
              "Also                     1\n",
              "Additional             131\n",
              "Include                  5\n",
              "Exclude 1               83\n",
              "Exclude 2               55\n",
              "Note                     0\n",
              "Parent Description    3683\n",
              "Parent Add7           2474\n",
              "Parent First           143\n",
              "Parent Also              6\n",
              "Parent Additional      862\n",
              "Parent Include         333\n",
              "Parent Exclude 1       913\n",
              "Parent Exclude 2      2488\n",
              "Parent Note              0\n",
              "dtype: int64"
            ]
          },
          "metadata": {},
          "execution_count": 31
        }
      ]
    },
    {
      "cell_type": "code",
      "source": [
        "num_eas_totales = df_CIE10_EAs_Completa[\"Code\"].nunique()\n",
        "rel_eas = round(num_eas_con_caso_clinico/num_eas_totales*100,2)\n",
        "print(\"EAs totales (considerando la lista completa): %s\" % num_eas_totales)\n",
        "print(\"EAs con representanción en caso clínico: %s\" % num_eas_con_caso_clinico)\n",
        "print(\"El %s%% de los EAs se dan en al menos un caso clínico.\" % rel_eas)"
      ],
      "metadata": {
        "colab": {
          "base_uri": "https://localhost:8080/"
        },
        "id": "M4-QOlo2AHd9",
        "outputId": "8a984d92-700c-442c-faea-0829f8758497"
      },
      "execution_count": 32,
      "outputs": [
        {
          "output_type": "stream",
          "name": "stdout",
          "text": [
            "EAs totales (considerando la lista completa): 4176\n",
            "EAs con representanción en caso clínico: 484\n",
            "El 11.59% de los EAs se dan en al menos un caso clínico.\n"
          ]
        }
      ]
    },
    {
      "cell_type": "code",
      "source": [
        "#df_CIE10_EAs_Completa.to_csv(base_path + 'df_CIE10_EAs_Completa.csv')"
      ],
      "metadata": {
        "id": "kLDCLHTZdtEl"
      },
      "execution_count": 33,
      "outputs": []
    }
  ]
}
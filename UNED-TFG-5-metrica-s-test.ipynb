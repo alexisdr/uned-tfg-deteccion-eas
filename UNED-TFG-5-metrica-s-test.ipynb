{
  "cells": [
    {
      "cell_type": "markdown",
      "metadata": {
        "id": "view-in-github",
        "colab_type": "text"
      },
      "source": [
        "<a href=\"https://colab.research.google.com/github/alexisdr/uned-tfg-deteccion-eas/blob/main/UNED-TFG-5-metrica-s-test.ipynb\" target=\"_parent\"><img src=\"https://colab.research.google.com/assets/colab-badge.svg\" alt=\"Open In Colab\"/></a>"
      ]
    },
    {
      "cell_type": "markdown",
      "id": "XkA6mcW_QT37",
      "metadata": {
        "id": "XkA6mcW_QT37"
      },
      "source": [
        "# Metricas S\n",
        "\n",
        "Calcual el valor de las métricas S mediante los datos de test\n",
        "\n",
        "# Parámetros\n",
        "* ruta_base: ruta en la que se encuentran los datos del corpus\n",
        "* ruta_dataset: ruta en el que se almacenará el dataset\n",
        "* usar_subconjunto_datos_codigos_mas_frecuentes: se usarán los actos clínicos que implican los códigos más frecuentes"
      ]
    },
    {
      "cell_type": "code",
      "execution_count": 18,
      "id": "7ee544b5",
      "metadata": {
        "id": "7ee544b5"
      },
      "outputs": [],
      "source": [
        "ruta_base = '/drive/My Drive/CorpusPFG/'\n",
        "\n",
        "#Datasets procesados\n",
        "ruta_dataset = ruta_base + 'Dataset-completo'\n",
        "modelo_base = \"alexisdr/uned-tfg-08.85\"\n",
        "usar_subconjunto_datos_codigos_mas_frecuentes = False\n",
        "umbral = 0.9"
      ]
    },
    {
      "cell_type": "markdown",
      "id": "IgQiz-czQn5E",
      "metadata": {
        "id": "IgQiz-czQn5E"
      },
      "source": [
        "Instalación de depndencias necesarias"
      ]
    },
    {
      "cell_type": "code",
      "execution_count": 19,
      "id": "MtqLGKFGQuV2",
      "metadata": {
        "id": "MtqLGKFGQuV2"
      },
      "outputs": [],
      "source": [
        "!pip install -q datasets transformers[sentencepiece]"
      ]
    },
    {
      "cell_type": "markdown",
      "id": "kUQ5y227Qyr-",
      "metadata": {
        "id": "kUQ5y227Qyr-"
      },
      "source": [
        "# Carga de datos del dataset"
      ]
    },
    {
      "cell_type": "code",
      "execution_count": 20,
      "id": "Sx-7OWoaQ1UG",
      "metadata": {
        "colab": {
          "base_uri": "https://localhost:8080/"
        },
        "id": "Sx-7OWoaQ1UG",
        "outputId": "d01c418f-a64e-44e1-d98b-fb3ae35e5bd5"
      },
      "outputs": [
        {
          "output_type": "stream",
          "name": "stdout",
          "text": [
            "Drive already mounted at /drive; to attempt to forcibly remount, call drive.mount(\"/drive\", force_remount=True).\n"
          ]
        }
      ],
      "source": [
        "from google.colab import drive\n",
        "\n",
        "drive.mount('/drive')"
      ]
    },
    {
      "cell_type": "code",
      "execution_count": 21,
      "id": "DdO7S73OQ2ts",
      "metadata": {
        "id": "DdO7S73OQ2ts",
        "outputId": "2f58491a-7e5b-4f50-efbf-d697f4d6e08f",
        "colab": {
          "base_uri": "https://localhost:8080/"
        }
      },
      "outputs": [
        {
          "output_type": "execute_result",
          "data": {
            "text/plain": [
              "DatasetDict({\n",
              "    train: Dataset({\n",
              "        features: ['acto', 'label', 'label_str', 'label_list', 'label_list_str', 'informes', 'text', 'json'],\n",
              "        num_rows: 13051\n",
              "    })\n",
              "    validation: Dataset({\n",
              "        features: ['acto', 'label', 'label_str', 'label_list', 'label_list_str', 'informes', 'text', 'json'],\n",
              "        num_rows: 1451\n",
              "    })\n",
              "    test: Dataset({\n",
              "        features: ['acto', 'label', 'label_str', 'label_list', 'label_list_str', 'informes', 'text', 'json'],\n",
              "        num_rows: 3629\n",
              "    })\n",
              "    trainMasFrecuentes: Dataset({\n",
              "        features: ['acto', 'label', 'label_str', 'label_list', 'label_list_str', 'informes', 'text', 'json'],\n",
              "        num_rows: 639\n",
              "    })\n",
              "    validationMasFrecuentes: Dataset({\n",
              "        features: ['acto', 'label', 'label_str', 'label_list', 'label_list_str', 'informes', 'text', 'json'],\n",
              "        num_rows: 72\n",
              "    })\n",
              "    testMasFrecuentes: Dataset({\n",
              "        features: ['acto', 'label', 'label_str', 'label_list', 'label_list_str', 'informes', 'text', 'json'],\n",
              "        num_rows: 175\n",
              "    })\n",
              "})"
            ]
          },
          "metadata": {},
          "execution_count": 21
        }
      ],
      "source": [
        "from datasets import DatasetDict\n",
        "\n",
        "dataset = DatasetDict.load_from_disk(ruta_dataset)\n",
        "\n",
        "dataset"
      ]
    },
    {
      "cell_type": "code",
      "execution_count": 22,
      "id": "XxLqviFAQ3z5",
      "metadata": {
        "id": "XxLqviFAQ3z5"
      },
      "outputs": [],
      "source": [
        "train = \"train\"\n",
        "validation = \"validation\"\n",
        "test = \"test\"\n",
        "\n",
        "if (usar_subconjunto_datos_codigos_mas_frecuentes):\n",
        "  train = \"trainMasFrecuentes\"\n",
        "  validation = \"validationMasFrecuentes\"\n",
        "  test = \"testMasFrecuentes\""
      ]
    },
    {
      "cell_type": "code",
      "execution_count": 23,
      "id": "071ce90d",
      "metadata": {
        "colab": {
          "base_uri": "https://localhost:8080/"
        },
        "id": "071ce90d",
        "outputId": "5ac3c0e0-4727-4d1c-8e72-6729cdc29e9e"
      },
      "outputs": [
        {
          "output_type": "stream",
          "name": "stdout",
          "text": [
            "ClassLabel(names=['T50.2X5A', 'NONE', 'O90.0', 'T46.5X5A', 'E89.0', 'H59.022', 'Y84.2', 'T83.021A', 'K94.23', 'T50.8X5A', 'Y95', 'T50.905A', 'T50.0X5A', 'L27.0', 'T85.398A', 'T38.0X5A', 'T85.79XA', 'P39.1', 'T84.498A', 'T84.82XA', 'K91.841', 'I97.618', 'T80.1XXA', 'T84.89XA', 'T40.605A', 'R50.82', 'T81.4XXA', 'T38.3X5A', 'G97.1', 'O75.2', 'N99.820', 'T45.1X5A', 'T39.1X5A', 'T85.71XA', 'L76.02', 'K66.0', 'Y83.1', 'T82.120A', 'K12.31', 'P01.1', 'G25.1', 'G89.18', 'T38.0X5D', 'L76.31', 'M96.830', 'G97.41', 'T47.4X5A', 'N99.821', 'T45.515A', 'T80.211A', 'T46.2X5S', 'P36.9', 'T36.0X5A', 'T84.84XA', 'G62.0', 'D70.1', 'T82.868A', 'T79.6XXA', 'T40.2X5A', 'T39.395A', 'T41.5X5A', 'T84.223A', 'T45.1X5D', 'T83.498A', 'L76.22', 'T43.295A', 'K94.12', 'P39.8', 'O86.29', 'K91.71', 'T84.021A', 'M96.840', 'Y83.2', 'T87.81', 'I97.130', 'T46.0X5A', 'T84.51XA', 'P03.4', 'Y64.0', 'J95.811', 'T39.2X5A', 'G97.51', 'T48.6X5A', 'T45.615A', 'H59.021', 'T82.7XXA', 'T82.330A', 'T83.29XA', 'K94.29', 'E89.2', 'E36.01', 'T36.95XA', 'T83.51XA', 'L27.1', 'T84.060A', 'G97.82', 'K95.81', 'T85.29XA', 'T82.190A', 'N99.89', 'T86.19', 'T81.89XA', 'T39.95XA', 'P01.5', 'T42.4X5A', 'G89.28', 'M1A.20X0', 'M96.1', 'K91.72', 'T81.83XA', 'K94.21', 'T37.95XA', 'T83.83XA', 'T85.611A', 'T84.54XA', 'E09.65', 'T36.1X5A', 'T82.857A', 'O86.12', 'T86.11', 'T80.92XA', 'Y84.0', 'T36.5X5A', 'Y83.5', 'K85.30', 'P13.4', 'T38.895A', 'I97.710', 'T43.595A', 'Y84.6', 'Y83.8', 'D61.1', 'T79.A3XA', 'J95.830', 'T37.1X5S', 'Y84.8', 'P01.2', 'T50.995A', 'T80.89XA', 'T46.2X5A', 'T50.2X5D', 'N99.528', 'T50.Z15A', 'T84.59XA', 'T45.1X5S', 'T84.011A', 'T37.1X5A', 'T84.226A', 'N98.1', 'T44.7X5A', 'T88.7XXA', 'T46.6X5A', 'I97.2', 'T85.598A', 'Y65.8', 'D70.2', 'K91.89', 'T83.89XA', 'I95.2', 'K91.840', 'T85.85XA', 'T82.855A', 'K59.03', 'P02.5', 'T43.595S', 'O90.81', 'T45.8X5A', 'T36.8X5A', 'M96.89', 'K12.32', 'T86.01', 'K91.61', 'T39.315A', 'P02.69', 'D64.81', 'G97.49', 'I97.89', 'T80.219A', 'T84.033A', 'T81.31XA', 'T83.511A', 'O04.5', 'T42.75XA', 'T38.0X5S', 'T82.898A', 'T82.838A', 'T84.63XA', 'T39.015A', 'T82.858A', 'T37.2X5A', 'Y83.3', 'N99.532', 'Y83.6', 'T88.59XA', 'O90.89', 'J95.3', 'T84.030A', 'T82.538A', 'M96.0', 'K91.1', 'T81.32XA', 'K91.3', 'T39.395S', 'O85', 'K94.13', 'K94.09', 'E89.89', 'T82.594A', 'T84.490A', 'T83.198A', 'N99.522', 'G97.52', 'T46.4X5A', 'Y83.0', 'J95.61', 'T48.4X5A', 'T47.1X5A', 'T86.12', 'L76.21', 'K91.2', 'T38.4X5A', 'T42.8X5A', 'T44.995D', 'H95.01', 'T85.828A', 'T85.698A', 'M96.810', 'T50.4X5A', 'G72.0', 'G21.11', 'Y84.1', 'D61.810', 'T82.858S', 'T84.194A', 'N14.2', 'T87.40', 'L76.32', 'T84.9XXA', 'I97.190', 'T43.205A', 'I97.790', 'G21.19', 'N99.72', 'T43.505A', 'P03.3', 'P12.81', 'T85.86XA', 'D61.811', 'P02.7', 'T88.8XXA', 'T87.89', 'T37.5X5A', 'T82.818A', 'T88.0XXA', 'G24.01', 'T81.72XA', 'T84.020A', 'T80.218A', 'T49.0X5A', 'J95.851', 'T43.95XA', 'T50.8X5S', 'T84.091A', 'T36.3X5A', 'T40.4X5A', 'T83.59XA', 'T83.098A', 'N52.34', 'N99.521', 'T42.1X5A', 'I97.610', 'P04.1', 'G25.71', 'T38.2X5S', 'T85.89XA', 'T45.525A', 'N99.511', 'T79.7XXA', 'T43.225A', 'N99.71', 'T84.032A', 'T41.45XA', 'T84.038A', 'T88.6XXA', 'N99.530', 'T81.12XA', 'T84.216A', 'T50.1X5A', 'I95.81', 'T45.625A', 'T84.029A', 'T83.091A', 'M96.842', 'T84.69XA', 'T84.50XA', 'T82.9XXA', 'T82.119A', 'T82.6XXA', 'T82.856A', 'T83.9XXA', 'T82.897A', 'T82.09XD', 'I97.191', 'T39.4X5A', 'T84.620A', 'T38.1X5A', 'I97.418', 'I97.51', 'N99.114', 'T82.848A', 'T83.191A', 'T84.090A', 'T82.199A', 'K91.850', 'O08.1', 'T82.110A', 'T82.223D', 'J95.03', 'T85.122A', 'T85.898A', 'N99.61', 'N99.113', 'T84.049A', 'I97.638', 'T81.4XXS', 'T46.2X5D', 'T80.212A', 'L76.82', 'T84.124A', 'P38.9', 'T84.021D', 'T82.320A', 'T88.8XXS', 'K94.22', 'T84.7XXA', 'J95.89', 'T82.120D', 'N99.112', 'T86.09', 'T37.8X5A', 'N99.111', 'T81.718A', 'P36.8', 'N99.110', 'P39.3', 'T84.022A', 'P02.1', 'P02.8', 'O75.1', 'T85.520A', 'T43.225D', 'E09.9', 'T84.52XA', 'T43.595D', 'T81.599A', 'Y84.9', 'T82.867A', 'T85.09XA', 'T84.53XA', 'T84.013A', 'T85.22XA', 'T84.048A', 'T83.028A', 'P01.8', 'T43.505D', 'N52.37', 'N99.841', 'T80.29XA', 'T50.8X5D', 'T43.025A', 'T45.4X5A', 'T84.114A', 'T80.818A', 'N99.0', 'O90.2', 'N99.3', 'P14.1', 'T83.420A', 'O74.8', 'T84.040A', 'N99.83', 'I97.611', 'T83.728S', 'H21.81', 'T85.590A', 'T44.8X5A', 'P12.89', 'T83.6XXA', 'O86.4', 'P36.2', 'Y84.5', 'T50.3X5A', 'T45.7X5A', 'M96.69', 'P03.810', 'T41.3X5A', 'E89.3', 'T84.031A', 'O91.12', 'E89.6', 'T82.03XD', 'T81.9XXS', 'T36.7X5A', 'T82.03XA', 'P03.2', 'T87.53', 'T87.43', 'K95.89', 'I97.410', 'T83.128A', 'T85.84XA', 'E24.2', 'T46.1X5A', 'T39.8X5A', 'T79.A21A', 'Y83.9', 'L25.1', 'M96.661', 'P01.7', 'E89.1', 'O75.89', 'T84.228A', 'T50.905D', 'D75.82', 'T82.857D', 'T84.041A', 'E09.11', 'J95.09', 'O86.20', 'I97.88', 'I97.52', 'T82.897D', 'L76.34', 'P01.3', 'T84.296A', 'J95.88', 'G97.32', 'T37.3X5A', 'T80.62XA', 'R50.2', 'T84.84XD', 'N14.1', 'Y83.4', 'T84.293A', 'P02.3', 'I97.711', 'T46.3X5A', 'T83.84XA', 'T85.49XA', 'E27.3', 'Y65.4', 'Y84.4', 'P03.0', 'T84.318A', 'P39.9', 'T87.44', 'T88.9XXS', 'T43.215A', 'I97.630', 'T82.598A', 'E66.1', 'I97.62', 'Y84.3', 'T82.339A', 'T82.398A', 'T82.228D', 'T84.190A', 'T81.82XA', 'T86.10', 'J95.821', 'T37.5X5S', 'I97.820', 'T39.395D', 'T84.60XA', 'P03.1', 'T36.5X5S', 'T86.13', 'T84.218A', 'K94.19', 'T87.41', 'E09.22', 'T83.83XD', 'I97.131', 'T45.0X5A', 'T82.222A'], id=None)\n"
          ]
        }
      ],
      "source": [
        "from datasets import ClassLabel\n",
        "\n",
        "class2label = dataset[train].features[\"label\"]\n",
        "print(class2label)"
      ]
    },
    {
      "cell_type": "code",
      "execution_count": 24,
      "id": "KAXA1ZLq_-0D",
      "metadata": {
        "colab": {
          "base_uri": "https://localhost:8080/"
        },
        "id": "KAXA1ZLq_-0D",
        "outputId": "d04f7f34-9c33-4d5f-e51c-0fce44d6ab35"
      },
      "outputs": [
        {
          "output_type": "execute_result",
          "data": {
            "text/plain": [
              "485"
            ]
          },
          "metadata": {},
          "execution_count": 24
        }
      ],
      "source": [
        "class2label.num_classes"
      ]
    },
    {
      "cell_type": "markdown",
      "id": "33Y-jblpRHbS",
      "metadata": {
        "id": "33Y-jblpRHbS"
      },
      "source": [
        "# Preprocesado de los datos"
      ]
    },
    {
      "cell_type": "code",
      "execution_count": 25,
      "id": "936861c0",
      "metadata": {
        "id": "936861c0",
        "outputId": "3d30915c-4cde-41a6-e8fa-108f1c9c10c0",
        "colab": {
          "base_uri": "https://localhost:8080/",
          "height": 229,
          "referenced_widgets": [
            "b72fe9fd4ae24ee2b1d0e2278dafe119",
            "9997be234a3f420eab59fe18ba8bd82c",
            "413c3fd5ae844fd6ae1bdd869a170819",
            "cc7b999827e14fa7a7b9a6899d6f6dd0",
            "58f25ad4447d4ac1852174d470656fed",
            "a5fb0385ef03438a9206954def531bfa",
            "56f8eb34eacf4669a60d8eb4be6b4fd0",
            "a7939030ce3949c9a12209fffa8a9a14",
            "cdd8944999c04cb7abec88b9c99d47ff",
            "7fbf5259087e4b548057e473b7788572",
            "80849b60d9074fa0b5ce06c640a2de1c",
            "71deb199640b45f38ad1b6593dde82e7",
            "d404bd1448dc4344a94778b04a8c11cc",
            "b5f2ca9b96fa47149c0d213db0cb7b26",
            "401d1cd6500c4f768c3749a7a40505a1",
            "16df468039324bf6970f333273eeeb18",
            "832356d6bf3d4c62b6c57f12600a97e5",
            "7bd6ff74916a452497ae3a5ed1fda21e",
            "efe1c11d1c2c4ab29d7255f6b0380bb6",
            "aaec10848e4b4ec7beefbedf93ac84ee",
            "de83eaaf4d6c4b478e4df54101412371",
            "ffea47758e0e45dba482a1cbb2225d95",
            "516bf9c3282743d0b05b90c38314873d",
            "de705605805b49039ec845aac2143b92",
            "988981b7e43e404f94863362609f86f7",
            "8bd67c5b52b7426e89e81ca6241acbc2",
            "a8a88c1c283841918b2e6b59748d92ff",
            "fc830b74c805458c99764414108d5707",
            "4d4ad225e8b6482e93c2f3d2422a1838",
            "e1485a1fdfe54387b30f8fbb1a6a3c7f",
            "46046c66d09149bba7a13910084e2469",
            "4e8b8120c0d8469aad8115bec54e8332",
            "1bda08c72ec64cdc8d890afe3cefe0b9",
            "4c76db6f3a5c4d8295374e1baba20c8e",
            "442104cde45e437f9c99855f8f2935b0",
            "73e60a3cb0ad4e21ad744b2c0ba8eea2",
            "e12693b71caa4e229b969fe7dac5ede3",
            "c85e9b1b2e4243068318d3f297a28dec",
            "05db76cea8374b5ea208494f92002ca2",
            "2f9df2aba6464357aed0e51df2d2629a",
            "5fb24f2eaa9d43aa97742ec92398cb39",
            "ee37e9212cca4171a5320f13801ee0aa",
            "8e8b5adf53e54724bda8e49eba2282d7",
            "b4846c34a4354892b0edc4aee2486d3a"
          ]
        }
      },
      "outputs": [
        {
          "output_type": "display_data",
          "data": {
            "text/plain": [
              "Downloading (…)okenizer_config.json:   0%|          | 0.00/1.33k [00:00<?, ?B/s]"
            ],
            "application/vnd.jupyter.widget-view+json": {
              "version_major": 2,
              "version_minor": 0,
              "model_id": "b72fe9fd4ae24ee2b1d0e2278dafe119"
            }
          },
          "metadata": {}
        },
        {
          "output_type": "display_data",
          "data": {
            "text/plain": [
              "Downloading (…)olve/main/vocab.json:   0%|          | 0.00/1.07M [00:00<?, ?B/s]"
            ],
            "application/vnd.jupyter.widget-view+json": {
              "version_major": 2,
              "version_minor": 0,
              "model_id": "71deb199640b45f38ad1b6593dde82e7"
            }
          },
          "metadata": {}
        },
        {
          "output_type": "display_data",
          "data": {
            "text/plain": [
              "Downloading (…)olve/main/merges.txt:   0%|          | 0.00/523k [00:00<?, ?B/s]"
            ],
            "application/vnd.jupyter.widget-view+json": {
              "version_major": 2,
              "version_minor": 0,
              "model_id": "516bf9c3282743d0b05b90c38314873d"
            }
          },
          "metadata": {}
        },
        {
          "output_type": "display_data",
          "data": {
            "text/plain": [
              "Downloading (…)cial_tokens_map.json:   0%|          | 0.00/957 [00:00<?, ?B/s]"
            ],
            "application/vnd.jupyter.widget-view+json": {
              "version_major": 2,
              "version_minor": 0,
              "model_id": "4c76db6f3a5c4d8295374e1baba20c8e"
            }
          },
          "metadata": {}
        }
      ],
      "source": [
        "from transformers import AutoTokenizer\n",
        "\n",
        "tokenizer = AutoTokenizer.from_pretrained(modelo_base)\n",
        "\n",
        "def preprocess_data(examples):\n",
        "  return tokenizer(examples[\"text\"], padding=\"max_length\", truncation=True, return_tensors=\"pt\")"
      ]
    },
    {
      "cell_type": "markdown",
      "id": "go9KsGPAlNBf",
      "metadata": {
        "id": "go9KsGPAlNBf"
      },
      "source": [
        "# Cálculo de la métrica S"
      ]
    },
    {
      "cell_type": "code",
      "execution_count": 26,
      "id": "3z28_GcTlKDX",
      "metadata": {
        "id": "3z28_GcTlKDX"
      },
      "outputs": [],
      "source": [
        "#Calcula el prefico comun entre 2 códigos\n",
        "def calculo_lcs(codigo_i, codigo_j):\n",
        "  if codigo_i is None or codigo_j is None:\n",
        "    return \"\"\n",
        "\n",
        "  #Se omiten los puntos existenten en los códigos\n",
        "  codigo_i = codigo_i.replace(\".\", \"\")\n",
        "  codigo_j = codigo_j.replace(\".\", \"\")\n",
        "\n",
        "  #Tomamos el tamaño mínimo\n",
        "  size = min(len(codigo_i), len(codigo_j))\n",
        "\n",
        "  lcs_i_j = ''\n",
        "  for i in range(size):\n",
        "    if codigo_i[i] == codigo_j[i]:\n",
        "      lcs_i_j = lcs_i_j + codigo_i[i]\n",
        "    else:\n",
        "      return lcs_i_j\n",
        "\n",
        "  return lcs_i_j\n",
        "\n",
        "\n",
        "#Devuelve la longitud de la cadena de caracteres C\n",
        "#si esta vale al menos 3, y devuelve 0 si dicha longitud es menor que 3.\n",
        "#Esto se debe a que los códigos CIE-10 más cortos contienen al menos 3 caracteres.\n",
        "def calculo_ic(codigo):\n",
        "  #Se omiten los puntos existenten en los códigos\n",
        "  codigo = codigo.replace(\".\", \"\")\n",
        "\n",
        "  tamanyo = len(codigo)\n",
        "  if (tamanyo < 3):\n",
        "    return 0\n",
        "  else:\n",
        "    return tamanyo\n",
        "\n",
        "#similitud entre 2 códigos CIE-10 𝑖 y 𝑗:\n",
        "def calculo_c(codigo_i, codigo_j):\n",
        "  divisor = calculo_ic(codigo_i) + calculo_ic(codigo_j)\n",
        "  if (divisor == 0):\n",
        "    return 0\n",
        "  dividendo = 2 * calculo_ic(calculo_lcs(codigo_i, codigo_j))\n",
        "  c_i_j = dividendo / divisor\n",
        "  return round(c_i_j, 6)\n",
        "\n",
        "def metrica_s(lista_codigos_i, lista_codigos_j):\n",
        "  #las listas deben tener valores\n",
        "  if (len(lista_codigos_i) == 0 or len(lista_codigos_j) == 0):\n",
        "    return 0\n",
        "\n",
        "  #max (Ng, Ns)\n",
        "  divisor = max(len(lista_codigos_i), len(lista_codigos_j))\n",
        "  if (divisor == 0):\n",
        "    return 0\n",
        "\n",
        "  max_c_i_j = 0\n",
        "  for codigo_j in lista_codigos_j:\n",
        "    max_local_c_i_j = 0\n",
        "    for codigo_i in lista_codigos_i:\n",
        "      c_i_j = calculo_c(codigo_i, codigo_j)\n",
        "      if (c_i_j > max_local_c_i_j):\n",
        "        max_local_c_i_j = c_i_j\n",
        "    max_c_i_j += max_local_c_i_j\n",
        "\n",
        "  s = max_c_i_j / divisor\n",
        "  return round(s, 6)\n",
        "\n",
        "def metrica_s_train (y_true, y_pred):\n",
        "    y_true_labels = []\n",
        "    true_labels = [class2label.int2str([idx])for idx, label in enumerate(y_true) if label == 1.0]\n",
        "    for label in true_labels:\n",
        "      y_true_labels.append(label[0])\n",
        "\n",
        "    y_pred_labels = []\n",
        "    pred_labels = [class2label.int2str([idx])for idx, label in enumerate(y_pred) if label == 1.0]\n",
        "    for label in pred_labels:\n",
        "      y_pred_labels.append(label[0])\n",
        "\n",
        "    return metrica_s(y_true_labels, y_pred_labels)"
      ]
    },
    {
      "cell_type": "markdown",
      "id": "1hSIaTFlRhUw",
      "metadata": {
        "id": "1hSIaTFlRhUw"
      },
      "source": [
        "# Inferencia\n",
        "\n",
        "Se ejecuta el modelo contra datos de test y se calcula la métrica S"
      ]
    },
    {
      "cell_type": "code",
      "execution_count": 27,
      "id": "476cd70e",
      "metadata": {
        "id": "476cd70e",
        "outputId": "2295d795-adf8-49c4-dc4c-3fd1eab700cf",
        "colab": {
          "base_uri": "https://localhost:8080/",
          "height": 109,
          "referenced_widgets": [
            "bd5088d80fb04678ade69f729b4b2835",
            "7a733fb9b9b54e1788e638f12761ae03",
            "7353949738054785b494b0463b2b07f3",
            "ad5420117d354b36942ad319635dc655",
            "0261304d0b9340168ea7620b78db23f2",
            "76f6d55b603d453e99307925fe458d12",
            "998b62d708ce4d79b3da477f618361e0",
            "44ca3c337c3e4790aa428e83211f2a10",
            "eac26f74815e4dcfaf58a909e65b4b2a",
            "8d3fa2998ca04667b50a342e9741c624",
            "0e380e6d418d40b29f2895fc80f9e4b8",
            "4d4afe8c5d604cb98cbf64f3ccb32db3",
            "fcd5bdc66a374ff98d9c6dc7a41f0d43",
            "060c79e93233488abacadf3898a95521",
            "bb6fd4a33cf640819dbf59ea4430c4d6",
            "a01b146ff08b44f79dc90f761ade1844",
            "777cb14894504f9492e5df88bbd14c92",
            "963e08be8a5d44a2bb0440dcaf5d854a",
            "81b6d8dfed414fad98726fffbe633671",
            "92dbafaf08944eb1990bec72320d6305",
            "0aa1bf5f53834337a64887bcf62804af",
            "32429b53fef64e4a8a5eab39f1d12635"
          ]
        }
      },
      "outputs": [
        {
          "output_type": "display_data",
          "data": {
            "text/plain": [
              "Downloading (…)lve/main/config.json:   0%|          | 0.00/20.9k [00:00<?, ?B/s]"
            ],
            "application/vnd.jupyter.widget-view+json": {
              "version_major": 2,
              "version_minor": 0,
              "model_id": "bd5088d80fb04678ade69f729b4b2835"
            }
          },
          "metadata": {}
        },
        {
          "output_type": "display_data",
          "data": {
            "text/plain": [
              "Downloading pytorch_model.bin:   0%|          | 0.00/500M [00:00<?, ?B/s]"
            ],
            "application/vnd.jupyter.widget-view+json": {
              "version_major": 2,
              "version_minor": 0,
              "model_id": "4d4afe8c5d604cb98cbf64f3ccb32db3"
            }
          },
          "metadata": {}
        }
      ],
      "source": [
        "from transformers import AutoModelForSequenceClassification\n",
        "import torch\n",
        "\n",
        "model = AutoModelForSequenceClassification.from_pretrained(\n",
        "    modelo_base,\n",
        "    num_labels=class2label.num_classes,\n",
        "    problem_type = \"multi_label_classification\")"
      ]
    },
    {
      "cell_type": "code",
      "source": [
        "codigo_NONE = 'NONE'\n",
        "\n",
        "def calcular_predicciones(probs, threshold=umbral):\n",
        "  predictions = np.zeros(probs.shape)\n",
        "  predictions[np.where(probs > threshold)] = 1\n",
        "  return predictions\n",
        "\n",
        "def calcular_predicciones_NONE_mas_probable(probs, threshold=umbral):\n",
        "  predictions = calcular_predicciones(probs, threshold)\n",
        "\n",
        "  try:\n",
        "    probabilidad_NONE = probs[class2label.str2int(codigo_NONE)]\n",
        "    #Se ha encontrado NONE entre las predicciones\n",
        "    if (probabilidad_NONE > 0):\n",
        "      predictions_mayor_que_prob_NONE = np.zeros(probs.shape)\n",
        "      predictions_mayor_que_prob_NONE[np.where(probs > probabilidad_NONE)] = 1\n",
        "      # Si hay labels con mejor probabilidad que none nos la quedamos\n",
        "      if (1 in predictions_mayor_que_prob_NONE):\n",
        "        predictions = predictions_mayor_que_prob_NONE\n",
        "      else: #Si no las hay nos quedamos solo con NONE\n",
        "        predictions[:] = 0\n",
        "        predictions[class2label.str2int(codigo_NONE)] = 1\n",
        "  except ValueError:\n",
        "    pass\n",
        "\n",
        "  return predictions\n",
        "\n",
        "#Solo asignar NONE si existe y tiene una probabilidad que supere el umbral\n",
        "def calcular_predicciones_existe_NONE(probs, threshold=umbral):\n",
        "  predictions = calcular_predicciones(probs, threshold)\n",
        "\n",
        "  try:\n",
        "    probabilidad_NONE = probs[class2label.str2int(codigo_NONE)]\n",
        "    #Se ha encontrado NONE entre las predicciones, nos la quedamos de forma exclusiva\n",
        "    if (probabilidad_NONE > threshold):\n",
        "        predictions[:] = 0\n",
        "        predictions[class2label.str2int(codigo_NONE)] = 1\n",
        "  except ValueError:\n",
        "    pass\n",
        "\n",
        "  return predictions"
      ],
      "metadata": {
        "id": "szcKVn3qHHsG"
      },
      "id": "szcKVn3qHHsG",
      "execution_count": 28,
      "outputs": []
    },
    {
      "cell_type": "code",
      "source": [
        "# obtienen los nombres de las etiquetas predichas\n",
        "def obtener_lables_predichas (y_pred):\n",
        "  predicted_labels = [class2label.int2str([idx])for idx, label in enumerate(y_pred) if label == 1.0]\n",
        "  y_pred_labels = []\n",
        "  for label in predicted_labels:\n",
        "      y_pred_labels.append(label[0])\n",
        "  return y_pred_labels\n",
        "\n",
        "# obtienen el vector y_true a partir de los labels\n",
        "def obtener_y_true (labels):\n",
        "  # crea una matriz del tamaño del texto y las clases a entrenar\n",
        "  labels_matrix = np.zeros(class2label.num_classes)\n",
        "  for clase in labels:\n",
        "    try:\n",
        "      indice_clase = class2label.str2int(clase)\n",
        "      labels_matrix[indice_clase] = 1\n",
        "    except:\n",
        "      print(\"La clase %s no está entre las clases de entrenamiento\" % clase)\n",
        "  return labels_matrix.tolist()"
      ],
      "metadata": {
        "id": "oAy3s6zfzVkC"
      },
      "id": "oAy3s6zfzVkC",
      "execution_count": 29,
      "outputs": []
    },
    {
      "cell_type": "code",
      "execution_count": 30,
      "id": "-4JoYzSCnkva",
      "metadata": {
        "id": "-4JoYzSCnkva",
        "outputId": "89c13721-cb30-4059-b41a-05f7321488c7",
        "colab": {
          "base_uri": "https://localhost:8080/",
          "height": 1000,
          "referenced_widgets": [
            "cf5f78bdc5334694a4560c19125301b4",
            "24b1c5c9303247fbb08a13e7b9cfe050",
            "28720186eaf74cbfa78c81df7c4ca81a",
            "12b55e7cec9748bca4b50b683e7b1afa",
            "9cce982019a445cb91baeaf3cd6dceb0",
            "14615c628f4a4562ab8ae719ef7237dd",
            "3377431490c54eeda86b448953a09faf",
            "3b4af1c2ae8d4b4185b95b64cd3bd442",
            "e93d44237fa34fd9b704811d50ecce01",
            "657312dda40c4ba4aff746dd4f738bf7",
            "a70b6dc1268f4c898bfe6f8ee2e82df7"
          ]
        }
      },
      "outputs": [
        {
          "output_type": "display_data",
          "data": {
            "text/plain": [
              "  0%|          | 0/3629 [00:00<?, ?it/s]"
            ],
            "application/vnd.jupyter.widget-view+json": {
              "version_major": 2,
              "version_minor": 0,
              "model_id": "cf5f78bdc5334694a4560c19125301b4"
            }
          },
          "metadata": {}
        },
        {
          "output_type": "stream",
          "name": "stdout",
          "text": [
            "La clase T84.197A no está entre las clases de entrenamiento\n",
            "La clase T84.196A no está entre las clases de entrenamiento\n",
            "La clase O91.22 no está entre las clases de entrenamiento\n"
          ]
        },
        {
          "output_type": "stream",
          "name": "stderr",
          "text": [
            "<ipython-input-30-2d6921f5fb3f>:20: RuntimeWarning: invalid value encountered in long_scalars\n",
            "  recall_score_value = tp / (tp + fn)\n"
          ]
        },
        {
          "output_type": "stream",
          "name": "stdout",
          "text": [
            "La clase T86.5 no está entre las clases de entrenamiento\n"
          ]
        },
        {
          "output_type": "stream",
          "name": "stderr",
          "text": [
            "<ipython-input-30-2d6921f5fb3f>:20: RuntimeWarning: invalid value encountered in long_scalars\n",
            "  recall_score_value = tp / (tp + fn)\n"
          ]
        },
        {
          "output_type": "stream",
          "name": "stdout",
          "text": [
            "La clase M96.662 no está entre las clases de entrenamiento\n",
            "La clase O75.82 no está entre las clases de entrenamiento\n"
          ]
        },
        {
          "output_type": "stream",
          "name": "stderr",
          "text": [
            "<ipython-input-30-2d6921f5fb3f>:20: RuntimeWarning: invalid value encountered in long_scalars\n",
            "  recall_score_value = tp / (tp + fn)\n"
          ]
        },
        {
          "output_type": "stream",
          "name": "stdout",
          "text": [
            "La clase I97.121 no está entre las clases de entrenamiento\n"
          ]
        },
        {
          "output_type": "stream",
          "name": "stderr",
          "text": [
            "<ipython-input-30-2d6921f5fb3f>:20: RuntimeWarning: invalid value encountered in long_scalars\n",
            "  recall_score_value = tp / (tp + fn)\n"
          ]
        },
        {
          "output_type": "stream",
          "name": "stdout",
          "text": [
            "La clase P03.89 no está entre las clases de entrenamiento\n"
          ]
        },
        {
          "output_type": "stream",
          "name": "stderr",
          "text": [
            "<ipython-input-30-2d6921f5fb3f>:20: RuntimeWarning: invalid value encountered in long_scalars\n",
            "  recall_score_value = tp / (tp + fn)\n"
          ]
        },
        {
          "output_type": "stream",
          "name": "stdout",
          "text": [
            "La clase T84.428A no está entre las clases de entrenamiento\n"
          ]
        },
        {
          "output_type": "stream",
          "name": "stderr",
          "text": [
            "<ipython-input-30-2d6921f5fb3f>:20: RuntimeWarning: invalid value encountered in long_scalars\n",
            "  recall_score_value = tp / (tp + fn)\n"
          ]
        },
        {
          "output_type": "stream",
          "name": "stdout",
          "text": [
            "La clase T37.0X5A no está entre las clases de entrenamiento\n",
            "La clase E16.0 no está entre las clases de entrenamiento\n",
            "La clase T82.524A no está entre las clases de entrenamiento\n",
            "La clase T82.855D no está entre las clases de entrenamiento\n"
          ]
        },
        {
          "output_type": "stream",
          "name": "stderr",
          "text": [
            "<ipython-input-30-2d6921f5fb3f>:20: RuntimeWarning: invalid value encountered in long_scalars\n",
            "  recall_score_value = tp / (tp + fn)\n"
          ]
        },
        {
          "output_type": "stream",
          "name": "stdout",
          "text": [
            "La clase P15.8 no está entre las clases de entrenamiento\n",
            "La clase N99.512 no está entre las clases de entrenamiento\n"
          ]
        },
        {
          "output_type": "stream",
          "name": "stderr",
          "text": [
            "<ipython-input-30-2d6921f5fb3f>:20: RuntimeWarning: invalid value encountered in long_scalars\n",
            "  recall_score_value = tp / (tp + fn)\n"
          ]
        },
        {
          "output_type": "stream",
          "name": "stdout",
          "text": [
            "La clase T40.3X5A no está entre las clases de entrenamiento\n",
            "La clase T81.83XD no está entre las clases de entrenamiento\n",
            "La clase T44.995A no está entre las clases de entrenamiento\n",
            "La clase G24.09 no está entre las clases de entrenamiento\n",
            "La clase T42.6X5A no está entre las clases de entrenamiento\n",
            "La clase T82.310A no está entre las clases de entrenamiento\n"
          ]
        },
        {
          "output_type": "stream",
          "name": "stderr",
          "text": [
            "<ipython-input-30-2d6921f5fb3f>:20: RuntimeWarning: invalid value encountered in long_scalars\n",
            "  recall_score_value = tp / (tp + fn)\n"
          ]
        },
        {
          "output_type": "stream",
          "name": "stdout",
          "text": [
            "La clase O89.4 no está entre las clases de entrenamiento\n"
          ]
        },
        {
          "output_type": "stream",
          "name": "stderr",
          "text": [
            "<ipython-input-30-2d6921f5fb3f>:20: RuntimeWarning: invalid value encountered in long_scalars\n",
            "  recall_score_value = tp / (tp + fn)\n"
          ]
        },
        {
          "output_type": "stream",
          "name": "stdout",
          "text": [
            "La clase P12.0 no está entre las clases de entrenamiento\n",
            "La clase P39.4 no está entre las clases de entrenamiento\n"
          ]
        },
        {
          "output_type": "stream",
          "name": "stderr",
          "text": [
            "<ipython-input-30-2d6921f5fb3f>:20: RuntimeWarning: invalid value encountered in long_scalars\n",
            "  recall_score_value = tp / (tp + fn)\n"
          ]
        },
        {
          "output_type": "stream",
          "name": "stdout",
          "text": [
            "La clase Y69 no está entre las clases de entrenamiento\n",
            "La clase T43.505S no está entre las clases de entrenamiento\n"
          ]
        },
        {
          "output_type": "stream",
          "name": "stderr",
          "text": [
            "<ipython-input-30-2d6921f5fb3f>:20: RuntimeWarning: invalid value encountered in long_scalars\n",
            "  recall_score_value = tp / (tp + fn)\n"
          ]
        },
        {
          "output_type": "stream",
          "name": "stdout",
          "text": [
            "La clase G25.79 no está entre las clases de entrenamiento\n"
          ]
        },
        {
          "output_type": "stream",
          "name": "stderr",
          "text": [
            "<ipython-input-30-2d6921f5fb3f>:20: RuntimeWarning: invalid value encountered in long_scalars\n",
            "  recall_score_value = tp / (tp + fn)\n"
          ]
        },
        {
          "output_type": "stream",
          "name": "stdout",
          "text": [
            "La clase T86.40 no está entre las clases de entrenamiento\n",
            "La clase T50.6X5D no está entre las clases de entrenamiento\n"
          ]
        },
        {
          "output_type": "stream",
          "name": "stderr",
          "text": [
            "<ipython-input-30-2d6921f5fb3f>:20: RuntimeWarning: invalid value encountered in long_scalars\n",
            "  recall_score_value = tp / (tp + fn)\n"
          ]
        },
        {
          "output_type": "stream",
          "name": "stdout",
          "text": [
            "La clase T81.19XA no está entre las clases de entrenamiento\n",
            "La clase T84.093A no está entre las clases de entrenamiento\n",
            "La clase H59.88 no está entre las clases de entrenamiento\n",
            "La clase H59.329 no está entre las clases de entrenamiento\n"
          ]
        },
        {
          "output_type": "stream",
          "name": "stderr",
          "text": [
            "<ipython-input-30-2d6921f5fb3f>:20: RuntimeWarning: invalid value encountered in long_scalars\n",
            "  recall_score_value = tp / (tp + fn)\n"
          ]
        },
        {
          "output_type": "stream",
          "name": "stdout",
          "text": [
            "La clase T86.831 no está entre las clases de entrenamiento\n",
            "La clase I97.121 no está entre las clases de entrenamiento\n",
            "La clase T84.098A no está entre las clases de entrenamiento\n"
          ]
        },
        {
          "output_type": "stream",
          "name": "stderr",
          "text": [
            "<ipython-input-30-2d6921f5fb3f>:20: RuntimeWarning: invalid value encountered in long_scalars\n",
            "  recall_score_value = tp / (tp + fn)\n"
          ]
        },
        {
          "output_type": "stream",
          "name": "stdout",
          "text": [
            "La clase K91.81 no está entre las clases de entrenamiento\n",
            "La clase T81.507A no está entre las clases de entrenamiento\n",
            "La clase P13.2 no está entre las clases de entrenamiento\n"
          ]
        },
        {
          "output_type": "stream",
          "name": "stderr",
          "text": [
            "<ipython-input-30-2d6921f5fb3f>:20: RuntimeWarning: invalid value encountered in long_scalars\n",
            "  recall_score_value = tp / (tp + fn)\n"
          ]
        },
        {
          "output_type": "stream",
          "name": "stdout",
          "text": [
            "La clase K91.62 no está entre las clases de entrenamiento\n",
            "La clase P36.19 no está entre las clases de entrenamiento\n",
            "La clase P03.89 no está entre las clases de entrenamiento\n",
            "La clase T82.09XA no está entre las clases de entrenamiento\n"
          ]
        },
        {
          "output_type": "stream",
          "name": "stderr",
          "text": [
            "<ipython-input-30-2d6921f5fb3f>:20: RuntimeWarning: invalid value encountered in long_scalars\n",
            "  recall_score_value = tp / (tp + fn)\n"
          ]
        },
        {
          "output_type": "stream",
          "name": "stdout",
          "text": [
            "La clase T85.44XA no está entre las clases de entrenamiento\n"
          ]
        },
        {
          "output_type": "stream",
          "name": "stderr",
          "text": [
            "<ipython-input-30-2d6921f5fb3f>:20: RuntimeWarning: invalid value encountered in long_scalars\n",
            "  recall_score_value = tp / (tp + fn)\n"
          ]
        }
      ],
      "source": [
        "from sklearn.metrics import f1_score, roc_auc_score, accuracy_score, precision_score, recall_score, confusion_matrix, ConfusionMatrixDisplay\n",
        "import numpy as np\n",
        "import pandas as pd\n",
        "from tqdm.notebook import tqdm\n",
        "import warnings\n",
        "warnings.simplefilter(action='ignore', category=FutureWarning)\n",
        "\n",
        "df_resultados = pd.DataFrame(columns=[\"y_true\", \"y_pred\", \"metrica_s\", \"precision\", \"recall\", \"f1\", \"accuracy\"])\n",
        "\n",
        "def calculo_metricas_multi_label(y_pred, y_true, threshold=umbral):\n",
        "    metric_average = \"micro\"\n",
        "    cm = confusion_matrix(y_true, y_pred)\n",
        "    tn, fp, fn, tp = cm.ravel()\n",
        "    #ConfusionMatrixDisplay(cm).plot()\n",
        "    #print(\"tn\", tn, \"tn\", fp, \"fn\", fn, \"tp\", tp )\n",
        "\n",
        "    #precision_score_value = precision_score(y_true, y_pred, average=metric_average)\n",
        "    precision_score_value = tp / (tp + fp)\n",
        "    #recall_score_value = recall_score(y_true, y_pred, average=metric_average)\n",
        "    recall_score_value = tp / (tp + fn)\n",
        "    #f1_micro_average = f1_score(y_true=y_true, y_pred=y_pred, average=metric_average)\n",
        "    #print(\"precision_score_value\", precision_score_value, \"recall_score_value\", recall_score_value )\n",
        "    f1_micro_average = 0\n",
        "    if (tp > 0):\n",
        "      f1_micro_average = 2 * ((precision_score_value*recall_score_value)/(precision_score_value+recall_score_value))\n",
        "    #roc_auc = roc_auc_score(y_true, y_pred, average=metric_average)\n",
        "    accuracy = accuracy_score(y_true, y_pred)\n",
        "    metrica_s_value = metrica_s_train(y_true, y_pred)\n",
        "\n",
        "    return metrica_s_value, precision_score_value, recall_score_value, f1_micro_average, accuracy\n",
        "\n",
        "for i in tqdm(range(dataset[test].num_rows)):\n",
        "  data = dataset[test][i]\n",
        "  inputs = preprocess_data(data)\n",
        "  outputs = model(**inputs)\n",
        "\n",
        "  logits = outputs.logits\n",
        "  # apply sigmoid + threshold\n",
        "  sigmoid = torch.nn.Sigmoid()\n",
        "  probs = sigmoid(logits.squeeze().cpu())\n",
        "\n",
        "  y_pred = calcular_predicciones_NONE_mas_probable(probs)\n",
        "  y_pred_labels = obtener_lables_predichas(y_pred)\n",
        "\n",
        "  y_true = obtener_y_true(data['label_list_str'])\n",
        "  y_true_labels = data['label_list_str']\n",
        "\n",
        "  metricas = calculo_metricas_multi_label(y_pred, y_true)\n",
        "\n",
        "  resultados = ({\n",
        "      'y_true':y_true_labels,\n",
        "      'y_pred' :y_pred_labels,\n",
        "      'metrica_s':metricas[0],\n",
        "      'precision':metricas[1],\n",
        "      'recall':metricas[2],\n",
        "      'f1':metricas[3],\n",
        "      'accuracy':metricas[4]})\n",
        "\n",
        "  df_resultados = df_resultados.append(resultados, ignore_index=True)\n"
      ]
    },
    {
      "cell_type": "markdown",
      "source": [
        "#Macro-average\n",
        "\n",
        "La métrica S macro-average se calcula como la media aritmética de la métrica S sobre todos los actos clínicos del conjunto de pruebas"
      ],
      "metadata": {
        "id": "HGgfDUcnc51E"
      },
      "id": "HGgfDUcnc51E"
    },
    {
      "cell_type": "code",
      "execution_count": 31,
      "id": "G7POj0JiyDiY",
      "metadata": {
        "id": "G7POj0JiyDiY",
        "outputId": "b0395b9b-466c-43d5-86fb-f592054680f0",
        "colab": {
          "base_uri": "https://localhost:8080/"
        }
      },
      "outputs": [
        {
          "output_type": "stream",
          "name": "stdout",
          "text": [
            "metrica_s 0.009986\n",
            "precision 0.006889\n",
            "recall 0.007201\n",
            "f1 0.006676\n",
            "accuracy 0.993731\n"
          ]
        }
      ],
      "source": [
        "def calcular_media (metrica_nombre):\n",
        "  suma = df_resultados[metrica_nombre].sum()\n",
        "  media = round(suma / dataset[test].num_rows, 6)\n",
        "  print(metrica_nombre, media)\n",
        "\n",
        "\n",
        "calcular_media ('metrica_s')\n",
        "calcular_media ('precision')\n",
        "calcular_media ('recall')\n",
        "calcular_media ('f1')\n",
        "calcular_media ('accuracy')"
      ]
    },
    {
      "cell_type": "code",
      "execution_count": 32,
      "id": "-I9BH3BN_Ltl",
      "metadata": {
        "id": "-I9BH3BN_Ltl",
        "outputId": "4f5f431d-b737-436a-dd5b-ba6344a0e6d4",
        "colab": {
          "base_uri": "https://localhost:8080/",
          "height": 423
        }
      },
      "outputs": [
        {
          "output_type": "execute_result",
          "data": {
            "text/plain": [
              "          y_true             y_pred  metrica_s  precision  recall f1  accuracy\n",
              "0         [NONE]  [T45.1X5A, Y84.8]   0.000000        0.0     0.0  0  0.993814\n",
              "1         [NONE]  [T45.1X5A, Y84.8]   0.000000        0.0     0.0  0  0.993814\n",
              "2         [NONE]  [T45.1X5A, Y84.8]   0.000000        0.0     0.0  0  0.993814\n",
              "3         [NONE]  [T45.1X5A, Y84.8]   0.000000        0.0     0.0  0  0.993814\n",
              "4         [NONE]  [T45.1X5A, Y84.8]   0.000000        0.0     0.0  0  0.993814\n",
              "...          ...                ...        ...        ...     ... ..       ...\n",
              "3624  [T45.515A]  [T45.1X5A, Y84.8]   0.214285        0.0     0.0  0  0.993814\n",
              "3625      [NONE]  [T45.1X5A, Y84.8]   0.000000        0.0     0.0  0  0.993814\n",
              "3626      [NONE]  [T45.1X5A, Y84.8]   0.000000        0.0     0.0  0  0.993814\n",
              "3627      [NONE]  [T45.1X5A, Y84.8]   0.000000        0.0     0.0  0  0.993814\n",
              "3628      [NONE]  [T45.1X5A, Y84.8]   0.000000        0.0     0.0  0  0.993814\n",
              "\n",
              "[3629 rows x 7 columns]"
            ],
            "text/html": [
              "\n",
              "  <div id=\"df-2e409891-093b-49db-a691-f079b904f359\">\n",
              "    <div class=\"colab-df-container\">\n",
              "      <div>\n",
              "<style scoped>\n",
              "    .dataframe tbody tr th:only-of-type {\n",
              "        vertical-align: middle;\n",
              "    }\n",
              "\n",
              "    .dataframe tbody tr th {\n",
              "        vertical-align: top;\n",
              "    }\n",
              "\n",
              "    .dataframe thead th {\n",
              "        text-align: right;\n",
              "    }\n",
              "</style>\n",
              "<table border=\"1\" class=\"dataframe\">\n",
              "  <thead>\n",
              "    <tr style=\"text-align: right;\">\n",
              "      <th></th>\n",
              "      <th>y_true</th>\n",
              "      <th>y_pred</th>\n",
              "      <th>metrica_s</th>\n",
              "      <th>precision</th>\n",
              "      <th>recall</th>\n",
              "      <th>f1</th>\n",
              "      <th>accuracy</th>\n",
              "    </tr>\n",
              "  </thead>\n",
              "  <tbody>\n",
              "    <tr>\n",
              "      <th>0</th>\n",
              "      <td>[NONE]</td>\n",
              "      <td>[T45.1X5A, Y84.8]</td>\n",
              "      <td>0.000000</td>\n",
              "      <td>0.0</td>\n",
              "      <td>0.0</td>\n",
              "      <td>0</td>\n",
              "      <td>0.993814</td>\n",
              "    </tr>\n",
              "    <tr>\n",
              "      <th>1</th>\n",
              "      <td>[NONE]</td>\n",
              "      <td>[T45.1X5A, Y84.8]</td>\n",
              "      <td>0.000000</td>\n",
              "      <td>0.0</td>\n",
              "      <td>0.0</td>\n",
              "      <td>0</td>\n",
              "      <td>0.993814</td>\n",
              "    </tr>\n",
              "    <tr>\n",
              "      <th>2</th>\n",
              "      <td>[NONE]</td>\n",
              "      <td>[T45.1X5A, Y84.8]</td>\n",
              "      <td>0.000000</td>\n",
              "      <td>0.0</td>\n",
              "      <td>0.0</td>\n",
              "      <td>0</td>\n",
              "      <td>0.993814</td>\n",
              "    </tr>\n",
              "    <tr>\n",
              "      <th>3</th>\n",
              "      <td>[NONE]</td>\n",
              "      <td>[T45.1X5A, Y84.8]</td>\n",
              "      <td>0.000000</td>\n",
              "      <td>0.0</td>\n",
              "      <td>0.0</td>\n",
              "      <td>0</td>\n",
              "      <td>0.993814</td>\n",
              "    </tr>\n",
              "    <tr>\n",
              "      <th>4</th>\n",
              "      <td>[NONE]</td>\n",
              "      <td>[T45.1X5A, Y84.8]</td>\n",
              "      <td>0.000000</td>\n",
              "      <td>0.0</td>\n",
              "      <td>0.0</td>\n",
              "      <td>0</td>\n",
              "      <td>0.993814</td>\n",
              "    </tr>\n",
              "    <tr>\n",
              "      <th>...</th>\n",
              "      <td>...</td>\n",
              "      <td>...</td>\n",
              "      <td>...</td>\n",
              "      <td>...</td>\n",
              "      <td>...</td>\n",
              "      <td>...</td>\n",
              "      <td>...</td>\n",
              "    </tr>\n",
              "    <tr>\n",
              "      <th>3624</th>\n",
              "      <td>[T45.515A]</td>\n",
              "      <td>[T45.1X5A, Y84.8]</td>\n",
              "      <td>0.214285</td>\n",
              "      <td>0.0</td>\n",
              "      <td>0.0</td>\n",
              "      <td>0</td>\n",
              "      <td>0.993814</td>\n",
              "    </tr>\n",
              "    <tr>\n",
              "      <th>3625</th>\n",
              "      <td>[NONE]</td>\n",
              "      <td>[T45.1X5A, Y84.8]</td>\n",
              "      <td>0.000000</td>\n",
              "      <td>0.0</td>\n",
              "      <td>0.0</td>\n",
              "      <td>0</td>\n",
              "      <td>0.993814</td>\n",
              "    </tr>\n",
              "    <tr>\n",
              "      <th>3626</th>\n",
              "      <td>[NONE]</td>\n",
              "      <td>[T45.1X5A, Y84.8]</td>\n",
              "      <td>0.000000</td>\n",
              "      <td>0.0</td>\n",
              "      <td>0.0</td>\n",
              "      <td>0</td>\n",
              "      <td>0.993814</td>\n",
              "    </tr>\n",
              "    <tr>\n",
              "      <th>3627</th>\n",
              "      <td>[NONE]</td>\n",
              "      <td>[T45.1X5A, Y84.8]</td>\n",
              "      <td>0.000000</td>\n",
              "      <td>0.0</td>\n",
              "      <td>0.0</td>\n",
              "      <td>0</td>\n",
              "      <td>0.993814</td>\n",
              "    </tr>\n",
              "    <tr>\n",
              "      <th>3628</th>\n",
              "      <td>[NONE]</td>\n",
              "      <td>[T45.1X5A, Y84.8]</td>\n",
              "      <td>0.000000</td>\n",
              "      <td>0.0</td>\n",
              "      <td>0.0</td>\n",
              "      <td>0</td>\n",
              "      <td>0.993814</td>\n",
              "    </tr>\n",
              "  </tbody>\n",
              "</table>\n",
              "<p>3629 rows × 7 columns</p>\n",
              "</div>\n",
              "      <button class=\"colab-df-convert\" onclick=\"convertToInteractive('df-2e409891-093b-49db-a691-f079b904f359')\"\n",
              "              title=\"Convert this dataframe to an interactive table.\"\n",
              "              style=\"display:none;\">\n",
              "        \n",
              "  <svg xmlns=\"http://www.w3.org/2000/svg\" height=\"24px\"viewBox=\"0 0 24 24\"\n",
              "       width=\"24px\">\n",
              "    <path d=\"M0 0h24v24H0V0z\" fill=\"none\"/>\n",
              "    <path d=\"M18.56 5.44l.94 2.06.94-2.06 2.06-.94-2.06-.94-.94-2.06-.94 2.06-2.06.94zm-11 1L8.5 8.5l.94-2.06 2.06-.94-2.06-.94L8.5 2.5l-.94 2.06-2.06.94zm10 10l.94 2.06.94-2.06 2.06-.94-2.06-.94-.94-2.06-.94 2.06-2.06.94z\"/><path d=\"M17.41 7.96l-1.37-1.37c-.4-.4-.92-.59-1.43-.59-.52 0-1.04.2-1.43.59L10.3 9.45l-7.72 7.72c-.78.78-.78 2.05 0 2.83L4 21.41c.39.39.9.59 1.41.59.51 0 1.02-.2 1.41-.59l7.78-7.78 2.81-2.81c.8-.78.8-2.07 0-2.86zM5.41 20L4 18.59l7.72-7.72 1.47 1.35L5.41 20z\"/>\n",
              "  </svg>\n",
              "      </button>\n",
              "      \n",
              "  <style>\n",
              "    .colab-df-container {\n",
              "      display:flex;\n",
              "      flex-wrap:wrap;\n",
              "      gap: 12px;\n",
              "    }\n",
              "\n",
              "    .colab-df-convert {\n",
              "      background-color: #E8F0FE;\n",
              "      border: none;\n",
              "      border-radius: 50%;\n",
              "      cursor: pointer;\n",
              "      display: none;\n",
              "      fill: #1967D2;\n",
              "      height: 32px;\n",
              "      padding: 0 0 0 0;\n",
              "      width: 32px;\n",
              "    }\n",
              "\n",
              "    .colab-df-convert:hover {\n",
              "      background-color: #E2EBFA;\n",
              "      box-shadow: 0px 1px 2px rgba(60, 64, 67, 0.3), 0px 1px 3px 1px rgba(60, 64, 67, 0.15);\n",
              "      fill: #174EA6;\n",
              "    }\n",
              "\n",
              "    [theme=dark] .colab-df-convert {\n",
              "      background-color: #3B4455;\n",
              "      fill: #D2E3FC;\n",
              "    }\n",
              "\n",
              "    [theme=dark] .colab-df-convert:hover {\n",
              "      background-color: #434B5C;\n",
              "      box-shadow: 0px 1px 3px 1px rgba(0, 0, 0, 0.15);\n",
              "      filter: drop-shadow(0px 1px 2px rgba(0, 0, 0, 0.3));\n",
              "      fill: #FFFFFF;\n",
              "    }\n",
              "  </style>\n",
              "\n",
              "      <script>\n",
              "        const buttonEl =\n",
              "          document.querySelector('#df-2e409891-093b-49db-a691-f079b904f359 button.colab-df-convert');\n",
              "        buttonEl.style.display =\n",
              "          google.colab.kernel.accessAllowed ? 'block' : 'none';\n",
              "\n",
              "        async function convertToInteractive(key) {\n",
              "          const element = document.querySelector('#df-2e409891-093b-49db-a691-f079b904f359');\n",
              "          const dataTable =\n",
              "            await google.colab.kernel.invokeFunction('convertToInteractive',\n",
              "                                                     [key], {});\n",
              "          if (!dataTable) return;\n",
              "\n",
              "          const docLinkHtml = 'Like what you see? Visit the ' +\n",
              "            '<a target=\"_blank\" href=https://colab.research.google.com/notebooks/data_table.ipynb>data table notebook</a>'\n",
              "            + ' to learn more about interactive tables.';\n",
              "          element.innerHTML = '';\n",
              "          dataTable['output_type'] = 'display_data';\n",
              "          await google.colab.output.renderOutput(dataTable, element);\n",
              "          const docLink = document.createElement('div');\n",
              "          docLink.innerHTML = docLinkHtml;\n",
              "          element.appendChild(docLink);\n",
              "        }\n",
              "      </script>\n",
              "    </div>\n",
              "  </div>\n",
              "  "
            ]
          },
          "metadata": {},
          "execution_count": 32
        }
      ],
      "source": [
        "df_resultados"
      ]
    },
    {
      "cell_type": "markdown",
      "source": [
        "#Micro-average\n",
        "\n",
        "El cálculo de la métrica S micro-average sobre un conjunto de códigos seleccionado se realiza de la siguiente manera: se calcula la medida S de cada código sobre todos los actos clínicos en los que aparece en el Gold Standard y posteriormente se divide por el número de códigos del conjunto de códigos que se quiere evaluar. Nótese que para ello, en la evaluación sólo se tiene en cuenta los códigos del conjunto, de manera que el resto deben obviarse."
      ],
      "metadata": {
        "id": "2m8yziyUchJQ"
      },
      "id": "2m8yziyUchJQ"
    },
    {
      "cell_type": "code",
      "source": [
        "codigo_busqueda = \"T38.0X5A\"\n",
        "suma_metrica_s_micro = 0\n",
        "indice = 0\n",
        "for row in df_resultados['y_true']:\n",
        "  for codigo in row:\n",
        "    if (codigo == codigo_busqueda):\n",
        "      suma_metrica_s_micro += df_resultados['metrica_s'][indice]\n",
        "      break\n",
        "  indice += 1\n",
        "suma_metrica_s_micro\n",
        "\n",
        "micro_average = round(suma_metrica_s_micro / class2label.num_classes, 6)\n",
        "print(micro_average)"
      ],
      "metadata": {
        "id": "pOEvjJGhciyH",
        "outputId": "16f4af47-6b67-46ea-9ae4-5156024fea3b",
        "colab": {
          "base_uri": "https://localhost:8080/"
        }
      },
      "id": "pOEvjJGhciyH",
      "execution_count": 33,
      "outputs": [
        {
          "output_type": "stream",
          "name": "stdout",
          "text": [
            "0.000785\n"
          ]
        }
      ]
    }
  ],
  "metadata": {
    "accelerator": "GPU",
    "colab": {
      "collapsed_sections": [
        "go9KsGPAlNBf"
      ],
      "gpuType": "V100",
      "provenance": [],
      "machine_shape": "hm",
      "include_colab_link": true
    },
    "kernelspec": {
      "display_name": "Python 3",
      "name": "python3"
    },
    "language_info": {
      "codemirror_mode": {
        "name": "ipython",
        "version": 3
      },
      "file_extension": ".py",
      "mimetype": "text/x-python",
      "name": "python",
      "nbconvert_exporter": "python",
      "pygments_lexer": "ipython3",
      "version": "3.9.12"
    },
    "widgets": {
      "application/vnd.jupyter.widget-state+json": {
        "b72fe9fd4ae24ee2b1d0e2278dafe119": {
          "model_module": "@jupyter-widgets/controls",
          "model_name": "HBoxModel",
          "model_module_version": "1.5.0",
          "state": {
            "_dom_classes": [],
            "_model_module": "@jupyter-widgets/controls",
            "_model_module_version": "1.5.0",
            "_model_name": "HBoxModel",
            "_view_count": null,
            "_view_module": "@jupyter-widgets/controls",
            "_view_module_version": "1.5.0",
            "_view_name": "HBoxView",
            "box_style": "",
            "children": [
              "IPY_MODEL_9997be234a3f420eab59fe18ba8bd82c",
              "IPY_MODEL_413c3fd5ae844fd6ae1bdd869a170819",
              "IPY_MODEL_cc7b999827e14fa7a7b9a6899d6f6dd0"
            ],
            "layout": "IPY_MODEL_58f25ad4447d4ac1852174d470656fed"
          }
        },
        "9997be234a3f420eab59fe18ba8bd82c": {
          "model_module": "@jupyter-widgets/controls",
          "model_name": "HTMLModel",
          "model_module_version": "1.5.0",
          "state": {
            "_dom_classes": [],
            "_model_module": "@jupyter-widgets/controls",
            "_model_module_version": "1.5.0",
            "_model_name": "HTMLModel",
            "_view_count": null,
            "_view_module": "@jupyter-widgets/controls",
            "_view_module_version": "1.5.0",
            "_view_name": "HTMLView",
            "description": "",
            "description_tooltip": null,
            "layout": "IPY_MODEL_a5fb0385ef03438a9206954def531bfa",
            "placeholder": "​",
            "style": "IPY_MODEL_56f8eb34eacf4669a60d8eb4be6b4fd0",
            "value": "Downloading (…)okenizer_config.json: 100%"
          }
        },
        "413c3fd5ae844fd6ae1bdd869a170819": {
          "model_module": "@jupyter-widgets/controls",
          "model_name": "FloatProgressModel",
          "model_module_version": "1.5.0",
          "state": {
            "_dom_classes": [],
            "_model_module": "@jupyter-widgets/controls",
            "_model_module_version": "1.5.0",
            "_model_name": "FloatProgressModel",
            "_view_count": null,
            "_view_module": "@jupyter-widgets/controls",
            "_view_module_version": "1.5.0",
            "_view_name": "ProgressView",
            "bar_style": "success",
            "description": "",
            "description_tooltip": null,
            "layout": "IPY_MODEL_a7939030ce3949c9a12209fffa8a9a14",
            "max": 1330,
            "min": 0,
            "orientation": "horizontal",
            "style": "IPY_MODEL_cdd8944999c04cb7abec88b9c99d47ff",
            "value": 1330
          }
        },
        "cc7b999827e14fa7a7b9a6899d6f6dd0": {
          "model_module": "@jupyter-widgets/controls",
          "model_name": "HTMLModel",
          "model_module_version": "1.5.0",
          "state": {
            "_dom_classes": [],
            "_model_module": "@jupyter-widgets/controls",
            "_model_module_version": "1.5.0",
            "_model_name": "HTMLModel",
            "_view_count": null,
            "_view_module": "@jupyter-widgets/controls",
            "_view_module_version": "1.5.0",
            "_view_name": "HTMLView",
            "description": "",
            "description_tooltip": null,
            "layout": "IPY_MODEL_7fbf5259087e4b548057e473b7788572",
            "placeholder": "​",
            "style": "IPY_MODEL_80849b60d9074fa0b5ce06c640a2de1c",
            "value": " 1.33k/1.33k [00:00&lt;00:00, 42.7kB/s]"
          }
        },
        "58f25ad4447d4ac1852174d470656fed": {
          "model_module": "@jupyter-widgets/base",
          "model_name": "LayoutModel",
          "model_module_version": "1.2.0",
          "state": {
            "_model_module": "@jupyter-widgets/base",
            "_model_module_version": "1.2.0",
            "_model_name": "LayoutModel",
            "_view_count": null,
            "_view_module": "@jupyter-widgets/base",
            "_view_module_version": "1.2.0",
            "_view_name": "LayoutView",
            "align_content": null,
            "align_items": null,
            "align_self": null,
            "border": null,
            "bottom": null,
            "display": null,
            "flex": null,
            "flex_flow": null,
            "grid_area": null,
            "grid_auto_columns": null,
            "grid_auto_flow": null,
            "grid_auto_rows": null,
            "grid_column": null,
            "grid_gap": null,
            "grid_row": null,
            "grid_template_areas": null,
            "grid_template_columns": null,
            "grid_template_rows": null,
            "height": null,
            "justify_content": null,
            "justify_items": null,
            "left": null,
            "margin": null,
            "max_height": null,
            "max_width": null,
            "min_height": null,
            "min_width": null,
            "object_fit": null,
            "object_position": null,
            "order": null,
            "overflow": null,
            "overflow_x": null,
            "overflow_y": null,
            "padding": null,
            "right": null,
            "top": null,
            "visibility": null,
            "width": null
          }
        },
        "a5fb0385ef03438a9206954def531bfa": {
          "model_module": "@jupyter-widgets/base",
          "model_name": "LayoutModel",
          "model_module_version": "1.2.0",
          "state": {
            "_model_module": "@jupyter-widgets/base",
            "_model_module_version": "1.2.0",
            "_model_name": "LayoutModel",
            "_view_count": null,
            "_view_module": "@jupyter-widgets/base",
            "_view_module_version": "1.2.0",
            "_view_name": "LayoutView",
            "align_content": null,
            "align_items": null,
            "align_self": null,
            "border": null,
            "bottom": null,
            "display": null,
            "flex": null,
            "flex_flow": null,
            "grid_area": null,
            "grid_auto_columns": null,
            "grid_auto_flow": null,
            "grid_auto_rows": null,
            "grid_column": null,
            "grid_gap": null,
            "grid_row": null,
            "grid_template_areas": null,
            "grid_template_columns": null,
            "grid_template_rows": null,
            "height": null,
            "justify_content": null,
            "justify_items": null,
            "left": null,
            "margin": null,
            "max_height": null,
            "max_width": null,
            "min_height": null,
            "min_width": null,
            "object_fit": null,
            "object_position": null,
            "order": null,
            "overflow": null,
            "overflow_x": null,
            "overflow_y": null,
            "padding": null,
            "right": null,
            "top": null,
            "visibility": null,
            "width": null
          }
        },
        "56f8eb34eacf4669a60d8eb4be6b4fd0": {
          "model_module": "@jupyter-widgets/controls",
          "model_name": "DescriptionStyleModel",
          "model_module_version": "1.5.0",
          "state": {
            "_model_module": "@jupyter-widgets/controls",
            "_model_module_version": "1.5.0",
            "_model_name": "DescriptionStyleModel",
            "_view_count": null,
            "_view_module": "@jupyter-widgets/base",
            "_view_module_version": "1.2.0",
            "_view_name": "StyleView",
            "description_width": ""
          }
        },
        "a7939030ce3949c9a12209fffa8a9a14": {
          "model_module": "@jupyter-widgets/base",
          "model_name": "LayoutModel",
          "model_module_version": "1.2.0",
          "state": {
            "_model_module": "@jupyter-widgets/base",
            "_model_module_version": "1.2.0",
            "_model_name": "LayoutModel",
            "_view_count": null,
            "_view_module": "@jupyter-widgets/base",
            "_view_module_version": "1.2.0",
            "_view_name": "LayoutView",
            "align_content": null,
            "align_items": null,
            "align_self": null,
            "border": null,
            "bottom": null,
            "display": null,
            "flex": null,
            "flex_flow": null,
            "grid_area": null,
            "grid_auto_columns": null,
            "grid_auto_flow": null,
            "grid_auto_rows": null,
            "grid_column": null,
            "grid_gap": null,
            "grid_row": null,
            "grid_template_areas": null,
            "grid_template_columns": null,
            "grid_template_rows": null,
            "height": null,
            "justify_content": null,
            "justify_items": null,
            "left": null,
            "margin": null,
            "max_height": null,
            "max_width": null,
            "min_height": null,
            "min_width": null,
            "object_fit": null,
            "object_position": null,
            "order": null,
            "overflow": null,
            "overflow_x": null,
            "overflow_y": null,
            "padding": null,
            "right": null,
            "top": null,
            "visibility": null,
            "width": null
          }
        },
        "cdd8944999c04cb7abec88b9c99d47ff": {
          "model_module": "@jupyter-widgets/controls",
          "model_name": "ProgressStyleModel",
          "model_module_version": "1.5.0",
          "state": {
            "_model_module": "@jupyter-widgets/controls",
            "_model_module_version": "1.5.0",
            "_model_name": "ProgressStyleModel",
            "_view_count": null,
            "_view_module": "@jupyter-widgets/base",
            "_view_module_version": "1.2.0",
            "_view_name": "StyleView",
            "bar_color": null,
            "description_width": ""
          }
        },
        "7fbf5259087e4b548057e473b7788572": {
          "model_module": "@jupyter-widgets/base",
          "model_name": "LayoutModel",
          "model_module_version": "1.2.0",
          "state": {
            "_model_module": "@jupyter-widgets/base",
            "_model_module_version": "1.2.0",
            "_model_name": "LayoutModel",
            "_view_count": null,
            "_view_module": "@jupyter-widgets/base",
            "_view_module_version": "1.2.0",
            "_view_name": "LayoutView",
            "align_content": null,
            "align_items": null,
            "align_self": null,
            "border": null,
            "bottom": null,
            "display": null,
            "flex": null,
            "flex_flow": null,
            "grid_area": null,
            "grid_auto_columns": null,
            "grid_auto_flow": null,
            "grid_auto_rows": null,
            "grid_column": null,
            "grid_gap": null,
            "grid_row": null,
            "grid_template_areas": null,
            "grid_template_columns": null,
            "grid_template_rows": null,
            "height": null,
            "justify_content": null,
            "justify_items": null,
            "left": null,
            "margin": null,
            "max_height": null,
            "max_width": null,
            "min_height": null,
            "min_width": null,
            "object_fit": null,
            "object_position": null,
            "order": null,
            "overflow": null,
            "overflow_x": null,
            "overflow_y": null,
            "padding": null,
            "right": null,
            "top": null,
            "visibility": null,
            "width": null
          }
        },
        "80849b60d9074fa0b5ce06c640a2de1c": {
          "model_module": "@jupyter-widgets/controls",
          "model_name": "DescriptionStyleModel",
          "model_module_version": "1.5.0",
          "state": {
            "_model_module": "@jupyter-widgets/controls",
            "_model_module_version": "1.5.0",
            "_model_name": "DescriptionStyleModel",
            "_view_count": null,
            "_view_module": "@jupyter-widgets/base",
            "_view_module_version": "1.2.0",
            "_view_name": "StyleView",
            "description_width": ""
          }
        },
        "71deb199640b45f38ad1b6593dde82e7": {
          "model_module": "@jupyter-widgets/controls",
          "model_name": "HBoxModel",
          "model_module_version": "1.5.0",
          "state": {
            "_dom_classes": [],
            "_model_module": "@jupyter-widgets/controls",
            "_model_module_version": "1.5.0",
            "_model_name": "HBoxModel",
            "_view_count": null,
            "_view_module": "@jupyter-widgets/controls",
            "_view_module_version": "1.5.0",
            "_view_name": "HBoxView",
            "box_style": "",
            "children": [
              "IPY_MODEL_d404bd1448dc4344a94778b04a8c11cc",
              "IPY_MODEL_b5f2ca9b96fa47149c0d213db0cb7b26",
              "IPY_MODEL_401d1cd6500c4f768c3749a7a40505a1"
            ],
            "layout": "IPY_MODEL_16df468039324bf6970f333273eeeb18"
          }
        },
        "d404bd1448dc4344a94778b04a8c11cc": {
          "model_module": "@jupyter-widgets/controls",
          "model_name": "HTMLModel",
          "model_module_version": "1.5.0",
          "state": {
            "_dom_classes": [],
            "_model_module": "@jupyter-widgets/controls",
            "_model_module_version": "1.5.0",
            "_model_name": "HTMLModel",
            "_view_count": null,
            "_view_module": "@jupyter-widgets/controls",
            "_view_module_version": "1.5.0",
            "_view_name": "HTMLView",
            "description": "",
            "description_tooltip": null,
            "layout": "IPY_MODEL_832356d6bf3d4c62b6c57f12600a97e5",
            "placeholder": "​",
            "style": "IPY_MODEL_7bd6ff74916a452497ae3a5ed1fda21e",
            "value": "Downloading (…)olve/main/vocab.json: 100%"
          }
        },
        "b5f2ca9b96fa47149c0d213db0cb7b26": {
          "model_module": "@jupyter-widgets/controls",
          "model_name": "FloatProgressModel",
          "model_module_version": "1.5.0",
          "state": {
            "_dom_classes": [],
            "_model_module": "@jupyter-widgets/controls",
            "_model_module_version": "1.5.0",
            "_model_name": "FloatProgressModel",
            "_view_count": null,
            "_view_module": "@jupyter-widgets/controls",
            "_view_module_version": "1.5.0",
            "_view_name": "ProgressView",
            "bar_style": "success",
            "description": "",
            "description_tooltip": null,
            "layout": "IPY_MODEL_efe1c11d1c2c4ab29d7255f6b0380bb6",
            "max": 1065265,
            "min": 0,
            "orientation": "horizontal",
            "style": "IPY_MODEL_aaec10848e4b4ec7beefbedf93ac84ee",
            "value": 1065265
          }
        },
        "401d1cd6500c4f768c3749a7a40505a1": {
          "model_module": "@jupyter-widgets/controls",
          "model_name": "HTMLModel",
          "model_module_version": "1.5.0",
          "state": {
            "_dom_classes": [],
            "_model_module": "@jupyter-widgets/controls",
            "_model_module_version": "1.5.0",
            "_model_name": "HTMLModel",
            "_view_count": null,
            "_view_module": "@jupyter-widgets/controls",
            "_view_module_version": "1.5.0",
            "_view_name": "HTMLView",
            "description": "",
            "description_tooltip": null,
            "layout": "IPY_MODEL_de83eaaf4d6c4b478e4df54101412371",
            "placeholder": "​",
            "style": "IPY_MODEL_ffea47758e0e45dba482a1cbb2225d95",
            "value": " 1.07M/1.07M [00:00&lt;00:00, 1.55MB/s]"
          }
        },
        "16df468039324bf6970f333273eeeb18": {
          "model_module": "@jupyter-widgets/base",
          "model_name": "LayoutModel",
          "model_module_version": "1.2.0",
          "state": {
            "_model_module": "@jupyter-widgets/base",
            "_model_module_version": "1.2.0",
            "_model_name": "LayoutModel",
            "_view_count": null,
            "_view_module": "@jupyter-widgets/base",
            "_view_module_version": "1.2.0",
            "_view_name": "LayoutView",
            "align_content": null,
            "align_items": null,
            "align_self": null,
            "border": null,
            "bottom": null,
            "display": null,
            "flex": null,
            "flex_flow": null,
            "grid_area": null,
            "grid_auto_columns": null,
            "grid_auto_flow": null,
            "grid_auto_rows": null,
            "grid_column": null,
            "grid_gap": null,
            "grid_row": null,
            "grid_template_areas": null,
            "grid_template_columns": null,
            "grid_template_rows": null,
            "height": null,
            "justify_content": null,
            "justify_items": null,
            "left": null,
            "margin": null,
            "max_height": null,
            "max_width": null,
            "min_height": null,
            "min_width": null,
            "object_fit": null,
            "object_position": null,
            "order": null,
            "overflow": null,
            "overflow_x": null,
            "overflow_y": null,
            "padding": null,
            "right": null,
            "top": null,
            "visibility": null,
            "width": null
          }
        },
        "832356d6bf3d4c62b6c57f12600a97e5": {
          "model_module": "@jupyter-widgets/base",
          "model_name": "LayoutModel",
          "model_module_version": "1.2.0",
          "state": {
            "_model_module": "@jupyter-widgets/base",
            "_model_module_version": "1.2.0",
            "_model_name": "LayoutModel",
            "_view_count": null,
            "_view_module": "@jupyter-widgets/base",
            "_view_module_version": "1.2.0",
            "_view_name": "LayoutView",
            "align_content": null,
            "align_items": null,
            "align_self": null,
            "border": null,
            "bottom": null,
            "display": null,
            "flex": null,
            "flex_flow": null,
            "grid_area": null,
            "grid_auto_columns": null,
            "grid_auto_flow": null,
            "grid_auto_rows": null,
            "grid_column": null,
            "grid_gap": null,
            "grid_row": null,
            "grid_template_areas": null,
            "grid_template_columns": null,
            "grid_template_rows": null,
            "height": null,
            "justify_content": null,
            "justify_items": null,
            "left": null,
            "margin": null,
            "max_height": null,
            "max_width": null,
            "min_height": null,
            "min_width": null,
            "object_fit": null,
            "object_position": null,
            "order": null,
            "overflow": null,
            "overflow_x": null,
            "overflow_y": null,
            "padding": null,
            "right": null,
            "top": null,
            "visibility": null,
            "width": null
          }
        },
        "7bd6ff74916a452497ae3a5ed1fda21e": {
          "model_module": "@jupyter-widgets/controls",
          "model_name": "DescriptionStyleModel",
          "model_module_version": "1.5.0",
          "state": {
            "_model_module": "@jupyter-widgets/controls",
            "_model_module_version": "1.5.0",
            "_model_name": "DescriptionStyleModel",
            "_view_count": null,
            "_view_module": "@jupyter-widgets/base",
            "_view_module_version": "1.2.0",
            "_view_name": "StyleView",
            "description_width": ""
          }
        },
        "efe1c11d1c2c4ab29d7255f6b0380bb6": {
          "model_module": "@jupyter-widgets/base",
          "model_name": "LayoutModel",
          "model_module_version": "1.2.0",
          "state": {
            "_model_module": "@jupyter-widgets/base",
            "_model_module_version": "1.2.0",
            "_model_name": "LayoutModel",
            "_view_count": null,
            "_view_module": "@jupyter-widgets/base",
            "_view_module_version": "1.2.0",
            "_view_name": "LayoutView",
            "align_content": null,
            "align_items": null,
            "align_self": null,
            "border": null,
            "bottom": null,
            "display": null,
            "flex": null,
            "flex_flow": null,
            "grid_area": null,
            "grid_auto_columns": null,
            "grid_auto_flow": null,
            "grid_auto_rows": null,
            "grid_column": null,
            "grid_gap": null,
            "grid_row": null,
            "grid_template_areas": null,
            "grid_template_columns": null,
            "grid_template_rows": null,
            "height": null,
            "justify_content": null,
            "justify_items": null,
            "left": null,
            "margin": null,
            "max_height": null,
            "max_width": null,
            "min_height": null,
            "min_width": null,
            "object_fit": null,
            "object_position": null,
            "order": null,
            "overflow": null,
            "overflow_x": null,
            "overflow_y": null,
            "padding": null,
            "right": null,
            "top": null,
            "visibility": null,
            "width": null
          }
        },
        "aaec10848e4b4ec7beefbedf93ac84ee": {
          "model_module": "@jupyter-widgets/controls",
          "model_name": "ProgressStyleModel",
          "model_module_version": "1.5.0",
          "state": {
            "_model_module": "@jupyter-widgets/controls",
            "_model_module_version": "1.5.0",
            "_model_name": "ProgressStyleModel",
            "_view_count": null,
            "_view_module": "@jupyter-widgets/base",
            "_view_module_version": "1.2.0",
            "_view_name": "StyleView",
            "bar_color": null,
            "description_width": ""
          }
        },
        "de83eaaf4d6c4b478e4df54101412371": {
          "model_module": "@jupyter-widgets/base",
          "model_name": "LayoutModel",
          "model_module_version": "1.2.0",
          "state": {
            "_model_module": "@jupyter-widgets/base",
            "_model_module_version": "1.2.0",
            "_model_name": "LayoutModel",
            "_view_count": null,
            "_view_module": "@jupyter-widgets/base",
            "_view_module_version": "1.2.0",
            "_view_name": "LayoutView",
            "align_content": null,
            "align_items": null,
            "align_self": null,
            "border": null,
            "bottom": null,
            "display": null,
            "flex": null,
            "flex_flow": null,
            "grid_area": null,
            "grid_auto_columns": null,
            "grid_auto_flow": null,
            "grid_auto_rows": null,
            "grid_column": null,
            "grid_gap": null,
            "grid_row": null,
            "grid_template_areas": null,
            "grid_template_columns": null,
            "grid_template_rows": null,
            "height": null,
            "justify_content": null,
            "justify_items": null,
            "left": null,
            "margin": null,
            "max_height": null,
            "max_width": null,
            "min_height": null,
            "min_width": null,
            "object_fit": null,
            "object_position": null,
            "order": null,
            "overflow": null,
            "overflow_x": null,
            "overflow_y": null,
            "padding": null,
            "right": null,
            "top": null,
            "visibility": null,
            "width": null
          }
        },
        "ffea47758e0e45dba482a1cbb2225d95": {
          "model_module": "@jupyter-widgets/controls",
          "model_name": "DescriptionStyleModel",
          "model_module_version": "1.5.0",
          "state": {
            "_model_module": "@jupyter-widgets/controls",
            "_model_module_version": "1.5.0",
            "_model_name": "DescriptionStyleModel",
            "_view_count": null,
            "_view_module": "@jupyter-widgets/base",
            "_view_module_version": "1.2.0",
            "_view_name": "StyleView",
            "description_width": ""
          }
        },
        "516bf9c3282743d0b05b90c38314873d": {
          "model_module": "@jupyter-widgets/controls",
          "model_name": "HBoxModel",
          "model_module_version": "1.5.0",
          "state": {
            "_dom_classes": [],
            "_model_module": "@jupyter-widgets/controls",
            "_model_module_version": "1.5.0",
            "_model_name": "HBoxModel",
            "_view_count": null,
            "_view_module": "@jupyter-widgets/controls",
            "_view_module_version": "1.5.0",
            "_view_name": "HBoxView",
            "box_style": "",
            "children": [
              "IPY_MODEL_de705605805b49039ec845aac2143b92",
              "IPY_MODEL_988981b7e43e404f94863362609f86f7",
              "IPY_MODEL_8bd67c5b52b7426e89e81ca6241acbc2"
            ],
            "layout": "IPY_MODEL_a8a88c1c283841918b2e6b59748d92ff"
          }
        },
        "de705605805b49039ec845aac2143b92": {
          "model_module": "@jupyter-widgets/controls",
          "model_name": "HTMLModel",
          "model_module_version": "1.5.0",
          "state": {
            "_dom_classes": [],
            "_model_module": "@jupyter-widgets/controls",
            "_model_module_version": "1.5.0",
            "_model_name": "HTMLModel",
            "_view_count": null,
            "_view_module": "@jupyter-widgets/controls",
            "_view_module_version": "1.5.0",
            "_view_name": "HTMLView",
            "description": "",
            "description_tooltip": null,
            "layout": "IPY_MODEL_fc830b74c805458c99764414108d5707",
            "placeholder": "​",
            "style": "IPY_MODEL_4d4ad225e8b6482e93c2f3d2422a1838",
            "value": "Downloading (…)olve/main/merges.txt: 100%"
          }
        },
        "988981b7e43e404f94863362609f86f7": {
          "model_module": "@jupyter-widgets/controls",
          "model_name": "FloatProgressModel",
          "model_module_version": "1.5.0",
          "state": {
            "_dom_classes": [],
            "_model_module": "@jupyter-widgets/controls",
            "_model_module_version": "1.5.0",
            "_model_name": "FloatProgressModel",
            "_view_count": null,
            "_view_module": "@jupyter-widgets/controls",
            "_view_module_version": "1.5.0",
            "_view_name": "ProgressView",
            "bar_style": "success",
            "description": "",
            "description_tooltip": null,
            "layout": "IPY_MODEL_e1485a1fdfe54387b30f8fbb1a6a3c7f",
            "max": 522504,
            "min": 0,
            "orientation": "horizontal",
            "style": "IPY_MODEL_46046c66d09149bba7a13910084e2469",
            "value": 522504
          }
        },
        "8bd67c5b52b7426e89e81ca6241acbc2": {
          "model_module": "@jupyter-widgets/controls",
          "model_name": "HTMLModel",
          "model_module_version": "1.5.0",
          "state": {
            "_dom_classes": [],
            "_model_module": "@jupyter-widgets/controls",
            "_model_module_version": "1.5.0",
            "_model_name": "HTMLModel",
            "_view_count": null,
            "_view_module": "@jupyter-widgets/controls",
            "_view_module_version": "1.5.0",
            "_view_name": "HTMLView",
            "description": "",
            "description_tooltip": null,
            "layout": "IPY_MODEL_4e8b8120c0d8469aad8115bec54e8332",
            "placeholder": "​",
            "style": "IPY_MODEL_1bda08c72ec64cdc8d890afe3cefe0b9",
            "value": " 523k/523k [00:00&lt;00:00, 1.01MB/s]"
          }
        },
        "a8a88c1c283841918b2e6b59748d92ff": {
          "model_module": "@jupyter-widgets/base",
          "model_name": "LayoutModel",
          "model_module_version": "1.2.0",
          "state": {
            "_model_module": "@jupyter-widgets/base",
            "_model_module_version": "1.2.0",
            "_model_name": "LayoutModel",
            "_view_count": null,
            "_view_module": "@jupyter-widgets/base",
            "_view_module_version": "1.2.0",
            "_view_name": "LayoutView",
            "align_content": null,
            "align_items": null,
            "align_self": null,
            "border": null,
            "bottom": null,
            "display": null,
            "flex": null,
            "flex_flow": null,
            "grid_area": null,
            "grid_auto_columns": null,
            "grid_auto_flow": null,
            "grid_auto_rows": null,
            "grid_column": null,
            "grid_gap": null,
            "grid_row": null,
            "grid_template_areas": null,
            "grid_template_columns": null,
            "grid_template_rows": null,
            "height": null,
            "justify_content": null,
            "justify_items": null,
            "left": null,
            "margin": null,
            "max_height": null,
            "max_width": null,
            "min_height": null,
            "min_width": null,
            "object_fit": null,
            "object_position": null,
            "order": null,
            "overflow": null,
            "overflow_x": null,
            "overflow_y": null,
            "padding": null,
            "right": null,
            "top": null,
            "visibility": null,
            "width": null
          }
        },
        "fc830b74c805458c99764414108d5707": {
          "model_module": "@jupyter-widgets/base",
          "model_name": "LayoutModel",
          "model_module_version": "1.2.0",
          "state": {
            "_model_module": "@jupyter-widgets/base",
            "_model_module_version": "1.2.0",
            "_model_name": "LayoutModel",
            "_view_count": null,
            "_view_module": "@jupyter-widgets/base",
            "_view_module_version": "1.2.0",
            "_view_name": "LayoutView",
            "align_content": null,
            "align_items": null,
            "align_self": null,
            "border": null,
            "bottom": null,
            "display": null,
            "flex": null,
            "flex_flow": null,
            "grid_area": null,
            "grid_auto_columns": null,
            "grid_auto_flow": null,
            "grid_auto_rows": null,
            "grid_column": null,
            "grid_gap": null,
            "grid_row": null,
            "grid_template_areas": null,
            "grid_template_columns": null,
            "grid_template_rows": null,
            "height": null,
            "justify_content": null,
            "justify_items": null,
            "left": null,
            "margin": null,
            "max_height": null,
            "max_width": null,
            "min_height": null,
            "min_width": null,
            "object_fit": null,
            "object_position": null,
            "order": null,
            "overflow": null,
            "overflow_x": null,
            "overflow_y": null,
            "padding": null,
            "right": null,
            "top": null,
            "visibility": null,
            "width": null
          }
        },
        "4d4ad225e8b6482e93c2f3d2422a1838": {
          "model_module": "@jupyter-widgets/controls",
          "model_name": "DescriptionStyleModel",
          "model_module_version": "1.5.0",
          "state": {
            "_model_module": "@jupyter-widgets/controls",
            "_model_module_version": "1.5.0",
            "_model_name": "DescriptionStyleModel",
            "_view_count": null,
            "_view_module": "@jupyter-widgets/base",
            "_view_module_version": "1.2.0",
            "_view_name": "StyleView",
            "description_width": ""
          }
        },
        "e1485a1fdfe54387b30f8fbb1a6a3c7f": {
          "model_module": "@jupyter-widgets/base",
          "model_name": "LayoutModel",
          "model_module_version": "1.2.0",
          "state": {
            "_model_module": "@jupyter-widgets/base",
            "_model_module_version": "1.2.0",
            "_model_name": "LayoutModel",
            "_view_count": null,
            "_view_module": "@jupyter-widgets/base",
            "_view_module_version": "1.2.0",
            "_view_name": "LayoutView",
            "align_content": null,
            "align_items": null,
            "align_self": null,
            "border": null,
            "bottom": null,
            "display": null,
            "flex": null,
            "flex_flow": null,
            "grid_area": null,
            "grid_auto_columns": null,
            "grid_auto_flow": null,
            "grid_auto_rows": null,
            "grid_column": null,
            "grid_gap": null,
            "grid_row": null,
            "grid_template_areas": null,
            "grid_template_columns": null,
            "grid_template_rows": null,
            "height": null,
            "justify_content": null,
            "justify_items": null,
            "left": null,
            "margin": null,
            "max_height": null,
            "max_width": null,
            "min_height": null,
            "min_width": null,
            "object_fit": null,
            "object_position": null,
            "order": null,
            "overflow": null,
            "overflow_x": null,
            "overflow_y": null,
            "padding": null,
            "right": null,
            "top": null,
            "visibility": null,
            "width": null
          }
        },
        "46046c66d09149bba7a13910084e2469": {
          "model_module": "@jupyter-widgets/controls",
          "model_name": "ProgressStyleModel",
          "model_module_version": "1.5.0",
          "state": {
            "_model_module": "@jupyter-widgets/controls",
            "_model_module_version": "1.5.0",
            "_model_name": "ProgressStyleModel",
            "_view_count": null,
            "_view_module": "@jupyter-widgets/base",
            "_view_module_version": "1.2.0",
            "_view_name": "StyleView",
            "bar_color": null,
            "description_width": ""
          }
        },
        "4e8b8120c0d8469aad8115bec54e8332": {
          "model_module": "@jupyter-widgets/base",
          "model_name": "LayoutModel",
          "model_module_version": "1.2.0",
          "state": {
            "_model_module": "@jupyter-widgets/base",
            "_model_module_version": "1.2.0",
            "_model_name": "LayoutModel",
            "_view_count": null,
            "_view_module": "@jupyter-widgets/base",
            "_view_module_version": "1.2.0",
            "_view_name": "LayoutView",
            "align_content": null,
            "align_items": null,
            "align_self": null,
            "border": null,
            "bottom": null,
            "display": null,
            "flex": null,
            "flex_flow": null,
            "grid_area": null,
            "grid_auto_columns": null,
            "grid_auto_flow": null,
            "grid_auto_rows": null,
            "grid_column": null,
            "grid_gap": null,
            "grid_row": null,
            "grid_template_areas": null,
            "grid_template_columns": null,
            "grid_template_rows": null,
            "height": null,
            "justify_content": null,
            "justify_items": null,
            "left": null,
            "margin": null,
            "max_height": null,
            "max_width": null,
            "min_height": null,
            "min_width": null,
            "object_fit": null,
            "object_position": null,
            "order": null,
            "overflow": null,
            "overflow_x": null,
            "overflow_y": null,
            "padding": null,
            "right": null,
            "top": null,
            "visibility": null,
            "width": null
          }
        },
        "1bda08c72ec64cdc8d890afe3cefe0b9": {
          "model_module": "@jupyter-widgets/controls",
          "model_name": "DescriptionStyleModel",
          "model_module_version": "1.5.0",
          "state": {
            "_model_module": "@jupyter-widgets/controls",
            "_model_module_version": "1.5.0",
            "_model_name": "DescriptionStyleModel",
            "_view_count": null,
            "_view_module": "@jupyter-widgets/base",
            "_view_module_version": "1.2.0",
            "_view_name": "StyleView",
            "description_width": ""
          }
        },
        "4c76db6f3a5c4d8295374e1baba20c8e": {
          "model_module": "@jupyter-widgets/controls",
          "model_name": "HBoxModel",
          "model_module_version": "1.5.0",
          "state": {
            "_dom_classes": [],
            "_model_module": "@jupyter-widgets/controls",
            "_model_module_version": "1.5.0",
            "_model_name": "HBoxModel",
            "_view_count": null,
            "_view_module": "@jupyter-widgets/controls",
            "_view_module_version": "1.5.0",
            "_view_name": "HBoxView",
            "box_style": "",
            "children": [
              "IPY_MODEL_442104cde45e437f9c99855f8f2935b0",
              "IPY_MODEL_73e60a3cb0ad4e21ad744b2c0ba8eea2",
              "IPY_MODEL_e12693b71caa4e229b969fe7dac5ede3"
            ],
            "layout": "IPY_MODEL_c85e9b1b2e4243068318d3f297a28dec"
          }
        },
        "442104cde45e437f9c99855f8f2935b0": {
          "model_module": "@jupyter-widgets/controls",
          "model_name": "HTMLModel",
          "model_module_version": "1.5.0",
          "state": {
            "_dom_classes": [],
            "_model_module": "@jupyter-widgets/controls",
            "_model_module_version": "1.5.0",
            "_model_name": "HTMLModel",
            "_view_count": null,
            "_view_module": "@jupyter-widgets/controls",
            "_view_module_version": "1.5.0",
            "_view_name": "HTMLView",
            "description": "",
            "description_tooltip": null,
            "layout": "IPY_MODEL_05db76cea8374b5ea208494f92002ca2",
            "placeholder": "​",
            "style": "IPY_MODEL_2f9df2aba6464357aed0e51df2d2629a",
            "value": "Downloading (…)cial_tokens_map.json: 100%"
          }
        },
        "73e60a3cb0ad4e21ad744b2c0ba8eea2": {
          "model_module": "@jupyter-widgets/controls",
          "model_name": "FloatProgressModel",
          "model_module_version": "1.5.0",
          "state": {
            "_dom_classes": [],
            "_model_module": "@jupyter-widgets/controls",
            "_model_module_version": "1.5.0",
            "_model_name": "FloatProgressModel",
            "_view_count": null,
            "_view_module": "@jupyter-widgets/controls",
            "_view_module_version": "1.5.0",
            "_view_name": "ProgressView",
            "bar_style": "success",
            "description": "",
            "description_tooltip": null,
            "layout": "IPY_MODEL_5fb24f2eaa9d43aa97742ec92398cb39",
            "max": 957,
            "min": 0,
            "orientation": "horizontal",
            "style": "IPY_MODEL_ee37e9212cca4171a5320f13801ee0aa",
            "value": 957
          }
        },
        "e12693b71caa4e229b969fe7dac5ede3": {
          "model_module": "@jupyter-widgets/controls",
          "model_name": "HTMLModel",
          "model_module_version": "1.5.0",
          "state": {
            "_dom_classes": [],
            "_model_module": "@jupyter-widgets/controls",
            "_model_module_version": "1.5.0",
            "_model_name": "HTMLModel",
            "_view_count": null,
            "_view_module": "@jupyter-widgets/controls",
            "_view_module_version": "1.5.0",
            "_view_name": "HTMLView",
            "description": "",
            "description_tooltip": null,
            "layout": "IPY_MODEL_8e8b5adf53e54724bda8e49eba2282d7",
            "placeholder": "​",
            "style": "IPY_MODEL_b4846c34a4354892b0edc4aee2486d3a",
            "value": " 957/957 [00:00&lt;00:00, 72.6kB/s]"
          }
        },
        "c85e9b1b2e4243068318d3f297a28dec": {
          "model_module": "@jupyter-widgets/base",
          "model_name": "LayoutModel",
          "model_module_version": "1.2.0",
          "state": {
            "_model_module": "@jupyter-widgets/base",
            "_model_module_version": "1.2.0",
            "_model_name": "LayoutModel",
            "_view_count": null,
            "_view_module": "@jupyter-widgets/base",
            "_view_module_version": "1.2.0",
            "_view_name": "LayoutView",
            "align_content": null,
            "align_items": null,
            "align_self": null,
            "border": null,
            "bottom": null,
            "display": null,
            "flex": null,
            "flex_flow": null,
            "grid_area": null,
            "grid_auto_columns": null,
            "grid_auto_flow": null,
            "grid_auto_rows": null,
            "grid_column": null,
            "grid_gap": null,
            "grid_row": null,
            "grid_template_areas": null,
            "grid_template_columns": null,
            "grid_template_rows": null,
            "height": null,
            "justify_content": null,
            "justify_items": null,
            "left": null,
            "margin": null,
            "max_height": null,
            "max_width": null,
            "min_height": null,
            "min_width": null,
            "object_fit": null,
            "object_position": null,
            "order": null,
            "overflow": null,
            "overflow_x": null,
            "overflow_y": null,
            "padding": null,
            "right": null,
            "top": null,
            "visibility": null,
            "width": null
          }
        },
        "05db76cea8374b5ea208494f92002ca2": {
          "model_module": "@jupyter-widgets/base",
          "model_name": "LayoutModel",
          "model_module_version": "1.2.0",
          "state": {
            "_model_module": "@jupyter-widgets/base",
            "_model_module_version": "1.2.0",
            "_model_name": "LayoutModel",
            "_view_count": null,
            "_view_module": "@jupyter-widgets/base",
            "_view_module_version": "1.2.0",
            "_view_name": "LayoutView",
            "align_content": null,
            "align_items": null,
            "align_self": null,
            "border": null,
            "bottom": null,
            "display": null,
            "flex": null,
            "flex_flow": null,
            "grid_area": null,
            "grid_auto_columns": null,
            "grid_auto_flow": null,
            "grid_auto_rows": null,
            "grid_column": null,
            "grid_gap": null,
            "grid_row": null,
            "grid_template_areas": null,
            "grid_template_columns": null,
            "grid_template_rows": null,
            "height": null,
            "justify_content": null,
            "justify_items": null,
            "left": null,
            "margin": null,
            "max_height": null,
            "max_width": null,
            "min_height": null,
            "min_width": null,
            "object_fit": null,
            "object_position": null,
            "order": null,
            "overflow": null,
            "overflow_x": null,
            "overflow_y": null,
            "padding": null,
            "right": null,
            "top": null,
            "visibility": null,
            "width": null
          }
        },
        "2f9df2aba6464357aed0e51df2d2629a": {
          "model_module": "@jupyter-widgets/controls",
          "model_name": "DescriptionStyleModel",
          "model_module_version": "1.5.0",
          "state": {
            "_model_module": "@jupyter-widgets/controls",
            "_model_module_version": "1.5.0",
            "_model_name": "DescriptionStyleModel",
            "_view_count": null,
            "_view_module": "@jupyter-widgets/base",
            "_view_module_version": "1.2.0",
            "_view_name": "StyleView",
            "description_width": ""
          }
        },
        "5fb24f2eaa9d43aa97742ec92398cb39": {
          "model_module": "@jupyter-widgets/base",
          "model_name": "LayoutModel",
          "model_module_version": "1.2.0",
          "state": {
            "_model_module": "@jupyter-widgets/base",
            "_model_module_version": "1.2.0",
            "_model_name": "LayoutModel",
            "_view_count": null,
            "_view_module": "@jupyter-widgets/base",
            "_view_module_version": "1.2.0",
            "_view_name": "LayoutView",
            "align_content": null,
            "align_items": null,
            "align_self": null,
            "border": null,
            "bottom": null,
            "display": null,
            "flex": null,
            "flex_flow": null,
            "grid_area": null,
            "grid_auto_columns": null,
            "grid_auto_flow": null,
            "grid_auto_rows": null,
            "grid_column": null,
            "grid_gap": null,
            "grid_row": null,
            "grid_template_areas": null,
            "grid_template_columns": null,
            "grid_template_rows": null,
            "height": null,
            "justify_content": null,
            "justify_items": null,
            "left": null,
            "margin": null,
            "max_height": null,
            "max_width": null,
            "min_height": null,
            "min_width": null,
            "object_fit": null,
            "object_position": null,
            "order": null,
            "overflow": null,
            "overflow_x": null,
            "overflow_y": null,
            "padding": null,
            "right": null,
            "top": null,
            "visibility": null,
            "width": null
          }
        },
        "ee37e9212cca4171a5320f13801ee0aa": {
          "model_module": "@jupyter-widgets/controls",
          "model_name": "ProgressStyleModel",
          "model_module_version": "1.5.0",
          "state": {
            "_model_module": "@jupyter-widgets/controls",
            "_model_module_version": "1.5.0",
            "_model_name": "ProgressStyleModel",
            "_view_count": null,
            "_view_module": "@jupyter-widgets/base",
            "_view_module_version": "1.2.0",
            "_view_name": "StyleView",
            "bar_color": null,
            "description_width": ""
          }
        },
        "8e8b5adf53e54724bda8e49eba2282d7": {
          "model_module": "@jupyter-widgets/base",
          "model_name": "LayoutModel",
          "model_module_version": "1.2.0",
          "state": {
            "_model_module": "@jupyter-widgets/base",
            "_model_module_version": "1.2.0",
            "_model_name": "LayoutModel",
            "_view_count": null,
            "_view_module": "@jupyter-widgets/base",
            "_view_module_version": "1.2.0",
            "_view_name": "LayoutView",
            "align_content": null,
            "align_items": null,
            "align_self": null,
            "border": null,
            "bottom": null,
            "display": null,
            "flex": null,
            "flex_flow": null,
            "grid_area": null,
            "grid_auto_columns": null,
            "grid_auto_flow": null,
            "grid_auto_rows": null,
            "grid_column": null,
            "grid_gap": null,
            "grid_row": null,
            "grid_template_areas": null,
            "grid_template_columns": null,
            "grid_template_rows": null,
            "height": null,
            "justify_content": null,
            "justify_items": null,
            "left": null,
            "margin": null,
            "max_height": null,
            "max_width": null,
            "min_height": null,
            "min_width": null,
            "object_fit": null,
            "object_position": null,
            "order": null,
            "overflow": null,
            "overflow_x": null,
            "overflow_y": null,
            "padding": null,
            "right": null,
            "top": null,
            "visibility": null,
            "width": null
          }
        },
        "b4846c34a4354892b0edc4aee2486d3a": {
          "model_module": "@jupyter-widgets/controls",
          "model_name": "DescriptionStyleModel",
          "model_module_version": "1.5.0",
          "state": {
            "_model_module": "@jupyter-widgets/controls",
            "_model_module_version": "1.5.0",
            "_model_name": "DescriptionStyleModel",
            "_view_count": null,
            "_view_module": "@jupyter-widgets/base",
            "_view_module_version": "1.2.0",
            "_view_name": "StyleView",
            "description_width": ""
          }
        },
        "bd5088d80fb04678ade69f729b4b2835": {
          "model_module": "@jupyter-widgets/controls",
          "model_name": "HBoxModel",
          "model_module_version": "1.5.0",
          "state": {
            "_dom_classes": [],
            "_model_module": "@jupyter-widgets/controls",
            "_model_module_version": "1.5.0",
            "_model_name": "HBoxModel",
            "_view_count": null,
            "_view_module": "@jupyter-widgets/controls",
            "_view_module_version": "1.5.0",
            "_view_name": "HBoxView",
            "box_style": "",
            "children": [
              "IPY_MODEL_7a733fb9b9b54e1788e638f12761ae03",
              "IPY_MODEL_7353949738054785b494b0463b2b07f3",
              "IPY_MODEL_ad5420117d354b36942ad319635dc655"
            ],
            "layout": "IPY_MODEL_0261304d0b9340168ea7620b78db23f2"
          }
        },
        "7a733fb9b9b54e1788e638f12761ae03": {
          "model_module": "@jupyter-widgets/controls",
          "model_name": "HTMLModel",
          "model_module_version": "1.5.0",
          "state": {
            "_dom_classes": [],
            "_model_module": "@jupyter-widgets/controls",
            "_model_module_version": "1.5.0",
            "_model_name": "HTMLModel",
            "_view_count": null,
            "_view_module": "@jupyter-widgets/controls",
            "_view_module_version": "1.5.0",
            "_view_name": "HTMLView",
            "description": "",
            "description_tooltip": null,
            "layout": "IPY_MODEL_76f6d55b603d453e99307925fe458d12",
            "placeholder": "​",
            "style": "IPY_MODEL_998b62d708ce4d79b3da477f618361e0",
            "value": "Downloading (…)lve/main/config.json: 100%"
          }
        },
        "7353949738054785b494b0463b2b07f3": {
          "model_module": "@jupyter-widgets/controls",
          "model_name": "FloatProgressModel",
          "model_module_version": "1.5.0",
          "state": {
            "_dom_classes": [],
            "_model_module": "@jupyter-widgets/controls",
            "_model_module_version": "1.5.0",
            "_model_name": "FloatProgressModel",
            "_view_count": null,
            "_view_module": "@jupyter-widgets/controls",
            "_view_module_version": "1.5.0",
            "_view_name": "ProgressView",
            "bar_style": "success",
            "description": "",
            "description_tooltip": null,
            "layout": "IPY_MODEL_44ca3c337c3e4790aa428e83211f2a10",
            "max": 20917,
            "min": 0,
            "orientation": "horizontal",
            "style": "IPY_MODEL_eac26f74815e4dcfaf58a909e65b4b2a",
            "value": 20917
          }
        },
        "ad5420117d354b36942ad319635dc655": {
          "model_module": "@jupyter-widgets/controls",
          "model_name": "HTMLModel",
          "model_module_version": "1.5.0",
          "state": {
            "_dom_classes": [],
            "_model_module": "@jupyter-widgets/controls",
            "_model_module_version": "1.5.0",
            "_model_name": "HTMLModel",
            "_view_count": null,
            "_view_module": "@jupyter-widgets/controls",
            "_view_module_version": "1.5.0",
            "_view_name": "HTMLView",
            "description": "",
            "description_tooltip": null,
            "layout": "IPY_MODEL_8d3fa2998ca04667b50a342e9741c624",
            "placeholder": "​",
            "style": "IPY_MODEL_0e380e6d418d40b29f2895fc80f9e4b8",
            "value": " 20.9k/20.9k [00:00&lt;00:00, 1.54MB/s]"
          }
        },
        "0261304d0b9340168ea7620b78db23f2": {
          "model_module": "@jupyter-widgets/base",
          "model_name": "LayoutModel",
          "model_module_version": "1.2.0",
          "state": {
            "_model_module": "@jupyter-widgets/base",
            "_model_module_version": "1.2.0",
            "_model_name": "LayoutModel",
            "_view_count": null,
            "_view_module": "@jupyter-widgets/base",
            "_view_module_version": "1.2.0",
            "_view_name": "LayoutView",
            "align_content": null,
            "align_items": null,
            "align_self": null,
            "border": null,
            "bottom": null,
            "display": null,
            "flex": null,
            "flex_flow": null,
            "grid_area": null,
            "grid_auto_columns": null,
            "grid_auto_flow": null,
            "grid_auto_rows": null,
            "grid_column": null,
            "grid_gap": null,
            "grid_row": null,
            "grid_template_areas": null,
            "grid_template_columns": null,
            "grid_template_rows": null,
            "height": null,
            "justify_content": null,
            "justify_items": null,
            "left": null,
            "margin": null,
            "max_height": null,
            "max_width": null,
            "min_height": null,
            "min_width": null,
            "object_fit": null,
            "object_position": null,
            "order": null,
            "overflow": null,
            "overflow_x": null,
            "overflow_y": null,
            "padding": null,
            "right": null,
            "top": null,
            "visibility": null,
            "width": null
          }
        },
        "76f6d55b603d453e99307925fe458d12": {
          "model_module": "@jupyter-widgets/base",
          "model_name": "LayoutModel",
          "model_module_version": "1.2.0",
          "state": {
            "_model_module": "@jupyter-widgets/base",
            "_model_module_version": "1.2.0",
            "_model_name": "LayoutModel",
            "_view_count": null,
            "_view_module": "@jupyter-widgets/base",
            "_view_module_version": "1.2.0",
            "_view_name": "LayoutView",
            "align_content": null,
            "align_items": null,
            "align_self": null,
            "border": null,
            "bottom": null,
            "display": null,
            "flex": null,
            "flex_flow": null,
            "grid_area": null,
            "grid_auto_columns": null,
            "grid_auto_flow": null,
            "grid_auto_rows": null,
            "grid_column": null,
            "grid_gap": null,
            "grid_row": null,
            "grid_template_areas": null,
            "grid_template_columns": null,
            "grid_template_rows": null,
            "height": null,
            "justify_content": null,
            "justify_items": null,
            "left": null,
            "margin": null,
            "max_height": null,
            "max_width": null,
            "min_height": null,
            "min_width": null,
            "object_fit": null,
            "object_position": null,
            "order": null,
            "overflow": null,
            "overflow_x": null,
            "overflow_y": null,
            "padding": null,
            "right": null,
            "top": null,
            "visibility": null,
            "width": null
          }
        },
        "998b62d708ce4d79b3da477f618361e0": {
          "model_module": "@jupyter-widgets/controls",
          "model_name": "DescriptionStyleModel",
          "model_module_version": "1.5.0",
          "state": {
            "_model_module": "@jupyter-widgets/controls",
            "_model_module_version": "1.5.0",
            "_model_name": "DescriptionStyleModel",
            "_view_count": null,
            "_view_module": "@jupyter-widgets/base",
            "_view_module_version": "1.2.0",
            "_view_name": "StyleView",
            "description_width": ""
          }
        },
        "44ca3c337c3e4790aa428e83211f2a10": {
          "model_module": "@jupyter-widgets/base",
          "model_name": "LayoutModel",
          "model_module_version": "1.2.0",
          "state": {
            "_model_module": "@jupyter-widgets/base",
            "_model_module_version": "1.2.0",
            "_model_name": "LayoutModel",
            "_view_count": null,
            "_view_module": "@jupyter-widgets/base",
            "_view_module_version": "1.2.0",
            "_view_name": "LayoutView",
            "align_content": null,
            "align_items": null,
            "align_self": null,
            "border": null,
            "bottom": null,
            "display": null,
            "flex": null,
            "flex_flow": null,
            "grid_area": null,
            "grid_auto_columns": null,
            "grid_auto_flow": null,
            "grid_auto_rows": null,
            "grid_column": null,
            "grid_gap": null,
            "grid_row": null,
            "grid_template_areas": null,
            "grid_template_columns": null,
            "grid_template_rows": null,
            "height": null,
            "justify_content": null,
            "justify_items": null,
            "left": null,
            "margin": null,
            "max_height": null,
            "max_width": null,
            "min_height": null,
            "min_width": null,
            "object_fit": null,
            "object_position": null,
            "order": null,
            "overflow": null,
            "overflow_x": null,
            "overflow_y": null,
            "padding": null,
            "right": null,
            "top": null,
            "visibility": null,
            "width": null
          }
        },
        "eac26f74815e4dcfaf58a909e65b4b2a": {
          "model_module": "@jupyter-widgets/controls",
          "model_name": "ProgressStyleModel",
          "model_module_version": "1.5.0",
          "state": {
            "_model_module": "@jupyter-widgets/controls",
            "_model_module_version": "1.5.0",
            "_model_name": "ProgressStyleModel",
            "_view_count": null,
            "_view_module": "@jupyter-widgets/base",
            "_view_module_version": "1.2.0",
            "_view_name": "StyleView",
            "bar_color": null,
            "description_width": ""
          }
        },
        "8d3fa2998ca04667b50a342e9741c624": {
          "model_module": "@jupyter-widgets/base",
          "model_name": "LayoutModel",
          "model_module_version": "1.2.0",
          "state": {
            "_model_module": "@jupyter-widgets/base",
            "_model_module_version": "1.2.0",
            "_model_name": "LayoutModel",
            "_view_count": null,
            "_view_module": "@jupyter-widgets/base",
            "_view_module_version": "1.2.0",
            "_view_name": "LayoutView",
            "align_content": null,
            "align_items": null,
            "align_self": null,
            "border": null,
            "bottom": null,
            "display": null,
            "flex": null,
            "flex_flow": null,
            "grid_area": null,
            "grid_auto_columns": null,
            "grid_auto_flow": null,
            "grid_auto_rows": null,
            "grid_column": null,
            "grid_gap": null,
            "grid_row": null,
            "grid_template_areas": null,
            "grid_template_columns": null,
            "grid_template_rows": null,
            "height": null,
            "justify_content": null,
            "justify_items": null,
            "left": null,
            "margin": null,
            "max_height": null,
            "max_width": null,
            "min_height": null,
            "min_width": null,
            "object_fit": null,
            "object_position": null,
            "order": null,
            "overflow": null,
            "overflow_x": null,
            "overflow_y": null,
            "padding": null,
            "right": null,
            "top": null,
            "visibility": null,
            "width": null
          }
        },
        "0e380e6d418d40b29f2895fc80f9e4b8": {
          "model_module": "@jupyter-widgets/controls",
          "model_name": "DescriptionStyleModel",
          "model_module_version": "1.5.0",
          "state": {
            "_model_module": "@jupyter-widgets/controls",
            "_model_module_version": "1.5.0",
            "_model_name": "DescriptionStyleModel",
            "_view_count": null,
            "_view_module": "@jupyter-widgets/base",
            "_view_module_version": "1.2.0",
            "_view_name": "StyleView",
            "description_width": ""
          }
        },
        "4d4afe8c5d604cb98cbf64f3ccb32db3": {
          "model_module": "@jupyter-widgets/controls",
          "model_name": "HBoxModel",
          "model_module_version": "1.5.0",
          "state": {
            "_dom_classes": [],
            "_model_module": "@jupyter-widgets/controls",
            "_model_module_version": "1.5.0",
            "_model_name": "HBoxModel",
            "_view_count": null,
            "_view_module": "@jupyter-widgets/controls",
            "_view_module_version": "1.5.0",
            "_view_name": "HBoxView",
            "box_style": "",
            "children": [
              "IPY_MODEL_fcd5bdc66a374ff98d9c6dc7a41f0d43",
              "IPY_MODEL_060c79e93233488abacadf3898a95521",
              "IPY_MODEL_bb6fd4a33cf640819dbf59ea4430c4d6"
            ],
            "layout": "IPY_MODEL_a01b146ff08b44f79dc90f761ade1844"
          }
        },
        "fcd5bdc66a374ff98d9c6dc7a41f0d43": {
          "model_module": "@jupyter-widgets/controls",
          "model_name": "HTMLModel",
          "model_module_version": "1.5.0",
          "state": {
            "_dom_classes": [],
            "_model_module": "@jupyter-widgets/controls",
            "_model_module_version": "1.5.0",
            "_model_name": "HTMLModel",
            "_view_count": null,
            "_view_module": "@jupyter-widgets/controls",
            "_view_module_version": "1.5.0",
            "_view_name": "HTMLView",
            "description": "",
            "description_tooltip": null,
            "layout": "IPY_MODEL_777cb14894504f9492e5df88bbd14c92",
            "placeholder": "​",
            "style": "IPY_MODEL_963e08be8a5d44a2bb0440dcaf5d854a",
            "value": "Downloading pytorch_model.bin: 100%"
          }
        },
        "060c79e93233488abacadf3898a95521": {
          "model_module": "@jupyter-widgets/controls",
          "model_name": "FloatProgressModel",
          "model_module_version": "1.5.0",
          "state": {
            "_dom_classes": [],
            "_model_module": "@jupyter-widgets/controls",
            "_model_module_version": "1.5.0",
            "_model_name": "FloatProgressModel",
            "_view_count": null,
            "_view_module": "@jupyter-widgets/controls",
            "_view_module_version": "1.5.0",
            "_view_name": "ProgressView",
            "bar_style": "success",
            "description": "",
            "description_tooltip": null,
            "layout": "IPY_MODEL_81b6d8dfed414fad98726fffbe633671",
            "max": 500138613,
            "min": 0,
            "orientation": "horizontal",
            "style": "IPY_MODEL_92dbafaf08944eb1990bec72320d6305",
            "value": 500138613
          }
        },
        "bb6fd4a33cf640819dbf59ea4430c4d6": {
          "model_module": "@jupyter-widgets/controls",
          "model_name": "HTMLModel",
          "model_module_version": "1.5.0",
          "state": {
            "_dom_classes": [],
            "_model_module": "@jupyter-widgets/controls",
            "_model_module_version": "1.5.0",
            "_model_name": "HTMLModel",
            "_view_count": null,
            "_view_module": "@jupyter-widgets/controls",
            "_view_module_version": "1.5.0",
            "_view_name": "HTMLView",
            "description": "",
            "description_tooltip": null,
            "layout": "IPY_MODEL_0aa1bf5f53834337a64887bcf62804af",
            "placeholder": "​",
            "style": "IPY_MODEL_32429b53fef64e4a8a5eab39f1d12635",
            "value": " 500M/500M [00:23&lt;00:00, 21.5MB/s]"
          }
        },
        "a01b146ff08b44f79dc90f761ade1844": {
          "model_module": "@jupyter-widgets/base",
          "model_name": "LayoutModel",
          "model_module_version": "1.2.0",
          "state": {
            "_model_module": "@jupyter-widgets/base",
            "_model_module_version": "1.2.0",
            "_model_name": "LayoutModel",
            "_view_count": null,
            "_view_module": "@jupyter-widgets/base",
            "_view_module_version": "1.2.0",
            "_view_name": "LayoutView",
            "align_content": null,
            "align_items": null,
            "align_self": null,
            "border": null,
            "bottom": null,
            "display": null,
            "flex": null,
            "flex_flow": null,
            "grid_area": null,
            "grid_auto_columns": null,
            "grid_auto_flow": null,
            "grid_auto_rows": null,
            "grid_column": null,
            "grid_gap": null,
            "grid_row": null,
            "grid_template_areas": null,
            "grid_template_columns": null,
            "grid_template_rows": null,
            "height": null,
            "justify_content": null,
            "justify_items": null,
            "left": null,
            "margin": null,
            "max_height": null,
            "max_width": null,
            "min_height": null,
            "min_width": null,
            "object_fit": null,
            "object_position": null,
            "order": null,
            "overflow": null,
            "overflow_x": null,
            "overflow_y": null,
            "padding": null,
            "right": null,
            "top": null,
            "visibility": null,
            "width": null
          }
        },
        "777cb14894504f9492e5df88bbd14c92": {
          "model_module": "@jupyter-widgets/base",
          "model_name": "LayoutModel",
          "model_module_version": "1.2.0",
          "state": {
            "_model_module": "@jupyter-widgets/base",
            "_model_module_version": "1.2.0",
            "_model_name": "LayoutModel",
            "_view_count": null,
            "_view_module": "@jupyter-widgets/base",
            "_view_module_version": "1.2.0",
            "_view_name": "LayoutView",
            "align_content": null,
            "align_items": null,
            "align_self": null,
            "border": null,
            "bottom": null,
            "display": null,
            "flex": null,
            "flex_flow": null,
            "grid_area": null,
            "grid_auto_columns": null,
            "grid_auto_flow": null,
            "grid_auto_rows": null,
            "grid_column": null,
            "grid_gap": null,
            "grid_row": null,
            "grid_template_areas": null,
            "grid_template_columns": null,
            "grid_template_rows": null,
            "height": null,
            "justify_content": null,
            "justify_items": null,
            "left": null,
            "margin": null,
            "max_height": null,
            "max_width": null,
            "min_height": null,
            "min_width": null,
            "object_fit": null,
            "object_position": null,
            "order": null,
            "overflow": null,
            "overflow_x": null,
            "overflow_y": null,
            "padding": null,
            "right": null,
            "top": null,
            "visibility": null,
            "width": null
          }
        },
        "963e08be8a5d44a2bb0440dcaf5d854a": {
          "model_module": "@jupyter-widgets/controls",
          "model_name": "DescriptionStyleModel",
          "model_module_version": "1.5.0",
          "state": {
            "_model_module": "@jupyter-widgets/controls",
            "_model_module_version": "1.5.0",
            "_model_name": "DescriptionStyleModel",
            "_view_count": null,
            "_view_module": "@jupyter-widgets/base",
            "_view_module_version": "1.2.0",
            "_view_name": "StyleView",
            "description_width": ""
          }
        },
        "81b6d8dfed414fad98726fffbe633671": {
          "model_module": "@jupyter-widgets/base",
          "model_name": "LayoutModel",
          "model_module_version": "1.2.0",
          "state": {
            "_model_module": "@jupyter-widgets/base",
            "_model_module_version": "1.2.0",
            "_model_name": "LayoutModel",
            "_view_count": null,
            "_view_module": "@jupyter-widgets/base",
            "_view_module_version": "1.2.0",
            "_view_name": "LayoutView",
            "align_content": null,
            "align_items": null,
            "align_self": null,
            "border": null,
            "bottom": null,
            "display": null,
            "flex": null,
            "flex_flow": null,
            "grid_area": null,
            "grid_auto_columns": null,
            "grid_auto_flow": null,
            "grid_auto_rows": null,
            "grid_column": null,
            "grid_gap": null,
            "grid_row": null,
            "grid_template_areas": null,
            "grid_template_columns": null,
            "grid_template_rows": null,
            "height": null,
            "justify_content": null,
            "justify_items": null,
            "left": null,
            "margin": null,
            "max_height": null,
            "max_width": null,
            "min_height": null,
            "min_width": null,
            "object_fit": null,
            "object_position": null,
            "order": null,
            "overflow": null,
            "overflow_x": null,
            "overflow_y": null,
            "padding": null,
            "right": null,
            "top": null,
            "visibility": null,
            "width": null
          }
        },
        "92dbafaf08944eb1990bec72320d6305": {
          "model_module": "@jupyter-widgets/controls",
          "model_name": "ProgressStyleModel",
          "model_module_version": "1.5.0",
          "state": {
            "_model_module": "@jupyter-widgets/controls",
            "_model_module_version": "1.5.0",
            "_model_name": "ProgressStyleModel",
            "_view_count": null,
            "_view_module": "@jupyter-widgets/base",
            "_view_module_version": "1.2.0",
            "_view_name": "StyleView",
            "bar_color": null,
            "description_width": ""
          }
        },
        "0aa1bf5f53834337a64887bcf62804af": {
          "model_module": "@jupyter-widgets/base",
          "model_name": "LayoutModel",
          "model_module_version": "1.2.0",
          "state": {
            "_model_module": "@jupyter-widgets/base",
            "_model_module_version": "1.2.0",
            "_model_name": "LayoutModel",
            "_view_count": null,
            "_view_module": "@jupyter-widgets/base",
            "_view_module_version": "1.2.0",
            "_view_name": "LayoutView",
            "align_content": null,
            "align_items": null,
            "align_self": null,
            "border": null,
            "bottom": null,
            "display": null,
            "flex": null,
            "flex_flow": null,
            "grid_area": null,
            "grid_auto_columns": null,
            "grid_auto_flow": null,
            "grid_auto_rows": null,
            "grid_column": null,
            "grid_gap": null,
            "grid_row": null,
            "grid_template_areas": null,
            "grid_template_columns": null,
            "grid_template_rows": null,
            "height": null,
            "justify_content": null,
            "justify_items": null,
            "left": null,
            "margin": null,
            "max_height": null,
            "max_width": null,
            "min_height": null,
            "min_width": null,
            "object_fit": null,
            "object_position": null,
            "order": null,
            "overflow": null,
            "overflow_x": null,
            "overflow_y": null,
            "padding": null,
            "right": null,
            "top": null,
            "visibility": null,
            "width": null
          }
        },
        "32429b53fef64e4a8a5eab39f1d12635": {
          "model_module": "@jupyter-widgets/controls",
          "model_name": "DescriptionStyleModel",
          "model_module_version": "1.5.0",
          "state": {
            "_model_module": "@jupyter-widgets/controls",
            "_model_module_version": "1.5.0",
            "_model_name": "DescriptionStyleModel",
            "_view_count": null,
            "_view_module": "@jupyter-widgets/base",
            "_view_module_version": "1.2.0",
            "_view_name": "StyleView",
            "description_width": ""
          }
        },
        "cf5f78bdc5334694a4560c19125301b4": {
          "model_module": "@jupyter-widgets/controls",
          "model_name": "HBoxModel",
          "model_module_version": "1.5.0",
          "state": {
            "_dom_classes": [],
            "_model_module": "@jupyter-widgets/controls",
            "_model_module_version": "1.5.0",
            "_model_name": "HBoxModel",
            "_view_count": null,
            "_view_module": "@jupyter-widgets/controls",
            "_view_module_version": "1.5.0",
            "_view_name": "HBoxView",
            "box_style": "",
            "children": [
              "IPY_MODEL_24b1c5c9303247fbb08a13e7b9cfe050",
              "IPY_MODEL_28720186eaf74cbfa78c81df7c4ca81a",
              "IPY_MODEL_12b55e7cec9748bca4b50b683e7b1afa"
            ],
            "layout": "IPY_MODEL_9cce982019a445cb91baeaf3cd6dceb0"
          }
        },
        "24b1c5c9303247fbb08a13e7b9cfe050": {
          "model_module": "@jupyter-widgets/controls",
          "model_name": "HTMLModel",
          "model_module_version": "1.5.0",
          "state": {
            "_dom_classes": [],
            "_model_module": "@jupyter-widgets/controls",
            "_model_module_version": "1.5.0",
            "_model_name": "HTMLModel",
            "_view_count": null,
            "_view_module": "@jupyter-widgets/controls",
            "_view_module_version": "1.5.0",
            "_view_name": "HTMLView",
            "description": "",
            "description_tooltip": null,
            "layout": "IPY_MODEL_14615c628f4a4562ab8ae719ef7237dd",
            "placeholder": "​",
            "style": "IPY_MODEL_3377431490c54eeda86b448953a09faf",
            "value": "100%"
          }
        },
        "28720186eaf74cbfa78c81df7c4ca81a": {
          "model_module": "@jupyter-widgets/controls",
          "model_name": "FloatProgressModel",
          "model_module_version": "1.5.0",
          "state": {
            "_dom_classes": [],
            "_model_module": "@jupyter-widgets/controls",
            "_model_module_version": "1.5.0",
            "_model_name": "FloatProgressModel",
            "_view_count": null,
            "_view_module": "@jupyter-widgets/controls",
            "_view_module_version": "1.5.0",
            "_view_name": "ProgressView",
            "bar_style": "success",
            "description": "",
            "description_tooltip": null,
            "layout": "IPY_MODEL_3b4af1c2ae8d4b4185b95b64cd3bd442",
            "max": 3629,
            "min": 0,
            "orientation": "horizontal",
            "style": "IPY_MODEL_e93d44237fa34fd9b704811d50ecce01",
            "value": 3629
          }
        },
        "12b55e7cec9748bca4b50b683e7b1afa": {
          "model_module": "@jupyter-widgets/controls",
          "model_name": "HTMLModel",
          "model_module_version": "1.5.0",
          "state": {
            "_dom_classes": [],
            "_model_module": "@jupyter-widgets/controls",
            "_model_module_version": "1.5.0",
            "_model_name": "HTMLModel",
            "_view_count": null,
            "_view_module": "@jupyter-widgets/controls",
            "_view_module_version": "1.5.0",
            "_view_name": "HTMLView",
            "description": "",
            "description_tooltip": null,
            "layout": "IPY_MODEL_657312dda40c4ba4aff746dd4f738bf7",
            "placeholder": "​",
            "style": "IPY_MODEL_a70b6dc1268f4c898bfe6f8ee2e82df7",
            "value": " 3629/3629 [1:02:04&lt;00:00,  1.01s/it]"
          }
        },
        "9cce982019a445cb91baeaf3cd6dceb0": {
          "model_module": "@jupyter-widgets/base",
          "model_name": "LayoutModel",
          "model_module_version": "1.2.0",
          "state": {
            "_model_module": "@jupyter-widgets/base",
            "_model_module_version": "1.2.0",
            "_model_name": "LayoutModel",
            "_view_count": null,
            "_view_module": "@jupyter-widgets/base",
            "_view_module_version": "1.2.0",
            "_view_name": "LayoutView",
            "align_content": null,
            "align_items": null,
            "align_self": null,
            "border": null,
            "bottom": null,
            "display": null,
            "flex": null,
            "flex_flow": null,
            "grid_area": null,
            "grid_auto_columns": null,
            "grid_auto_flow": null,
            "grid_auto_rows": null,
            "grid_column": null,
            "grid_gap": null,
            "grid_row": null,
            "grid_template_areas": null,
            "grid_template_columns": null,
            "grid_template_rows": null,
            "height": null,
            "justify_content": null,
            "justify_items": null,
            "left": null,
            "margin": null,
            "max_height": null,
            "max_width": null,
            "min_height": null,
            "min_width": null,
            "object_fit": null,
            "object_position": null,
            "order": null,
            "overflow": null,
            "overflow_x": null,
            "overflow_y": null,
            "padding": null,
            "right": null,
            "top": null,
            "visibility": null,
            "width": null
          }
        },
        "14615c628f4a4562ab8ae719ef7237dd": {
          "model_module": "@jupyter-widgets/base",
          "model_name": "LayoutModel",
          "model_module_version": "1.2.0",
          "state": {
            "_model_module": "@jupyter-widgets/base",
            "_model_module_version": "1.2.0",
            "_model_name": "LayoutModel",
            "_view_count": null,
            "_view_module": "@jupyter-widgets/base",
            "_view_module_version": "1.2.0",
            "_view_name": "LayoutView",
            "align_content": null,
            "align_items": null,
            "align_self": null,
            "border": null,
            "bottom": null,
            "display": null,
            "flex": null,
            "flex_flow": null,
            "grid_area": null,
            "grid_auto_columns": null,
            "grid_auto_flow": null,
            "grid_auto_rows": null,
            "grid_column": null,
            "grid_gap": null,
            "grid_row": null,
            "grid_template_areas": null,
            "grid_template_columns": null,
            "grid_template_rows": null,
            "height": null,
            "justify_content": null,
            "justify_items": null,
            "left": null,
            "margin": null,
            "max_height": null,
            "max_width": null,
            "min_height": null,
            "min_width": null,
            "object_fit": null,
            "object_position": null,
            "order": null,
            "overflow": null,
            "overflow_x": null,
            "overflow_y": null,
            "padding": null,
            "right": null,
            "top": null,
            "visibility": null,
            "width": null
          }
        },
        "3377431490c54eeda86b448953a09faf": {
          "model_module": "@jupyter-widgets/controls",
          "model_name": "DescriptionStyleModel",
          "model_module_version": "1.5.0",
          "state": {
            "_model_module": "@jupyter-widgets/controls",
            "_model_module_version": "1.5.0",
            "_model_name": "DescriptionStyleModel",
            "_view_count": null,
            "_view_module": "@jupyter-widgets/base",
            "_view_module_version": "1.2.0",
            "_view_name": "StyleView",
            "description_width": ""
          }
        },
        "3b4af1c2ae8d4b4185b95b64cd3bd442": {
          "model_module": "@jupyter-widgets/base",
          "model_name": "LayoutModel",
          "model_module_version": "1.2.0",
          "state": {
            "_model_module": "@jupyter-widgets/base",
            "_model_module_version": "1.2.0",
            "_model_name": "LayoutModel",
            "_view_count": null,
            "_view_module": "@jupyter-widgets/base",
            "_view_module_version": "1.2.0",
            "_view_name": "LayoutView",
            "align_content": null,
            "align_items": null,
            "align_self": null,
            "border": null,
            "bottom": null,
            "display": null,
            "flex": null,
            "flex_flow": null,
            "grid_area": null,
            "grid_auto_columns": null,
            "grid_auto_flow": null,
            "grid_auto_rows": null,
            "grid_column": null,
            "grid_gap": null,
            "grid_row": null,
            "grid_template_areas": null,
            "grid_template_columns": null,
            "grid_template_rows": null,
            "height": null,
            "justify_content": null,
            "justify_items": null,
            "left": null,
            "margin": null,
            "max_height": null,
            "max_width": null,
            "min_height": null,
            "min_width": null,
            "object_fit": null,
            "object_position": null,
            "order": null,
            "overflow": null,
            "overflow_x": null,
            "overflow_y": null,
            "padding": null,
            "right": null,
            "top": null,
            "visibility": null,
            "width": null
          }
        },
        "e93d44237fa34fd9b704811d50ecce01": {
          "model_module": "@jupyter-widgets/controls",
          "model_name": "ProgressStyleModel",
          "model_module_version": "1.5.0",
          "state": {
            "_model_module": "@jupyter-widgets/controls",
            "_model_module_version": "1.5.0",
            "_model_name": "ProgressStyleModel",
            "_view_count": null,
            "_view_module": "@jupyter-widgets/base",
            "_view_module_version": "1.2.0",
            "_view_name": "StyleView",
            "bar_color": null,
            "description_width": ""
          }
        },
        "657312dda40c4ba4aff746dd4f738bf7": {
          "model_module": "@jupyter-widgets/base",
          "model_name": "LayoutModel",
          "model_module_version": "1.2.0",
          "state": {
            "_model_module": "@jupyter-widgets/base",
            "_model_module_version": "1.2.0",
            "_model_name": "LayoutModel",
            "_view_count": null,
            "_view_module": "@jupyter-widgets/base",
            "_view_module_version": "1.2.0",
            "_view_name": "LayoutView",
            "align_content": null,
            "align_items": null,
            "align_self": null,
            "border": null,
            "bottom": null,
            "display": null,
            "flex": null,
            "flex_flow": null,
            "grid_area": null,
            "grid_auto_columns": null,
            "grid_auto_flow": null,
            "grid_auto_rows": null,
            "grid_column": null,
            "grid_gap": null,
            "grid_row": null,
            "grid_template_areas": null,
            "grid_template_columns": null,
            "grid_template_rows": null,
            "height": null,
            "justify_content": null,
            "justify_items": null,
            "left": null,
            "margin": null,
            "max_height": null,
            "max_width": null,
            "min_height": null,
            "min_width": null,
            "object_fit": null,
            "object_position": null,
            "order": null,
            "overflow": null,
            "overflow_x": null,
            "overflow_y": null,
            "padding": null,
            "right": null,
            "top": null,
            "visibility": null,
            "width": null
          }
        },
        "a70b6dc1268f4c898bfe6f8ee2e82df7": {
          "model_module": "@jupyter-widgets/controls",
          "model_name": "DescriptionStyleModel",
          "model_module_version": "1.5.0",
          "state": {
            "_model_module": "@jupyter-widgets/controls",
            "_model_module_version": "1.5.0",
            "_model_name": "DescriptionStyleModel",
            "_view_count": null,
            "_view_module": "@jupyter-widgets/base",
            "_view_module_version": "1.2.0",
            "_view_name": "StyleView",
            "description_width": ""
          }
        }
      }
    }
  },
  "nbformat": 4,
  "nbformat_minor": 5
}
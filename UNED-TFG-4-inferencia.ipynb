{
  "cells": [
    {
      "cell_type": "markdown",
      "metadata": {
        "id": "view-in-github",
        "colab_type": "text"
      },
      "source": [
        "<a href=\"https://colab.research.google.com/github/alexisdr/uned-tfg-deteccion-eas/blob/main/UNED-TFG-4-inferencia.ipynb\" target=\"_parent\"><img src=\"https://colab.research.google.com/assets/colab-badge.svg\" alt=\"Open In Colab\"/></a>"
      ]
    },
    {
      "cell_type": "markdown",
      "id": "XkA6mcW_QT37",
      "metadata": {
        "id": "XkA6mcW_QT37"
      },
      "source": [
        "# Uso del modelo\n",
        "\n",
        "Este cuaderno permite usar el modelo para efectuar una clasificación de texto\n",
        "\n",
        "# Parámetros\n",
        "* ruta_base: ruta en la que se encuentran los datos del corpus\n",
        "* ruta_dataset: ruta en el que se almacenará el dataset\n",
        "* usar_subconjunto_datos_codigos_mas_frecuentes: se usarán los actos clínicos que implican los códigos más frecuentes\n",
        "* umbral: valor de corte que deberán superar las predicciones para tomarlas como ciertas"
      ]
    },
    {
      "cell_type": "code",
      "execution_count": 1,
      "id": "7ee544b5",
      "metadata": {
        "id": "7ee544b5"
      },
      "outputs": [],
      "source": [
        "ruta_base = '/drive/My Drive/CorpusPFG/'\n",
        "\n",
        "#Datasets procesados\n",
        "ruta_dataset = ruta_base + 'Dataset'\n",
        "modelo_base = \"alexisdr/uned-tfg-08.54\"\n",
        "usar_subconjunto_datos_codigos_mas_frecuentes = False\n",
        "umbral = 0.9"
      ]
    },
    {
      "cell_type": "markdown",
      "id": "IgQiz-czQn5E",
      "metadata": {
        "id": "IgQiz-czQn5E"
      },
      "source": [
        "Instalación de depndencias necesarias"
      ]
    },
    {
      "cell_type": "code",
      "execution_count": 4,
      "id": "MtqLGKFGQuV2",
      "metadata": {
        "id": "MtqLGKFGQuV2",
        "outputId": "a4bf9aec-3ef5-4df6-ca53-c3f1f616593e",
        "colab": {
          "base_uri": "https://localhost:8080/"
        }
      },
      "outputs": [
        {
          "output_type": "stream",
          "name": "stdout",
          "text": [
            "Looking in indexes: https://pypi.org/simple, https://us-python.pkg.dev/colab-wheels/public/simple/\n",
            "Requirement already satisfied: datasets in /usr/local/lib/python3.10/dist-packages (2.12.0)\n",
            "Requirement already satisfied: transformers[sentencepiece] in /usr/local/lib/python3.10/dist-packages (4.29.2)\n",
            "Requirement already satisfied: numpy>=1.17 in /usr/local/lib/python3.10/dist-packages (from datasets) (1.22.4)\n",
            "Requirement already satisfied: pyarrow>=8.0.0 in /usr/local/lib/python3.10/dist-packages (from datasets) (9.0.0)\n",
            "Requirement already satisfied: dill<0.3.7,>=0.3.0 in /usr/local/lib/python3.10/dist-packages (from datasets) (0.3.6)\n",
            "Requirement already satisfied: pandas in /usr/local/lib/python3.10/dist-packages (from datasets) (1.5.3)\n",
            "Requirement already satisfied: requests>=2.19.0 in /usr/local/lib/python3.10/dist-packages (from datasets) (2.27.1)\n",
            "Requirement already satisfied: tqdm>=4.62.1 in /usr/local/lib/python3.10/dist-packages (from datasets) (4.65.0)\n",
            "Requirement already satisfied: xxhash in /usr/local/lib/python3.10/dist-packages (from datasets) (3.2.0)\n",
            "Requirement already satisfied: multiprocess in /usr/local/lib/python3.10/dist-packages (from datasets) (0.70.14)\n",
            "Requirement already satisfied: fsspec[http]>=2021.11.1 in /usr/local/lib/python3.10/dist-packages (from datasets) (2023.4.0)\n",
            "Requirement already satisfied: aiohttp in /usr/local/lib/python3.10/dist-packages (from datasets) (3.8.4)\n",
            "Requirement already satisfied: huggingface-hub<1.0.0,>=0.11.0 in /usr/local/lib/python3.10/dist-packages (from datasets) (0.15.1)\n",
            "Requirement already satisfied: packaging in /usr/local/lib/python3.10/dist-packages (from datasets) (23.1)\n",
            "Requirement already satisfied: responses<0.19 in /usr/local/lib/python3.10/dist-packages (from datasets) (0.18.0)\n",
            "Requirement already satisfied: pyyaml>=5.1 in /usr/local/lib/python3.10/dist-packages (from datasets) (6.0)\n",
            "Requirement already satisfied: filelock in /usr/local/lib/python3.10/dist-packages (from transformers[sentencepiece]) (3.12.0)\n",
            "Requirement already satisfied: regex!=2019.12.17 in /usr/local/lib/python3.10/dist-packages (from transformers[sentencepiece]) (2022.10.31)\n",
            "Requirement already satisfied: tokenizers!=0.11.3,<0.14,>=0.11.1 in /usr/local/lib/python3.10/dist-packages (from transformers[sentencepiece]) (0.13.3)\n",
            "Requirement already satisfied: sentencepiece!=0.1.92,>=0.1.91 in /usr/local/lib/python3.10/dist-packages (from transformers[sentencepiece]) (0.1.99)\n",
            "Requirement already satisfied: protobuf<=3.20.2 in /usr/local/lib/python3.10/dist-packages (from transformers[sentencepiece]) (3.20.2)\n",
            "Requirement already satisfied: attrs>=17.3.0 in /usr/local/lib/python3.10/dist-packages (from aiohttp->datasets) (23.1.0)\n",
            "Requirement already satisfied: charset-normalizer<4.0,>=2.0 in /usr/local/lib/python3.10/dist-packages (from aiohttp->datasets) (2.0.12)\n",
            "Requirement already satisfied: multidict<7.0,>=4.5 in /usr/local/lib/python3.10/dist-packages (from aiohttp->datasets) (6.0.4)\n",
            "Requirement already satisfied: async-timeout<5.0,>=4.0.0a3 in /usr/local/lib/python3.10/dist-packages (from aiohttp->datasets) (4.0.2)\n",
            "Requirement already satisfied: yarl<2.0,>=1.0 in /usr/local/lib/python3.10/dist-packages (from aiohttp->datasets) (1.9.2)\n",
            "Requirement already satisfied: frozenlist>=1.1.1 in /usr/local/lib/python3.10/dist-packages (from aiohttp->datasets) (1.3.3)\n",
            "Requirement already satisfied: aiosignal>=1.1.2 in /usr/local/lib/python3.10/dist-packages (from aiohttp->datasets) (1.3.1)\n",
            "Requirement already satisfied: typing-extensions>=3.7.4.3 in /usr/local/lib/python3.10/dist-packages (from huggingface-hub<1.0.0,>=0.11.0->datasets) (4.5.0)\n",
            "Requirement already satisfied: urllib3<1.27,>=1.21.1 in /usr/local/lib/python3.10/dist-packages (from requests>=2.19.0->datasets) (1.26.15)\n",
            "Requirement already satisfied: certifi>=2017.4.17 in /usr/local/lib/python3.10/dist-packages (from requests>=2.19.0->datasets) (2022.12.7)\n",
            "Requirement already satisfied: idna<4,>=2.5 in /usr/local/lib/python3.10/dist-packages (from requests>=2.19.0->datasets) (3.4)\n",
            "Requirement already satisfied: python-dateutil>=2.8.1 in /usr/local/lib/python3.10/dist-packages (from pandas->datasets) (2.8.2)\n",
            "Requirement already satisfied: pytz>=2020.1 in /usr/local/lib/python3.10/dist-packages (from pandas->datasets) (2022.7.1)\n",
            "Requirement already satisfied: six>=1.5 in /usr/local/lib/python3.10/dist-packages (from python-dateutil>=2.8.1->pandas->datasets) (1.16.0)\n"
          ]
        }
      ],
      "source": [
        "!pip install datasets transformers[sentencepiece] "
      ]
    },
    {
      "cell_type": "markdown",
      "id": "kUQ5y227Qyr-",
      "metadata": {
        "id": "kUQ5y227Qyr-"
      },
      "source": [
        "# Carga de datos del dataset"
      ]
    },
    {
      "cell_type": "code",
      "execution_count": 5,
      "id": "Sx-7OWoaQ1UG",
      "metadata": {
        "colab": {
          "base_uri": "https://localhost:8080/"
        },
        "id": "Sx-7OWoaQ1UG",
        "outputId": "ab434d2d-8a1d-4f7a-8866-967edda22374"
      },
      "outputs": [
        {
          "output_type": "stream",
          "name": "stdout",
          "text": [
            "Mounted at /drive\n"
          ]
        }
      ],
      "source": [
        "from google.colab import drive\n",
        "\n",
        "drive.mount('/drive')"
      ]
    },
    {
      "cell_type": "code",
      "execution_count": 6,
      "id": "DdO7S73OQ2ts",
      "metadata": {
        "id": "DdO7S73OQ2ts",
        "outputId": "581df451-604b-47b9-8baf-9ad9ad90494b",
        "colab": {
          "base_uri": "https://localhost:8080/"
        }
      },
      "outputs": [
        {
          "output_type": "execute_result",
          "data": {
            "text/plain": [
              "DatasetDict({\n",
              "    train: Dataset({\n",
              "        features: ['acto', 'label', 'label_str', 'label_list', 'label_list_str', 'informes', 'text', 'json'],\n",
              "        num_rows: 12904\n",
              "    })\n",
              "    validation: Dataset({\n",
              "        features: ['acto', 'label', 'label_str', 'label_list', 'label_list_str', 'informes', 'text', 'json'],\n",
              "        num_rows: 1434\n",
              "    })\n",
              "    test: Dataset({\n",
              "        features: ['acto', 'label', 'label_str', 'label_list', 'label_list_str', 'informes', 'text', 'json'],\n",
              "        num_rows: 3572\n",
              "    })\n",
              "    trainMasFrecuentes: Dataset({\n",
              "        features: ['acto', 'label', 'label_str', 'label_list', 'label_list_str', 'informes', 'text', 'json'],\n",
              "        num_rows: 637\n",
              "    })\n",
              "    validationMasFrecuentes: Dataset({\n",
              "        features: ['acto', 'label', 'label_str', 'label_list', 'label_list_str', 'informes', 'text', 'json'],\n",
              "        num_rows: 71\n",
              "    })\n",
              "    testMasFrecuentes: Dataset({\n",
              "        features: ['acto', 'label', 'label_str', 'label_list', 'label_list_str', 'informes', 'text', 'json'],\n",
              "        num_rows: 175\n",
              "    })\n",
              "})"
            ]
          },
          "metadata": {},
          "execution_count": 6
        }
      ],
      "source": [
        "from datasets import DatasetDict\n",
        "\n",
        "dataset = DatasetDict.load_from_disk(ruta_dataset)\n",
        "\n",
        "dataset  "
      ]
    },
    {
      "cell_type": "code",
      "execution_count": 7,
      "id": "XxLqviFAQ3z5",
      "metadata": {
        "id": "XxLqviFAQ3z5"
      },
      "outputs": [],
      "source": [
        "train = \"train\"\n",
        "validation = \"validation\"\n",
        "test = \"test\"\n",
        "\n",
        "if (usar_subconjunto_datos_codigos_mas_frecuentes):\n",
        "  train = \"trainMasFrecuentes\"\n",
        "  validation = \"validationMasFrecuentes\"\n",
        "  test = \"testMasFrecuentes\""
      ]
    },
    {
      "cell_type": "code",
      "execution_count": 8,
      "id": "071ce90d",
      "metadata": {
        "colab": {
          "base_uri": "https://localhost:8080/"
        },
        "id": "071ce90d",
        "outputId": "ac0a7539-4038-47fa-ae85-948a716a21d1"
      },
      "outputs": [
        {
          "output_type": "stream",
          "name": "stdout",
          "text": [
            "ClassLabel(names=['T50.2X5A', 'NONE', 'O90.0', 'T46.5X5A', 'E89.0', 'H59.022', 'Y84.2', 'T83.021A', 'K94.23', 'T50.8X5A', 'Y95', 'T50.905A', 'T50.0X5A', 'L27.0', 'T85.398A', 'T38.0X5A', 'T85.79XA', 'P39.1', 'T84.498A', 'T84.82XA', 'K91.841', 'I97.618', 'T80.1XXA', 'T84.89XA', 'T40.605A', 'R50.82', 'T81.4XXA', 'T38.3X5A', 'G97.1', 'O75.2', 'N99.820', 'T45.1X5A', 'T39.1X5A', 'T85.71XA', 'L76.02', 'K66.0', 'Y83.1', 'T82.120A', 'K12.31', 'P01.1', 'G25.1', 'G89.18', 'T38.0X5D', 'L76.31', 'M96.830', 'G97.41', 'T47.4X5A', 'N99.821', 'T45.515A', 'T80.211A', 'T46.2X5S', 'P36.9', 'T36.0X5A', 'T84.84XA', 'G62.0', 'D70.1', 'T82.868A', 'T79.6XXA', 'T40.2X5A', 'T39.395A', 'T41.5X5A', 'T84.223A', 'T45.1X5D', 'T83.498A', 'L76.22', 'T43.295A', 'K94.12', 'P39.8', 'O86.29', 'K91.71', 'T84.021A', 'M96.840', 'Y83.2', 'T87.81', 'I97.130', 'T46.0X5A', 'T84.51XA', 'P03.4', 'Y64.0', 'J95.811', 'T39.2X5A', 'G97.51', 'T48.6X5A', 'T45.615A', 'H59.021', 'T82.7XXA', 'T82.330A', 'T83.29XA', 'K94.29', 'E89.2', 'E36.01', 'T36.95XA', 'T83.51XA', 'L27.1', 'T84.060A', 'G97.82', 'K95.81', 'T85.29XA', 'T82.190A', 'N99.89', 'T86.19', 'T81.89XA', 'T39.95XA', 'P01.5', 'T42.4X5A', 'G89.28', 'M1A.20X0', 'M96.1', 'K91.72', 'T81.83XA', 'K94.21', 'T37.95XA', 'T83.83XA', 'T85.611A', 'T84.54XA', 'E09.65', 'T36.1X5A', 'T82.857A', 'O86.12', 'T86.11', 'T80.92XA', 'Y84.0', 'T36.5X5A', 'Y83.5', 'K85.30', 'P13.4', 'T38.895A', 'I97.710', 'T43.595A', 'Y84.6', 'Y83.8', 'D61.1', 'T79.A3XA', 'J95.830', 'T37.1X5S', 'Y84.8', 'P01.2', 'T50.995A', 'T80.89XA', 'T46.2X5A', 'T50.2X5D', 'N99.528', 'T50.Z15A', 'T84.59XA', 'T45.1X5S', 'T84.011A', 'T37.1X5A', 'T84.226A', 'N98.1', 'T44.7X5A', 'T88.7XXA', 'T46.6X5A', 'I97.2', 'T85.598A', 'Y65.8', 'D70.2', 'K91.89', 'T83.89XA', 'I95.2', 'K91.840', 'T85.85XA', 'T82.855A', 'K59.03', 'P02.5', 'T43.595S', 'O90.81', 'T45.8X5A', 'T36.8X5A', 'M96.89', 'K12.32', 'T86.01', 'K91.61', 'T39.315A', 'P02.69', 'D64.81', 'G97.49', 'I97.89', 'T80.219A', 'T84.033A', 'T81.31XA', 'T83.511A', 'O04.5', 'T42.75XA', 'T38.0X5S', 'T82.898A', 'T82.838A', 'T84.63XA', 'T39.015A', 'T82.858A', 'T37.2X5A', 'Y83.3', 'N99.532', 'Y83.6', 'T88.59XA', 'O90.89', 'J95.3', 'T84.030A', 'T82.538A', 'M96.0', 'K91.1', 'T81.32XA', 'K91.3', 'T39.395S', 'O85', 'K94.13', 'K94.09', 'E89.89', 'T82.594A', 'T84.490A', 'T83.198A', 'N99.522', 'G97.52', 'T46.4X5A', 'Y83.0', 'J95.61', 'T48.4X5A', 'T47.1X5A', 'T86.12', 'L76.21', 'K91.2', 'T38.4X5A', 'T42.8X5A', 'T44.995D', 'H95.01', 'T85.828A', 'T85.698A', 'M96.810', 'T50.4X5A', 'G72.0', 'G21.11', 'Y84.1', 'D61.810', 'T82.858S', 'T84.194A', 'N14.2', 'T87.40', 'L76.32', 'T84.9XXA', 'I97.190', 'T43.205A', 'I97.790', 'G21.19', 'N99.72', 'T43.505A', 'P03.3', 'P12.81', 'T85.86XA', 'D61.811', 'P02.7', 'T88.8XXA', 'T87.89', 'T37.5X5A', 'T82.818A', 'T88.0XXA', 'G24.01', 'T81.72XA', 'T84.020A', 'T80.218A', 'T49.0X5A', 'J95.851', 'T43.95XA', 'T50.8X5S', 'T84.091A', 'T36.3X5A', 'T40.4X5A', 'T83.59XA', 'T83.098A', 'N52.34', 'N99.521', 'T42.1X5A', 'I97.610', 'P04.1', 'G25.71', 'T38.2X5S', 'T85.89XA', 'T45.525A', 'N99.511', 'T79.7XXA', 'T43.225A', 'N99.71', 'T84.032A', 'T41.45XA', 'T84.038A', 'T88.6XXA', 'N99.530', 'T81.12XA', 'T84.216A', 'T50.1X5A', 'I95.81', 'T45.625A', 'T84.029A', 'T83.091A', 'M96.842', 'T84.69XA', 'T84.50XA', 'T82.9XXA', 'T82.119A', 'T82.6XXA', 'T82.856A', 'T83.9XXA', 'T82.897A', 'T82.09XD', 'I97.191', 'T39.4X5A', 'T84.620A', 'T38.1X5A', 'I97.418', 'I97.51', 'N99.114', 'T82.848A', 'T83.191A', 'T84.090A', 'T82.199A', 'K91.850', 'O08.1', 'T82.110A', 'T82.223D', 'J95.03', 'T85.122A', 'T85.898A', 'N99.61', 'N99.113', 'T84.049A', 'I97.638', 'T81.4XXS', 'T46.2X5D', 'T80.212A', 'L76.82', 'T84.124A', 'P38.9', 'T84.021D', 'T82.320A', 'T88.8XXS', 'K94.22', 'T84.7XXA', 'J95.89', 'T82.120D', 'N99.112', 'T86.09', 'T37.8X5A', 'N99.111', 'T81.718A', 'P36.8', 'N99.110', 'P39.3', 'T84.022A', 'P02.1', 'P02.8', 'O75.1', 'T85.520A', 'T43.225D', 'E09.9', 'T84.52XA', 'T43.595D', 'T81.599A', 'Y84.9', 'T82.867A', 'T85.09XA', 'T84.53XA', 'T84.013A', 'T85.22XA', 'T84.048A', 'T83.028A', 'P01.8', 'T43.505D', 'N52.37', 'N99.841', 'T80.29XA', 'T50.8X5D', 'T43.025A', 'T45.4X5A', 'T84.114A', 'T80.818A', 'N99.0', 'O90.2', 'N99.3', 'P14.1', 'T83.420A', 'O74.8', 'T84.040A', 'N99.83', 'I97.611', 'T83.728S', 'H21.81', 'T85.590A', 'T44.8X5A', 'P12.89', 'T83.6XXA', 'O86.4', 'P36.2', 'Y84.5', 'T50.3X5A', 'T45.7X5A', 'M96.69', 'P03.810', 'T41.3X5A', 'E89.3', 'T84.031A', 'O91.12', 'E89.6', 'T82.03XD', 'T81.9XXS', 'T36.7X5A', 'T82.03XA', 'P03.2', 'T87.53', 'T87.43', 'K95.89', 'I97.410', 'T83.128A', 'T85.84XA', 'E24.2', 'T46.1X5A', 'T39.8X5A', 'T79.A21A', 'Y83.9', 'L25.1', 'M96.661', 'P01.7', 'E89.1', 'O75.89', 'T84.228A', 'T50.905D', 'D75.82', 'T82.857D', 'T84.041A', 'E09.11', 'J95.09', 'O86.20', 'I97.88', 'I97.52', 'T82.897D', 'L76.34', 'P01.3', 'T84.296A', 'J95.88', 'G97.32', 'T37.3X5A', 'T80.62XA', 'R50.2', 'T84.84XD', 'N14.1', 'Y83.4', 'T84.293A', 'P02.3', 'I97.711', 'T46.3X5A', 'T83.84XA', 'T85.49XA', 'E27.3', 'Y65.4', 'Y84.4', 'P03.0', 'T84.318A', 'P39.9', 'T87.44', 'T88.9XXS', 'T43.215A', 'I97.630', 'T82.598A', 'E66.1', 'I97.62', 'Y84.3', 'T82.339A', 'T82.398A', 'T82.228D', 'T84.190A', 'T81.82XA', 'T86.10', 'J95.821', 'T37.5X5S', 'I97.820', 'T39.395D', 'T84.60XA', 'P03.1', 'T36.5X5S', 'T86.13', 'T84.218A', 'K94.19', 'T87.41', 'E09.22', 'T83.83XD', 'I97.131', 'T45.0X5A', 'T82.222A'], id=None)\n"
          ]
        }
      ],
      "source": [
        "from datasets import ClassLabel\n",
        "\n",
        "class2label = dataset['train'].features[\"label\"]\n",
        "print(class2label)"
      ]
    },
    {
      "cell_type": "code",
      "execution_count": 9,
      "id": "d0a658b7",
      "metadata": {
        "id": "d0a658b7",
        "outputId": "8d0e2761-65c0-4997-ee94-d9ee61f92902",
        "colab": {
          "base_uri": "https://localhost:8080/"
        }
      },
      "outputs": [
        {
          "output_type": "execute_result",
          "data": {
            "text/plain": [
              "485"
            ]
          },
          "metadata": {},
          "execution_count": 9
        }
      ],
      "source": [
        "class2label.num_classes"
      ]
    },
    {
      "cell_type": "markdown",
      "id": "33Y-jblpRHbS",
      "metadata": {
        "id": "33Y-jblpRHbS"
      },
      "source": [
        "# Preprocesado de los datos\n",
        "\n",
        "El modelo no puede recibir texto como entrada, se ha de convertir a tokens."
      ]
    },
    {
      "cell_type": "code",
      "execution_count": 10,
      "id": "936861c0",
      "metadata": {
        "colab": {
          "base_uri": "https://localhost:8080/",
          "height": 0,
          "referenced_widgets": [
            "410fe4f71b2a4274ba66a52890150c78",
            "4feac9d0b69f4fd8ab8cccbacb59f568",
            "1deb83b9aab14b70af930b3a219df9ff",
            "a840e2ae483b4af9ab902c0e14cef269",
            "8c9c173f81f44305aa1453cc5453253e",
            "f19e26fb293f48efbc936e8b6f2333f1",
            "52c4137478d047be9aa1c316a007f195",
            "1745c753339f4d2ebc19c30c7b0992d3",
            "29d4733c2b9841549a8a0d16b28cb835",
            "e01d627aa3f34bd7a181342f8dfc493b",
            "76d3816789b84ff38fd3787d31f9f3c5",
            "c0f4251682284be2b9053ee6c0ab49b7",
            "5320dbb3a19c4c398a65ae110d0edd7c",
            "da19be32e21044b08e2aafb3c3d3e248",
            "28de8e5b2bdb4abe98b120506ad191b1",
            "e83e371adb664eeea0ba78e539d20665",
            "10a3e7a73c4a47af87206bcf4c4ce139",
            "a2e91beca7e24888ace9a087cdb60316",
            "5b08ac369c8d4dd2aca77b8fb79ced87",
            "1c4425960dca4b848453ec1b089deed8",
            "ed43ed99e94d47eea9fe937938919b9b",
            "028f104767f24e2a82c8c74dbbf7a854",
            "d15f4f821185432cbc60a3205ee18b6d",
            "12865b8309fe47c5928f42257f3e77ec",
            "5936b07e771e4e07aef46e8832dd8f3b",
            "4d211495b07444a389993210fe854aa0",
            "c1104636783c4dd1985a09ecb5f79a77",
            "a463356c39f84b10a980d5058e425b7c",
            "5e15cf2b910c4d9c8ae8435c9020d566",
            "b39c70f5b9e54d04be37c7893f570667",
            "f62ab97ca3fb4aeaafd417f74fcfe068",
            "75a0bc00ff96459db861b2915cd00722",
            "623d271408a1462e89315d57e6ca47b4",
            "8c52c534fd8e4a4d8f81c432b2c08a0c",
            "19af6d5438af4f728b7ad0923c12bed5",
            "88474fcd23584f17b8eaaaddcd3fde60",
            "e1b0f4cc0da0407fab3154d166746737",
            "e46de243efb645b58abfe661a017cf1d",
            "4e847fe715594556bb9eaa1936f634ac",
            "d18683a987964bd79778d809234df781",
            "8aa666a671dc4b76bd34535ace859a32",
            "4de8dac22e344b18a4c40329b9e22138",
            "2e0efad941b7405b82cf6742e571681e",
            "c83f4715c0144642a41716c73fb7ab35"
          ]
        },
        "id": "936861c0",
        "outputId": "521895d2-a822-4e7f-c18a-6393218dc7e9"
      },
      "outputs": [
        {
          "output_type": "display_data",
          "data": {
            "text/plain": [
              "Downloading (…)okenizer_config.json:   0%|          | 0.00/1.33k [00:00<?, ?B/s]"
            ],
            "application/vnd.jupyter.widget-view+json": {
              "version_major": 2,
              "version_minor": 0,
              "model_id": "410fe4f71b2a4274ba66a52890150c78"
            }
          },
          "metadata": {}
        },
        {
          "output_type": "display_data",
          "data": {
            "text/plain": [
              "Downloading (…)olve/main/vocab.json:   0%|          | 0.00/1.07M [00:00<?, ?B/s]"
            ],
            "application/vnd.jupyter.widget-view+json": {
              "version_major": 2,
              "version_minor": 0,
              "model_id": "c0f4251682284be2b9053ee6c0ab49b7"
            }
          },
          "metadata": {}
        },
        {
          "output_type": "display_data",
          "data": {
            "text/plain": [
              "Downloading (…)olve/main/merges.txt:   0%|          | 0.00/523k [00:00<?, ?B/s]"
            ],
            "application/vnd.jupyter.widget-view+json": {
              "version_major": 2,
              "version_minor": 0,
              "model_id": "d15f4f821185432cbc60a3205ee18b6d"
            }
          },
          "metadata": {}
        },
        {
          "output_type": "display_data",
          "data": {
            "text/plain": [
              "Downloading (…)cial_tokens_map.json:   0%|          | 0.00/957 [00:00<?, ?B/s]"
            ],
            "application/vnd.jupyter.widget-view+json": {
              "version_major": 2,
              "version_minor": 0,
              "model_id": "8c52c534fd8e4a4d8f81c432b2c08a0c"
            }
          },
          "metadata": {}
        }
      ],
      "source": [
        "from transformers import AutoTokenizer\n",
        "\n",
        "tokenizer = AutoTokenizer.from_pretrained(modelo_base)\n",
        "\n",
        "def preprocess_data(examples):\n",
        "  return tokenizer(examples[\"text\"], padding=\"max_length\", truncation=True, return_tensors=\"pt\")"
      ]
    },
    {
      "cell_type": "markdown",
      "id": "5c5f5402",
      "metadata": {
        "id": "5c5f5402"
      },
      "source": [
        "# Cálculo de la métrica S"
      ]
    },
    {
      "cell_type": "code",
      "execution_count": 11,
      "id": "fe531962",
      "metadata": {
        "id": "fe531962"
      },
      "outputs": [],
      "source": [
        "#Calcula el prefico comun entre 2 códigos\n",
        "def calculo_lcs(codigo_i, codigo_j):\n",
        "  if codigo_i is None or codigo_j is None:\n",
        "    return \"\"\n",
        "\n",
        "  #Se omiten los puntos existenten en los códigos\n",
        "  codigo_i = codigo_i.replace(\".\", \"\")\n",
        "  codigo_j = codigo_j.replace(\".\", \"\")\n",
        "\n",
        "  #Tomamos el tamaño mínimo\n",
        "  size = min(len(codigo_i), len(codigo_j)) \n",
        "\n",
        "  lcs_i_j = ''\n",
        "  for i in range(size):\n",
        "    if codigo_i[i] == codigo_j[i]:\n",
        "      lcs_i_j = lcs_i_j + codigo_i[i]\n",
        "    else:\n",
        "      return lcs_i_j\n",
        "  \n",
        "  return lcs_i_j\n",
        "\n",
        "\n",
        "#Devuelve la longitud de la cadena de caracteres C\n",
        "#si esta vale al menos 3, y devuelve 0 si dicha longitud es menor que 3. \n",
        "#Esto se debe a que los códigos CIE-10 más cortos contienen al menos 3 caracteres.\n",
        "def calculo_ic(codigo):\n",
        "  #Se omiten los puntos existenten en los códigos\n",
        "  codigo = codigo.replace(\".\", \"\")\n",
        "\n",
        "  tamanyo = len(codigo)\n",
        "  if (tamanyo < 3):\n",
        "    return 0\n",
        "  else:\n",
        "    return tamanyo\n",
        "\n",
        "#similitud entre 2 códigos CIE-10 𝑖 y 𝑗:\n",
        "def calculo_c(codigo_i, codigo_j):\n",
        "  divisor = calculo_ic(codigo_i) + calculo_ic(codigo_j)\n",
        "  if (divisor == 0):\n",
        "    return 0\n",
        "  dividendo = 2 * calculo_ic(calculo_lcs(codigo_i, codigo_j))\n",
        "  c_i_j = dividendo / divisor\n",
        "  return round(c_i_j, 6)\n",
        "\n",
        "def metrica_s(lista_codigos_i, lista_codigos_j): \n",
        "  #las listas deben tener valores \n",
        "  if (len(lista_codigos_i) == 0 or len(lista_codigos_j) == 0):\n",
        "    return 0\n",
        "\n",
        "  #max (Ng, Ns)\n",
        "  divisor = max(len(lista_codigos_i), len(lista_codigos_j)) \n",
        "  if (divisor == 0):\n",
        "    return 0\n",
        "  \n",
        "  max_c_i_j = 0\n",
        "  for codigo_j in lista_codigos_j:\n",
        "    max_local_c_i_j = 0\n",
        "    for codigo_i in lista_codigos_i:\n",
        "      c_i_j = calculo_c(codigo_i, codigo_j)\n",
        "      if (c_i_j > max_local_c_i_j):\n",
        "        max_local_c_i_j = c_i_j\n",
        "    max_c_i_j += max_local_c_i_j\n",
        "\n",
        "  s = max_c_i_j / divisor\n",
        "  return round(s, 6)\n",
        "\n",
        "def metrica_s_train (y_true, y_pred):     \n",
        "    y_true_labels = []\n",
        "    true_labels = [class2label.int2str([idx])for idx, label in enumerate(y_true) if label == 1.0]\n",
        "    for label in true_labels:\n",
        "      y_true_labels.append(label[0])\n",
        "\n",
        "    y_pred_labels = []\n",
        "    pred_labels = [class2label.int2str([idx])for idx, label in enumerate(y_pred) if label == 1.0]\n",
        "    for label in pred_labels:\n",
        "      y_pred_labels.append(label[0])\n",
        "\n",
        "    return metrica_s(y_true_labels, y_pred_labels)"
      ]
    },
    {
      "cell_type": "markdown",
      "id": "1hSIaTFlRhUw",
      "metadata": {
        "id": "1hSIaTFlRhUw"
      },
      "source": [
        "# Inferencia\n",
        "\n",
        "Se ejecuta el modelo contra datos de test"
      ]
    },
    {
      "cell_type": "markdown",
      "source": [
        "**Cálculo de predicciones**\n",
        "\n",
        "Solo asignar NONE si su probabilidad es mayor que la del resto de códigos y en caso contrario asignar sólo los códigos con mayor probabilidad que NONE"
      ],
      "metadata": {
        "id": "cpjZ2l6LmNUE"
      },
      "id": "cpjZ2l6LmNUE"
    },
    {
      "cell_type": "code",
      "source": [
        "data = dataset['test'][0]\n",
        "data"
      ],
      "metadata": {
        "id": "aW4KnQN6tsKt",
        "outputId": "52908552-c277-4d92-88f5-f98632587275",
        "colab": {
          "base_uri": "https://localhost:8080/"
        }
      },
      "id": "aW4KnQN6tsKt",
      "execution_count": 20,
      "outputs": [
        {
          "output_type": "execute_result",
          "data": {
            "text/plain": [
              "{'acto': 28196090,\n",
              " 'label': 0,\n",
              " 'label_str': 'NONE',\n",
              " 'label_list': [0],\n",
              " 'label_list_str': ['NONE'],\n",
              " 'informes': ['28196090-173056617.txt'],\n",
              " 'text': 'mujer. juicio clinico:   coxartrosis derecha avanzada.cie . ',\n",
              " 'json': '[{\"apartado\": \"sexo\", \"texto\": \"mujer.\"}, {\"apartado\": \"juicio clinico\", \"texto\": \" juicio clinico coxartrosis derecha avanzada.cie .\"}]'}"
            ]
          },
          "metadata": {},
          "execution_count": 20
        }
      ]
    },
    {
      "cell_type": "code",
      "source": [
        "codigo_NONE = 'NONE'\n",
        "\n",
        "def calcular_predicciones(probs, threshold=umbral):\n",
        "  predictions = np.zeros(probs.shape)\n",
        "  predictions[np.where(probs > threshold)] = 1\n",
        "  return predictions\n",
        "\n",
        "def calcular_predicciones_NONE_mas_probable(probs, threshold=umbral):\n",
        "  predictions = calcular_predicciones(probs, threshold)\n",
        "\n",
        "  try:\n",
        "    probabilidad_NONE = probs[class2label.str2int(codigo_NONE)]\n",
        "    #Se ha encontrado NONE entre las predicciones\n",
        "    if (probabilidad_NONE > 0):\n",
        "      predictions_mayor_que_prob_NONE = np.zeros(probs.shape)\n",
        "      predictions_mayor_que_prob_NONE[np.where(probs > probabilidad_NONE)] = 1\n",
        "      # Si hay labels con mejor probabilidad que none nos la quedamos\n",
        "      if (1 in predictions_mayor_que_prob_NONE):\n",
        "        predictions = predictions_mayor_que_prob_NONE\n",
        "      else: #Si no las hay nos quedamos solo con NONE\n",
        "        predictions[:] = 0\n",
        "        predictions[class2label.str2int(codigo_NONE)] = 1\n",
        "  except ValueError:\n",
        "    pass      \n",
        "    \n",
        "  return predictions\n",
        "    \n",
        "#Solo asignar NONE si existe y tiene una probabilidad que supere el umbral\n",
        "def calcular_predicciones_existe_NONE(probs, threshold=umbral):\n",
        "  predictions = calcular_predicciones(probs, threshold)\n",
        "\n",
        "  try:\n",
        "    probabilidad_NONE = probs[class2label.str2int(codigo_NONE)]\n",
        "    #Se ha encontrado NONE entre las predicciones, nos la quedamos de forma exclusiva\n",
        "    if (probabilidad_NONE > threshold):\n",
        "        predictions[:] = 0\n",
        "        predictions[class2label.str2int(codigo_NONE)] = 1\n",
        "  except ValueError:\n",
        "    pass\n",
        "\n",
        "  return predictions"
      ],
      "metadata": {
        "id": "EeI6jM4luiQ3"
      },
      "id": "EeI6jM4luiQ3",
      "execution_count": 21,
      "outputs": []
    },
    {
      "cell_type": "code",
      "source": [
        "# obtienen los nombres de las etiquetas predichas\n",
        "def obtener_lables_predicas (y_pred):\n",
        "  predicted_labels = [class2label.int2str([idx])for idx, label in enumerate(y_pred) if label == 1.0]\n",
        "  y_pred_labels = []\n",
        "  for label in predicted_labels:\n",
        "      y_pred_labels.append(label[0])\n",
        "  return y_pred_labels\n",
        "\n",
        "# obtienen el vector y_true a partir de los labels \n",
        "def obtener_y_true (labels):\n",
        "  # crea una matriz del tamaño del texto y las clases a entrenar\n",
        "  labels_matrix = np.zeros(class2label.num_classes)\n",
        "  for clase in labels:\n",
        "    try:\n",
        "      indice_clase = class2label.str2int(clase)\n",
        "      labels_matrix[indice_clase] = 1\n",
        "    except:\n",
        "      print(\"La clase %s no está entre las clases de entrenamiento\" % clase)\n",
        "  return labels_matrix.tolist()"
      ],
      "metadata": {
        "id": "phF30P-VwdiM"
      },
      "id": "phF30P-VwdiM",
      "execution_count": 22,
      "outputs": []
    },
    {
      "cell_type": "code",
      "execution_count": 23,
      "id": "476cd70e",
      "metadata": {
        "id": "476cd70e"
      },
      "outputs": [],
      "source": [
        "from transformers import AutoModelForSequenceClassification\n",
        "import torch\n",
        "import numpy as np\n",
        "\n",
        "#obtiene el modelo\n",
        "model = AutoModelForSequenceClassification.from_pretrained(\n",
        "    modelo_base, \n",
        "    num_labels=class2label.num_classes, \n",
        "    problem_type = \"multi_label_classification\")\n",
        "\n",
        "#procesa los datos\n",
        "inputs = preprocess_data(data)\n",
        "outputs = model(**inputs)\n",
        "\n",
        "#obtiene las prediccciones y las probabilidades\n",
        "logits = outputs.logits\n",
        "sigmoid = torch.nn.Sigmoid()\n",
        "probs = sigmoid(logits.squeeze().cpu())\n",
        "\n",
        "y_pred = calcular_predicciones(probs)\n",
        "y_pred_labels = obtener_lables_predicas(y_pred)\n",
        "\n",
        "y_true = obtener_y_true(data['label_list_str'])\n",
        "y_true_labels = data['label_list_str']"
      ]
    },
    {
      "cell_type": "markdown",
      "source": [
        "# Interpretación de los datos\n"
      ],
      "metadata": {
        "id": "FNHjAugI_ngK"
      },
      "id": "FNHjAugI_ngK"
    },
    {
      "cell_type": "code",
      "source": [
        "from sklearn.metrics import f1_score, roc_auc_score, accuracy_score, precision_score, recall_score\n",
        "\n",
        "def calculo_metricas_multi_label(y_pred, y_true, threshold=umbral):    \n",
        "    metric_average = \"micro\"\n",
        "    precision_score_value = precision_score(y_true, y_pred, average=metric_average)\n",
        "    recall_score_value = recall_score(y_true, y_pred, average=metric_average)\n",
        "    f1_micro_average = f1_score(y_true=y_true, y_pred=y_pred, average=metric_average)\n",
        "    roc_auc = roc_auc_score(y_true, y_pred, average=metric_average)\n",
        "    accuracy = accuracy_score(y_true, y_pred)\n",
        "    metrica_s_value = metrica_s_train(y_true, y_pred)\n",
        "    \n",
        "    metrics = {\n",
        "      'precision_score': round(precision_score_value, 2),\n",
        "      'recall_score': round(recall_score_value, 2),\n",
        "      'f1': round(f1_micro_average, 2),\n",
        "      'roc_auc': round(roc_auc, 2),\n",
        "      'accuracy': round(accuracy, 2), \n",
        "      'metrica_s': round(metrica_s_value, 4)}\n",
        "\n",
        "    return metrics"
      ],
      "metadata": {
        "id": "sPn2btA3uLal"
      },
      "id": "sPn2btA3uLal",
      "execution_count": 24,
      "outputs": []
    },
    {
      "cell_type": "markdown",
      "source": [],
      "metadata": {
        "id": "hGaGEOLL5A3v"
      },
      "id": "hGaGEOLL5A3v"
    },
    {
      "cell_type": "code",
      "source": [
        "print('y_true_labels', y_true_labels)\n",
        "print('y_pred_labels', y_pred_labels)\n",
        "print('metricas', calculo_metricas_multi_label(y_pred, y_true))\n",
        "\n",
        "from sklearn.metrics import confusion_matrix, ConfusionMatrixDisplay\n",
        "cm = confusion_matrix(y_true, y_pred)"
      ],
      "metadata": {
        "id": "ool1GlcR_LDd",
        "outputId": "7fb384bc-a87e-4218-922d-2650a5d61a3f",
        "colab": {
          "base_uri": "https://localhost:8080/"
        }
      },
      "id": "ool1GlcR_LDd",
      "execution_count": 25,
      "outputs": [
        {
          "output_type": "stream",
          "name": "stdout",
          "text": [
            "y_true_labels ['NONE']\n",
            "y_pred_labels ['T50.2X5A', 'NONE', 'E89.0', 'Y84.2', 'Y95', 'T50.905A', 'T38.0X5A', 'T80.1XXA', 'T81.4XXA', 'O75.2', 'T45.1X5A', 'K66.0', 'Y83.1', 'P01.1', 'T45.515A', 'T36.0X5A', 'D70.1', 'Y83.2', 'P03.4', 'Y84.0', 'Y84.6', 'Y83.8', 'Y84.8', 'K91.89', 'D64.81', 'Y83.6']\n",
            "metricas {'precision_score': 0.95, 'recall_score': 0.95, 'f1': 0.95, 'roc_auc': 0.97, 'accuracy': 0.95, 'metrica_s': 0.0385}\n"
          ]
        }
      ]
    },
    {
      "cell_type": "code",
      "source": [
        "from sklearn.metrics import confusion_matrix, ConfusionMatrixDisplay\n",
        "ConfusionMatrixDisplay(cm).plot()"
      ],
      "metadata": {
        "id": "z2-4yc7K_MTB",
        "outputId": "027fd110-2e91-406c-f13a-30283a96a0ce",
        "colab": {
          "base_uri": "https://localhost:8080/",
          "height": 466
        }
      },
      "id": "z2-4yc7K_MTB",
      "execution_count": 26,
      "outputs": [
        {
          "output_type": "execute_result",
          "data": {
            "text/plain": [
              "<sklearn.metrics._plot.confusion_matrix.ConfusionMatrixDisplay at 0x7f9dcda6eb30>"
            ]
          },
          "metadata": {},
          "execution_count": 26
        },
        {
          "output_type": "display_data",
          "data": {
            "text/plain": [
              "<Figure size 640x480 with 2 Axes>"
            ],
            "image/png": "[encoded data removed]"
          },
          "metadata": {}
        }
      ]
    },
    {
      "cell_type": "code",
      "source": [
        "from sklearn.metrics import classification_report\n",
        "print(classification_report(y_true, y_pred))"
      ],
      "metadata": {
        "id": "b_wXds5e_N-x",
        "outputId": "491bbca6-6c54-43e8-cbfd-c44df20c85b8",
        "colab": {
          "base_uri": "https://localhost:8080/"
        }
      },
      "id": "b_wXds5e_N-x",
      "execution_count": 27,
      "outputs": [
        {
          "output_type": "stream",
          "name": "stdout",
          "text": [
            "              precision    recall  f1-score   support\n",
            "\n",
            "         0.0       1.00      0.95      0.97       484\n",
            "         1.0       0.04      1.00      0.07         1\n",
            "\n",
            "    accuracy                           0.95       485\n",
            "   macro avg       0.52      0.97      0.52       485\n",
            "weighted avg       1.00      0.95      0.97       485\n",
            "\n"
          ]
        }
      ]
    }
  ],
  "metadata": {
    "colab": {
      "provenance": [],
      "include_colab_link": true
    },
    "kernelspec": {
      "display_name": "Python 3 (ipykernel)",
      "language": "python",
      "name": "python3"
    },
    "language_info": {
      "codemirror_mode": {
        "name": "ipython",
        "version": 3
      },
      "file_extension": ".py",
      "mimetype": "text/x-python",
      "name": "python",
      "nbconvert_exporter": "python",
      "pygments_lexer": "ipython3",
      "version": "3.9.12"
    },
    "widgets": {
      "application/vnd.jupyter.widget-state+json": {
        "410fe4f71b2a4274ba66a52890150c78": {
          "model_module": "@jupyter-widgets/controls",
          "model_name": "HBoxModel",
          "model_module_version": "1.5.0",
          "state": {
            "_dom_classes": [],
            "_model_module": "@jupyter-widgets/controls",
            "_model_module_version": "1.5.0",
            "_model_name": "HBoxModel",
            "_view_count": null,
            "_view_module": "@jupyter-widgets/controls",
            "_view_module_version": "1.5.0",
            "_view_name": "HBoxView",
            "box_style": "",
            "children": [
              "IPY_MODEL_4feac9d0b69f4fd8ab8cccbacb59f568",
              "IPY_MODEL_1deb83b9aab14b70af930b3a219df9ff",
              "IPY_MODEL_a840e2ae483b4af9ab902c0e14cef269"
            ],
            "layout": "IPY_MODEL_8c9c173f81f44305aa1453cc5453253e"
          }
        },
        "4feac9d0b69f4fd8ab8cccbacb59f568": {
          "model_module": "@jupyter-widgets/controls",
          "model_name": "HTMLModel",
          "model_module_version": "1.5.0",
          "state": {
            "_dom_classes": [],
            "_model_module": "@jupyter-widgets/controls",
            "_model_module_version": "1.5.0",
            "_model_name": "HTMLModel",
            "_view_count": null,
            "_view_module": "@jupyter-widgets/controls",
            "_view_module_version": "1.5.0",
            "_view_name": "HTMLView",
            "description": "",
            "description_tooltip": null,
            "layout": "IPY_MODEL_f19e26fb293f48efbc936e8b6f2333f1",
            "placeholder": "​",
            "style": "IPY_MODEL_52c4137478d047be9aa1c316a007f195",
            "value": "Downloading (…)okenizer_config.json: 100%"
          }
        },
        "1deb83b9aab14b70af930b3a219df9ff": {
          "model_module": "@jupyter-widgets/controls",
          "model_name": "FloatProgressModel",
          "model_module_version": "1.5.0",
          "state": {
            "_dom_classes": [],
            "_model_module": "@jupyter-widgets/controls",
            "_model_module_version": "1.5.0",
            "_model_name": "FloatProgressModel",
            "_view_count": null,
            "_view_module": "@jupyter-widgets/controls",
            "_view_module_version": "1.5.0",
            "_view_name": "ProgressView",
            "bar_style": "success",
            "description": "",
            "description_tooltip": null,
            "layout": "IPY_MODEL_1745c753339f4d2ebc19c30c7b0992d3",
            "max": 1330,
            "min": 0,
            "orientation": "horizontal",
            "style": "IPY_MODEL_29d4733c2b9841549a8a0d16b28cb835",
            "value": 1330
          }
        },
        "a840e2ae483b4af9ab902c0e14cef269": {
          "model_module": "@jupyter-widgets/controls",
          "model_name": "HTMLModel",
          "model_module_version": "1.5.0",
          "state": {
            "_dom_classes": [],
            "_model_module": "@jupyter-widgets/controls",
            "_model_module_version": "1.5.0",
            "_model_name": "HTMLModel",
            "_view_count": null,
            "_view_module": "@jupyter-widgets/controls",
            "_view_module_version": "1.5.0",
            "_view_name": "HTMLView",
            "description": "",
            "description_tooltip": null,
            "layout": "IPY_MODEL_e01d627aa3f34bd7a181342f8dfc493b",
            "placeholder": "​",
            "style": "IPY_MODEL_76d3816789b84ff38fd3787d31f9f3c5",
            "value": " 1.33k/1.33k [00:00&lt;00:00, 46.7kB/s]"
          }
        },
        "8c9c173f81f44305aa1453cc5453253e": {
          "model_module": "@jupyter-widgets/base",
          "model_name": "LayoutModel",
          "model_module_version": "1.2.0",
          "state": {
            "_model_module": "@jupyter-widgets/base",
            "_model_module_version": "1.2.0",
            "_model_name": "LayoutModel",
            "_view_count": null,
            "_view_module": "@jupyter-widgets/base",
            "_view_module_version": "1.2.0",
            "_view_name": "LayoutView",
            "align_content": null,
            "align_items": null,
            "align_self": null,
            "border": null,
            "bottom": null,
            "display": null,
            "flex": null,
            "flex_flow": null,
            "grid_area": null,
            "grid_auto_columns": null,
            "grid_auto_flow": null,
            "grid_auto_rows": null,
            "grid_column": null,
            "grid_gap": null,
            "grid_row": null,
            "grid_template_areas": null,
            "grid_template_columns": null,
            "grid_template_rows": null,
            "height": null,
            "justify_content": null,
            "justify_items": null,
            "left": null,
            "margin": null,
            "max_height": null,
            "max_width": null,
            "min_height": null,
            "min_width": null,
            "object_fit": null,
            "object_position": null,
            "order": null,
            "overflow": null,
            "overflow_x": null,
            "overflow_y": null,
            "padding": null,
            "right": null,
            "top": null,
            "visibility": null,
            "width": null
          }
        },
        "f19e26fb293f48efbc936e8b6f2333f1": {
          "model_module": "@jupyter-widgets/base",
          "model_name": "LayoutModel",
          "model_module_version": "1.2.0",
          "state": {
            "_model_module": "@jupyter-widgets/base",
            "_model_module_version": "1.2.0",
            "_model_name": "LayoutModel",
            "_view_count": null,
            "_view_module": "@jupyter-widgets/base",
            "_view_module_version": "1.2.0",
            "_view_name": "LayoutView",
            "align_content": null,
            "align_items": null,
            "align_self": null,
            "border": null,
            "bottom": null,
            "display": null,
            "flex": null,
            "flex_flow": null,
            "grid_area": null,
            "grid_auto_columns": null,
            "grid_auto_flow": null,
            "grid_auto_rows": null,
            "grid_column": null,
            "grid_gap": null,
            "grid_row": null,
            "grid_template_areas": null,
            "grid_template_columns": null,
            "grid_template_rows": null,
            "height": null,
            "justify_content": null,
            "justify_items": null,
            "left": null,
            "margin": null,
            "max_height": null,
            "max_width": null,
            "min_height": null,
            "min_width": null,
            "object_fit": null,
            "object_position": null,
            "order": null,
            "overflow": null,
            "overflow_x": null,
            "overflow_y": null,
            "padding": null,
            "right": null,
            "top": null,
            "visibility": null,
            "width": null
          }
        },
        "52c4137478d047be9aa1c316a007f195": {
          "model_module": "@jupyter-widgets/controls",
          "model_name": "DescriptionStyleModel",
          "model_module_version": "1.5.0",
          "state": {
            "_model_module": "@jupyter-widgets/controls",
            "_model_module_version": "1.5.0",
            "_model_name": "DescriptionStyleModel",
            "_view_count": null,
            "_view_module": "@jupyter-widgets/base",
            "_view_module_version": "1.2.0",
            "_view_name": "StyleView",
            "description_width": ""
          }
        },
        "1745c753339f4d2ebc19c30c7b0992d3": {
          "model_module": "@jupyter-widgets/base",
          "model_name": "LayoutModel",
          "model_module_version": "1.2.0",
          "state": {
            "_model_module": "@jupyter-widgets/base",
            "_model_module_version": "1.2.0",
            "_model_name": "LayoutModel",
            "_view_count": null,
            "_view_module": "@jupyter-widgets/base",
            "_view_module_version": "1.2.0",
            "_view_name": "LayoutView",
            "align_content": null,
            "align_items": null,
            "align_self": null,
            "border": null,
            "bottom": null,
            "display": null,
            "flex": null,
            "flex_flow": null,
            "grid_area": null,
            "grid_auto_columns": null,
            "grid_auto_flow": null,
            "grid_auto_rows": null,
            "grid_column": null,
            "grid_gap": null,
            "grid_row": null,
            "grid_template_areas": null,
            "grid_template_columns": null,
            "grid_template_rows": null,
            "height": null,
            "justify_content": null,
            "justify_items": null,
            "left": null,
            "margin": null,
            "max_height": null,
            "max_width": null,
            "min_height": null,
            "min_width": null,
            "object_fit": null,
            "object_position": null,
            "order": null,
            "overflow": null,
            "overflow_x": null,
            "overflow_y": null,
            "padding": null,
            "right": null,
            "top": null,
            "visibility": null,
            "width": null
          }
        },
        "29d4733c2b9841549a8a0d16b28cb835": {
          "model_module": "@jupyter-widgets/controls",
          "model_name": "ProgressStyleModel",
          "model_module_version": "1.5.0",
          "state": {
            "_model_module": "@jupyter-widgets/controls",
            "_model_module_version": "1.5.0",
            "_model_name": "ProgressStyleModel",
            "_view_count": null,
            "_view_module": "@jupyter-widgets/base",
            "_view_module_version": "1.2.0",
            "_view_name": "StyleView",
            "bar_color": null,
            "description_width": ""
          }
        },
        "e01d627aa3f34bd7a181342f8dfc493b": {
          "model_module": "@jupyter-widgets/base",
          "model_name": "LayoutModel",
          "model_module_version": "1.2.0",
          "state": {
            "_model_module": "@jupyter-widgets/base",
            "_model_module_version": "1.2.0",
            "_model_name": "LayoutModel",
            "_view_count": null,
            "_view_module": "@jupyter-widgets/base",
            "_view_module_version": "1.2.0",
            "_view_name": "LayoutView",
            "align_content": null,
            "align_items": null,
            "align_self": null,
            "border": null,
            "bottom": null,
            "display": null,
            "flex": null,
            "flex_flow": null,
            "grid_area": null,
            "grid_auto_columns": null,
            "grid_auto_flow": null,
            "grid_auto_rows": null,
            "grid_column": null,
            "grid_gap": null,
            "grid_row": null,
            "grid_template_areas": null,
            "grid_template_columns": null,
            "grid_template_rows": null,
            "height": null,
            "justify_content": null,
            "justify_items": null,
            "left": null,
            "margin": null,
            "max_height": null,
            "max_width": null,
            "min_height": null,
            "min_width": null,
            "object_fit": null,
            "object_position": null,
            "order": null,
            "overflow": null,
            "overflow_x": null,
            "overflow_y": null,
            "padding": null,
            "right": null,
            "top": null,
            "visibility": null,
            "width": null
          }
        },
        "76d3816789b84ff38fd3787d31f9f3c5": {
          "model_module": "@jupyter-widgets/controls",
          "model_name": "DescriptionStyleModel",
          "model_module_version": "1.5.0",
          "state": {
            "_model_module": "@jupyter-widgets/controls",
            "_model_module_version": "1.5.0",
            "_model_name": "DescriptionStyleModel",
            "_view_count": null,
            "_view_module": "@jupyter-widgets/base",
            "_view_module_version": "1.2.0",
            "_view_name": "StyleView",
            "description_width": ""
          }
        },
        "c0f4251682284be2b9053ee6c0ab49b7": {
          "model_module": "@jupyter-widgets/controls",
          "model_name": "HBoxModel",
          "model_module_version": "1.5.0",
          "state": {
            "_dom_classes": [],
            "_model_module": "@jupyter-widgets/controls",
            "_model_module_version": "1.5.0",
            "_model_name": "HBoxModel",
            "_view_count": null,
            "_view_module": "@jupyter-widgets/controls",
            "_view_module_version": "1.5.0",
            "_view_name": "HBoxView",
            "box_style": "",
            "children": [
              "IPY_MODEL_5320dbb3a19c4c398a65ae110d0edd7c",
              "IPY_MODEL_da19be32e21044b08e2aafb3c3d3e248",
              "IPY_MODEL_28de8e5b2bdb4abe98b120506ad191b1"
            ],
            "layout": "IPY_MODEL_e83e371adb664eeea0ba78e539d20665"
          }
        },
        "5320dbb3a19c4c398a65ae110d0edd7c": {
          "model_module": "@jupyter-widgets/controls",
          "model_name": "HTMLModel",
          "model_module_version": "1.5.0",
          "state": {
            "_dom_classes": [],
            "_model_module": "@jupyter-widgets/controls",
            "_model_module_version": "1.5.0",
            "_model_name": "HTMLModel",
            "_view_count": null,
            "_view_module": "@jupyter-widgets/controls",
            "_view_module_version": "1.5.0",
            "_view_name": "HTMLView",
            "description": "",
            "description_tooltip": null,
            "layout": "IPY_MODEL_10a3e7a73c4a47af87206bcf4c4ce139",
            "placeholder": "​",
            "style": "IPY_MODEL_a2e91beca7e24888ace9a087cdb60316",
            "value": "Downloading (…)olve/main/vocab.json: 100%"
          }
        },
        "da19be32e21044b08e2aafb3c3d3e248": {
          "model_module": "@jupyter-widgets/controls",
          "model_name": "FloatProgressModel",
          "model_module_version": "1.5.0",
          "state": {
            "_dom_classes": [],
            "_model_module": "@jupyter-widgets/controls",
            "_model_module_version": "1.5.0",
            "_model_name": "FloatProgressModel",
            "_view_count": null,
            "_view_module": "@jupyter-widgets/controls",
            "_view_module_version": "1.5.0",
            "_view_name": "ProgressView",
            "bar_style": "success",
            "description": "",
            "description_tooltip": null,
            "layout": "IPY_MODEL_5b08ac369c8d4dd2aca77b8fb79ced87",
            "max": 1065265,
            "min": 0,
            "orientation": "horizontal",
            "style": "IPY_MODEL_1c4425960dca4b848453ec1b089deed8",
            "value": 1065265
          }
        },
        "28de8e5b2bdb4abe98b120506ad191b1": {
          "model_module": "@jupyter-widgets/controls",
          "model_name": "HTMLModel",
          "model_module_version": "1.5.0",
          "state": {
            "_dom_classes": [],
            "_model_module": "@jupyter-widgets/controls",
            "_model_module_version": "1.5.0",
            "_model_name": "HTMLModel",
            "_view_count": null,
            "_view_module": "@jupyter-widgets/controls",
            "_view_module_version": "1.5.0",
            "_view_name": "HTMLView",
            "description": "",
            "description_tooltip": null,
            "layout": "IPY_MODEL_ed43ed99e94d47eea9fe937938919b9b",
            "placeholder": "​",
            "style": "IPY_MODEL_028f104767f24e2a82c8c74dbbf7a854",
            "value": " 1.07M/1.07M [00:00&lt;00:00, 11.6MB/s]"
          }
        },
        "e83e371adb664eeea0ba78e539d20665": {
          "model_module": "@jupyter-widgets/base",
          "model_name": "LayoutModel",
          "model_module_version": "1.2.0",
          "state": {
            "_model_module": "@jupyter-widgets/base",
            "_model_module_version": "1.2.0",
            "_model_name": "LayoutModel",
            "_view_count": null,
            "_view_module": "@jupyter-widgets/base",
            "_view_module_version": "1.2.0",
            "_view_name": "LayoutView",
            "align_content": null,
            "align_items": null,
            "align_self": null,
            "border": null,
            "bottom": null,
            "display": null,
            "flex": null,
            "flex_flow": null,
            "grid_area": null,
            "grid_auto_columns": null,
            "grid_auto_flow": null,
            "grid_auto_rows": null,
            "grid_column": null,
            "grid_gap": null,
            "grid_row": null,
            "grid_template_areas": null,
            "grid_template_columns": null,
            "grid_template_rows": null,
            "height": null,
            "justify_content": null,
            "justify_items": null,
            "left": null,
            "margin": null,
            "max_height": null,
            "max_width": null,
            "min_height": null,
            "min_width": null,
            "object_fit": null,
            "object_position": null,
            "order": null,
            "overflow": null,
            "overflow_x": null,
            "overflow_y": null,
            "padding": null,
            "right": null,
            "top": null,
            "visibility": null,
            "width": null
          }
        },
        "10a3e7a73c4a47af87206bcf4c4ce139": {
          "model_module": "@jupyter-widgets/base",
          "model_name": "LayoutModel",
          "model_module_version": "1.2.0",
          "state": {
            "_model_module": "@jupyter-widgets/base",
            "_model_module_version": "1.2.0",
            "_model_name": "LayoutModel",
            "_view_count": null,
            "_view_module": "@jupyter-widgets/base",
            "_view_module_version": "1.2.0",
            "_view_name": "LayoutView",
            "align_content": null,
            "align_items": null,
            "align_self": null,
            "border": null,
            "bottom": null,
            "display": null,
            "flex": null,
            "flex_flow": null,
            "grid_area": null,
            "grid_auto_columns": null,
            "grid_auto_flow": null,
            "grid_auto_rows": null,
            "grid_column": null,
            "grid_gap": null,
            "grid_row": null,
            "grid_template_areas": null,
            "grid_template_columns": null,
            "grid_template_rows": null,
            "height": null,
            "justify_content": null,
            "justify_items": null,
            "left": null,
            "margin": null,
            "max_height": null,
            "max_width": null,
            "min_height": null,
            "min_width": null,
            "object_fit": null,
            "object_position": null,
            "order": null,
            "overflow": null,
            "overflow_x": null,
            "overflow_y": null,
            "padding": null,
            "right": null,
            "top": null,
            "visibility": null,
            "width": null
          }
        },
        "a2e91beca7e24888ace9a087cdb60316": {
          "model_module": "@jupyter-widgets/controls",
          "model_name": "DescriptionStyleModel",
          "model_module_version": "1.5.0",
          "state": {
            "_model_module": "@jupyter-widgets/controls",
            "_model_module_version": "1.5.0",
            "_model_name": "DescriptionStyleModel",
            "_view_count": null,
            "_view_module": "@jupyter-widgets/base",
            "_view_module_version": "1.2.0",
            "_view_name": "StyleView",
            "description_width": ""
          }
        },
        "5b08ac369c8d4dd2aca77b8fb79ced87": {
          "model_module": "@jupyter-widgets/base",
          "model_name": "LayoutModel",
          "model_module_version": "1.2.0",
          "state": {
            "_model_module": "@jupyter-widgets/base",
            "_model_module_version": "1.2.0",
            "_model_name": "LayoutModel",
            "_view_count": null,
            "_view_module": "@jupyter-widgets/base",
            "_view_module_version": "1.2.0",
            "_view_name": "LayoutView",
            "align_content": null,
            "align_items": null,
            "align_self": null,
            "border": null,
            "bottom": null,
            "display": null,
            "flex": null,
            "flex_flow": null,
            "grid_area": null,
            "grid_auto_columns": null,
            "grid_auto_flow": null,
            "grid_auto_rows": null,
            "grid_column": null,
            "grid_gap": null,
            "grid_row": null,
            "grid_template_areas": null,
            "grid_template_columns": null,
            "grid_template_rows": null,
            "height": null,
            "justify_content": null,
            "justify_items": null,
            "left": null,
            "margin": null,
            "max_height": null,
            "max_width": null,
            "min_height": null,
            "min_width": null,
            "object_fit": null,
            "object_position": null,
            "order": null,
            "overflow": null,
            "overflow_x": null,
            "overflow_y": null,
            "padding": null,
            "right": null,
            "top": null,
            "visibility": null,
            "width": null
          }
        },
        "1c4425960dca4b848453ec1b089deed8": {
          "model_module": "@jupyter-widgets/controls",
          "model_name": "ProgressStyleModel",
          "model_module_version": "1.5.0",
          "state": {
            "_model_module": "@jupyter-widgets/controls",
            "_model_module_version": "1.5.0",
            "_model_name": "ProgressStyleModel",
            "_view_count": null,
            "_view_module": "@jupyter-widgets/base",
            "_view_module_version": "1.2.0",
            "_view_name": "StyleView",
            "bar_color": null,
            "description_width": ""
          }
        },
        "ed43ed99e94d47eea9fe937938919b9b": {
          "model_module": "@jupyter-widgets/base",
          "model_name": "LayoutModel",
          "model_module_version": "1.2.0",
          "state": {
            "_model_module": "@jupyter-widgets/base",
            "_model_module_version": "1.2.0",
            "_model_name": "LayoutModel",
            "_view_count": null,
            "_view_module": "@jupyter-widgets/base",
            "_view_module_version": "1.2.0",
            "_view_name": "LayoutView",
            "align_content": null,
            "align_items": null,
            "align_self": null,
            "border": null,
            "bottom": null,
            "display": null,
            "flex": null,
            "flex_flow": null,
            "grid_area": null,
            "grid_auto_columns": null,
            "grid_auto_flow": null,
            "grid_auto_rows": null,
            "grid_column": null,
            "grid_gap": null,
            "grid_row": null,
            "grid_template_areas": null,
            "grid_template_columns": null,
            "grid_template_rows": null,
            "height": null,
            "justify_content": null,
            "justify_items": null,
            "left": null,
            "margin": null,
            "max_height": null,
            "max_width": null,
            "min_height": null,
            "min_width": null,
            "object_fit": null,
            "object_position": null,
            "order": null,
            "overflow": null,
            "overflow_x": null,
            "overflow_y": null,
            "padding": null,
            "right": null,
            "top": null,
            "visibility": null,
            "width": null
          }
        },
        "028f104767f24e2a82c8c74dbbf7a854": {
          "model_module": "@jupyter-widgets/controls",
          "model_name": "DescriptionStyleModel",
          "model_module_version": "1.5.0",
          "state": {
            "_model_module": "@jupyter-widgets/controls",
            "_model_module_version": "1.5.0",
            "_model_name": "DescriptionStyleModel",
            "_view_count": null,
            "_view_module": "@jupyter-widgets/base",
            "_view_module_version": "1.2.0",
            "_view_name": "StyleView",
            "description_width": ""
          }
        },
        "d15f4f821185432cbc60a3205ee18b6d": {
          "model_module": "@jupyter-widgets/controls",
          "model_name": "HBoxModel",
          "model_module_version": "1.5.0",
          "state": {
            "_dom_classes": [],
            "_model_module": "@jupyter-widgets/controls",
            "_model_module_version": "1.5.0",
            "_model_name": "HBoxModel",
            "_view_count": null,
            "_view_module": "@jupyter-widgets/controls",
            "_view_module_version": "1.5.0",
            "_view_name": "HBoxView",
            "box_style": "",
            "children": [
              "IPY_MODEL_12865b8309fe47c5928f42257f3e77ec",
              "IPY_MODEL_5936b07e771e4e07aef46e8832dd8f3b",
              "IPY_MODEL_4d211495b07444a389993210fe854aa0"
            ],
            "layout": "IPY_MODEL_c1104636783c4dd1985a09ecb5f79a77"
          }
        },
        "12865b8309fe47c5928f42257f3e77ec": {
          "model_module": "@jupyter-widgets/controls",
          "model_name": "HTMLModel",
          "model_module_version": "1.5.0",
          "state": {
            "_dom_classes": [],
            "_model_module": "@jupyter-widgets/controls",
            "_model_module_version": "1.5.0",
            "_model_name": "HTMLModel",
            "_view_count": null,
            "_view_module": "@jupyter-widgets/controls",
            "_view_module_version": "1.5.0",
            "_view_name": "HTMLView",
            "description": "",
            "description_tooltip": null,
            "layout": "IPY_MODEL_a463356c39f84b10a980d5058e425b7c",
            "placeholder": "​",
            "style": "IPY_MODEL_5e15cf2b910c4d9c8ae8435c9020d566",
            "value": "Downloading (…)olve/main/merges.txt: 100%"
          }
        },
        "5936b07e771e4e07aef46e8832dd8f3b": {
          "model_module": "@jupyter-widgets/controls",
          "model_name": "FloatProgressModel",
          "model_module_version": "1.5.0",
          "state": {
            "_dom_classes": [],
            "_model_module": "@jupyter-widgets/controls",
            "_model_module_version": "1.5.0",
            "_model_name": "FloatProgressModel",
            "_view_count": null,
            "_view_module": "@jupyter-widgets/controls",
            "_view_module_version": "1.5.0",
            "_view_name": "ProgressView",
            "bar_style": "success",
            "description": "",
            "description_tooltip": null,
            "layout": "IPY_MODEL_b39c70f5b9e54d04be37c7893f570667",
            "max": 522504,
            "min": 0,
            "orientation": "horizontal",
            "style": "IPY_MODEL_f62ab97ca3fb4aeaafd417f74fcfe068",
            "value": 522504
          }
        },
        "4d211495b07444a389993210fe854aa0": {
          "model_module": "@jupyter-widgets/controls",
          "model_name": "HTMLModel",
          "model_module_version": "1.5.0",
          "state": {
            "_dom_classes": [],
            "_model_module": "@jupyter-widgets/controls",
            "_model_module_version": "1.5.0",
            "_model_name": "HTMLModel",
            "_view_count": null,
            "_view_module": "@jupyter-widgets/controls",
            "_view_module_version": "1.5.0",
            "_view_name": "HTMLView",
            "description": "",
            "description_tooltip": null,
            "layout": "IPY_MODEL_75a0bc00ff96459db861b2915cd00722",
            "placeholder": "​",
            "style": "IPY_MODEL_623d271408a1462e89315d57e6ca47b4",
            "value": " 523k/523k [00:00&lt;00:00, 10.5MB/s]"
          }
        },
        "c1104636783c4dd1985a09ecb5f79a77": {
          "model_module": "@jupyter-widgets/base",
          "model_name": "LayoutModel",
          "model_module_version": "1.2.0",
          "state": {
            "_model_module": "@jupyter-widgets/base",
            "_model_module_version": "1.2.0",
            "_model_name": "LayoutModel",
            "_view_count": null,
            "_view_module": "@jupyter-widgets/base",
            "_view_module_version": "1.2.0",
            "_view_name": "LayoutView",
            "align_content": null,
            "align_items": null,
            "align_self": null,
            "border": null,
            "bottom": null,
            "display": null,
            "flex": null,
            "flex_flow": null,
            "grid_area": null,
            "grid_auto_columns": null,
            "grid_auto_flow": null,
            "grid_auto_rows": null,
            "grid_column": null,
            "grid_gap": null,
            "grid_row": null,
            "grid_template_areas": null,
            "grid_template_columns": null,
            "grid_template_rows": null,
            "height": null,
            "justify_content": null,
            "justify_items": null,
            "left": null,
            "margin": null,
            "max_height": null,
            "max_width": null,
            "min_height": null,
            "min_width": null,
            "object_fit": null,
            "object_position": null,
            "order": null,
            "overflow": null,
            "overflow_x": null,
            "overflow_y": null,
            "padding": null,
            "right": null,
            "top": null,
            "visibility": null,
            "width": null
          }
        },
        "a463356c39f84b10a980d5058e425b7c": {
          "model_module": "@jupyter-widgets/base",
          "model_name": "LayoutModel",
          "model_module_version": "1.2.0",
          "state": {
            "_model_module": "@jupyter-widgets/base",
            "_model_module_version": "1.2.0",
            "_model_name": "LayoutModel",
            "_view_count": null,
            "_view_module": "@jupyter-widgets/base",
            "_view_module_version": "1.2.0",
            "_view_name": "LayoutView",
            "align_content": null,
            "align_items": null,
            "align_self": null,
            "border": null,
            "bottom": null,
            "display": null,
            "flex": null,
            "flex_flow": null,
            "grid_area": null,
            "grid_auto_columns": null,
            "grid_auto_flow": null,
            "grid_auto_rows": null,
            "grid_column": null,
            "grid_gap": null,
            "grid_row": null,
            "grid_template_areas": null,
            "grid_template_columns": null,
            "grid_template_rows": null,
            "height": null,
            "justify_content": null,
            "justify_items": null,
            "left": null,
            "margin": null,
            "max_height": null,
            "max_width": null,
            "min_height": null,
            "min_width": null,
            "object_fit": null,
            "object_position": null,
            "order": null,
            "overflow": null,
            "overflow_x": null,
            "overflow_y": null,
            "padding": null,
            "right": null,
            "top": null,
            "visibility": null,
            "width": null
          }
        },
        "5e15cf2b910c4d9c8ae8435c9020d566": {
          "model_module": "@jupyter-widgets/controls",
          "model_name": "DescriptionStyleModel",
          "model_module_version": "1.5.0",
          "state": {
            "_model_module": "@jupyter-widgets/controls",
            "_model_module_version": "1.5.0",
            "_model_name": "DescriptionStyleModel",
            "_view_count": null,
            "_view_module": "@jupyter-widgets/base",
            "_view_module_version": "1.2.0",
            "_view_name": "StyleView",
            "description_width": ""
          }
        },
        "b39c70f5b9e54d04be37c7893f570667": {
          "model_module": "@jupyter-widgets/base",
          "model_name": "LayoutModel",
          "model_module_version": "1.2.0",
          "state": {
            "_model_module": "@jupyter-widgets/base",
            "_model_module_version": "1.2.0",
            "_model_name": "LayoutModel",
            "_view_count": null,
            "_view_module": "@jupyter-widgets/base",
            "_view_module_version": "1.2.0",
            "_view_name": "LayoutView",
            "align_content": null,
            "align_items": null,
            "align_self": null,
            "border": null,
            "bottom": null,
            "display": null,
            "flex": null,
            "flex_flow": null,
            "grid_area": null,
            "grid_auto_columns": null,
            "grid_auto_flow": null,
            "grid_auto_rows": null,
            "grid_column": null,
            "grid_gap": null,
            "grid_row": null,
            "grid_template_areas": null,
            "grid_template_columns": null,
            "grid_template_rows": null,
            "height": null,
            "justify_content": null,
            "justify_items": null,
            "left": null,
            "margin": null,
            "max_height": null,
            "max_width": null,
            "min_height": null,
            "min_width": null,
            "object_fit": null,
            "object_position": null,
            "order": null,
            "overflow": null,
            "overflow_x": null,
            "overflow_y": null,
            "padding": null,
            "right": null,
            "top": null,
            "visibility": null,
            "width": null
          }
        },
        "f62ab97ca3fb4aeaafd417f74fcfe068": {
          "model_module": "@jupyter-widgets/controls",
          "model_name": "ProgressStyleModel",
          "model_module_version": "1.5.0",
          "state": {
            "_model_module": "@jupyter-widgets/controls",
            "_model_module_version": "1.5.0",
            "_model_name": "ProgressStyleModel",
            "_view_count": null,
            "_view_module": "@jupyter-widgets/base",
            "_view_module_version": "1.2.0",
            "_view_name": "StyleView",
            "bar_color": null,
            "description_width": ""
          }
        },
        "75a0bc00ff96459db861b2915cd00722": {
          "model_module": "@jupyter-widgets/base",
          "model_name": "LayoutModel",
          "model_module_version": "1.2.0",
          "state": {
            "_model_module": "@jupyter-widgets/base",
            "_model_module_version": "1.2.0",
            "_model_name": "LayoutModel",
            "_view_count": null,
            "_view_module": "@jupyter-widgets/base",
            "_view_module_version": "1.2.0",
            "_view_name": "LayoutView",
            "align_content": null,
            "align_items": null,
            "align_self": null,
            "border": null,
            "bottom": null,
            "display": null,
            "flex": null,
            "flex_flow": null,
            "grid_area": null,
            "grid_auto_columns": null,
            "grid_auto_flow": null,
            "grid_auto_rows": null,
            "grid_column": null,
            "grid_gap": null,
            "grid_row": null,
            "grid_template_areas": null,
            "grid_template_columns": null,
            "grid_template_rows": null,
            "height": null,
            "justify_content": null,
            "justify_items": null,
            "left": null,
            "margin": null,
            "max_height": null,
            "max_width": null,
            "min_height": null,
            "min_width": null,
            "object_fit": null,
            "object_position": null,
            "order": null,
            "overflow": null,
            "overflow_x": null,
            "overflow_y": null,
            "padding": null,
            "right": null,
            "top": null,
            "visibility": null,
            "width": null
          }
        },
        "623d271408a1462e89315d57e6ca47b4": {
          "model_module": "@jupyter-widgets/controls",
          "model_name": "DescriptionStyleModel",
          "model_module_version": "1.5.0",
          "state": {
            "_model_module": "@jupyter-widgets/controls",
            "_model_module_version": "1.5.0",
            "_model_name": "DescriptionStyleModel",
            "_view_count": null,
            "_view_module": "@jupyter-widgets/base",
            "_view_module_version": "1.2.0",
            "_view_name": "StyleView",
            "description_width": ""
          }
        },
        "8c52c534fd8e4a4d8f81c432b2c08a0c": {
          "model_module": "@jupyter-widgets/controls",
          "model_name": "HBoxModel",
          "model_module_version": "1.5.0",
          "state": {
            "_dom_classes": [],
            "_model_module": "@jupyter-widgets/controls",
            "_model_module_version": "1.5.0",
            "_model_name": "HBoxModel",
            "_view_count": null,
            "_view_module": "@jupyter-widgets/controls",
            "_view_module_version": "1.5.0",
            "_view_name": "HBoxView",
            "box_style": "",
            "children": [
              "IPY_MODEL_19af6d5438af4f728b7ad0923c12bed5",
              "IPY_MODEL_88474fcd23584f17b8eaaaddcd3fde60",
              "IPY_MODEL_e1b0f4cc0da0407fab3154d166746737"
            ],
            "layout": "IPY_MODEL_e46de243efb645b58abfe661a017cf1d"
          }
        },
        "19af6d5438af4f728b7ad0923c12bed5": {
          "model_module": "@jupyter-widgets/controls",
          "model_name": "HTMLModel",
          "model_module_version": "1.5.0",
          "state": {
            "_dom_classes": [],
            "_model_module": "@jupyter-widgets/controls",
            "_model_module_version": "1.5.0",
            "_model_name": "HTMLModel",
            "_view_count": null,
            "_view_module": "@jupyter-widgets/controls",
            "_view_module_version": "1.5.0",
            "_view_name": "HTMLView",
            "description": "",
            "description_tooltip": null,
            "layout": "IPY_MODEL_4e847fe715594556bb9eaa1936f634ac",
            "placeholder": "​",
            "style": "IPY_MODEL_d18683a987964bd79778d809234df781",
            "value": "Downloading (…)cial_tokens_map.json: 100%"
          }
        },
        "88474fcd23584f17b8eaaaddcd3fde60": {
          "model_module": "@jupyter-widgets/controls",
          "model_name": "FloatProgressModel",
          "model_module_version": "1.5.0",
          "state": {
            "_dom_classes": [],
            "_model_module": "@jupyter-widgets/controls",
            "_model_module_version": "1.5.0",
            "_model_name": "FloatProgressModel",
            "_view_count": null,
            "_view_module": "@jupyter-widgets/controls",
            "_view_module_version": "1.5.0",
            "_view_name": "ProgressView",
            "bar_style": "success",
            "description": "",
            "description_tooltip": null,
            "layout": "IPY_MODEL_8aa666a671dc4b76bd34535ace859a32",
            "max": 957,
            "min": 0,
            "orientation": "horizontal",
            "style": "IPY_MODEL_4de8dac22e344b18a4c40329b9e22138",
            "value": 957
          }
        },
        "e1b0f4cc0da0407fab3154d166746737": {
          "model_module": "@jupyter-widgets/controls",
          "model_name": "HTMLModel",
          "model_module_version": "1.5.0",
          "state": {
            "_dom_classes": [],
            "_model_module": "@jupyter-widgets/controls",
            "_model_module_version": "1.5.0",
            "_model_name": "HTMLModel",
            "_view_count": null,
            "_view_module": "@jupyter-widgets/controls",
            "_view_module_version": "1.5.0",
            "_view_name": "HTMLView",
            "description": "",
            "description_tooltip": null,
            "layout": "IPY_MODEL_2e0efad941b7405b82cf6742e571681e",
            "placeholder": "​",
            "style": "IPY_MODEL_c83f4715c0144642a41716c73fb7ab35",
            "value": " 957/957 [00:00&lt;00:00, 40.3kB/s]"
          }
        },
        "e46de243efb645b58abfe661a017cf1d": {
          "model_module": "@jupyter-widgets/base",
          "model_name": "LayoutModel",
          "model_module_version": "1.2.0",
          "state": {
            "_model_module": "@jupyter-widgets/base",
            "_model_module_version": "1.2.0",
            "_model_name": "LayoutModel",
            "_view_count": null,
            "_view_module": "@jupyter-widgets/base",
            "_view_module_version": "1.2.0",
            "_view_name": "LayoutView",
            "align_content": null,
            "align_items": null,
            "align_self": null,
            "border": null,
            "bottom": null,
            "display": null,
            "flex": null,
            "flex_flow": null,
            "grid_area": null,
            "grid_auto_columns": null,
            "grid_auto_flow": null,
            "grid_auto_rows": null,
            "grid_column": null,
            "grid_gap": null,
            "grid_row": null,
            "grid_template_areas": null,
            "grid_template_columns": null,
            "grid_template_rows": null,
            "height": null,
            "justify_content": null,
            "justify_items": null,
            "left": null,
            "margin": null,
            "max_height": null,
            "max_width": null,
            "min_height": null,
            "min_width": null,
            "object_fit": null,
            "object_position": null,
            "order": null,
            "overflow": null,
            "overflow_x": null,
            "overflow_y": null,
            "padding": null,
            "right": null,
            "top": null,
            "visibility": null,
            "width": null
          }
        },
        "4e847fe715594556bb9eaa1936f634ac": {
          "model_module": "@jupyter-widgets/base",
          "model_name": "LayoutModel",
          "model_module_version": "1.2.0",
          "state": {
            "_model_module": "@jupyter-widgets/base",
            "_model_module_version": "1.2.0",
            "_model_name": "LayoutModel",
            "_view_count": null,
            "_view_module": "@jupyter-widgets/base",
            "_view_module_version": "1.2.0",
            "_view_name": "LayoutView",
            "align_content": null,
            "align_items": null,
            "align_self": null,
            "border": null,
            "bottom": null,
            "display": null,
            "flex": null,
            "flex_flow": null,
            "grid_area": null,
            "grid_auto_columns": null,
            "grid_auto_flow": null,
            "grid_auto_rows": null,
            "grid_column": null,
            "grid_gap": null,
            "grid_row": null,
            "grid_template_areas": null,
            "grid_template_columns": null,
            "grid_template_rows": null,
            "height": null,
            "justify_content": null,
            "justify_items": null,
            "left": null,
            "margin": null,
            "max_height": null,
            "max_width": null,
            "min_height": null,
            "min_width": null,
            "object_fit": null,
            "object_position": null,
            "order": null,
            "overflow": null,
            "overflow_x": null,
            "overflow_y": null,
            "padding": null,
            "right": null,
            "top": null,
            "visibility": null,
            "width": null
          }
        },
        "d18683a987964bd79778d809234df781": {
          "model_module": "@jupyter-widgets/controls",
          "model_name": "DescriptionStyleModel",
          "model_module_version": "1.5.0",
          "state": {
            "_model_module": "@jupyter-widgets/controls",
            "_model_module_version": "1.5.0",
            "_model_name": "DescriptionStyleModel",
            "_view_count": null,
            "_view_module": "@jupyter-widgets/base",
            "_view_module_version": "1.2.0",
            "_view_name": "StyleView",
            "description_width": ""
          }
        },
        "8aa666a671dc4b76bd34535ace859a32": {
          "model_module": "@jupyter-widgets/base",
          "model_name": "LayoutModel",
          "model_module_version": "1.2.0",
          "state": {
            "_model_module": "@jupyter-widgets/base",
            "_model_module_version": "1.2.0",
            "_model_name": "LayoutModel",
            "_view_count": null,
            "_view_module": "@jupyter-widgets/base",
            "_view_module_version": "1.2.0",
            "_view_name": "LayoutView",
            "align_content": null,
            "align_items": null,
            "align_self": null,
            "border": null,
            "bottom": null,
            "display": null,
            "flex": null,
            "flex_flow": null,
            "grid_area": null,
            "grid_auto_columns": null,
            "grid_auto_flow": null,
            "grid_auto_rows": null,
            "grid_column": null,
            "grid_gap": null,
            "grid_row": null,
            "grid_template_areas": null,
            "grid_template_columns": null,
            "grid_template_rows": null,
            "height": null,
            "justify_content": null,
            "justify_items": null,
            "left": null,
            "margin": null,
            "max_height": null,
            "max_width": null,
            "min_height": null,
            "min_width": null,
            "object_fit": null,
            "object_position": null,
            "order": null,
            "overflow": null,
            "overflow_x": null,
            "overflow_y": null,
            "padding": null,
            "right": null,
            "top": null,
            "visibility": null,
            "width": null
          }
        },
        "4de8dac22e344b18a4c40329b9e22138": {
          "model_module": "@jupyter-widgets/controls",
          "model_name": "ProgressStyleModel",
          "model_module_version": "1.5.0",
          "state": {
            "_model_module": "@jupyter-widgets/controls",
            "_model_module_version": "1.5.0",
            "_model_name": "ProgressStyleModel",
            "_view_count": null,
            "_view_module": "@jupyter-widgets/base",
            "_view_module_version": "1.2.0",
            "_view_name": "StyleView",
            "bar_color": null,
            "description_width": ""
          }
        },
        "2e0efad941b7405b82cf6742e571681e": {
          "model_module": "@jupyter-widgets/base",
          "model_name": "LayoutModel",
          "model_module_version": "1.2.0",
          "state": {
            "_model_module": "@jupyter-widgets/base",
            "_model_module_version": "1.2.0",
            "_model_name": "LayoutModel",
            "_view_count": null,
            "_view_module": "@jupyter-widgets/base",
            "_view_module_version": "1.2.0",
            "_view_name": "LayoutView",
            "align_content": null,
            "align_items": null,
            "align_self": null,
            "border": null,
            "bottom": null,
            "display": null,
            "flex": null,
            "flex_flow": null,
            "grid_area": null,
            "grid_auto_columns": null,
            "grid_auto_flow": null,
            "grid_auto_rows": null,
            "grid_column": null,
            "grid_gap": null,
            "grid_row": null,
            "grid_template_areas": null,
            "grid_template_columns": null,
            "grid_template_rows": null,
            "height": null,
            "justify_content": null,
            "justify_items": null,
            "left": null,
            "margin": null,
            "max_height": null,
            "max_width": null,
            "min_height": null,
            "min_width": null,
            "object_fit": null,
            "object_position": null,
            "order": null,
            "overflow": null,
            "overflow_x": null,
            "overflow_y": null,
            "padding": null,
            "right": null,
            "top": null,
            "visibility": null,
            "width": null
          }
        },
        "c83f4715c0144642a41716c73fb7ab35": {
          "model_module": "@jupyter-widgets/controls",
          "model_name": "DescriptionStyleModel",
          "model_module_version": "1.5.0",
          "state": {
            "_model_module": "@jupyter-widgets/controls",
            "_model_module_version": "1.5.0",
            "_model_name": "DescriptionStyleModel",
            "_view_count": null,
            "_view_module": "@jupyter-widgets/base",
            "_view_module_version": "1.2.0",
            "_view_name": "StyleView",
            "description_width": ""
          }
        }
      }
    }
  },
  "nbformat": 4,
  "nbformat_minor": 5
}
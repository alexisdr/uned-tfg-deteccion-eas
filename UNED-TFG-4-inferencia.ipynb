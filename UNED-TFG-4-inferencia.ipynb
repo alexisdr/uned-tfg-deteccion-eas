{
  "cells": [
    {
      "cell_type": "markdown",
      "metadata": {
        "id": "view-in-github",
        "colab_type": "text"
      },
      "source": [
        "<a href=\"https://colab.research.google.com/github/alexisdr/uned-tfg-deteccion-eas/blob/main/UNED-TFG-4-inferencia.ipynb\" target=\"_parent\"><img src=\"https://colab.research.google.com/assets/colab-badge.svg\" alt=\"Open In Colab\"/></a>"
      ]
    },
    {
      "cell_type": "markdown",
      "id": "XkA6mcW_QT37",
      "metadata": {
        "id": "XkA6mcW_QT37"
      },
      "source": [
        "# Uso del modelo\n",
        "\n",
        "Este cuaderno permite usar el modelo para efectuar una clasificación de texto\n",
        "\n",
        "# Parámetros\n",
        "* ruta_base: ruta en la que se encuentran los datos del corpus\n",
        "* ruta_dataset: ruta en el que se almacenará el dataset\n",
        "* usar_subconjunto_datos_codigos_mas_frecuentes: se usarán los actos clínicos que implican los códigos más frecuentes\n",
        "* umbral: valor de corte que deberán superar las predicciones para tomarlas como ciertas"
      ]
    },
    {
      "cell_type": "code",
      "execution_count": null,
      "id": "7ee544b5",
      "metadata": {
        "id": "7ee544b5"
      },
      "outputs": [],
      "source": [
        "ruta_base = '/drive/My Drive/CorpusPFG/'\n",
        "\n",
        "#Datasets procesados\n",
        "ruta_dataset = ruta_base + 'Dataset-completo'\n",
        "modelo_base = \"alexisdr/uned-tfg-08.69_mas_frecuentes\"\n",
        "usar_subconjunto_datos_codigos_mas_frecuentes = True\n",
        "umbral = 0.9"
      ]
    },
    {
      "cell_type": "markdown",
      "id": "IgQiz-czQn5E",
      "metadata": {
        "id": "IgQiz-czQn5E"
      },
      "source": [
        "Instalación de depndencias necesarias"
      ]
    },
    {
      "cell_type": "code",
      "execution_count": null,
      "id": "MtqLGKFGQuV2",
      "metadata": {
        "id": "MtqLGKFGQuV2",
        "colab": {
          "base_uri": "https://localhost:8080/"
        },
        "outputId": "490b162b-e29b-43cd-dad9-364b018ef781"
      },
      "outputs": [
        {
          "output_type": "stream",
          "name": "stdout",
          "text": [
            "Looking in indexes: https://pypi.org/simple, https://us-python.pkg.dev/colab-wheels/public/simple/\n",
            "Requirement already satisfied: datasets in /usr/local/lib/python3.10/dist-packages (2.12.0)\n",
            "Requirement already satisfied: transformers[sentencepiece] in /usr/local/lib/python3.10/dist-packages (4.29.2)\n",
            "Requirement already satisfied: numpy>=1.17 in /usr/local/lib/python3.10/dist-packages (from datasets) (1.22.4)\n",
            "Requirement already satisfied: pyarrow>=8.0.0 in /usr/local/lib/python3.10/dist-packages (from datasets) (9.0.0)\n",
            "Requirement already satisfied: dill<0.3.7,>=0.3.0 in /usr/local/lib/python3.10/dist-packages (from datasets) (0.3.6)\n",
            "Requirement already satisfied: pandas in /usr/local/lib/python3.10/dist-packages (from datasets) (1.5.3)\n",
            "Requirement already satisfied: requests>=2.19.0 in /usr/local/lib/python3.10/dist-packages (from datasets) (2.27.1)\n",
            "Requirement already satisfied: tqdm>=4.62.1 in /usr/local/lib/python3.10/dist-packages (from datasets) (4.65.0)\n",
            "Requirement already satisfied: xxhash in /usr/local/lib/python3.10/dist-packages (from datasets) (3.2.0)\n",
            "Requirement already satisfied: multiprocess in /usr/local/lib/python3.10/dist-packages (from datasets) (0.70.14)\n",
            "Requirement already satisfied: fsspec[http]>=2021.11.1 in /usr/local/lib/python3.10/dist-packages (from datasets) (2023.4.0)\n",
            "Requirement already satisfied: aiohttp in /usr/local/lib/python3.10/dist-packages (from datasets) (3.8.4)\n",
            "Requirement already satisfied: huggingface-hub<1.0.0,>=0.11.0 in /usr/local/lib/python3.10/dist-packages (from datasets) (0.15.1)\n",
            "Requirement already satisfied: packaging in /usr/local/lib/python3.10/dist-packages (from datasets) (23.1)\n",
            "Requirement already satisfied: responses<0.19 in /usr/local/lib/python3.10/dist-packages (from datasets) (0.18.0)\n",
            "Requirement already satisfied: pyyaml>=5.1 in /usr/local/lib/python3.10/dist-packages (from datasets) (6.0)\n",
            "Requirement already satisfied: filelock in /usr/local/lib/python3.10/dist-packages (from transformers[sentencepiece]) (3.12.0)\n",
            "Requirement already satisfied: regex!=2019.12.17 in /usr/local/lib/python3.10/dist-packages (from transformers[sentencepiece]) (2022.10.31)\n",
            "Requirement already satisfied: tokenizers!=0.11.3,<0.14,>=0.11.1 in /usr/local/lib/python3.10/dist-packages (from transformers[sentencepiece]) (0.13.3)\n",
            "Requirement already satisfied: sentencepiece!=0.1.92,>=0.1.91 in /usr/local/lib/python3.10/dist-packages (from transformers[sentencepiece]) (0.1.99)\n",
            "Requirement already satisfied: protobuf<=3.20.2 in /usr/local/lib/python3.10/dist-packages (from transformers[sentencepiece]) (3.20.2)\n",
            "Requirement already satisfied: attrs>=17.3.0 in /usr/local/lib/python3.10/dist-packages (from aiohttp->datasets) (23.1.0)\n",
            "Requirement already satisfied: charset-normalizer<4.0,>=2.0 in /usr/local/lib/python3.10/dist-packages (from aiohttp->datasets) (2.0.12)\n",
            "Requirement already satisfied: multidict<7.0,>=4.5 in /usr/local/lib/python3.10/dist-packages (from aiohttp->datasets) (6.0.4)\n",
            "Requirement already satisfied: async-timeout<5.0,>=4.0.0a3 in /usr/local/lib/python3.10/dist-packages (from aiohttp->datasets) (4.0.2)\n",
            "Requirement already satisfied: yarl<2.0,>=1.0 in /usr/local/lib/python3.10/dist-packages (from aiohttp->datasets) (1.9.2)\n",
            "Requirement already satisfied: frozenlist>=1.1.1 in /usr/local/lib/python3.10/dist-packages (from aiohttp->datasets) (1.3.3)\n",
            "Requirement already satisfied: aiosignal>=1.1.2 in /usr/local/lib/python3.10/dist-packages (from aiohttp->datasets) (1.3.1)\n",
            "Requirement already satisfied: typing-extensions>=3.7.4.3 in /usr/local/lib/python3.10/dist-packages (from huggingface-hub<1.0.0,>=0.11.0->datasets) (4.5.0)\n",
            "Requirement already satisfied: urllib3<1.27,>=1.21.1 in /usr/local/lib/python3.10/dist-packages (from requests>=2.19.0->datasets) (1.26.15)\n",
            "Requirement already satisfied: certifi>=2017.4.17 in /usr/local/lib/python3.10/dist-packages (from requests>=2.19.0->datasets) (2022.12.7)\n",
            "Requirement already satisfied: idna<4,>=2.5 in /usr/local/lib/python3.10/dist-packages (from requests>=2.19.0->datasets) (3.4)\n",
            "Requirement already satisfied: python-dateutil>=2.8.1 in /usr/local/lib/python3.10/dist-packages (from pandas->datasets) (2.8.2)\n",
            "Requirement already satisfied: pytz>=2020.1 in /usr/local/lib/python3.10/dist-packages (from pandas->datasets) (2022.7.1)\n",
            "Requirement already satisfied: six>=1.5 in /usr/local/lib/python3.10/dist-packages (from python-dateutil>=2.8.1->pandas->datasets) (1.16.0)\n"
          ]
        }
      ],
      "source": [
        "#Debido a la actualización de dependencias base de Google Colab, \n",
        "#es necesario ejecutar este paso, reiniciar el entorno (RESTART RUNTIME), \n",
        "#y ejectuar todos los pasos\n",
        "!pip install datasets transformers[sentencepiece] "
      ]
    },
    {
      "cell_type": "markdown",
      "id": "kUQ5y227Qyr-",
      "metadata": {
        "id": "kUQ5y227Qyr-"
      },
      "source": [
        "# Carga de datos del dataset"
      ]
    },
    {
      "cell_type": "code",
      "execution_count": null,
      "id": "Sx-7OWoaQ1UG",
      "metadata": {
        "colab": {
          "base_uri": "https://localhost:8080/"
        },
        "id": "Sx-7OWoaQ1UG",
        "outputId": "286ef6e3-55f9-4f61-af0e-5bf59e940906"
      },
      "outputs": [
        {
          "output_type": "stream",
          "name": "stdout",
          "text": [
            "Mounted at /drive\n"
          ]
        }
      ],
      "source": [
        "from google.colab import drive\n",
        "\n",
        "drive.mount('/drive')"
      ]
    },
    {
      "cell_type": "code",
      "execution_count": null,
      "id": "DdO7S73OQ2ts",
      "metadata": {
        "id": "DdO7S73OQ2ts",
        "outputId": "51d3693c-75d0-40f8-ecbf-db21a3f459ef",
        "colab": {
          "base_uri": "https://localhost:8080/"
        }
      },
      "outputs": [
        {
          "output_type": "execute_result",
          "data": {
            "text/plain": [
              "DatasetDict({\n",
              "    train: Dataset({\n",
              "        features: ['acto', 'label', 'label_str', 'label_list', 'label_list_str', 'informes', 'text', 'json'],\n",
              "        num_rows: 13051\n",
              "    })\n",
              "    validation: Dataset({\n",
              "        features: ['acto', 'label', 'label_str', 'label_list', 'label_list_str', 'informes', 'text', 'json'],\n",
              "        num_rows: 1451\n",
              "    })\n",
              "    test: Dataset({\n",
              "        features: ['acto', 'label', 'label_str', 'label_list', 'label_list_str', 'informes', 'text', 'json'],\n",
              "        num_rows: 3629\n",
              "    })\n",
              "    trainMasFrecuentes: Dataset({\n",
              "        features: ['acto', 'label', 'label_str', 'label_list', 'label_list_str', 'informes', 'text', 'json'],\n",
              "        num_rows: 639\n",
              "    })\n",
              "    validationMasFrecuentes: Dataset({\n",
              "        features: ['acto', 'label', 'label_str', 'label_list', 'label_list_str', 'informes', 'text', 'json'],\n",
              "        num_rows: 72\n",
              "    })\n",
              "    testMasFrecuentes: Dataset({\n",
              "        features: ['acto', 'label', 'label_str', 'label_list', 'label_list_str', 'informes', 'text', 'json'],\n",
              "        num_rows: 175\n",
              "    })\n",
              "})"
            ]
          },
          "metadata": {},
          "execution_count": 46
        }
      ],
      "source": [
        "from datasets import DatasetDict\n",
        "\n",
        "dataset = DatasetDict.load_from_disk(ruta_dataset)\n",
        "\n",
        "dataset  "
      ]
    },
    {
      "cell_type": "code",
      "execution_count": null,
      "id": "XxLqviFAQ3z5",
      "metadata": {
        "id": "XxLqviFAQ3z5"
      },
      "outputs": [],
      "source": [
        "train = \"train\"\n",
        "validation = \"validation\"\n",
        "test = \"test\"\n",
        "\n",
        "if (usar_subconjunto_datos_codigos_mas_frecuentes):\n",
        "  train = \"trainMasFrecuentes\"\n",
        "  validation = \"validationMasFrecuentes\"\n",
        "  test = \"testMasFrecuentes\""
      ]
    },
    {
      "cell_type": "code",
      "execution_count": null,
      "id": "071ce90d",
      "metadata": {
        "colab": {
          "base_uri": "https://localhost:8080/"
        },
        "id": "071ce90d",
        "outputId": "5ae1b308-6150-46c6-c492-7859cb0130e1"
      },
      "outputs": [
        {
          "output_type": "stream",
          "name": "stdout",
          "text": [
            "ClassLabel(names=['T38.0X5A', 'T45.515A', 'T50.2X5A', 'Y95', 'P01.1', 'T81.4XXA', 'T45.1X5A', 'Y83.1'], id=None)\n"
          ]
        }
      ],
      "source": [
        "from datasets import ClassLabel\n",
        "\n",
        "class2label = dataset[train].features[\"label\"]\n",
        "print(class2label)"
      ]
    },
    {
      "cell_type": "code",
      "execution_count": null,
      "id": "d0a658b7",
      "metadata": {
        "id": "d0a658b7",
        "outputId": "0ec3202c-5d66-4ab7-c0e9-71743be3f9ff",
        "colab": {
          "base_uri": "https://localhost:8080/"
        }
      },
      "outputs": [
        {
          "output_type": "execute_result",
          "data": {
            "text/plain": [
              "8"
            ]
          },
          "metadata": {},
          "execution_count": 68
        }
      ],
      "source": [
        "class2label.num_classes"
      ]
    },
    {
      "cell_type": "markdown",
      "id": "33Y-jblpRHbS",
      "metadata": {
        "id": "33Y-jblpRHbS"
      },
      "source": [
        "# Preprocesado de los datos\n",
        "\n",
        "El modelo no puede recibir texto como entrada, se ha de convertir a tokens."
      ]
    },
    {
      "cell_type": "code",
      "execution_count": null,
      "id": "936861c0",
      "metadata": {
        "colab": {
          "base_uri": "https://localhost:8080/",
          "height": 145,
          "referenced_widgets": [
            "2cb55a19c4504e429c031af957378c89",
            "2fa1e0034e884558b3210be450b6c608",
            "b3ed0c7e178a40bcbbb40c568c2603ff",
            "acf89d6e01a74d819497cb945ef11ace",
            "99861905fbb34d0f9f0ae3956d67a2ac",
            "d20daf14a1a84173b00085d30da88f3e",
            "866950fbc8544322a5474f4d7c11d49b",
            "2f8c390d184f4b77890bd9df9522a3bd",
            "a89bb71cfd24428a9b4eebc6bb2eda3b",
            "21d8bc5668de4288a1d9c91e9298594f",
            "d16e023466594f6f9eef776b8d720a61",
            "20d8d119c0054776a4b4ae9d17858061",
            "df755cbc231f4a3dbd3c709ff556efef",
            "8e31f493ae654c22bee7db5059160867",
            "6127e348348d494bad679a73a0c633d6",
            "790d5e7aafdb4e08b51e67727d26aa1a",
            "f0805b801d0c4924a4dfbb23203810e0",
            "6df2076c5c5e4fd19166e84b841f5bf6",
            "0136462783dc4bc197fafc51ad14605e",
            "9ddc30027f1e452bad4e6d9d1151b5cd",
            "c790cdee0d3e433d8cfc27c3edaf29eb",
            "38d33bc1f7f041c9a10f271e2b473ec8",
            "c42a53afe16c4bb895de6421ec2ef332",
            "3b36587d417d48eba6efa256cdd23a40",
            "76dbabacad1341d0a604e2285ed65292",
            "f0d0e7d848884f8bb87f5da8fe5ccbee",
            "67a905fa02f34aa7a12b869fa8dff2ca",
            "08d8b2d25a0a45e6bf6754debe0e0e3f",
            "21953724111142ad9d4333bfe7ae2582",
            "e30f1e4d01ea46d691e8f526493cc242",
            "0242e686851543cabec308013062a7b2",
            "f467370e3c2b476c84b2ee4043c6c8b2",
            "3cfbf268209e467586d3431177a595d9",
            "8f27249c42ce475397aeb4d89778a551",
            "3065e89741e14756a5558ee0201a96e2",
            "8d0d5277a0cd461ab5afe5535743554f",
            "0506d161960f4654884180d666a6965f",
            "535dd04f1f094fe5ad2d260b2abbb7c1",
            "439bd1ab938f4ff08fd542af1f377762",
            "e2094bfd2a984117876551df33d06fe9",
            "893cc0a08a4c48f191e535e94a3ff2c9",
            "22311b9623b04f2490d2bd473d9ac030",
            "fe6eff01a83f4afcbc1eb65abc9ec2c4",
            "001a370374374646b9b860dccf7a3e10"
          ]
        },
        "id": "936861c0",
        "outputId": "36f31255-3909-49fc-8e62-fc4e9d1c3c91"
      },
      "outputs": [
        {
          "output_type": "display_data",
          "data": {
            "text/plain": [
              "Downloading (…)okenizer_config.json:   0%|          | 0.00/1.33k [00:00<?, ?B/s]"
            ],
            "application/vnd.jupyter.widget-view+json": {
              "version_major": 2,
              "version_minor": 0,
              "model_id": "2cb55a19c4504e429c031af957378c89"
            }
          },
          "metadata": {}
        },
        {
          "output_type": "display_data",
          "data": {
            "text/plain": [
              "Downloading (…)olve/main/vocab.json:   0%|          | 0.00/1.07M [00:00<?, ?B/s]"
            ],
            "application/vnd.jupyter.widget-view+json": {
              "version_major": 2,
              "version_minor": 0,
              "model_id": "20d8d119c0054776a4b4ae9d17858061"
            }
          },
          "metadata": {}
        },
        {
          "output_type": "display_data",
          "data": {
            "text/plain": [
              "Downloading (…)olve/main/merges.txt:   0%|          | 0.00/523k [00:00<?, ?B/s]"
            ],
            "application/vnd.jupyter.widget-view+json": {
              "version_major": 2,
              "version_minor": 0,
              "model_id": "c42a53afe16c4bb895de6421ec2ef332"
            }
          },
          "metadata": {}
        },
        {
          "output_type": "display_data",
          "data": {
            "text/plain": [
              "Downloading (…)cial_tokens_map.json:   0%|          | 0.00/957 [00:00<?, ?B/s]"
            ],
            "application/vnd.jupyter.widget-view+json": {
              "version_major": 2,
              "version_minor": 0,
              "model_id": "8f27249c42ce475397aeb4d89778a551"
            }
          },
          "metadata": {}
        }
      ],
      "source": [
        "from transformers import AutoTokenizer\n",
        "\n",
        "\n",
        "tokenizer = AutoTokenizer.from_pretrained(modelo_base)\n",
        "\n",
        "def preprocess_data(examples):\n",
        "  return tokenizer(examples[\"text\"], padding=\"max_length\", truncation=True, return_tensors=\"pt\")"
      ]
    },
    {
      "cell_type": "markdown",
      "id": "5c5f5402",
      "metadata": {
        "id": "5c5f5402"
      },
      "source": [
        "# Cálculo de la métrica S"
      ]
    },
    {
      "cell_type": "code",
      "execution_count": null,
      "id": "fe531962",
      "metadata": {
        "id": "fe531962"
      },
      "outputs": [],
      "source": [
        "#Calcula el prefico comun entre 2 códigos\n",
        "def calculo_lcs(codigo_i, codigo_j):\n",
        "  if codigo_i is None or codigo_j is None:\n",
        "    return \"\"\n",
        "\n",
        "  #Se omiten los puntos existenten en los códigos\n",
        "  codigo_i = codigo_i.replace(\".\", \"\")\n",
        "  codigo_j = codigo_j.replace(\".\", \"\")\n",
        "\n",
        "  #Tomamos el tamaño mínimo\n",
        "  size = min(len(codigo_i), len(codigo_j)) \n",
        "\n",
        "  lcs_i_j = ''\n",
        "  for i in range(size):\n",
        "    if codigo_i[i] == codigo_j[i]:\n",
        "      lcs_i_j = lcs_i_j + codigo_i[i]\n",
        "    else:\n",
        "      return lcs_i_j\n",
        "  \n",
        "  return lcs_i_j\n",
        "\n",
        "\n",
        "#Devuelve la longitud de la cadena de caracteres C\n",
        "#si esta vale al menos 3, y devuelve 0 si dicha longitud es menor que 3. \n",
        "#Esto se debe a que los códigos CIE-10 más cortos contienen al menos 3 caracteres.\n",
        "def calculo_ic(codigo):\n",
        "  #Se omiten los puntos existenten en los códigos\n",
        "  codigo = codigo.replace(\".\", \"\")\n",
        "\n",
        "  tamanyo = len(codigo)\n",
        "  if (tamanyo < 3):\n",
        "    return 0\n",
        "  else:\n",
        "    return tamanyo\n",
        "\n",
        "#similitud entre 2 códigos CIE-10 𝑖 y 𝑗:\n",
        "def calculo_c(codigo_i, codigo_j):\n",
        "  divisor = calculo_ic(codigo_i) + calculo_ic(codigo_j)\n",
        "  if (divisor == 0):\n",
        "    return 0\n",
        "  dividendo = 2 * calculo_ic(calculo_lcs(codigo_i, codigo_j))\n",
        "  c_i_j = dividendo / divisor\n",
        "  return round(c_i_j, 6)\n",
        "\n",
        "def metrica_s(lista_codigos_i, lista_codigos_j): \n",
        "  #las listas deben tener valores \n",
        "  if (len(lista_codigos_i) == 0 or len(lista_codigos_j) == 0):\n",
        "    return 0\n",
        "\n",
        "  #max (Ng, Ns)\n",
        "  divisor = max(len(lista_codigos_i), len(lista_codigos_j)) \n",
        "  if (divisor == 0):\n",
        "    return 0\n",
        "  \n",
        "  max_c_i_j = 0\n",
        "  for codigo_j in lista_codigos_j:\n",
        "    max_local_c_i_j = 0\n",
        "    for codigo_i in lista_codigos_i:\n",
        "      c_i_j = calculo_c(codigo_i, codigo_j)\n",
        "      if (c_i_j > max_local_c_i_j):\n",
        "        max_local_c_i_j = c_i_j\n",
        "    max_c_i_j += max_local_c_i_j\n",
        "\n",
        "  s = max_c_i_j / divisor\n",
        "  return round(s, 6)\n",
        "\n",
        "def metrica_s_train (y_true, y_pred):     \n",
        "    y_true_labels = []\n",
        "    true_labels = [class2label.int2str([idx])for idx, label in enumerate(y_true) if label == 1.0]\n",
        "    for label in true_labels:\n",
        "      y_true_labels.append(label[0])\n",
        "\n",
        "    y_pred_labels = []\n",
        "    pred_labels = [class2label.int2str([idx])for idx, label in enumerate(y_pred) if label == 1.0]\n",
        "    for label in pred_labels:\n",
        "      y_pred_labels.append(label[0])\n",
        "\n",
        "    return metrica_s(y_true_labels, y_pred_labels)"
      ]
    },
    {
      "cell_type": "markdown",
      "id": "1hSIaTFlRhUw",
      "metadata": {
        "id": "1hSIaTFlRhUw"
      },
      "source": [
        "# Inferencia\n",
        "\n",
        "Se ejecuta el modelo contra datos de test"
      ]
    },
    {
      "cell_type": "markdown",
      "source": [
        "**Cálculo de predicciones**\n",
        "\n",
        "Solo asignar NONE si su probabilidad es mayor que la del resto de códigos y en caso contrario asignar sólo los códigos con mayor probabilidad que NONE"
      ],
      "metadata": {
        "id": "cpjZ2l6LmNUE"
      },
      "id": "cpjZ2l6LmNUE"
    },
    {
      "cell_type": "code",
      "source": [
        "dataset[test]"
      ],
      "metadata": {
        "id": "gIg8LpihVDPo",
        "outputId": "0b3d0b4e-b499-4d5f-dd54-e1f5855f9907",
        "colab": {
          "base_uri": "https://localhost:8080/"
        }
      },
      "id": "gIg8LpihVDPo",
      "execution_count": null,
      "outputs": [
        {
          "output_type": "execute_result",
          "data": {
            "text/plain": [
              "Dataset({\n",
              "    features: ['acto', 'label', 'label_str', 'label_list', 'label_list_str', 'informes', 'text', 'json'],\n",
              "    num_rows: 175\n",
              "})"
            ]
          },
          "metadata": {},
          "execution_count": 71
        }
      ]
    },
    {
      "cell_type": "code",
      "source": [
        "codigo_NONE = 'NONE'\n",
        "\n",
        "def calcular_predicciones(probs, threshold=umbral):\n",
        "  predictions = np.zeros(probs.shape)\n",
        "  predictions[np.where(probs > threshold)] = 1\n",
        "  return predictions\n",
        "\n",
        "def calcular_predicciones_NONE_mas_probable(probs, threshold=umbral):\n",
        "  predictions = calcular_predicciones(probs, threshold)\n",
        "\n",
        "  try:\n",
        "    probabilidad_NONE = probs[class2label.str2int(codigo_NONE)]\n",
        "    #Se ha encontrado NONE entre las predicciones\n",
        "    if (probabilidad_NONE > 0):\n",
        "      predictions_mayor_que_prob_NONE = np.zeros(probs.shape)\n",
        "      predictions_mayor_que_prob_NONE[np.where(probs > probabilidad_NONE)] = 1\n",
        "      # Si hay labels con mejor probabilidad que none nos la quedamos\n",
        "      if (1 in predictions_mayor_que_prob_NONE):\n",
        "        predictions = predictions_mayor_que_prob_NONE\n",
        "      else: #Si no las hay nos quedamos solo con NONE\n",
        "        predictions[:] = 0\n",
        "        predictions[class2label.str2int(codigo_NONE)] = 1\n",
        "  except ValueError:\n",
        "    pass      \n",
        "    \n",
        "  return predictions\n",
        "    \n",
        "#Solo asignar NONE si existe y tiene una probabilidad que supere el umbral\n",
        "def calcular_predicciones_existe_NONE(probs, threshold=umbral):\n",
        "  predictions = calcular_predicciones(probs, threshold)\n",
        "\n",
        "  try:\n",
        "    probabilidad_NONE = probs[class2label.str2int(codigo_NONE)]\n",
        "    #Se ha encontrado NONE entre las predicciones, nos la quedamos de forma exclusiva\n",
        "    if (probabilidad_NONE > threshold):\n",
        "        predictions[:] = 0\n",
        "        predictions[class2label.str2int(codigo_NONE)] = 1\n",
        "  except ValueError:\n",
        "    pass\n",
        "\n",
        "  return predictions"
      ],
      "metadata": {
        "id": "EeI6jM4luiQ3"
      },
      "id": "EeI6jM4luiQ3",
      "execution_count": null,
      "outputs": []
    },
    {
      "cell_type": "code",
      "source": [
        "# obtienen los nombres de las etiquetas predichas\n",
        "def obtener_lables_predichas (y_pred):\n",
        "  predicted_labels = [class2label.int2str([idx])for idx, label in enumerate(y_pred) if label == 1.0]\n",
        "  y_pred_labels = []\n",
        "  for label in predicted_labels:\n",
        "      y_pred_labels.append(label[0])\n",
        "  return y_pred_labels\n",
        "\n",
        "# obtienen el vector y_true a partir de los labels \n",
        "def obtener_y_true (labels):\n",
        "  # crea una matriz del tamaño del texto y las clases a entrenar\n",
        "  labels_matrix = np.zeros(class2label.num_classes)\n",
        "  for clase in labels:\n",
        "    try:\n",
        "      indice_clase = class2label.str2int(clase)\n",
        "      labels_matrix[indice_clase] = 1\n",
        "    except:\n",
        "      print(\"La clase %s no está entre las clases de entrenamiento\" % clase)\n",
        "  return labels_matrix.tolist()"
      ],
      "metadata": {
        "id": "phF30P-VwdiM"
      },
      "id": "phF30P-VwdiM",
      "execution_count": null,
      "outputs": []
    },
    {
      "cell_type": "code",
      "source": [
        "data = dataset[test][6]\n",
        "data"
      ],
      "metadata": {
        "colab": {
          "base_uri": "https://localhost:8080/"
        },
        "id": "u4Gno9L_-kl3",
        "outputId": "9eb0cc9f-706c-4dee-9d64-d7bdf6e1be5b"
      },
      "id": "u4Gno9L_-kl3",
      "execution_count": null,
      "outputs": [
        {
          "output_type": "execute_result",
          "data": {
            "text/plain": [
              "{'acto': 26691591,\n",
              " 'label': 0,\n",
              " 'label_str': 'T38.0X5A',\n",
              " 'label_list': [0],\n",
              " 'label_list_str': ['T38.0X5A'],\n",
              " 'informes': ['26691591-169048627.txt'],\n",
              " 'text': 'mujer jc vasculitis probablemente de mediano vaso plan se habla con familiar para reclamar el resultado de la biopsia al solicitar analitica con autoanticuerpos crioblobulinas anticoagulante lupico ac antifosfolipidos etc aumentar la dosis de corticoides a mg kg dia seguiremos evolucion hablo con familiar por resultado de biopsia cutanea del me informa que los resultados no estaban y es probable que demoren dos semanas mas plan biopsia cutanea manana realizamos biopsia cutanea en fresco curas diarias con agua jabon y betadine retirar puntos en semanasseguiremos evolucion bipsia realizada no muestra datos de especificidad ef papulas y costras negruzcas en miembros inferiores clinicamente compatibles con vasculitis estables con respecto a la semana pasada jc lesiones costrosas en miembros inferiores a estuido plan por nuestra parte descender corticoterapia a prednisona mg durante dias mg durante dias mg dias y suspender de cara a posible alta cita de revision en dermatologia de cara al alta informe oral de biopsia del vasculitis leucocitoclastica de vasos superficiales y profundos con intenso infiltrado inflamatorio agudo y leucocitoclastia hablado con de biospia cutanea realizada en vasculitis leucocitoclastica de vasos superficiales y profundos con intenso infiltrado inflamatorio agudo y leucocitoclastia manana acudiremos a valorar a la paciente lesiones costrosas en ambos miembros inferiores secas sin eritema cirundante ni otras lesiones elementales primarias la paciente refiere escaso dolor en forma de pinchazos puntuales no nuevas lesiones gran mejoria respecto a la ultima visita biopsia realizada en sin datos de especificidad biopsia realizada en en vasculitis leucocitoclastica de vasos superficiales y profundos con intenso infiltrado inflamatorio agudo y leucocitoclastia juicio clinico lesiones cutaneas con biopsia compatible con vasculitis leucocitoclastica actualmente lesiones en resolucion plan curas con vaselina pura o fucidine pomada vez al dia en las lesiones costrosas posteriormente cubrir con atrauman o urgotul aposito solo en las costras de mayor tamano no es necesario vendar todas las piernas de cara al alta se puede iniciar pauta descendente de prednisona desde hoy tomar mg al dia durante dias posteriormente mg al dia los siguientes dias y suspender al alta solicitar cita en consultas de dermatologia en meses para seguimiento ambulatorio cardiologia seguimiento de paciente de anos con antecedentes cardiologicos de cardiopatia valvular reumatica con afectacion de valvula mitral doble lesion moderada en situacion postcomisurotomia hipertension pulmonar con dilatacion y disfuncion de ventriculo derecho it libre portadora de mcp vvir desde por ic en relacion a fa lenta fibrilacion auricular permanente anticoagualada con acenocumarol seguimiento habitual en donde se ha mantenido manejo conservador de su cardiopatia valvular se realiza hoy ecocardiograma transesofagico en el que no se objetivan datos sugestivos de endocarditis infecciosa en el momento actual la paciente ingresa por clinica de paresia siendo estudiada por neurologia descartando etiologia isquemica presenta posteriormente episodio de febril sospechandose endocarditis infecciosa pero en vista de resultado ete hc solo positivo de moento se descarta dicho diagnostico de momento durante el ingreso presenta clincia compatible con ic de predominio derecho ya que se encontraba sin tratamiento diuretico habitual y con sueroterapia asociada posterior a inicio de diureticos iv presenta buena respuesta clinica con disminucion de los edemas ademas presentaba hipoalbuminemia que parece haber estado contribuyendo al aumento de la congestion refiere ligeras molestias esofagicas posterior al procedimiento al examen fisico presenta iy hasta tercio superior cervical rscs con soplos sistolico en foco pulmonar y mitral abdomen globuloso timpanico sin poder palpar hepatomegalia edemas hasta tercio distal femoral bilateral posterior actualmente se ha descartado el diagnostico de endocarditis infecciosa ademas la dsvd es cronica con it libre ya conocida y en manejo conservador en su centro de referencia y que actualmente presenta mejoria importante de la congestion con edemas por decubito que podrian inclusive intentar manejarse con diureticos orales y que por nuestra no se considera para otros manejos no consideramos necesario traslado a nuestras camas en el momento actual plan seguiremos evolucion a traves de itc ajuste de tratamiento diuretico sugerimos paso de furosemida iv a torasemida oral tratamiento antibiotico como se considere por parte de infecciosas ingresa incialmente en neurologia por debilidad de miembro izquierdo con estudio que descarta lesiones isquemicas agudas durante el ingreso presenta episodios febriles con hallazgo de e faecalis en hc iniciandose tratamieno con ampicilina gentamicina presentando rash cutaneo por lo que se pasa tratamiento a daptomicina gentamicina se realiza ett el donde se aprecia en la cara auricular del velo septal imagen de unos mm de longitud con movimiento independiente al del velo que prolapsa en vd y que podria ser compatible con vegetacion endocarditica it libre disfuncion sistolica severa de vd dl mitral moderada se ha mantenido afebril desde el hoy tenia pendiente la realizacion de ete para completar estudio a lo que se niega se plantea realizacion del mismo con sedacion en rea lo cual acepta y esta pendiente de realizarse al examen fisico presenta ta mmhg con fc en torno a lpm iy hasta angulo mandibular soplo sistolico en foco pulmonar y mitral abdomie distendido blando no dolorosa a la palpacion timpanico sin poder palpar hepatomegalia edemas hasta tercio distal femoral bilateral as hba cr en rango potasio sin leucocitosis actualmente sin otros hallazgos de interes juicio clincio probable endocarditis tricuspidea por enterococo faecalis sobre vavlula nativa en paciente portadora de mcp vvir plan y comentario coincidimos en valoracion de companeros de mi en probabilidad de endocarditis infecciosa sobre vt que habra que confirmar con la realizacion de ete con sedacion en la rea de todas formas ya se encuentra con tratamiento antibiotico adecuado en cuanto a la situacion actual de ic consideramos que es un proceso cronico por cardiopatia valvular avanzada con htp severa y dsvd de larga data sugerimos mantener el tratamiento diuretico iv en vista de mejoria progresiva de los datos de ic y de los edemas se ajustando en funcion de evolucion clinica de los mismos seguiremos evolucion y se valorara posible traslado a planta de cardiologia o mi reumatologia anos ingresada por debilidad en hemicuerpo zquierd sin ictus en rm vasculitis cutanea activa y factor reumatoide de en tratamiento con prednisona solicitamos valoracion de inicar tratamiento inmunosupresor desde hace varias sems refiere lesiones cutaneas en mmii informe oral de biopsia del vasculitis leucocitoclastica de vasos superficiales y profundos con intenso infiltrado inflamatorio agudo y leucocitoclastia se ha valorado y biopsiado de nuevo por dermatologia ayer pdte de resultados se incio tto esteroieo con prednisona mg kg esde hace mas de anos refiere dorsolumbalgia mecanica refiere que esta dignt de osteoporosis y espondiloartrosis no refiere artritiis periferica cuadro de debidad generalziada desde hace anos que atribuye a su cardiopatia episodio de caida con traumatismo sobre hemicuerpo izdo hace sems disfagia ocasional desde hace anos que atribuye a rinoscopia previa ef consciente y orientada hemorragia conjuntival izda hematomas multiples en hemicuerpo izdo edemas en mmss e iii curas oclusivas en mmii varices en mid no se objetiva sinovitis a ningun nivel dificil por edemas dolor a la presion de apof espinosas en sup de col dorsal jc vasculitis leucocitoclastica en mmii no datos sugestivos de artritis reumatoide elev de enzimas musculares en probable relacion con rabdiomiolisis traumatica menos probable polimiositis en evolucion plan valorar evol de enzimas musculares en caso de progresion valorar estudio emg descartar miositis vasculitis leucocitoclastica en mmii tto esteroideo indicado por demetologia mg kg d pauta de tto inmunosupresor segun dermatologia valorar inicio de tto con azatiopriana como ahorrador de esteroides remitir a consulta de reumatologia reu para estudio y tto de dorsalgia mecanica y valoracion de osteoporosis proa infecciosas crecimiento en hemocultivo del de enterococo faecalis ampi s y e coli en urocultivo valorad realizacion de ecografia abdominal para descartar foco abdominal como causante de dicha bacteriemia ya que a priori no parece urinaria al no aislarse enterococo en orina se recomienda cambiar tratamiento a ampicilina gentamicina asi como realizar ecocardiograma paciente portadora de dispositivo intravascular marcapasos y extraer hc de control a las horas de inicio de tratamiento para cualquier duda llamad al o poned interconsulta a infecciosas un saludo infecciones ingreso a cargo de neurologia para estudio de cuadro brusco de debilidad hemicorporal izqda rm cerebral y angio rm dtsao eeg rm columna cervical normales con dolor articular sin evidencia de lesiones isquemicas agudas en seguimiento por dermatologia por posible vasculitis leucocitoclastica en mii que no se evidencia en biopsia cutanea realizada en este centro aunque si en biopsia realizada en el dia tras pico febril se extraen hemocultivos y uc con crecimiento en hemocultivo del enterococo faecalis ampi s y e coli en urocultivo inicialmente en tratamiento con amoxicilina se cambio tratamiento a ampicilina gentamicina se solicita estudio de extension tac tap en el que se evidencian datos de sobrecarga hidrica sugestivos de icc se realiza ett el donde se aprecia en la cara auricular del velo septal imagen de unos mm de longitud con movimiento independiente al del velo que prolapsa en vd y que podria ser compatible con vegetacion endocarditica ademas la paciente presenta erupcion cutanea eritematosa y muy pruriginosa a nivel toracico en probable relacion con ampicilina afebril desde pico cutaneo del dia expl ta o ta mmhg fc lpm sato basal consciente orientada en espacio y persona alerta y colaboradora ac arritmica con soplo sistolico ap mvc con crepis bibasales abd blando depresible no dolorosa a la palpacion dorso de espalda eritematoso sin prurito con dermografismo cara anterior de torax tambien con eritema no pruriginoso msi con leve inflamacion a nivel de codo sugestivo de flebitis previamente tenia vvp segun refiere la paciente eeii edemas en zonas declives con fovea hc enterococcus faecalis am s gms s teico s va s hc control ptes de momento negativos jc probable endocarditis tricuspidea por enterococo asociada a marcapasos pte de ete no realizado por negacion de la paciente fr positivo elevacion factor reumatoide lesiones cutaneas en estudio posible vasculitis en resolucion probable reaccion de hipersensibilidad a ampicilina icc anasarca paresia msi sin evidencia de lesiones isquemicas agudas en rm craneal ni cervical con datos miopaticos inespecificos en emg sin haberse podido evocar conducciones motoras previos plan tras sospecha de cuadro de hipersensibilidad con ampicilina se inicio daptomicina a mg kg dia y se optimizo gentamicina mg kg h por el momento mantenemos igual solicitamos valle de gentamicina antes de dosis de las avisamos a mgmi tras solicitar ete la paciente se ha negado a realizarselo se siente enganada por la informacion recibida previo al procedimiento le explico detalladamente la importancia de dicha prueba y se muestra perspicaz y muy reacia a hacerla lo volvemos a comentar y finalmente acepta realizarselo bajo anestesia general solicitamos fondo de ojo por parte de oftalmologia seguiremos evolucion un saludo tras informar exhaustivamente a la paciente y su familiar hija de la extrema importancia de realizarse el ete como pc clave para aclarar el origen de su descompensacion cardiaca entre otros motivos por las diferentes implicaciones terapeuticas y pronosticas la paciente finalmente accede a realizarselo bajo anestesia general lo cual comunico a cardiologia y neurologia para coordinarlo con anestesia por otra parte en mi opinion creo que la paciente se beneficiaria mas de estar cargo de cardiologia que de m interna infecciones puesto que la paciente tiene una cardiopatia de base muy evolucionada de manejo clinico complejo de confirmarse el origen infeccioso del cuadro ademas el manejo previsible va a ser exclusivamente medico antibioterapia prolongada siendo la posibilidad de precisar cx muy improbable tanto por la localizacion de la endocarditis como por la comorbilidad de la paciente y su deseo manifiesto de negativa a todo tipo de pruebas y maniobras invasivas mas que probable endocarditis tricuspea por enterococo asociada a marcapasos manana ete y reaccion de hipersensibilidad prurito y eruopcion asociada a ampicilina se suspende ampicilina se inicia daptomicina a mg kg dia y se optimiza gentamicina mg kg h aconsejamos pic reglado a cardiologia impresiona de anasarca ademas de furosemida iv monitorizacion de valle de gentamicina y pic a alergia no hay criterio ecocardiografico mayor ni menor de endocarditis la positividad de un solo hemocultivo de extraidos en todo caso seria un criterio menor como tambien lo seria la valvulopatia mitral y el marcapasos en mi opinion un unico y aislado pico febril no debe considerarse criterio menor no presenta el criterio menor de fenomenos vasculares la vasculitis leucocitoclastica no lo seria queda la duda del criterio menor de factor reumatoideo que dermatologia y reumatologia deberian aclarar si esta relacionado con la posible vasculitis leucocitoclastica sin datos de vasculitis en la biopsia del por consiguiente en el momento actual se descarta el diagnosatico de endocarditis infecciosa juicio clinico miopatia proximal probablemente esteroidea pte de resultado de biopsia muscular polineuropatia desmielinizante leve neuropatia radial izquierda neuropatia cubital derecha paresia distal de mano izquierda como consecuencia de lo previo hematomas intramusculares posteroinferiores a la escapula de evolucion subaguda cronica factor reumatoide elevado probable vasculitis cutanea de mmii postinfecciosa en fase de resolucion ultima biopsia cutanea sin datos de actividad tto con ce a dosis altas icc insuficiencia tricuspide estenosis mitral reumatica moderada severa vd severamente dilatado bacteriemia por e faecalis sin foco completado tratamiento antibiotico dias no vegetaciones en ete probable eutiroideo enfermo tto corticoideo a dosis altas ca elevado con tc tap normal en probable relacion con situacion de icc previos hta dm mcp vvir fa con aco comisurotomia abierta de e mitral doble lesion mitral post comisurotomia con estenosis moderada i tricuspidea con disfuncion vd sd ansioso depresivo colon irritable tratamiento su tratamietno habitual sin cambios tratamiento habitual torasemida espironolactona daonil sitagliptina sertralina bromazepam enalapril omeprazol atenolol sintrom sp se anade prednisona mg comp cada dia control de glucemias opir su map jc lesiones costrosas en miembros inferiores a estudio estaba en tratamiento con prednisona en pauta descendente y remiten al alta para continuar estudio evolucion en los dias posteriores las lesiones continuaban en las mismas localizaciones sin progresion ni afectacion de mucosas tratadas con dosis puntuales de polaramine iv con control parcial del prurito desde el ante la sospecha de implicacion de ampicilina por secuencia temporal se ha retirado sustituyendose por daptomicina valorado por infecciosas e f lesiones maculosas eritematosas confluentes en tronco abdomen y region dorsal multiples hematomas en region dorsal y tenue eritema tambien no afectacion de mucosas mmii con vendajes edemas en ambos mmss superiores i d exantema posible origen medicamentoso vs otras causas en el contexto de hospitalizacion valoracion la paciente y su familiar creen que las lesiones estan mas atenuadas y que no han progresado dado que ya se ha retirado ampicilina y no parece haber progresado en los dos ultimos dias no se recomienda la retirada de otros farmacos que pudieran ser necesarios para la paciente se recomienda tratamiento topico de las zonas afectadas con vaselina liquida adventan y antihistaminico para control del picor polaramine i v si intenso o loratadina oral y mantener prednisona en pauta actual y valorar evolucion si en el ingreso actual precisara algun betalactamico contactar con alergia valorada previamente con i d exantema de posible origen medicamentoso vs otras causas en el contexto de la hospitalizacion con retirada de ampicilina por relacion temporal cercana con el inicio del cuadro y con mantenimiento del resto de tratamientos evolucion favorable de las lesiones cutaneas con persistencia de ligero prurito y eritema tenue en torax anterior sin lesiones en region dorsal seguida tambien por dermatologia desde el inicio del ingreso antes de la aparicion del exantema por lesiones cutaneas con biopsia compatible con vasculitis leucocitoclastica actualmente lesiones en resolucion indican disminucion progresiva de dosis de prednisona y seguimiento ambulatorio plan evolucion favorable con el tratamiento antibiotico actual y resto de tratamientos dado que no parece precisar tratamiento con antibioticos betalactamicos durante este ingreso valorada por infecciosas cardiologia remitir al alta a alergologia para estudio se mantienen indicaciones de tratamiento de nota previa hasta resolucion del cuadro rehabilitacion situacion funcional previa independiente para abvd la paciente realizaba previamente marcha sin ayudas tecnicas situacion socio familiar vive en con su hija en un piso bajo sin barreras de acceso al mismo enfermedad actual mujer de anos trasladada desde el por probable ictus isquemico hemisferico derecho en resolucion descartan neurointervencionismo infradosificacion de sintrom hiperglucemia rabdomiolisis insuficiencia renal leve probablemente secundaria a rabdomiolisis contusion facial cefalohematoma parietotemporal izquierdo ingresa a cargo de neurologia con diagnostico paresia de miembro superior izquierdo sin evidencia de lesiones isquemicas agudas en rm craneal ni cervical con datos miopaticos inespecificos en emg sin haberse podido evocar conducciones motoras bacteriemia por e faecalis en tratamiento con ampicilina y gentamicina con posible vegetacion en ett pendiente ete vasculitis cutanea leucocitoclastica en resolucion en nueva biopsia elevacion factor reumatoide sin datos clinicos de ar icc elevacion ca y liquido libre intraperitoneal la paciente refiere caida el dia que comenzo con los sintomas pendiente de rm plexo braquial ecocardiograma transesofagico hemocultivos paciente estable ta mmhg hb oxigenoterapia con gafas nasales a l tolera sedestacion no ha caminado durante el ingreso realiza trasferencias con ayuda de dos personas solicitan valoracion para reiniciar la marcha tras encamamiento exploracion fisica paciente explorada en decubito consciente y orientada colaboradora miembros superior izquierdo edematoso tumefacto movilidad activa pasiva de hombro flexion o o con molestias rotacion externa e interna pasiva conservadas codo con flexoextension y pronosupinacion completas muneca mano en actitud de flexion palmar semiflexion de o a o dedos y extension de o dedo extension activa de dedos conservada flexion dorsal y palmar activas o miembros inferiores inspeccion vendaje ambas piernas balance articular activo conservado balance muscular flexores de cadera extensores de rodilla y dorxiflexion de tobillos tolera sedestacion transferencias con ayuda plan de tratamiento rehabilitador se ensena a paciente y familiar ejercicios pasivos de miembro superior izquierdos para realizar durante la estancia en el hospital la paciente recibira tratamiento de rehabilitacion a dias alternos encaminado a ensenanza a paciente y familiar del tratamiento postural correcto manera adecuada de realizar trasferencias ejercicios de fortalecimiento muscular global de miembros inferiores reeducacion equilibrio en bipedestacion e inicio de la marcha y progresion con las ayudas tecnicas que precise segun evolucion unidad de rehabilitacion oftalmologia solicitan valoracion de paciente con probable endocarditis apo pseudofaquia od avsc od cae oi cae petequias en psi hemorragias subconjuntivales subtarsales inferiores de ao fo tropicamida no vitritis papilas fisiologicas maculas sin alteraciones no hemorragias ni exudados arcadas vasculares sin alteraciones no signos de vasculitis retina aplicada pio mmhg jc no signos de embolos septicos en fondo de ojo en el momento actual rehabilitacion vistas rx de humero escapula y antebrazo izquierdo sin lesiones oseas agudas pendiente de completar estudio de paresia de miembro superior izquierdo ginecologia solicitan valoracion de paciente de anos por hallazgo de ca y presencia de liquido libre en abdomen superior con derrame pleural en contexto clinico de icc htp e higado de estasis en paciente con cardipatia cronica realizado tac body cardiomegalia global derrame pleural bilateral discreto edema intersticial hallazgos sugestivos de icc liquido ascitico fundamentalmente perihepatico periesplenico y en gotiera derecha higado con hipertrofia del lhi contorno lobulado dilatacion de vci y venas suprahepaticas que sugiere higado de estasis colecistectomia fecaloma rectal ingresada por paresia msi descartada casusa central en emg rasgos miopaticos inespecificos no se puede valorar eng por edema pendiente rm plexo braquial y rx msi bacteriemia primaria por e faecalis sin criterios de endocarditis segundos hemoc negativos icc en paciente con cardiopatia previa factor reumatoide positivo lesiones en mmii con primera biopsia compatible con vasculitis en y segunda biopsia en tras ciclo de corticoides negativa probable reaccion de hipersensibilidad a ampicilina previos hta dm portadora de mcp vvir comisurotomia abierta de stenosis mitral doble lesion mitral post comisurotomia con estenosis moderada insuficiencia tricuspidea con disfuncion vd sdme ansioso depresivo colon irritable colecistectomia partos vaginales mp aprox anos legrado en perimenopausia con ap benigna endometrio en descamacion y al parecer estuvo unos anos en to con gestagenos no episodios posteriores de mpm asintomatica desde punto de vista ginecologico exploracion obesidad ge y vagina n atroficos cervix liso atrofico utero normal anejos no se palpan no signos de ascitis dejo hecha solicitud de eco ginecologica de ar y nueva det de ca con he que se realizara de forma ambulatoria tras resolucion de procesos medicos actuales cita con resultados en consulta de dejo hecha peticion de citas por buzon un saludo bandas oligoclonales no se detectan bandas oligoclonales igg de sintesis intratecal metodo isoelectroenfoque inmunoblot igg patron tipo i no se observan bandas en el lcr ni en el suero unidad de autoinmune medicina interna ueas solicitan valoracion de mujer de anos ingresada en neurologia por cuadro de hemiparesia de msi y cpk elevada factor reumatoide elevado enfermedad actual mujer de anos acude a su medico de atencion primaria el por lesiones cutaneas eritematosas que relacionan con sintrom acude el por empeoramiento de las lesiones cutaneas con aparicion de ampollas y mas equimosis acude a hso donde es valorada por dermatologia que realiza bx compatible con vasculitis leucocitoclastica de vasos superficiales y profundos con intenso infiltrado inflamatorio agudo y leucocitoclastia tratamiento con corticoides pautan tto con prednisona durante dias cada pauta en total mes evolucion posterior torpida la paciente refiere antes de la aparicion de lesiones sensacion distermica y tiritonas el dermatologo tambien pauta tratamiento con a c el es encontrada en el suelo de su domicilio con debilidad de extremidades izquierdas la paciente refiere haberse levantado de la cama y haber tenido alucinaciones visuales valorada inicialmente en se describe hemiparesia izquierda y tc basal sin alteraciones ante la sospecha de probable ictus isquemico en paciente anticoagulada y de inicio desconocido y se traslada a donde alteraciones de la perfusion cerebral significativas con juicio clinico de ictus isquemico hemisferico derecho en resolucion e infradosificacion de sintrom la paciente es trasladada a nrl de ta fc lpm afebril sato basal aceptable estado general consciente y orientada eupneica sin trabajo respiratorio atenta y colaboradora ac ritmica sin soplos ap mvc sin ruidos sobreanadidos mmii lesiones costrosas en ambas piernas y en o dedo pie izquierdo juicio clinico probable vasculitis postinfecciosa en fase de resolucion ultima biopsia cutanea sin datos de actividad miopatia esteroidea probable psicosis esteroidea sobre deterioro cognitivo previo icc insuficiencia tricuspide estenosis mitral reumatica moderada severa vd severamente dilatado bacteriemia por e faecalis sin foco completado tratamiento antibiotico dias pendiente de hemos de control no vegetaciones en ete plan descenderemos progresivamente corticoterapia pendiente de analitica con autoinmunidad t y tsh bajas seguiremos evolucion sin cambios clinicos valorada por cirigia se programa biopsia muscular el plan descenderemos progresivamente corticoterapia prednisona mg desde desde manana mg pendiente de autoinmunidad y hc de control amplio analitica para el lunes con t ta fc sat basal afebril glucemias elevadas sin incidencias en el fin de semana caminando con el andador analitica sin l ni n hb estable plaq bien inr funcion renal e iones bien pcr perfil tiroideo correcto plan ajusto insulinas y tto antihta continuamos descenso progresivo de ce prednisona mg desde pendiente de autoinmunidad y hc de control del pte de realizacion de biopsia muscular el hematologia desde cirugia parece que prefieren que pase a heparina para la cirugia del dia adelanto el control de sintrom para el y decidir es una cirugia menor el resto de analisis esta pedido por mi paciente anticoagulada con sintrom por fa valvular em reumatica moderada disfuncion vd ingresada por paresia msi y vasculitis leucocitoclastica pendiente de biopsia muscular el por la manana cr normal mg dl peso kg hoy inr plan no tomara sintrom los dias al ambos inclusive clexane mg h sc a las h y a ls h desde manana h excepto la manana del dia de la biopsia muscular reiniciara sintrom la tarde de la biopsia segun pauta adjunta que se envia al control de enfermeria para entregar al alta traumatologia solicitan valoracion de tto de hematomas intramusculares detectados en rnm de plexo braquial la enferma no tiene especial focalidad en la zona dorsal no se palpa clara masa ni compromiso cutaneo a ese nivelpor nuestra parte no precisa drenaje qx se lo explico a paciente y acompanante\\n',\n",
              " 'json': '[{\"apartado\": \"sexo\", \"texto\": \"mujer\"}, {\"apartado\": \"jc vasculitis  probablemente de mediano  vaso\", \"texto\": \" jc vasculitis probablemente de mediano vaso plan se habla con familiar para reclamar el resultado de la biopsia al solicitar analitica con autoanticuerpos crioblobulinas anticoagulante lupico ac antifosfolipidos etc aumentar la dosis de corticoides a mg kg dia seguiremos evolucion hablo con familiar por resultado de biopsia cutanea del me informa que los resultados no estaban y es probable que demoren dos semanas mas plan biopsia cutanea manana realizamos biopsia cutanea en fresco curas diarias con agua jabon y betadine retirar puntos en semanasseguiremos evolucion bipsia realizada no muestra datos de especificidad ef papulas y costras negruzcas en miembros inferiores clinicamente compatibles con vasculitis estables con respecto a la semana pasada\"}, {\"apartado\": \"jc  lesiones costrosas en miembros inferiores a estuido\", \"texto\": \" jc lesiones costrosas en miembros inferiores a estuido plan por nuestra parte descender corticoterapia a prednisona mg durante dias mg durante dias mg dias y suspender de cara a posible alta cita de revision en dermatologia de cara al alta informe oral de biopsia del vasculitis leucocitoclastica de vasos superficiales y profundos con intenso infiltrado inflamatorio agudo y leucocitoclastia hablado con de biospia cutanea realizada en vasculitis leucocitoclastica de vasos superficiales y profundos con intenso infiltrado inflamatorio agudo y leucocitoclastia manana acudiremos a valorar a la paciente lesiones costrosas en ambos miembros inferiores secas sin eritema cirundante ni otras lesiones elementales primarias la paciente refiere escaso dolor en forma de pinchazos puntuales no nuevas lesiones gran mejoria respecto a la ultima visita biopsia realizada en sin datos de especificidad biopsia realizada en en vasculitis leucocitoclastica de vasos superficiales y profundos con intenso infiltrado inflamatorio agudo y leucocitoclastia\"}, {\"apartado\": \"juicio clinico  lesiones cutaneas con biopsia compatible con vasculitis leucocitoclastica  actualmente lesiones en resolucion \", \"texto\": \" juicio clinico lesiones cutaneas con biopsia compatible con vasculitis leucocitoclastica actualmente lesiones en resolucion plan curas con vaselina pura o fucidine pomada vez al dia en las lesiones costrosas posteriormente cubrir con atrauman o urgotul aposito solo en las costras de mayor tamano no es necesario vendar todas las piernas de cara al alta se puede iniciar pauta descendente de prednisona desde hoy tomar mg al dia durante dias posteriormente mg al dia los siguientes dias y suspender al alta solicitar cita en consultas de dermatologia en meses para seguimiento ambulatorio cardiologia seguimiento de paciente de anos con antecedentes cardiologicos de cardiopatia valvular reumatica con afectacion de valvula mitral doble lesion moderada en situacion postcomisurotomia hipertension pulmonar con dilatacion y disfuncion de ventriculo derecho it libre portadora de mcp vvir desde por ic en relacion a fa lenta fibrilacion auricular permanente anticoagualada con acenocumarol seguimiento habitual en donde se ha mantenido manejo conservador de su cardiopatia valvular se realiza hoy ecocardiograma transesofagico en el que no se objetivan datos sugestivos de endocarditis infecciosa en el momento actual la paciente ingresa por clinica de paresia siendo estudiada por neurologia descartando etiologia isquemica presenta posteriormente episodio de febril sospechandose endocarditis infecciosa pero en vista de resultado ete hc solo positivo de moento se descarta dicho diagnostico de momento durante el ingreso presenta clincia compatible con ic de predominio derecho ya que se encontraba sin tratamiento diuretico habitual y con sueroterapia asociada posterior a inicio de diureticos iv presenta buena respuesta clinica con disminucion de los edemas ademas presentaba hipoalbuminemia que parece haber estado contribuyendo al aumento de la congestion refiere ligeras molestias esofagicas posterior al procedimiento al examen fisico presenta iy hasta tercio superior cervical rscs con soplos sistolico en foco pulmonar y mitral abdomen globuloso timpanico sin poder palpar hepatomegalia edemas hasta tercio distal femoral bilateral posterior actualmente se ha descartado el diagnostico de endocarditis infecciosa ademas la dsvd es cronica con it libre ya conocida y en manejo conservador en su centro de referencia y que actualmente presenta mejoria importante de la congestion con edemas por decubito que podrian inclusive intentar manejarse con diureticos orales y que por nuestra no se considera para otros manejos no consideramos necesario traslado a nuestras camas en el momento actual plan seguiremos evolucion a traves de itc ajuste de tratamiento diuretico sugerimos paso de furosemida iv a torasemida oral tratamiento antibiotico como se considere por parte de infecciosas ingresa incialmente en neurologia por debilidad de miembro izquierdo con estudio que descarta lesiones isquemicas agudas durante el ingreso presenta episodios febriles con hallazgo de e faecalis en hc iniciandose tratamieno con ampicilina gentamicina presentando rash cutaneo por lo que se pasa tratamiento a daptomicina gentamicina se realiza ett el donde se aprecia en la cara auricular del velo septal imagen de unos mm de longitud con movimiento independiente al del velo que prolapsa en vd y que podria ser compatible con vegetacion endocarditica it libre disfuncion sistolica severa de vd dl mitral moderada se ha mantenido afebril desde el hoy tenia pendiente la realizacion de ete para completar estudio a lo que se niega se plantea realizacion del mismo con sedacion en rea lo cual acepta y esta pendiente de realizarse al examen fisico presenta ta mmhg con fc en torno a lpm iy hasta angulo mandibular soplo sistolico en foco pulmonar y mitral abdomie distendido blando no dolorosa a la palpacion timpanico sin poder palpar hepatomegalia edemas hasta tercio distal femoral bilateral as hba cr en rango potasio sin leucocitosis actualmente sin otros hallazgos de interes\"}, {\"apartado\": \"juicio clincio \", \"texto\": \" juicio clincio probable endocarditis tricuspidea por enterococo faecalis sobre vavlula nativa en paciente portadora de mcp vvir plan y comentario coincidimos en valoracion de companeros de mi en probabilidad de endocarditis infecciosa sobre vt que habra que confirmar con la realizacion de ete con sedacion en la rea de todas formas ya se encuentra con tratamiento antibiotico adecuado en cuanto a la situacion actual de ic consideramos que es un proceso cronico por cardiopatia valvular avanzada con htp severa y dsvd de larga data sugerimos mantener el tratamiento diuretico iv en vista de mejoria progresiva de los datos de ic y de los edemas se ajustando en funcion de evolucion clinica de los mismos seguiremos evolucion y se valorara posible traslado a planta de cardiologia o mi reumatologia anos ingresada por debilidad en hemicuerpo zquierd sin ictus en rm vasculitis cutanea activa y factor reumatoide de en tratamiento con prednisona solicitamos valoracion de inicar tratamiento inmunosupresor desde hace varias sems refiere lesiones cutaneas en mmii informe oral de biopsia del vasculitis leucocitoclastica de vasos superficiales y profundos con intenso infiltrado inflamatorio agudo y leucocitoclastia se ha valorado y biopsiado de nuevo por dermatologia ayer pdte de resultados se incio tto esteroieo con prednisona mg kg esde hace mas de anos refiere dorsolumbalgia mecanica refiere que esta dignt de osteoporosis y espondiloartrosis no refiere artritiis periferica cuadro de debidad generalziada desde hace anos que atribuye a su cardiopatia episodio de caida con traumatismo sobre hemicuerpo izdo hace sems disfagia ocasional desde hace anos que atribuye a rinoscopia previa ef consciente y orientada hemorragia conjuntival izda hematomas multiples en hemicuerpo izdo edemas en mmss e iii curas oclusivas en mmii varices en mid no se objetiva sinovitis a ningun nivel dificil por edemas dolor a la presion de apof espinosas en sup de col dorsal\"}, {\"apartado\": \"jc\", \"texto\": \" jc vasculitis leucocitoclastica en mmii no datos sugestivos de artritis reumatoide elev de enzimas musculares en probable relacion con rabdiomiolisis traumatica menos probable polimiositis en evolucion plan valorar evol de enzimas musculares en caso de progresion valorar estudio emg descartar miositis vasculitis leucocitoclastica en mmii tto esteroideo indicado por demetologia mg kg d pauta de tto inmunosupresor segun dermatologia valorar inicio de tto con azatiopriana como ahorrador de esteroides remitir a consulta de reumatologia reu para estudio y tto de dorsalgia mecanica y valoracion de osteoporosis proa infecciosas crecimiento en hemocultivo del de enterococo faecalis ampi s y e coli en urocultivo valorad realizacion de ecografia abdominal para descartar foco abdominal como causante de dicha bacteriemia ya que a priori no parece urinaria al no aislarse enterococo en orina se recomienda cambiar tratamiento a ampicilina gentamicina asi como realizar ecocardiograma paciente portadora de dispositivo intravascular marcapasos y extraer hc de control a las horas de inicio de tratamiento para cualquier duda llamad al o poned interconsulta a infecciosas un saludo infecciones ingreso a cargo de neurologia para estudio de cuadro brusco de debilidad hemicorporal izqda rm cerebral y angio rm dtsao eeg rm columna cervical normales con dolor articular sin evidencia de lesiones isquemicas agudas en seguimiento por dermatologia por posible vasculitis leucocitoclastica en mii que no se evidencia en biopsia cutanea realizada en este centro aunque si en biopsia realizada en el dia tras pico febril se extraen hemocultivos y uc con crecimiento en hemocultivo del enterococo faecalis ampi s y e coli en urocultivo inicialmente en tratamiento con amoxicilina se cambio tratamiento a ampicilina gentamicina se solicita estudio de extension tac tap en el que se evidencian datos de sobrecarga hidrica sugestivos de icc se realiza ett el donde se aprecia en la cara auricular del velo septal imagen de unos mm de longitud con movimiento independiente al del velo que prolapsa en vd y que podria ser compatible con vegetacion endocarditica ademas la paciente presenta erupcion cutanea eritematosa y muy pruriginosa a nivel toracico en probable relacion con ampicilina afebril desde pico cutaneo del dia expl ta o ta mmhg fc lpm sato basal consciente orientada en espacio y persona alerta y colaboradora ac arritmica con soplo sistolico ap mvc con crepis bibasales abd blando depresible no dolorosa a la palpacion dorso de espalda eritematoso sin prurito con dermografismo cara anterior de torax tambien con eritema no pruriginoso msi con leve inflamacion a nivel de codo sugestivo de flebitis previamente tenia vvp segun refiere la paciente eeii edemas en zonas declives con fovea hc enterococcus faecalis am s gms s teico s va s hc control ptes de momento negativos\"}, {\"apartado\": \"jc \", \"texto\": \" jc probable endocarditis tricuspidea por enterococo asociada a marcapasos pte de ete no realizado por negacion de la paciente fr positivo elevacion factor reumatoide lesiones cutaneas en estudio posible vasculitis en resolucion probable reaccion de hipersensibilidad a ampicilina icc anasarca paresia msi sin evidencia de lesiones isquemicas agudas en rm craneal ni cervical con datos miopaticos inespecificos en emg sin haberse podido evocar conducciones motoras previos plan tras sospecha de cuadro de hipersensibilidad con ampicilina se inicio daptomicina a mg kg dia y se optimizo gentamicina mg kg h por el momento mantenemos igual solicitamos valle de gentamicina antes de dosis de las avisamos a mgmi tras solicitar ete la paciente se ha negado a realizarselo se siente enganada por la informacion recibida previo al procedimiento le explico detalladamente la importancia de dicha prueba y se muestra perspicaz y muy reacia a hacerla lo volvemos a comentar y finalmente acepta realizarselo bajo anestesia general solicitamos fondo de ojo por parte de oftalmologia seguiremos evolucion un saludo tras informar exhaustivamente a la paciente y su familiar hija de la extrema importancia de realizarse el ete como pc clave para aclarar el origen de su descompensacion cardiaca entre otros motivos por las diferentes implicaciones terapeuticas y pronosticas la paciente finalmente accede a realizarselo bajo anestesia general lo cual comunico a cardiologia y neurologia para coordinarlo con anestesia por otra parte en mi opinion creo que la paciente se beneficiaria mas de estar cargo de cardiologia que de m interna infecciones puesto que la paciente tiene una cardiopatia de base muy evolucionada de manejo clinico complejo de confirmarse el origen infeccioso del cuadro ademas el manejo previsible va a ser exclusivamente medico antibioterapia prolongada siendo la posibilidad de precisar cx muy improbable tanto por la localizacion de la endocarditis como por la comorbilidad de la paciente y su deseo manifiesto de negativa a todo tipo de pruebas y maniobras invasivas mas que probable endocarditis tricuspea por enterococo asociada a marcapasos manana ete y reaccion de hipersensibilidad prurito y eruopcion asociada a ampicilina se suspende ampicilina se inicia daptomicina a mg kg dia y se optimiza gentamicina mg kg h aconsejamos pic reglado a cardiologia impresiona de anasarca ademas de furosemida iv monitorizacion de valle de gentamicina y pic a alergia no hay criterio ecocardiografico mayor ni menor de endocarditis la positividad de un solo hemocultivo de extraidos en todo caso seria un criterio menor como tambien lo seria la valvulopatia mitral y el marcapasos en mi opinion un unico y aislado pico febril no debe considerarse criterio menor no presenta el criterio menor de fenomenos vasculares la vasculitis leucocitoclastica no lo seria queda la duda del criterio menor de factor reumatoideo que dermatologia y reumatologia deberian aclarar si esta relacionado con la posible vasculitis leucocitoclastica sin datos de vasculitis en la biopsia del por consiguiente en el momento actual se descarta el diagnosatico de endocarditis infecciosa\"}, {\"apartado\": \"juicio clinico\", \"texto\": \" juicio clinico miopatia proximal probablemente esteroidea pte de resultado de biopsia muscular polineuropatia desmielinizante leve neuropatia radial izquierda neuropatia cubital derecha paresia distal de mano izquierda como consecuencia de lo previo hematomas intramusculares posteroinferiores a la escapula de evolucion subaguda cronica factor reumatoide elevado probable vasculitis cutanea de mmii postinfecciosa en fase de resolucion ultima biopsia cutanea sin datos de actividad tto con ce a dosis altas icc insuficiencia tricuspide estenosis mitral reumatica moderada severa vd severamente dilatado bacteriemia por e faecalis sin foco completado tratamiento antibiotico dias no vegetaciones en ete probable eutiroideo enfermo tto corticoideo a dosis altas ca elevado con tc tap normal en probable relacion con situacion de icc previos hta dm mcp vvir fa con aco comisurotomia abierta de e mitral doble lesion mitral post comisurotomia con estenosis moderada i tricuspidea con disfuncion vd sd ansioso depresivo colon irritable tratamiento su tratamietno habitual sin cambios tratamiento habitual torasemida espironolactona daonil sitagliptina sertralina bromazepam enalapril omeprazol atenolol sintrom sp se anade prednisona mg comp cada dia control de glucemias opir su map\"}, {\"apartado\": \"jc  lesiones costrosas en miembros inferiores a estudio  estaba en tratamiento con prednisona en pauta descendente y remiten al alta para continuar estudio \", \"texto\": \" jc lesiones costrosas en miembros inferiores a estudio estaba en tratamiento con prednisona en pauta descendente y remiten al alta para continuar estudio evolucion en los dias posteriores las lesiones continuaban en las mismas localizaciones sin progresion ni afectacion de mucosas tratadas con dosis puntuales de polaramine iv con control parcial del prurito desde el ante la sospecha de implicacion de ampicilina por secuencia temporal se ha retirado sustituyendose por daptomicina valorado por infecciosas e f lesiones maculosas eritematosas confluentes en tronco abdomen y region dorsal multiples hematomas en region dorsal y tenue eritema tambien no afectacion de mucosas mmii con vendajes edemas en ambos mmss superiores i d exantema posible origen medicamentoso vs otras causas en el contexto de hospitalizacion valoracion la paciente y su familiar creen que las lesiones estan mas atenuadas y que no han progresado dado que ya se ha retirado ampicilina y no parece haber progresado en los dos ultimos dias no se recomienda la retirada de otros farmacos que pudieran ser necesarios para la paciente se recomienda tratamiento topico de las zonas afectadas con vaselina liquida adventan y antihistaminico para control del picor polaramine i v si intenso o loratadina oral y mantener prednisona en pauta actual y valorar evolucion si en el ingreso actual precisara algun betalactamico contactar con alergia valorada previamente con i d exantema de posible origen medicamentoso vs otras causas en el contexto de la hospitalizacion con retirada de ampicilina por relacion temporal cercana con el inicio del cuadro y con mantenimiento del resto de tratamientos evolucion favorable de las lesiones cutaneas con persistencia de ligero prurito y eritema tenue en torax anterior sin lesiones en region dorsal seguida tambien por dermatologia desde el inicio del ingreso antes de la aparicion del exantema por lesiones cutaneas con biopsia compatible con vasculitis leucocitoclastica actualmente lesiones en resolucion indican disminucion progresiva de dosis de prednisona y seguimiento ambulatorio plan evolucion favorable con el tratamiento antibiotico actual y resto de tratamientos dado que no parece precisar tratamiento con antibioticos betalactamicos durante este ingreso valorada por infecciosas cardiologia remitir al alta a alergologia para estudio se mantienen indicaciones de tratamiento de nota previa hasta resolucion del cuadro rehabilitacion situacion funcional previa independiente para abvd la paciente realizaba previamente marcha sin ayudas tecnicas situacion socio familiar vive en con su hija en un piso bajo sin barreras de acceso al mismo enfermedad actual mujer de anos trasladada desde el por probable ictus isquemico hemisferico derecho en resolucion descartan neurointervencionismo infradosificacion de sintrom hiperglucemia rabdomiolisis insuficiencia renal leve probablemente secundaria a rabdomiolisis contusion facial cefalohematoma parietotemporal izquierdo ingresa a cargo de neurologia con diagnostico paresia de miembro superior izquierdo sin evidencia de lesiones isquemicas agudas en rm craneal ni cervical con datos miopaticos inespecificos en emg sin haberse podido evocar conducciones motoras bacteriemia por e faecalis en tratamiento con ampicilina y gentamicina con posible vegetacion en ett pendiente ete vasculitis cutanea leucocitoclastica en resolucion en nueva biopsia elevacion factor reumatoide sin datos clinicos de ar icc elevacion ca y liquido libre intraperitoneal la paciente refiere caida el dia que comenzo con los sintomas pendiente de rm plexo braquial ecocardiograma transesofagico hemocultivos paciente estable ta mmhg hb oxigenoterapia con gafas nasales a l tolera sedestacion no ha caminado durante el ingreso realiza trasferencias con ayuda de dos personas solicitan valoracion para reiniciar la marcha tras encamamiento exploracion fisica paciente explorada en decubito consciente y orientada colaboradora miembros superior izquierdo edematoso tumefacto movilidad activa pasiva de hombro flexion o o con molestias rotacion externa e interna pasiva conservadas codo con flexoextension y pronosupinacion completas muneca mano en actitud de flexion palmar semiflexion de o a o dedos y extension de o dedo extension activa de dedos conservada flexion dorsal y palmar activas o miembros inferiores inspeccion vendaje ambas piernas balance articular activo conservado balance muscular flexores de cadera extensores de rodilla y dorxiflexion de tobillos tolera sedestacion transferencias con ayuda plan de tratamiento rehabilitador se ensena a paciente y familiar ejercicios pasivos de miembro superior izquierdos para realizar durante la estancia en el hospital la paciente recibira tratamiento de rehabilitacion a dias alternos encaminado a ensenanza a paciente y familiar del tratamiento postural correcto manera adecuada de realizar trasferencias ejercicios de fortalecimiento muscular global de miembros inferiores reeducacion equilibrio en bipedestacion e inicio de la marcha y progresion con las ayudas tecnicas que precise segun evolucion unidad de rehabilitacion oftalmologia solicitan valoracion de paciente con probable endocarditis apo pseudofaquia od avsc od cae oi cae petequias en psi hemorragias subconjuntivales subtarsales inferiores de ao fo tropicamida no vitritis papilas fisiologicas maculas sin alteraciones no hemorragias ni exudados arcadas vasculares sin alteraciones no signos de vasculitis retina aplicada pio mmhg\"}, {\"apartado\": \"jc  no signos de embolos septicos en fondo de ojo en el momento actual \", \"texto\": \" jc no signos de embolos septicos en fondo de ojo en el momento actual rehabilitacion vistas rx de humero escapula y antebrazo izquierdo sin lesiones oseas agudas pendiente de completar estudio de paresia de miembro superior izquierdo ginecologia solicitan valoracion de paciente de anos por hallazgo de ca y presencia de liquido libre en abdomen superior con derrame pleural en contexto clinico de icc htp e higado de estasis en paciente con cardipatia cronica realizado tac body cardiomegalia global derrame pleural bilateral discreto edema intersticial hallazgos sugestivos de icc liquido ascitico fundamentalmente perihepatico periesplenico y en gotiera derecha higado con hipertrofia del lhi contorno lobulado dilatacion de vci y venas suprahepaticas que sugiere higado de estasis colecistectomia fecaloma rectal ingresada por paresia msi descartada casusa central en emg rasgos miopaticos inespecificos no se puede valorar eng por edema pendiente rm plexo braquial y rx msi bacteriemia primaria por e faecalis sin criterios de endocarditis segundos hemoc negativos icc en paciente con cardiopatia previa factor reumatoide positivo lesiones en mmii con primera biopsia compatible con vasculitis en y segunda biopsia en tras ciclo de corticoides negativa probable reaccion de hipersensibilidad a ampicilina previos hta dm portadora de mcp vvir comisurotomia abierta de stenosis mitral doble lesion mitral post comisurotomia con estenosis moderada insuficiencia tricuspidea con disfuncion vd sdme ansioso depresivo colon irritable colecistectomia partos vaginales mp aprox anos legrado en perimenopausia con ap benigna endometrio en descamacion y al parecer estuvo unos anos en to con gestagenos no episodios posteriores de mpm asintomatica desde punto de vista ginecologico exploracion obesidad ge y vagina n atroficos cervix liso atrofico utero normal anejos no se palpan no signos de ascitis dejo hecha solicitud de eco ginecologica de ar y nueva det de ca con he que se realizara de forma ambulatoria tras resolucion de procesos medicos actuales cita con resultados en consulta de dejo hecha peticion de citas por buzon un saludo bandas oligoclonales no se detectan bandas oligoclonales igg de sintesis intratecal metodo isoelectroenfoque inmunoblot igg patron tipo i no se observan bandas en el lcr ni en el suero unidad de autoinmune medicina interna ueas solicitan valoracion de mujer de anos ingresada en neurologia por cuadro de hemiparesia de msi y cpk elevada factor reumatoide elevado enfermedad actual mujer de anos acude a su medico de atencion primaria el por lesiones cutaneas eritematosas que relacionan con sintrom acude el por empeoramiento de las lesiones cutaneas con aparicion de ampollas y mas equimosis acude a hso donde es valorada por dermatologia que realiza bx compatible con vasculitis leucocitoclastica de vasos superficiales y profundos con intenso infiltrado inflamatorio agudo y leucocitoclastia tratamiento con corticoides pautan tto con prednisona durante dias cada pauta en total mes evolucion posterior torpida la paciente refiere antes de la aparicion de lesiones sensacion distermica y tiritonas el dermatologo tambien pauta tratamiento con a c el es encontrada en el suelo de su domicilio con debilidad de extremidades izquierdas la paciente refiere haberse levantado de la cama y haber tenido alucinaciones visuales valorada inicialmente en se describe hemiparesia izquierda y tc basal sin alteraciones ante la sospecha de probable ictus isquemico en paciente anticoagulada y de inicio desconocido y se traslada a donde alteraciones de la perfusion cerebral significativas con juicio clinico de ictus isquemico hemisferico derecho en resolucion e infradosificacion de sintrom la paciente es trasladada a nrl de ta fc lpm afebril sato basal aceptable estado general consciente y orientada eupneica sin trabajo respiratorio atenta y colaboradora ac ritmica sin soplos ap mvc sin ruidos sobreanadidos mmii lesiones costrosas en ambas piernas y en o dedo pie izquierdo\"}, {\"apartado\": \"juicio clinico \", \"texto\": \" juicio clinico probable vasculitis postinfecciosa en fase de resolucion ultima biopsia cutanea sin datos de actividad miopatia esteroidea probable psicosis esteroidea sobre deterioro cognitivo previo icc insuficiencia tricuspide estenosis mitral reumatica moderada severa vd severamente dilatado bacteriemia por e faecalis sin foco completado tratamiento antibiotico dias pendiente de hemos de control no vegetaciones en ete plan descenderemos progresivamente corticoterapia pendiente de analitica con autoinmunidad t y tsh bajas seguiremos evolucion sin cambios clinicos valorada por cirigia se programa biopsia muscular el plan descenderemos progresivamente corticoterapia prednisona mg desde desde manana mg pendiente de autoinmunidad y hc de control amplio analitica para el lunes con t ta fc sat basal afebril glucemias elevadas sin incidencias en el fin de semana caminando con el andador analitica sin l ni n hb estable plaq bien inr funcion renal e iones bien pcr perfil tiroideo correcto plan ajusto insulinas y tto antihta continuamos descenso progresivo de ce prednisona mg desde pendiente de autoinmunidad y hc de control del pte de realizacion de biopsia muscular el hematologia desde cirugia parece que prefieren que pase a heparina para la cirugia del dia adelanto el control de sintrom para el y decidir es una cirugia menor el resto de analisis esta pedido por mi paciente anticoagulada con sintrom por fa valvular em reumatica moderada disfuncion vd ingresada por paresia msi y vasculitis leucocitoclastica pendiente de biopsia muscular el por la manana cr normal mg dl peso kg hoy inr plan no tomara sintrom los dias al ambos inclusive clexane mg h sc a las h y a ls h desde manana h excepto la manana del dia de la biopsia muscular reiniciara sintrom la tarde de la biopsia segun pauta adjunta que se envia al control de enfermeria para entregar al alta traumatologia solicitan valoracion de tto de hematomas intramusculares detectados en rnm de plexo braquial la enferma no tiene especial focalidad en la zona dorsal no se palpa clara masa ni compromiso cutaneo a ese nivelpor nuestra parte no precisa drenaje qx se lo explico a paciente y acompanante\"}]'}"
            ]
          },
          "metadata": {},
          "execution_count": 74
        }
      ]
    },
    {
      "cell_type": "code",
      "execution_count": null,
      "id": "476cd70e",
      "metadata": {
        "id": "476cd70e",
        "outputId": "db66fe3c-e266-4385-f0c6-b7cd3483603e",
        "colab": {
          "base_uri": "https://localhost:8080/",
          "height": 81,
          "referenced_widgets": [
            "ae6c61e61b34405eb2e1416723a0dff5",
            "d2ad601b90074a92b3daf8b27fa3d051",
            "799361fa3b964006a65d9514df032463",
            "b7d513521e9d4442b9c838e348263797",
            "575eabe6e267442baff553b53b563978",
            "1dc4aab14c71423a846585b2e5d54314",
            "4dbfce596cc94215bbae1729a778bb6c",
            "d247277e22604b38b548ed02ef6bd64a",
            "0db6d5a818b34d6d9fd5554ff1064901",
            "03857dcc82534ba184c1c8e726c06aab",
            "6380b03fabef420aa8fd3a79563c7aaf",
            "8e6c3cb68e084eee95bfa634efd9df3e",
            "8248ba8526714eef89a2e5f4a8521e21",
            "a1f26dc61061423194c215516d076d55",
            "0fcebb7bf21a42a5a9f7fda198822d45",
            "a4a74da7fcae44ecbc1d14bbb9610557",
            "557c6aa60514403e9a8aa50828122170",
            "9c9018a9e6cb41da8d4bf11b66264199",
            "c48d7e04c8c3437983a9e353203c7068",
            "8cbc2d94e7614f40b76e9e9424d2fe48",
            "cd2ecdc04af34e7db32bd5f10259a3eb",
            "306ef5fc7f054cbebf94340df89f61f5"
          ]
        }
      },
      "outputs": [
        {
          "output_type": "display_data",
          "data": {
            "text/plain": [
              "Downloading (…)lve/main/config.json:   0%|          | 0.00/1.12k [00:00<?, ?B/s]"
            ],
            "application/vnd.jupyter.widget-view+json": {
              "version_major": 2,
              "version_minor": 0,
              "model_id": "ae6c61e61b34405eb2e1416723a0dff5"
            }
          },
          "metadata": {}
        },
        {
          "output_type": "display_data",
          "data": {
            "text/plain": [
              "Downloading pytorch_model.bin:   0%|          | 0.00/499M [00:00<?, ?B/s]"
            ],
            "application/vnd.jupyter.widget-view+json": {
              "version_major": 2,
              "version_minor": 0,
              "model_id": "8e6c3cb68e084eee95bfa634efd9df3e"
            }
          },
          "metadata": {}
        }
      ],
      "source": [
        "from transformers import AutoModelForSequenceClassification\n",
        "import torch\n",
        "import numpy as np\n",
        "\n",
        "#obtiene el modelo\n",
        "model = AutoModelForSequenceClassification.from_pretrained(\n",
        "    modelo_base, \n",
        "    num_labels=class2label.num_classes, \n",
        "    problem_type = \"multi_label_classification\")\n",
        "\n",
        "#procesa los datos\n",
        "inputs = preprocess_data(data)\n",
        "outputs = model(**inputs)\n",
        "\n",
        "#obtiene las prediccciones y las probabilidades\n",
        "logits = outputs.logits\n",
        "sigmoid = torch.nn.Sigmoid()\n",
        "probs = sigmoid(logits.squeeze().cpu())\n",
        "\n",
        "y_pred = calcular_predicciones_NONE_mas_probable(probs)\n",
        "y_pred_labels = obtener_lables_predichas(y_pred)\n",
        "\n",
        "y_true = obtener_y_true(data['label_list_str'])\n",
        "y_true_labels = data['label_list_str']"
      ]
    },
    {
      "cell_type": "markdown",
      "source": [
        "# Interpretación de los datos\n"
      ],
      "metadata": {
        "id": "FNHjAugI_ngK"
      },
      "id": "FNHjAugI_ngK"
    },
    {
      "cell_type": "code",
      "source": [
        "from sklearn.metrics import f1_score, roc_auc_score, accuracy_score, precision_score, recall_score\n",
        "\n",
        "def calculo_metricas_multi_label(y_pred, y_true, threshold=umbral):    \n",
        "    metric_average = \"micro\"\n",
        "    precision_score_value = precision_score(y_true, y_pred, average=metric_average)\n",
        "    recall_score_value = recall_score(y_true, y_pred, average=metric_average)\n",
        "    f1_micro_average = f1_score(y_true=y_true, y_pred=y_pred, average=metric_average)\n",
        "    roc_auc = roc_auc_score(y_true, y_pred, average=metric_average)\n",
        "    accuracy = accuracy_score(y_true, y_pred)\n",
        "    metrica_s_value = metrica_s_train(y_true, y_pred)\n",
        "    \n",
        "    metrics = {\n",
        "      'Métrica-s': round(metrica_s_value, 4), \n",
        "      'Precisión': round(precision_score_value, 2),\n",
        "      'Recall': round(recall_score_value, 2),\n",
        "      'F1': round(f1_micro_average, 2),\n",
        "      'Accuracy': round(accuracy, 2)}\n",
        "\n",
        "    return metrics"
      ],
      "metadata": {
        "id": "sPn2btA3uLal"
      },
      "id": "sPn2btA3uLal",
      "execution_count": null,
      "outputs": []
    },
    {
      "cell_type": "code",
      "source": [
        "print('y_true_labels', y_true_labels)\n",
        "print('y_pred_labels', y_pred_labels)\n",
        "print('metricas', calculo_metricas_multi_label(y_pred, y_true))"
      ],
      "metadata": {
        "id": "ool1GlcR_LDd",
        "outputId": "42ee0a20-9938-48d1-98eb-3c73168a3f87",
        "colab": {
          "base_uri": "https://localhost:8080/"
        }
      },
      "id": "ool1GlcR_LDd",
      "execution_count": null,
      "outputs": [
        {
          "output_type": "stream",
          "name": "stdout",
          "text": [
            "y_true_labels ['T38.0X5A']\n",
            "y_pred_labels ['T38.0X5A', 'T45.515A', 'Y95', 'P01.1', 'T81.4XXA']\n",
            "metricas {'Métrica-s': 0.2, 'Precisión': 0.5, 'Recall': 0.5, 'F1': 0.5, 'Accuracy': 0.5}\n"
          ]
        }
      ]
    },
    {
      "cell_type": "code",
      "source": [
        "from sklearn.metrics import confusion_matrix, ConfusionMatrixDisplay\n",
        "cm = confusion_matrix(y_true, y_pred)\n",
        "ConfusionMatrixDisplay(cm).plot()"
      ],
      "metadata": {
        "id": "z2-4yc7K_MTB",
        "outputId": "6227bbcf-eef2-49b3-fe82-c94df33c6bb4",
        "colab": {
          "base_uri": "https://localhost:8080/",
          "height": 472
        }
      },
      "id": "z2-4yc7K_MTB",
      "execution_count": null,
      "outputs": [
        {
          "output_type": "execute_result",
          "data": {
            "text/plain": [
              "<sklearn.metrics._plot.confusion_matrix.ConfusionMatrixDisplay at 0x7f13ebfb6320>"
            ]
          },
          "metadata": {},
          "execution_count": 78
        },
        {
          "output_type": "display_data",
          "data": {
            "text/plain": [
              "<Figure size 640x480 with 2 Axes>"
            ],
            "image/png": "[encoded data removed]"
          },
          "metadata": {}
        }
      ]
    },
    {
      "cell_type": "code",
      "source": [
        "from sklearn.metrics import classification_report\n",
        "print(classification_report(y_true, y_pred))"
      ],
      "metadata": {
        "id": "b_wXds5e_N-x",
        "outputId": "c6956556-a116-4ba6-d120-527e9326a16c",
        "colab": {
          "base_uri": "https://localhost:8080/"
        }
      },
      "id": "b_wXds5e_N-x",
      "execution_count": null,
      "outputs": [
        {
          "output_type": "stream",
          "name": "stdout",
          "text": [
            "              precision    recall  f1-score   support\n",
            "\n",
            "         0.0       1.00      0.43      0.60         7\n",
            "         1.0       0.20      1.00      0.33         1\n",
            "\n",
            "    accuracy                           0.50         8\n",
            "   macro avg       0.60      0.71      0.47         8\n",
            "weighted avg       0.90      0.50      0.57         8\n",
            "\n"
          ]
        }
      ]
    }
  ],
  "metadata": {
    "colab": {
      "provenance": [],
      "include_colab_link": true
    },
    "kernelspec": {
      "display_name": "Python 3 (ipykernel)",
      "language": "python",
      "name": "python3"
    },
    "language_info": {
      "codemirror_mode": {
        "name": "ipython",
        "version": 3
      },
      "file_extension": ".py",
      "mimetype": "text/x-python",
      "name": "python",
      "nbconvert_exporter": "python",
      "pygments_lexer": "ipython3",
      "version": "3.9.12"
    },
    "widgets": {
      "application/vnd.jupyter.widget-state+json": {
        "2cb55a19c4504e429c031af957378c89": {
          "model_module": "@jupyter-widgets/controls",
          "model_name": "HBoxModel",
          "model_module_version": "1.5.0",
          "state": {
            "_dom_classes": [],
            "_model_module": "@jupyter-widgets/controls",
            "_model_module_version": "1.5.0",
            "_model_name": "HBoxModel",
            "_view_count": null,
            "_view_module": "@jupyter-widgets/controls",
            "_view_module_version": "1.5.0",
            "_view_name": "HBoxView",
            "box_style": "",
            "children": [
              "IPY_MODEL_2fa1e0034e884558b3210be450b6c608",
              "IPY_MODEL_b3ed0c7e178a40bcbbb40c568c2603ff",
              "IPY_MODEL_acf89d6e01a74d819497cb945ef11ace"
            ],
            "layout": "IPY_MODEL_99861905fbb34d0f9f0ae3956d67a2ac"
          }
        },
        "2fa1e0034e884558b3210be450b6c608": {
          "model_module": "@jupyter-widgets/controls",
          "model_name": "HTMLModel",
          "model_module_version": "1.5.0",
          "state": {
            "_dom_classes": [],
            "_model_module": "@jupyter-widgets/controls",
            "_model_module_version": "1.5.0",
            "_model_name": "HTMLModel",
            "_view_count": null,
            "_view_module": "@jupyter-widgets/controls",
            "_view_module_version": "1.5.0",
            "_view_name": "HTMLView",
            "description": "",
            "description_tooltip": null,
            "layout": "IPY_MODEL_d20daf14a1a84173b00085d30da88f3e",
            "placeholder": "​",
            "style": "IPY_MODEL_866950fbc8544322a5474f4d7c11d49b",
            "value": "Downloading (…)okenizer_config.json: 100%"
          }
        },
        "b3ed0c7e178a40bcbbb40c568c2603ff": {
          "model_module": "@jupyter-widgets/controls",
          "model_name": "FloatProgressModel",
          "model_module_version": "1.5.0",
          "state": {
            "_dom_classes": [],
            "_model_module": "@jupyter-widgets/controls",
            "_model_module_version": "1.5.0",
            "_model_name": "FloatProgressModel",
            "_view_count": null,
            "_view_module": "@jupyter-widgets/controls",
            "_view_module_version": "1.5.0",
            "_view_name": "ProgressView",
            "bar_style": "success",
            "description": "",
            "description_tooltip": null,
            "layout": "IPY_MODEL_2f8c390d184f4b77890bd9df9522a3bd",
            "max": 1330,
            "min": 0,
            "orientation": "horizontal",
            "style": "IPY_MODEL_a89bb71cfd24428a9b4eebc6bb2eda3b",
            "value": 1330
          }
        },
        "acf89d6e01a74d819497cb945ef11ace": {
          "model_module": "@jupyter-widgets/controls",
          "model_name": "HTMLModel",
          "model_module_version": "1.5.0",
          "state": {
            "_dom_classes": [],
            "_model_module": "@jupyter-widgets/controls",
            "_model_module_version": "1.5.0",
            "_model_name": "HTMLModel",
            "_view_count": null,
            "_view_module": "@jupyter-widgets/controls",
            "_view_module_version": "1.5.0",
            "_view_name": "HTMLView",
            "description": "",
            "description_tooltip": null,
            "layout": "IPY_MODEL_21d8bc5668de4288a1d9c91e9298594f",
            "placeholder": "​",
            "style": "IPY_MODEL_d16e023466594f6f9eef776b8d720a61",
            "value": " 1.33k/1.33k [00:00&lt;00:00, 30.0kB/s]"
          }
        },
        "99861905fbb34d0f9f0ae3956d67a2ac": {
          "model_module": "@jupyter-widgets/base",
          "model_name": "LayoutModel",
          "model_module_version": "1.2.0",
          "state": {
            "_model_module": "@jupyter-widgets/base",
            "_model_module_version": "1.2.0",
            "_model_name": "LayoutModel",
            "_view_count": null,
            "_view_module": "@jupyter-widgets/base",
            "_view_module_version": "1.2.0",
            "_view_name": "LayoutView",
            "align_content": null,
            "align_items": null,
            "align_self": null,
            "border": null,
            "bottom": null,
            "display": null,
            "flex": null,
            "flex_flow": null,
            "grid_area": null,
            "grid_auto_columns": null,
            "grid_auto_flow": null,
            "grid_auto_rows": null,
            "grid_column": null,
            "grid_gap": null,
            "grid_row": null,
            "grid_template_areas": null,
            "grid_template_columns": null,
            "grid_template_rows": null,
            "height": null,
            "justify_content": null,
            "justify_items": null,
            "left": null,
            "margin": null,
            "max_height": null,
            "max_width": null,
            "min_height": null,
            "min_width": null,
            "object_fit": null,
            "object_position": null,
            "order": null,
            "overflow": null,
            "overflow_x": null,
            "overflow_y": null,
            "padding": null,
            "right": null,
            "top": null,
            "visibility": null,
            "width": null
          }
        },
        "d20daf14a1a84173b00085d30da88f3e": {
          "model_module": "@jupyter-widgets/base",
          "model_name": "LayoutModel",
          "model_module_version": "1.2.0",
          "state": {
            "_model_module": "@jupyter-widgets/base",
            "_model_module_version": "1.2.0",
            "_model_name": "LayoutModel",
            "_view_count": null,
            "_view_module": "@jupyter-widgets/base",
            "_view_module_version": "1.2.0",
            "_view_name": "LayoutView",
            "align_content": null,
            "align_items": null,
            "align_self": null,
            "border": null,
            "bottom": null,
            "display": null,
            "flex": null,
            "flex_flow": null,
            "grid_area": null,
            "grid_auto_columns": null,
            "grid_auto_flow": null,
            "grid_auto_rows": null,
            "grid_column": null,
            "grid_gap": null,
            "grid_row": null,
            "grid_template_areas": null,
            "grid_template_columns": null,
            "grid_template_rows": null,
            "height": null,
            "justify_content": null,
            "justify_items": null,
            "left": null,
            "margin": null,
            "max_height": null,
            "max_width": null,
            "min_height": null,
            "min_width": null,
            "object_fit": null,
            "object_position": null,
            "order": null,
            "overflow": null,
            "overflow_x": null,
            "overflow_y": null,
            "padding": null,
            "right": null,
            "top": null,
            "visibility": null,
            "width": null
          }
        },
        "866950fbc8544322a5474f4d7c11d49b": {
          "model_module": "@jupyter-widgets/controls",
          "model_name": "DescriptionStyleModel",
          "model_module_version": "1.5.0",
          "state": {
            "_model_module": "@jupyter-widgets/controls",
            "_model_module_version": "1.5.0",
            "_model_name": "DescriptionStyleModel",
            "_view_count": null,
            "_view_module": "@jupyter-widgets/base",
            "_view_module_version": "1.2.0",
            "_view_name": "StyleView",
            "description_width": ""
          }
        },
        "2f8c390d184f4b77890bd9df9522a3bd": {
          "model_module": "@jupyter-widgets/base",
          "model_name": "LayoutModel",
          "model_module_version": "1.2.0",
          "state": {
            "_model_module": "@jupyter-widgets/base",
            "_model_module_version": "1.2.0",
            "_model_name": "LayoutModel",
            "_view_count": null,
            "_view_module": "@jupyter-widgets/base",
            "_view_module_version": "1.2.0",
            "_view_name": "LayoutView",
            "align_content": null,
            "align_items": null,
            "align_self": null,
            "border": null,
            "bottom": null,
            "display": null,
            "flex": null,
            "flex_flow": null,
            "grid_area": null,
            "grid_auto_columns": null,
            "grid_auto_flow": null,
            "grid_auto_rows": null,
            "grid_column": null,
            "grid_gap": null,
            "grid_row": null,
            "grid_template_areas": null,
            "grid_template_columns": null,
            "grid_template_rows": null,
            "height": null,
            "justify_content": null,
            "justify_items": null,
            "left": null,
            "margin": null,
            "max_height": null,
            "max_width": null,
            "min_height": null,
            "min_width": null,
            "object_fit": null,
            "object_position": null,
            "order": null,
            "overflow": null,
            "overflow_x": null,
            "overflow_y": null,
            "padding": null,
            "right": null,
            "top": null,
            "visibility": null,
            "width": null
          }
        },
        "a89bb71cfd24428a9b4eebc6bb2eda3b": {
          "model_module": "@jupyter-widgets/controls",
          "model_name": "ProgressStyleModel",
          "model_module_version": "1.5.0",
          "state": {
            "_model_module": "@jupyter-widgets/controls",
            "_model_module_version": "1.5.0",
            "_model_name": "ProgressStyleModel",
            "_view_count": null,
            "_view_module": "@jupyter-widgets/base",
            "_view_module_version": "1.2.0",
            "_view_name": "StyleView",
            "bar_color": null,
            "description_width": ""
          }
        },
        "21d8bc5668de4288a1d9c91e9298594f": {
          "model_module": "@jupyter-widgets/base",
          "model_name": "LayoutModel",
          "model_module_version": "1.2.0",
          "state": {
            "_model_module": "@jupyter-widgets/base",
            "_model_module_version": "1.2.0",
            "_model_name": "LayoutModel",
            "_view_count": null,
            "_view_module": "@jupyter-widgets/base",
            "_view_module_version": "1.2.0",
            "_view_name": "LayoutView",
            "align_content": null,
            "align_items": null,
            "align_self": null,
            "border": null,
            "bottom": null,
            "display": null,
            "flex": null,
            "flex_flow": null,
            "grid_area": null,
            "grid_auto_columns": null,
            "grid_auto_flow": null,
            "grid_auto_rows": null,
            "grid_column": null,
            "grid_gap": null,
            "grid_row": null,
            "grid_template_areas": null,
            "grid_template_columns": null,
            "grid_template_rows": null,
            "height": null,
            "justify_content": null,
            "justify_items": null,
            "left": null,
            "margin": null,
            "max_height": null,
            "max_width": null,
            "min_height": null,
            "min_width": null,
            "object_fit": null,
            "object_position": null,
            "order": null,
            "overflow": null,
            "overflow_x": null,
            "overflow_y": null,
            "padding": null,
            "right": null,
            "top": null,
            "visibility": null,
            "width": null
          }
        },
        "d16e023466594f6f9eef776b8d720a61": {
          "model_module": "@jupyter-widgets/controls",
          "model_name": "DescriptionStyleModel",
          "model_module_version": "1.5.0",
          "state": {
            "_model_module": "@jupyter-widgets/controls",
            "_model_module_version": "1.5.0",
            "_model_name": "DescriptionStyleModel",
            "_view_count": null,
            "_view_module": "@jupyter-widgets/base",
            "_view_module_version": "1.2.0",
            "_view_name": "StyleView",
            "description_width": ""
          }
        },
        "20d8d119c0054776a4b4ae9d17858061": {
          "model_module": "@jupyter-widgets/controls",
          "model_name": "HBoxModel",
          "model_module_version": "1.5.0",
          "state": {
            "_dom_classes": [],
            "_model_module": "@jupyter-widgets/controls",
            "_model_module_version": "1.5.0",
            "_model_name": "HBoxModel",
            "_view_count": null,
            "_view_module": "@jupyter-widgets/controls",
            "_view_module_version": "1.5.0",
            "_view_name": "HBoxView",
            "box_style": "",
            "children": [
              "IPY_MODEL_df755cbc231f4a3dbd3c709ff556efef",
              "IPY_MODEL_8e31f493ae654c22bee7db5059160867",
              "IPY_MODEL_6127e348348d494bad679a73a0c633d6"
            ],
            "layout": "IPY_MODEL_790d5e7aafdb4e08b51e67727d26aa1a"
          }
        },
        "df755cbc231f4a3dbd3c709ff556efef": {
          "model_module": "@jupyter-widgets/controls",
          "model_name": "HTMLModel",
          "model_module_version": "1.5.0",
          "state": {
            "_dom_classes": [],
            "_model_module": "@jupyter-widgets/controls",
            "_model_module_version": "1.5.0",
            "_model_name": "HTMLModel",
            "_view_count": null,
            "_view_module": "@jupyter-widgets/controls",
            "_view_module_version": "1.5.0",
            "_view_name": "HTMLView",
            "description": "",
            "description_tooltip": null,
            "layout": "IPY_MODEL_f0805b801d0c4924a4dfbb23203810e0",
            "placeholder": "​",
            "style": "IPY_MODEL_6df2076c5c5e4fd19166e84b841f5bf6",
            "value": "Downloading (…)olve/main/vocab.json: 100%"
          }
        },
        "8e31f493ae654c22bee7db5059160867": {
          "model_module": "@jupyter-widgets/controls",
          "model_name": "FloatProgressModel",
          "model_module_version": "1.5.0",
          "state": {
            "_dom_classes": [],
            "_model_module": "@jupyter-widgets/controls",
            "_model_module_version": "1.5.0",
            "_model_name": "FloatProgressModel",
            "_view_count": null,
            "_view_module": "@jupyter-widgets/controls",
            "_view_module_version": "1.5.0",
            "_view_name": "ProgressView",
            "bar_style": "success",
            "description": "",
            "description_tooltip": null,
            "layout": "IPY_MODEL_0136462783dc4bc197fafc51ad14605e",
            "max": 1065265,
            "min": 0,
            "orientation": "horizontal",
            "style": "IPY_MODEL_9ddc30027f1e452bad4e6d9d1151b5cd",
            "value": 1065265
          }
        },
        "6127e348348d494bad679a73a0c633d6": {
          "model_module": "@jupyter-widgets/controls",
          "model_name": "HTMLModel",
          "model_module_version": "1.5.0",
          "state": {
            "_dom_classes": [],
            "_model_module": "@jupyter-widgets/controls",
            "_model_module_version": "1.5.0",
            "_model_name": "HTMLModel",
            "_view_count": null,
            "_view_module": "@jupyter-widgets/controls",
            "_view_module_version": "1.5.0",
            "_view_name": "HTMLView",
            "description": "",
            "description_tooltip": null,
            "layout": "IPY_MODEL_c790cdee0d3e433d8cfc27c3edaf29eb",
            "placeholder": "​",
            "style": "IPY_MODEL_38d33bc1f7f041c9a10f271e2b473ec8",
            "value": " 1.07M/1.07M [00:00&lt;00:00, 6.30MB/s]"
          }
        },
        "790d5e7aafdb4e08b51e67727d26aa1a": {
          "model_module": "@jupyter-widgets/base",
          "model_name": "LayoutModel",
          "model_module_version": "1.2.0",
          "state": {
            "_model_module": "@jupyter-widgets/base",
            "_model_module_version": "1.2.0",
            "_model_name": "LayoutModel",
            "_view_count": null,
            "_view_module": "@jupyter-widgets/base",
            "_view_module_version": "1.2.0",
            "_view_name": "LayoutView",
            "align_content": null,
            "align_items": null,
            "align_self": null,
            "border": null,
            "bottom": null,
            "display": null,
            "flex": null,
            "flex_flow": null,
            "grid_area": null,
            "grid_auto_columns": null,
            "grid_auto_flow": null,
            "grid_auto_rows": null,
            "grid_column": null,
            "grid_gap": null,
            "grid_row": null,
            "grid_template_areas": null,
            "grid_template_columns": null,
            "grid_template_rows": null,
            "height": null,
            "justify_content": null,
            "justify_items": null,
            "left": null,
            "margin": null,
            "max_height": null,
            "max_width": null,
            "min_height": null,
            "min_width": null,
            "object_fit": null,
            "object_position": null,
            "order": null,
            "overflow": null,
            "overflow_x": null,
            "overflow_y": null,
            "padding": null,
            "right": null,
            "top": null,
            "visibility": null,
            "width": null
          }
        },
        "f0805b801d0c4924a4dfbb23203810e0": {
          "model_module": "@jupyter-widgets/base",
          "model_name": "LayoutModel",
          "model_module_version": "1.2.0",
          "state": {
            "_model_module": "@jupyter-widgets/base",
            "_model_module_version": "1.2.0",
            "_model_name": "LayoutModel",
            "_view_count": null,
            "_view_module": "@jupyter-widgets/base",
            "_view_module_version": "1.2.0",
            "_view_name": "LayoutView",
            "align_content": null,
            "align_items": null,
            "align_self": null,
            "border": null,
            "bottom": null,
            "display": null,
            "flex": null,
            "flex_flow": null,
            "grid_area": null,
            "grid_auto_columns": null,
            "grid_auto_flow": null,
            "grid_auto_rows": null,
            "grid_column": null,
            "grid_gap": null,
            "grid_row": null,
            "grid_template_areas": null,
            "grid_template_columns": null,
            "grid_template_rows": null,
            "height": null,
            "justify_content": null,
            "justify_items": null,
            "left": null,
            "margin": null,
            "max_height": null,
            "max_width": null,
            "min_height": null,
            "min_width": null,
            "object_fit": null,
            "object_position": null,
            "order": null,
            "overflow": null,
            "overflow_x": null,
            "overflow_y": null,
            "padding": null,
            "right": null,
            "top": null,
            "visibility": null,
            "width": null
          }
        },
        "6df2076c5c5e4fd19166e84b841f5bf6": {
          "model_module": "@jupyter-widgets/controls",
          "model_name": "DescriptionStyleModel",
          "model_module_version": "1.5.0",
          "state": {
            "_model_module": "@jupyter-widgets/controls",
            "_model_module_version": "1.5.0",
            "_model_name": "DescriptionStyleModel",
            "_view_count": null,
            "_view_module": "@jupyter-widgets/base",
            "_view_module_version": "1.2.0",
            "_view_name": "StyleView",
            "description_width": ""
          }
        },
        "0136462783dc4bc197fafc51ad14605e": {
          "model_module": "@jupyter-widgets/base",
          "model_name": "LayoutModel",
          "model_module_version": "1.2.0",
          "state": {
            "_model_module": "@jupyter-widgets/base",
            "_model_module_version": "1.2.0",
            "_model_name": "LayoutModel",
            "_view_count": null,
            "_view_module": "@jupyter-widgets/base",
            "_view_module_version": "1.2.0",
            "_view_name": "LayoutView",
            "align_content": null,
            "align_items": null,
            "align_self": null,
            "border": null,
            "bottom": null,
            "display": null,
            "flex": null,
            "flex_flow": null,
            "grid_area": null,
            "grid_auto_columns": null,
            "grid_auto_flow": null,
            "grid_auto_rows": null,
            "grid_column": null,
            "grid_gap": null,
            "grid_row": null,
            "grid_template_areas": null,
            "grid_template_columns": null,
            "grid_template_rows": null,
            "height": null,
            "justify_content": null,
            "justify_items": null,
            "left": null,
            "margin": null,
            "max_height": null,
            "max_width": null,
            "min_height": null,
            "min_width": null,
            "object_fit": null,
            "object_position": null,
            "order": null,
            "overflow": null,
            "overflow_x": null,
            "overflow_y": null,
            "padding": null,
            "right": null,
            "top": null,
            "visibility": null,
            "width": null
          }
        },
        "9ddc30027f1e452bad4e6d9d1151b5cd": {
          "model_module": "@jupyter-widgets/controls",
          "model_name": "ProgressStyleModel",
          "model_module_version": "1.5.0",
          "state": {
            "_model_module": "@jupyter-widgets/controls",
            "_model_module_version": "1.5.0",
            "_model_name": "ProgressStyleModel",
            "_view_count": null,
            "_view_module": "@jupyter-widgets/base",
            "_view_module_version": "1.2.0",
            "_view_name": "StyleView",
            "bar_color": null,
            "description_width": ""
          }
        },
        "c790cdee0d3e433d8cfc27c3edaf29eb": {
          "model_module": "@jupyter-widgets/base",
          "model_name": "LayoutModel",
          "model_module_version": "1.2.0",
          "state": {
            "_model_module": "@jupyter-widgets/base",
            "_model_module_version": "1.2.0",
            "_model_name": "LayoutModel",
            "_view_count": null,
            "_view_module": "@jupyter-widgets/base",
            "_view_module_version": "1.2.0",
            "_view_name": "LayoutView",
            "align_content": null,
            "align_items": null,
            "align_self": null,
            "border": null,
            "bottom": null,
            "display": null,
            "flex": null,
            "flex_flow": null,
            "grid_area": null,
            "grid_auto_columns": null,
            "grid_auto_flow": null,
            "grid_auto_rows": null,
            "grid_column": null,
            "grid_gap": null,
            "grid_row": null,
            "grid_template_areas": null,
            "grid_template_columns": null,
            "grid_template_rows": null,
            "height": null,
            "justify_content": null,
            "justify_items": null,
            "left": null,
            "margin": null,
            "max_height": null,
            "max_width": null,
            "min_height": null,
            "min_width": null,
            "object_fit": null,
            "object_position": null,
            "order": null,
            "overflow": null,
            "overflow_x": null,
            "overflow_y": null,
            "padding": null,
            "right": null,
            "top": null,
            "visibility": null,
            "width": null
          }
        },
        "38d33bc1f7f041c9a10f271e2b473ec8": {
          "model_module": "@jupyter-widgets/controls",
          "model_name": "DescriptionStyleModel",
          "model_module_version": "1.5.0",
          "state": {
            "_model_module": "@jupyter-widgets/controls",
            "_model_module_version": "1.5.0",
            "_model_name": "DescriptionStyleModel",
            "_view_count": null,
            "_view_module": "@jupyter-widgets/base",
            "_view_module_version": "1.2.0",
            "_view_name": "StyleView",
            "description_width": ""
          }
        },
        "c42a53afe16c4bb895de6421ec2ef332": {
          "model_module": "@jupyter-widgets/controls",
          "model_name": "HBoxModel",
          "model_module_version": "1.5.0",
          "state": {
            "_dom_classes": [],
            "_model_module": "@jupyter-widgets/controls",
            "_model_module_version": "1.5.0",
            "_model_name": "HBoxModel",
            "_view_count": null,
            "_view_module": "@jupyter-widgets/controls",
            "_view_module_version": "1.5.0",
            "_view_name": "HBoxView",
            "box_style": "",
            "children": [
              "IPY_MODEL_3b36587d417d48eba6efa256cdd23a40",
              "IPY_MODEL_76dbabacad1341d0a604e2285ed65292",
              "IPY_MODEL_f0d0e7d848884f8bb87f5da8fe5ccbee"
            ],
            "layout": "IPY_MODEL_67a905fa02f34aa7a12b869fa8dff2ca"
          }
        },
        "3b36587d417d48eba6efa256cdd23a40": {
          "model_module": "@jupyter-widgets/controls",
          "model_name": "HTMLModel",
          "model_module_version": "1.5.0",
          "state": {
            "_dom_classes": [],
            "_model_module": "@jupyter-widgets/controls",
            "_model_module_version": "1.5.0",
            "_model_name": "HTMLModel",
            "_view_count": null,
            "_view_module": "@jupyter-widgets/controls",
            "_view_module_version": "1.5.0",
            "_view_name": "HTMLView",
            "description": "",
            "description_tooltip": null,
            "layout": "IPY_MODEL_08d8b2d25a0a45e6bf6754debe0e0e3f",
            "placeholder": "​",
            "style": "IPY_MODEL_21953724111142ad9d4333bfe7ae2582",
            "value": "Downloading (…)olve/main/merges.txt: 100%"
          }
        },
        "76dbabacad1341d0a604e2285ed65292": {
          "model_module": "@jupyter-widgets/controls",
          "model_name": "FloatProgressModel",
          "model_module_version": "1.5.0",
          "state": {
            "_dom_classes": [],
            "_model_module": "@jupyter-widgets/controls",
            "_model_module_version": "1.5.0",
            "_model_name": "FloatProgressModel",
            "_view_count": null,
            "_view_module": "@jupyter-widgets/controls",
            "_view_module_version": "1.5.0",
            "_view_name": "ProgressView",
            "bar_style": "success",
            "description": "",
            "description_tooltip": null,
            "layout": "IPY_MODEL_e30f1e4d01ea46d691e8f526493cc242",
            "max": 522504,
            "min": 0,
            "orientation": "horizontal",
            "style": "IPY_MODEL_0242e686851543cabec308013062a7b2",
            "value": 522504
          }
        },
        "f0d0e7d848884f8bb87f5da8fe5ccbee": {
          "model_module": "@jupyter-widgets/controls",
          "model_name": "HTMLModel",
          "model_module_version": "1.5.0",
          "state": {
            "_dom_classes": [],
            "_model_module": "@jupyter-widgets/controls",
            "_model_module_version": "1.5.0",
            "_model_name": "HTMLModel",
            "_view_count": null,
            "_view_module": "@jupyter-widgets/controls",
            "_view_module_version": "1.5.0",
            "_view_name": "HTMLView",
            "description": "",
            "description_tooltip": null,
            "layout": "IPY_MODEL_f467370e3c2b476c84b2ee4043c6c8b2",
            "placeholder": "​",
            "style": "IPY_MODEL_3cfbf268209e467586d3431177a595d9",
            "value": " 523k/523k [00:00&lt;00:00, 5.59MB/s]"
          }
        },
        "67a905fa02f34aa7a12b869fa8dff2ca": {
          "model_module": "@jupyter-widgets/base",
          "model_name": "LayoutModel",
          "model_module_version": "1.2.0",
          "state": {
            "_model_module": "@jupyter-widgets/base",
            "_model_module_version": "1.2.0",
            "_model_name": "LayoutModel",
            "_view_count": null,
            "_view_module": "@jupyter-widgets/base",
            "_view_module_version": "1.2.0",
            "_view_name": "LayoutView",
            "align_content": null,
            "align_items": null,
            "align_self": null,
            "border": null,
            "bottom": null,
            "display": null,
            "flex": null,
            "flex_flow": null,
            "grid_area": null,
            "grid_auto_columns": null,
            "grid_auto_flow": null,
            "grid_auto_rows": null,
            "grid_column": null,
            "grid_gap": null,
            "grid_row": null,
            "grid_template_areas": null,
            "grid_template_columns": null,
            "grid_template_rows": null,
            "height": null,
            "justify_content": null,
            "justify_items": null,
            "left": null,
            "margin": null,
            "max_height": null,
            "max_width": null,
            "min_height": null,
            "min_width": null,
            "object_fit": null,
            "object_position": null,
            "order": null,
            "overflow": null,
            "overflow_x": null,
            "overflow_y": null,
            "padding": null,
            "right": null,
            "top": null,
            "visibility": null,
            "width": null
          }
        },
        "08d8b2d25a0a45e6bf6754debe0e0e3f": {
          "model_module": "@jupyter-widgets/base",
          "model_name": "LayoutModel",
          "model_module_version": "1.2.0",
          "state": {
            "_model_module": "@jupyter-widgets/base",
            "_model_module_version": "1.2.0",
            "_model_name": "LayoutModel",
            "_view_count": null,
            "_view_module": "@jupyter-widgets/base",
            "_view_module_version": "1.2.0",
            "_view_name": "LayoutView",
            "align_content": null,
            "align_items": null,
            "align_self": null,
            "border": null,
            "bottom": null,
            "display": null,
            "flex": null,
            "flex_flow": null,
            "grid_area": null,
            "grid_auto_columns": null,
            "grid_auto_flow": null,
            "grid_auto_rows": null,
            "grid_column": null,
            "grid_gap": null,
            "grid_row": null,
            "grid_template_areas": null,
            "grid_template_columns": null,
            "grid_template_rows": null,
            "height": null,
            "justify_content": null,
            "justify_items": null,
            "left": null,
            "margin": null,
            "max_height": null,
            "max_width": null,
            "min_height": null,
            "min_width": null,
            "object_fit": null,
            "object_position": null,
            "order": null,
            "overflow": null,
            "overflow_x": null,
            "overflow_y": null,
            "padding": null,
            "right": null,
            "top": null,
            "visibility": null,
            "width": null
          }
        },
        "21953724111142ad9d4333bfe7ae2582": {
          "model_module": "@jupyter-widgets/controls",
          "model_name": "DescriptionStyleModel",
          "model_module_version": "1.5.0",
          "state": {
            "_model_module": "@jupyter-widgets/controls",
            "_model_module_version": "1.5.0",
            "_model_name": "DescriptionStyleModel",
            "_view_count": null,
            "_view_module": "@jupyter-widgets/base",
            "_view_module_version": "1.2.0",
            "_view_name": "StyleView",
            "description_width": ""
          }
        },
        "e30f1e4d01ea46d691e8f526493cc242": {
          "model_module": "@jupyter-widgets/base",
          "model_name": "LayoutModel",
          "model_module_version": "1.2.0",
          "state": {
            "_model_module": "@jupyter-widgets/base",
            "_model_module_version": "1.2.0",
            "_model_name": "LayoutModel",
            "_view_count": null,
            "_view_module": "@jupyter-widgets/base",
            "_view_module_version": "1.2.0",
            "_view_name": "LayoutView",
            "align_content": null,
            "align_items": null,
            "align_self": null,
            "border": null,
            "bottom": null,
            "display": null,
            "flex": null,
            "flex_flow": null,
            "grid_area": null,
            "grid_auto_columns": null,
            "grid_auto_flow": null,
            "grid_auto_rows": null,
            "grid_column": null,
            "grid_gap": null,
            "grid_row": null,
            "grid_template_areas": null,
            "grid_template_columns": null,
            "grid_template_rows": null,
            "height": null,
            "justify_content": null,
            "justify_items": null,
            "left": null,
            "margin": null,
            "max_height": null,
            "max_width": null,
            "min_height": null,
            "min_width": null,
            "object_fit": null,
            "object_position": null,
            "order": null,
            "overflow": null,
            "overflow_x": null,
            "overflow_y": null,
            "padding": null,
            "right": null,
            "top": null,
            "visibility": null,
            "width": null
          }
        },
        "0242e686851543cabec308013062a7b2": {
          "model_module": "@jupyter-widgets/controls",
          "model_name": "ProgressStyleModel",
          "model_module_version": "1.5.0",
          "state": {
            "_model_module": "@jupyter-widgets/controls",
            "_model_module_version": "1.5.0",
            "_model_name": "ProgressStyleModel",
            "_view_count": null,
            "_view_module": "@jupyter-widgets/base",
            "_view_module_version": "1.2.0",
            "_view_name": "StyleView",
            "bar_color": null,
            "description_width": ""
          }
        },
        "f467370e3c2b476c84b2ee4043c6c8b2": {
          "model_module": "@jupyter-widgets/base",
          "model_name": "LayoutModel",
          "model_module_version": "1.2.0",
          "state": {
            "_model_module": "@jupyter-widgets/base",
            "_model_module_version": "1.2.0",
            "_model_name": "LayoutModel",
            "_view_count": null,
            "_view_module": "@jupyter-widgets/base",
            "_view_module_version": "1.2.0",
            "_view_name": "LayoutView",
            "align_content": null,
            "align_items": null,
            "align_self": null,
            "border": null,
            "bottom": null,
            "display": null,
            "flex": null,
            "flex_flow": null,
            "grid_area": null,
            "grid_auto_columns": null,
            "grid_auto_flow": null,
            "grid_auto_rows": null,
            "grid_column": null,
            "grid_gap": null,
            "grid_row": null,
            "grid_template_areas": null,
            "grid_template_columns": null,
            "grid_template_rows": null,
            "height": null,
            "justify_content": null,
            "justify_items": null,
            "left": null,
            "margin": null,
            "max_height": null,
            "max_width": null,
            "min_height": null,
            "min_width": null,
            "object_fit": null,
            "object_position": null,
            "order": null,
            "overflow": null,
            "overflow_x": null,
            "overflow_y": null,
            "padding": null,
            "right": null,
            "top": null,
            "visibility": null,
            "width": null
          }
        },
        "3cfbf268209e467586d3431177a595d9": {
          "model_module": "@jupyter-widgets/controls",
          "model_name": "DescriptionStyleModel",
          "model_module_version": "1.5.0",
          "state": {
            "_model_module": "@jupyter-widgets/controls",
            "_model_module_version": "1.5.0",
            "_model_name": "DescriptionStyleModel",
            "_view_count": null,
            "_view_module": "@jupyter-widgets/base",
            "_view_module_version": "1.2.0",
            "_view_name": "StyleView",
            "description_width": ""
          }
        },
        "8f27249c42ce475397aeb4d89778a551": {
          "model_module": "@jupyter-widgets/controls",
          "model_name": "HBoxModel",
          "model_module_version": "1.5.0",
          "state": {
            "_dom_classes": [],
            "_model_module": "@jupyter-widgets/controls",
            "_model_module_version": "1.5.0",
            "_model_name": "HBoxModel",
            "_view_count": null,
            "_view_module": "@jupyter-widgets/controls",
            "_view_module_version": "1.5.0",
            "_view_name": "HBoxView",
            "box_style": "",
            "children": [
              "IPY_MODEL_3065e89741e14756a5558ee0201a96e2",
              "IPY_MODEL_8d0d5277a0cd461ab5afe5535743554f",
              "IPY_MODEL_0506d161960f4654884180d666a6965f"
            ],
            "layout": "IPY_MODEL_535dd04f1f094fe5ad2d260b2abbb7c1"
          }
        },
        "3065e89741e14756a5558ee0201a96e2": {
          "model_module": "@jupyter-widgets/controls",
          "model_name": "HTMLModel",
          "model_module_version": "1.5.0",
          "state": {
            "_dom_classes": [],
            "_model_module": "@jupyter-widgets/controls",
            "_model_module_version": "1.5.0",
            "_model_name": "HTMLModel",
            "_view_count": null,
            "_view_module": "@jupyter-widgets/controls",
            "_view_module_version": "1.5.0",
            "_view_name": "HTMLView",
            "description": "",
            "description_tooltip": null,
            "layout": "IPY_MODEL_439bd1ab938f4ff08fd542af1f377762",
            "placeholder": "​",
            "style": "IPY_MODEL_e2094bfd2a984117876551df33d06fe9",
            "value": "Downloading (…)cial_tokens_map.json: 100%"
          }
        },
        "8d0d5277a0cd461ab5afe5535743554f": {
          "model_module": "@jupyter-widgets/controls",
          "model_name": "FloatProgressModel",
          "model_module_version": "1.5.0",
          "state": {
            "_dom_classes": [],
            "_model_module": "@jupyter-widgets/controls",
            "_model_module_version": "1.5.0",
            "_model_name": "FloatProgressModel",
            "_view_count": null,
            "_view_module": "@jupyter-widgets/controls",
            "_view_module_version": "1.5.0",
            "_view_name": "ProgressView",
            "bar_style": "success",
            "description": "",
            "description_tooltip": null,
            "layout": "IPY_MODEL_893cc0a08a4c48f191e535e94a3ff2c9",
            "max": 957,
            "min": 0,
            "orientation": "horizontal",
            "style": "IPY_MODEL_22311b9623b04f2490d2bd473d9ac030",
            "value": 957
          }
        },
        "0506d161960f4654884180d666a6965f": {
          "model_module": "@jupyter-widgets/controls",
          "model_name": "HTMLModel",
          "model_module_version": "1.5.0",
          "state": {
            "_dom_classes": [],
            "_model_module": "@jupyter-widgets/controls",
            "_model_module_version": "1.5.0",
            "_model_name": "HTMLModel",
            "_view_count": null,
            "_view_module": "@jupyter-widgets/controls",
            "_view_module_version": "1.5.0",
            "_view_name": "HTMLView",
            "description": "",
            "description_tooltip": null,
            "layout": "IPY_MODEL_fe6eff01a83f4afcbc1eb65abc9ec2c4",
            "placeholder": "​",
            "style": "IPY_MODEL_001a370374374646b9b860dccf7a3e10",
            "value": " 957/957 [00:00&lt;00:00, 42.2kB/s]"
          }
        },
        "535dd04f1f094fe5ad2d260b2abbb7c1": {
          "model_module": "@jupyter-widgets/base",
          "model_name": "LayoutModel",
          "model_module_version": "1.2.0",
          "state": {
            "_model_module": "@jupyter-widgets/base",
            "_model_module_version": "1.2.0",
            "_model_name": "LayoutModel",
            "_view_count": null,
            "_view_module": "@jupyter-widgets/base",
            "_view_module_version": "1.2.0",
            "_view_name": "LayoutView",
            "align_content": null,
            "align_items": null,
            "align_self": null,
            "border": null,
            "bottom": null,
            "display": null,
            "flex": null,
            "flex_flow": null,
            "grid_area": null,
            "grid_auto_columns": null,
            "grid_auto_flow": null,
            "grid_auto_rows": null,
            "grid_column": null,
            "grid_gap": null,
            "grid_row": null,
            "grid_template_areas": null,
            "grid_template_columns": null,
            "grid_template_rows": null,
            "height": null,
            "justify_content": null,
            "justify_items": null,
            "left": null,
            "margin": null,
            "max_height": null,
            "max_width": null,
            "min_height": null,
            "min_width": null,
            "object_fit": null,
            "object_position": null,
            "order": null,
            "overflow": null,
            "overflow_x": null,
            "overflow_y": null,
            "padding": null,
            "right": null,
            "top": null,
            "visibility": null,
            "width": null
          }
        },
        "439bd1ab938f4ff08fd542af1f377762": {
          "model_module": "@jupyter-widgets/base",
          "model_name": "LayoutModel",
          "model_module_version": "1.2.0",
          "state": {
            "_model_module": "@jupyter-widgets/base",
            "_model_module_version": "1.2.0",
            "_model_name": "LayoutModel",
            "_view_count": null,
            "_view_module": "@jupyter-widgets/base",
            "_view_module_version": "1.2.0",
            "_view_name": "LayoutView",
            "align_content": null,
            "align_items": null,
            "align_self": null,
            "border": null,
            "bottom": null,
            "display": null,
            "flex": null,
            "flex_flow": null,
            "grid_area": null,
            "grid_auto_columns": null,
            "grid_auto_flow": null,
            "grid_auto_rows": null,
            "grid_column": null,
            "grid_gap": null,
            "grid_row": null,
            "grid_template_areas": null,
            "grid_template_columns": null,
            "grid_template_rows": null,
            "height": null,
            "justify_content": null,
            "justify_items": null,
            "left": null,
            "margin": null,
            "max_height": null,
            "max_width": null,
            "min_height": null,
            "min_width": null,
            "object_fit": null,
            "object_position": null,
            "order": null,
            "overflow": null,
            "overflow_x": null,
            "overflow_y": null,
            "padding": null,
            "right": null,
            "top": null,
            "visibility": null,
            "width": null
          }
        },
        "e2094bfd2a984117876551df33d06fe9": {
          "model_module": "@jupyter-widgets/controls",
          "model_name": "DescriptionStyleModel",
          "model_module_version": "1.5.0",
          "state": {
            "_model_module": "@jupyter-widgets/controls",
            "_model_module_version": "1.5.0",
            "_model_name": "DescriptionStyleModel",
            "_view_count": null,
            "_view_module": "@jupyter-widgets/base",
            "_view_module_version": "1.2.0",
            "_view_name": "StyleView",
            "description_width": ""
          }
        },
        "893cc0a08a4c48f191e535e94a3ff2c9": {
          "model_module": "@jupyter-widgets/base",
          "model_name": "LayoutModel",
          "model_module_version": "1.2.0",
          "state": {
            "_model_module": "@jupyter-widgets/base",
            "_model_module_version": "1.2.0",
            "_model_name": "LayoutModel",
            "_view_count": null,
            "_view_module": "@jupyter-widgets/base",
            "_view_module_version": "1.2.0",
            "_view_name": "LayoutView",
            "align_content": null,
            "align_items": null,
            "align_self": null,
            "border": null,
            "bottom": null,
            "display": null,
            "flex": null,
            "flex_flow": null,
            "grid_area": null,
            "grid_auto_columns": null,
            "grid_auto_flow": null,
            "grid_auto_rows": null,
            "grid_column": null,
            "grid_gap": null,
            "grid_row": null,
            "grid_template_areas": null,
            "grid_template_columns": null,
            "grid_template_rows": null,
            "height": null,
            "justify_content": null,
            "justify_items": null,
            "left": null,
            "margin": null,
            "max_height": null,
            "max_width": null,
            "min_height": null,
            "min_width": null,
            "object_fit": null,
            "object_position": null,
            "order": null,
            "overflow": null,
            "overflow_x": null,
            "overflow_y": null,
            "padding": null,
            "right": null,
            "top": null,
            "visibility": null,
            "width": null
          }
        },
        "22311b9623b04f2490d2bd473d9ac030": {
          "model_module": "@jupyter-widgets/controls",
          "model_name": "ProgressStyleModel",
          "model_module_version": "1.5.0",
          "state": {
            "_model_module": "@jupyter-widgets/controls",
            "_model_module_version": "1.5.0",
            "_model_name": "ProgressStyleModel",
            "_view_count": null,
            "_view_module": "@jupyter-widgets/base",
            "_view_module_version": "1.2.0",
            "_view_name": "StyleView",
            "bar_color": null,
            "description_width": ""
          }
        },
        "fe6eff01a83f4afcbc1eb65abc9ec2c4": {
          "model_module": "@jupyter-widgets/base",
          "model_name": "LayoutModel",
          "model_module_version": "1.2.0",
          "state": {
            "_model_module": "@jupyter-widgets/base",
            "_model_module_version": "1.2.0",
            "_model_name": "LayoutModel",
            "_view_count": null,
            "_view_module": "@jupyter-widgets/base",
            "_view_module_version": "1.2.0",
            "_view_name": "LayoutView",
            "align_content": null,
            "align_items": null,
            "align_self": null,
            "border": null,
            "bottom": null,
            "display": null,
            "flex": null,
            "flex_flow": null,
            "grid_area": null,
            "grid_auto_columns": null,
            "grid_auto_flow": null,
            "grid_auto_rows": null,
            "grid_column": null,
            "grid_gap": null,
            "grid_row": null,
            "grid_template_areas": null,
            "grid_template_columns": null,
            "grid_template_rows": null,
            "height": null,
            "justify_content": null,
            "justify_items": null,
            "left": null,
            "margin": null,
            "max_height": null,
            "max_width": null,
            "min_height": null,
            "min_width": null,
            "object_fit": null,
            "object_position": null,
            "order": null,
            "overflow": null,
            "overflow_x": null,
            "overflow_y": null,
            "padding": null,
            "right": null,
            "top": null,
            "visibility": null,
            "width": null
          }
        },
        "001a370374374646b9b860dccf7a3e10": {
          "model_module": "@jupyter-widgets/controls",
          "model_name": "DescriptionStyleModel",
          "model_module_version": "1.5.0",
          "state": {
            "_model_module": "@jupyter-widgets/controls",
            "_model_module_version": "1.5.0",
            "_model_name": "DescriptionStyleModel",
            "_view_count": null,
            "_view_module": "@jupyter-widgets/base",
            "_view_module_version": "1.2.0",
            "_view_name": "StyleView",
            "description_width": ""
          }
        },
        "ae6c61e61b34405eb2e1416723a0dff5": {
          "model_module": "@jupyter-widgets/controls",
          "model_name": "HBoxModel",
          "model_module_version": "1.5.0",
          "state": {
            "_dom_classes": [],
            "_model_module": "@jupyter-widgets/controls",
            "_model_module_version": "1.5.0",
            "_model_name": "HBoxModel",
            "_view_count": null,
            "_view_module": "@jupyter-widgets/controls",
            "_view_module_version": "1.5.0",
            "_view_name": "HBoxView",
            "box_style": "",
            "children": [
              "IPY_MODEL_d2ad601b90074a92b3daf8b27fa3d051",
              "IPY_MODEL_799361fa3b964006a65d9514df032463",
              "IPY_MODEL_b7d513521e9d4442b9c838e348263797"
            ],
            "layout": "IPY_MODEL_575eabe6e267442baff553b53b563978"
          }
        },
        "d2ad601b90074a92b3daf8b27fa3d051": {
          "model_module": "@jupyter-widgets/controls",
          "model_name": "HTMLModel",
          "model_module_version": "1.5.0",
          "state": {
            "_dom_classes": [],
            "_model_module": "@jupyter-widgets/controls",
            "_model_module_version": "1.5.0",
            "_model_name": "HTMLModel",
            "_view_count": null,
            "_view_module": "@jupyter-widgets/controls",
            "_view_module_version": "1.5.0",
            "_view_name": "HTMLView",
            "description": "",
            "description_tooltip": null,
            "layout": "IPY_MODEL_1dc4aab14c71423a846585b2e5d54314",
            "placeholder": "​",
            "style": "IPY_MODEL_4dbfce596cc94215bbae1729a778bb6c",
            "value": "Downloading (…)lve/main/config.json: 100%"
          }
        },
        "799361fa3b964006a65d9514df032463": {
          "model_module": "@jupyter-widgets/controls",
          "model_name": "FloatProgressModel",
          "model_module_version": "1.5.0",
          "state": {
            "_dom_classes": [],
            "_model_module": "@jupyter-widgets/controls",
            "_model_module_version": "1.5.0",
            "_model_name": "FloatProgressModel",
            "_view_count": null,
            "_view_module": "@jupyter-widgets/controls",
            "_view_module_version": "1.5.0",
            "_view_name": "ProgressView",
            "bar_style": "success",
            "description": "",
            "description_tooltip": null,
            "layout": "IPY_MODEL_d247277e22604b38b548ed02ef6bd64a",
            "max": 1119,
            "min": 0,
            "orientation": "horizontal",
            "style": "IPY_MODEL_0db6d5a818b34d6d9fd5554ff1064901",
            "value": 1119
          }
        },
        "b7d513521e9d4442b9c838e348263797": {
          "model_module": "@jupyter-widgets/controls",
          "model_name": "HTMLModel",
          "model_module_version": "1.5.0",
          "state": {
            "_dom_classes": [],
            "_model_module": "@jupyter-widgets/controls",
            "_model_module_version": "1.5.0",
            "_model_name": "HTMLModel",
            "_view_count": null,
            "_view_module": "@jupyter-widgets/controls",
            "_view_module_version": "1.5.0",
            "_view_name": "HTMLView",
            "description": "",
            "description_tooltip": null,
            "layout": "IPY_MODEL_03857dcc82534ba184c1c8e726c06aab",
            "placeholder": "​",
            "style": "IPY_MODEL_6380b03fabef420aa8fd3a79563c7aaf",
            "value": " 1.12k/1.12k [00:00&lt;00:00, 42.0kB/s]"
          }
        },
        "575eabe6e267442baff553b53b563978": {
          "model_module": "@jupyter-widgets/base",
          "model_name": "LayoutModel",
          "model_module_version": "1.2.0",
          "state": {
            "_model_module": "@jupyter-widgets/base",
            "_model_module_version": "1.2.0",
            "_model_name": "LayoutModel",
            "_view_count": null,
            "_view_module": "@jupyter-widgets/base",
            "_view_module_version": "1.2.0",
            "_view_name": "LayoutView",
            "align_content": null,
            "align_items": null,
            "align_self": null,
            "border": null,
            "bottom": null,
            "display": null,
            "flex": null,
            "flex_flow": null,
            "grid_area": null,
            "grid_auto_columns": null,
            "grid_auto_flow": null,
            "grid_auto_rows": null,
            "grid_column": null,
            "grid_gap": null,
            "grid_row": null,
            "grid_template_areas": null,
            "grid_template_columns": null,
            "grid_template_rows": null,
            "height": null,
            "justify_content": null,
            "justify_items": null,
            "left": null,
            "margin": null,
            "max_height": null,
            "max_width": null,
            "min_height": null,
            "min_width": null,
            "object_fit": null,
            "object_position": null,
            "order": null,
            "overflow": null,
            "overflow_x": null,
            "overflow_y": null,
            "padding": null,
            "right": null,
            "top": null,
            "visibility": null,
            "width": null
          }
        },
        "1dc4aab14c71423a846585b2e5d54314": {
          "model_module": "@jupyter-widgets/base",
          "model_name": "LayoutModel",
          "model_module_version": "1.2.0",
          "state": {
            "_model_module": "@jupyter-widgets/base",
            "_model_module_version": "1.2.0",
            "_model_name": "LayoutModel",
            "_view_count": null,
            "_view_module": "@jupyter-widgets/base",
            "_view_module_version": "1.2.0",
            "_view_name": "LayoutView",
            "align_content": null,
            "align_items": null,
            "align_self": null,
            "border": null,
            "bottom": null,
            "display": null,
            "flex": null,
            "flex_flow": null,
            "grid_area": null,
            "grid_auto_columns": null,
            "grid_auto_flow": null,
            "grid_auto_rows": null,
            "grid_column": null,
            "grid_gap": null,
            "grid_row": null,
            "grid_template_areas": null,
            "grid_template_columns": null,
            "grid_template_rows": null,
            "height": null,
            "justify_content": null,
            "justify_items": null,
            "left": null,
            "margin": null,
            "max_height": null,
            "max_width": null,
            "min_height": null,
            "min_width": null,
            "object_fit": null,
            "object_position": null,
            "order": null,
            "overflow": null,
            "overflow_x": null,
            "overflow_y": null,
            "padding": null,
            "right": null,
            "top": null,
            "visibility": null,
            "width": null
          }
        },
        "4dbfce596cc94215bbae1729a778bb6c": {
          "model_module": "@jupyter-widgets/controls",
          "model_name": "DescriptionStyleModel",
          "model_module_version": "1.5.0",
          "state": {
            "_model_module": "@jupyter-widgets/controls",
            "_model_module_version": "1.5.0",
            "_model_name": "DescriptionStyleModel",
            "_view_count": null,
            "_view_module": "@jupyter-widgets/base",
            "_view_module_version": "1.2.0",
            "_view_name": "StyleView",
            "description_width": ""
          }
        },
        "d247277e22604b38b548ed02ef6bd64a": {
          "model_module": "@jupyter-widgets/base",
          "model_name": "LayoutModel",
          "model_module_version": "1.2.0",
          "state": {
            "_model_module": "@jupyter-widgets/base",
            "_model_module_version": "1.2.0",
            "_model_name": "LayoutModel",
            "_view_count": null,
            "_view_module": "@jupyter-widgets/base",
            "_view_module_version": "1.2.0",
            "_view_name": "LayoutView",
            "align_content": null,
            "align_items": null,
            "align_self": null,
            "border": null,
            "bottom": null,
            "display": null,
            "flex": null,
            "flex_flow": null,
            "grid_area": null,
            "grid_auto_columns": null,
            "grid_auto_flow": null,
            "grid_auto_rows": null,
            "grid_column": null,
            "grid_gap": null,
            "grid_row": null,
            "grid_template_areas": null,
            "grid_template_columns": null,
            "grid_template_rows": null,
            "height": null,
            "justify_content": null,
            "justify_items": null,
            "left": null,
            "margin": null,
            "max_height": null,
            "max_width": null,
            "min_height": null,
            "min_width": null,
            "object_fit": null,
            "object_position": null,
            "order": null,
            "overflow": null,
            "overflow_x": null,
            "overflow_y": null,
            "padding": null,
            "right": null,
            "top": null,
            "visibility": null,
            "width": null
          }
        },
        "0db6d5a818b34d6d9fd5554ff1064901": {
          "model_module": "@jupyter-widgets/controls",
          "model_name": "ProgressStyleModel",
          "model_module_version": "1.5.0",
          "state": {
            "_model_module": "@jupyter-widgets/controls",
            "_model_module_version": "1.5.0",
            "_model_name": "ProgressStyleModel",
            "_view_count": null,
            "_view_module": "@jupyter-widgets/base",
            "_view_module_version": "1.2.0",
            "_view_name": "StyleView",
            "bar_color": null,
            "description_width": ""
          }
        },
        "03857dcc82534ba184c1c8e726c06aab": {
          "model_module": "@jupyter-widgets/base",
          "model_name": "LayoutModel",
          "model_module_version": "1.2.0",
          "state": {
            "_model_module": "@jupyter-widgets/base",
            "_model_module_version": "1.2.0",
            "_model_name": "LayoutModel",
            "_view_count": null,
            "_view_module": "@jupyter-widgets/base",
            "_view_module_version": "1.2.0",
            "_view_name": "LayoutView",
            "align_content": null,
            "align_items": null,
            "align_self": null,
            "border": null,
            "bottom": null,
            "display": null,
            "flex": null,
            "flex_flow": null,
            "grid_area": null,
            "grid_auto_columns": null,
            "grid_auto_flow": null,
            "grid_auto_rows": null,
            "grid_column": null,
            "grid_gap": null,
            "grid_row": null,
            "grid_template_areas": null,
            "grid_template_columns": null,
            "grid_template_rows": null,
            "height": null,
            "justify_content": null,
            "justify_items": null,
            "left": null,
            "margin": null,
            "max_height": null,
            "max_width": null,
            "min_height": null,
            "min_width": null,
            "object_fit": null,
            "object_position": null,
            "order": null,
            "overflow": null,
            "overflow_x": null,
            "overflow_y": null,
            "padding": null,
            "right": null,
            "top": null,
            "visibility": null,
            "width": null
          }
        },
        "6380b03fabef420aa8fd3a79563c7aaf": {
          "model_module": "@jupyter-widgets/controls",
          "model_name": "DescriptionStyleModel",
          "model_module_version": "1.5.0",
          "state": {
            "_model_module": "@jupyter-widgets/controls",
            "_model_module_version": "1.5.0",
            "_model_name": "DescriptionStyleModel",
            "_view_count": null,
            "_view_module": "@jupyter-widgets/base",
            "_view_module_version": "1.2.0",
            "_view_name": "StyleView",
            "description_width": ""
          }
        },
        "8e6c3cb68e084eee95bfa634efd9df3e": {
          "model_module": "@jupyter-widgets/controls",
          "model_name": "HBoxModel",
          "model_module_version": "1.5.0",
          "state": {
            "_dom_classes": [],
            "_model_module": "@jupyter-widgets/controls",
            "_model_module_version": "1.5.0",
            "_model_name": "HBoxModel",
            "_view_count": null,
            "_view_module": "@jupyter-widgets/controls",
            "_view_module_version": "1.5.0",
            "_view_name": "HBoxView",
            "box_style": "",
            "children": [
              "IPY_MODEL_8248ba8526714eef89a2e5f4a8521e21",
              "IPY_MODEL_a1f26dc61061423194c215516d076d55",
              "IPY_MODEL_0fcebb7bf21a42a5a9f7fda198822d45"
            ],
            "layout": "IPY_MODEL_a4a74da7fcae44ecbc1d14bbb9610557"
          }
        },
        "8248ba8526714eef89a2e5f4a8521e21": {
          "model_module": "@jupyter-widgets/controls",
          "model_name": "HTMLModel",
          "model_module_version": "1.5.0",
          "state": {
            "_dom_classes": [],
            "_model_module": "@jupyter-widgets/controls",
            "_model_module_version": "1.5.0",
            "_model_name": "HTMLModel",
            "_view_count": null,
            "_view_module": "@jupyter-widgets/controls",
            "_view_module_version": "1.5.0",
            "_view_name": "HTMLView",
            "description": "",
            "description_tooltip": null,
            "layout": "IPY_MODEL_557c6aa60514403e9a8aa50828122170",
            "placeholder": "​",
            "style": "IPY_MODEL_9c9018a9e6cb41da8d4bf11b66264199",
            "value": "Downloading pytorch_model.bin: 100%"
          }
        },
        "a1f26dc61061423194c215516d076d55": {
          "model_module": "@jupyter-widgets/controls",
          "model_name": "FloatProgressModel",
          "model_module_version": "1.5.0",
          "state": {
            "_dom_classes": [],
            "_model_module": "@jupyter-widgets/controls",
            "_model_module_version": "1.5.0",
            "_model_name": "FloatProgressModel",
            "_view_count": null,
            "_view_module": "@jupyter-widgets/controls",
            "_view_module_version": "1.5.0",
            "_view_name": "ProgressView",
            "bar_style": "success",
            "description": "",
            "description_tooltip": null,
            "layout": "IPY_MODEL_c48d7e04c8c3437983a9e353203c7068",
            "max": 498671285,
            "min": 0,
            "orientation": "horizontal",
            "style": "IPY_MODEL_8cbc2d94e7614f40b76e9e9424d2fe48",
            "value": 498671285
          }
        },
        "0fcebb7bf21a42a5a9f7fda198822d45": {
          "model_module": "@jupyter-widgets/controls",
          "model_name": "HTMLModel",
          "model_module_version": "1.5.0",
          "state": {
            "_dom_classes": [],
            "_model_module": "@jupyter-widgets/controls",
            "_model_module_version": "1.5.0",
            "_model_name": "HTMLModel",
            "_view_count": null,
            "_view_module": "@jupyter-widgets/controls",
            "_view_module_version": "1.5.0",
            "_view_name": "HTMLView",
            "description": "",
            "description_tooltip": null,
            "layout": "IPY_MODEL_cd2ecdc04af34e7db32bd5f10259a3eb",
            "placeholder": "​",
            "style": "IPY_MODEL_306ef5fc7f054cbebf94340df89f61f5",
            "value": " 499M/499M [00:22&lt;00:00, 21.2MB/s]"
          }
        },
        "a4a74da7fcae44ecbc1d14bbb9610557": {
          "model_module": "@jupyter-widgets/base",
          "model_name": "LayoutModel",
          "model_module_version": "1.2.0",
          "state": {
            "_model_module": "@jupyter-widgets/base",
            "_model_module_version": "1.2.0",
            "_model_name": "LayoutModel",
            "_view_count": null,
            "_view_module": "@jupyter-widgets/base",
            "_view_module_version": "1.2.0",
            "_view_name": "LayoutView",
            "align_content": null,
            "align_items": null,
            "align_self": null,
            "border": null,
            "bottom": null,
            "display": null,
            "flex": null,
            "flex_flow": null,
            "grid_area": null,
            "grid_auto_columns": null,
            "grid_auto_flow": null,
            "grid_auto_rows": null,
            "grid_column": null,
            "grid_gap": null,
            "grid_row": null,
            "grid_template_areas": null,
            "grid_template_columns": null,
            "grid_template_rows": null,
            "height": null,
            "justify_content": null,
            "justify_items": null,
            "left": null,
            "margin": null,
            "max_height": null,
            "max_width": null,
            "min_height": null,
            "min_width": null,
            "object_fit": null,
            "object_position": null,
            "order": null,
            "overflow": null,
            "overflow_x": null,
            "overflow_y": null,
            "padding": null,
            "right": null,
            "top": null,
            "visibility": null,
            "width": null
          }
        },
        "557c6aa60514403e9a8aa50828122170": {
          "model_module": "@jupyter-widgets/base",
          "model_name": "LayoutModel",
          "model_module_version": "1.2.0",
          "state": {
            "_model_module": "@jupyter-widgets/base",
            "_model_module_version": "1.2.0",
            "_model_name": "LayoutModel",
            "_view_count": null,
            "_view_module": "@jupyter-widgets/base",
            "_view_module_version": "1.2.0",
            "_view_name": "LayoutView",
            "align_content": null,
            "align_items": null,
            "align_self": null,
            "border": null,
            "bottom": null,
            "display": null,
            "flex": null,
            "flex_flow": null,
            "grid_area": null,
            "grid_auto_columns": null,
            "grid_auto_flow": null,
            "grid_auto_rows": null,
            "grid_column": null,
            "grid_gap": null,
            "grid_row": null,
            "grid_template_areas": null,
            "grid_template_columns": null,
            "grid_template_rows": null,
            "height": null,
            "justify_content": null,
            "justify_items": null,
            "left": null,
            "margin": null,
            "max_height": null,
            "max_width": null,
            "min_height": null,
            "min_width": null,
            "object_fit": null,
            "object_position": null,
            "order": null,
            "overflow": null,
            "overflow_x": null,
            "overflow_y": null,
            "padding": null,
            "right": null,
            "top": null,
            "visibility": null,
            "width": null
          }
        },
        "9c9018a9e6cb41da8d4bf11b66264199": {
          "model_module": "@jupyter-widgets/controls",
          "model_name": "DescriptionStyleModel",
          "model_module_version": "1.5.0",
          "state": {
            "_model_module": "@jupyter-widgets/controls",
            "_model_module_version": "1.5.0",
            "_model_name": "DescriptionStyleModel",
            "_view_count": null,
            "_view_module": "@jupyter-widgets/base",
            "_view_module_version": "1.2.0",
            "_view_name": "StyleView",
            "description_width": ""
          }
        },
        "c48d7e04c8c3437983a9e353203c7068": {
          "model_module": "@jupyter-widgets/base",
          "model_name": "LayoutModel",
          "model_module_version": "1.2.0",
          "state": {
            "_model_module": "@jupyter-widgets/base",
            "_model_module_version": "1.2.0",
            "_model_name": "LayoutModel",
            "_view_count": null,
            "_view_module": "@jupyter-widgets/base",
            "_view_module_version": "1.2.0",
            "_view_name": "LayoutView",
            "align_content": null,
            "align_items": null,
            "align_self": null,
            "border": null,
            "bottom": null,
            "display": null,
            "flex": null,
            "flex_flow": null,
            "grid_area": null,
            "grid_auto_columns": null,
            "grid_auto_flow": null,
            "grid_auto_rows": null,
            "grid_column": null,
            "grid_gap": null,
            "grid_row": null,
            "grid_template_areas": null,
            "grid_template_columns": null,
            "grid_template_rows": null,
            "height": null,
            "justify_content": null,
            "justify_items": null,
            "left": null,
            "margin": null,
            "max_height": null,
            "max_width": null,
            "min_height": null,
            "min_width": null,
            "object_fit": null,
            "object_position": null,
            "order": null,
            "overflow": null,
            "overflow_x": null,
            "overflow_y": null,
            "padding": null,
            "right": null,
            "top": null,
            "visibility": null,
            "width": null
          }
        },
        "8cbc2d94e7614f40b76e9e9424d2fe48": {
          "model_module": "@jupyter-widgets/controls",
          "model_name": "ProgressStyleModel",
          "model_module_version": "1.5.0",
          "state": {
            "_model_module": "@jupyter-widgets/controls",
            "_model_module_version": "1.5.0",
            "_model_name": "ProgressStyleModel",
            "_view_count": null,
            "_view_module": "@jupyter-widgets/base",
            "_view_module_version": "1.2.0",
            "_view_name": "StyleView",
            "bar_color": null,
            "description_width": ""
          }
        },
        "cd2ecdc04af34e7db32bd5f10259a3eb": {
          "model_module": "@jupyter-widgets/base",
          "model_name": "LayoutModel",
          "model_module_version": "1.2.0",
          "state": {
            "_model_module": "@jupyter-widgets/base",
            "_model_module_version": "1.2.0",
            "_model_name": "LayoutModel",
            "_view_count": null,
            "_view_module": "@jupyter-widgets/base",
            "_view_module_version": "1.2.0",
            "_view_name": "LayoutView",
            "align_content": null,
            "align_items": null,
            "align_self": null,
            "border": null,
            "bottom": null,
            "display": null,
            "flex": null,
            "flex_flow": null,
            "grid_area": null,
            "grid_auto_columns": null,
            "grid_auto_flow": null,
            "grid_auto_rows": null,
            "grid_column": null,
            "grid_gap": null,
            "grid_row": null,
            "grid_template_areas": null,
            "grid_template_columns": null,
            "grid_template_rows": null,
            "height": null,
            "justify_content": null,
            "justify_items": null,
            "left": null,
            "margin": null,
            "max_height": null,
            "max_width": null,
            "min_height": null,
            "min_width": null,
            "object_fit": null,
            "object_position": null,
            "order": null,
            "overflow": null,
            "overflow_x": null,
            "overflow_y": null,
            "padding": null,
            "right": null,
            "top": null,
            "visibility": null,
            "width": null
          }
        },
        "306ef5fc7f054cbebf94340df89f61f5": {
          "model_module": "@jupyter-widgets/controls",
          "model_name": "DescriptionStyleModel",
          "model_module_version": "1.5.0",
          "state": {
            "_model_module": "@jupyter-widgets/controls",
            "_model_module_version": "1.5.0",
            "_model_name": "DescriptionStyleModel",
            "_view_count": null,
            "_view_module": "@jupyter-widgets/base",
            "_view_module_version": "1.2.0",
            "_view_name": "StyleView",
            "description_width": ""
          }
        }
      }
    }
  },
  "nbformat": 4,
  "nbformat_minor": 5
}
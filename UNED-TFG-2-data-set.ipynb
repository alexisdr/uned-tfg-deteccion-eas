{
  "cells": [
    {
      "cell_type": "markdown",
      "metadata": {
        "id": "view-in-github",
        "colab_type": "text"
      },
      "source": [
        "<a href=\"https://colab.research.google.com/github/alexisdr/uned-tfg/blob/main/UNED-TFG-2-data-set.ipynb\" target=\"_parent\"><img src=\"https://colab.research.google.com/assets/colab-badge.svg\" alt=\"Open In Colab\"/></a>"
      ]
    },
    {
      "cell_type": "markdown",
      "metadata": {
        "id": "hg_U-n05Iwo9"
      },
      "source": [
        "# Creación del Dataset\n",
        "\n",
        "Durante este proceso se crea un dataset con lo datos procesados y listos para el entrenamiento del modelo."
      ]
    },
    {
      "cell_type": "markdown",
      "metadata": {
        "id": "H7uHO0xNibAs"
      },
      "source": [
        "# Parametros\n",
        "\n",
        "*  GoldStandardTrainingEAs.txt: contiene una relación de IDS de actos clínicos seguidos de una lista de uno o varios códigos EAs, en caso de que sean aplicables, o NONE en caso de no se haya idetnificado ningún código de efecto adverso. Todos los valores están separados por espacios. Ejemplos:\n",
        "```\n",
        "24866017 T50.2X5A\n",
        "27448436 T83.021A T83.511A T83.091A Y84.6\n",
        "25205191 NONE\n",
        "```\n",
        "*  GoldStandardTestEAs.txt: equivalente al anterior pero con los datos del conjunto de pruebas.\n",
        "*  Training: carpeta que contiene todos los informes médicos del conjunto de entrenamiento. El nombre del archivo está compuesto por el acto clínico y el identificador del informe. Ejemplo: 23062488-158483734.txt\n",
        "*  Training: equivalente a training pero con el conjunto de pruebas.\n",
        "* dataset_path: ruta en el que se almacenará el dataset\n",
        "* labels_file: ruta en la que se almacenará la lista de etiquetas"
      ]
    },
    {
      "cell_type": "code",
      "execution_count": 1,
      "metadata": {
        "id": "rhtVG5QtiYkr"
      },
      "outputs": [],
      "source": [
        "ruta_base = '/drive/My Drive/CorpusPFG/'\n",
        "\n",
        "#Datos de origen\n",
        "ruta_archivo_GoldStandardTrainingEA = ruta_base + 'GoldStandardTrainingEAs.txt'\n",
        "ruta_archivo_GoldStandardTestEA = ruta_base + 'GoldStandardTestEAs.txt'\n",
        "ruta_archivos_entrenamiento = ruta_base + 'Training/'\n",
        "ruta_archivos_test = ruta_base + 'Test/'\n",
        "\n",
        "#Dataset procesado\n",
        "ruta_dataset = ruta_base + 'Dataset'"
      ]
    },
    {
      "cell_type": "code",
      "execution_count": 2,
      "metadata": {
        "id": "2LNboFxnxK--",
        "colab": {
          "base_uri": "https://localhost:8080/"
        },
        "outputId": "98b5cf18-0840-44c4-f903-0162ff6a9e98"
      },
      "outputs": [
        {
          "output_type": "stream",
          "name": "stdout",
          "text": [
            "\u001b[?25l     \u001b[90m━━━━━━━━━━━━━━━━━━━━━━━━━━━━━━━━━━━━━━━━\u001b[0m \u001b[32m0.0/474.6 kB\u001b[0m \u001b[31m?\u001b[0m eta \u001b[36m-:--:--\u001b[0m\r\u001b[2K     \u001b[91m━━━━━━━━━━━━━━━━━━━━━━━━━\u001b[0m\u001b[90m╺\u001b[0m\u001b[90m━━━━━━━━━━━━━\u001b[0m \u001b[32m307.2/474.6 kB\u001b[0m \u001b[31m9.9 MB/s\u001b[0m eta \u001b[36m0:00:01\u001b[0m\r\u001b[2K     \u001b[90m━━━━━━━━━━━━━━━━━━━━━━━━━━━━━━━━━━━━━━━\u001b[0m \u001b[32m474.6/474.6 kB\u001b[0m \u001b[31m7.7 MB/s\u001b[0m eta \u001b[36m0:00:00\u001b[0m\n",
            "\u001b[2K     \u001b[90m━━━━━━━━━━━━━━━━━━━━━━━━━━━━━━━━━━━━━━\u001b[0m \u001b[32m235.9/235.9 kB\u001b[0m \u001b[31m12.0 MB/s\u001b[0m eta \u001b[36m0:00:00\u001b[0m\n",
            "\u001b[2K     \u001b[90m━━━━━━━━━━━━━━━━━━━━━━━━━━━━━━━━━━━━━━━\u001b[0m \u001b[32m110.5/110.5 kB\u001b[0m \u001b[31m7.2 MB/s\u001b[0m eta \u001b[36m0:00:00\u001b[0m\n",
            "\u001b[2K     \u001b[90m━━━━━━━━━━━━━━━━━━━━━━━━━━━━━━━━━━━━━━━\u001b[0m \u001b[32m212.5/212.5 kB\u001b[0m \u001b[31m9.1 MB/s\u001b[0m eta \u001b[36m0:00:00\u001b[0m\n",
            "\u001b[2K     \u001b[90m━━━━━━━━━━━━━━━━━━━━━━━━━━━━━━━━━━━━━━━\u001b[0m \u001b[32m134.3/134.3 kB\u001b[0m \u001b[31m6.3 MB/s\u001b[0m eta \u001b[36m0:00:00\u001b[0m\n",
            "\u001b[2K     \u001b[90m━━━━━━━━━━━━━━━━━━━━━━━━━━━━━━━━━━━━━━━━\u001b[0m \u001b[32m1.0/1.0 MB\u001b[0m \u001b[31m19.5 MB/s\u001b[0m eta \u001b[36m0:00:00\u001b[0m\n",
            "\u001b[2K     \u001b[90m━━━━━━━━━━━━━━━━━━━━━━━━━━━━━━━━━━━━━━\u001b[0m \u001b[32m224.5/224.5 kB\u001b[0m \u001b[31m10.1 MB/s\u001b[0m eta \u001b[36m0:00:00\u001b[0m\n",
            "\u001b[2K     \u001b[90m━━━━━━━━━━━━━━━━━━━━━━━━━━━━━━━━━━━━━━━\u001b[0m \u001b[32m114.5/114.5 kB\u001b[0m \u001b[31m1.4 MB/s\u001b[0m eta \u001b[36m0:00:00\u001b[0m\n",
            "\u001b[2K     \u001b[90m━━━━━━━━━━━━━━━━━━━━━━━━━━━━━━━━━━━━━━━\u001b[0m \u001b[32m268.8/268.8 kB\u001b[0m \u001b[31m2.7 MB/s\u001b[0m eta \u001b[36m0:00:00\u001b[0m\n",
            "\u001b[2K     \u001b[90m━━━━━━━━━━━━━━━━━━━━━━━━━━━━━━━━━━━━━━━\u001b[0m \u001b[32m149.6/149.6 kB\u001b[0m \u001b[31m5.3 MB/s\u001b[0m eta \u001b[36m0:00:00\u001b[0m\n",
            "\u001b[?25h"
          ]
        }
      ],
      "source": [
        "!pip install -q datasets unidecode nltk"
      ]
    },
    {
      "cell_type": "markdown",
      "metadata": {
        "id": "UujvKjusiVfn"
      },
      "source": [
        "Se realiza el montaje de la unidad de Google Drive para acceder a los ficheros"
      ]
    },
    {
      "cell_type": "code",
      "execution_count": 3,
      "metadata": {
        "colab": {
          "base_uri": "https://localhost:8080/"
        },
        "id": "UisW21-kiQqd",
        "outputId": "ebed3510-510a-42df-b8f7-133763ddb622"
      },
      "outputs": [
        {
          "output_type": "stream",
          "name": "stdout",
          "text": [
            "Mounted at /drive\n"
          ]
        }
      ],
      "source": [
        "from google.colab import drive\n",
        "\n",
        "drive.mount('/drive')"
      ]
    },
    {
      "cell_type": "markdown",
      "metadata": {
        "id": "tLnGIsdcWM5j"
      },
      "source": [
        "#Creación del dataset\n",
        "\n",
        "\n"
      ]
    },
    {
      "cell_type": "markdown",
      "metadata": {
        "id": "LG7diu-qdXWA"
      },
      "source": [
        "Se crea un dataset con los tres segmentos: train, validation y test. Las etiquetas de train y validation se toman del fichero GoldStandardTrainingEAs.txt y las etiquetas del segmento test se toman del fichero GoldStandardTestEAs.txt."
      ]
    },
    {
      "cell_type": "markdown",
      "metadata": {
        "id": "mPSAH1ivWyCJ"
      },
      "source": [
        "Se cargan los archivos para su tratamiento."
      ]
    },
    {
      "cell_type": "code",
      "execution_count": 4,
      "metadata": {
        "id": "LGJmlQxKWxgU"
      },
      "outputs": [],
      "source": [
        "import pandas as pd\n",
        "\n",
        "column_names = [\"Acto\", \"TieneEA_EA1\", \n",
        "                \"EA2\", \"EA3\", \"EA4\", \"EA5\", \"EA6\", \"EA7\", \"EA8\", \"EA9\", \"EA10\"]\n",
        "df_goldStandardTrainingEAs = pd.read_csv(\n",
        "    ruta_archivo_GoldStandardTrainingEA, sep=' ', header=None, names=column_names)\n",
        "df_goldStandardTestEAs = pd.read_csv(\n",
        "    ruta_archivo_GoldStandardTestEA, sep=' ', header=None, names=column_names)"
      ]
    },
    {
      "cell_type": "markdown",
      "metadata": {
        "id": "ePcPhmt4XlUG"
      },
      "source": [
        "Generación de las etiquetas"
      ]
    },
    {
      "cell_type": "code",
      "execution_count": 5,
      "metadata": {
        "colab": {
          "base_uri": "https://localhost:8080/",
          "height": 423
        },
        "id": "zNM6DuJEhLbD",
        "outputId": "3dda4e4e-8cdd-4b3f-f023-8cdad3f2ea39"
      },
      "outputs": [
        {
          "output_type": "execute_result",
          "data": {
            "text/plain": [
              "           Acto TieneEA_EA1  EA2  EA3  EA4  EA5  EA6  EA7  EA8  EA9  EA10\n",
              "0      27690409    T50.2X5A  NaN  NaN  NaN  NaN  NaN  NaN  NaN  NaN   NaN\n",
              "1      24626366        NONE  NaN  NaN  NaN  NaN  NaN  NaN  NaN  NaN   NaN\n",
              "2      27967924       O90.0  NaN  NaN  NaN  NaN  NaN  NaN  NaN  NaN   NaN\n",
              "3      25774939        NONE  NaN  NaN  NaN  NaN  NaN  NaN  NaN  NaN   NaN\n",
              "4      24878023        NONE  NaN  NaN  NaN  NaN  NaN  NaN  NaN  NaN   NaN\n",
              "...         ...         ...  ...  ...  ...  ...  ...  ...  ...  ...   ...\n",
              "14497  24368169        NONE  NaN  NaN  NaN  NaN  NaN  NaN  NaN  NaN   NaN\n",
              "14498  26850773        NONE  NaN  NaN  NaN  NaN  NaN  NaN  NaN  NaN   NaN\n",
              "14499  26850775        NONE  NaN  NaN  NaN  NaN  NaN  NaN  NaN  NaN   NaN\n",
              "14500  26850771        NONE  NaN  NaN  NaN  NaN  NaN  NaN  NaN  NaN   NaN\n",
              "14501  26850772        NONE  NaN  NaN  NaN  NaN  NaN  NaN  NaN  NaN   NaN\n",
              "\n",
              "[14502 rows x 11 columns]"
            ],
            "text/html": [
              "\n",
              "  <div id=\"df-3b91b1a7-e6f3-43c6-ac8b-6d9fd9b2f6a8\">\n",
              "    <div class=\"colab-df-container\">\n",
              "      <div>\n",
              "<style scoped>\n",
              "    .dataframe tbody tr th:only-of-type {\n",
              "        vertical-align: middle;\n",
              "    }\n",
              "\n",
              "    .dataframe tbody tr th {\n",
              "        vertical-align: top;\n",
              "    }\n",
              "\n",
              "    .dataframe thead th {\n",
              "        text-align: right;\n",
              "    }\n",
              "</style>\n",
              "<table border=\"1\" class=\"dataframe\">\n",
              "  <thead>\n",
              "    <tr style=\"text-align: right;\">\n",
              "      <th></th>\n",
              "      <th>Acto</th>\n",
              "      <th>TieneEA_EA1</th>\n",
              "      <th>EA2</th>\n",
              "      <th>EA3</th>\n",
              "      <th>EA4</th>\n",
              "      <th>EA5</th>\n",
              "      <th>EA6</th>\n",
              "      <th>EA7</th>\n",
              "      <th>EA8</th>\n",
              "      <th>EA9</th>\n",
              "      <th>EA10</th>\n",
              "    </tr>\n",
              "  </thead>\n",
              "  <tbody>\n",
              "    <tr>\n",
              "      <th>0</th>\n",
              "      <td>27690409</td>\n",
              "      <td>T50.2X5A</td>\n",
              "      <td>NaN</td>\n",
              "      <td>NaN</td>\n",
              "      <td>NaN</td>\n",
              "      <td>NaN</td>\n",
              "      <td>NaN</td>\n",
              "      <td>NaN</td>\n",
              "      <td>NaN</td>\n",
              "      <td>NaN</td>\n",
              "      <td>NaN</td>\n",
              "    </tr>\n",
              "    <tr>\n",
              "      <th>1</th>\n",
              "      <td>24626366</td>\n",
              "      <td>NONE</td>\n",
              "      <td>NaN</td>\n",
              "      <td>NaN</td>\n",
              "      <td>NaN</td>\n",
              "      <td>NaN</td>\n",
              "      <td>NaN</td>\n",
              "      <td>NaN</td>\n",
              "      <td>NaN</td>\n",
              "      <td>NaN</td>\n",
              "      <td>NaN</td>\n",
              "    </tr>\n",
              "    <tr>\n",
              "      <th>2</th>\n",
              "      <td>27967924</td>\n",
              "      <td>O90.0</td>\n",
              "      <td>NaN</td>\n",
              "      <td>NaN</td>\n",
              "      <td>NaN</td>\n",
              "      <td>NaN</td>\n",
              "      <td>NaN</td>\n",
              "      <td>NaN</td>\n",
              "      <td>NaN</td>\n",
              "      <td>NaN</td>\n",
              "      <td>NaN</td>\n",
              "    </tr>\n",
              "    <tr>\n",
              "      <th>3</th>\n",
              "      <td>25774939</td>\n",
              "      <td>NONE</td>\n",
              "      <td>NaN</td>\n",
              "      <td>NaN</td>\n",
              "      <td>NaN</td>\n",
              "      <td>NaN</td>\n",
              "      <td>NaN</td>\n",
              "      <td>NaN</td>\n",
              "      <td>NaN</td>\n",
              "      <td>NaN</td>\n",
              "      <td>NaN</td>\n",
              "    </tr>\n",
              "    <tr>\n",
              "      <th>4</th>\n",
              "      <td>24878023</td>\n",
              "      <td>NONE</td>\n",
              "      <td>NaN</td>\n",
              "      <td>NaN</td>\n",
              "      <td>NaN</td>\n",
              "      <td>NaN</td>\n",
              "      <td>NaN</td>\n",
              "      <td>NaN</td>\n",
              "      <td>NaN</td>\n",
              "      <td>NaN</td>\n",
              "      <td>NaN</td>\n",
              "    </tr>\n",
              "    <tr>\n",
              "      <th>...</th>\n",
              "      <td>...</td>\n",
              "      <td>...</td>\n",
              "      <td>...</td>\n",
              "      <td>...</td>\n",
              "      <td>...</td>\n",
              "      <td>...</td>\n",
              "      <td>...</td>\n",
              "      <td>...</td>\n",
              "      <td>...</td>\n",
              "      <td>...</td>\n",
              "      <td>...</td>\n",
              "    </tr>\n",
              "    <tr>\n",
              "      <th>14497</th>\n",
              "      <td>24368169</td>\n",
              "      <td>NONE</td>\n",
              "      <td>NaN</td>\n",
              "      <td>NaN</td>\n",
              "      <td>NaN</td>\n",
              "      <td>NaN</td>\n",
              "      <td>NaN</td>\n",
              "      <td>NaN</td>\n",
              "      <td>NaN</td>\n",
              "      <td>NaN</td>\n",
              "      <td>NaN</td>\n",
              "    </tr>\n",
              "    <tr>\n",
              "      <th>14498</th>\n",
              "      <td>26850773</td>\n",
              "      <td>NONE</td>\n",
              "      <td>NaN</td>\n",
              "      <td>NaN</td>\n",
              "      <td>NaN</td>\n",
              "      <td>NaN</td>\n",
              "      <td>NaN</td>\n",
              "      <td>NaN</td>\n",
              "      <td>NaN</td>\n",
              "      <td>NaN</td>\n",
              "      <td>NaN</td>\n",
              "    </tr>\n",
              "    <tr>\n",
              "      <th>14499</th>\n",
              "      <td>26850775</td>\n",
              "      <td>NONE</td>\n",
              "      <td>NaN</td>\n",
              "      <td>NaN</td>\n",
              "      <td>NaN</td>\n",
              "      <td>NaN</td>\n",
              "      <td>NaN</td>\n",
              "      <td>NaN</td>\n",
              "      <td>NaN</td>\n",
              "      <td>NaN</td>\n",
              "      <td>NaN</td>\n",
              "    </tr>\n",
              "    <tr>\n",
              "      <th>14500</th>\n",
              "      <td>26850771</td>\n",
              "      <td>NONE</td>\n",
              "      <td>NaN</td>\n",
              "      <td>NaN</td>\n",
              "      <td>NaN</td>\n",
              "      <td>NaN</td>\n",
              "      <td>NaN</td>\n",
              "      <td>NaN</td>\n",
              "      <td>NaN</td>\n",
              "      <td>NaN</td>\n",
              "      <td>NaN</td>\n",
              "    </tr>\n",
              "    <tr>\n",
              "      <th>14501</th>\n",
              "      <td>26850772</td>\n",
              "      <td>NONE</td>\n",
              "      <td>NaN</td>\n",
              "      <td>NaN</td>\n",
              "      <td>NaN</td>\n",
              "      <td>NaN</td>\n",
              "      <td>NaN</td>\n",
              "      <td>NaN</td>\n",
              "      <td>NaN</td>\n",
              "      <td>NaN</td>\n",
              "      <td>NaN</td>\n",
              "    </tr>\n",
              "  </tbody>\n",
              "</table>\n",
              "<p>14502 rows × 11 columns</p>\n",
              "</div>\n",
              "      <button class=\"colab-df-convert\" onclick=\"convertToInteractive('df-3b91b1a7-e6f3-43c6-ac8b-6d9fd9b2f6a8')\"\n",
              "              title=\"Convert this dataframe to an interactive table.\"\n",
              "              style=\"display:none;\">\n",
              "        \n",
              "  <svg xmlns=\"http://www.w3.org/2000/svg\" height=\"24px\"viewBox=\"0 0 24 24\"\n",
              "       width=\"24px\">\n",
              "    <path d=\"M0 0h24v24H0V0z\" fill=\"none\"/>\n",
              "    <path d=\"M18.56 5.44l.94 2.06.94-2.06 2.06-.94-2.06-.94-.94-2.06-.94 2.06-2.06.94zm-11 1L8.5 8.5l.94-2.06 2.06-.94-2.06-.94L8.5 2.5l-.94 2.06-2.06.94zm10 10l.94 2.06.94-2.06 2.06-.94-2.06-.94-.94-2.06-.94 2.06-2.06.94z\"/><path d=\"M17.41 7.96l-1.37-1.37c-.4-.4-.92-.59-1.43-.59-.52 0-1.04.2-1.43.59L10.3 9.45l-7.72 7.72c-.78.78-.78 2.05 0 2.83L4 21.41c.39.39.9.59 1.41.59.51 0 1.02-.2 1.41-.59l7.78-7.78 2.81-2.81c.8-.78.8-2.07 0-2.86zM5.41 20L4 18.59l7.72-7.72 1.47 1.35L5.41 20z\"/>\n",
              "  </svg>\n",
              "      </button>\n",
              "      \n",
              "  <style>\n",
              "    .colab-df-container {\n",
              "      display:flex;\n",
              "      flex-wrap:wrap;\n",
              "      gap: 12px;\n",
              "    }\n",
              "\n",
              "    .colab-df-convert {\n",
              "      background-color: #E8F0FE;\n",
              "      border: none;\n",
              "      border-radius: 50%;\n",
              "      cursor: pointer;\n",
              "      display: none;\n",
              "      fill: #1967D2;\n",
              "      height: 32px;\n",
              "      padding: 0 0 0 0;\n",
              "      width: 32px;\n",
              "    }\n",
              "\n",
              "    .colab-df-convert:hover {\n",
              "      background-color: #E2EBFA;\n",
              "      box-shadow: 0px 1px 2px rgba(60, 64, 67, 0.3), 0px 1px 3px 1px rgba(60, 64, 67, 0.15);\n",
              "      fill: #174EA6;\n",
              "    }\n",
              "\n",
              "    [theme=dark] .colab-df-convert {\n",
              "      background-color: #3B4455;\n",
              "      fill: #D2E3FC;\n",
              "    }\n",
              "\n",
              "    [theme=dark] .colab-df-convert:hover {\n",
              "      background-color: #434B5C;\n",
              "      box-shadow: 0px 1px 3px 1px rgba(0, 0, 0, 0.15);\n",
              "      filter: drop-shadow(0px 1px 2px rgba(0, 0, 0, 0.3));\n",
              "      fill: #FFFFFF;\n",
              "    }\n",
              "  </style>\n",
              "\n",
              "      <script>\n",
              "        const buttonEl =\n",
              "          document.querySelector('#df-3b91b1a7-e6f3-43c6-ac8b-6d9fd9b2f6a8 button.colab-df-convert');\n",
              "        buttonEl.style.display =\n",
              "          google.colab.kernel.accessAllowed ? 'block' : 'none';\n",
              "\n",
              "        async function convertToInteractive(key) {\n",
              "          const element = document.querySelector('#df-3b91b1a7-e6f3-43c6-ac8b-6d9fd9b2f6a8');\n",
              "          const dataTable =\n",
              "            await google.colab.kernel.invokeFunction('convertToInteractive',\n",
              "                                                     [key], {});\n",
              "          if (!dataTable) return;\n",
              "\n",
              "          const docLinkHtml = 'Like what you see? Visit the ' +\n",
              "            '<a target=\"_blank\" href=https://colab.research.google.com/notebooks/data_table.ipynb>data table notebook</a>'\n",
              "            + ' to learn more about interactive tables.';\n",
              "          element.innerHTML = '';\n",
              "          dataTable['output_type'] = 'display_data';\n",
              "          await google.colab.output.renderOutput(dataTable, element);\n",
              "          const docLink = document.createElement('div');\n",
              "          docLink.innerHTML = docLinkHtml;\n",
              "          element.appendChild(docLink);\n",
              "        }\n",
              "      </script>\n",
              "    </div>\n",
              "  </div>\n",
              "  "
            ]
          },
          "metadata": {},
          "execution_count": 5
        }
      ],
      "source": [
        "df_goldStandardTrainingEAs"
      ]
    },
    {
      "cell_type": "code",
      "execution_count": 6,
      "metadata": {
        "id": "HBxYDPUOZEmQ"
      },
      "outputs": [],
      "source": [
        "from datasets import ClassLabel\n",
        "\n",
        "def crear_lista_etiquetas(dataframe):\n",
        "  label_list = list(dataframe.TieneEA_EA1.unique())\n",
        "  label_list.extend(list(dataframe.EA2.unique()))\n",
        "  label_list.extend(list(dataframe.EA3.unique()))\n",
        "  label_list.extend(list(dataframe.EA4.unique()))\n",
        "  label_list.extend(list(dataframe.EA5.unique()))\n",
        "  label_list.extend(list(dataframe.EA6.unique()))\n",
        "  label_list.extend(list(dataframe.EA7.unique()))\n",
        "  label_list.extend(list(dataframe.EA8.unique()))\n",
        "  label_list.extend(list(dataframe.EA9.unique()))\n",
        "  label_list.extend(list(dataframe.EA10.unique()))\n",
        "  df = pd.DataFrame(label_list, columns=[\"label\"])\n",
        "  df = df.dropna()\n",
        "  label_list = list(df.label.unique())\n",
        "  return ClassLabel(num_classes=len(label_list), names=label_list)\n",
        "\n",
        "class2label_entrenamiento = crear_lista_etiquetas(df_goldStandardTrainingEAs)\n",
        "class2label_test = crear_lista_etiquetas(df_goldStandardTestEAs)"
      ]
    },
    {
      "cell_type": "markdown",
      "source": [
        "Se unen todos los códigos EAs de todas las columnas para conocer cuántos códigos EAs hay representados en los casos clínicos."
      ],
      "metadata": {
        "id": "GNpSsJf-20c8"
      }
    },
    {
      "cell_type": "code",
      "source": [
        "def crear_df_cantidad(dataframe):\n",
        "  ds_cantidad_TieneEA_EA1 = dataframe.TieneEA_EA1.value_counts(dropna=True, sort=True)\n",
        "  ds_cantidad_EA2 = dataframe.EA2.value_counts(dropna=True, sort=True)\n",
        "  ds_all = ds_cantidad_TieneEA_EA1.append(ds_cantidad_EA2)\n",
        "  ds_cantidad_EA3 = dataframe.EA3.value_counts(dropna=True, sort=True)\n",
        "  ds_all = ds_all.append(ds_cantidad_EA3)\n",
        "  ds_cantidad_EA4 = dataframe.EA4.value_counts(dropna=True, sort=True)\n",
        "  ds_all = ds_all.append(ds_cantidad_EA4)\n",
        "  ds_cantidad_EA5 = dataframe.EA5.value_counts(dropna=True, sort=True)\n",
        "  ds_all = ds_all.append(ds_cantidad_EA5)\n",
        "  ds_cantidad_EA6 = dataframe.EA6.value_counts(dropna=True, sort=True)\n",
        "  ds_all = ds_all.append(ds_cantidad_EA6)\n",
        "  ds_cantidad_EA7 = dataframe.EA7.value_counts(dropna=True, sort=True)\n",
        "  ds_all = ds_all.append(ds_cantidad_EA7)\n",
        "  ds_cantidad_EA8 = dataframe.EA8.value_counts(dropna=True, sort=True)\n",
        "  ds_all = ds_all.append(ds_cantidad_EA8)\n",
        "  ds_cantidad_EA9 = dataframe.EA9.value_counts(dropna=True, sort=True)\n",
        "  ds_all = ds_all.append(ds_cantidad_EA9)\n",
        "\n",
        "  df_cantidad = pd.DataFrame(ds_all)\n",
        "  df_cantidad = df_cantidad.reset_index()\n",
        "  df_cantidad.columns = ['eas', 'counts'] \n",
        "  return df_cantidad\n",
        "\n",
        "df_cantidad = crear_df_cantidad(df_goldStandardTrainingEAs)\n",
        "df_cantidad.count()"
      ],
      "metadata": {
        "colab": {
          "base_uri": "https://localhost:8080/"
        },
        "id": "AEZyv95i22AN",
        "outputId": "0e0008f7-927b-4e3c-8bc4-85d1ccaf7ba6"
      },
      "execution_count": 25,
      "outputs": [
        {
          "output_type": "stream",
          "name": "stderr",
          "text": [
            "<ipython-input-25-4319cf8b4ec6>:4: FutureWarning: The series.append method is deprecated and will be removed from pandas in a future version. Use pandas.concat instead.\n",
            "  ds_all = ds_cantidad_TieneEA_EA1.append(ds_cantidad_EA2)\n",
            "<ipython-input-25-4319cf8b4ec6>:6: FutureWarning: The series.append method is deprecated and will be removed from pandas in a future version. Use pandas.concat instead.\n",
            "  ds_all = ds_all.append(ds_cantidad_EA3)\n",
            "<ipython-input-25-4319cf8b4ec6>:8: FutureWarning: The series.append method is deprecated and will be removed from pandas in a future version. Use pandas.concat instead.\n",
            "  ds_all = ds_all.append(ds_cantidad_EA4)\n",
            "<ipython-input-25-4319cf8b4ec6>:10: FutureWarning: The series.append method is deprecated and will be removed from pandas in a future version. Use pandas.concat instead.\n",
            "  ds_all = ds_all.append(ds_cantidad_EA5)\n",
            "<ipython-input-25-4319cf8b4ec6>:12: FutureWarning: The series.append method is deprecated and will be removed from pandas in a future version. Use pandas.concat instead.\n",
            "  ds_all = ds_all.append(ds_cantidad_EA6)\n",
            "<ipython-input-25-4319cf8b4ec6>:14: FutureWarning: The series.append method is deprecated and will be removed from pandas in a future version. Use pandas.concat instead.\n",
            "  ds_all = ds_all.append(ds_cantidad_EA7)\n",
            "<ipython-input-25-4319cf8b4ec6>:16: FutureWarning: The series.append method is deprecated and will be removed from pandas in a future version. Use pandas.concat instead.\n",
            "  ds_all = ds_all.append(ds_cantidad_EA8)\n",
            "<ipython-input-25-4319cf8b4ec6>:18: FutureWarning: The series.append method is deprecated and will be removed from pandas in a future version. Use pandas.concat instead.\n",
            "  ds_all = ds_all.append(ds_cantidad_EA9)\n",
            "<ipython-input-25-4319cf8b4ec6>:4: FutureWarning: The series.append method is deprecated and will be removed from pandas in a future version. Use pandas.concat instead.\n",
            "  ds_all = ds_cantidad_TieneEA_EA1.append(ds_cantidad_EA2)\n",
            "<ipython-input-25-4319cf8b4ec6>:6: FutureWarning: The series.append method is deprecated and will be removed from pandas in a future version. Use pandas.concat instead.\n",
            "  ds_all = ds_all.append(ds_cantidad_EA3)\n",
            "<ipython-input-25-4319cf8b4ec6>:8: FutureWarning: The series.append method is deprecated and will be removed from pandas in a future version. Use pandas.concat instead.\n",
            "  ds_all = ds_all.append(ds_cantidad_EA4)\n",
            "<ipython-input-25-4319cf8b4ec6>:10: FutureWarning: The series.append method is deprecated and will be removed from pandas in a future version. Use pandas.concat instead.\n",
            "  ds_all = ds_all.append(ds_cantidad_EA5)\n",
            "<ipython-input-25-4319cf8b4ec6>:12: FutureWarning: The series.append method is deprecated and will be removed from pandas in a future version. Use pandas.concat instead.\n",
            "  ds_all = ds_all.append(ds_cantidad_EA6)\n",
            "<ipython-input-25-4319cf8b4ec6>:14: FutureWarning: The series.append method is deprecated and will be removed from pandas in a future version. Use pandas.concat instead.\n",
            "  ds_all = ds_all.append(ds_cantidad_EA7)\n",
            "<ipython-input-25-4319cf8b4ec6>:16: FutureWarning: The series.append method is deprecated and will be removed from pandas in a future version. Use pandas.concat instead.\n",
            "  ds_all = ds_all.append(ds_cantidad_EA8)\n",
            "<ipython-input-25-4319cf8b4ec6>:18: FutureWarning: The series.append method is deprecated and will be removed from pandas in a future version. Use pandas.concat instead.\n",
            "  ds_all = ds_all.append(ds_cantidad_EA9)\n"
          ]
        },
        {
          "output_type": "execute_result",
          "data": {
            "text/plain": [
              "eas       789\n",
              "counts    789\n",
              "dtype: int64"
            ]
          },
          "metadata": {},
          "execution_count": 25
        }
      ]
    },
    {
      "cell_type": "markdown",
      "metadata": {
        "id": "ewkIXOVjK2Wn"
      },
      "source": [
        "Precesamiento del texto de los informes"
      ]
    },
    {
      "cell_type": "code",
      "execution_count": 36,
      "metadata": {
        "colab": {
          "base_uri": "https://localhost:8080/"
        },
        "id": "O2JQJ4nrqldV",
        "outputId": "ab4e0f3e-4a84-4fc0-e5e8-5a543ef89c4c"
      },
      "outputs": [
        {
          "output_type": "stream",
          "name": "stderr",
          "text": [
            "[nltk_data] Downloading package stopwords to /root/nltk_data...\n",
            "[nltk_data]   Package stopwords is already up-to-date!\n"
          ]
        }
      ],
      "source": [
        "import os\n",
        "import re\n",
        "from unidecode import unidecode\n",
        "from nltk.corpus import stopwords \n",
        "import nltk\n",
        "import json\n",
        "\n",
        "JUICIO_CLINICO = 'juicio clinico'\n",
        "JUICIO_DIAGNOSTICO = 'juicio diagnostico'\n",
        "TRATAMIENTO = 'Tratamiento'\n",
        "FIRMADO_XXX = '_FIRMADO_XXXX_'\n",
        "ETIQUETAS = [\"nif\", \"telefono\", \"movil\", \"fecha ingreso\", \"fecha alta\", \n",
        "             \"analitica\", \"comentarios\", \"juicio\",\"clinico\",\"tratamiento\",\n",
        "             \"recomendaciones\",\"exploraciones\", \"complementarias\"]\n",
        "\n",
        "re_sexo = re.compile(r'sexo [a-z]*')\n",
        "re_juicio1 = re.compile(r'juicio [a-z]*')\n",
        "re_juicio2 = re.compile(r'j[a-z]* clinico')\n",
        "re_gestacion = re.compile(r'gestacion [a-z]*')\n",
        "\n",
        "campos = [\"nif\", \"telefono\", \"movil\", \"fecha ingreso\", \"fecha alta\"]\n",
        "\n",
        "apartados_de_interes = [\n",
        "    \"jdtco\", \"jc\"] #, \"sexo\", \"comentarios\"\n",
        "apartado_sexo = \"sexo\"\n",
        "\n",
        "apartados_descartados = [\n",
        "    \"recomendaciones\", \"lopd\", \"pagina\", \"datos personales seran tratados\"]    \n",
        "\n",
        "TRAINING = 0\n",
        "TEST = 1\n",
        "TRAINING_MAS_FRECUENTES = 2\n",
        "TEST_MAS_FRECUENTES = 3\n",
        "\n",
        "nltk.download('stopwords')\n",
        "\n",
        "def omitir_textos_anonimizacion (linea):\n",
        "  # busca expresiones del tipo _HOSPITAL_XXXX_ _DIRECCION_XXXX_\n",
        "  return re.sub (r'_\\w+_XXXX_', '', linea)\n",
        "\n",
        "def omitir_no_texto (linea):\n",
        "  return re.sub (r'[^\\w]', ' ', linea)\n",
        "\n",
        "def omitir_numeros (linea):\n",
        "  return re.sub(r'[0-9]+', ' ', linea)\n",
        "\n",
        "def es_linea_comienzo_seleccion (linea):\n",
        "  return normalizar_texto(linea.strip()) == JUICIO_CLINICO\n",
        "\n",
        "def es_linea_fin_seleccion (linea):\n",
        "  return FIRMADO_XXX in linea.strip()\n",
        "\n",
        "def linea_tiene_contenido (linea):\n",
        "  return linea.strip() != ''\n",
        "\n",
        "def es_apartado_interes (linea, incluir_todo):\n",
        "  apartados = apartados_de_interes\n",
        "  if (incluir_todo):\n",
        "    apartados.append(apartado_sexo)\n",
        "  for apartado in apartados:\n",
        "    if (apartado in linea):\n",
        "      return True\n",
        "  return False\n",
        "\n",
        "def es_apartado (linea, incluir_todo):\n",
        "  return (re_juicio1.match (linea) != None or\n",
        "          re_juicio2.match (linea) != None or\n",
        "          re_gestacion.match (linea) != None or\n",
        "          es_apartado_interes (linea, incluir_todo))\n",
        "\n",
        "def es_apartado_descartado (linea):\n",
        "  for apartado in apartados_descartados:\n",
        "    if (apartado in linea):\n",
        "      return True\n",
        "  return False\n",
        "\n",
        "def detectar_etiquetas (linea):\n",
        "  words = linea.strip().split()\n",
        "  if len(words) >= 1 and len(words) <= 3:\n",
        "      return linea\n",
        "  return \"\"      \n",
        "\n",
        "def omitir_stopwors (linea):\n",
        "  stop_words = set(stopwords.words('spanish')) \n",
        "  palabras = linea.split() \n",
        "  resultado = ''\n",
        "  for paralabra in palabras: \n",
        "      if not resultado in stop_words: \n",
        "        resultado += ' ' + paralabra\n",
        "  return resultado\n",
        "\n",
        "def normalizar_texto (linea):\n",
        "  linea = unidecode(linea) \n",
        "  linea = linea.lower().strip()\n",
        "  return linea\n",
        "\n",
        "def quitar_etiquetas (linea):\n",
        "  for etiqueta in ETIQUETAS:\n",
        "    linea = linea.replace(etiqueta, \"\")\n",
        "  return linea\n",
        "\n",
        "def limpiar_texto (informe_medico, diccionario_apartados, incluir_todo):\n",
        "  texto = ''\n",
        "  seleccionar = False  \n",
        "  apartado = \"\"\n",
        "  texto_apartado = \"\"\n",
        "\n",
        "  for lineaTexto in informe_medico:\n",
        "    lineaTexto = omitir_textos_anonimizacion(lineaTexto)\n",
        "    lineaTexto = normalizar_texto(lineaTexto)\n",
        "    lineaTexto = omitir_no_texto(lineaTexto)\n",
        "    lineaTexto = omitir_numeros(lineaTexto)\n",
        "    if (not incluir_todo and apartado_sexo in lineaTexto):\n",
        "      linea_array = lineaTexto.split(\" \")      \n",
        "      diccionario_apartados[apartado_sexo] = linea_array[len(linea_array)-1]\n",
        "    elif (es_apartado(lineaTexto, incluir_todo)):\n",
        "      if (apartado != \"\" and apartado != lineaTexto):\n",
        "        diccionario_apartados[apartado] = texto_apartado\n",
        "        texto_apartado = \"\"\n",
        "      apartado = lineaTexto   \n",
        "      seleccionar = True   \n",
        "    elif (es_apartado_descartado(lineaTexto)):        \n",
        "        if (texto_apartado != \"\"):\n",
        "          diccionario_apartados[apartado] = texto_apartado\n",
        "        apartado = \"\" \n",
        "        texto_apartado = \"\"\n",
        "        seleccionar = False   \n",
        "    if (seleccionar):      \n",
        "      lineaTexto = omitir_stopwors(lineaTexto)  \n",
        "      texto_apartado += lineaTexto \n",
        "\n",
        "  if (texto_apartado != \"\"):\n",
        "    diccionario_apartados[apartado] = texto_apartado\n",
        "\n",
        "  for apartado in diccionario_apartados.values():\n",
        "    texto += apartado\n",
        "\n",
        "  json_apartados = [ {'apartado' : k, 'texto' : diccionario_apartados[k]} for k in diccionario_apartados]\n",
        "  return texto, json_apartados\n",
        "\n",
        "def obtener_texto (acto, label_list, lista_nombres_informes_medicos, files_location, class2label):  \n",
        "  texto_acto = ''  \n",
        "  diccionario_apartados = {}\n",
        "  for nombre_informe in lista_nombres_informes_medicos:\n",
        "    with open (files_location + nombre_informe, 'rt') as informe_medico:\n",
        "      resultado = limpiar_texto(informe_medico, diccionario_apartados, False)\n",
        "    if (resultado[0].strip() == \"\"):\n",
        "      with open (files_location + nombre_informe, 'rt') as informe_medico:\n",
        "        resultado = limpiar_texto(informe_medico, diccionario_apartados, True)\n",
        "    texto_acto = texto_acto + resultado[0]\n",
        "    texto_acto = texto_acto + \"\\n\"\n",
        "  label_list_int = convertir_codigos_EA_a_entero(class2label, label_list)\n",
        "  return [acto,\n",
        "          label_list_int[0], \n",
        "          label_list[0], \n",
        "          label_list_int,\n",
        "          label_list, \n",
        "          lista_nombres_informes_medicos, \n",
        "          texto_acto, \n",
        "          json.dumps(resultado[1])]\n",
        "\n",
        "def convertir_codigos_EA_a_entero(class2label, label_list):\n",
        "  label_list_int = list()\n",
        "  for codigo_ea in label_list:\n",
        "    label_list_int.append(class2label.str2int(codigo_ea))\n",
        "  return label_list_int\n",
        "\n",
        "def tomar_codigos_EA_de_todas_las_columnas(row):\n",
        "  label_list = list()\n",
        "  for col in column_names:\n",
        "    if (col == column_names[0]):\n",
        "      continue\n",
        "    if (type(row[col]) == str):\n",
        "      label_list.append(row[col].strip())\n",
        "  return label_list\n",
        "\n",
        "def crear_vector_datos (dataframe, file_list, files_location, class2label, cantidad): \n",
        "  ds_resultado = []\n",
        "  i = 0\n",
        "  for index, row in dataframe.iterrows():\n",
        "    texto_filtro = str(row['Acto']) + '-'\n",
        "    archivos_acto = filter(lambda x: texto_filtro in x, file_list)       \n",
        "    ds_resultado.append(obtener_texto(row['Acto'], tomar_codigos_EA_de_todas_las_columnas(row), \n",
        "                                      list(archivos_acto), files_location, class2label))\n",
        "    i += 1\n",
        "    if (cantidad > 0 and i > cantidad):\n",
        "     break\n",
        "  return ds_resultado\n",
        "\n",
        "def crear_dataframe (labeled_array):\n",
        "  return pd.DataFrame(labeled_array, \n",
        "                      columns=['acto', \n",
        "                               'label', 'label_str', \n",
        "                               'label_list', 'label_list_str', \n",
        "                               'informes', \n",
        "                               'text', 'json'])\n",
        "\n",
        "def crear_dataframe_para_un_informe (nombre_archivo_informe):\n",
        "  acto = nombre_archivo_informe.split(\"-\")[0]\n",
        "  labeled_array_training = crear_vector_datos (\n",
        "      df_goldStandardTrainingEAs.query(\"Acto == \" + acto), [nombre_archivo_informe], \n",
        "        ruta_archivos_entrenamiento, class2label_entrenamiento, 0)\n",
        "  return crear_dataframe (labeled_array_training)  \n",
        "\n",
        "def obtener_lista_actos(dataframe, rows):\n",
        "  actos = dataframe.query(\"Acto == 0\")\n",
        "  for ea in rows[\"eas\"]:\n",
        "    actos = actos.append(obtener_actos(dataframe, ea), ignore_index=True)\n",
        "  return actos\n",
        "\n",
        "def obtener_actos(dataframe, EA_code):\n",
        "  query = (\"TieneEA_EA1 == '{EA}'\")\n",
        "  query = query.replace ('{EA}', EA_code)\n",
        "  return dataframe.query(query)\n",
        "\n",
        "def crear_dataframe_train_test_masFrecuentes ():\n",
        "  lista_archivos_entrenamiento = [f for f in os.listdir(ruta_archivos_entrenamiento) \n",
        "                      if os.path.isfile(os.path.join(ruta_archivos_entrenamiento, f))]\n",
        "\n",
        "  vector_datos_entrenamiento = crear_vector_datos (\n",
        "      df_goldStandardTrainingEAs, lista_archivos_entrenamiento, \n",
        "      ruta_archivos_entrenamiento, class2label_entrenamiento, 0)\n",
        "  df_entrenamiento = crear_dataframe (vector_datos_entrenamiento)\n",
        "  \n",
        "  df_entrenamiento_codigos_mas_frecuentes = obtener_lista_actos(df_goldStandardTrainingEAs, df_cantidad.query(\"eas != 'NONE'\").head(8))\n",
        "  vector_datos_entrenamiento_masFrecuentes = crear_vector_datos (\n",
        "      df_entrenamiento_codigos_mas_frecuentes, lista_archivos_entrenamiento, \n",
        "      ruta_archivos_entrenamiento, class2label_entrenamiento, 0)\n",
        "  df_entrenamiento_masFrecuentes = crear_dataframe (vector_datos_entrenamiento_masFrecuentes)\n",
        "  \n",
        "  lista_archivos_test = [f for f in os.listdir(ruta_archivos_test) \n",
        "                  if os.path.isfile(os.path.join(ruta_archivos_test, f))]\n",
        "                  \n",
        "  vector_datos_test = crear_vector_datos (\n",
        "      df_goldStandardTestEAs, lista_archivos_test, ruta_archivos_test, class2label_test, 0)\n",
        "  df_test = crear_dataframe (vector_datos_test)\n",
        "\n",
        "  df_test_codigos_mas_frecuentes = obtener_lista_actos(df_goldStandardTestEAs, df_cantidad.query(\"eas != 'NONE'\").head(8))\n",
        "  vector_datos_test_mas_frecuentes = crear_vector_datos (\n",
        "      df_test_codigos_mas_frecuentes, lista_archivos_test, ruta_archivos_test, class2label_test, 0)\n",
        "  df_test_masFrecuentes = crear_dataframe (vector_datos_test_mas_frecuentes)\n",
        "\n",
        "  return df_entrenamiento, df_test, df_entrenamiento_masFrecuentes, df_test_masFrecuentes"
      ]
    },
    {
      "cell_type": "code",
      "execution_count": 20,
      "metadata": {
        "colab": {
          "base_uri": "https://localhost:8080/",
          "height": 142
        },
        "id": "iRNjn8KLwsw3",
        "outputId": "a9ab91aa-b573-400a-ec85-ca8acd691525"
      },
      "outputs": [
        {
          "output_type": "execute_result",
          "data": {
            "text/plain": [
              "       acto  label label_str label_list        label_list_str  \\\n",
              "0  23062488     33  T85.71XA  [33, 184]  [T85.71XA, T82.898A]   \n",
              "\n",
              "                   informes  \\\n",
              "0  [23062488-162179798.txt]   \n",
              "\n",
              "                                                text  \\\n",
              "0  hombre juicio clinico exitus sepsis de origen ...   \n",
              "\n",
              "                                                json  \n",
              "0  [{\"apartado\": \"sexo\", \"texto\": \"hombre\"}, {\"ap...  "
            ],
            "text/html": [
              "\n",
              "  <div id=\"df-6ab4abd8-97e3-4b2c-ac45-1ea82506bfc0\">\n",
              "    <div class=\"colab-df-container\">\n",
              "      <div>\n",
              "<style scoped>\n",
              "    .dataframe tbody tr th:only-of-type {\n",
              "        vertical-align: middle;\n",
              "    }\n",
              "\n",
              "    .dataframe tbody tr th {\n",
              "        vertical-align: top;\n",
              "    }\n",
              "\n",
              "    .dataframe thead th {\n",
              "        text-align: right;\n",
              "    }\n",
              "</style>\n",
              "<table border=\"1\" class=\"dataframe\">\n",
              "  <thead>\n",
              "    <tr style=\"text-align: right;\">\n",
              "      <th></th>\n",
              "      <th>acto</th>\n",
              "      <th>label</th>\n",
              "      <th>label_str</th>\n",
              "      <th>label_list</th>\n",
              "      <th>label_list_str</th>\n",
              "      <th>informes</th>\n",
              "      <th>text</th>\n",
              "      <th>json</th>\n",
              "    </tr>\n",
              "  </thead>\n",
              "  <tbody>\n",
              "    <tr>\n",
              "      <th>0</th>\n",
              "      <td>23062488</td>\n",
              "      <td>33</td>\n",
              "      <td>T85.71XA</td>\n",
              "      <td>[33, 184]</td>\n",
              "      <td>[T85.71XA, T82.898A]</td>\n",
              "      <td>[23062488-162179798.txt]</td>\n",
              "      <td>hombre juicio clinico exitus sepsis de origen ...</td>\n",
              "      <td>[{\"apartado\": \"sexo\", \"texto\": \"hombre\"}, {\"ap...</td>\n",
              "    </tr>\n",
              "  </tbody>\n",
              "</table>\n",
              "</div>\n",
              "      <button class=\"colab-df-convert\" onclick=\"convertToInteractive('df-6ab4abd8-97e3-4b2c-ac45-1ea82506bfc0')\"\n",
              "              title=\"Convert this dataframe to an interactive table.\"\n",
              "              style=\"display:none;\">\n",
              "        \n",
              "  <svg xmlns=\"http://www.w3.org/2000/svg\" height=\"24px\"viewBox=\"0 0 24 24\"\n",
              "       width=\"24px\">\n",
              "    <path d=\"M0 0h24v24H0V0z\" fill=\"none\"/>\n",
              "    <path d=\"M18.56 5.44l.94 2.06.94-2.06 2.06-.94-2.06-.94-.94-2.06-.94 2.06-2.06.94zm-11 1L8.5 8.5l.94-2.06 2.06-.94-2.06-.94L8.5 2.5l-.94 2.06-2.06.94zm10 10l.94 2.06.94-2.06 2.06-.94-2.06-.94-.94-2.06-.94 2.06-2.06.94z\"/><path d=\"M17.41 7.96l-1.37-1.37c-.4-.4-.92-.59-1.43-.59-.52 0-1.04.2-1.43.59L10.3 9.45l-7.72 7.72c-.78.78-.78 2.05 0 2.83L4 21.41c.39.39.9.59 1.41.59.51 0 1.02-.2 1.41-.59l7.78-7.78 2.81-2.81c.8-.78.8-2.07 0-2.86zM5.41 20L4 18.59l7.72-7.72 1.47 1.35L5.41 20z\"/>\n",
              "  </svg>\n",
              "      </button>\n",
              "      \n",
              "  <style>\n",
              "    .colab-df-container {\n",
              "      display:flex;\n",
              "      flex-wrap:wrap;\n",
              "      gap: 12px;\n",
              "    }\n",
              "\n",
              "    .colab-df-convert {\n",
              "      background-color: #E8F0FE;\n",
              "      border: none;\n",
              "      border-radius: 50%;\n",
              "      cursor: pointer;\n",
              "      display: none;\n",
              "      fill: #1967D2;\n",
              "      height: 32px;\n",
              "      padding: 0 0 0 0;\n",
              "      width: 32px;\n",
              "    }\n",
              "\n",
              "    .colab-df-convert:hover {\n",
              "      background-color: #E2EBFA;\n",
              "      box-shadow: 0px 1px 2px rgba(60, 64, 67, 0.3), 0px 1px 3px 1px rgba(60, 64, 67, 0.15);\n",
              "      fill: #174EA6;\n",
              "    }\n",
              "\n",
              "    [theme=dark] .colab-df-convert {\n",
              "      background-color: #3B4455;\n",
              "      fill: #D2E3FC;\n",
              "    }\n",
              "\n",
              "    [theme=dark] .colab-df-convert:hover {\n",
              "      background-color: #434B5C;\n",
              "      box-shadow: 0px 1px 3px 1px rgba(0, 0, 0, 0.15);\n",
              "      filter: drop-shadow(0px 1px 2px rgba(0, 0, 0, 0.3));\n",
              "      fill: #FFFFFF;\n",
              "    }\n",
              "  </style>\n",
              "\n",
              "      <script>\n",
              "        const buttonEl =\n",
              "          document.querySelector('#df-6ab4abd8-97e3-4b2c-ac45-1ea82506bfc0 button.colab-df-convert');\n",
              "        buttonEl.style.display =\n",
              "          google.colab.kernel.accessAllowed ? 'block' : 'none';\n",
              "\n",
              "        async function convertToInteractive(key) {\n",
              "          const element = document.querySelector('#df-6ab4abd8-97e3-4b2c-ac45-1ea82506bfc0');\n",
              "          const dataTable =\n",
              "            await google.colab.kernel.invokeFunction('convertToInteractive',\n",
              "                                                     [key], {});\n",
              "          if (!dataTable) return;\n",
              "\n",
              "          const docLinkHtml = 'Like what you see? Visit the ' +\n",
              "            '<a target=\"_blank\" href=https://colab.research.google.com/notebooks/data_table.ipynb>data table notebook</a>'\n",
              "            + ' to learn more about interactive tables.';\n",
              "          element.innerHTML = '';\n",
              "          dataTable['output_type'] = 'display_data';\n",
              "          await google.colab.output.renderOutput(dataTable, element);\n",
              "          const docLink = document.createElement('div');\n",
              "          docLink.innerHTML = docLinkHtml;\n",
              "          element.appendChild(docLink);\n",
              "        }\n",
              "      </script>\n",
              "    </div>\n",
              "  </div>\n",
              "  "
            ]
          },
          "metadata": {},
          "execution_count": 20
        }
      ],
      "source": [
        "crear_dataframe_para_un_informe(\"23062488-162179798.txt\")"
      ]
    },
    {
      "cell_type": "code",
      "execution_count": null,
      "metadata": {
        "id": "QRx0Fr-9-keW"
      },
      "outputs": [],
      "source": [
        "dataframes = crear_dataframe_train_test()"
      ]
    },
    {
      "cell_type": "code",
      "execution_count": null,
      "metadata": {
        "id": "aq98lObkoM1_"
      },
      "outputs": [],
      "source": [
        "dataframes[0]"
      ]
    },
    {
      "cell_type": "markdown",
      "metadata": {
        "id": "5fZ0ssT9LGAd"
      },
      "source": [
        "Composición del dataset"
      ]
    },
    {
      "cell_type": "code",
      "execution_count": null,
      "metadata": {
        "id": "S1m3uZ4bJyJ3"
      },
      "outputs": [],
      "source": [
        "from datasets import Dataset, Value, DatasetDict\n",
        "\n",
        "def set_dataset_features (dataset, class2label):\n",
        "  new_features = dataset.features.copy()\n",
        "  new_features[\"label\"] = class2label\n",
        "  return dataset.cast(new_features)\n",
        "  \n",
        "dataset_entrenamiento = Dataset.from_pandas(dataframes[TRAINING])\n",
        "dataset_entrenamiento = set_dataset_features (dataset_entrenamiento, class2label_entrenamiento)\n",
        "\n",
        "dataset_entrenamiento_masFrecuentes = Dataset.from_pandas(dataframes[TRAINING_MAS_FRECUENTES])\n",
        "dataset_entrenamiento_masFrecuentes = set_dataset_features (dataset_entrenamiento, class2label_entrenamiento)\n",
        "\n",
        "dataset_entrenamiento_validacion = dataset_entrenamiento.train_test_split(test_size=0.1)\n",
        "\n",
        "dataset_test = Dataset.from_pandas(dataframes[TEST])\n",
        "dataset_test = set_dataset_features (dataset_test, class2label_test)\n",
        "\n",
        "dataset_test_masFrecuentes = Dataset.from_pandas(dataframes[TEST_MAS_FRECUENTES])\n",
        "dataset_test_masFrecuentes = set_dataset_features (dataset_test_masFrecuentes, class2label_test)\n",
        "\n",
        "dataset_completo = DatasetDict(\n",
        "    {\n",
        "        \"train\": dataset_entrenamiento_validacion[\"train\"],\n",
        "        \"validation\": dataset_entrenamiento_validacion[\"test\"],\n",
        "        \"test\": dataset_test,\n",
        "        \"trainMasFrecuentes\": dataset_entrenamiento_masFrecuentes,\n",
        "        \"testMasFrecuentes\": dataset_test_masFrecuentes\n",
        "    })\n",
        "\n",
        "dataset_completo"
      ]
    },
    {
      "cell_type": "code",
      "execution_count": null,
      "metadata": {
        "id": "OulBy6X92p0h"
      },
      "outputs": [],
      "source": [
        "dataset_completo[\"train\"][0]"
      ]
    },
    {
      "cell_type": "code",
      "execution_count": null,
      "metadata": {
        "id": "yoqOnJgNvwg0"
      },
      "outputs": [],
      "source": [
        "dataset_completo[\"train\"][0]['text']"
      ]
    },
    {
      "cell_type": "code",
      "execution_count": null,
      "metadata": {
        "id": "CBAmqWcypH3O"
      },
      "outputs": [],
      "source": [
        "dataset_completo[\"train\"].features"
      ]
    },
    {
      "cell_type": "code",
      "execution_count": null,
      "metadata": {
        "id": "3_S3Nygbtrq0"
      },
      "outputs": [],
      "source": [
        "dataset_completo[\"test\"].features"
      ]
    },
    {
      "cell_type": "code",
      "execution_count": null,
      "metadata": {
        "id": "ky-xm5BIQu7A"
      },
      "outputs": [],
      "source": [
        "dataset_completo.save_to_disk(ruta_dataset)"
      ]
    }
  ],
  "metadata": {
    "colab": {
      "provenance": [],
      "include_colab_link": true
    },
    "gpuClass": "premium",
    "kernelspec": {
      "display_name": "Python 3",
      "name": "python3"
    },
    "language_info": {
      "name": "python"
    }
  },
  "nbformat": 4,
  "nbformat_minor": 0
}
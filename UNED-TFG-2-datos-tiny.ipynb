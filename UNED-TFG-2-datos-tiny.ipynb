{
  "nbformat": 4,
  "nbformat_minor": 0,
  "metadata": {
    "colab": {
      "provenance": [],
      "include_colab_link": true
    },
    "kernelspec": {
      "name": "python3",
      "display_name": "Python 3"
    },
    "language_info": {
      "name": "python"
    },
    "gpuClass": "premium"
  },
  "cells": [
    {
      "cell_type": "markdown",
      "metadata": {
        "id": "view-in-github",
        "colab_type": "text"
      },
      "source": [
        "<a href=\"https://colab.research.google.com/github/alexisdr/uned-tfg/blob/main/UNED-TFG-2-datos-tiny.ipynb\" target=\"_parent\"><img src=\"https://colab.research.google.com/assets/colab-badge.svg\" alt=\"Open In Colab\"/></a>"
      ]
    },
    {
      "cell_type": "markdown",
      "source": [
        "# Generación de datos de pruebas\n",
        "\n",
        "Se toman los actos clínicos con mayor número de EAs y algunos sin EA para generar un subconjuto de pruebas."
      ],
      "metadata": {
        "id": "Dtw7kXV4e-HQ"
      }
    },
    {
      "cell_type": "markdown",
      "source": [
        "# Parameters\n",
        "\n",
        "*  GoldStandardTrainingEAs.txt: contiene una relación de IDS de actos clínicos seguidos de una lista de uno o varios códigos EAs, en caso de que sean aplicables, o NONE en caso de no se haya idetnificado ningún código de efecto adverso. Todos los valores están separados por espacios. Ejemplos:\n",
        "```\n",
        "24866017 T50.2X5A\n",
        "27448436 T83.021A T83.511A T83.091A Y84.6\n",
        "25205191 NONE\n",
        "```\n",
        "*  GoldStandardTestEAs.txt: equivalente al anterior pero con los datos del conjunto de pruebas.\n",
        "*  Training: carpeta que contiene todos los informes médicos del conjunto de entrenamiento. El nombre del archivo está compuesto por el acto clínico y el identificador del informe. Ejemplo: 23062488-158483734.txt\n",
        "*  Training: equivalente a training pero con el conjunto de pruebas.\n",
        "\n"
      ],
      "metadata": {
        "id": "H7uHO0xNibAs"
      }
    },
    {
      "cell_type": "code",
      "source": [
        "base_path = '/drive/My Drive/CorpusPFG/'\n",
        "\n",
        "#Archivos y rutas de los datos del CORPUS\n",
        "GoldStandardTrainingEA_data_location = base_path + 'GoldStandardTrainingEAs.txt'\n",
        "GoldStandardTestEA_data_location = base_path + 'GoldStandardTestEAs.txt'\n",
        "training_files_location = base_path + 'Training/'\n",
        "test_files_location = base_path + 'Test/'\n",
        "\n",
        "#Archivos y rutas del subconjunto de pruebas\n",
        "tiny_training_files_location = base_path + 'Tiny-Training/'\n",
        "tiny_test_files_location = base_path + 'Tiny-Test/'\n",
        "tiny_GoldStandardTrainingEA_data_location = base_path + 'Tiny-GoldStandardTrainingEAs.txt'"
      ],
      "metadata": {
        "id": "rhtVG5QtiYkr"
      },
      "execution_count": null,
      "outputs": []
    },
    {
      "cell_type": "markdown",
      "source": [
        "Se realiza el montaje de la unidad de Google Drive para acceder a los ficheros"
      ],
      "metadata": {
        "id": "UujvKjusiVfn"
      }
    },
    {
      "cell_type": "code",
      "source": [
        "from google.colab import drive\n",
        "\n",
        "drive.mount('/drive')"
      ],
      "metadata": {
        "colab": {
          "base_uri": "https://localhost:8080/"
        },
        "id": "UisW21-kiQqd",
        "outputId": "5c272133-5374-42b9-b6ba-eda05b6c6fcd"
      },
      "execution_count": null,
      "outputs": [
        {
          "output_type": "stream",
          "name": "stdout",
          "text": [
            "Mounted at /drive\n"
          ]
        }
      ]
    },
    {
      "cell_type": "markdown",
      "source": [
        "# EAs disponibles en los casos clínicos\n",
        "\n",
        "Carga del archivo de texto GoldStandardTrainingEAs.txt y GoldStandardTestEAs.txt en un data set"
      ],
      "metadata": {
        "id": "mPSAH1ivWyCJ"
      }
    },
    {
      "cell_type": "code",
      "source": [
        "import pandas as pd\n",
        "\n",
        "column_names = [\"Acto\", \"TieneEA_EA1\", \"EA2\", \"EA3\", \"EA4\", \"EA5\", \"EA6\", \"EA7\", \"EA8\", \"EA9\", \"EA10\"]\n",
        "df_goldStandardTrainingEAs = pd.read_csv(GoldStandardTrainingEA_data_location, sep=' ', header=None, names=column_names)\n",
        "df_goldStandardTestEAs = pd.read_csv(GoldStandardTestEA_data_location, sep=' ', header=None, names=column_names)"
      ],
      "metadata": {
        "id": "LGJmlQxKWxgU"
      },
      "execution_count": null,
      "outputs": []
    },
    {
      "cell_type": "markdown",
      "source": [
        "Se unen todos los códigos EAs de todas las columnas para conocer cuántos códigos EAs hay representados en los casos clínicos."
      ],
      "metadata": {
        "id": "wE3XzC2RY3xw"
      }
    },
    {
      "cell_type": "code",
      "source": [
        "ds_cantidad_TieneEA_EA1 = df_goldStandardTrainingEAs.TieneEA_EA1.value_counts(dropna=True, sort=True)\n",
        "ds_cantidad_EA2 = df_goldStandardTrainingEAs.EA2.value_counts(dropna=True, sort=True)\n",
        "ds_all = ds_cantidad_TieneEA_EA1.append(ds_cantidad_EA2)\n",
        "ds_cantidad_EA3 = df_goldStandardTrainingEAs.EA3.value_counts(dropna=True, sort=True)\n",
        "ds_all = ds_all.append(ds_cantidad_EA3)\n",
        "ds_cantidad_EA4 = df_goldStandardTrainingEAs.EA4.value_counts(dropna=True, sort=True)\n",
        "ds_all = ds_all.append(ds_cantidad_EA4)\n",
        "ds_cantidad_EA5 = df_goldStandardTrainingEAs.EA5.value_counts(dropna=True, sort=True)\n",
        "ds_all = ds_all.append(ds_cantidad_EA5)\n",
        "ds_cantidad_EA6 = df_goldStandardTrainingEAs.EA6.value_counts(dropna=True, sort=True)\n",
        "ds_all = ds_all.append(ds_cantidad_EA6)\n",
        "ds_cantidad_EA7 = df_goldStandardTrainingEAs.EA7.value_counts(dropna=True, sort=True)\n",
        "ds_all = ds_all.append(ds_cantidad_EA7)\n",
        "ds_cantidad_EA8 = df_goldStandardTrainingEAs.EA8.value_counts(dropna=True, sort=True)\n",
        "ds_all = ds_all.append(ds_cantidad_EA8)\n",
        "ds_cantidad_EA9 = df_goldStandardTrainingEAs.EA9.value_counts(dropna=True, sort=True)\n",
        "ds_all = ds_all.append(ds_cantidad_EA9)\n",
        "\n",
        "df_cantidad = pd.DataFrame(ds_all)\n",
        "df_cantidad = df_cantidad.reset_index()\n",
        "df_cantidad.columns = ['eas', 'counts'] \n",
        "df_cantidad.count()"
      ],
      "metadata": {
        "colab": {
          "base_uri": "https://localhost:8080/"
        },
        "id": "LuVG5pqOcutf",
        "outputId": "8bb9f62f-7d71-4276-a22d-e6c3134e6110"
      },
      "execution_count": null,
      "outputs": [
        {
          "output_type": "stream",
          "name": "stderr",
          "text": [
            "<ipython-input-4-ffaff8709537>:3: FutureWarning: The series.append method is deprecated and will be removed from pandas in a future version. Use pandas.concat instead.\n",
            "  ds_all = ds_cantidad_TieneEA_EA1.append(ds_cantidad_EA2)\n",
            "<ipython-input-4-ffaff8709537>:5: FutureWarning: The series.append method is deprecated and will be removed from pandas in a future version. Use pandas.concat instead.\n",
            "  ds_all = ds_all.append(ds_cantidad_EA3)\n",
            "<ipython-input-4-ffaff8709537>:7: FutureWarning: The series.append method is deprecated and will be removed from pandas in a future version. Use pandas.concat instead.\n",
            "  ds_all = ds_all.append(ds_cantidad_EA4)\n",
            "<ipython-input-4-ffaff8709537>:9: FutureWarning: The series.append method is deprecated and will be removed from pandas in a future version. Use pandas.concat instead.\n",
            "  ds_all = ds_all.append(ds_cantidad_EA5)\n",
            "<ipython-input-4-ffaff8709537>:11: FutureWarning: The series.append method is deprecated and will be removed from pandas in a future version. Use pandas.concat instead.\n",
            "  ds_all = ds_all.append(ds_cantidad_EA6)\n",
            "<ipython-input-4-ffaff8709537>:13: FutureWarning: The series.append method is deprecated and will be removed from pandas in a future version. Use pandas.concat instead.\n",
            "  ds_all = ds_all.append(ds_cantidad_EA7)\n",
            "<ipython-input-4-ffaff8709537>:15: FutureWarning: The series.append method is deprecated and will be removed from pandas in a future version. Use pandas.concat instead.\n",
            "  ds_all = ds_all.append(ds_cantidad_EA8)\n",
            "<ipython-input-4-ffaff8709537>:17: FutureWarning: The series.append method is deprecated and will be removed from pandas in a future version. Use pandas.concat instead.\n",
            "  ds_all = ds_all.append(ds_cantidad_EA9)\n"
          ]
        },
        {
          "output_type": "execute_result",
          "data": {
            "text/plain": [
              "eas       789\n",
              "counts    789\n",
              "dtype: int64"
            ]
          },
          "metadata": {},
          "execution_count": 4
        }
      ]
    },
    {
      "cell_type": "markdown",
      "source": [
        "# Generación de ficheros Tiny\n",
        "Obtener las casos clínicos con EAs más repetidos para crear un dataset \n",
        "balanceado y hacer pruebas."
      ],
      "metadata": {
        "id": "KWVHApoVcGqQ"
      }
    },
    {
      "cell_type": "code",
      "source": [
        "df_cantidad.query(\"eas != 'NONE'\").head(8)[\"eas\"]"
      ],
      "metadata": {
        "colab": {
          "base_uri": "https://localhost:8080/"
        },
        "id": "-4rIZ2s4eXCA",
        "outputId": "29d7e594-982b-4241-d11b-122f2e566098"
      },
      "execution_count": null,
      "outputs": [
        {
          "output_type": "execute_result",
          "data": {
            "text/plain": [
              "1    T38.0X5A\n",
              "2    T45.515A\n",
              "3    T50.2X5A\n",
              "4         Y95\n",
              "5       P01.1\n",
              "6    T81.4XXA\n",
              "7    T45.1X5A\n",
              "8       Y83.1\n",
              "Name: eas, dtype: object"
            ]
          },
          "metadata": {},
          "execution_count": 5
        }
      ]
    },
    {
      "cell_type": "markdown",
      "source": [
        "Vamos a tomar los casos clínicos en los que aparezcan los códigos EAs de los 8 primeros del listado anterior."
      ],
      "metadata": {
        "id": "RNFAyP5ulGbI"
      }
    },
    {
      "cell_type": "code",
      "source": [
        "ea_count = 0\n",
        "for count in df_cantidad.query(\"eas != 'NONE'\").head(8)[\"counts\"]:\n",
        "  ea_count = ea_count + count\n",
        "print(\"Cantidad de EAs de los 8 primeros: %s\" % ea_count)"
      ],
      "metadata": {
        "colab": {
          "base_uri": "https://localhost:8080/"
        },
        "id": "kcLEkXnKzPco",
        "outputId": "664d8ce5-0a3a-4585-f2d9-d81c14b0d741"
      },
      "execution_count": null,
      "outputs": [
        {
          "output_type": "stream",
          "name": "stdout",
          "text": [
            "Cantidad de EAs de los 8 primeros: 711\n"
          ]
        }
      ]
    },
    {
      "cell_type": "markdown",
      "source": [
        "Toma la lista de ficheros de origen"
      ],
      "metadata": {
        "id": "1Cx9v-YFSoLV"
      }
    },
    {
      "cell_type": "code",
      "source": [
        "import os\n",
        "\n",
        "file_list = [f for f in os.listdir(training_files_location) \n",
        "                  if os.path.isfile(os.path.join(training_files_location, f))]"
      ],
      "metadata": {
        "id": "eY-DZn_47DrW"
      },
      "execution_count": null,
      "outputs": []
    },
    {
      "cell_type": "code",
      "source": [
        "import shutil\n",
        "\n",
        "def get_actos_list(rows):\n",
        "  actos = df_goldStandardTrainingEAs.query(\"Acto == 0\")\n",
        "  for ea in rows[\"eas\"]:\n",
        "    actos = actos.append(get_actos(ea), ignore_index=True)\n",
        "  return actos\n",
        "\n",
        "def get_actos(EA_code):\n",
        "  query = (\"TieneEA_EA1 == '{EA}' or \"+\n",
        "    \"EA2 == '{EA}' or EA3 == '{EA}' or EA4 == '{EA}' or \"+\n",
        "    \"EA5 == '{EA}' or EA6 == '{EA}' or EA7 == '{EA}' or \"+\n",
        "    \"EA8 == '{EA}' or EA9 == '{EA}' or EA10 == '{EA}'\")\n",
        "  query = query.replace ('{EA}', EA_code)\n",
        "  return df_goldStandardTrainingEAs.query(query)\n",
        "\n",
        "def get_actos_file_list(actos):\n",
        "  result = list()\n",
        "  for index, row in actos.iterrows():\n",
        "    texto_filtro = str(row['Acto']) + '-'\n",
        "    result.append(list(filter(lambda x: texto_filtro in x, file_list)))\n",
        "  return result\n",
        "\n",
        "def copy_files(actos_file_list):\n",
        "  for file_list in actos_file_list:\n",
        "    for file in file_list:\n",
        "      shutil.copyfile (training_files_location + file, \n",
        "                       tiny_training_files_location + file)"
      ],
      "metadata": {
        "id": "zQzTNc96ll_V"
      },
      "execution_count": null,
      "outputs": []
    },
    {
      "cell_type": "markdown",
      "source": [
        "Prepara las carpetas"
      ],
      "metadata": {
        "id": "Y4OTouAlS00k"
      }
    },
    {
      "cell_type": "code",
      "source": [
        "#shutil.rmtree(tiny_training_files_location)\n",
        "#os.mkdir(tiny_training_files_location)"
      ],
      "metadata": {
        "id": "poTCLkfTS2Vg"
      },
      "execution_count": null,
      "outputs": []
    },
    {
      "cell_type": "markdown",
      "source": [
        "Copia los ficheros con código EA más relevantes"
      ],
      "metadata": {
        "id": "tlr7JHI7SwF3"
      }
    },
    {
      "cell_type": "code",
      "source": [
        "#Obtiene la lista de actos con código EA\n",
        "actos_list_eas = get_actos_list(df_cantidad.query(\"eas != 'NONE'\").head(8))\n",
        "#Obtiene la lista de ficheros de los actos con código EA\n",
        "actos_file_list = get_actos_file_list(actos_list_eas)\n",
        "#Copia los ficheros a las rutas tiny\n",
        "#copy_files(actos_file_list)"
      ],
      "metadata": {
        "id": "E8yN1Th0StZJ",
        "colab": {
          "base_uri": "https://localhost:8080/"
        },
        "outputId": "1ef29ae9-7d94-4efc-d907-9bb88c7494d7"
      },
      "execution_count": null,
      "outputs": [
        {
          "output_type": "stream",
          "name": "stderr",
          "text": [
            "<ipython-input-28-8d285d41c8c7>:6: FutureWarning: The frame.append method is deprecated and will be removed from pandas in a future version. Use pandas.concat instead.\n",
            "  actos = actos.append(get_actos(ea), ignore_index=True)\n",
            "<ipython-input-28-8d285d41c8c7>:6: FutureWarning: The frame.append method is deprecated and will be removed from pandas in a future version. Use pandas.concat instead.\n",
            "  actos = actos.append(get_actos(ea), ignore_index=True)\n",
            "<ipython-input-28-8d285d41c8c7>:6: FutureWarning: The frame.append method is deprecated and will be removed from pandas in a future version. Use pandas.concat instead.\n",
            "  actos = actos.append(get_actos(ea), ignore_index=True)\n",
            "<ipython-input-28-8d285d41c8c7>:6: FutureWarning: The frame.append method is deprecated and will be removed from pandas in a future version. Use pandas.concat instead.\n",
            "  actos = actos.append(get_actos(ea), ignore_index=True)\n",
            "<ipython-input-28-8d285d41c8c7>:6: FutureWarning: The frame.append method is deprecated and will be removed from pandas in a future version. Use pandas.concat instead.\n",
            "  actos = actos.append(get_actos(ea), ignore_index=True)\n",
            "<ipython-input-28-8d285d41c8c7>:6: FutureWarning: The frame.append method is deprecated and will be removed from pandas in a future version. Use pandas.concat instead.\n",
            "  actos = actos.append(get_actos(ea), ignore_index=True)\n",
            "<ipython-input-28-8d285d41c8c7>:6: FutureWarning: The frame.append method is deprecated and will be removed from pandas in a future version. Use pandas.concat instead.\n",
            "  actos = actos.append(get_actos(ea), ignore_index=True)\n",
            "<ipython-input-28-8d285d41c8c7>:6: FutureWarning: The frame.append method is deprecated and will be removed from pandas in a future version. Use pandas.concat instead.\n",
            "  actos = actos.append(get_actos(ea), ignore_index=True)\n"
          ]
        }
      ]
    },
    {
      "cell_type": "markdown",
      "source": [
        "Copia los ficheros sin código EA\n"
      ],
      "metadata": {
        "id": "jAbM4oBqSlKe"
      }
    },
    {
      "cell_type": "code",
      "source": [
        "#Obtiene la lista de actos sin código EA\n",
        "actos_list_none = df_goldStandardTrainingEAs.query(\"TieneEA_EA1 == 'NONE'\").head(100)\n",
        "#Obtiene la lista de ficheros de los actos sin código EA\n",
        "actos_file_list = get_actos_file_list(actos_list_none)\n",
        "#Copia los ficheros a las rutas tiny\n",
        "#copy_files(actos_file_list)"
      ],
      "metadata": {
        "id": "5w0VkRzkSd1d"
      },
      "execution_count": null,
      "outputs": []
    },
    {
      "cell_type": "code",
      "source": [
        "actos_list = actos_list_none.append(actos_list_eas, ignore_index=True)\n",
        "actos_list.to_csv(tiny_GoldStandardTrainingEA_data_location, header=None, index=None, sep=' ', mode='a')"
      ],
      "metadata": {
        "colab": {
          "base_uri": "https://localhost:8080/"
        },
        "id": "0TYR_Q4VPi8F",
        "outputId": "40c420ea-3bc7-4120-fc0b-1613dba2691f"
      },
      "execution_count": null,
      "outputs": [
        {
          "output_type": "stream",
          "name": "stderr",
          "text": [
            "<ipython-input-33-5b7e4998eda8>:1: FutureWarning: The frame.append method is deprecated and will be removed from pandas in a future version. Use pandas.concat instead.\n",
            "  actos_list = actos_list_none.append(actos_list_eas, ignore_index=True)\n"
          ]
        }
      ]
    }
  ]
}